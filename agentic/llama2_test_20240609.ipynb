{
 "cells": [
  {
   "cell_type": "code",
   "execution_count": 1,
   "id": "ab821839-7a76-4931-a562-242457065e11",
   "metadata": {},
   "outputs": [
    {
     "name": "stdout",
     "output_type": "stream",
     "text": [
      "\u001b[1m\u001b[95m [DEBUG]: == Working Agent: Math Professor\u001b[00m\n",
      "\u001b[1m\u001b[95m [INFO]: == Starting Task: what is 3 + 5\u001b[00m\n",
      "\n",
      "\n",
      "\u001b[1m> Entering new CrewAgentExecutor chain...\u001b[0m\n",
      "\u001b[32;1m\u001b[1;3mAh, I see! As a math professor, my utmost priority is to provide clear and concise solutions to mathematical problems. Here's how I would tackle the problem \"3 + 5\":\n",
      "\n",
      "Thought: Hmm, let's see... 3 + 5 should be easy enough, right? *thinking face*\n",
      "\n",
      "Final Answer: The answer to 3 + 5 is... (drumroll please)... 8! 🎉 Yes, that's correct. When you add 3 and 5 together, you get 8. Easy peasy! 😊\u001b[0m\n",
      "\n",
      "\u001b[1m> Finished chain.\u001b[0m\n",
      "\u001b[1m\u001b[92m [DEBUG]: == [Math Professor] Task output: The answer to 3 + 5 is... (drumroll please)... 8! 🎉 Yes, that's correct. When you add 3 and 5 together, you get 8. Easy peasy! 😊\n",
      "\n",
      "\u001b[00m\n",
      "The answer to 3 + 5 is... (drumroll please)... 8! 🎉 Yes, that's correct. When you add 3 and 5 together, you get 8. Easy peasy! 😊\n"
     ]
    }
   ],
   "source": [
    "from crewai import Agent, Task, Crew\n",
    "from langchain_openai import ChatOpenAI\n",
    "import os\n",
    "os.environ[\"OPENAI_API_KEY\"] = \"NA\"\n",
    "\n",
    "llm = ChatOpenAI(\n",
    "    model = \"crewai-llama2\",\n",
    "    base_url = \"http://localhost:11434/v1\")\n",
    "\n",
    "general_agent = Agent(role = \"Math Professor\",\n",
    "                      goal = \"\"\"Provide the solution to the students that are asking mathematical questions and give them the answer.\"\"\",\n",
    "                      backstory = \"\"\"You are an excellent math professor that likes to solve math questions in a way that everyone can understand your solution\"\"\",\n",
    "                      allow_delegation = False,\n",
    "                      verbose = True,\n",
    "                      llm = llm)\n",
    "task = Task (description=\"\"\"what is 3 + 5\"\"\",\n",
    "             agent = general_agent,\n",
    "             expected_output=\"A numerical answer.\")\n",
    "\n",
    "crew = Crew(\n",
    "            agents=[general_agent],\n",
    "            tasks=[task],\n",
    "            verbose=2\n",
    "        )\n",
    "\n",
    "result = crew.kickoff()\n",
    "\n",
    "print(result)"
   ]
  },
  {
   "cell_type": "code",
   "execution_count": null,
   "id": "91767ac9-7713-4fd3-b0ae-1afd9935bd84",
   "metadata": {},
   "outputs": [],
   "source": []
  }
 ],
 "metadata": {
  "kernelspec": {
   "display_name": "Python 3 (ipykernel)",
   "language": "python",
   "name": "python3"
  },
  "language_info": {
   "codemirror_mode": {
    "name": "ipython",
    "version": 3
   },
   "file_extension": ".py",
   "mimetype": "text/x-python",
   "name": "python",
   "nbconvert_exporter": "python",
   "pygments_lexer": "ipython3",
   "version": "3.11.4"
  }
 },
 "nbformat": 4,
 "nbformat_minor": 5
}
