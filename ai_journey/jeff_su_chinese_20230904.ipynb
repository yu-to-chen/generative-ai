{
 "cells": [
  {
   "cell_type": "code",
   "execution_count": 9,
   "id": "14ab4cb5",
   "metadata": {},
   "outputs": [],
   "source": [
    "import os\n",
    "import openai\n",
    "from dotenv import load_dotenv, find_dotenv\n",
    "_ = load_dotenv(find_dotenv()) # read local .env file\n",
    "\n",
    "openai.api_key  = os.getenv('OPENAI_API_KEY')\n"
   ]
  },
  {
   "cell_type": "code",
   "execution_count": 10,
   "id": "f7c69fb7",
   "metadata": {},
   "outputs": [],
   "source": [
    "def get_completion(prompt, model=\"gpt-3.5-turbo\"):\n",
    "    messages = [{\"role\": \"user\", \"content\": prompt}]\n",
    "    response = openai.ChatCompletion.create(\n",
    "        model=model,\n",
    "        messages=messages,\n",
    "        temperature=0, # this is the degree of randomness of the model's output\n",
    "    )\n",
    "    return response.choices[0].message[\"content\"]\n",
    "\n",
    "def get_completion_from_messages(messages, model=\"gpt-3.5-turbo\", temperature=0):\n",
    "    response = openai.ChatCompletion.create(\n",
    "        model=model,\n",
    "        messages=messages,\n",
    "        temperature=temperature, # this is the degree of randomness of the model's output\n",
    "    )\n",
    "#     print(str(response.choices[0].message))\n",
    "    return response.choices[0].message[\"content\"]\n"
   ]
  },
  {
   "cell_type": "markdown",
   "id": "c4ac8095",
   "metadata": {},
   "source": [
    "# Context + Task"
   ]
  },
  {
   "cell_type": "code",
   "execution_count": 5,
   "id": "521a1b32",
   "metadata": {},
   "outputs": [
    {
     "name": "stdout",
     "output_type": "stream",
     "text": [
      "當然！以下是一個針對增加肌肉和提高體力的三個月訓練計劃：\n",
      "\n",
      "第一個月：\n",
      "1. 進行全身運動，包括深蹲、硬舉、平板推舉和引體向上，每個動作進行3組，每組12-15次。\n",
      "2. 每週進行三次有氧運動，例如慢跑、快走或游泳，每次30-45分鐘。\n",
      "3. 確保每天攝取足夠的蛋白質，這是肌肉恢復和增長的關鍵。\n",
      "\n",
      "第二個月：\n",
      "1. 增加訓練強度，進行更高重量和更少次數的重量訓練，例如每組8-10次。\n",
      "2. 增加每週有氧運動的時間和強度。\n",
      "3. 增加蛋白質攝取量，可以考慮補充蛋白粉。\n",
      "\n",
      "第三個月：\n",
      "1. 加入更多變化的訓練，例如跳箱、健身球運動或懸垂訓練，以挑戰肌肉。\n",
      "2. 增加訓練的次數，從每週三次增加到每週四次。\n",
      "3. 繼續調整蛋白質攝取量，確保肌肉的恢復和成長。\n",
      "\n",
      "每個月都要監測和記錄進展，並根據需要進行調整。此外，請記得配合適當的休息和均衡的飲食。訓練前可以諮詢專業教練的意見，以確保訓練計劃符合個人目標和能力。祝你在三個月後達到你的目標！\n"
     ]
    }
   ],
   "source": [
    "messages =  [  \n",
    "{'role':'system', 'content':'你是友善的聊天機器人。'},    \n",
    "{'role':'user', 'content':'我是一個70公斤的男性。請給我一個3個月的訓練計劃。'}  ]\n",
    "response = get_completion_from_messages(messages, temperature=1)\n",
    "print(response)\n"
   ]
  },
  {
   "cell_type": "markdown",
   "id": "30fb04e9",
   "metadata": {},
   "source": [
    "## Context\n",
    "- User background: 我是一個70公斤的男性\n",
    "- Sucess looks like this: 希望在接下來的3個月內增加5公斤的肌肉質量\n",
    "- Environment: 我每週只有時間去健身房兩次，每次1小時。\n"
   ]
  },
  {
   "cell_type": "markdown",
   "id": "a34f48d3",
   "metadata": {},
   "source": [
    "## Task\n",
    "- 請給我一個3個月的訓練計劃"
   ]
  },
  {
   "cell_type": "code",
   "execution_count": 6,
   "id": "e5693e95",
   "metadata": {},
   "outputs": [
    {
     "name": "stdout",
     "output_type": "stream",
     "text": [
      "當然！下面是一個可以幫助您在3個月內增加肌肉質量的訓練計劃：\n",
      "\n",
      "第1-4週：\n",
      "- 第一天：重量訓練（大重量、低重複次數，例如每組5-8次）\n",
      "  - 啞鈴深蹲：3組\n",
      "  - 啞鈴臥推：3組\n",
      "  - 啞鈴划船：3組\n",
      "  - 杠鈴臥推：3組\n",
      "- 第二天：有氧運動和核心訓練\n",
      "  - 跑步機上持續跑步30分鐘\n",
      "  - 仰臥起坐：3組\n",
      "  - 側平板支撐：3組\n",
      "\n",
      "第5-8週：\n",
      "- 第一天：重量訓練（較高重量、中等重複次數，例如每組8-10次）\n",
      "  - 杠鈴深蹲：4組\n",
      "  - 杠鈴臥推：4組\n",
      "  - 標準深蹲：4組\n",
      "  - 側舉：4組\n",
      "- 第二天：有氧運動和核心訓練\n",
      "  - 跑步機上持續跑步30分鐘（在第5週時增加速度和時間）\n",
      "  - 啞鈴俯身交叉碰膝：3組\n",
      "  - 仰臥起坐：3組\n",
      "  - 腹肌滾筒：3組\n",
      "\n",
      "第9-12週：\n",
      "- 第一天：重量訓練（較高重量、較高重複次數，例如每組10-12次）\n",
      "  - 標準深蹲：4組\n",
      "  - 標準臥推：4組\n",
      "  - 標準划船：4組\n",
      "  - 杠鈴肩推：4組\n",
      "- 第二天：有氧運動和核心訓練\n",
      "  - 跑步機上持續跑步35分鐘（在第9週時增加速度和時間）\n",
      "  - 木桿卷腹：3組\n",
      "  - PLANK（前平板支撐）：3組\n",
      "  \n",
      "值得注意的是，除了健身訓練，飲食也對於增加肌肉質量至關重要。確保您攝取足夠的蛋白質和營養，以支持肌肉的生長和修復。\n",
      "\n",
      "此外，請記得在每次訓練後給身體足夠的休息時間，並盡量保持每晚7-8小時的睡眠。這些因素將有助於達到您的目標。\n",
      "\n",
      "請注意，這僅是一個基本的訓練計劃建議。如果您有任何健康問題，建議您諮詢健身教練或醫生的建議，以制定最適合您的個人計劃。祝您成功！\n"
     ]
    }
   ],
   "source": [
    "messages =  [  \n",
    "{'role':'system', 'content':'你是友善的聊天機器人。'},    \n",
    "{'role':'user', 'content':'我是一個70公斤的男性，希望在接下來的3個月內增加5公斤的肌肉質量。我每週只有時間去健身房兩次，每次1小時。\\\n",
    "請給我一個3個月的訓練計劃。'}  ]\n",
    "response = get_completion_from_messages(messages, temperature=1)\n",
    "print(response)\n"
   ]
  },
  {
   "cell_type": "markdown",
   "id": "fadd51fc",
   "metadata": {},
   "source": [
    "# Exemplar\n",
    "- Task: 使用這個結構重寫這個子彈點: 我通過Y手段達成了X，從而導致了Z。\n",
    "- Exemplar: 例如：我通過教育護士新的協議，將醫院死亡率降低了10%，這意味著每年節省了200條人命。"
   ]
  },
  {
   "cell_type": "code",
   "execution_count": 7,
   "id": "40f67031",
   "metadata": {},
   "outputs": [
    {
     "name": "stdout",
     "output_type": "stream",
     "text": [
      "通過開發並實施品牌策略/市場研究，市場分析，我成功地提高了公眾和KOL對品牌及相關信息的認識。通過分析市內和市外的數據，我根據數據洞察力開發了市場策略。這項努力不僅使我擁有了指定的品牌組合，還能控制預算和定價計劃。這一切有助於提高公司的市場佔有率和利潤，從而增加了我們的業績。\n"
     ]
    }
   ],
   "source": [
    "messages =  [  \n",
    "{'role':'system', 'content':'你是友善的聊天機器人。'},    \n",
    "{'role':'user', 'content':'使用這個結構重寫這個子彈點: 我通過Y手段達成了X，從而導致了Z。\\\n",
    "例如：我通過教育護士新的協議，將醫院死亡率降低了10%，這意味著每年節省了200條人命。\\\n",
    "這是我現在的子彈點: \\\n",
    "- 開發並實施品牌策略 / 市場研究，市場分析 \\\n",
    "- 分析市內和市外的數據，根據數據洞察力開發市場策略 \\\n",
    "- 提高了公眾和KOL對品牌及相關信息的認識 \\\n",
    "- 擁有指定的品牌組合、控制預算和定價計劃'}  ]\n",
    "response = get_completion_from_messages(messages, temperature=1)\n",
    "print(response)\n"
   ]
  },
  {
   "cell_type": "markdown",
   "id": "82101288",
   "metadata": {},
   "source": [
    "# Put it all together\n",
    "- Persona: 您是Apple的資深產品行銷經理\n",
    "- Context: 剛剛與Tesla合作揭露了最新的Apple產品，即Apple汽車，並收到了12,000筆預訂，這比目標高出200%\n",
    "- Task: 寫\n",
    "- Format: 電子郵件\n",
    "- Exemplar: 該電子郵件應該包括一個tl;dr（太長，沒讀）部分，項目背景（為什麼這個產品誕生），業務結果部分（量化的業務指標），並以感謝產品和工程團隊的部分結尾\n",
    "- Tone: 請使用清晰簡潔的語言，以自信但友好的語氣撰寫"
   ]
  },
  {
   "cell_type": "code",
   "execution_count": 8,
   "id": "d6c6daaa",
   "metadata": {},
   "outputs": [
    {
     "name": "stdout",
     "output_type": "stream",
     "text": [
      "主題：Apple汽車預訂量超預期的正面消息分享\n",
      "\n",
      "親愛的Tim，\n",
      "\n",
      "我希望透過這封電子郵件與您分享一個非常正面的消息。我們剛剛揭露了我們最新的創新產品，Apple汽車，並且我們已經收到了一系列驚人的業務結果。\n",
      "\n",
      "tl;dr: Apple汽車預訂量超出預期，達到12,000筆，比目標高出200%。\n",
      "\n",
      "背景：\n",
      "這個產品誕生的目的是為了抓住快速發展的電動汽車市場，以及滿足消費者對於更可持續和智能交通解決方案的需求。我們深入了解了消費者行為和市場趨勢，並投入了大量時間和精力，在產品研發上加速創新。\n",
      "\n",
      "業務結果：\n",
      "我們的預訂數字遠遠超過了預期，目前已經突破了12,000筆。這意味著我們達到了預訂目標的200%，這絕對是個了不起的成就。另外，我們收到了來自不同國家和地區的預訂，這表明全球消費者對於Apple汽車的關注度非常高。\n",
      "\n",
      "感謝：\n",
      "我想藉此機會向我們傑出的產品和工程團隊表示衷心的感謝。他們不斷努力，以保持我們對創新的承諾。沒有他們的無私奉獻和專業鑽研，我們無法取得如此驚人的成就。\n",
      "\n",
      "Tim，這個正面的業務結果絕對值得我們為之驕傲。這也證明了我們的品牌在市場上的強大地位以及無窮的潛力。我們已經迎來了Apple汽車的成功，並期待將這個產品帶給全球消費者，為他們帶來卓越的出行體驗。\n",
      "\n",
      "謹代表整個團隊，感謝您的支持和信任。如果您需要進一步的資訊或有任何疑問，請隨時與我聯繫。\n",
      "\n",
      "祝健康快樂，\n",
      "\n",
      "[您的名字]\n"
     ]
    }
   ],
   "source": [
    "messages =  [  \n",
    "{'role':'system', 'content':'你是友善的聊天機器人。'},    \n",
    "{'role':'user', 'content':'您是Apple的資深產品行銷經理，並且您剛剛與Tesla合作揭露了最新的Apple產品，\\\n",
    "即Apple汽車，並收到了12,000筆預訂，這比目標高出200%。\\\n",
    "給您的老闆Tim Cookie寫一封分享這個正面消息的電子郵件。\\\n",
    "該電子郵件應該包括一個tl;dr（太長，沒讀）部分，項目背景（為什麼這個產品誕生），業務結果部分（量化的業務指標），\\\n",
    "並以感謝產品和工程團隊的部分結尾。\\\n",
    "請使用清晰簡潔的語言，以自信但友好的語氣撰寫。'}  ]\n",
    "response = get_completion_from_messages(messages, temperature=1)\n",
    "print(response)\n"
   ]
  },
  {
   "cell_type": "markdown",
   "id": "6b2ba058",
   "metadata": {},
   "source": [
    "# Put it all together, again.\n",
    "- Persona: 您是Amazon的高級市場營銷經理\n",
    "- Context: 剛剛推出了與Tiktok的最新市場營銷活動，並使您的ROMI（市場營銷投資回報）翻了一番，比目標高出100%\n",
    "- Task: 寫\n",
    "- Format: 電子郵件\n",
    "- Exemplar: 該電子郵件應該包括一個tl;dr（太長，沒讀）部分，項目背景（為什麼這個產品誕生），業務結果部分（量化的業務指標），並以感謝市場營銷和工程團隊的部分結束\n",
    "- Tone: 請使用清晰簡潔的語言，以自信但風趣的語氣撰寫"
   ]
  },
  {
   "cell_type": "code",
   "execution_count": 13,
   "id": "b031190a",
   "metadata": {},
   "outputs": [
    {
     "name": "stdout",
     "output_type": "stream",
     "text": [
      "Subject: Exciting News: Our Latest Marketing Campaign Triumph with TikTok! \n",
      "\n",
      "Dear Jeff Bezz,\n",
      "\n",
      "I hope this email finds you in good spirits and enjoying what promises to be another successful week here at Amazon. I am thrilled to share some absolutely wonderful news with you: our recent marketing campaign with TikTok has truly exceeded all expectations and delivered remarkable results. In fact, our ROMI soared to new heights, surpassing our target by an astounding 100%!\n",
      "\n",
      "TL;DR: Our latest marketing campaign on TikTok has blown all our expectations out of the water, with a 100% increase in ROMI. It's been a game-changer for our business, and the team deserves a huge round of applause!\n",
      "\n",
      "As you know, the world of marketing is constantly evolving, and it is essential for us to stay ahead of the curve. Recognizing the exponential growth and influence of TikTok, we saw an opportunity to leverage its immense user base and engage with a younger demographic that aligns perfectly with our target audience.\n",
      "\n",
      "The results have been nothing short of extraordinary. By strategically crafting viral campaigns and collaborating with top influencers, we gained unparalleled brand visibility and saw a substantial increase in customer engagement. Not only did our sales receive a significant boost, but we also witnessed a remarkable surge in brand recognition, attracting a whole new wave of loyal customers.\n",
      "\n",
      "Now, let me take a moment to highlight some of the quantifiable business metrics that demonstrate the phenomenal success of this campaign:\n",
      "\n",
      "1. Sales Revenue: Our campaign contributed to a remarkable sales increase of 35%, far surpassing our initial estimations.\n",
      "2. Customer Acquisition: The campaign played a pivotal role in acquiring an additional 50,000 new customers, opening up a whole new market segment for us.\n",
      "3. Brand Awareness: Our TikTok presence resulted in a staggering 80% increase in brand recognition, as measured by reach and social media impressions.\n",
      "\n",
      "I cannot emphasize enough how instrumental the efforts of both our dedicated marketing and engineering teams were in making this campaign such a resounding success. Their innovative ideas, meticulous planning, and relentless execution brought about results that exceeded our wildest dreams. Please extend my sincerest gratitude to everyone involved, as they truly deserve a round of applause for their hard work, creativity, and determination.\n",
      "\n",
      "Now, we have laid a solid foundation with TikTok, and we can't wait to build upon this success with even more exciting and innovative marketing strategies in the future. The possibilities are endless, and I remain confident in our ability to continue pushing boundaries and reinventing the way we approach marketing.\n",
      "\n",
      "Thank you for your unwavering support and for fostering an environment that encourages innovation and bold thinking. It is an honor to be part of a company that is not afraid to take risks and embrace change.\n",
      "\n",
      "Looking forward to discussing this triumph in more detail during our next meeting.\n",
      "\n",
      "Warm regards,\n",
      "\n",
      "[Your Name]\n",
      "Senior Marketing Manager\n"
     ]
    }
   ],
   "source": [
    "messages =  [  \n",
    "{'role':'system', 'content':'你是友善的聊天機器人。'},    \n",
    "{'role':'user', 'content':'您是Amazon的高級市場營銷經理，您剛剛推出了與Tiktok的最新市場營銷活動，\\\n",
    "並使您的ROMI（市場營銷投資回報）翻了一番，比目標高出100%。\\\n",
    "請給您的老闆Jeff Bezz寫一封電子郵件，分享這一好消息。\\\n",
    "該電子郵件應包括一個tl;dr（太長，沒有閱讀）部分，市場背景（為什麼這次活動誕生），\\\n",
    "業務結果部分（可量化的業務指標），並以感謝市場營銷和工程團隊的部分結束。\\\n",
    "使用清晰簡潔的語言，並以自信但風趣的語氣寫作。' }  ]\n",
    "response = get_completion_from_messages(messages, temperature=1)\n",
    "print(response)\n"
   ]
  },
  {
   "cell_type": "code",
   "execution_count": null,
   "id": "275605c2",
   "metadata": {},
   "outputs": [],
   "source": []
  }
 ],
 "metadata": {
  "kernelspec": {
   "display_name": "Python 3 (ipykernel)",
   "language": "python",
   "name": "python3"
  },
  "language_info": {
   "codemirror_mode": {
    "name": "ipython",
    "version": 3
   },
   "file_extension": ".py",
   "mimetype": "text/x-python",
   "name": "python",
   "nbconvert_exporter": "python",
   "pygments_lexer": "ipython3",
   "version": "3.9.6"
  }
 },
 "nbformat": 4,
 "nbformat_minor": 5
}
