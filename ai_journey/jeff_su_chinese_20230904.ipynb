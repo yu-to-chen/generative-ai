{
 "cells": [
  {
   "cell_type": "code",
   "execution_count": 1,
   "id": "14ab4cb5",
   "metadata": {},
   "outputs": [],
   "source": [
    "import os\n",
    "import openai\n",
    "from dotenv import load_dotenv, find_dotenv\n",
    "_ = load_dotenv(find_dotenv()) # read local .env file\n",
    "\n",
    "openai.api_key  = os.getenv('OPENAI_API_KEY')\n"
   ]
  },
  {
   "cell_type": "code",
   "execution_count": 2,
   "id": "f7c69fb7",
   "metadata": {},
   "outputs": [],
   "source": [
    "def get_completion(prompt, model=\"gpt-3.5-turbo\"):\n",
    "    messages = [{\"role\": \"user\", \"content\": prompt}]\n",
    "    response = openai.ChatCompletion.create(\n",
    "        model=model,\n",
    "        messages=messages,\n",
    "        temperature=0, # this is the degree of randomness of the model's output\n",
    "    )\n",
    "    return response.choices[0].message[\"content\"]\n",
    "\n",
    "def get_completion_from_messages(messages, model=\"gpt-3.5-turbo\", temperature=0):\n",
    "    response = openai.ChatCompletion.create(\n",
    "        model=model,\n",
    "        messages=messages,\n",
    "        temperature=temperature, # this is the degree of randomness of the model's output\n",
    "    )\n",
    "#     print(str(response.choices[0].message))\n",
    "    return response.choices[0].message[\"content\"]\n"
   ]
  },
  {
   "cell_type": "markdown",
   "id": "c4ac8095",
   "metadata": {},
   "source": [
    "# Context + Task"
   ]
  },
  {
   "cell_type": "code",
   "execution_count": 3,
   "id": "521a1b32",
   "metadata": {},
   "outputs": [
    {
     "name": "stdout",
     "output_type": "stream",
     "text": [
      "當然，我很樂意為您提供一個3個月的訓練計劃。請注意以下訓練計劃僅供參考，在開始任何新的運動計劃之前，請向您的醫生或專業的健身教練咨詢。\n",
      "\n",
      "第1周至第4周：\n",
      "1. 每周進行至少3-4次的有氧運動，如快走、跑步、游泳或騎自行車。每次運動持續30-45分鐘。\n",
      "2. 進行全身力量訓練，包括深蹲、平板推舉、俯臥撐、引體向上等。每周進行2-3次訓練，每次訓練2-3組，每組8-12次。\n",
      "3. 加入核心訓練，包括平板支撐、仰臥起坐和腹肌訓練。每周進行2-3次，每次15-20分鐘。\n",
      "\n",
      "第5周至第8周：\n",
      "1. 增加有氧運動時間，每次至少45-60分鐘，每周進行4-5次。\n",
      "2. 增加力量訓練的負荷，增加組數或重量，以提高強度。每周進行3-4次訓練，每次訓練2-3組，每組6-10次。\n",
      "3. 多做一些核心訓練，如側棹船、翹臀等。每周進行3-4次，每次15-20分鐘。\n",
      "\n",
      "第9周至第12周：\n",
      "1. 繼續增加有氧運動時間和強度，每次60分鐘以上，每周進行5次以上。\n",
      "2. 在力量訓練中挑戰自己，增加負荷或進行更高強度的訓練，例如集中訓練或超級組。每周進行4次訓練，每次訓練3-4組，每組6-8次。\n",
      "3. 專注於核心肌肉的訓練，並進行進階的核心訓練，如腹肌滾輪、木船等。每周進行4次，每次20-30分鐘。\n",
      "\n",
      "請記住，這僅是一個基本的訓練計劃，您可以根據自己的情況進行修改。同時，合理的飲食和充足的休息也非常重要來達到健康的身體。祝您訓練順利！\n"
     ]
    }
   ],
   "source": [
    "messages =  [  \n",
    "{'role':'system', 'content':'你是友善的聊天機器人。'},    \n",
    "{'role':'user', 'content':'我是一個70公斤的男性。請給我一個3個月的訓練計劃。'}  ]\n",
    "response = get_completion_from_messages(messages, temperature=1)\n",
    "print(response)\n"
   ]
  },
  {
   "cell_type": "markdown",
   "id": "30fb04e9",
   "metadata": {},
   "source": [
    "## Context\n",
    "- User background: 我是一個70公斤的男性\n",
    "- Sucess looks like this: 希望在接下來的3個月內增加5公斤的肌肉質量\n",
    "- Environment: 我每週只有時間去健身房兩次，每次1小時。\n"
   ]
  },
  {
   "cell_type": "markdown",
   "id": "a34f48d3",
   "metadata": {},
   "source": [
    "## Task\n",
    "- 請給我一個3個月的訓練計劃"
   ]
  },
  {
   "cell_type": "code",
   "execution_count": 4,
   "id": "e5693e95",
   "metadata": {},
   "outputs": [
    {
     "name": "stdout",
     "output_type": "stream",
     "text": [
      "首先，感謝你的健身目標！增加肌肉質量需要結合適當的訓練和飲食計劃。以下是一個3個月的健身計劃，每週只需要兩次1小時的訓練。\n",
      "\n",
      "第一個月：\n",
      "\n",
      "星期一（訓練日1）：\n",
      "- 20分鐘的熱身運動，如跑步或跳繩\n",
      "- 腿部訓練：深蹲和腿推臀推，每個動作做3組，每組8-12次\n",
      "- 胸部訓練：杠鈴卧推和啞鈴飛鳥，每個動作做3組，每組8-12次\n",
      "- 肱二頭肌訓練：彎舉，每組3組，每組8-12次\n",
      "- 腹肌訓練：仰臥起坐，每組3組，每組10-15次\n",
      "\n",
      "星期四（訓練日2）：\n",
      "- 20分鐘的熱身運動，如跑步或跳繩\n",
      "- 背部訓練：硬舉和寬握引體向上，每個動作做3組，每組8-12次\n",
      "- 肩部訓練：推舉和側平舉，每個動作做3組，每組8-12次\n",
      "- 肱三頭肌訓練：三頭彎舉，每組3組，每組8-12次\n",
      "- 腹肌訓練：仰臥起坐，每組3組，每組10-15次\n",
      "\n",
      "第二個月：\n",
      "\n",
      "運動組合和組數保持不變，調整重量以提高難度。當你可以輕鬆完成每組12次時，增加重量。\n",
      "\n",
      "第三個月：\n",
      "\n",
      "在第三個月，你可以引入一些新的訓練方法，如超級組或巨量組，以更好地挑戰你的肌肉。\n",
      "\n",
      "另外，要注意飲食方面。在增加肌肉質量的過程中，確保每日攝取足夠的蛋白質（約1.6-2.2克/公斤體重），並保持均衡的飲食。\n",
      "\n",
      "最後，睡眠和休息也至關重要，給你的肌肉充分的恢復時間。\n",
      "\n",
      "記住，每個人的身體狀況和進步速度都不同，所以這只是一個一般的指南。如果你有任何健康問題，最好先咨詢醫生或專業教練的意見。祝你成功達到目標！\n"
     ]
    }
   ],
   "source": [
    "messages =  [  \n",
    "{'role':'system', 'content':'你是友善的聊天機器人。'},    \n",
    "{'role':'user', 'content':'我是一個70公斤的男性，希望在接下來的3個月內增加5公斤的肌肉質量。我每週只有時間去健身房兩次，每次1小時。\\\n",
    "請給我一個3個月的訓練計劃。'}  ]\n",
    "response = get_completion_from_messages(messages, temperature=1)\n",
    "print(response)\n"
   ]
  },
  {
   "cell_type": "markdown",
   "id": "fadd51fc",
   "metadata": {},
   "source": [
    "# Exemplar\n",
    "- Task: 使用這個結構重寫這個子彈點: 我通過Y手段達成了X，從而導致了Z。\n",
    "- Exemplar: 例如：我通過教育護士新的協議，將醫院死亡率降低了10%，這意味著每年節省了200條人命。"
   ]
  },
  {
   "cell_type": "code",
   "execution_count": 5,
   "id": "40f67031",
   "metadata": {},
   "outputs": [
    {
     "name": "stdout",
     "output_type": "stream",
     "text": [
      "通過開發並實施品牌策略/市場研究、市場分析以及分析市內和市外的數據，我們能夠根據數據洞察力制定市場策略，這將提高公眾和KOL對我們品牌及相關信息的認識。同時，我們將擁有指定的品牌組合，控制預算和定價計劃，這將為我們帶來顯著的效益。\n"
     ]
    }
   ],
   "source": [
    "messages =  [  \n",
    "{'role':'system', 'content':'你是友善的聊天機器人。'},    \n",
    "{'role':'user', 'content':'使用這個結構重寫這個子彈點: 我通過Y手段達成了X，從而導致了Z。\\\n",
    "例如：我通過教育護士新的協議，將醫院死亡率降低了10%，這意味著每年節省了200條人命。\\\n",
    "這是我現在的子彈點: \\\n",
    "- 開發並實施品牌策略 / 市場研究，市場分析 \\\n",
    "- 分析市內和市外的數據，根據數據洞察力開發市場策略 \\\n",
    "- 提高了公眾和KOL對品牌及相關信息的認識 \\\n",
    "- 擁有指定的品牌組合、控制預算和定價計劃'}  ]\n",
    "response = get_completion_from_messages(messages, temperature=1)\n",
    "print(response)\n"
   ]
  },
  {
   "cell_type": "markdown",
   "id": "82101288",
   "metadata": {},
   "source": [
    "# Put it all together\n",
    "- Persona: 您是Apple的資深產品行銷經理\n",
    "- Context: 剛剛與Tesla合作揭露了最新的Apple產品，即Apple汽車，並收到了12,000筆預訂，這比目標高出200%\n",
    "- Task: 寫\n",
    "- Format: 電子郵件\n",
    "- Exemplar: 該電子郵件應該包括一個tl;dr（太長，沒讀）部分，項目背景（為什麼這個產品誕生），業務結果部分（量化的業務指標），並以感謝產品和工程團隊的部分結尾\n",
    "- Tone: 請使用清晰簡潔的語言，以自信但友好的語氣撰寫"
   ]
  },
  {
   "cell_type": "code",
   "execution_count": 7,
   "id": "d6c6daaa",
   "metadata": {},
   "outputs": [
    {
     "name": "stdout",
     "output_type": "stream",
     "text": [
      "主旨：Apple汽車推出取得巨大成功\n",
      "\n",
      "親愛的Tim，\n",
      "\n",
      "我希望透過這封電子郵件與您分享一個令人振奮的消息，Apple汽車的推出取得了巨大的成功。以下是關於這個好消息的摘要：\n",
      "\n",
      "tl;dr：Apple汽車的推出取得了超出預期的市場回應，目前已經收到12,000筆預訂，比我們原先訂下的目標高出200%。\n",
      "\n",
      "背景：我們深入瞭解到消費者對於可持續交通工具的需求正不斷增加，且市場上現有產品仍然存在一些綜合問題。因此，我們跟Tesla合作共同開發了Apple汽車，這是一款集創新科技、設計和可持續性於一體的先進產品。\n",
      "\n",
      "業務結果：我們非常高興地宣布，在Apple汽車推出前，已經有超過12,000個消費者進行了預訂。這一數字遠遠超出我們最初制定的目標，並且超出了目前市場上任何其他競爭對手。\n",
      "\n",
      "感謝團隊：我們衷心感謝所有參與到Apple汽車項目中的工程和產品團隊。他們通過不斷的努力、創新思維和技術專長，讓這款產品成為可能。我們的團隊在短短幾個月內實現了極高的速度和卓越的品質，這真是非常令人驚訝。\n",
      "\n",
      "我希望這個消息能進一步強化我們對於Apple汽車的信心，並且驅使我們繼續努力提供優質產品和服務。這也證明了我們公司的創新力量和市場的潛力。\n",
      "\n",
      "感謝您一直以來對我們團隊的支持和信任。如果您有任何進一步的問題或需要更多的資訊，請隨時告訴我。\n",
      "\n",
      "再次感謝您的時間和支持！\n",
      "\n",
      "真誠的，\n",
      "[您的名字]\n"
     ]
    }
   ],
   "source": [
    "messages =  [  \n",
    "{'role':'system', 'content':'你是友善的聊天機器人。'},    \n",
    "{'role':'user', 'content':'您是Apple的資深產品行銷經理，並且您剛剛與Tesla合作揭露了最新的Apple產品，\\\n",
    "即Apple汽車，並收到了12,000筆預訂，這比目標高出200%。\\\n",
    "給您的老闆Tim Cookie寫一封分享這個正面消息的電子郵件。\\\n",
    "該電子郵件應該包括一個tl;dr（太長，沒讀）部分，項目背景（為什麼這個產品誕生），業務結果部分（量化的業務指標），\\\n",
    "並以感謝產品和工程團隊的部分結尾。\\\n",
    "請使用清晰簡潔的語言，以自信但友好的語氣撰寫。'}  ]\n",
    "response = get_completion_from_messages(messages, temperature=1)\n",
    "print(response)\n"
   ]
  },
  {
   "cell_type": "code",
   "execution_count": null,
   "id": "201f72b1",
   "metadata": {},
   "outputs": [],
   "source": []
  }
 ],
 "metadata": {
  "kernelspec": {
   "display_name": "Python 3 (ipykernel)",
   "language": "python",
   "name": "python3"
  },
  "language_info": {
   "codemirror_mode": {
    "name": "ipython",
    "version": 3
   },
   "file_extension": ".py",
   "mimetype": "text/x-python",
   "name": "python",
   "nbconvert_exporter": "python",
   "pygments_lexer": "ipython3",
   "version": "3.9.6"
  }
 },
 "nbformat": 4,
 "nbformat_minor": 5
}
