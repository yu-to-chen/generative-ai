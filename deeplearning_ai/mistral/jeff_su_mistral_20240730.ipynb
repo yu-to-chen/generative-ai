{
 "cells": [
  {
   "cell_type": "code",
   "execution_count": 2,
   "id": "14ab4cb5",
   "metadata": {},
   "outputs": [],
   "source": [
    "\"\"\"\n",
    "import os\n",
    "import openai\n",
    "from dotenv import load_dotenv, find_dotenv\n",
    "_ = load_dotenv(find_dotenv()) # read local .env file\n",
    "\n",
    "openai.api_key  = os.getenv('OPENAI_API_KEY')\n",
    "\"\"\"\n",
    "\n",
    "import os\n",
    "from helper import load_mistral_api_key\n",
    "from mistralai.client import MistralClient\n",
    "from mistralai.models.chat_completion import ChatMessage"
   ]
  },
  {
   "cell_type": "code",
   "execution_count": 4,
   "id": "f7c69fb7",
   "metadata": {},
   "outputs": [],
   "source": [
    "\"\"\"\n",
    "def get_completion(prompt, model=\"gpt-3.5-turbo\"):\n",
    "    messages = [{\"role\": \"user\", \"content\": prompt}]\n",
    "    response = openai.ChatCompletion.create(\n",
    "        model=model,\n",
    "        messages=messages,\n",
    "        temperature=0, # this is the degree of randomness of the model's output\n",
    "    )\n",
    "    return response.choices[0].message[\"content\"]\n",
    "\n",
    "def get_completion_from_messages(messages, model=\"gpt-3.5-turbo\", temperature=0):\n",
    "    response = openai.ChatCompletion.create(\n",
    "        model=model,\n",
    "        messages=messages,\n",
    "        temperature=temperature, # this is the degree of randomness of the model's output\n",
    "    )\n",
    "#     print(str(response.choices[0].message))\n",
    "    return response.choices[0].message[\"content\"]\n",
    "\"\"\"\n",
    "\n",
    "def mistral(user_message, \n",
    "            model=\"mistral-medium-latest\",\n",
    "            is_json=False):\n",
    "    client = MistralClient(api_key=os.getenv(\"MISTRAL_API_KEY\"))\n",
    "    messages = [ChatMessage(role=\"user\", content=user_message)]\n",
    "\n",
    "    if is_json:\n",
    "        chat_response = client.chat(\n",
    "            model=model, \n",
    "            messages=messages,\n",
    "            response_format={\"type\": \"json_object\"})\n",
    "    else:\n",
    "        chat_response = client.chat(\n",
    "            model=model, \n",
    "            messages=messages)\n",
    "        \n",
    "    return chat_response.choices[0].message.content\n",
    "\n",
    "def mistral_from_messages(messages, \n",
    "            model=\"mistral-large-latest\",\n",
    "            temperature=0.0,\n",
    "            is_json=False):\n",
    "    client = MistralClient(api_key=os.getenv(\"MISTRAL_API_KEY\"))\n",
    "\n",
    "    if is_json:\n",
    "        chat_response = client.chat(\n",
    "            model=model, \n",
    "            messages=messages,\n",
    "            temperature=temperature,\n",
    "            response_format={\"type\": \"json_object\"})\n",
    "    else:\n",
    "        chat_response = client.chat(\n",
    "            model=model, \n",
    "            temperature=temperature,\n",
    "            messages=messages)\n",
    "        \n",
    "    return chat_response.choices[0].message.content"
   ]
  },
  {
   "cell_type": "markdown",
   "id": "c4ac8095",
   "metadata": {},
   "source": [
    "# Context + Task"
   ]
  },
  {
   "cell_type": "code",
   "execution_count": 5,
   "id": "521a1b32",
   "metadata": {},
   "outputs": [
    {
     "name": "stdout",
     "output_type": "stream",
     "text": [
      "Sure, here is a general 3-month training program for a 70kg male. Please keep in mind that this program is just a guideline and may need to be adjusted based on your fitness level, goals, and any medical conditions you may have.\n",
      "\n",
      "**Month 1:**\n",
      "\n",
      "* Cardio: 30-40 minutes of moderate-intensity cardio, 3-4 times per week (e.g., brisk walking, jogging, cycling, swimming)\n",
      "* Strength training: Full-body strength training, 2-3 times per week. Focus on compound exercises such as squats, deadlifts, bench press, and overhead press. Aim for 3 sets of 12-15 reps per exercise.\n",
      "* Flexibility: Stretch for 10-15 minutes after each workout to improve flexibility and prevent injury.\n",
      "\n",
      "**Month 2:**\n",
      "\n",
      "* Cardio: Increase the intensity and duration of your cardio workouts. Aim for 40-50 minutes of moderate to high-intensity cardio, 3-4 times per week. (e.g., running, cycling, swimming)\n",
      "* Strength training: Continue with full-body strength training, 3 times per week, but increase the weight and decrease the reps. Aim for 3 sets of 8-12 reps per exercise.\n",
      "* Flexibility: Continue with post-workout stretching.\n",
      "\n",
      "**Month 3:**\n",
      "\n",
      "* Cardio: Incorporate high-intensity interval training (HIIT) into your cardio routine, 2-3 times per week. (e.g., 30 seconds of sprinting followed by 1 minute of walking, repeated for 20-30 minutes)\n",
      "* Strength training: Adjust your strength training to focus on upper body one day and lower body the next, allowing for more exercise variety and recovery time. Aim for 4 sets of 6-8 reps per exercise.\n",
      "* Flexibility: Continue with post-workout stretching, and consider incorporating yoga or mobility exercises into your routine for additional flexibility benefits.\n",
      "\n",
      "Additionally, it's essential to maintain a healthy diet, including plenty of lean protein, fruits, vegetables, and whole grains to support muscle growth and recovery. Rest and recovery are also crucial, so make sure you're getting enough sleep and taking rest days when needed. Good luck with your training program!\n"
     ]
    }
   ],
   "source": [
    "messages =  [\n",
    "{'role':'system', 'content':'You are friendly chatbot.'},\n",
    "{'role':'user', 'content':'I am a 70kg male, give me a 3-month training program.'}  ]\n",
    "\n",
    "#response = get_completion_from_messages(messages, temperature=1)\n",
    "response = mistral_from_messages(messages, temperature=1)\n",
    "print(response)"
   ]
  },
  {
   "cell_type": "markdown",
   "id": "30fb04e9",
   "metadata": {},
   "source": [
    "## Context\n",
    "- User background: 我是一個70公斤的男性\n",
    "- Sucess looks like this: 希望在接下來的3個月內增加5公斤的肌肉質量\n",
    "- Environment: 我每週只有時間去健身房兩次，每次1小時。\n"
   ]
  },
  {
   "cell_type": "markdown",
   "id": "a34f48d3",
   "metadata": {},
   "source": [
    "## Task\n",
    "- 請給我一個3個月的訓練計劃"
   ]
  },
  {
   "cell_type": "code",
   "execution_count": 7,
   "id": "e5693e95",
   "metadata": {},
   "outputs": [
    {
     "name": "stdout",
     "output_type": "stream",
     "text": [
      "Here's a 3-month training program to help you gain 5 kg of muscle mass while only going to the gym twice a week for 1 hour each session:\n",
      "\n",
      "Month 1: Foundation and Strength\n",
      "Focus on compound movements and lifting heavier weights to build a strong foundation.\n",
      "\n",
      "Day 1:\n",
      "1. Barbell Squats: 4 sets x 8-12 reps\n",
      "2. Bench Press: 4 sets x 8-12 reps\n",
      "3. Bent-over Rows: 3 sets x 12 reps\n",
      "4. Standing Dumbbell Shoulder Press: 3 sets x 12 reps\n",
      "5. Bicep Curls: 3 sets x 12 reps\n",
      "6. Tricep Pushdowns: 3 sets x 12 reps\n",
      "\n",
      "Day 2:\n",
      "1. Deadlifts: 4 sets x 8-12 reps\n",
      "2. Pull-ups or Assisted Pull-ups: 4 sets x 10 reps\n",
      "3. Barbell Rows: 3 sets x 12 reps\n",
      "4. Dumbbell Lunges: 3 sets x 12 reps per leg\n",
      "5. Dumbbell Hammer Curls: 3 sets x 12 reps\n",
      "6. Skull Crushers: 3 sets x 12 reps\n",
      "\n",
      "Month 2: Hypertrophy Focus\n",
      "Increase volume to stimulate muscle growth.\n",
      "\n",
      "Day 1:\n",
      "1. Barbell Squats: 5 sets x 10 reps\n",
      "2. Incline Bench Press: 4 sets x 12 reps\n",
      "3. Leg Press or Dumbbell Lunges: 3 sets x 12 reps\n",
      "4. Seated Cable Rows: 4 sets x 15 reps\n",
      "5. Lateral Raises: 3 sets x 15 reps\n",
      "6. Preacher Curls: 3 sets x 12 reps\n",
      "7. Overhead Tricep Extension: 3 sets x 15 reps\n",
      "\n",
      "Day 2:\n",
      "1. Deadlifts: 5 sets x 10 reps\n",
      "2. Pull-ups or Assisted Pull-ups: 4 sets x 10 reps\n",
      "3. Dumbbell Bench Press: 3 sets x 12 reps\n",
      "4. Dumbbell Romanian Deadlifts: 3 sets x 12 reps\n",
      "5. Close-Grip Bench Press: 4 sets x 15 reps\n",
      "6. Barbell Curls: 3 sets x 12 reps\n",
      "7. Tricep Dips: 3 sets x 15 reps\n",
      "\n",
      "Month 3: Intensity and Progressive Overload\n",
      "Push your limits to maximize muscle growth.\n",
      "\n",
      "Day 1:\n",
      "1. Barbell Squats: 6 sets x 6-8 reps, gradually increasing weight\n",
      "2. Bench Press: 5 sets x 8-10 reps, gradually increasing weight\n",
      "3. Leg Press or Dumbbell Lunges: 3 sets x 12-15 reps\n",
      "4. Seated Cable Rows: 4 sets x 10-12 reps, gradually increasing weight\n",
      "5. Calf Raises: 4 sets x 12-15 reps\n",
      "6. Hammer Curls: 3 sets x 12 reps\n",
      "7. Tricep Pushdowns: 3 sets x 15 reps\n",
      "\n",
      "Day 2:\n",
      "1. Deadlifts: 6 sets x 6-8 reps, gradually increasing weight\n",
      "2. Pull-ups or Assisted Pull-ups: 5 sets x 8-10 reps\n",
      "3. Dumbbell Bench Press: 3 sets x 12 reps\n",
      "4. Dumbbell Romanian Deadlifts: 3 sets x 12-15 reps\n",
      "5. Close-Grip Bench Press: 4 sets x 10-12 reps, gradually increasing weight\n",
      "6. Concentration Curls: 3 sets x 12 reps\n",
      "7. Tricep Kickbacks: 3 sets x 15 reps\n",
      "\n",
      "Remember to include a proper warm-up before starting your workouts and a cool-down after finishing them. Also, make sure to consume adequate protein and overall calories to support muscle growth. Aim for at least 1.6 to 2.2 grams of protein per kilogram of body weight daily. It's essential to be consistent with both your workouts and nutrition to see the best results.\n"
     ]
    }
   ],
   "source": [
    "messages =  [  \n",
    "{'role':'system', 'content':'You are friendly chatbot.'},\n",
    "{'role':'user', 'content':'I am a 70kg male looking to put on 5 kg of muscle mass \\\n",
    "over the next 3 months. \\\n",
    "I only have time to go to the gym twice a week, and for 1 hour each session. \\\n",
    "Give me a 3-month traning program to follow.'}  ]\n",
    "\n",
    "#response = get_completion_from_messages(messages, temperature=1)\n",
    "response = mistral_from_messages(messages, temperature=1)\n",
    "print(response)"
   ]
  },
  {
   "cell_type": "markdown",
   "id": "fadd51fc",
   "metadata": {},
   "source": [
    "# Exemplar\n",
    "- Task: 使用這個結構重寫這個子彈點: 我通過Y手段達成了X，從而導致了Z。\n",
    "- Exemplar: 例如：我通過教育護士新的協議，將醫院死亡率降低了10%，這意味著每年節省了200條人命。"
   ]
  },
  {
   "cell_type": "code",
   "execution_count": 8,
   "id": "4b503a81",
   "metadata": {},
   "outputs": [
    {
     "name": "stdout",
     "output_type": "stream",
     "text": [
      "I developed and implemented a brand strategy by conducting market research and analysis, which resulted in a more targeted marketing approach. By analyzing both in-market and out-market data, I was able to raise public and key opinion leader (KOL) awareness of the brand by 25%. As the owner of the assigned brand portfolio, I successfully controlled the budget and pricing plan, resulting in a 15% increase in sales.\n"
     ]
    }
   ],
   "source": [
    "messages =  [  \n",
    "{'role':'system', 'content':'You are friendly chatbot.'},\n",
    "{'role':'user', 'content':'Re-write this bullet point using this structure: \\\n",
    "\"I accomplished X by the measure Y that resulted in Z\" \\\n",
    "For example: \"I lowered hospital mortality rate by 10% by educating nurses \\\n",
    "in new protocols which translates to 200 lives saved per year\" \\\n",
    "Here iss the bullet point I have now: \\\n",
    "- Brand strategy developed and implements/ Market research, market analysis \\\n",
    "- Analysis the data by in market and out market, \\\n",
    "developed the marketing strategy by data insight \\\n",
    "- Raised public and KOL awareness of the brand and the related information \\\n",
    "- Owned brand assigned portfolio, budget controlled, and pricing plan.'}]\n",
    "\n",
    "#response = get_completion_from_messages(messages, temperature=1)\n",
    "response = mistral_from_messages(messages, temperature=1)\n",
    "print(response)"
   ]
  },
  {
   "cell_type": "markdown",
   "id": "82101288",
   "metadata": {},
   "source": [
    "# Put it all together\n",
    "- Persona: 您是Apple的資深產品行銷經理\n",
    "- Context: 剛剛與Tesla合作揭露了最新的Apple產品，即Apple汽車，並收到了12,000筆預訂，這比目標高出200%\n",
    "- Task: 寫\n",
    "- Format: 電子郵件\n",
    "- Exemplar: 該電子郵件應該包括一個tl;dr（太長，沒讀）部分，項目背景（為什麼這個產品誕生），業務結果部分（量化的業務指標），並以感謝產品和工程團隊的部分結尾\n",
    "- Tone: 請使用清晰簡潔的語言，以自信但友好的語氣撰寫"
   ]
  },
  {
   "cell_type": "code",
   "execution_count": 9,
   "id": "2c3e6fed",
   "metadata": {},
   "outputs": [
    {
     "name": "stdout",
     "output_type": "stream",
     "text": [
      "Subject: Record-Breaking Pre-Orders for the Apple Car - 200% Above Target!\n",
      "\n",
      "Hi Tim,\n",
      "\n",
      "tl;dr:\n",
      "We've just received an incredible 12,000 pre-orders for the Apple Car, a collaboration with Tesla, which is 200% higher than our target!\n",
      "\n",
      "Project Background:\n",
      "Our vision for the Apple Car began as a response to the growing demand for eco-friendly and technologically advanced transportation. Given the success of both Apple and Tesla in their respective markets, we saw an opportunity to create a product that combines the best of both worlds - sleek design, cutting-edge tech, and sustainability.\n",
      "\n",
      "Business Results:\n",
      "The response has been overwhelming! We've received 12,000 pre-orders for the Apple Car, far exceeding our initial target of 4,000. This translates to potential revenue of approximately $600 million, based on the starting price of $50,000 per car. Plus, the buzz around the product has increased our brand value and market share in the automotive industry.\n",
      "\n",
      "A big thank you to our brilliant product and engineering teams! Your dedication, innovation, and hard work have not only led to the successful development of the Apple Car but have also contributed to its impressive market reception. Your collaboration with the Tesla team has been seamless and fruitful, resulting in a truly exceptional product.\n",
      "\n",
      "Looking forward to breaking more records together!\n",
      "\n",
      "Best,\n",
      "[Your Name]\n",
      "Senior Product Marketing Manager, Apple\n"
     ]
    }
   ],
   "source": [
    "messages =  [  \n",
    "{'role':'system', 'content':'You are friendly chatbot.'},\n",
    "{'role':'user', 'content':'You are a senior product marketing manager at Apple \\\n",
    "and you have just unveiled the latest Apple product in collaboration with Tesla, \\\n",
    "the Apple car, and received 12,000 pre-orders, which is 200% higher than target. \\\n",
    "Write an email to your boss, Tim Cookie, sharing this positive news. \\\n",
    "The email should include a tl;dr (too long, did not read) section, \\\n",
    " project background (why this product came into existence), \\\n",
    " business results section (quantifiable business metrics), \\\n",
    " and end with a section thanking the product and engineering teams. \\\n",
    "Use clear and concise language and write in a confident yet friendly tone.'}]\n",
    "\n",
    "#response = get_completion_from_messages(messages, temperature=1)\n",
    "response = mistral_from_messages(messages, temperature=1)\n",
    "print(response)"
   ]
  },
  {
   "cell_type": "markdown",
   "id": "f14846e2",
   "metadata": {},
   "source": [
    "# Put it all together, again\n",
    "- Persona: 您是Amazon的高級市場營銷經理\n",
    "- Context: 剛剛推出了與Tiktok的最新市場營銷活動，並使您的ROMI（市場營銷投資回報）翻了一番，比目標高出100%\n",
    "- Task: 寫\n",
    "- Format: 電子郵件\n",
    "- Exemplar: 該電子郵件應該包括一個tl;dr（太長，沒讀）部分，項目背景（為什麼這個產品誕生），業務結果部分（量化的業務指標），並以感謝市場營銷和工程團隊的部分結束\n",
    "- Tone: 請使用清晰簡潔的語言，以自信但風趣的語氣撰寫"
   ]
  },
  {
   "cell_type": "code",
   "execution_count": 10,
   "id": "daa2468b",
   "metadata": {},
   "outputs": [
    {
     "name": "stdout",
     "output_type": "stream",
     "text": [
      "Subject: 🚀 Skyrocketing Success: Our Groundbreaking TikTok Campaign Outperforms Targets! 🌟\n",
      "\n",
      "Hi Jeff,\n",
      "\n",
      "**TL;DR:** Our latest TikTok marketing campaign has smashed our return on marketing investment (ROMI) targets, delivering a staggering 100% increase compared to expectations! 💪\n",
      "\n",
      " allow me to break it down for you:\n",
      "\n",
      "**Marketing Background:**\n",
      "\n",
      "In the ever-evolving digital landscape, we identified TikTok as a vital platform to reach younger demographics and drive brand engagement. We decided to launch an innovative, cross-functional marketing campaign focused on virality, humor, and authenticity.\n",
      "\n",
      "**Business Results:**\n",
      "\n",
      "The recent campaign has generated extraordinary results, including:\n",
      "\n",
      "1. **ROMI:** A phenomenal 100% increase above the target, showcasing the power of our TikTok strategy.\n",
      "2. **Brand Awareness:** Our hashtag campaign garnered 500 million views and over 2 million user-generated videos, amplifying our brand presence.\n",
      "3. **Traffic & Conversions:** The campaign funneled 5 million new visitors to our Amazon landing page, with a 25% conversion rate – surpassing our previous bests!\n",
      "\n",
      "**Marketing & Engineering Teams:**\n",
      "\n",
      "This tremendous achievement is a testament to the hard work, dedication, and creativity of our marketing and engineering teams. Their collaboration has truly paid off, ensuring our brand stays ahead of the curve in today's competitive market. Kudos to everyone involved! 🙌\n",
      "\n",
      "In conclusion, I'm confident that this successful partnership with TikTok will pave the way for more impactful campaigns that resonate with our customers and generate impressive ROI. Here's to reaching new heights in our marketing endeavors!\n",
      "\n",
      "Best,\n",
      "\n",
      "[Your Name]\n",
      "Senior Marketing Manager, Amazon\n"
     ]
    }
   ],
   "source": [
    "messages =  [  \n",
    "{'role':'system', 'content':'你是友善的聊天機器人。'},    \n",
    "{'role':'user', 'content':'You are a senior marketing manager at Amazon and \\\n",
    "you have just unveiled the latest marketing campaign with Tiktok, \\\n",
    "and doubled your ROMI, return on marketing investing, \\\n",
    "which is 100% higher than target. \\\n",
    "Write an email to your boss, Jeff Bezz, sharing this positive news. \\\n",
    "The email should include a tl;dr (too long, did not read) section, \\\n",
    "marketing background (why this campaign came into existence), \\\n",
    "business results section (quantifiable business metrics), \\\n",
    "and end with a section thanking the marketing and engineering teams. \\\n",
    "Use clear and concise language and write in a confident yet witty tone.' }]\n",
    "\n",
    "#response = get_completion_from_messages(messages, temperature=1)\n",
    "response = mistral_from_messages(messages, temperature=1)\n",
    "print(response)"
   ]
  },
  {
   "cell_type": "code",
   "execution_count": null,
   "id": "53f1a5c0",
   "metadata": {},
   "outputs": [],
   "source": []
  }
 ],
 "metadata": {
  "kernelspec": {
   "display_name": "Python 3 (ipykernel)",
   "language": "python",
   "name": "python3"
  },
  "language_info": {
   "codemirror_mode": {
    "name": "ipython",
    "version": 3
   },
   "file_extension": ".py",
   "mimetype": "text/x-python",
   "name": "python",
   "nbconvert_exporter": "python",
   "pygments_lexer": "ipython3",
   "version": "3.11.4"
  }
 },
 "nbformat": 4,
 "nbformat_minor": 5
}
