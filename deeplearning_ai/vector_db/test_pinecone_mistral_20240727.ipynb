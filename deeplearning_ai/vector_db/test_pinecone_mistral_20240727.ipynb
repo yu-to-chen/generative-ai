{
 "cells": [
  {
   "cell_type": "code",
   "execution_count": 1,
   "id": "fe9b7801-16ab-45eb-9f87-f45e5b1d0699",
   "metadata": {},
   "outputs": [
    {
     "name": "stdout",
     "output_type": "stream",
     "text": [
      "Requirement already satisfied: pip in /Users/ytchen/Documents/experimental/env11/lib/python3.11/site-packages (24.0)\n",
      "Collecting pip\n",
      "  Using cached pip-24.1.2-py3-none-any.whl.metadata (3.6 kB)\n",
      "Using cached pip-24.1.2-py3-none-any.whl (1.8 MB)\n",
      "Installing collected packages: pip\n",
      "  Attempting uninstall: pip\n",
      "    Found existing installation: pip 24.0\n",
      "    Uninstalling pip-24.0:\n",
      "      Successfully uninstalled pip-24.0\n",
      "Successfully installed pip-24.1.2\n",
      "Requirement already satisfied: mistralai in /Users/ytchen/Documents/experimental/env11/lib/python3.11/site-packages (0.1.8)\n",
      "Requirement already satisfied: pinecone-client in /Users/ytchen/Documents/experimental/env11/lib/python3.11/site-packages (3.0.2)\n",
      "Requirement already satisfied: httpx<0.26.0,>=0.25.2 in /Users/ytchen/Documents/experimental/env11/lib/python3.11/site-packages (from mistralai) (0.25.2)\n",
      "Requirement already satisfied: orjson<4.0.0,>=3.9.10 in /Users/ytchen/Documents/experimental/env11/lib/python3.11/site-packages (from mistralai) (3.10.3)\n",
      "Requirement already satisfied: pydantic<3.0.0,>=2.5.2 in /Users/ytchen/Documents/experimental/env11/lib/python3.11/site-packages (from mistralai) (2.7.1)\n",
      "Requirement already satisfied: certifi>=2019.11.17 in /Users/ytchen/Documents/experimental/env11/lib/python3.11/site-packages (from pinecone-client) (2023.7.22)\n",
      "Requirement already satisfied: tqdm>=4.64.1 in /Users/ytchen/Documents/experimental/env11/lib/python3.11/site-packages (from pinecone-client) (4.66.1)\n",
      "Requirement already satisfied: typing-extensions>=3.7.4 in /Users/ytchen/Documents/experimental/env11/lib/python3.11/site-packages (from pinecone-client) (4.10.0)\n",
      "Requirement already satisfied: urllib3>=1.26.0 in /Users/ytchen/Documents/experimental/env11/lib/python3.11/site-packages (from pinecone-client) (1.26.18)\n",
      "Requirement already satisfied: anyio in /Users/ytchen/Documents/experimental/env11/lib/python3.11/site-packages (from httpx<0.26.0,>=0.25.2->mistralai) (3.7.1)\n",
      "Requirement already satisfied: httpcore==1.* in /Users/ytchen/Documents/experimental/env11/lib/python3.11/site-packages (from httpx<0.26.0,>=0.25.2->mistralai) (1.0.5)\n",
      "Requirement already satisfied: idna in /Users/ytchen/Documents/experimental/env11/lib/python3.11/site-packages (from httpx<0.26.0,>=0.25.2->mistralai) (3.4)\n",
      "Requirement already satisfied: sniffio in /Users/ytchen/Documents/experimental/env11/lib/python3.11/site-packages (from httpx<0.26.0,>=0.25.2->mistralai) (1.3.0)\n",
      "Requirement already satisfied: h11<0.15,>=0.13 in /Users/ytchen/Documents/experimental/env11/lib/python3.11/site-packages (from httpcore==1.*->httpx<0.26.0,>=0.25.2->mistralai) (0.14.0)\n",
      "Requirement already satisfied: annotated-types>=0.4.0 in /Users/ytchen/Documents/experimental/env11/lib/python3.11/site-packages (from pydantic<3.0.0,>=2.5.2->mistralai) (0.6.0)\n",
      "Requirement already satisfied: pydantic-core==2.18.2 in /Users/ytchen/Documents/experimental/env11/lib/python3.11/site-packages (from pydantic<3.0.0,>=2.5.2->mistralai) (2.18.2)\n"
     ]
    }
   ],
   "source": [
    "import sys\n",
    "!{sys.executable} -m pip install --upgrade pip\n",
    "!{sys.executable} -m pip install mistralai pinecone-client"
   ]
  },
  {
   "cell_type": "code",
   "execution_count": 4,
   "id": "b5e8b68e-d01d-4b8a-bb4e-ac04b0043a5b",
   "metadata": {},
   "outputs": [],
   "source": [
    "from NDLAIUtils import Utils\n",
    "import NDLAIUtils\n",
    "\n",
    "utils = Utils()\n",
    "PINECONE_API_KEY = utils.get_pinecone_api_key()\n",
    "MISTRAL_API_KEY = utils.get_mistral_api_key()"
   ]
  },
  {
   "cell_type": "markdown",
   "id": "7947303a-8022-421f-be28-9ff39920a652",
   "metadata": {},
   "source": [
    "# Create Index"
   ]
  },
  {
   "cell_type": "code",
   "execution_count": 11,
   "id": "ffdd7f81-549a-4fed-9498-f4b37e2d0aaa",
   "metadata": {},
   "outputs": [],
   "source": [
    "from pinecone import Pinecone, ServerlessSpec\n",
    "\n",
    "pc = Pinecone(api_key=PINECONE_API_KEY)\n",
    "\n",
    "# Create Index\n",
    "index_name = \"mistral-embed\"\n",
    "\n",
    "if index_name not in pc.list_indexes().names():\n",
    "    pc.create_index(\n",
    "        name=index_name,\n",
    "        dimension=1024,\n",
    "        metric=\"cosine\",\n",
    "        spec=ServerlessSpec(\n",
    "            cloud='aws',\n",
    "            region='us-east-1'\n",
    "        )\n",
    "    )\n",
    "\n",
    "index = pc.Index(index_name)"
   ]
  },
  {
   "cell_type": "markdown",
   "id": "7d77c0b2-6a83-4902-84cf-33d68dceea30",
   "metadata": {},
   "source": [
    "# Embed & Upsert"
   ]
  },
  {
   "cell_type": "code",
   "execution_count": 12,
   "id": "e60ced3a-257c-46b8-bf8b-951e9466a212",
   "metadata": {},
   "outputs": [],
   "source": [
    "# Embed data\n",
    "data = [\n",
    "    {\"id\": \"vec1\", \"text\": \"Apple is a popular fruit known for its sweetness and crisp texture.\"},\n",
    "    {\"id\": \"vec2\", \"text\": \"The tech company Apple is known for its innovative products like the iPhone.\"},\n",
    "    {\"id\": \"vec3\", \"text\": \"Many people enjoy eating apples as a healthy snack.\"},\n",
    "    {\"id\": \"vec4\", \"text\": \"Apple Inc. has revolutionized the tech industry with its sleek designs and user-friendly interfaces.\"},\n",
    "    {\"id\": \"vec5\", \"text\": \"An apple a day keeps the doctor away, as the saying goes.\"},\n",
    "]"
   ]
  },
  {
   "cell_type": "code",
   "execution_count": 13,
   "id": "a0ef24e5-17a4-4481-a49b-204f3192becf",
   "metadata": {},
   "outputs": [],
   "source": [
    "from mistralai.client import MistralClient\n",
    "\n",
    "client = MistralClient(api_key=MISTRAL_API_KEY)\n",
    "\n",
    "\n",
    "def embed(docs: list[str]) -> list[list[float]]:\n",
    "\n",
    "  embeddings = client.embeddings(\n",
    "      model=\"mistral-embed\",\n",
    "      input=docs,\n",
    "  )\n",
    "  return embeddings.data\n",
    "\n",
    "embeddings = embed([d[\"text\"] for d in data])"
   ]
  },
  {
   "cell_type": "code",
   "execution_count": 9,
   "id": "1fb90094-df27-4fcd-8162-99ed77bbf4fd",
   "metadata": {},
   "outputs": [
    {
     "data": {
      "text/plain": [
       "{'upserted_count': 5}"
      ]
     },
     "execution_count": 9,
     "metadata": {},
     "output_type": "execute_result"
    }
   ],
   "source": [
    "# pull out embedding objects\n",
    "embeddings = [e.embedding for e in embeddings]\n",
    "\n",
    "vectors = []\n",
    "for d, e in zip(data, embeddings):\n",
    "    vectors.append({\n",
    "        \"id\": d['id'],\n",
    "        \"values\": e,\n",
    "        \"metadata\": {'text': d['text']}\n",
    "    })\n",
    "\n",
    "index.upsert(\n",
    "    vectors=vectors,\n",
    "    namespace=\"ns1\"\n",
    ")"
   ]
  },
  {
   "cell_type": "markdown",
   "id": "3db2cf82-a494-4f07-8ebb-991486d17e46",
   "metadata": {},
   "source": [
    "# Query"
   ]
  },
  {
   "cell_type": "code",
   "execution_count": 10,
   "id": "9063131d-f28d-4a1c-9791-fbb46c45129f",
   "metadata": {},
   "outputs": [
    {
     "name": "stdout",
     "output_type": "stream",
     "text": [
      "{'matches': [{'id': 'vec2',\n",
      "              'metadata': {'text': 'The tech company Apple is known for its '\n",
      "                                   'innovative products like the iPhone.'},\n",
      "              'score': 0.84495759,\n",
      "              'values': []},\n",
      "             {'id': 'vec4',\n",
      "              'metadata': {'text': 'Apple Inc. has revolutionized the tech '\n",
      "                                   'industry with its sleek designs and '\n",
      "                                   'user-friendly interfaces.'},\n",
      "              'score': 0.803735614,\n",
      "              'values': []},\n",
      "             {'id': 'vec1',\n",
      "              'metadata': {'text': 'Apple is a popular fruit known for its '\n",
      "                                   'sweetness and crisp texture.'},\n",
      "              'score': 0.743400156,\n",
      "              'values': []}],\n",
      " 'namespace': 'ns1',\n",
      " 'usage': {'read_units': 6}}\n"
     ]
    }
   ],
   "source": [
    "query = \"Tell me about the tech company known as Apple\"\n",
    "\n",
    "x = embed([query])[0].embedding\n",
    "\n",
    "results = index.query(\n",
    "    namespace=\"ns1\",\n",
    "    vector=x,\n",
    "    top_k=3,\n",
    "    include_values=False,\n",
    "    include_metadata=True\n",
    ")\n",
    "\n",
    "print(results)"
   ]
  },
  {
   "cell_type": "code",
   "execution_count": null,
   "id": "396ece5b-1474-425b-aeb3-2e9931c6c0a2",
   "metadata": {},
   "outputs": [],
   "source": []
  }
 ],
 "metadata": {
  "kernelspec": {
   "display_name": "Python 3 (ipykernel)",
   "language": "python",
   "name": "python3"
  },
  "language_info": {
   "codemirror_mode": {
    "name": "ipython",
    "version": 3
   },
   "file_extension": ".py",
   "mimetype": "text/x-python",
   "name": "python",
   "nbconvert_exporter": "python",
   "pygments_lexer": "ipython3",
   "version": "3.11.4"
  }
 },
 "nbformat": 4,
 "nbformat_minor": 5
}
