{
 "cells": [
  {
   "cell_type": "markdown",
   "id": "43ead32b-d4ab-431e-b64d-7a59b8962fae",
   "metadata": {},
   "source": [
    "# Lesson 2 - Retrieval Augmented Generation (RAG)"
   ]
  },
  {
   "cell_type": "markdown",
   "id": "a229d9f9",
   "metadata": {},
   "source": [
    "### Import  the Needed Packages"
   ]
  },
  {
   "cell_type": "code",
   "execution_count": 3,
   "id": "28443168-6c10-4990-9ab6-07657cee8a55",
   "metadata": {},
   "outputs": [
    {
     "name": "stdout",
     "output_type": "stream",
     "text": [
      "Requirement already satisfied: openai in /Users/ytchen/Documents/experimental/env11/lib/python3.11/site-packages (0.28.0)\n",
      "Collecting openai\n",
      "  Downloading openai-1.11.0-py3-none-any.whl.metadata (18 kB)\n",
      "Requirement already satisfied: anyio<5,>=3.5.0 in /Users/ytchen/Documents/experimental/env11/lib/python3.11/site-packages (from openai) (3.7.1)\n",
      "Requirement already satisfied: distro<2,>=1.7.0 in /Users/ytchen/Documents/experimental/env11/lib/python3.11/site-packages (from openai) (1.9.0)\n",
      "Requirement already satisfied: httpx<1,>=0.23.0 in /Users/ytchen/Documents/experimental/env11/lib/python3.11/site-packages (from openai) (0.25.0)\n",
      "Requirement already satisfied: pydantic<3,>=1.9.0 in /Users/ytchen/Documents/experimental/env11/lib/python3.11/site-packages (from openai) (1.10.8)\n",
      "Requirement already satisfied: sniffio in /Users/ytchen/Documents/experimental/env11/lib/python3.11/site-packages (from openai) (1.3.0)\n",
      "Requirement already satisfied: tqdm>4 in /Users/ytchen/Documents/experimental/env11/lib/python3.11/site-packages (from openai) (4.66.1)\n",
      "Requirement already satisfied: typing-extensions<5,>=4.7 in /Users/ytchen/Documents/experimental/env11/lib/python3.11/site-packages (from openai) (4.9.0)\n",
      "Requirement already satisfied: idna>=2.8 in /Users/ytchen/Documents/experimental/env11/lib/python3.11/site-packages (from anyio<5,>=3.5.0->openai) (3.4)\n",
      "Requirement already satisfied: certifi in /Users/ytchen/Documents/experimental/env11/lib/python3.11/site-packages (from httpx<1,>=0.23.0->openai) (2023.7.22)\n",
      "Requirement already satisfied: httpcore<0.19.0,>=0.18.0 in /Users/ytchen/Documents/experimental/env11/lib/python3.11/site-packages (from httpx<1,>=0.23.0->openai) (0.18.0)\n",
      "Requirement already satisfied: h11<0.15,>=0.13 in /Users/ytchen/Documents/experimental/env11/lib/python3.11/site-packages (from httpcore<0.19.0,>=0.18.0->httpx<1,>=0.23.0->openai) (0.14.0)\n",
      "Downloading openai-1.11.0-py3-none-any.whl (226 kB)\n",
      "\u001b[2K   \u001b[90m━━━━━━━━━━━━━━━━━━━━━━━━━━━━━━━━━━━━━━━━\u001b[0m \u001b[32m226.0/226.0 kB\u001b[0m \u001b[31m1.4 MB/s\u001b[0m eta \u001b[36m0:00:00\u001b[0m00:01\u001b[0m00:01\u001b[0m\n",
      "\u001b[?25hInstalling collected packages: openai\n",
      "  Attempting uninstall: openai\n",
      "    Found existing installation: openai 0.28.0\n",
      "    Uninstalling openai-0.28.0:\n",
      "      Successfully uninstalled openai-0.28.0\n",
      "Successfully installed openai-1.11.0\n"
     ]
    }
   ],
   "source": [
    "import sys\n",
    "!{sys.executable} -m pip install --upgrade openai"
   ]
  },
  {
   "cell_type": "code",
   "execution_count": 1,
   "id": "c74d8975-53e1-41a3-a846-1fed3361a4b8",
   "metadata": {},
   "outputs": [],
   "source": [
    "import warnings\n",
    "warnings.filterwarnings('ignore')"
   ]
  },
  {
   "cell_type": "code",
   "execution_count": 6,
   "id": "e1382dbd-5b93-419e-ae16-735aa4e0f22a",
   "metadata": {},
   "outputs": [],
   "source": [
    "from datasets import load_dataset\n",
    "#from openai import OpenAI\n",
    "from pinecone import Pinecone, ServerlessSpec\n",
    "from tqdm.auto import tqdm\n",
    "from DLAIUtils import Utils\n",
    "\n",
    "import ast\n",
    "import os\n",
    "import pandas as pd\n",
    "\n",
    "from openai._client import OpenAI\n",
    "client = OpenAI(api_key = 'API_KEY')"
   ]
  },
  {
   "cell_type": "code",
   "execution_count": 7,
   "id": "955e9783-9f33-4c09-8b10-ebee6b4a236e",
   "metadata": {},
   "outputs": [],
   "source": [
    "# get api key\n",
    "utils = Utils()\n",
    "PINECONE_API_KEY = utils.get_pinecone_api_key()"
   ]
  },
  {
   "cell_type": "markdown",
   "id": "c79cdc21",
   "metadata": {},
   "source": [
    "### Setup Pinecone"
   ]
  },
  {
   "cell_type": "code",
   "execution_count": 8,
   "id": "73e4c29d-79ee-4d6c-8a78-c7d29077fe5b",
   "metadata": {},
   "outputs": [],
   "source": [
    "pinecone = Pinecone(api_key=PINECONE_API_KEY)\n",
    "\n",
    "utils = Utils()\n",
    "INDEX_NAME = utils.create_dlai_index_name('dl-ai')\n",
    "if INDEX_NAME in [index.name for index in pinecone.list_indexes()]:\n",
    "  pinecone.delete_index(INDEX_NAME)\n",
    "\n",
    "pinecone.create_index(name=INDEX_NAME, dimension=1536, metric='cosine',\n",
    "  spec=ServerlessSpec(cloud='aws', region='us-west-2'))\n",
    "\n",
    "index = pinecone.Index(INDEX_NAME)"
   ]
  },
  {
   "cell_type": "markdown",
   "id": "94f00979",
   "metadata": {},
   "source": [
    "### Load the Dataset\n",
    "\n",
    "**Note:** To access the dataset outside of this course, just copy the following two lines of code and run it (remember to uncomment them first before executing):\n",
    "\n",
    "#!wget -q -O lesson2-wiki.csv.zip \"https://www.dropbox.com/scl/fi/yxzmsrv2sgl249zcspeqb/lesson2-wiki.csv.zip?rlkey=paehnoxjl3s5x53d1bedt4pmc&dl=0\"\n",
    "\n",
    "#!unzip lesson2-wiki.csv.zip"
   ]
  },
  {
   "cell_type": "markdown",
   "id": "b059ccc3-f6ba-49dd-a42c-bd9a5bcfc4d3",
   "metadata": {},
   "source": [
    "<p style=\"background-color:#fff1d7; padding:15px; \"> <b>(Note: <code>max_articles_num = 500</code>):</b> To achieve a more comprehensive context for the Language Learning Model, a larger number of articles is generally more beneficial. In this lab, we've initially set <code>max_articles_num</code> to 500 for speedier results, allowing you to observe the outcomes faster. Once you've done an initial run, consider increasing this value to 750 or 1,000. You'll likely notice that the context provided to the LLM becomes richer and better. You can experiment by gradually raising this variable for different queries to observe the improvements in the LLM's contextual understanding.</p>"
   ]
  },
  {
   "cell_type": "code",
   "execution_count": 11,
   "id": "a372beb7-2322-4f6c-bb80-a9aa2c74fdaf",
   "metadata": {},
   "outputs": [
    {
     "data": {
      "text/html": [
       "<div>\n",
       "<style scoped>\n",
       "    .dataframe tbody tr th:only-of-type {\n",
       "        vertical-align: middle;\n",
       "    }\n",
       "\n",
       "    .dataframe tbody tr th {\n",
       "        vertical-align: top;\n",
       "    }\n",
       "\n",
       "    .dataframe thead th {\n",
       "        text-align: right;\n",
       "    }\n",
       "</style>\n",
       "<table border=\"1\" class=\"dataframe\">\n",
       "  <thead>\n",
       "    <tr style=\"text-align: right;\">\n",
       "      <th></th>\n",
       "      <th>id</th>\n",
       "      <th>metadata</th>\n",
       "      <th>values</th>\n",
       "    </tr>\n",
       "  </thead>\n",
       "  <tbody>\n",
       "    <tr>\n",
       "      <th>1</th>\n",
       "      <td>1-0</td>\n",
       "      <td>{'chunk': 0, 'source': 'https://simple.wikiped...</td>\n",
       "      <td>[-0.011254455894231796, -0.01698738895356655, ...</td>\n",
       "    </tr>\n",
       "    <tr>\n",
       "      <th>2</th>\n",
       "      <td>1-1</td>\n",
       "      <td>{'chunk': 1, 'source': 'https://simple.wikiped...</td>\n",
       "      <td>[-0.0015197008615359664, -0.007858820259571075...</td>\n",
       "    </tr>\n",
       "    <tr>\n",
       "      <th>3</th>\n",
       "      <td>1-2</td>\n",
       "      <td>{'chunk': 2, 'source': 'https://simple.wikiped...</td>\n",
       "      <td>[-0.009930099360644817, -0.012211072258651257,...</td>\n",
       "    </tr>\n",
       "    <tr>\n",
       "      <th>4</th>\n",
       "      <td>1-3</td>\n",
       "      <td>{'chunk': 3, 'source': 'https://simple.wikiped...</td>\n",
       "      <td>[-0.011600767262279987, -0.012608098797500134,...</td>\n",
       "    </tr>\n",
       "    <tr>\n",
       "      <th>5</th>\n",
       "      <td>1-4</td>\n",
       "      <td>{'chunk': 4, 'source': 'https://simple.wikiped...</td>\n",
       "      <td>[-0.026462381705641747, -0.016362832859158516,...</td>\n",
       "    </tr>\n",
       "  </tbody>\n",
       "</table>\n",
       "</div>"
      ],
      "text/plain": [
       "    id                                           metadata  \\\n",
       "1  1-0  {'chunk': 0, 'source': 'https://simple.wikiped...   \n",
       "2  1-1  {'chunk': 1, 'source': 'https://simple.wikiped...   \n",
       "3  1-2  {'chunk': 2, 'source': 'https://simple.wikiped...   \n",
       "4  1-3  {'chunk': 3, 'source': 'https://simple.wikiped...   \n",
       "5  1-4  {'chunk': 4, 'source': 'https://simple.wikiped...   \n",
       "\n",
       "                                              values  \n",
       "1  [-0.011254455894231796, -0.01698738895356655, ...  \n",
       "2  [-0.0015197008615359664, -0.007858820259571075...  \n",
       "3  [-0.009930099360644817, -0.012211072258651257,...  \n",
       "4  [-0.011600767262279987, -0.012608098797500134,...  \n",
       "5  [-0.026462381705641747, -0.016362832859158516,...  "
      ]
     },
     "execution_count": 11,
     "metadata": {},
     "output_type": "execute_result"
    }
   ],
   "source": [
    "max_articles_num = 500\n",
    "#df = pd.read_csv('./data/wiki.csv', nrows=max_articles_num)\n",
    "df = pd.read_csv('./wiki.csv', nrows=max_articles_num)\n",
    "df.head()\n"
   ]
  },
  {
   "cell_type": "markdown",
   "id": "fa307525",
   "metadata": {},
   "source": [
    "### Prepare the Embeddings and Upsert to Pinecone"
   ]
  },
  {
   "cell_type": "code",
   "execution_count": 12,
   "id": "27ac4cb4-e900-4d9e-bfc1-cd0ada96ed80",
   "metadata": {},
   "outputs": [
    {
     "data": {
      "application/vnd.jupyter.widget-view+json": {
       "model_id": "d857c355c5ab450982bb9208194cbb86",
       "version_major": 2,
       "version_minor": 0
      },
      "text/plain": [
       "  0%|          | 0/500 [00:00<?, ?it/s]"
      ]
     },
     "metadata": {},
     "output_type": "display_data"
    }
   ],
   "source": [
    "prepped = []\n",
    "\n",
    "for i, row in tqdm(df.iterrows(), total=df.shape[0]):\n",
    "    meta = ast.literal_eval(row['metadata'])\n",
    "    prepped.append({'id':row['id'], \n",
    "                    'values':ast.literal_eval(row['values']), \n",
    "                    'metadata':meta})\n",
    "    if len(prepped) >= 250:\n",
    "        index.upsert(prepped)\n",
    "        prepped = []\n"
   ]
  },
  {
   "cell_type": "code",
   "execution_count": 13,
   "id": "7180b6b2-ad7c-4a59-ab6c-046d21957343",
   "metadata": {},
   "outputs": [
    {
     "data": {
      "text/plain": [
       "{'dimension': 1536,\n",
       " 'index_fullness': 0.0,\n",
       " 'namespaces': {'': {'vector_count': 500}},\n",
       " 'total_vector_count': 500}"
      ]
     },
     "execution_count": 13,
     "metadata": {},
     "output_type": "execute_result"
    }
   ],
   "source": [
    "index.describe_index_stats()"
   ]
  },
  {
   "cell_type": "markdown",
   "id": "617fe45f",
   "metadata": {},
   "source": [
    "### Connect to OpenAI"
   ]
  },
  {
   "cell_type": "code",
   "execution_count": 14,
   "id": "20f1922a-122e-4f3d-a9b4-6ab1e5a67195",
   "metadata": {},
   "outputs": [],
   "source": [
    "OPENAI_API_KEY = utils.get_openai_api_key()\n",
    "openai_client = OpenAI(api_key=OPENAI_API_KEY)\n",
    "\n",
    "def get_embeddings(articles, model=\"text-embedding-ada-002\"):\n",
    "   return openai_client.embeddings.create(input = articles, model=model)"
   ]
  },
  {
   "cell_type": "markdown",
   "id": "f629efde",
   "metadata": {},
   "source": [
    "### Run Your Query"
   ]
  },
  {
   "cell_type": "code",
   "execution_count": 15,
   "id": "3f790629-f7e4-40e8-9f96-cfdd46cfde9c",
   "metadata": {},
   "outputs": [
    {
     "name": "stdout",
     "output_type": "stream",
     "text": [
      "August 13  1961: Building of the Berlin Wall begins.\n",
      " August 14  1945: Japan announces its surrender at the end of World War II.\n",
      " August 14/15  1947: India is partitioned at independence from the UK, as the new mainly Islamic state of Pakistan is created.\n",
      " August 15  1960: The Republic of the Congo becomes independent.\n",
      " August 15  1971: Bahrain becomes independent.\n",
      " August 16  1977: Elvis Presley dies aged 42, leading to a worldwide outpouring of grief.\n",
      " August 17  1945: Indonesia declares independence from the Netherlands.\n",
      " August 17  1960: Gabon becomes independent.\n",
      " August 17  1962: Peter Fechter becomes the first person to be shot dead at the Berlin Wall.\n",
      " August 19  43 BC: Augustus becomes Roman consul.\n",
      " August 19  14: Augustus dies.\n",
      " August 19  1919: Afghanistan becomes independent.\n",
      " August 19  1991: The August Coup against Mikhail Gorbachev, in the Soviet Union, begins.\n",
      " August 20  1940: Leon Trotsky is fatally wounded with an ice pick in Mexico.\n",
      " August 20  1968: The Prague Spring uprising is crushed.\n",
      " August 20  1991: Estonia regains its independence from the Soviet Union.\n",
      " August 21  1959: Hawaii becomes the 50th State of the US.\n",
      " August 24  79: Vesuvius erupts, destroying Pompeii and neighbouring Herculaneum.\n",
      " August 24  1991: Ukraine regains independence from the Soviet Union.\n",
      " August 25  1825: Uruguay declares independence from Brazil.\n",
      "After the liberation of Denmark, one part of the country was not. That was the island of Bornholm. The German Commandant von Kamptz who was stationed there, refused to surrender to the Soviets as the German were fleeing to Bornholm and further to Sweden. The Soviets then bombed the two biggest towns Rønne and Nexø. After the Germans were captured on May 9, 1945, the Soviet Army occupied the island until April 6, 1946.\n",
      "\n",
      "After World War Two, Denmark became a member of NATO and the European Union. Greenland and the Faroe Islands are now part of the Kingdom of Denmark and have their own governments and limited power.\n",
      "\n",
      "Government and politics \n",
      "\n",
      "Denmark has three branches of power; the judiciary (the courts), the executive (the Prime Minister and the cabinet) and the legislature (the Danish parliament). The current Prime Minister of Denmark is Mette Frederiksen, who was elected in June 2019.\n",
      "\n",
      "Denmark is a Kingdom which means it has a monarch (a king or queen). The current monarch is Queen Margrethe II. Margrethe II does not have a lot of power (she does not make any important decisions) and has a symbolic role. Denmark became a constitutional monarchy in 1849.\n",
      "\n",
      "Elections to the parliament are held every four years, and the winner of the election is the party or coalition which gets the most votes and seats in the parliament. After the elections are done, several parties who are in agreement will group together to form a coalition government, and the leader of the largest party becomes the prime minister.\n",
      "\n",
      "Here is a short summary of the biggest political parties in Denmark, from left to right on the political axis:\n",
      "Now, 150 years later, it really is a big city.\n",
      "\n",
      "In modern times many cities have grown bigger and bigger. The whole area is often called a  \"metropolis\"  and can sometimes include several small ancient towns and villages. The metropolis of London includes London, Westminster, and many old villages such as Notting Hill, Southwark, Richmond, Greenwich, etc. The part that is officially known as the \" City of London \" only takes up one square mile. The rest is known as \"Greater London. \" Many other cities have grown in the same way.\n",
      "\n",
      "These giant cities can be exciting places to live, and many people can find good jobs there, but modern cities also have many problems. Many people cannot find jobs in the cities and have to get money by begging or by crime. Automobiles, factories, and waste create a lot of pollution that makes people sick.\n",
      "\n",
      "Urban history \n",
      "\n",
      "Urban history is history of civilization. The first cities were made in ancient times, as soon as people began to create civilization . Famous ancient cities which fell to ruins included Babylon, Troy, Mycenae and Mohenjo-daro.\n",
      "\n",
      "Benares in northern India is one among the ancient cities which has a history of more than 3000 years. Other cities that have existed since ancient times are Athens in Greece, Rome and Volterra in Italy, Alexandria in Egypt and York in England.\n",
      "\n",
      "In Europe, in the Middle Ages, being a city was a special privilege, granted by nobility. Cities that fall into this category, usually had (or still have) city walls. The people who lived in the city were privileged over those who did not. Medieval cities that still have walls include Carcassonne in France, Tehran in Iran, Toledo in Spain and Canterbury in England.\n",
      "\n",
      "Features\n",
      "\n",
      "Infrastructure\n"
     ]
    }
   ],
   "source": [
    "query = \"what is the berlin wall?\"\n",
    "\n",
    "embed = get_embeddings([query])\n",
    "res = index.query(vector=embed.data[0].embedding, top_k=3, include_metadata=True)\n",
    "text = [r['metadata']['text'] for r in res['matches']]\n",
    "print('\\n'.join(text))\n"
   ]
  },
  {
   "cell_type": "markdown",
   "id": "26ee483a",
   "metadata": {},
   "source": [
    "### Build the Prompt"
   ]
  },
  {
   "cell_type": "code",
   "execution_count": 16,
   "id": "92cdddce-9a39-4ffd-823c-e91b7af48cf5",
   "metadata": {},
   "outputs": [
    {
     "name": "stdout",
     "output_type": "stream",
     "text": [
      "Answer the question based on the context below.\n",
      "\n",
      "Context:\n",
      "August 13  1961: Building of the Berlin Wall begins.\n",
      " August 14  1945: Japan announces its surrender at the end of World War II.\n",
      " August 14/15  1947: India is partitioned at independence from the UK, as the new mainly Islamic state of Pakistan is created.\n",
      " August 15  1960: The Republic of the Congo becomes independent.\n",
      " August 15  1971: Bahrain becomes independent.\n",
      " August 16  1977: Elvis Presley dies aged 42, leading to a worldwide outpouring of grief.\n",
      " August 17  1945: Indonesia declares independence from the Netherlands.\n",
      " August 17  1960: Gabon becomes independent.\n",
      " August 17  1962: Peter Fechter becomes the first person to be shot dead at the Berlin Wall.\n",
      " August 19  43 BC: Augustus becomes Roman consul.\n",
      " August 19  14: Augustus dies.\n",
      " August 19  1919: Afghanistan becomes independent.\n",
      " August 19  1991: The August Coup against Mikhail Gorbachev, in the Soviet Union, begins.\n",
      " August 20  1940: Leon Trotsky is fatally wounded with an ice pick in Mexico.\n",
      " August 20  1968: The Prague Spring uprising is crushed.\n",
      " August 20  1991: Estonia regains its independence from the Soviet Union.\n",
      " August 21  1959: Hawaii becomes the 50th State of the US.\n",
      " August 24  79: Vesuvius erupts, destroying Pompeii and neighbouring Herculaneum.\n",
      " August 24  1991: Ukraine regains independence from the Soviet Union.\n",
      " August 25  1825: Uruguay declares independence from Brazil.\n",
      "\n",
      "---\n",
      "\n",
      "After the liberation of Denmark, one part of the country was not. That was the island of Bornholm. The German Commandant von Kamptz who was stationed there, refused to surrender to the Soviets as the German were fleeing to Bornholm and further to Sweden. The Soviets then bombed the two biggest towns Rønne and Nexø. After the Germans were captured on May 9, 1945, the Soviet Army occupied the island until April 6, 1946.\n",
      "\n",
      "After World War Two, Denmark became a member of NATO and the European Union. Greenland and the Faroe Islands are now part of the Kingdom of Denmark and have their own governments and limited power.\n",
      "\n",
      "Government and politics \n",
      "\n",
      "Denmark has three branches of power; the judiciary (the courts), the executive (the Prime Minister and the cabinet) and the legislature (the Danish parliament). The current Prime Minister of Denmark is Mette Frederiksen, who was elected in June 2019.\n",
      "\n",
      "Denmark is a Kingdom which means it has a monarch (a king or queen). The current monarch is Queen Margrethe II. Margrethe II does not have a lot of power (she does not make any important decisions) and has a symbolic role. Denmark became a constitutional monarchy in 1849.\n",
      "\n",
      "Elections to the parliament are held every four years, and the winner of the election is the party or coalition which gets the most votes and seats in the parliament. After the elections are done, several parties who are in agreement will group together to form a coalition government, and the leader of the largest party becomes the prime minister.\n",
      "\n",
      "Here is a short summary of the biggest political parties in Denmark, from left to right on the political axis:\n",
      "\n",
      "---\n",
      "\n",
      "Now, 150 years later, it really is a big city.\n",
      "\n",
      "In modern times many cities have grown bigger and bigger. The whole area is often called a  \"metropolis\"  and can sometimes include several small ancient towns and villages. The metropolis of London includes London, Westminster, and many old villages such as Notting Hill, Southwark, Richmond, Greenwich, etc. The part that is officially known as the \" City of London \" only takes up one square mile. The rest is known as \"Greater London. \" Many other cities have grown in the same way.\n",
      "\n",
      "These giant cities can be exciting places to live, and many people can find good jobs there, but modern cities also have many problems. Many people cannot find jobs in the cities and have to get money by begging or by crime. Automobiles, factories, and waste create a lot of pollution that makes people sick.\n",
      "\n",
      "Urban history \n",
      "\n",
      "Urban history is history of civilization. The first cities were made in ancient times, as soon as people began to create civilization . Famous ancient cities which fell to ruins included Babylon, Troy, Mycenae and Mohenjo-daro.\n",
      "\n",
      "Benares in northern India is one among the ancient cities which has a history of more than 3000 years. Other cities that have existed since ancient times are Athens in Greece, Rome and Volterra in Italy, Alexandria in Egypt and York in England.\n",
      "\n",
      "In Europe, in the Middle Ages, being a city was a special privilege, granted by nobility. Cities that fall into this category, usually had (or still have) city walls. The people who lived in the city were privileged over those who did not. Medieval cities that still have walls include Carcassonne in France, Tehran in Iran, Toledo in Spain and Canterbury in England.\n",
      "\n",
      "Features\n",
      "\n",
      "Infrastructure\n",
      "\n",
      "Question: write an article titled: what is the berlin wall?\n",
      "Answer:\n"
     ]
    }
   ],
   "source": [
    "query = \"write an article titled: what is the berlin wall?\"\n",
    "embed = get_embeddings([query])\n",
    "res = index.query(vector=embed.data[0].embedding, top_k=3, include_metadata=True)\n",
    "\n",
    "contexts = [\n",
    "    x['metadata']['text'] for x in res['matches']\n",
    "]\n",
    "\n",
    "prompt_start = (\n",
    "    \"Answer the question based on the context below.\\n\\n\"+\n",
    "    \"Context:\\n\"\n",
    ")\n",
    "\n",
    "prompt_end = (\n",
    "    f\"\\n\\nQuestion: {query}\\nAnswer:\"\n",
    ")\n",
    "\n",
    "prompt = (\n",
    "    prompt_start + \"\\n\\n---\\n\\n\".join(contexts) + \n",
    "    prompt_end\n",
    ")\n",
    "\n",
    "print(prompt)"
   ]
  },
  {
   "cell_type": "markdown",
   "id": "c457d658",
   "metadata": {},
   "source": [
    "### Get the Summary "
   ]
  },
  {
   "cell_type": "code",
   "execution_count": 17,
   "id": "1cd1b8ed-99b6-4c47-a784-da4192aa6e6e",
   "metadata": {},
   "outputs": [
    {
     "name": "stdout",
     "output_type": "stream",
     "text": [
      "--------------------------------------------------------------------------------\n",
      "\n",
      "The Berlin Wall was a physical barrier that divided the city of Berlin, Germany from 1961 to 1989. It was built by the German Democratic Republic (GDR), also known as East Germany, in an effort to prevent its citizens from fleeing to the democratic West Germany.\n",
      "\n",
      "The construction of the Berlin Wall began on August 13, 1961 and it consisted of a concrete wall, barbed wire, and guard towers. The wall stretched for 96 miles, dividing the city into two separate parts. The western side of the wall was controlled by the democratic West Germany, while the eastern side was controlled by the communist East Germany.\n",
      "\n",
      "The Berlin Wall was not only a physical barrier, but also a symbol of the Cold War and the divide between the democratic and communist ideologies. It was a constant reminder of the tensions between the United States and the Soviet Union, who were the two superpowers during this time.\n",
      "\n",
      "The wall was heavily guarded and anyone who attempted to cross it without permission was at risk of being shot by the guards. Despite the dangers, many East Germans attempted to escape to the West by climbing over the wall, digging tunnels, or even using hot air balloons.\n",
      "\n",
      "The Berlin Wall became a symbol of oppression and the lack of freedom under the communist regime. It separated families and friends, and caused immense emotional and psychological trauma for those living on either side of the wall.\n",
      "\n",
      "However, on November 9, 1989, the Berlin Wall finally came down. This was a result of the peaceful protests and political changes happening in East Germany, as well as the changing political climate in the Soviet Union. The fall of the Berlin Wall marked the end of the Cold War and the beginning of a new era of freedom and unity for the people of Berlin.\n",
      "\n",
      "Today, the Berlin Wall is a popular tourist attraction and a reminder of the city's tumultuous past. Parts of the wall still stand as a memorial and a symbol of hope for a world without barriers and divisions. The Berlin Wall serves as a powerful reminder of the importance of freedom and the consequences of political oppression.\n"
     ]
    }
   ],
   "source": [
    "res = openai_client.completions.create(\n",
    "    model=\"gpt-3.5-turbo-instruct\",\n",
    "    prompt=prompt,\n",
    "    temperature=0,\n",
    "    max_tokens=636,\n",
    "    top_p=1,\n",
    "    frequency_penalty=0,\n",
    "    presence_penalty=0,\n",
    "    stop=None\n",
    ")\n",
    "print('-' * 80)\n",
    "print(res.choices[0].text)"
   ]
  },
  {
   "cell_type": "code",
   "execution_count": null,
   "id": "7e985a43-5d35-4173-9ae1-3efef399c379",
   "metadata": {},
   "outputs": [],
   "source": []
  }
 ],
 "metadata": {
  "kernelspec": {
   "display_name": "Python 3 (ipykernel)",
   "language": "python",
   "name": "python3"
  },
  "language_info": {
   "codemirror_mode": {
    "name": "ipython",
    "version": 3
   },
   "file_extension": ".py",
   "mimetype": "text/x-python",
   "name": "python",
   "nbconvert_exporter": "python",
   "pygments_lexer": "ipython3",
   "version": "3.11.4"
  }
 },
 "nbformat": 4,
 "nbformat_minor": 5
}
