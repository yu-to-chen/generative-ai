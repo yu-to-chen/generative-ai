{
 "cells": [
  {
   "cell_type": "markdown",
   "id": "8375fdb6-aaba-4b82-a302-ac9f7ba658c2",
   "metadata": {},
   "source": [
    "# Lesson 3 - Recommender Systems"
   ]
  },
  {
   "cell_type": "markdown",
   "id": "f5edf276",
   "metadata": {},
   "source": [
    "### Import the Needed Packages"
   ]
  },
  {
   "cell_type": "code",
   "execution_count": 1,
   "id": "bfc34589-9974-4e28-a77f-95d23be31a38",
   "metadata": {},
   "outputs": [],
   "source": [
    "import warnings\n",
    "warnings.filterwarnings('ignore')"
   ]
  },
  {
   "cell_type": "code",
   "execution_count": 2,
   "id": "36fc834d-8d7c-4810-bc70-c99dbff741c4",
   "metadata": {},
   "outputs": [],
   "source": [
    "from langchain.text_splitter import RecursiveCharacterTextSplitter\n",
    "from openai import OpenAI\n",
    "from pinecone import Pinecone, ServerlessSpec\n",
    "from tqdm.auto import tqdm, trange\n",
    "from DLAIUtils import Utils\n",
    "\n",
    "import pandas as pd\n",
    "import time\n",
    "import os"
   ]
  },
  {
   "cell_type": "code",
   "execution_count": 3,
   "id": "64ba6310-6905-435f-945a-ebdd0b89415b",
   "metadata": {},
   "outputs": [],
   "source": [
    "utils = Utils()\n",
    "PINECONE_API_KEY = utils.get_pinecone_api_key()\n",
    "OPENAI_API_KEY = utils.get_openai_api_key()"
   ]
  },
  {
   "cell_type": "markdown",
   "id": "044b8423",
   "metadata": {},
   "source": [
    "### Load the Dataset\n",
    "\n",
    "**Note:** To access the dataset outside of this course, just copy the following two lines of code and run it (remember to uncomment them first before executing):\n",
    "\n",
    "!wget -q --show-progress -O all-the-news-3.zip \"https://www.dropbox.com/scl/fi/wruzj2bwyg743d0jzd7ku/all-the-news-3.zip?rlkey=rgwtwpeznbdadpv3f01sznwxa&dl=1\"\n",
    "\n",
    "!unzip all-the-news-3.zip"
   ]
  },
  {
   "cell_type": "code",
   "execution_count": 4,
   "id": "d9c5082b-38e2-44c3-8267-9fdbdf4c9903",
   "metadata": {},
   "outputs": [
    {
     "name": "stdout",
     "output_type": "stream",
     "text": [
      "date,year,month,day,author,title,article,url,section,publication\n",
      "\n"
     ]
    }
   ],
   "source": [
    "#with open('./data/all-the-news-3.csv', 'r') as f:\n",
    "with open('./all-the-news-3.csv', 'r') as f:\n",
    "    header = f.readline()\n",
    "    print(header)"
   ]
  },
  {
   "cell_type": "code",
   "execution_count": 5,
   "id": "da22b23e-a6ab-4e1c-89ca-64ab7bffbc28",
   "metadata": {},
   "outputs": [
    {
     "data": {
      "text/html": [
       "<div>\n",
       "<style scoped>\n",
       "    .dataframe tbody tr th:only-of-type {\n",
       "        vertical-align: middle;\n",
       "    }\n",
       "\n",
       "    .dataframe tbody tr th {\n",
       "        vertical-align: top;\n",
       "    }\n",
       "\n",
       "    .dataframe thead th {\n",
       "        text-align: right;\n",
       "    }\n",
       "</style>\n",
       "<table border=\"1\" class=\"dataframe\">\n",
       "  <thead>\n",
       "    <tr style=\"text-align: right;\">\n",
       "      <th></th>\n",
       "      <th>date</th>\n",
       "      <th>year</th>\n",
       "      <th>month</th>\n",
       "      <th>day</th>\n",
       "      <th>author</th>\n",
       "      <th>title</th>\n",
       "      <th>article</th>\n",
       "      <th>url</th>\n",
       "      <th>section</th>\n",
       "      <th>publication</th>\n",
       "    </tr>\n",
       "  </thead>\n",
       "  <tbody>\n",
       "    <tr>\n",
       "      <th>0</th>\n",
       "      <td>2016-12-09 18:31:00</td>\n",
       "      <td>2016</td>\n",
       "      <td>12.0</td>\n",
       "      <td>9</td>\n",
       "      <td>Lee Drutman</td>\n",
       "      <td>We should take concerns about the health of li...</td>\n",
       "      <td>This post is part of Polyarchy, an independent...</td>\n",
       "      <td>https://www.vox.com/polyarchy/2016/12/9/138983...</td>\n",
       "      <td>NaN</td>\n",
       "      <td>Vox</td>\n",
       "    </tr>\n",
       "    <tr>\n",
       "      <th>1</th>\n",
       "      <td>2016-10-07 21:26:46</td>\n",
       "      <td>2016</td>\n",
       "      <td>10.0</td>\n",
       "      <td>7</td>\n",
       "      <td>Scott Davis</td>\n",
       "      <td>Colts GM Ryan Grigson says Andrew Luck's contr...</td>\n",
       "      <td>The Indianapolis Colts made Andrew Luck the h...</td>\n",
       "      <td>https://www.businessinsider.com/colts-gm-ryan-...</td>\n",
       "      <td>NaN</td>\n",
       "      <td>Business Insider</td>\n",
       "    </tr>\n",
       "    <tr>\n",
       "      <th>2</th>\n",
       "      <td>2018-01-26 00:00:00</td>\n",
       "      <td>2018</td>\n",
       "      <td>1.0</td>\n",
       "      <td>26</td>\n",
       "      <td>NaN</td>\n",
       "      <td>Trump denies report he ordered Mueller fired</td>\n",
       "      <td>DAVOS, Switzerland (Reuters) - U.S. President ...</td>\n",
       "      <td>https://www.reuters.com/article/us-davos-meeti...</td>\n",
       "      <td>Davos</td>\n",
       "      <td>Reuters</td>\n",
       "    </tr>\n",
       "    <tr>\n",
       "      <th>3</th>\n",
       "      <td>2019-06-27 00:00:00</td>\n",
       "      <td>2019</td>\n",
       "      <td>6.0</td>\n",
       "      <td>27</td>\n",
       "      <td>NaN</td>\n",
       "      <td>France's Sarkozy reveals his 'Passions' but in...</td>\n",
       "      <td>PARIS (Reuters) - Former French president Nico...</td>\n",
       "      <td>https://www.reuters.com/article/france-politic...</td>\n",
       "      <td>World News</td>\n",
       "      <td>Reuters</td>\n",
       "    </tr>\n",
       "    <tr>\n",
       "      <th>4</th>\n",
       "      <td>2016-01-27 00:00:00</td>\n",
       "      <td>2016</td>\n",
       "      <td>1.0</td>\n",
       "      <td>27</td>\n",
       "      <td>NaN</td>\n",
       "      <td>Paris Hilton: Woman In Black For Uncle Monty's...</td>\n",
       "      <td>Paris Hilton arrived at LAX Wednesday dressed ...</td>\n",
       "      <td>https://www.tmz.com/2016/01/27/paris-hilton-mo...</td>\n",
       "      <td>NaN</td>\n",
       "      <td>TMZ</td>\n",
       "    </tr>\n",
       "  </tbody>\n",
       "</table>\n",
       "</div>"
      ],
      "text/plain": [
       "                  date  year  month  day       author  \\\n",
       "0  2016-12-09 18:31:00  2016   12.0    9  Lee Drutman   \n",
       "1  2016-10-07 21:26:46  2016   10.0    7  Scott Davis   \n",
       "2  2018-01-26 00:00:00  2018    1.0   26          NaN   \n",
       "3  2019-06-27 00:00:00  2019    6.0   27          NaN   \n",
       "4  2016-01-27 00:00:00  2016    1.0   27          NaN   \n",
       "\n",
       "                                               title  \\\n",
       "0  We should take concerns about the health of li...   \n",
       "1  Colts GM Ryan Grigson says Andrew Luck's contr...   \n",
       "2       Trump denies report he ordered Mueller fired   \n",
       "3  France's Sarkozy reveals his 'Passions' but in...   \n",
       "4  Paris Hilton: Woman In Black For Uncle Monty's...   \n",
       "\n",
       "                                             article  \\\n",
       "0  This post is part of Polyarchy, an independent...   \n",
       "1   The Indianapolis Colts made Andrew Luck the h...   \n",
       "2  DAVOS, Switzerland (Reuters) - U.S. President ...   \n",
       "3  PARIS (Reuters) - Former French president Nico...   \n",
       "4  Paris Hilton arrived at LAX Wednesday dressed ...   \n",
       "\n",
       "                                                 url     section  \\\n",
       "0  https://www.vox.com/polyarchy/2016/12/9/138983...         NaN   \n",
       "1  https://www.businessinsider.com/colts-gm-ryan-...         NaN   \n",
       "2  https://www.reuters.com/article/us-davos-meeti...       Davos   \n",
       "3  https://www.reuters.com/article/france-politic...  World News   \n",
       "4  https://www.tmz.com/2016/01/27/paris-hilton-mo...         NaN   \n",
       "\n",
       "        publication  \n",
       "0               Vox  \n",
       "1  Business Insider  \n",
       "2           Reuters  \n",
       "3           Reuters  \n",
       "4               TMZ  "
      ]
     },
     "execution_count": 5,
     "metadata": {},
     "output_type": "execute_result"
    }
   ],
   "source": [
    "#df = pd.read_csv('./data/all-the-news-3.csv', nrows=99)\n",
    "df = pd.read_csv('./all-the-news-3.csv', nrows=99)\n",
    "df.head()"
   ]
  },
  {
   "cell_type": "markdown",
   "id": "2f4fde52",
   "metadata": {},
   "source": [
    "### Setup Pinecone"
   ]
  },
  {
   "cell_type": "code",
   "execution_count": 6,
   "id": "d2851fc4-a2fc-4252-a159-dde8fe44ffa1",
   "metadata": {},
   "outputs": [],
   "source": [
    "openai_client = OpenAI(api_key=OPENAI_API_KEY)\n",
    "util = Utils()\n",
    "INDEX_NAME = utils.create_dlai_index_name('dl-ai')\n",
    "pinecone = Pinecone(api_key=PINECONE_API_KEY)\n",
    "\n",
    "if INDEX_NAME in [index.name for index in pinecone.list_indexes()]:\n",
    "  pinecone.delete_index(INDEX_NAME)\n",
    "\n",
    "pinecone.create_index(name=INDEX_NAME, dimension=1536, metric='cosine',\n",
    "  spec=ServerlessSpec(cloud='aws', region='us-west-2'))\n",
    "\n",
    "index = pinecone.Index(INDEX_NAME)"
   ]
  },
  {
   "cell_type": "markdown",
   "id": "eecf905b",
   "metadata": {},
   "source": [
    "### 1.  Create Embeddings of the News Titles"
   ]
  },
  {
   "cell_type": "code",
   "execution_count": 7,
   "id": "8fa42050-3ab2-4c5d-9a15-125447ebcaca",
   "metadata": {},
   "outputs": [],
   "source": [
    "def get_embeddings(articles, model=\"text-embedding-ada-002\"):\n",
    "   return openai_client.embeddings.create(input = articles, model=model)"
   ]
  },
  {
   "cell_type": "code",
   "execution_count": 8,
   "id": "a381e7e8-e4c9-43a1-9a54-5b7c04c29aff",
   "metadata": {},
   "outputs": [
    {
     "data": {
      "application/vnd.jupyter.widget-view+json": {
       "model_id": "3c79375907bf40e6979a9c3031059ff9",
       "version_major": 2,
       "version_minor": 0
      },
      "text/plain": [
       "  0%|          | 0/10000 [00:00<?, ?it/s]"
      ]
     },
     "metadata": {},
     "output_type": "display_data"
    }
   ],
   "source": [
    "CHUNK_SIZE=400\n",
    "TOTAL_ROWS=10000\n",
    "progress_bar = tqdm(total=TOTAL_ROWS)\n",
    "#chunks = pd.read_csv('./data/all-the-news-3.csv', chunksize=CHUNK_SIZE, \n",
    "chunks = pd.read_csv('./all-the-news-3.csv', chunksize=CHUNK_SIZE, \n",
    "                     nrows=TOTAL_ROWS)\n",
    "chunk_num = 0\n",
    "for chunk in chunks:\n",
    "    titles = chunk['title'].tolist()\n",
    "    embeddings = get_embeddings(titles)\n",
    "    prepped = [{'id':str(chunk_num*CHUNK_SIZE+i), 'values':embeddings.data[i].embedding,\n",
    "                'metadata':{'title':titles[i]},} for i in range(0,len(titles))]\n",
    "    chunk_num = chunk_num + 1\n",
    "    if len(prepped) >= 200:\n",
    "      index.upsert(prepped)\n",
    "      prepped = []\n",
    "    progress_bar.update(len(chunk))"
   ]
  },
  {
   "cell_type": "code",
   "execution_count": 9,
   "id": "4b372aa0-e700-4bd7-98e6-a931725657ca",
   "metadata": {},
   "outputs": [
    {
     "data": {
      "text/plain": [
       "{'dimension': 1536,\n",
       " 'index_fullness': 0.0,\n",
       " 'namespaces': {'': {'vector_count': 10000}},\n",
       " 'total_vector_count': 10000}"
      ]
     },
     "execution_count": 9,
     "metadata": {},
     "output_type": "execute_result"
    }
   ],
   "source": [
    "index.describe_index_stats()"
   ]
  },
  {
   "cell_type": "markdown",
   "id": "7b3cbe32",
   "metadata": {},
   "source": [
    "### Build the Recommender System"
   ]
  },
  {
   "cell_type": "code",
   "execution_count": 10,
   "id": "bb458754-0a01-4fd1-95b2-64def8a14f39",
   "metadata": {},
   "outputs": [],
   "source": [
    "def get_recommendations(pinecone_index, search_term, top_k=10):\n",
    "  embed = get_embeddings([search_term]).data[0].embedding\n",
    "  res = pinecone_index.query(vector=embed, top_k=top_k, include_metadata=True)\n",
    "  return res"
   ]
  },
  {
   "cell_type": "code",
   "execution_count": 11,
   "id": "8543c5d6-dc51-4190-843f-2c4b0df43571",
   "metadata": {},
   "outputs": [
    {
     "name": "stdout",
     "output_type": "stream",
     "text": [
      "0.850471437 : Barack Obama just stepped off the sidelines to defend Obamacare\n",
      "0.849117041 : President Obama has a new plan to fight the opioid epidemic\n",
      "0.848726213 : “Our democracy is at stake”: Obama delivers his first post-presidency campaign speech\n",
      "0.848379135 : Obama: if you were fine with big government until it served black people, rethink your biases\n",
      "0.846334 : President Obama: Michelle & I Are Gonna Be Renters\n",
      "0.844644308 : Obama meets with national security team on Syria, Islamic State\n",
      "0.843859673 : Vox Sentences: Obama got a warmer welcome in Hiroshima than the Japanese prime minister\n",
      "0.843687534 : Barack Obama in talks to create shows for Netflix: New York Times\n",
      "0.843388855 : Watch President Obama dance the tango in Argentina\n",
      "0.841180623 : Clinton, Obama pledge unity behind Trump presidency\n"
     ]
    }
   ],
   "source": [
    "reco = get_recommendations(index, 'obama')\n",
    "for r in reco.matches:\n",
    "    print(f'{r.score} : {r.metadata[\"title\"]}')"
   ]
  },
  {
   "cell_type": "markdown",
   "id": "6eb79a16",
   "metadata": {},
   "source": [
    "### 2.  Create Embeddings of All News Content"
   ]
  },
  {
   "cell_type": "code",
   "execution_count": 12,
   "id": "902a05d3-b8f2-4726-8522-64ddeb02e958",
   "metadata": {},
   "outputs": [],
   "source": [
    "if INDEX_NAME in [index.name for index in pinecone.list_indexes()]:\n",
    "  pinecone.delete_index(name=INDEX_NAME)\n",
    "\n",
    "pinecone.create_index(name=INDEX_NAME, dimension=1536, metric='cosine',\n",
    "  spec=ServerlessSpec(cloud='aws', region='us-west-2'))\n",
    "articles_index = pinecone.Index(INDEX_NAME)"
   ]
  },
  {
   "cell_type": "code",
   "execution_count": 13,
   "id": "69059af0-2a17-417b-8d78-818ed218c672",
   "metadata": {},
   "outputs": [],
   "source": [
    "def embed(embeddings, title, prepped, embed_num):\n",
    "  for embedding in embeddings.data:\n",
    "    prepped.append({'id':str(embed_num), 'values':embedding.embedding, 'metadata':{'title':title}})\n",
    "    embed_num += 1\n",
    "    if len(prepped) >= 100:\n",
    "        articles_index.upsert(prepped)\n",
    "        prepped.clear()\n",
    "  return embed_num"
   ]
  },
  {
   "cell_type": "markdown",
   "id": "310bc783-9dd0-4961-a33e-eaa0a4e544b8",
   "metadata": {},
   "source": [
    "<p style=\"background-color:#fff1d7; padding:15px; \"> <b>(Note: <code>news_data_rows_num = 100</code>):</b> In this lab, we've initially set <code>news_data_rows_num</code> to 100 for speedier results, allowing you to observe the outcomes faster. Once you've done an initial run, consider increasing this value to 200, 400, 700, and 1000. You'll likely notice better and more relevant results.</p>"
   ]
  },
  {
   "cell_type": "code",
   "execution_count": 15,
   "id": "682e44a9-6825-4d01-84af-3b91a1a2771b",
   "metadata": {},
   "outputs": [
    {
     "name": "stdout",
     "output_type": "stream",
     "text": [
      "...................................................................................................."
     ]
    }
   ],
   "source": [
    "news_data_rows_num = 100\n",
    "\n",
    "embed_num = 0 #keep track of embedding number for 'id'\n",
    "text_splitter = RecursiveCharacterTextSplitter(chunk_size=400, \n",
    "    chunk_overlap=20) # how to chunk each article\n",
    "prepped = []\n",
    "#df = pd.read_csv('./data/all-the-news-3.csv', nrows=news_data_rows_num)\n",
    "df = pd.read_csv('./all-the-news-3.csv', nrows=news_data_rows_num)\n",
    "articles_list = df['article'].tolist()\n",
    "titles_list = df['title'].tolist()\n",
    "\n",
    "for i in range(0, len(articles_list)):\n",
    "    print(\".\",end=\"\")\n",
    "    art = articles_list[i]\n",
    "    title = titles_list[i]\n",
    "    if art is not None and isinstance(art, str):\n",
    "      texts = text_splitter.split_text(art)\n",
    "      embeddings = get_embeddings(texts)\n",
    "      embed_num = embed(embeddings, title, prepped, embed_num)"
   ]
  },
  {
   "cell_type": "code",
   "execution_count": 16,
   "id": "6c524536-7625-49a7-b83a-bba1c0fb7848",
   "metadata": {},
   "outputs": [
    {
     "data": {
      "text/plain": [
       "{'dimension': 1536,\n",
       " 'index_fullness': 0.0,\n",
       " 'namespaces': {'': {'vector_count': 1000}},\n",
       " 'total_vector_count': 1000}"
      ]
     },
     "execution_count": 16,
     "metadata": {},
     "output_type": "execute_result"
    }
   ],
   "source": [
    "articles_index.describe_index_stats()"
   ]
  },
  {
   "cell_type": "markdown",
   "id": "794940f9",
   "metadata": {},
   "source": [
    "### Build the Recommender System"
   ]
  },
  {
   "cell_type": "code",
   "execution_count": 17,
   "id": "6fab67de-04c8-40dd-a1bc-34c928dab2ee",
   "metadata": {},
   "outputs": [
    {
     "name": "stdout",
     "output_type": "stream",
     "text": [
      "0.821593046 : Why Obama is vetting Nevada's Republican governor for the Supreme Court\n",
      "0.819327295 : U.S. lawmakers ask for disclosure of number of Americans under surveillance\n",
      "0.812569439 : NYPD Honcho Insulted by 'Hamilton' Star Lin-Manuel Miranda Celebrating Obama's Controversial Prisoner Release\n",
      "0.80749172 : Why Jews Are Getting Themselves Arrested at ICE Centers Around the Country\n",
      "0.806707561 : Trump keeping options open as Republican feud rages\n",
      "0.801382482 : Michael Bloomberg Is Seriously Considering a Presidential Run\n",
      "0.800629556 : The most revealing Republican ad of the election is an attack ad against Tim Kaine\n",
      "0.7985062 : Exclusive: Trump considering fracking mogul Harold Hamm as energy secretary - sources\n",
      "0.798201919 : Trump tells anti-abortion marchers he will support them\n",
      "0.798167348 : The government official in charge of ethics just harshly condemned Trump’s plan\n",
      "0.794105053 : Exclusive: China shuns U.S. request for talks on airline website dispute over Taiwan\n",
      "0.79272 : “Elizabeth Warren called me!” is turning into a Twitter meme\n",
      "0.790662766 : Nancy Pelosi says a Clinton landslide could put the House in play. The math backs her up.\n",
      "0.788126171 : Republicans totally outsmarted the mainstream media on Obamacare repeal\n",
      "0.784897745 : Peter Thiel vs. the FDA\n",
      "0.782579184 : France's Sarkozy reveals his 'Passions' but insists no come-back on cards\n",
      "0.782489479 : It's 2018, and these white supremacists are running for office\n",
      "0.782369 : China is dismissing unfavorable media reports as fake because that's what Trump does\n",
      "0.781952918 : We should take concerns about the health of liberal democracy seriously\n",
      "0.780919671 : How the Clinton campaign is making #ThatMexicanThing a thing, explained\n",
      "0.7797364 : How one woman used fashion to reclaim her Muslim American identity\n",
      "0.779079378 : Mass protests have erupted in Poland \n",
      "0.778816164 : IEA concerned about Middle East tensions, stands ready to act\n",
      "0.776649952 : How love and marriage are changing, according to 63,000 New York Times wedding announcements\n"
     ]
    }
   ],
   "source": [
    "reco = get_recommendations(articles_index, 'obama', top_k=100)\n",
    "seen = {}\n",
    "for r in reco.matches:\n",
    "    title = r.metadata['title']\n",
    "    if title not in seen:\n",
    "        print(f'{r.score} : {title}')\n",
    "        seen[title] = '.'"
   ]
  },
  {
   "cell_type": "code",
   "execution_count": null,
   "id": "f7dde0ea-30f7-413c-a0a2-56ec1e159e98",
   "metadata": {},
   "outputs": [],
   "source": []
  }
 ],
 "metadata": {
  "kernelspec": {
   "display_name": "Python 3 (ipykernel)",
   "language": "python",
   "name": "python3"
  },
  "language_info": {
   "codemirror_mode": {
    "name": "ipython",
    "version": 3
   },
   "file_extension": ".py",
   "mimetype": "text/x-python",
   "name": "python",
   "nbconvert_exporter": "python",
   "pygments_lexer": "ipython3",
   "version": "3.11.4"
  }
 },
 "nbformat": 4,
 "nbformat_minor": 5
}
