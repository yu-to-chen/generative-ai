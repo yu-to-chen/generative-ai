{
 "cells": [
  {
   "cell_type": "markdown",
   "id": "e4f357d1-bbc9-4848-828c-00b36144ebdc",
   "metadata": {},
   "source": [
    "## Text Generation with Mistral"
   ]
  },
  {
   "cell_type": "markdown",
   "id": "a416b662-c645-4048-8557-fd0f66d9818c",
   "metadata": {},
   "source": [
    "#### Project environment setup\n",
    "\n",
    "- Load credentials and relevant Python Libraries"
   ]
  },
  {
   "cell_type": "code",
   "execution_count": null,
   "id": "a9d7e7fc-0c16-41c5-ba3d-988fb011deb5",
   "metadata": {
    "height": 47
   },
   "outputs": [],
   "source": [
    "\"\"\"\n",
    "from utils import authenticate\n",
    "credentials, PROJECT_ID = authenticate()\n",
    "\"\"\""
   ]
  },
  {
   "cell_type": "code",
   "execution_count": null,
   "id": "ff77bf9c-93e6-4281-9775-f7e87935b37a",
   "metadata": {
    "height": 30
   },
   "outputs": [],
   "source": [
    "\"\"\"\n",
    "REGION = 'us-central1'\n",
    "\"\"\""
   ]
  },
  {
   "cell_type": "markdown",
   "id": "02fb2abd-f5d3-4fa0-8c4c-8d516df20c7f",
   "metadata": {},
   "source": [
    "### Prompt the model\n",
    "- We'll import a language model that has been trained to handle a variety of natural language tasks, `text-bison@001`.\n",
    "- For multi-turn dialogue with a language model, you can use, `chat-bison@001`."
   ]
  },
  {
   "cell_type": "code",
   "execution_count": null,
   "id": "4bc8793c-bae4-405e-9dcc-2d5657c7486b",
   "metadata": {
    "height": 81
   },
   "outputs": [],
   "source": [
    "\"\"\"\n",
    "import vertexai\n",
    "vertexai.init(project=PROJECT_ID, \n",
    "              location=REGION, \n",
    "              credentials = credentials)\n",
    "\"\"\""
   ]
  },
  {
   "cell_type": "code",
   "execution_count": null,
   "id": "f253273a-a0bd-41c8-bf64-138666578504",
   "metadata": {
    "height": 30
   },
   "outputs": [],
   "source": [
    "\"\"\"\n",
    "from vertexai.language_models import TextGenerationModel\n",
    "\"\"\""
   ]
  },
  {
   "cell_type": "code",
   "execution_count": null,
   "id": "da149416-7fea-4bb3-b872-f64200f9b19c",
   "metadata": {
    "height": 47
   },
   "outputs": [],
   "source": [
    "\"\"\"\n",
    "generation_model = TextGenerationModel.from_pretrained(\n",
    "    \"text-bison@001\")\n",
    "\"\"\""
   ]
  },
  {
   "cell_type": "code",
   "execution_count": 1,
   "id": "2ea434e3-b9b1-44e7-ae80-2d905e9c2422",
   "metadata": {},
   "outputs": [],
   "source": [
    "\"\"\"\n",
    "import google.generativeai as palm\n",
    "import os\n",
    "import pprint\n",
    "\n",
    "palm.configure(api_key=os.environ['API_KEY'])\n",
    "\"\"\""
   ]
  },
  {
   "cell_type": "code",
   "execution_count": 2,
   "id": "9e6c8e88-8716-4c71-b0e8-2111bcf893e8",
   "metadata": {},
   "outputs": [
    {
     "name": "stdout",
     "output_type": "stream",
     "text": [
      "models/text-bison-001\n"
     ]
    }
   ],
   "source": [
    "\"\"\"\n",
    "models = [m for m in palm.list_models() if 'generateText' in m.supported_generation_methods]\n",
    "model = models[0].name\n",
    "print(model)\n",
    "\"\"\""
   ]
  },
  {
   "cell_type": "markdown",
   "id": "36ac4f25-7818-49fc-b9e9-097886da8e82",
   "metadata": {},
   "source": [
    "#### Question Answering\n",
    "- You can ask an open-ended question to the language model."
   ]
  },
  {
   "cell_type": "code",
   "execution_count": 1,
   "id": "9849538d-7df5-4c1d-acfe-c2dbb9912c2c",
   "metadata": {},
   "outputs": [],
   "source": [
    "from dotenv import load_dotenv, find_dotenv\n",
    "import os\n",
    "import numpy as np\n",
    "\n",
    "from mistralai.client import MistralClient\n",
    "from mistralai.models.chat_completion import ChatMessage\n",
    "\n",
    "def get_text_embedding(txt):\n",
    "    #client = MistralClient(api_key=api_key, endpoint=dlai_endpoint)\n",
    "    client = MistralClient(api_key=os.getenv(\"MISTRAL_API_KEY\"))\n",
    "    embeddings_batch_response = client.embeddings(model=\"mistral-embed\", input=txt)\n",
    "    return embeddings_batch_response.data[0].embedding"
   ]
  },
  {
   "cell_type": "markdown",
   "id": "6f783b56-8fee-4713-9e36-269fef84a7a6",
   "metadata": {},
   "source": [
    "# Mistral doesn't have top_k"
   ]
  },
  {
   "cell_type": "code",
   "execution_count": 41,
   "id": "ebdd171a-67c3-42df-8322-d8f326a8a4f5",
   "metadata": {},
   "outputs": [],
   "source": [
    "def mistral(user_message, model=\"mistral-small-latest\", is_json=False, \n",
    "            temperature=0.7, top_p=1.0):\n",
    "    #client = MistralClient(api_key=api_key, endpoint=dlai_endpoint)\n",
    "    client = MistralClient(api_key=os.getenv(\"MISTRAL_API_KEY\"))\n",
    "    messages = [ChatMessage(role=\"user\", content=user_message)]\n",
    "\n",
    "    if is_json:\n",
    "        chat_response = client.chat(\n",
    "            model=model, messages=messages, response_format={\"type\": \"json_object\"},\n",
    "            temperature=temperature, top_p=top_p\n",
    "        )\n",
    "    else:\n",
    "        chat_response = client.chat(model=model, messages=messages,\n",
    "                                   temperature=temperature, top_p=top_p)\n",
    "\n",
    "    return chat_response.choices[0].message.content"
   ]
  },
  {
   "cell_type": "code",
   "execution_count": 4,
   "id": "c3a1b5ab-1bb8-4882-93e8-cc9381b18aad",
   "metadata": {
    "height": 47
   },
   "outputs": [],
   "source": [
    "prompt = \"I'm a high school student. \\\n",
    "Recommend me a programming activity to improve my skills.\""
   ]
  },
  {
   "cell_type": "code",
   "execution_count": 5,
   "id": "84aca913-e2c1-4ad5-b8ee-4945c9546102",
   "metadata": {
    "height": 30
   },
   "outputs": [
    {
     "name": "stdout",
     "output_type": "stream",
     "text": [
      "That's great that you're interested in improving your programming skills! Here's a multi-part activity that will help you enhance your abilities in several areas:\n",
      "\n",
      "**Project: Build a Simple Weather Application**\n",
      "\n",
      "**Objective:** Create a web application that displays the current weather information for a given location.\n",
      "\n",
      "**Steps and Skills:**\n",
      "\n",
      "1. **Front-end Development (HTML, CSS, JavaScript):**\n",
      "   - Design a simple and responsive user interface for your web application.\n",
      "   - Create input fields for users to enter their location and a button to fetch the weather data.\n",
      "   - Display the fetched weather data (temperature, weather description, humidity, etc.) in a user-friendly format.\n",
      "\n",
      "2. **APIs and Fetching Data:**\n",
      "   - Sign up for a free API key from a weather API provider like OpenWeatherMap (https://openweathermap.org/api).\n",
      "   - Learn how to make API requests using JavaScript's `fetch` API or `axios` library to retrieve weather data based on the user's input.\n",
      "\n",
      "3. **Data Manipulation:**\n",
      "   - Parse and handle the JSON data received from the API.\n",
      "   - Extract the relevant information (e.g., temperature, weather description) and display it on your web page.\n",
      "\n",
      "4. **Version Control (Git and GitHub):**\n",
      "   - Initialize a local Git repository for your project.\n",
      "   - Make regular commits with meaningful messages as you progress through the project.\n",
      "   - Create a GitHub account (if you don't have one) and push your local repository to GitHub.\n",
      "\n",
      "5. **Deployment:**\n",
      "   - Deploy your web application using a static site hosting service like GitHub Pages, Netlify, or Vercel.\n",
      "   - Share your live project with friends, family, or potential employers to showcase your skills.\n",
      "\n",
      "**Bonus Features:**\n",
      "- Implement error handling for invalid input or failed API requests.\n",
      "- Add a feature to display a 5-day weather forecast.\n",
      "- Integrate a mapping service to show the location's map based on the user's input.\n",
      "- Make the application responsive and mobile-friendly using CSS media queries or a CSS framework like Bootstrap.\n",
      "\n",
      "This activity will help you improve your skills in front-end development, APIs, data manipulation, version control, and deployment. Good luck, and have fun coding!\n"
     ]
    }
   ],
   "source": [
    "\"\"\"\n",
    "#print(generation_model.predict(prompt=prompt).text)\n",
    "completion = palm.generate_text(\n",
    "    model=model,\n",
    "    prompt=prompt,\n",
    ")\n",
    "print(completion.result)\n",
    "\"\"\"\n",
    "\n",
    "completion = mistral(prompt, model=\"mistral-large-latest\")\n",
    "print(completion)"
   ]
  },
  {
   "cell_type": "markdown",
   "id": "fd540471-cda7-43b2-aee3-b84cb1234c1a",
   "metadata": {},
   "source": [
    "#### Classify and elaborate\n",
    "- For more predictability of the language model's response, you can also ask the language model to choose among a list of answers and then elaborate on its answer."
   ]
  },
  {
   "cell_type": "code",
   "execution_count": 5,
   "id": "e1491242-77fb-4d8e-8bda-04f4894fdd83",
   "metadata": {
    "height": 115
   },
   "outputs": [],
   "source": [
    "prompt = \"\"\"I'm a high school student. \\\n",
    "Which of these activities do you suggest and why:\n",
    "a) learn Python\n",
    "b) learn Javascript\n",
    "c) learn Fortran\n",
    "\"\"\""
   ]
  },
  {
   "cell_type": "code",
   "execution_count": 6,
   "id": "28880988-e191-4991-baa8-fb7c89cc4874",
   "metadata": {
    "height": 30
   },
   "outputs": [
    {
     "name": "stdout",
     "output_type": "stream",
     "text": [
      "That's great that you're looking to improve your programming skills! Here's a multi-part activity that will help you enhance your abilities in several areas:\n",
      "\n",
      "**Project: Build a Simple Weather Application**\n",
      "\n",
      "**Objective:** Create a web application that displays the current weather information for a given location.\n",
      "\n",
      "**Skills you'll improve:**\n",
      "1. Web development (HTML, CSS, JavaScript)\n",
      "2. Working with APIs\n",
      "3. Data manipulation\n",
      "4. Version control with Git\n",
      "5. Problem-solving\n",
      "\n",
      "**Steps:**\n",
      "\n",
      "1. **Set up your development environment:**\n",
      "   - Install a code editor like Visual Studio Code.\n",
      "   - Set up Git for version control.\n",
      "   - Create a new repository on GitHub.\n",
      "\n",
      "2. **Learn the basics of web development:**\n",
      "   - Familiarize yourself with HTML, CSS, and JavaScript using online resources like MDN Web Docs, freeCodeCamp, or W3Schools.\n",
      "\n",
      "3. **Create the basic structure of your web application:**\n",
      "   - Set up your project folder with index.html, styles.css, and script.js files.\n",
      "   - Design a simple layout with HTML and CSS.\n",
      "\n",
      "4. **Work with an API:**\n",
      "   - Sign up for a free API key from a weather API provider like OpenWeatherMap or WeatherAPI.\n",
      "   - Learn how to make API requests using JavaScript's Fetch API or Axios library.\n",
      "\n",
      "5. **Display weather data:**\n",
      "   - Parse the JSON data received from the API.\n",
      "   - Dynamically update your web page with the current weather information (temperature, weather description, humidity, etc.).\n",
      "\n",
      "6. **Add user interaction:**\n",
      "   - Implement a search bar that allows users to enter a location and display the corresponding weather information.\n",
      "\n",
      "7. **Version control:**\n",
      "   - Make regular commits to your GitHub repository with meaningful commit messages.\n",
      "\n",
      "8. **Deploy your application:**\n",
      "   - Deploy your finished application using a static site hosting service like GitHub Pages, Netlify, or Vercel.\n",
      "\n",
      "**Bonus features to challenge yourself:**\n",
      "- Add a feature to display the 5-day weather forecast.\n",
      "- Implement a loading animation while fetching data.\n",
      "- Add error handling for invalid location inputs.\n",
      "- Make your application responsive for different screen sizes.\n",
      "\n",
      "By completing this project, you'll gain valuable experience in various aspects of programming and web development. Good luck, and have fun coding!\n"
     ]
    }
   ],
   "source": [
    "\"\"\"\n",
    "#print(generation_model.predict(prompt=prompt).text)\n",
    "completion = palm.generate_text(\n",
    "    model=model,\n",
    "    prompt=prompt,\n",
    ")\n",
    "print(completion.result)\n",
    "\"\"\"\n",
    "\n",
    "completion = mistral(prompt, model=\"mistral-large-latest\")\n",
    "print(completion)"
   ]
  },
  {
   "cell_type": "markdown",
   "id": "913e102f-e4d7-4ac8-9b76-3a0c1b3790b9",
   "metadata": {},
   "source": [
    "#### Extract information and format it as a table"
   ]
  },
  {
   "cell_type": "code",
   "execution_count": 8,
   "id": "efdfe0f7-678c-4ad6-bdcb-4cc299512570",
   "metadata": {
    "height": 336
   },
   "outputs": [],
   "source": [
    "prompt = \"\"\" A bright and promising wildlife biologist \\\n",
    "named Jesse Plank (Amara Patel) is determined to make her \\\n",
    "mark on the world. \n",
    "Jesse moves to Texas for what she believes is her dream job, \n",
    "only to discover a dark secret that will make \\\n",
    "her question everything. \n",
    "In the new lab she quickly befriends the outgoing \\\n",
    "lab tech named Maya Jones (Chloe Nguyen), \n",
    "and the lab director Sam Porter (Fredrik Johansson). \n",
    "Together the trio work long hours on their research \\\n",
    "in a hope to change the world for good. \n",
    "Along the way they meet the comical \\\n",
    "Brenna Ode (Eleanor Garcia) who is a marketing lead \\\n",
    "at the research institute, \n",
    "and marine biologist Siri Teller (Freya Johansson).\n",
    "\n",
    "Extract the characters, their jobs \\\n",
    "and the actors who played them from the above message as a table\n",
    "\"\"\""
   ]
  },
  {
   "cell_type": "code",
   "execution_count": 9,
   "id": "92efacae-afe4-4cd2-9d6d-cb565d102ccc",
   "metadata": {
    "height": 64
   },
   "outputs": [
    {
     "name": "stdout",
     "output_type": "stream",
     "text": [
      "Sure, here is the information extracted into a table format:\n",
      "\n",
      "| Character Name  | Job Title                | Actor Name          |\n",
      "|-----------------|--------------------------|---------------------|\n",
      "| Jesse Plank     | Wildlife Biologist       | Amara Patel         |\n",
      "| Maya Jones     | Lab Tech                | Chloe Nguyen        |\n",
      "| Sam Porter      | Lab Director            | Fredrik Johansson   |\n",
      "| Brenna Ode      | Marketing Lead          | Eleanor Garcia      |\n",
      "| Siri Teller     | Marine Biologist        | Freya Johansson     |\n",
      "\n",
      "This table lists the characters, their respective jobs, and the actors who played them.\n"
     ]
    }
   ],
   "source": [
    "\"\"\"\n",
    "#response = generation_model.predict(prompt=prompt)\n",
    "#print(response.text)\n",
    "completion = palm.generate_text(\n",
    "    model=model,\n",
    "    prompt=prompt,\n",
    ")\n",
    "print(completion.result)\n",
    "\"\"\"\n",
    "\n",
    "completion = mistral(prompt, model=\"mistral-large-latest\")\n",
    "print(completion)"
   ]
  },
  {
   "cell_type": "markdown",
   "id": "d80be8ca-4732-4b39-a5e6-5db1d3b02218",
   "metadata": {},
   "source": [
    "- You can copy-paste the text into a markdown cell to see if it displays a table."
   ]
  },
  {
   "cell_type": "markdown",
   "id": "fe3c0e93-7fe8-4fc0-b78e-b61440db32f9",
   "metadata": {},
   "source": [
    "| Character | Job | Actor |\n",
    "|---|---|---|\n",
    "| Jesse Plank | Wildlife Biologist | Amara Patel |\n",
    "| Maya Jones | Lab Tech | Chloe Nguyen |\n",
    "| Sam Porter | Lab Director | Fredrik Johansson |\n",
    "| Brenna Ode | Marketing Lead | Eleanor Garcia |\n",
    "| Siri Teller | Marine Biologist | Freya Johansson |"
   ]
  },
  {
   "cell_type": "markdown",
   "id": "87b9c406-2b3f-4fb0-a181-201091013864",
   "metadata": {},
   "source": [
    "### Adjusting Creativity/Randomness\n",
    "- You can control the behavior of the language model's decoding strategy by adjusting the temperature, top-k, and top-n parameters.\n",
    "- For tasks for which you want the model to consistently output the same result for the same input, (such as classification or information extraction), set temperature to zero.\n",
    "- For tasks where you desire more creativity, such as brainstorming, summarization, choose a higher temperature (up to 1)."
   ]
  },
  {
   "cell_type": "code",
   "execution_count": 42,
   "id": "f629e383-b4ad-4fa6-a949-435dd1f04da6",
   "metadata": {
    "height": 30
   },
   "outputs": [],
   "source": [
    "temperature = 0.0"
   ]
  },
  {
   "cell_type": "code",
   "execution_count": 43,
   "id": "84519df4-9b6f-471c-8183-27cc4a151d7d",
   "metadata": {
    "height": 64
   },
   "outputs": [],
   "source": [
    "prompt = \"Complete the sentence: \\\n",
    "As I prepared the picture frame, \\\n",
    "I reached into my toolkit to fetch my:\""
   ]
  },
  {
   "cell_type": "code",
   "execution_count": 44,
   "id": "2a2fe53e-d885-411c-bb2e-c3940884d30f",
   "metadata": {
    "height": 81
   },
   "outputs": [
    {
     "name": "stdout",
     "output_type": "stream",
     "text": [
      "As I prepared the picture frame, I reached into my toolkit to fetch my: **screwdriver**.\n"
     ]
    }
   ],
   "source": [
    "\"\"\"\n",
    "#response = generation_model.predict(\n",
    "#    prompt=prompt,\n",
    "#    temperature=temperature,\n",
    "#)\n",
    "completion = palm.generate_text(\n",
    "    model=model,\n",
    "    prompt=prompt,\n",
    "    temperature=temperature,\n",
    ")\n",
    "\"\"\"\n",
    "\n",
    "completion = mistral(prompt, model=\"mistral-large-latest\", temperature=temperature)\n",
    "print(completion)"
   ]
  },
  {
   "cell_type": "code",
   "execution_count": 45,
   "id": "2be86a8a-a58f-4b9e-bd66-9eced64e549c",
   "metadata": {
    "height": 47
   },
   "outputs": [
    {
     "name": "stdout",
     "output_type": "stream",
     "text": [
      "[temperature = 0.0]\n",
      "As I prepared the picture frame, I reached into my toolkit to fetch my: **screwdriver**.\n"
     ]
    }
   ],
   "source": [
    "print(f\"[temperature = {temperature}]\")\n",
    "#print(response.text)\n",
    "#print(completion.result)\n",
    "print(completion)\n"
   ]
  },
  {
   "cell_type": "code",
   "execution_count": 46,
   "id": "ac5bd8e5-8fdc-4d94-acf9-10b7d3b34ba8",
   "metadata": {
    "height": 30
   },
   "outputs": [],
   "source": [
    "temperature = 1.0"
   ]
  },
  {
   "cell_type": "code",
   "execution_count": 47,
   "id": "f0bf346d-2617-460e-bc47-f331b92ed053",
   "metadata": {
    "height": 81
   },
   "outputs": [
    {
     "name": "stdout",
     "output_type": "stream",
     "text": [
      "As I prepared the picture frame, I reached into my toolkit to fetch my hammer and nails.\n"
     ]
    }
   ],
   "source": [
    "\"\"\"\n",
    "response = generation_model.predict(\n",
    "    prompt=prompt,\n",
    "    temperature=temperature,\n",
    ")\n",
    "\n",
    "completion = palm.generate_text(\n",
    "    model=model,\n",
    "    prompt=prompt,\n",
    "    temperature=temperature,\n",
    ")\n",
    "\"\"\"\n",
    "\n",
    "completion = mistral(prompt, model=\"mistral-large-latest\", temperature=temperature)\n",
    "print(completion)"
   ]
  },
  {
   "cell_type": "code",
   "execution_count": 48,
   "id": "67e25ae3-a1ae-4379-ad32-8d79e52b7590",
   "metadata": {
    "height": 47
   },
   "outputs": [
    {
     "name": "stdout",
     "output_type": "stream",
     "text": [
      "[temperature = 1.0]\n",
      "As I prepared the picture frame, I reached into my toolkit to fetch my hammer and nails.\n"
     ]
    }
   ],
   "source": [
    "print(f\"[temperature = {temperature}]\")\n",
    "#print(response.text)\n",
    "#print(completion.result)\n",
    "print(completion)"
   ]
  },
  {
   "cell_type": "markdown",
   "id": "d60e7397-d75a-4041-940e-71c9aaade9b7",
   "metadata": {},
   "source": [
    "# Mistral doesn't have top_k"
   ]
  },
  {
   "cell_type": "markdown",
   "id": "fea806c4-f955-4434-89a5-57fd9083e9d3",
   "metadata": {},
   "source": [
    "#### Top P\n",
    "- Top p: sample the minimum set of tokens whose probabilities add up to probability `p` or greater.\n",
    "- The default value for `top_p` is `0.95`.\n",
    "- If you want to adjust `top_p` and `top_k` and see different results, remember to set `temperature` to be greater than zero, otherwise the model will always choose the token with the highest probability."
   ]
  },
  {
   "cell_type": "code",
   "execution_count": 49,
   "id": "af98a491-6da8-4cca-bf16-85f9547e7fe5",
   "metadata": {
    "height": 30
   },
   "outputs": [],
   "source": [
    "top_p = 0.2"
   ]
  },
  {
   "cell_type": "code",
   "execution_count": 50,
   "id": "2e195211-60ea-4103-b083-19e78a26c920",
   "metadata": {
    "height": 47
   },
   "outputs": [],
   "source": [
    "prompt = \"Write an advertisement for jackets \\\n",
    "that involves blue elephants and avocados.\""
   ]
  },
  {
   "cell_type": "code",
   "execution_count": 51,
   "id": "28093674-1a83-4abb-999a-030df75b2125",
   "metadata": {
    "height": 98
   },
   "outputs": [
    {
     "name": "stdout",
     "output_type": "stream",
     "text": [
      "🌟 **🐘 BLUE ELEPHANT JACKETS 🥑 SALE! 🌟**\n",
      "\n",
      "💥 **UNLEASH YOUR WILD SIDE WITH STYLE! 💥**\n",
      "\n",
      "🐘 **Introducing our Limited Edition Blue Elephant Jackets!** 🐘\n",
      "- 💙 **Stunning Blue Hues**: Inspired by the majestic blue elephants of our dreams, these jackets are designed to make you stand out in the crowd!\n",
      "- 🌳 **Eco-Friendly Materials**: Made from sustainable fabrics, because we care about our planet as much as you do!\n",
      "- 🐘 **Unique Elephant Designs**: Featuring trendy elephant prints and patterns, each jacket tells a story of adventure and imagination!\n",
      "\n",
      "🥑 **AVOCADO TWIST! 🥑**\n",
      "- 🍴 **Avocado Green Accents**: Our jackets are lined with soft avocado green fabric, adding a fun and fresh contrast to the blue elephant design!\n",
      "- 🍹 **Free Avocado Treat**: With every jacket purchase, we'll treat you to a FREE avocado smoothie from our partner café! Because who doesn't love a little green goodness? 😋\n",
      "\n",
      "💨 **PERFECT FOR ANY OCCASION!** 💨\n",
      "- 🌳 Casual weekend adventures\n",
      "- 🎸 Music festivals and concerts\n",
      "- 🏞 Chilly evening walks by the park\n",
      "- ☕ Cozy café catch-ups with friends\n",
      "\n",
      "💥 **HURRY! LIMITED STOCK AVAILABLE! 💥**\n",
      "\n",
      "🛍️ **Shop now at our online store or visit us in-store!** 🛍️\n",
      "- Use promo code **BLUEAVO20** at checkout and enjoy 20% OFF your Blue Elephant Jacket purchase!\n",
      "\n",
      "🐘 **Join the Blue Elephant revolution and let's make a statement together!** 🥑\n",
      "\n",
      "**[Shop Now]** | **[Find a Store Near You]** | **[Follow Us on Social Media for More Exciting Offers!]**\n",
      "\n",
      "#BlueElephantJackets #AvocadoLove #EcoFashion #LimitedEdition #UnleashYourWildSide\n"
     ]
    }
   ],
   "source": [
    "\"\"\"\n",
    "response = generation_model.predict(\n",
    "    prompt=prompt, \n",
    "    temperature=0.9, \n",
    "    top_p=top_p,\n",
    ")\n",
    "\n",
    "completion = palm.generate_text(\n",
    "    model=model,\n",
    "    prompt=prompt,\n",
    "    temperature=0.9,\n",
    "    top_p=top_p,\n",
    ")\n",
    "\"\"\"\n",
    "\n",
    "completion = mistral(prompt, model=\"mistral-large-latest\", temperature=0.9, top_p=top_p)\n",
    "print(completion)"
   ]
  },
  {
   "cell_type": "code",
   "execution_count": 52,
   "id": "30a4ce9d-7520-44bc-af24-dc1b6ad61b50",
   "metadata": {
    "height": 47
   },
   "outputs": [
    {
     "name": "stdout",
     "output_type": "stream",
     "text": [
      "[top_p = 0.2]\n",
      "🌟 **🐘 BLUE ELEPHANT JACKETS 🥑 SALE! 🌟**\n",
      "\n",
      "💥 **UNLEASH YOUR WILD SIDE WITH STYLE! 💥**\n",
      "\n",
      "🐘 **Introducing our Limited Edition Blue Elephant Jackets!** 🐘\n",
      "- 💙 **Stunning Blue Hues**: Inspired by the majestic blue elephants of our dreams, these jackets are designed to make you stand out in the crowd!\n",
      "- 🌳 **Eco-Friendly Materials**: Made from sustainable fabrics, because we care about our planet as much as you do!\n",
      "- 🐘 **Unique Elephant Designs**: Featuring trendy elephant prints and patterns, each jacket tells a story of adventure and imagination!\n",
      "\n",
      "🥑 **AVOCADO TWIST! 🥑**\n",
      "- 🍴 **Avocado Green Accents**: Our jackets are lined with soft avocado green fabric, adding a fun and fresh contrast to the blue elephant design!\n",
      "- 🍹 **Free Avocado Treat**: With every jacket purchase, we'll treat you to a FREE avocado smoothie from our partner café! Because who doesn't love a little green goodness? 😋\n",
      "\n",
      "💨 **PERFECT FOR ANY OCCASION!** 💨\n",
      "- 🌳 Casual weekend adventures\n",
      "- 🎸 Music festivals and concerts\n",
      "- 🏞 Chilly evening walks by the park\n",
      "- ☕ Cozy café catch-ups with friends\n",
      "\n",
      "💥 **HURRY! LIMITED STOCK AVAILABLE! 💥**\n",
      "\n",
      "🛍️ **Shop now at our online store or visit us in-store!** 🛍️\n",
      "- Use promo code **BLUEAVO20** at checkout and enjoy 20% OFF your Blue Elephant Jacket purchase!\n",
      "\n",
      "🐘 **Join the Blue Elephant revolution and let's make a statement together!** 🥑\n",
      "\n",
      "**[Shop Now]** | **[Find a Store Near You]** | **[Follow Us on Social Media for More Exciting Offers!]**\n",
      "\n",
      "#BlueElephantJackets #AvocadoLove #EcoFashion #LimitedEdition #UnleashYourWildSide\n"
     ]
    }
   ],
   "source": [
    "print(f\"[top_p = {top_p}]\")\n",
    "#print(response.text)\n",
    "#print(completion.result)\n",
    "print(completion)"
   ]
  },
  {
   "cell_type": "markdown",
   "id": "02817243-ef3f-440a-8846-33dc46963b41",
   "metadata": {},
   "source": [
    "#### Top k\n",
    "- The default value for `top_k` is `40`.\n",
    "- You can set `top_k` to values between `1` and `40`.\n",
    "- The decoding strategy applies `top_k`, then `top_p`, then `temperature` (in that order)."
   ]
  },
  {
   "cell_type": "code",
   "execution_count": 20,
   "id": "f6603255-1e19-47ce-8a77-634b33c1e99f",
   "metadata": {
    "height": 47
   },
   "outputs": [],
   "source": [
    "\"\"\"\n",
    "top_k = 20\n",
    "top_p = 0.7\n",
    "\"\"\""
   ]
  },
  {
   "cell_type": "code",
   "execution_count": 21,
   "id": "ef545757-b37c-4b39-b7e9-3ebc4ec1d910",
   "metadata": {
    "height": 115
   },
   "outputs": [],
   "source": [
    "\"\"\"\n",
    "response = generation_model.predict(\n",
    "    prompt=prompt, \n",
    "    temperature=0.9, \n",
    "    top_k=top_k,\n",
    "    top_p=top_p,\n",
    ")\n",
    "\n",
    "completion = palm.generate_text(\n",
    "    model=model,\n",
    "    prompt=prompt,\n",
    "    temperature=0.9,\n",
    "    top_k=top_k,\n",
    "    top_p=top_p,\n",
    ")\n",
    "\"\"\""
   ]
  },
  {
   "cell_type": "code",
   "execution_count": 22,
   "id": "d09c4f8d-df9d-4d61-9ab6-19958f8b4129",
   "metadata": {
    "height": 47
   },
   "outputs": [
    {
     "name": "stdout",
     "output_type": "stream",
     "text": [
      "[top_p = 0.7]\n",
      "**Introducing the new Blue Elephant Avocado Jacket!**\n",
      "\n",
      "This stylish jacket is made from a soft, durable fabric that will keep you warm and comfortable all winter long. The blue color is perfect for any season, and the elephant and avocado print is sure to turn heads wherever you go.\n",
      "\n",
      "Whether you're running errands, meeting friends for coffee, or just hanging out at home, the Blue Elephant Avocado Jacket is the perfect way to stay warm and stylish.\n",
      "\n",
      "**Order yours today!**\n",
      "\n",
      "**[Image of a person wearing the Blue Elephant Avocado Jacket]**\n",
      "\n",
      "**[Caption: Stay warm and stylish this winter with the Blue Elephant Avocado Jacket!]**\n",
      "\n",
      "**[Call to action: Order yours today!]**\n"
     ]
    }
   ],
   "source": [
    "\"\"\"\n",
    "print(f\"[top_p = {top_p}]\")\n",
    "#print(response.text)\n",
    "print(completion.result)\n",
    "\"\"\""
   ]
  },
  {
   "cell_type": "code",
   "execution_count": null,
   "id": "005c5ff2-03f0-4dcd-a808-c92c9c5bbb0a",
   "metadata": {
    "height": 30
   },
   "outputs": [],
   "source": []
  }
 ],
 "metadata": {
  "kernelspec": {
   "display_name": "Python 3 (ipykernel)",
   "language": "python",
   "name": "python3"
  },
  "language_info": {
   "codemirror_mode": {
    "name": "ipython",
    "version": 3
   },
   "file_extension": ".py",
   "mimetype": "text/x-python",
   "name": "python",
   "nbconvert_exporter": "python",
   "pygments_lexer": "ipython3",
   "version": "3.11.4"
  }
 },
 "nbformat": 4,
 "nbformat_minor": 5
}
