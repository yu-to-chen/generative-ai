{
 "cells": [
  {
   "cell_type": "markdown",
   "id": "ff18aec7",
   "metadata": {},
   "source": [
    "# Lesson 3: Prompting for structure and setting up a retry method \n",
    "\n",
    "In this notebook, you'll learn how to combine Pydantic with retry strategies to reliably extract structured output from an LLM.\n",
    "\n",
    "By the end, you'll be able to:\n",
    "- Define structured data models for LLM responses\n",
    "- Build robust retry mechanisms for validation errors\n",
    "- Create reusable functions for LLM interactions\n",
    "\n",
    "---\n",
    "\n",
    "### Import packages and initialize the OpenAI client"
   ]
  },
  {
   "cell_type": "markdown",
   "id": "48566137-f9f0-47ce-821d-65e1b7ed3ef2",
   "metadata": {},
   "source": [
    "### Rewrite to use \"qwen2.5:14b\" instead"
   ]
  },
  {
   "cell_type": "code",
   "execution_count": 1,
   "id": "b663f423",
   "metadata": {
    "height": 132
   },
   "outputs": [],
   "source": [
    "# Import necessary packages\n",
    "from pydantic import BaseModel, ValidationError, Field, EmailStr\n",
    "from typing import List, Literal, Optional\n",
    "import json\n",
    "from datetime import date\n",
    "from dotenv import load_dotenv\n",
    "#import openai"
   ]
  },
  {
   "cell_type": "code",
   "execution_count": 2,
   "id": "831dfbb9",
   "metadata": {
    "height": 81
   },
   "outputs": [
    {
     "data": {
      "text/plain": [
       "True"
      ]
     },
     "execution_count": 2,
     "metadata": {},
     "output_type": "execute_result"
    }
   ],
   "source": [
    "# Load environment variables for API access\n",
    "load_dotenv()\n",
    "# Initialize OpenAI client for API calls\n",
    "#client = openai.OpenAI()"
   ]
  },
  {
   "cell_type": "markdown",
   "id": "a014bd26",
   "metadata": {},
   "source": [
    "### Define some sample input data"
   ]
  },
  {
   "cell_type": "code",
   "execution_count": 3,
   "id": "d9e8446f",
   "metadata": {
    "height": 183
   },
   "outputs": [],
   "source": [
    "# Define a JSON string representing user input\n",
    "user_input_json = '''\n",
    "{\n",
    "    \"name\": \"Joe User\",\n",
    "    \"email\": \"joe.user@example.com\",\n",
    "    \"query\": \"I forgot my password.\",\n",
    "    \"order_number\": null,\n",
    "    \"purchase_date\": null\n",
    "}\n",
    "'''"
   ]
  },
  {
   "cell_type": "markdown",
   "id": "47cf1220",
   "metadata": {},
   "source": [
    "### Define your UserInput data model"
   ]
  },
  {
   "cell_type": "code",
   "execution_count": 4,
   "id": "0ee3d7bf",
   "metadata": {
    "height": 217
   },
   "outputs": [],
   "source": [
    "# Define UserInput model\n",
    "class UserInput(BaseModel):\n",
    "    name: str\n",
    "    email: EmailStr\n",
    "    query: str\n",
    "    order_id: Optional[int] = Field(\n",
    "        None,\n",
    "        description=\"5-digit order number (cannot start with 0)\",\n",
    "        ge=10000,\n",
    "        le=99999\n",
    "    )\n",
    "    purchase_date: Optional[date] = None"
   ]
  },
  {
   "cell_type": "code",
   "execution_count": 5,
   "id": "c1df5466",
   "metadata": {
    "height": 47
   },
   "outputs": [],
   "source": [
    "# Create UserInput instance from JSON data\n",
    "user_input = UserInput.model_validate_json(user_input_json)"
   ]
  },
  {
   "cell_type": "markdown",
   "id": "f8337578",
   "metadata": {},
   "source": [
    "### Create a new data model called CustomerQuery"
   ]
  },
  {
   "cell_type": "code",
   "execution_count": 6,
   "id": "b7354431",
   "metadata": {
    "height": 217
   },
   "outputs": [],
   "source": [
    "# Define the CustomerQuery model that inherits from UserInput\n",
    "class CustomerQuery(UserInput):\n",
    "    priority: str = Field(\n",
    "        ..., description=\"Priority level: low, medium, high\"\n",
    "    )\n",
    "    category: Literal[\n",
    "        'refund_request', 'information_request', 'other'\n",
    "    ] = Field(..., description=\"Query category\")\n",
    "    is_complaint: bool = Field(\n",
    "        ..., description=\"Whether this is a complaint\"\n",
    "    )\n",
    "    tags: List[str] = Field(..., description=\"Relevant keyword tags\")"
   ]
  },
  {
   "cell_type": "markdown",
   "id": "8a42dae9",
   "metadata": {},
   "source": [
    "### Construct a prompt with example output"
   ]
  },
  {
   "cell_type": "code",
   "execution_count": 7,
   "id": "db5fbbb8",
   "metadata": {
    "height": 217
   },
   "outputs": [],
   "source": [
    "# Create a prompt with generic example data to guide LLM.\n",
    "example_response_structure = f\"\"\"{{\n",
    "    name=\"Example User\",\n",
    "    email=\"user@example.com\",\n",
    "    query=\"I ordered a new computer monitor and it arrived with the screen cracked. I need to exchange it for a new one.\",\n",
    "    order_id=12345,\n",
    "    purchase_date=\"2025-12-31\",\n",
    "    priority=\"medium\",\n",
    "    category=\"refund_request\",\n",
    "    is_complaint=True,\n",
    "    tags=[\"monitor\", \"support\", \"exchange\"] \n",
    "}}\"\"\""
   ]
  },
  {
   "cell_type": "code",
   "execution_count": 8,
   "id": "ce12cb08",
   "metadata": {
    "height": 234
   },
   "outputs": [
    {
     "name": "stdout",
     "output_type": "stream",
     "text": [
      "\n",
      "Please analyze this user query\n",
      " {\n",
      "  \"name\": \"Joe User\",\n",
      "  \"email\": \"joe.user@example.com\",\n",
      "  \"query\": \"I forgot my password.\",\n",
      "  \"order_id\": null,\n",
      "  \"purchase_date\": null\n",
      "}:\n",
      "\n",
      "Return your analysis as a JSON object matching this exact structure \n",
      "and data types:\n",
      "{\n",
      "    name=\"Example User\",\n",
      "    email=\"user@example.com\",\n",
      "    query=\"I ordered a new computer monitor and it arrived with the screen cracked. I need to exchange it for a new one.\",\n",
      "    order_id=12345,\n",
      "    purchase_date=\"2025-12-31\",\n",
      "    priority=\"medium\",\n",
      "    category=\"refund_request\",\n",
      "    is_complaint=True,\n",
      "    tags=[\"monitor\", \"support\", \"exchange\"] \n",
      "}\n",
      "\n",
      "Respond ONLY with valid JSON. Do not include any explanations or \n",
      "other text or formatting before or after the JSON object.\n",
      "\n"
     ]
    }
   ],
   "source": [
    "# Create prompt with user data and expected JSON structure\n",
    "prompt = f\"\"\"\n",
    "Please analyze this user query\\n {user_input.model_dump_json(indent=2)}:\n",
    "\n",
    "Return your analysis as a JSON object matching this exact structure \n",
    "and data types:\n",
    "{example_response_structure}\n",
    "\n",
    "Respond ONLY with valid JSON. Do not include any explanations or \n",
    "other text or formatting before or after the JSON object.\n",
    "\"\"\"\n",
    "\n",
    "print(prompt)"
   ]
  },
  {
   "cell_type": "markdown",
   "id": "da900118",
   "metadata": {},
   "source": [
    "### Define a function to call an LLM and try it with your prompt"
   ]
  },
  {
   "cell_type": "code",
   "execution_count": 9,
   "id": "d0693378",
   "metadata": {
    "height": 132
   },
   "outputs": [
    {
     "data": {
      "text/plain": [
       "'\\n# Define a function to call the LLM\\ndef call_llm(prompt, model=\"gpt-4o\"):\\n    response = client.chat.completions.create(\\n        model=model,\\n        messages=[{\"role\": \"user\", \"content\": prompt}]\\n    )\\n    return response.choices[0].message.content\\n'"
      ]
     },
     "execution_count": 9,
     "metadata": {},
     "output_type": "execute_result"
    }
   ],
   "source": [
    "\"\"\"\n",
    "# Define a function to call the LLM\n",
    "def call_llm(prompt, model=\"gpt-4o\"):\n",
    "    response = client.chat.completions.create(\n",
    "        model=model,\n",
    "        messages=[{\"role\": \"user\", \"content\": prompt}]\n",
    "    )\n",
    "    return response.choices[0].message.content\n",
    "\"\"\""
   ]
  },
  {
   "cell_type": "code",
   "execution_count": 10,
   "id": "be8284b3-a3e8-4cbd-a3f6-7e16b6ec4f84",
   "metadata": {},
   "outputs": [],
   "source": [
    "import ollama\n",
    "\n",
    "def call_llm(prompt, model=\"qwen2.5:14b\"):\n",
    "    response = ollama.chat(\n",
    "        model=model,\n",
    "        messages=[{\"role\": \"user\", \"content\": prompt}]\n",
    "    )\n",
    "    return response['message']['content']\n"
   ]
  },
  {
   "cell_type": "code",
   "execution_count": 11,
   "id": "9e31aebc",
   "metadata": {
    "height": 64
   },
   "outputs": [
    {
     "name": "stdout",
     "output_type": "stream",
     "text": [
      "{\n",
      "    \"name\": \"Joe User\",\n",
      "    \"email\": \"joe.user@example.com\",\n",
      "    \"query\": \"I forgot my password.\",\n",
      "    \"order_id\": null,\n",
      "    \"purchase_date\": null,\n",
      "    \"priority\": \"low\",\n",
      "    \"category\": \"password_reset_request\",\n",
      "    \"is_complaint\": false,\n",
      "    \"tags\": [\"account\", \"login\"]\n",
      "}\n"
     ]
    }
   ],
   "source": [
    "# Get response from LLM\n",
    "response_content = call_llm(prompt)\n",
    "print(response_content)"
   ]
  },
  {
   "cell_type": "markdown",
   "id": "c35b2ed3",
   "metadata": {},
   "source": [
    "### Validate the LLM output using your CustomerQuery model"
   ]
  },
  {
   "cell_type": "markdown",
   "id": "1df9eded",
   "metadata": {},
   "source": [
    "### Note: the following cell will produce a validation error. This is expected. You can simply proceed with the rest of the notebook as cells below do not depend on this cell. "
   ]
  },
  {
   "cell_type": "code",
   "execution_count": 12,
   "id": "c0a28c96",
   "metadata": {
    "height": 47
   },
   "outputs": [
    {
     "ename": "ValidationError",
     "evalue": "1 validation error for CustomerQuery\ncategory\n  Input should be 'refund_request', 'information_request' or 'other' [type=literal_error, input_value='password_reset_request', input_type=str]\n    For further information visit https://errors.pydantic.dev/2.11/v/literal_error",
     "output_type": "error",
     "traceback": [
      "\u001b[0;31m---------------------------------------------------------------------------\u001b[0m",
      "\u001b[0;31mValidationError\u001b[0m                           Traceback (most recent call last)",
      "Cell \u001b[0;32mIn[12], line 2\u001b[0m\n\u001b[1;32m      1\u001b[0m \u001b[38;5;66;03m# Attempt to parse the response into CustomerQuery model\u001b[39;00m\n\u001b[0;32m----> 2\u001b[0m valid_data \u001b[38;5;241m=\u001b[39m \u001b[43mCustomerQuery\u001b[49m\u001b[38;5;241;43m.\u001b[39;49m\u001b[43mmodel_validate_json\u001b[49m\u001b[43m(\u001b[49m\u001b[43mresponse_content\u001b[49m\u001b[43m)\u001b[49m\n",
      "File \u001b[0;32m~/Documents/experimental/PydanticModel/.venv/lib/python3.10/site-packages/pydantic/main.py:746\u001b[0m, in \u001b[0;36mBaseModel.model_validate_json\u001b[0;34m(cls, json_data, strict, context, by_alias, by_name)\u001b[0m\n\u001b[1;32m    740\u001b[0m \u001b[38;5;28;01mif\u001b[39;00m by_alias \u001b[38;5;129;01mis\u001b[39;00m \u001b[38;5;28;01mFalse\u001b[39;00m \u001b[38;5;129;01mand\u001b[39;00m by_name \u001b[38;5;129;01mis\u001b[39;00m \u001b[38;5;129;01mnot\u001b[39;00m \u001b[38;5;28;01mTrue\u001b[39;00m:\n\u001b[1;32m    741\u001b[0m     \u001b[38;5;28;01mraise\u001b[39;00m PydanticUserError(\n\u001b[1;32m    742\u001b[0m         \u001b[38;5;124m'\u001b[39m\u001b[38;5;124mAt least one of `by_alias` or `by_name` must be set to True.\u001b[39m\u001b[38;5;124m'\u001b[39m,\n\u001b[1;32m    743\u001b[0m         code\u001b[38;5;241m=\u001b[39m\u001b[38;5;124m'\u001b[39m\u001b[38;5;124mvalidate-by-alias-and-name-false\u001b[39m\u001b[38;5;124m'\u001b[39m,\n\u001b[1;32m    744\u001b[0m     )\n\u001b[0;32m--> 746\u001b[0m \u001b[38;5;28;01mreturn\u001b[39;00m \u001b[38;5;28;43mcls\u001b[39;49m\u001b[38;5;241;43m.\u001b[39;49m\u001b[43m__pydantic_validator__\u001b[49m\u001b[38;5;241;43m.\u001b[39;49m\u001b[43mvalidate_json\u001b[49m\u001b[43m(\u001b[49m\n\u001b[1;32m    747\u001b[0m \u001b[43m    \u001b[49m\u001b[43mjson_data\u001b[49m\u001b[43m,\u001b[49m\u001b[43m \u001b[49m\u001b[43mstrict\u001b[49m\u001b[38;5;241;43m=\u001b[39;49m\u001b[43mstrict\u001b[49m\u001b[43m,\u001b[49m\u001b[43m \u001b[49m\u001b[43mcontext\u001b[49m\u001b[38;5;241;43m=\u001b[39;49m\u001b[43mcontext\u001b[49m\u001b[43m,\u001b[49m\u001b[43m \u001b[49m\u001b[43mby_alias\u001b[49m\u001b[38;5;241;43m=\u001b[39;49m\u001b[43mby_alias\u001b[49m\u001b[43m,\u001b[49m\u001b[43m \u001b[49m\u001b[43mby_name\u001b[49m\u001b[38;5;241;43m=\u001b[39;49m\u001b[43mby_name\u001b[49m\n\u001b[1;32m    748\u001b[0m \u001b[43m\u001b[49m\u001b[43m)\u001b[49m\n",
      "\u001b[0;31mValidationError\u001b[0m: 1 validation error for CustomerQuery\ncategory\n  Input should be 'refund_request', 'information_request' or 'other' [type=literal_error, input_value='password_reset_request', input_type=str]\n    For further information visit https://errors.pydantic.dev/2.11/v/literal_error"
     ]
    }
   ],
   "source": [
    "# Attempt to parse the response into CustomerQuery model\n",
    "valid_data = CustomerQuery.model_validate_json(response_content)"
   ]
  },
  {
   "cell_type": "markdown",
   "id": "cc028767",
   "metadata": {},
   "source": [
    "### Define a function for error handling"
   ]
  },
  {
   "cell_type": "code",
   "execution_count": 13,
   "id": "3f4eac4c",
   "metadata": {
    "height": 234
   },
   "outputs": [],
   "source": [
    "# Define a function to validate an LLM response\n",
    "def validate_with_model(data_model, llm_response):\n",
    "    try:\n",
    "        validated_data = data_model.model_validate_json(llm_response)\n",
    "        print(\"data validation successful!\")\n",
    "        print(validated_data.model_dump_json(indent=2))\n",
    "        return validated_data, None\n",
    "    except ValidationError as e:\n",
    "        print(f\"error validating data: {e}\")\n",
    "        error_message = (\n",
    "            f\"This response generated a validation error: {e}.\"\n",
    "        )\n",
    "        return None, error_message"
   ]
  },
  {
   "cell_type": "code",
   "execution_count": 14,
   "id": "f6386ae2",
   "metadata": {
    "height": 81
   },
   "outputs": [
    {
     "name": "stdout",
     "output_type": "stream",
     "text": [
      "error validating data: 1 validation error for CustomerQuery\n",
      "category\n",
      "  Input should be 'refund_request', 'information_request' or 'other' [type=literal_error, input_value='password_reset_request', input_type=str]\n",
      "    For further information visit https://errors.pydantic.dev/2.11/v/literal_error\n"
     ]
    }
   ],
   "source": [
    "# Test your validation function with the LLM response\n",
    "validated_data, validation_error = validate_with_model(\n",
    "    CustomerQuery, response_content\n",
    ")"
   ]
  },
  {
   "cell_type": "markdown",
   "id": "87a45068",
   "metadata": {},
   "source": [
    "### Define a function to create a retry prompt including error details"
   ]
  },
  {
   "cell_type": "code",
   "execution_count": 15,
   "id": "aaf4c3ba",
   "metadata": {
    "height": 506
   },
   "outputs": [],
   "source": [
    "# Define a function to create a retry prompt with error feedback\n",
    "def create_retry_prompt(\n",
    "    original_prompt, original_response, error_message\n",
    "):\n",
    "    retry_prompt = f\"\"\"\n",
    "This is a request to fix an error in the structure of an llm_response.\n",
    "Here is the original request:\n",
    "<original_prompt>\n",
    "{original_prompt}\n",
    "</original_prompt>\n",
    "\n",
    "Here is the original llm_response:\n",
    "<llm_response>\n",
    "{original_response}\n",
    "</llm_response>\n",
    "\n",
    "This response generated an error: \n",
    "<error_message>\n",
    "{error_message}\n",
    "</error_message>\n",
    "\n",
    "Compare the error message and the llm_response and identify what \n",
    "needs to be fixed or removed\n",
    "in the llm_response to resolve this error. \n",
    "\n",
    "Respond ONLY with valid JSON. Do not include any explanations or \n",
    "other text or formatting before or after the JSON string.\n",
    "\"\"\"\n",
    "    return retry_prompt"
   ]
  },
  {
   "cell_type": "code",
   "execution_count": 16,
   "id": "36e9d6a8",
   "metadata": {
    "height": 149
   },
   "outputs": [
    {
     "name": "stdout",
     "output_type": "stream",
     "text": [
      "\n",
      "This is a request to fix an error in the structure of an llm_response.\n",
      "Here is the original request:\n",
      "<original_prompt>\n",
      "\n",
      "Please analyze this user query\n",
      " {\n",
      "  \"name\": \"Joe User\",\n",
      "  \"email\": \"joe.user@example.com\",\n",
      "  \"query\": \"I forgot my password.\",\n",
      "  \"order_id\": null,\n",
      "  \"purchase_date\": null\n",
      "}:\n",
      "\n",
      "Return your analysis as a JSON object matching this exact structure \n",
      "and data types:\n",
      "{\n",
      "    name=\"Example User\",\n",
      "    email=\"user@example.com\",\n",
      "    query=\"I ordered a new computer monitor and it arrived with the screen cracked. I need to exchange it for a new one.\",\n",
      "    order_id=12345,\n",
      "    purchase_date=\"2025-12-31\",\n",
      "    priority=\"medium\",\n",
      "    category=\"refund_request\",\n",
      "    is_complaint=True,\n",
      "    tags=[\"monitor\", \"support\", \"exchange\"] \n",
      "}\n",
      "\n",
      "Respond ONLY with valid JSON. Do not include any explanations or \n",
      "other text or formatting before or after the JSON object.\n",
      "\n",
      "</original_prompt>\n",
      "\n",
      "Here is the original llm_response:\n",
      "<llm_response>\n",
      "{\n",
      "    \"name\": \"Joe User\",\n",
      "    \"email\": \"joe.user@example.com\",\n",
      "    \"query\": \"I forgot my password.\",\n",
      "    \"order_id\": null,\n",
      "    \"purchase_date\": null,\n",
      "    \"priority\": \"low\",\n",
      "    \"category\": \"password_reset_request\",\n",
      "    \"is_complaint\": false,\n",
      "    \"tags\": [\"account\", \"login\"]\n",
      "}\n",
      "</llm_response>\n",
      "\n",
      "This response generated an error: \n",
      "<error_message>\n",
      "This response generated a validation error: 1 validation error for CustomerQuery\n",
      "category\n",
      "  Input should be 'refund_request', 'information_request' or 'other' [type=literal_error, input_value='password_reset_request', input_type=str]\n",
      "    For further information visit https://errors.pydantic.dev/2.11/v/literal_error.\n",
      "</error_message>\n",
      "\n",
      "Compare the error message and the llm_response and identify what \n",
      "needs to be fixed or removed\n",
      "in the llm_response to resolve this error. \n",
      "\n",
      "Respond ONLY with valid JSON. Do not include any explanations or \n",
      "other text or formatting before or after the JSON string.\n",
      "\n"
     ]
    }
   ],
   "source": [
    "# Create a retry prompt for validation errors\n",
    "validation_retry_prompt = create_retry_prompt(\n",
    "    original_prompt=prompt,\n",
    "    original_response=response_content,\n",
    "    error_message=validation_error\n",
    ")\n",
    "\n",
    "print(validation_retry_prompt)"
   ]
  },
  {
   "cell_type": "markdown",
   "id": "4136f8d5",
   "metadata": {},
   "source": [
    "### Call the LLM with your retry prompt"
   ]
  },
  {
   "cell_type": "code",
   "execution_count": 17,
   "id": "efaed200",
   "metadata": {
    "height": 64
   },
   "outputs": [
    {
     "name": "stdout",
     "output_type": "stream",
     "text": [
      "{\n",
      "    \"name\": \"Joe User\",\n",
      "    \"email\": \"joe.user@example.com\",\n",
      "    \"query\": \"I forgot my password.\",\n",
      "    \"order_id\": null,\n",
      "    \"purchase_date\": null,\n",
      "    \"priority\": \"low\",\n",
      "    \"category\": \"other\",\n",
      "    \"is_complaint\": false,\n",
      "    \"tags\": [\"account\", \"login\"]\n",
      "}\n"
     ]
    }
   ],
   "source": [
    "# Call the LLM with the validation retry prompt\n",
    "validation_retry_response = call_llm(validation_retry_prompt)\n",
    "print(validation_retry_response)"
   ]
  },
  {
   "cell_type": "code",
   "execution_count": 18,
   "id": "45c6bf94",
   "metadata": {
    "height": 81
   },
   "outputs": [
    {
     "name": "stdout",
     "output_type": "stream",
     "text": [
      "data validation successful!\n",
      "{\n",
      "  \"name\": \"Joe User\",\n",
      "  \"email\": \"joe.user@example.com\",\n",
      "  \"query\": \"I forgot my password.\",\n",
      "  \"order_id\": null,\n",
      "  \"purchase_date\": null,\n",
      "  \"priority\": \"low\",\n",
      "  \"category\": \"other\",\n",
      "  \"is_complaint\": false,\n",
      "  \"tags\": [\n",
      "    \"account\",\n",
      "    \"login\"\n",
      "  ]\n",
      "}\n"
     ]
    }
   ],
   "source": [
    "# Attempt to validate retry response from LLM\n",
    "validated_data, validation_error = validate_with_model(\n",
    "    CustomerQuery, validation_retry_response\n",
    ")"
   ]
  },
  {
   "cell_type": "markdown",
   "id": "ebfe7564",
   "metadata": {},
   "source": [
    "### Create a second retry prompt"
   ]
  },
  {
   "cell_type": "code",
   "execution_count": 19,
   "id": "471ac9f0",
   "metadata": {
    "height": 149
   },
   "outputs": [
    {
     "name": "stdout",
     "output_type": "stream",
     "text": [
      "\n",
      "This is a request to fix an error in the structure of an llm_response.\n",
      "Here is the original request:\n",
      "<original_prompt>\n",
      "\n",
      "This is a request to fix an error in the structure of an llm_response.\n",
      "Here is the original request:\n",
      "<original_prompt>\n",
      "\n",
      "Please analyze this user query\n",
      " {\n",
      "  \"name\": \"Joe User\",\n",
      "  \"email\": \"joe.user@example.com\",\n",
      "  \"query\": \"I forgot my password.\",\n",
      "  \"order_id\": null,\n",
      "  \"purchase_date\": null\n",
      "}:\n",
      "\n",
      "Return your analysis as a JSON object matching this exact structure \n",
      "and data types:\n",
      "{\n",
      "    name=\"Example User\",\n",
      "    email=\"user@example.com\",\n",
      "    query=\"I ordered a new computer monitor and it arrived with the screen cracked. I need to exchange it for a new one.\",\n",
      "    order_id=12345,\n",
      "    purchase_date=\"2025-12-31\",\n",
      "    priority=\"medium\",\n",
      "    category=\"refund_request\",\n",
      "    is_complaint=True,\n",
      "    tags=[\"monitor\", \"support\", \"exchange\"] \n",
      "}\n",
      "\n",
      "Respond ONLY with valid JSON. Do not include any explanations or \n",
      "other text or formatting before or after the JSON object.\n",
      "\n",
      "</original_prompt>\n",
      "\n",
      "Here is the original llm_response:\n",
      "<llm_response>\n",
      "{\n",
      "    \"name\": \"Joe User\",\n",
      "    \"email\": \"joe.user@example.com\",\n",
      "    \"query\": \"I forgot my password.\",\n",
      "    \"order_id\": null,\n",
      "    \"purchase_date\": null,\n",
      "    \"priority\": \"low\",\n",
      "    \"category\": \"password_reset_request\",\n",
      "    \"is_complaint\": false,\n",
      "    \"tags\": [\"account\", \"login\"]\n",
      "}\n",
      "</llm_response>\n",
      "\n",
      "This response generated an error: \n",
      "<error_message>\n",
      "This response generated a validation error: 1 validation error for CustomerQuery\n",
      "category\n",
      "  Input should be 'refund_request', 'information_request' or 'other' [type=literal_error, input_value='password_reset_request', input_type=str]\n",
      "    For further information visit https://errors.pydantic.dev/2.11/v/literal_error.\n",
      "</error_message>\n",
      "\n",
      "Compare the error message and the llm_response and identify what \n",
      "needs to be fixed or removed\n",
      "in the llm_response to resolve this error. \n",
      "\n",
      "Respond ONLY with valid JSON. Do not include any explanations or \n",
      "other text or formatting before or after the JSON string.\n",
      "\n",
      "</original_prompt>\n",
      "\n",
      "Here is the original llm_response:\n",
      "<llm_response>\n",
      "{\n",
      "    \"name\": \"Joe User\",\n",
      "    \"email\": \"joe.user@example.com\",\n",
      "    \"query\": \"I forgot my password.\",\n",
      "    \"order_id\": null,\n",
      "    \"purchase_date\": null,\n",
      "    \"priority\": \"low\",\n",
      "    \"category\": \"other\",\n",
      "    \"is_complaint\": false,\n",
      "    \"tags\": [\"account\", \"login\"]\n",
      "}\n",
      "</llm_response>\n",
      "\n",
      "This response generated an error: \n",
      "<error_message>\n",
      "None\n",
      "</error_message>\n",
      "\n",
      "Compare the error message and the llm_response and identify what \n",
      "needs to be fixed or removed\n",
      "in the llm_response to resolve this error. \n",
      "\n",
      "Respond ONLY with valid JSON. Do not include any explanations or \n",
      "other text or formatting before or after the JSON string.\n",
      "\n"
     ]
    }
   ],
   "source": [
    "# Create a second retry prompt for validation errors\n",
    "second_validation_retry_prompt = create_retry_prompt(\n",
    "    original_prompt=validation_retry_prompt,\n",
    "    original_response=validation_retry_response,\n",
    "    error_message=validation_error\n",
    ")\n",
    "\n",
    "print(second_validation_retry_prompt)"
   ]
  },
  {
   "cell_type": "code",
   "execution_count": 20,
   "id": "165f17d4",
   "metadata": {
    "height": 98
   },
   "outputs": [
    {
     "name": "stdout",
     "output_type": "stream",
     "text": [
      "{\n",
      "    \"name\": \"Joe User\",\n",
      "    \"email\": \"joe.user@example.com\",\n",
      "    \"query\": \"I forgot my password.\",\n",
      "    \"order_id\": null,\n",
      "    \"purchase_date\": null,\n",
      "    \"priority\": \"low\",\n",
      "    \"category\": \"password_reset_request\",\n",
      "    \"is_complaint\": false,\n",
      "    \"tags\": [\"account\", \"login\"]\n",
      "}\n"
     ]
    }
   ],
   "source": [
    "# Call the LLM with the second validation retry prompt\n",
    "second_validation_retry_response = call_llm(\n",
    "    second_validation_retry_prompt\n",
    ")\n",
    "print(second_validation_retry_response)"
   ]
  },
  {
   "cell_type": "markdown",
   "id": "c414cdf2",
   "metadata": {},
   "source": [
    "### Define a function to handle multiple retries in a feedback loop"
   ]
  },
  {
   "cell_type": "code",
   "execution_count": 24,
   "id": "3f5ffccd",
   "metadata": {
    "height": 659
   },
   "outputs": [],
   "source": [
    "# Define a function to automatically retry an LLM call multiple times\n",
    "def validate_llm_response(\n",
    "    #prompt, data_model, n_retry=5, model=\"gpt-4o\"\n",
    "    prompt, data_model, n_retry=5, model=\"qwen2.5:14b\"\n",
    "):\n",
    "    # Initial LLM call\n",
    "    response_content = call_llm(prompt, model=model)\n",
    "    current_prompt = prompt\n",
    "\n",
    "    # Try to validate with the model\n",
    "    # attempt: 0=initial, 1=first retry, ...\n",
    "    for attempt in range(n_retry + 1):\n",
    "\n",
    "        validated_data, validation_error = validate_with_model(\n",
    "            data_model, response_content\n",
    "        )\n",
    "\n",
    "        if validation_error:\n",
    "            if attempt < n_retry:\n",
    "                print(f\"retry {attempt} of {n_retry} failed, trying again...\")\n",
    "            else:\n",
    "                print(f\"Max retries reached. Last error: {validation_error}\")\n",
    "                return None, (\n",
    "                    f\"Max retries reached. Last error: {validation_error}\"\n",
    "                )\n",
    "\n",
    "            validation_retry_prompt = create_retry_prompt(\n",
    "                original_prompt=current_prompt,\n",
    "                original_response=response_content,\n",
    "                error_message=validation_error\n",
    "            )\n",
    "            response_content = call_llm(\n",
    "                validation_retry_prompt, model=model\n",
    "            )\n",
    "            current_prompt = validation_retry_prompt\n",
    "            continue\n",
    "\n",
    "        # If you get here, both parsing and validation succeeded\n",
    "        return validated_data, None"
   ]
  },
  {
   "cell_type": "code",
   "execution_count": 25,
   "id": "bab75c35",
   "metadata": {
    "height": 81
   },
   "outputs": [
    {
     "name": "stdout",
     "output_type": "stream",
     "text": [
      "error validating data: 1 validation error for CustomerQuery\n",
      "category\n",
      "  Input should be 'refund_request', 'information_request' or 'other' [type=literal_error, input_value='password_reset', input_type=str]\n",
      "    For further information visit https://errors.pydantic.dev/2.11/v/literal_error\n",
      "retry 0 of 5 failed, trying again...\n",
      "data validation successful!\n",
      "{\n",
      "  \"name\": \"Joe User\",\n",
      "  \"email\": \"joe.user@example.com\",\n",
      "  \"query\": \"I forgot my password.\",\n",
      "  \"order_id\": null,\n",
      "  \"purchase_date\": null,\n",
      "  \"priority\": \"low\",\n",
      "  \"category\": \"other\",\n",
      "  \"is_complaint\": false,\n",
      "  \"tags\": [\n",
      "    \"account\",\n",
      "    \"login\"\n",
      "  ]\n",
      "}\n"
     ]
    }
   ],
   "source": [
    "# Test your complete solution with the original prompt\n",
    "validated_data, error = validate_llm_response(\n",
    "    prompt, CustomerQuery\n",
    ")"
   ]
  },
  {
   "cell_type": "markdown",
   "id": "872bff52",
   "metadata": {},
   "source": [
    "### Have a look at the JSON schema of your CustomerQuery data model"
   ]
  },
  {
   "cell_type": "code",
   "execution_count": 26,
   "id": "274df4e2",
   "metadata": {
    "height": 98
   },
   "outputs": [
    {
     "name": "stdout",
     "output_type": "stream",
     "text": [
      "{\n",
      "  \"properties\": {\n",
      "    \"name\": {\n",
      "      \"title\": \"Name\",\n",
      "      \"type\": \"string\"\n",
      "    },\n",
      "    \"email\": {\n",
      "      \"format\": \"email\",\n",
      "      \"title\": \"Email\",\n",
      "      \"type\": \"string\"\n",
      "    },\n",
      "    \"query\": {\n",
      "      \"title\": \"Query\",\n",
      "      \"type\": \"string\"\n",
      "    },\n",
      "    \"order_id\": {\n",
      "      \"anyOf\": [\n",
      "        {\n",
      "          \"maximum\": 99999,\n",
      "          \"minimum\": 10000,\n",
      "          \"type\": \"integer\"\n",
      "        },\n",
      "        {\n",
      "          \"type\": \"null\"\n",
      "        }\n",
      "      ],\n",
      "      \"default\": null,\n",
      "      \"description\": \"5-digit order number (cannot start with 0)\",\n",
      "      \"title\": \"Order Id\"\n",
      "    },\n",
      "    \"purchase_date\": {\n",
      "      \"anyOf\": [\n",
      "        {\n",
      "          \"format\": \"date\",\n",
      "          \"type\": \"string\"\n",
      "        },\n",
      "        {\n",
      "          \"type\": \"null\"\n",
      "        }\n",
      "      ],\n",
      "      \"default\": null,\n",
      "      \"title\": \"Purchase Date\"\n",
      "    },\n",
      "    \"priority\": {\n",
      "      \"description\": \"Priority level: low, medium, high\",\n",
      "      \"title\": \"Priority\",\n",
      "      \"type\": \"string\"\n",
      "    },\n",
      "    \"category\": {\n",
      "      \"description\": \"Query category\",\n",
      "      \"enum\": [\n",
      "        \"refund_request\",\n",
      "        \"information_request\",\n",
      "        \"other\"\n",
      "      ],\n",
      "      \"title\": \"Category\",\n",
      "      \"type\": \"string\"\n",
      "    },\n",
      "    \"is_complaint\": {\n",
      "      \"description\": \"Whether this is a complaint\",\n",
      "      \"title\": \"Is Complaint\",\n",
      "      \"type\": \"boolean\"\n",
      "    },\n",
      "    \"tags\": {\n",
      "      \"description\": \"Relevant keyword tags\",\n",
      "      \"items\": {\n",
      "        \"type\": \"string\"\n",
      "      },\n",
      "      \"title\": \"Tags\",\n",
      "      \"type\": \"array\"\n",
      "    }\n",
      "  },\n",
      "  \"required\": [\n",
      "    \"name\",\n",
      "    \"email\",\n",
      "    \"query\",\n",
      "    \"priority\",\n",
      "    \"category\",\n",
      "    \"is_complaint\",\n",
      "    \"tags\"\n",
      "  ],\n",
      "  \"title\": \"CustomerQuery\",\n",
      "  \"type\": \"object\"\n",
      "}\n"
     ]
    }
   ],
   "source": [
    "# Investigate the model_json_schema for CustomerQuery\n",
    "data_model_schema = json.dumps(\n",
    "    CustomerQuery.model_json_schema(), indent=2\n",
    ")\n",
    "print(data_model_schema)"
   ]
  },
  {
   "cell_type": "code",
   "execution_count": 27,
   "id": "10bb71c0",
   "metadata": {
    "height": 47
   },
   "outputs": [
    {
     "name": "stdout",
     "output_type": "stream",
     "text": [
      "\n",
      "Please analyze this user query\n",
      " {\n",
      "  \"name\": \"Joe User\",\n",
      "  \"email\": \"joe.user@example.com\",\n",
      "  \"query\": \"I forgot my password.\",\n",
      "  \"order_id\": null,\n",
      "  \"purchase_date\": null\n",
      "}:\n",
      "\n",
      "Return your analysis as a JSON object matching this exact structure \n",
      "and data types:\n",
      "{\n",
      "    name=\"Example User\",\n",
      "    email=\"user@example.com\",\n",
      "    query=\"I ordered a new computer monitor and it arrived with the screen cracked. I need to exchange it for a new one.\",\n",
      "    order_id=12345,\n",
      "    purchase_date=\"2025-12-31\",\n",
      "    priority=\"medium\",\n",
      "    category=\"refund_request\",\n",
      "    is_complaint=True,\n",
      "    tags=[\"monitor\", \"support\", \"exchange\"] \n",
      "}\n",
      "\n",
      "Respond ONLY with valid JSON. Do not include any explanations or \n",
      "other text or formatting before or after the JSON object.\n",
      "\n"
     ]
    }
   ],
   "source": [
    "# Print the original prompt from above\n",
    "print(prompt)"
   ]
  },
  {
   "cell_type": "markdown",
   "id": "975f95d8",
   "metadata": {},
   "source": [
    "### Construct a new prompt using the JSON schema of your data model"
   ]
  },
  {
   "cell_type": "code",
   "execution_count": 28,
   "id": "aa1aa232",
   "metadata": {
    "height": 183
   },
   "outputs": [],
   "source": [
    "# Create new prompt with user input and model_json_schema\n",
    "prompt = f\"\"\"\n",
    "Please analyze this user query\\n {user_input.model_dump_json(indent=2)}:\n",
    "\n",
    "Return your analysis as a JSON object matching the following schema:\n",
    "{data_model_schema}\n",
    "\n",
    "Respond ONLY with valid JSON. Do not include any explanations or \n",
    "other text or formatting before or after the JSON object.\n",
    "\"\"\""
   ]
  },
  {
   "cell_type": "code",
   "execution_count": 29,
   "id": "2d21919a",
   "metadata": {
    "height": 81
   },
   "outputs": [
    {
     "name": "stdout",
     "output_type": "stream",
     "text": [
      "data validation successful!\n",
      "{\n",
      "  \"name\": \"Joe User\",\n",
      "  \"email\": \"joe.user@example.com\",\n",
      "  \"query\": \"I forgot my password.\",\n",
      "  \"order_id\": null,\n",
      "  \"purchase_date\": null,\n",
      "  \"priority\": \"low\",\n",
      "  \"category\": \"other\",\n",
      "  \"is_complaint\": false,\n",
      "  \"tags\": [\n",
      "    \"password\",\n",
      "    \"forgot\"\n",
      "  ]\n",
      "}\n"
     ]
    }
   ],
   "source": [
    "# Run your validate_llm_response function with the new prompt\n",
    "final_analysis, error = validate_llm_response(\n",
    "    prompt, CustomerQuery\n",
    ")"
   ]
  },
  {
   "cell_type": "markdown",
   "id": "30963c1a",
   "metadata": {},
   "source": [
    "---\n",
    "\n",
    "## Conclusion\n",
    "\n",
    "In this lesson, you explored how to combine Pydantic models with retry logic to reliably extract structured data from LLM outputs. You practiced building reusable validation functions and prompts, and saw how robust error handling can help you get consistent, usable results from language models. These techniques will help you confidently scale up your LLM-powered workflows."
   ]
  },
  {
   "cell_type": "code",
   "execution_count": null,
   "id": "925c23ad-6ea2-4a3b-b5d6-5a4ed587cae7",
   "metadata": {},
   "outputs": [],
   "source": []
  }
 ],
 "metadata": {
  "kernelspec": {
   "display_name": "Python 3 (ipykernel)",
   "language": "python",
   "name": "python3"
  },
  "language_info": {
   "codemirror_mode": {
    "name": "ipython",
    "version": 3
   },
   "file_extension": ".py",
   "mimetype": "text/x-python",
   "name": "python",
   "nbconvert_exporter": "python",
   "pygments_lexer": "ipython3",
   "version": "3.10.13"
  }
 },
 "nbformat": 4,
 "nbformat_minor": 5
}
