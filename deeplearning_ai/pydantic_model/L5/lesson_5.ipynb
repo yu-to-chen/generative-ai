{
 "cells": [
  {
   "cell_type": "markdown",
   "id": "6f4e903a",
   "metadata": {},
   "source": [
    "# Lesson 5: Tool Calling with Pydantic Models and OpenAI\n",
    "\n",
    "In this lesson, you'll learn how to use Pydantic models to define tools for OpenAI's tool calling API. You'll see how to reuse your existing models to create robust, validated tool definitions, and how to handle tool calls in your Python code. This lesson builds on your `UserInput` and `CustomerQuery` models from previous lessons.\n",
    "\n",
    "By the end of this lesson, you'll be able to:\n",
    "- Use Pydantic models to define tool schemas for OpenAI's tool calling API\n",
    "- Register your tool with the API using a validated schema\n",
    "- Handle tool calls and validate arguments with Pydantic\n",
    "- Integrate LLM-driven workflows with your own Python functions and data sources\n",
    "\n",
    "---\n",
    "\n",
    "### Import all required libraries and set up your environment"
   ]
  },
  {
   "cell_type": "code",
   "execution_count": 1,
   "id": "77381ddd",
   "metadata": {
    "height": 234
   },
   "outputs": [],
   "source": [
    "# Import packages\n",
    "from pydantic import BaseModel, Field, EmailStr, field_validator\n",
    "from pydantic_ai import Agent\n",
    "from typing import Literal, List, Optional\n",
    "from datetime import datetime, date\n",
    "import json\n",
    "from openai import OpenAI\n",
    "import anthropic\n",
    "import instructor\n",
    "from dotenv import load_dotenv\n",
    "load_dotenv()\n",
    "import nest_asyncio\n",
    "nest_asyncio.apply()"
   ]
  },
  {
   "cell_type": "markdown",
   "id": "9b430dce",
   "metadata": {},
   "source": [
    "### Define your Pydantic models for user input and LLM output"
   ]
  },
  {
   "cell_type": "code",
   "execution_count": 2,
   "id": "625c9ca5",
   "metadata": {
    "height": 438
   },
   "outputs": [],
   "source": [
    "# Define your UserInput model\n",
    "class UserInput(BaseModel):\n",
    "    name: str = Field(..., description=\"User's name\")\n",
    "    email: EmailStr = Field(..., description=\"User's email address\")\n",
    "    query: str = Field(..., description=\"User's query\")\n",
    "    order_id: Optional[str] = Field(\n",
    "        None,\n",
    "        description=\"Order ID if available (format: ABC-12345)\"\n",
    "    )\n",
    "    # Validate order_id format (e.g., ABC-12345)\n",
    "    @field_validator(\"order_id\")\n",
    "    def validate_order_id(cls, order_id):\n",
    "        import re\n",
    "        if order_id is None:\n",
    "            return order_id\n",
    "        pattern = r\"^[A-Z]{3}-\\d{5}$\"\n",
    "        if not re.match(pattern, order_id):\n",
    "            raise ValueError(\n",
    "                \"order_id must be in format ABC-12345 \"\n",
    "                \"(3 uppercase letters, dash, 5 digits)\"\n",
    "            )\n",
    "        return order_id\n",
    "    purchase_date: Optional[date] = None\n",
    "\n"
   ]
  },
  {
   "cell_type": "code",
   "execution_count": 3,
   "id": "edfc3d84",
   "metadata": {
    "height": 217
   },
   "outputs": [],
   "source": [
    "# Define your CustomerQuery model\n",
    "class CustomerQuery(UserInput):\n",
    "    priority: str = Field(\n",
    "        ..., description=\"Priority level: low, medium, high\"\n",
    "    )\n",
    "    category: Literal[\n",
    "        'refund_request', 'information_request', 'other'\n",
    "    ] = Field(..., description=\"Query category\")\n",
    "    is_complaint: bool = Field(\n",
    "        ..., description=\"Whether this is a complaint\"\n",
    "    )\n",
    "    tags: List[str] = Field(..., description=\"Relevant keyword tags\")"
   ]
  },
  {
   "cell_type": "markdown",
   "id": "ddeeff10",
   "metadata": {},
   "source": [
    "### Validate user input and create a CustomerQuery instance"
   ]
  },
  {
   "cell_type": "code",
   "execution_count": 4,
   "id": "7d808ad8",
   "metadata": {
    "height": 234
   },
   "outputs": [],
   "source": [
    "# Define a function to validate user input\n",
    "def validate_user_input(user_json: str):\n",
    "    \"\"\"Validate user input from a JSON string and return a UserInput \n",
    "    instance if valid.\"\"\"\n",
    "    try:\n",
    "        user_input = (\n",
    "            UserInput.model_validate_json(user_json)\n",
    "        )\n",
    "        print(\"user input validated...\")\n",
    "        return user_input\n",
    "    except Exception as e:\n",
    "        print(f\" Unexpected error: {e}\")\n",
    "        return None"
   ]
  },
  {
   "cell_type": "code",
   "execution_count": 5,
   "id": "fc275d7c",
   "metadata": {
    "height": 166
   },
   "outputs": [],
   "source": [
    "# Define a function to call an LLM using Pydantic AI to create an instance of CustomerQuery\n",
    "def create_customer_query(valid_user_json: str) -> CustomerQuery:\n",
    "    customer_query_agent = Agent(\n",
    "        model=\"google-gla:gemini-2.0-flash\",\n",
    "        output_type=CustomerQuery,\n",
    "    )\n",
    "    response = customer_query_agent.run_sync(valid_user_json)\n",
    "    print(\"CustomerQuery generated...\")\n",
    "    return response.output"
   ]
  },
  {
   "cell_type": "markdown",
   "id": "5e54f05d",
   "metadata": {},
   "source": [
    "### Try out your validation and query creation with sample input"
   ]
  },
  {
   "cell_type": "code",
   "execution_count": 6,
   "id": "6d61c9ab",
   "metadata": {
    "height": 268
   },
   "outputs": [
    {
     "name": "stdout",
     "output_type": "stream",
     "text": [
      "user input validated...\n",
      "CustomerQuery generated...\n",
      "<class '__main__.CustomerQuery'>\n",
      "{\n",
      "  \"name\": \"Joe User\",\n",
      "  \"email\": \"joe@example.com\",\n",
      "  \"query\": \"When can I expect delivery of the headphones I ordered?\",\n",
      "  \"order_id\": \"ABC-12345\",\n",
      "  \"purchase_date\": \"2025-12-01\",\n",
      "  \"priority\": \"medium\",\n",
      "  \"category\": \"information_request\",\n",
      "  \"is_complaint\": false,\n",
      "  \"tags\": [\n",
      "    \"delivery\",\n",
      "    \"headphones\"\n",
      "  ]\n",
      "}\n"
     ]
    }
   ],
   "source": [
    "# Define user input JSON data\n",
    "user_input_json = '''\n",
    "{\n",
    "    \"name\": \"Joe User\",\n",
    "    \"email\": \"joe@example.com\",\n",
    "    \"query\": \"When can I expect delivery of the headphones I ordered?\",\n",
    "    \"order_id\": \"ABC-12345\",\n",
    "    \"purchase_date\": \"2025-12-01\"\n",
    "}\n",
    "'''\n",
    "# Validate user input and create a CustomerQuery\n",
    "valid_data = validate_user_input(user_input_json).model_dump_json()\n",
    "customer_query = create_customer_query(valid_data)\n",
    "print(type(customer_query))\n",
    "print(customer_query.model_dump_json(indent=2))"
   ]
  },
  {
   "cell_type": "markdown",
   "id": "5f8aa75d",
   "metadata": {},
   "source": [
    "### Define tool input models for FAQ lookup and order status"
   ]
  },
  {
   "cell_type": "code",
   "execution_count": 7,
   "id": "0808ce03",
   "metadata": {
    "height": 115
   },
   "outputs": [],
   "source": [
    "# Define FAQ Lookup tool input as a Pydantic model\n",
    "class FAQLookupArgs(BaseModel):\n",
    "    query: str = Field(..., description=\"User's query\") \n",
    "    tags: List[str] = Field(\n",
    "        ..., description=\"Relevant keyword tags from the customer query\"\n",
    "    )"
   ]
  },
  {
   "cell_type": "code",
   "execution_count": 8,
   "id": "02f48958",
   "metadata": {
    "height": 302
   },
   "outputs": [],
   "source": [
    "# Define Check Order Status tool input as a Pydantic model\n",
    "class CheckOrderStatusArgs(BaseModel):\n",
    "    order_id: str = Field(\n",
    "        ..., description=\"Customer's order ID (format: ABC-12345)\"\n",
    "    )\n",
    "    email: EmailStr = Field(..., description=\"Customer's email address\")\n",
    "\n",
    "    @field_validator(\"order_id\")\n",
    "    def validate_order_id(cls, order_id):\n",
    "        import re\n",
    "        pattern = r\"^[A-Z]{3}-\\d{5}$\"\n",
    "        if not re.match(pattern, order_id):\n",
    "            raise ValueError(\n",
    "                \"order_id must be in format ABC-12345 \"\n",
    "                \"(3 uppercase letters, dash, 5 digits)\"\n",
    "            )\n",
    "        return order_id"
   ]
  },
  {
   "cell_type": "markdown",
   "id": "0cc02b40",
   "metadata": {},
   "source": [
    "### Create example FAQ and order databases"
   ]
  },
  {
   "cell_type": "code",
   "execution_count": 9,
   "id": "d727a804",
   "metadata": {
    "height": 676
   },
   "outputs": [],
   "source": [
    "# Create a fake FAQ database as a list of entries with keywords\n",
    "faq_db = [\n",
    "    {\n",
    "        \"question\": \"How can I reset my password?\",\n",
    "        \"answer\": \"To reset your password, click 'Forgot Password' on the sign-in page and follow the instructions sent to your email.\",\n",
    "        \"keywords\": [\"password\", \"reset\", \"account\"]\n",
    "    },\n",
    "    {\n",
    "        \"question\": \"How long does shipping take?\",\n",
    "        \"answer\": \"Standard shipping takes 3-5 business days. You can track your order in your account dashboard.\",\n",
    "        \"keywords\": [\"shipping\", \"delivery\", \"order\", \"tracking\"]\n",
    "    },\n",
    "    {\n",
    "        \"question\": \"How can I return an item?\",\n",
    "        \"answer\": \"You can return any item within 30 days of purchase. Visit our returns page to start the process.\",\n",
    "        \"keywords\": [\"return\", \"refund\", \"exchange\"]\n",
    "    },\n",
    "    {\n",
    "        \"question\": \"How can I delete my account?\",\n",
    "        \"answer\": \"To delete your account, go to your account settings tab and select 'delete account'.\",\n",
    "        \"keywords\": [\"delete\", \"account\", \"remove\"]\n",
    "    }\n",
    "]\n",
    "\n",
    "# Create a fake order database\n",
    "order_db = {\n",
    "    \"ABC-12345\": {\n",
    "        \"status\": \"shipped\", \"estimated_delivery\": \"2025-12-05\",\n",
    "        \"purchase_date\": \"2025-12-01\", \"email\": \"joe@example.com\"\n",
    "    },\n",
    "    \"XYZ-23456\": {\n",
    "        \"status\": \"processing\", \"estimated_delivery\": \"2025-12-15\",\n",
    "        \"purchase_date\": \"2025-12-10\", \"email\": \"sue@example.com\"\n",
    "    },\n",
    "    \"QWE-34567\": {\n",
    "        \"status\": \"delivered\", \"estimated_delivery\": \"2025-12-20\",\n",
    "        \"purchase_date\": \"2025-12-18\", \"email\": \"bob@example.com\"\n",
    "    }\n",
    "}"
   ]
  },
  {
   "cell_type": "markdown",
   "id": "967410e5",
   "metadata": {},
   "source": [
    "### Implement tool functions for FAQ lookup and order status"
   ]
  },
  {
   "cell_type": "code",
   "execution_count": 10,
   "id": "1f3ec625",
   "metadata": {
    "height": 302
   },
   "outputs": [],
   "source": [
    "# Define your FAQ lookup tool\n",
    "def lookup_faq_answer(args: FAQLookupArgs) -> str:\n",
    "    \"\"\"Look up an FAQ answer by matching tags and words in query \n",
    "    to FAQ entry keywords.\"\"\"\n",
    "    query_words = set(word.lower() for word in args.query.split())\n",
    "    tag_set = set(tag.lower() for tag in args.tags)\n",
    "    best_match = None\n",
    "    best_score = 0\n",
    "    for faq in faq_db:\n",
    "        keywords = set(k.lower() for k in faq[\"keywords\"])\n",
    "        score = len(keywords & tag_set) + len(keywords & query_words)\n",
    "        if score > best_score:\n",
    "            best_score = score\n",
    "            best_match = faq\n",
    "    if best_match and best_score > 0:\n",
    "        return best_match[\"answer\"]\n",
    "    return \"Sorry, I couldn't find an FAQ answer for your question.\""
   ]
  },
  {
   "cell_type": "code",
   "execution_count": 11,
   "id": "ad844661",
   "metadata": {
    "height": 438
   },
   "outputs": [],
   "source": [
    "# Define your check order status tool\n",
    "def check_order_status(args: CheckOrderStatusArgs):\n",
    "    \"\"\"Simulate checking the status of a customer's order by \n",
    "    order_id and email.\"\"\"\n",
    "    order = order_db.get(args.order_id)\n",
    "    if not order:\n",
    "        return {\n",
    "            \"order_id\": args.order_id,\n",
    "            \"status\": \"not found\",\n",
    "            \"estimated_delivery\": None,\n",
    "            \"note\": \"order_id not found\"\n",
    "        }\n",
    "    if args.email.lower() != order.get(\"email\", \"\").lower():\n",
    "        return {\n",
    "            \"order_id\": args.order_id,\n",
    "            \"status\": order[\"status\"],\n",
    "            \"estimated_delivery\": order[\"estimated_delivery\"],\n",
    "            \"note\": \"order_id found but email mismatch\"\n",
    "        }\n",
    "    return {\n",
    "        \"order_id\": args.order_id,\n",
    "        \"status\": order[\"status\"],\n",
    "        \"estimated_delivery\": order[\"estimated_delivery\"],\n",
    "        \"note\": \"order_id and email match\"\n",
    "    }"
   ]
  },
  {
   "cell_type": "markdown",
   "id": "8691a12c",
   "metadata": {},
   "source": [
    "### Define tool schemas for OpenAI tool calling"
   ]
  },
  {
   "cell_type": "code",
   "execution_count": 12,
   "id": "c64829f3",
   "metadata": {
    "height": 336
   },
   "outputs": [],
   "source": [
    "# Define tools for your API call\n",
    "tool_definitions = [\n",
    "    {\n",
    "        \"type\": \"function\",\n",
    "        \"function\": {\n",
    "            \"name\": \"lookup_faq_answer\",\n",
    "            \"description\": \"Look up an FAQ answer by matching tags to FAQ entry keywords.\",\n",
    "            \"parameters\": FAQLookupArgs.model_json_schema()\n",
    "        }\n",
    "    },\n",
    "    {\n",
    "        \"type\": \"function\",\n",
    "        \"function\": {\n",
    "            \"name\": \"check_order_status\",\n",
    "            \"description\": \"Check the status of a customer's order.\",\n",
    "            \"parameters\": CheckOrderStatusArgs.model_json_schema()\n",
    "        }\n",
    "    }\n",
    "]"
   ]
  },
  {
   "cell_type": "markdown",
   "id": "8f3b9825",
   "metadata": {},
   "source": [
    "### Define your support ticket output model"
   ]
  },
  {
   "cell_type": "code",
   "execution_count": 13,
   "id": "4c9590e3",
   "metadata": {
    "height": 387
   },
   "outputs": [],
   "source": [
    "#Define your final output Pydantic models\n",
    "class OrderDetails(BaseModel):\n",
    "    status: str\n",
    "    estimated_delivery: str\n",
    "    note: str\n",
    "\n",
    "class SupportTicket(CustomerQuery):\n",
    "    recommended_next_action: Literal[\n",
    "        'escalate_to_agent', 'send_faq_response', \n",
    "        'send_order_status', 'no_action_needed'\n",
    "    ] = Field(\n",
    "        ..., description=\"LLM's recommended next action for support\"\n",
    "    )\n",
    "    order_details: Optional[OrderDetails] = Field(\n",
    "        None, description=\"Order details if action is send_order_status\"\n",
    "    )\n",
    "    faq_response: Optional[str] = Field(\n",
    "        None, description=\"FAQ response if action is send_faq_response\"\n",
    "    )\n",
    "    creation_date: datetime = Field(\n",
    "        ..., description=\"Date and time the ticket was created\"\n",
    "    )"
   ]
  },
  {
   "cell_type": "markdown",
   "id": "1f60555d",
   "metadata": {},
   "source": [
    "### Decide on the next support action using OpenAI tool calling"
   ]
  },
  {
   "cell_type": "code",
   "execution_count": 14,
   "id": "e5d5bde1",
   "metadata": {
    "height": 642
   },
   "outputs": [],
   "source": [
    "# Initialize OpenAI client\n",
    "client = OpenAI()\n",
    "\n",
    "# Define a function to call OpenAI with tools\n",
    "def decide_next_action_with_tools(customer_query: CustomerQuery):\n",
    "    \n",
    "    support_ticket_schema = json.dumps(\n",
    "        SupportTicket.model_json_schema(), indent=2\n",
    "    )\n",
    "    system_prompt = f\"\"\"\n",
    "        You are a helpful customer support agent. Your job is to \n",
    "        determine what support action should be taken for the customer, \n",
    "        based on the customer query and the expected fields in the \n",
    "        SupportTicket schema below. If more information on a particular \n",
    "        order_id or FAQ response would be helpful in responding to the \n",
    "        user query and can be obtained by calling a tool, call the \n",
    "        appropriate tool to get that information. If an order_id is \n",
    "        present in the query, always look up the order status to get \n",
    "        more information on the order.\n",
    "\n",
    "        Here is the JSON schema for the SupportTicket model you must \n",
    "        use as context for what information is expected:\n",
    "        {support_ticket_schema}\n",
    "    \"\"\"\n",
    "    messages = [\n",
    "        {\"role\": \"system\", \"content\": system_prompt},\n",
    "        {\"role\": \"user\", \"content\": str(customer_query.model_dump())}\n",
    "    ]\n",
    "    response = client.chat.completions.create(\n",
    "        #model=\"gpt-4o\",\n",
    "        model=\"gpt-4o-mini\",\n",
    "        messages=messages,\n",
    "        tools=tool_definitions,\n",
    "        tool_choice=\"auto\"\n",
    "    )\n",
    "    message = response.choices[0].message\n",
    "    tool_calls = getattr(message, \"tool_calls\", None)\n",
    "    return message, tool_calls, messages"
   ]
  },
  {
   "cell_type": "markdown",
   "id": "97ea3a33",
   "metadata": {},
   "source": [
    "### Inspect the LLM's outputs and tool calls"
   ]
  },
  {
   "cell_type": "code",
   "execution_count": 15,
   "id": "fbdbda29",
   "metadata": {
    "height": 183
   },
   "outputs": [
    {
     "name": "stdout",
     "output_type": "stream",
     "text": [
      "LLM message:\n",
      " {\n",
      "  \"content\": null,\n",
      "  \"refusal\": null,\n",
      "  \"role\": \"assistant\",\n",
      "  \"annotations\": [],\n",
      "  \"audio\": null,\n",
      "  \"function_call\": null,\n",
      "  \"tool_calls\": [\n",
      "    {\n",
      "      \"id\": \"call_JFhld0jqMiDOE3ysWyisdrLn\",\n",
      "      \"function\": {\n",
      "        \"arguments\": \"{\\\"order_id\\\":\\\"ABC-12345\\\",\\\"email\\\":\\\"joe@example.com\\\"}\",\n",
      "        \"name\": \"check_order_status\"\n",
      "      },\n",
      "      \"type\": \"function\"\n",
      "    }\n",
      "  ]\n",
      "}\n",
      "\n",
      "Tool calls:\n",
      " [\n",
      "  {\n",
      "    \"id\": \"call_JFhld0jqMiDOE3ysWyisdrLn\",\n",
      "    \"function\": {\n",
      "      \"arguments\": \"{\\\"order_id\\\":\\\"ABC-12345\\\",\\\"email\\\":\\\"joe@example.com\\\"}\",\n",
      "      \"name\": \"check_order_status\"\n",
      "    },\n",
      "    \"type\": \"function\"\n",
      "  }\n",
      "]\n"
     ]
    }
   ],
   "source": [
    "# Call the decide_next_action_with_tools function\n",
    "message, tool_calls, messages = decide_next_action_with_tools(\n",
    "    customer_query\n",
    ")\n",
    "# Investigate the LLM's outputs before proceeding\n",
    "print(\"LLM message:\\n\", json.dumps(message.model_dump(), indent=2))\n",
    "print(\n",
    "    \"\\nTool calls:\\n\", \n",
    "    json.dumps([call.model_dump() for call in tool_calls], indent=2)\n",
    ")"
   ]
  },
  {
   "cell_type": "markdown",
   "id": "5755107c",
   "metadata": {},
   "source": [
    "### Gather tool outputs and prepare for ticket generation"
   ]
  },
  {
   "cell_type": "code",
   "execution_count": 16,
   "id": "ede983e8",
   "metadata": {
    "height": 540
   },
   "outputs": [
    {
     "name": "stdout",
     "output_type": "stream",
     "text": [
      "Agent requested a call to Check Order Status tool...\n",
      "Check Order Status tool returned {'order_id': 'ABC-12345', 'status': 'shipped', 'estimated_delivery': '2025-12-05', 'note': 'order_id and email match'}\n",
      "Tool outputs:\n",
      " [\n",
      "  {\n",
      "    \"tool_call_id\": \"call_JFhld0jqMiDOE3ysWyisdrLn\",\n",
      "    \"output\": {\n",
      "      \"order_id\": \"ABC-12345\",\n",
      "      \"status\": \"shipped\",\n",
      "      \"estimated_delivery\": \"2025-12-05\",\n",
      "      \"note\": \"order_id and email match\"\n",
      "    }\n",
      "  }\n",
      "]\n"
     ]
    }
   ],
   "source": [
    "# Define a function to get tool outputs\n",
    "def get_tool_outputs(tool_calls):\n",
    "    tool_outputs = []\n",
    "    if tool_calls:\n",
    "        for tool_call in tool_calls:\n",
    "            if tool_call.function.name == \"lookup_faq_answer\":\n",
    "                print(\"Agent requested a call to the Lookup FAQ tool...\")\n",
    "                args = FAQLookupArgs.model_validate_json(\n",
    "                    tool_call.function.arguments\n",
    "                )\n",
    "                result = lookup_faq_answer(args)\n",
    "                tool_outputs.append({\n",
    "                    \"tool_call_id\": tool_call.id, \"output\": result\n",
    "                })\n",
    "                print(f\"Lookup FAQ tool returned {result}\")\n",
    "            elif tool_call.function.name == \"check_order_status\":\n",
    "                print(\"Agent requested a call to Check Order Status tool...\")\n",
    "                args = CheckOrderStatusArgs.model_validate_json(\n",
    "                    tool_call.function.arguments\n",
    "                )\n",
    "                result = check_order_status(args)\n",
    "                tool_outputs.append({\n",
    "                    \"tool_call_id\": tool_call.id, \"output\": result\n",
    "                })\n",
    "                print(f\"Check Order Status tool returned {result}\")\n",
    "    return tool_outputs\n",
    "\n",
    "tool_outputs = get_tool_outputs(tool_calls)\n",
    "\n",
    "# Print tool outputs for inspection\n",
    "print(\"Tool outputs:\\n\", json.dumps(tool_outputs, indent=2))"
   ]
  },
  {
   "cell_type": "markdown",
   "id": "533e57d8",
   "metadata": {},
   "source": [
    "### Generate a structured support ticket using Anthropic"
   ]
  },
  {
   "cell_type": "code",
   "execution_count": 17,
   "id": "0ffe1204",
   "metadata": {
    "height": 642
   },
   "outputs": [],
   "source": [
    "# Create the Anthropic client with Instructor\n",
    "anthropic_client = instructor.from_anthropic(\n",
    "    anthropic.Anthropic()\n",
    ")\n",
    "\n",
    "# Define a function to call Anthropic to generate a support ticket\n",
    "def generate_structured_support_ticket(\n",
    "    customer_query: CustomerQuery, message, tool_outputs: list\n",
    "):\n",
    "    tool_results_str = \"\\n\".join([\n",
    "        f\"Tool: {out['tool_call_id']} Output: {json.dumps(out['output'])}\"\n",
    "        for out in tool_outputs\n",
    "    ]) if tool_outputs else \"No tool calls were made.\"\n",
    "    # Concatenate prompt parts into a single string for Anthropic\n",
    "    prompt = f\"\"\"\n",
    "        You are a support agent. Use all information below to \n",
    "        generate a support ticket as a validated Pydantic model.\n",
    "        Customer query: {customer_query.model_dump_json(indent=2)}\n",
    "        LLM message: {str(message.content)}\n",
    "        Tool results: {tool_results_str}\n",
    "    \"\"\"\n",
    "    # Create the message with structured output\n",
    "    response = anthropic_client.messages.create(\n",
    "        model=\"claude-3-7-sonnet-latest\",  \n",
    "        max_tokens=1024,\n",
    "        messages=[\n",
    "            {\n",
    "                \"role\": \"user\", \n",
    "                \"content\": prompt\n",
    "            }\n",
    "        ],\n",
    "        response_model=SupportTicket\n",
    "    )\n",
    "    \n",
    "    support_ticket = response\n",
    "    support_ticket.creation_date = datetime.now()\n",
    "    return support_ticket"
   ]
  },
  {
   "cell_type": "markdown",
   "id": "f36fa025",
   "metadata": {},
   "source": [
    "### Print your final support ticket"
   ]
  },
  {
   "cell_type": "code",
   "execution_count": 18,
   "id": "9178b90e",
   "metadata": {
    "height": 98
   },
   "outputs": [
    {
     "name": "stdout",
     "output_type": "stream",
     "text": [
      "{\n",
      "  \"name\": \"Joe User\",\n",
      "  \"email\": \"joe@example.com\",\n",
      "  \"query\": \"When can I expect delivery of the headphones I ordered?\",\n",
      "  \"order_id\": \"ABC-12345\",\n",
      "  \"purchase_date\": \"2025-12-01\",\n",
      "  \"priority\": \"medium\",\n",
      "  \"category\": \"information_request\",\n",
      "  \"is_complaint\": false,\n",
      "  \"tags\": [\n",
      "    \"delivery\",\n",
      "    \"headphones\"\n",
      "  ],\n",
      "  \"recommended_next_action\": \"send_order_status\",\n",
      "  \"order_details\": {\n",
      "    \"status\": \"shipped\",\n",
      "    \"estimated_delivery\": \"2025-12-05\",\n",
      "    \"note\": \"order_id and email match\"\n",
      "  },\n",
      "  \"faq_response\": null,\n",
      "  \"creation_date\": \"2025-08-05T16:43:02.220042\"\n",
      "}\n"
     ]
    }
   ],
   "source": [
    "# Run the final step of generating a support ticket and print output\n",
    "support_ticket = generate_structured_support_ticket(\n",
    "    customer_query, message, tool_outputs\n",
    ")\n",
    "print(support_ticket.model_dump_json(indent=2))"
   ]
  },
  {
   "cell_type": "markdown",
   "id": "a1b8c9c8",
   "metadata": {},
   "source": [
    "### Full workflow: validate, query, decide, tool, and generate ticket"
   ]
  },
  {
   "cell_type": "code",
   "execution_count": 19,
   "id": "a9c3226e",
   "metadata": {
    "height": 183
   },
   "outputs": [],
   "source": [
    "# Define new user input data\n",
    "user_json = '''\n",
    "{\n",
    "    \"name\": \"Joe User\",\n",
    "    \"email\": \"joe@example.com\",\n",
    "    \"query\": \"I'm really not happy with this product I bought\",\n",
    "    \"order_id\": \"QWE-34567\",\n",
    "    \"purchase_date\": null\n",
    "}\n",
    "'''"
   ]
  },
  {
   "cell_type": "code",
   "execution_count": 20,
   "id": "fc970a73",
   "metadata": {
    "height": 200
   },
   "outputs": [
    {
     "name": "stdout",
     "output_type": "stream",
     "text": [
      "user input validated...\n",
      "CustomerQuery generated...\n",
      "Agent requested a call to Check Order Status tool...\n",
      "Check Order Status tool returned {'order_id': 'QWE-34567', 'status': 'delivered', 'estimated_delivery': '2025-12-20', 'note': 'order_id found but email mismatch'}\n",
      "{\n",
      "  \"name\": \"Joe User\",\n",
      "  \"email\": \"joe@example.com\",\n",
      "  \"query\": \"I'm really not happy with this product I bought\",\n",
      "  \"order_id\": \"QWE-34567\",\n",
      "  \"purchase_date\": null,\n",
      "  \"priority\": \"high\",\n",
      "  \"category\": \"other\",\n",
      "  \"is_complaint\": true,\n",
      "  \"tags\": [\n",
      "    \"product issue\"\n",
      "  ],\n",
      "  \"recommended_next_action\": \"escalate_to_agent\",\n",
      "  \"order_details\": {\n",
      "    \"status\": \"delivered\",\n",
      "    \"estimated_delivery\": \"2025-12-20\",\n",
      "    \"note\": \"order_id found but email mismatch\"\n",
      "  },\n",
      "  \"faq_response\": null,\n",
      "  \"creation_date\": \"2025-08-05T16:43:17.205960\"\n",
      "}\n"
     ]
    }
   ],
   "source": [
    "# Run the entire pipeline\n",
    "valid_user_json = validate_user_input(user_json).model_dump_json()\n",
    "customer_query = create_customer_query(valid_user_json)\n",
    "message, tool_calls, messages = decide_next_action_with_tools(\n",
    "    customer_query\n",
    ")\n",
    "tool_outputs = get_tool_outputs(tool_calls)\n",
    "support_ticket = generate_structured_support_ticket(\n",
    "    customer_query, message, tool_outputs\n",
    ")\n",
    "print(support_ticket.model_dump_json(indent=2))"
   ]
  },
  {
   "cell_type": "markdown",
   "id": "ec150c7b",
   "metadata": {},
   "source": [
    "---\n",
    "\n",
    "## Conclusion\n",
    "\n",
    "In this lesson, you learned how to use Pydantic models to define tools for OpenAI's tool calling API and build sophisticated customer support workflows. You saw how to reuse your existing models to create robust, validated tool definitions, handle tool calls in your Python code, and automatically gather information to generate comprehensive support tickets. This approach demonstrates the power of Pydantic for creating end-to-end validated workflows with LLMs, from input validation to tool definitions to structured output generation."
   ]
  },
  {
   "cell_type": "code",
   "execution_count": null,
   "id": "ca8b2e0c-fed5-462a-a592-4703e6b8afd2",
   "metadata": {},
   "outputs": [],
   "source": []
  }
 ],
 "metadata": {
  "kernelspec": {
   "display_name": "Python 3 (ipykernel)",
   "language": "python",
   "name": "python3"
  },
  "language_info": {
   "codemirror_mode": {
    "name": "ipython",
    "version": 3
   },
   "file_extension": ".py",
   "mimetype": "text/x-python",
   "name": "python",
   "nbconvert_exporter": "python",
   "pygments_lexer": "ipython3",
   "version": "3.10.13"
  }
 },
 "nbformat": 4,
 "nbformat_minor": 5
}
