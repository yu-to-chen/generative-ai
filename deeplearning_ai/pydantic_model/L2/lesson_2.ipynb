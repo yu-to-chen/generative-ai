{
 "cells": [
  {
   "cell_type": "markdown",
   "id": "16503865",
   "metadata": {},
   "source": [
    "# Lesson 2: Pydantic Basics\n",
    "\n",
    "In this lesson, you'll learn the fundamentals of Pydantic models for data validation using a customer support system as your example application. You'll see how to define data models, validate user input, and handle validation errors gracefully.\n",
    "\n",
    "By the end of this lesson, you'll be able to:\n",
    "- Create Pydantic models to validate user input data\n",
    "- Handle validation errors with proper error handling\n",
    "- Use optional fields and field constraints in your models\n",
    "- Work with JSON data validation methods\n",
    "\n",
    "---"
   ]
  },
  {
   "cell_type": "code",
   "execution_count": 1,
   "id": "313faba4",
   "metadata": {
    "height": 64
   },
   "outputs": [],
   "source": [
    "# Import libraries needed for the lesson\n",
    "from pydantic import BaseModel, ValidationError, EmailStr\n",
    "import json"
   ]
  },
  {
   "cell_type": "markdown",
   "id": "abffb4e5",
   "metadata": {},
   "source": [
    "### Define a UserInput Pydantic model and populate it with data"
   ]
  },
  {
   "cell_type": "code",
   "execution_count": 2,
   "id": "22fb4703",
   "metadata": {
    "height": 98
   },
   "outputs": [],
   "source": [
    "# Create a Pydantic model for validating user input\n",
    "class UserInput(BaseModel):\n",
    "    name: str\n",
    "    email: EmailStr\n",
    "    query: str"
   ]
  },
  {
   "cell_type": "code",
   "execution_count": 3,
   "id": "f66ecbe4",
   "metadata": {
    "height": 132
   },
   "outputs": [
    {
     "name": "stdout",
     "output_type": "stream",
     "text": [
      "name='Joe User' email='joe.user@example.com' query='I forgot my password.'\n"
     ]
    }
   ],
   "source": [
    "# Create a model instance\n",
    "user_input = UserInput(\n",
    "    name=\"Joe User\", \n",
    "    email=\"joe.user@example.com\", \n",
    "    query=\"I forgot my password.\"\n",
    ")\n",
    "print(user_input)"
   ]
  },
  {
   "cell_type": "markdown",
   "id": "983e9422",
   "metadata": {},
   "source": [
    "### Note: the following cell will produce a validation error. You can correct the error by following along with the video, or just proceed with the rest of the notebook as cells below do not depend on this cell. "
   ]
  },
  {
   "cell_type": "code",
   "execution_count": 4,
   "id": "971c9900",
   "metadata": {
    "height": 132
   },
   "outputs": [
    {
     "ename": "ValidationError",
     "evalue": "1 validation error for UserInput\nemail\n  value is not a valid email address: An email address must have an @-sign. [type=value_error, input_value='not-an-email', input_type=str]",
     "output_type": "error",
     "traceback": [
      "\u001b[0;31m---------------------------------------------------------------------------\u001b[0m",
      "\u001b[0;31mValidationError\u001b[0m                           Traceback (most recent call last)",
      "Cell \u001b[0;32mIn[4], line 2\u001b[0m\n\u001b[1;32m      1\u001b[0m \u001b[38;5;66;03m# Attempt to create another model instance with an invalid email\u001b[39;00m\n\u001b[0;32m----> 2\u001b[0m user_input \u001b[38;5;241m=\u001b[39m \u001b[43mUserInput\u001b[49m\u001b[43m(\u001b[49m\n\u001b[1;32m      3\u001b[0m \u001b[43m    \u001b[49m\u001b[43mname\u001b[49m\u001b[38;5;241;43m=\u001b[39;49m\u001b[38;5;124;43m\"\u001b[39;49m\u001b[38;5;124;43mJoe User\u001b[39;49m\u001b[38;5;124;43m\"\u001b[39;49m\u001b[43m,\u001b[49m\u001b[43m \u001b[49m\n\u001b[1;32m      4\u001b[0m \u001b[43m    \u001b[49m\u001b[43memail\u001b[49m\u001b[38;5;241;43m=\u001b[39;49m\u001b[38;5;124;43m\"\u001b[39;49m\u001b[38;5;124;43mnot-an-email\u001b[39;49m\u001b[38;5;124;43m\"\u001b[39;49m\u001b[43m,\u001b[49m\u001b[43m \u001b[49m\n\u001b[1;32m      5\u001b[0m \u001b[43m    \u001b[49m\u001b[43mquery\u001b[49m\u001b[38;5;241;43m=\u001b[39;49m\u001b[38;5;124;43m\"\u001b[39;49m\u001b[38;5;124;43mI forgot my password.\u001b[39;49m\u001b[38;5;124;43m\"\u001b[39;49m\n\u001b[1;32m      6\u001b[0m \u001b[43m)\u001b[49m\n\u001b[1;32m      7\u001b[0m \u001b[38;5;28mprint\u001b[39m(user_input)\n",
      "File \u001b[0;32m~/Documents/experimental/PydanticModel/.venv/lib/python3.10/site-packages/pydantic/main.py:253\u001b[0m, in \u001b[0;36mBaseModel.__init__\u001b[0;34m(self, **data)\u001b[0m\n\u001b[1;32m    251\u001b[0m \u001b[38;5;66;03m# `__tracebackhide__` tells pytest and some other tools to omit this function from tracebacks\u001b[39;00m\n\u001b[1;32m    252\u001b[0m __tracebackhide__ \u001b[38;5;241m=\u001b[39m \u001b[38;5;28;01mTrue\u001b[39;00m\n\u001b[0;32m--> 253\u001b[0m validated_self \u001b[38;5;241m=\u001b[39m \u001b[38;5;28;43mself\u001b[39;49m\u001b[38;5;241;43m.\u001b[39;49m\u001b[43m__pydantic_validator__\u001b[49m\u001b[38;5;241;43m.\u001b[39;49m\u001b[43mvalidate_python\u001b[49m\u001b[43m(\u001b[49m\u001b[43mdata\u001b[49m\u001b[43m,\u001b[49m\u001b[43m \u001b[49m\u001b[43mself_instance\u001b[49m\u001b[38;5;241;43m=\u001b[39;49m\u001b[38;5;28;43mself\u001b[39;49m\u001b[43m)\u001b[49m\n\u001b[1;32m    254\u001b[0m \u001b[38;5;28;01mif\u001b[39;00m \u001b[38;5;28mself\u001b[39m \u001b[38;5;129;01mis\u001b[39;00m \u001b[38;5;129;01mnot\u001b[39;00m validated_self:\n\u001b[1;32m    255\u001b[0m     warnings\u001b[38;5;241m.\u001b[39mwarn(\n\u001b[1;32m    256\u001b[0m         \u001b[38;5;124m'\u001b[39m\u001b[38;5;124mA custom validator is returning a value other than `self`.\u001b[39m\u001b[38;5;130;01m\\n\u001b[39;00m\u001b[38;5;124m'\u001b[39m\n\u001b[1;32m    257\u001b[0m         \u001b[38;5;124m\"\u001b[39m\u001b[38;5;124mReturning anything other than `self` from a top level model validator isn\u001b[39m\u001b[38;5;124m'\u001b[39m\u001b[38;5;124mt supported when validating via `__init__`.\u001b[39m\u001b[38;5;130;01m\\n\u001b[39;00m\u001b[38;5;124m\"\u001b[39m\n\u001b[1;32m    258\u001b[0m         \u001b[38;5;124m'\u001b[39m\u001b[38;5;124mSee the `model_validator` docs (https://docs.pydantic.dev/latest/concepts/validators/#model-validators) for more details.\u001b[39m\u001b[38;5;124m'\u001b[39m,\n\u001b[1;32m    259\u001b[0m         stacklevel\u001b[38;5;241m=\u001b[39m\u001b[38;5;241m2\u001b[39m,\n\u001b[1;32m    260\u001b[0m     )\n",
      "\u001b[0;31mValidationError\u001b[0m: 1 validation error for UserInput\nemail\n  value is not a valid email address: An email address must have an @-sign. [type=value_error, input_value='not-an-email', input_type=str]"
     ]
    }
   ],
   "source": [
    "# Attempt to create another model instance with an invalid email\n",
    "user_input = UserInput(\n",
    "    name=\"Joe User\", \n",
    "    email=\"not-an-email\", \n",
    "    query=\"I forgot my password.\"\n",
    ")\n",
    "print(user_input)"
   ]
  },
  {
   "cell_type": "markdown",
   "id": "747bcdd0",
   "metadata": {},
   "source": [
    "### Define a function for error handling and try different inputs"
   ]
  },
  {
   "cell_type": "code",
   "execution_count": 5,
   "id": "a482a1a0",
   "metadata": {
    "height": 251
   },
   "outputs": [],
   "source": [
    "# Define a function to handle user input validation safely\n",
    "def validate_user_input(input_data):\n",
    "    try:\n",
    "        # Attempt to create a UserInput model instance from user input data\n",
    "        user_input = UserInput(**input_data)\n",
    "        print(f\"✅ Valid user input created:\")\n",
    "        print(f\"{user_input.model_dump_json(indent=2)}\")\n",
    "        return user_input\n",
    "    except ValidationError as e:\n",
    "        # Capture and display validation errors in a readable format\n",
    "        print(f\"❌ Validation error occurred:\")\n",
    "        for error in e.errors():\n",
    "            print(f\"  - {error['loc'][0]}: {error['msg']}\")\n",
    "        return None"
   ]
  },
  {
   "cell_type": "code",
   "execution_count": 6,
   "id": "d19e0606",
   "metadata": {
    "height": 149
   },
   "outputs": [
    {
     "name": "stdout",
     "output_type": "stream",
     "text": [
      "✅ Valid user input created:\n",
      "{\n",
      "  \"name\": \"Joe User\",\n",
      "  \"email\": \"joe.user@example.com\",\n",
      "  \"query\": \"I forgot my password.\"\n",
      "}\n"
     ]
    }
   ],
   "source": [
    "# Create an instance of UserInput using validate_user_input() function\n",
    "input_data = {\n",
    "    \"name\": \"Joe User\", \n",
    "    \"email\": \"joe.user@example.com\",\n",
    "    \"query\": \"I forgot my password.\"\n",
    "}\n",
    "\n",
    "user_input = validate_user_input(input_data)"
   ]
  },
  {
   "cell_type": "code",
   "execution_count": 7,
   "id": "1847c1c2",
   "metadata": {
    "height": 132
   },
   "outputs": [
    {
     "name": "stdout",
     "output_type": "stream",
     "text": [
      "❌ Validation error occurred:\n",
      "  - query: Field required\n"
     ]
    }
   ],
   "source": [
    "# Attempt to create an instance of UserInput with missing query field\n",
    "input_data = {\n",
    "    \"name\": \"Joe User\", \n",
    "    \"email\": \"joe.user@example.com\"\n",
    "}\n",
    "\n",
    "user_input = validate_user_input(input_data)"
   ]
  },
  {
   "cell_type": "markdown",
   "id": "6cc0e095",
   "metadata": {},
   "source": [
    "### Update your UserInput data model with additional fields and experiment with different input data"
   ]
  },
  {
   "cell_type": "code",
   "execution_count": 8,
   "id": "2e1a33ab",
   "metadata": {
    "height": 302
   },
   "outputs": [],
   "source": [
    "# Import additional libraries for enhanced validation\n",
    "from pydantic import Field\n",
    "from typing import Optional\n",
    "from datetime import date\n",
    "\n",
    "# Define a new UserInput model with optional fields\n",
    "class UserInput(BaseModel):\n",
    "    name: str\n",
    "    email: EmailStr\n",
    "    query: str\n",
    "    order_id: Optional[int] = Field(\n",
    "        None,\n",
    "        description=\"5-digit order number (cannot start with 0)\",\n",
    "        ge=10000,\n",
    "        le=99999\n",
    "    )\n",
    "    purchase_date: Optional[date] = None"
   ]
  },
  {
   "cell_type": "code",
   "execution_count": 9,
   "id": "59d39791",
   "metadata": {
    "height": 166
   },
   "outputs": [
    {
     "name": "stdout",
     "output_type": "stream",
     "text": [
      "✅ Valid user input created:\n",
      "{\n",
      "  \"name\": \"Joe User\",\n",
      "  \"email\": \"joe.user@example.com\",\n",
      "  \"query\": \"I forgot my password.\",\n",
      "  \"order_id\": null,\n",
      "  \"purchase_date\": null\n",
      "}\n"
     ]
    }
   ],
   "source": [
    "# Define a dictionary with required fields only\n",
    "input_data = {\n",
    "    \"name\": \"Joe User\",\n",
    "    \"email\": \"joe.user@example.com\",\n",
    "    \"query\": \"I forgot my password.\"\n",
    "}\n",
    "\n",
    "# Validate the user input data\n",
    "user_input = validate_user_input(input_data)"
   ]
  },
  {
   "cell_type": "code",
   "execution_count": 10,
   "id": "db39c3ae",
   "metadata": {
    "height": 30
   },
   "outputs": [
    {
     "name": "stdout",
     "output_type": "stream",
     "text": [
      "name='Joe User' email='joe.user@example.com' query='I forgot my password.' order_id=None purchase_date=None\n"
     ]
    }
   ],
   "source": [
    "print(user_input)"
   ]
  },
  {
   "cell_type": "code",
   "execution_count": 11,
   "id": "54589363",
   "metadata": {
    "height": 217
   },
   "outputs": [
    {
     "name": "stdout",
     "output_type": "stream",
     "text": [
      "✅ Valid user input created:\n",
      "{\n",
      "  \"name\": \"Joe User\",\n",
      "  \"email\": \"joe.user@example.com\",\n",
      "  \"query\": \"I bought a laptop carrying case and it turned out to be \\n             the wrong size. I need to return it.\",\n",
      "  \"order_id\": 12345,\n",
      "  \"purchase_date\": \"2025-12-31\"\n",
      "}\n"
     ]
    }
   ],
   "source": [
    "# Define a dictionary with all fields including optional ones\n",
    "input_data = {\n",
    "    \"name\": \"Joe User\",\n",
    "    \"email\": \"joe.user@example.com\",\n",
    "    \"query\": f\"\"\"I bought a laptop carrying case and it turned out to be \n",
    "             the wrong size. I need to return it.\"\"\",\n",
    "    \"order_id\": 12345,\n",
    "    \"purchase_date\": date(2025, 12, 31)\n",
    "}\n",
    "\n",
    "# Validate the user input data\n",
    "user_input = validate_user_input(input_data)"
   ]
  },
  {
   "cell_type": "code",
   "execution_count": 12,
   "id": "fa20287b",
   "metadata": {
    "height": 251
   },
   "outputs": [
    {
     "name": "stdout",
     "output_type": "stream",
     "text": [
      "✅ Valid user input created:\n",
      "{\n",
      "  \"name\": \"Joe User\",\n",
      "  \"email\": \"joe.user@example.com\",\n",
      "  \"query\": \"I bought a laptop carrying case and it turned out to be \\n             the wrong size. I need to return it.\",\n",
      "  \"order_id\": 12345,\n",
      "  \"purchase_date\": \"2025-12-31\"\n",
      "}\n"
     ]
    }
   ],
   "source": [
    "# Define a dictionary with all fields and including additional ones\n",
    "input_data = {\n",
    "    \"name\": \"Joe User\",\n",
    "    \"email\": \"joe.user@example.com\",\n",
    "    \"query\": f\"\"\"I bought a laptop carrying case and it turned out to be \n",
    "             the wrong size. I need to return it.\"\"\",\n",
    "    \"order_id\": 12345,\n",
    "    \"purchase_date\": date(2025, 12, 31),\n",
    "    \"system_message\": \"logging status regarding order processing...\",\n",
    "    \"iteration\": 1 \n",
    "}\n",
    "\n",
    "# Validate the user input data\n",
    "user_input = validate_user_input(input_data)"
   ]
  },
  {
   "cell_type": "code",
   "execution_count": 13,
   "id": "b472fa30",
   "metadata": {
    "height": 30
   },
   "outputs": [
    {
     "name": "stdout",
     "output_type": "stream",
     "text": [
      "name='Joe User' email='joe.user@example.com' query='I bought a laptop carrying case and it turned out to be \\n             the wrong size. I need to return it.' order_id=12345 purchase_date=datetime.date(2025, 12, 31)\n"
     ]
    }
   ],
   "source": [
    "print(user_input)"
   ]
  },
  {
   "cell_type": "code",
   "execution_count": 14,
   "id": "dc62d5b6",
   "metadata": {
    "height": 200
   },
   "outputs": [
    {
     "name": "stdout",
     "output_type": "stream",
     "text": [
      "✅ Valid user input created:\n",
      "{\n",
      "  \"name\": \"Joe User\",\n",
      "  \"email\": \"joe.user@example.com\",\n",
      "  \"query\": \"I bought a laptop carrying case and it turned out to be \\n             the wrong size. I need to return it.\",\n",
      "  \"order_id\": 12345,\n",
      "  \"purchase_date\": \"2025-12-31\"\n",
      "}\n"
     ]
    }
   ],
   "source": [
    "# Create an instance of UserInput with valid data\n",
    "input_data = {\n",
    "    \"name\": \"Joe User\",\n",
    "    \"email\": \"joe.user@example.com\",\n",
    "    \"query\": f\"\"\"I bought a laptop carrying case and it turned out to be \n",
    "             the wrong size. I need to return it.\"\"\",\n",
    "    \"order_id\": 12345,\n",
    "    \"purchase_date\": \"2025-12-31\"\n",
    "}\n",
    "\n",
    "user_input = validate_user_input(input_data)"
   ]
  },
  {
   "cell_type": "code",
   "execution_count": 15,
   "id": "831a96c8",
   "metadata": {
    "height": 217
   },
   "outputs": [
    {
     "name": "stdout",
     "output_type": "stream",
     "text": [
      "✅ Valid user input created:\n",
      "{\n",
      "  \"name\": \"Joe User\",\n",
      "  \"email\": \"joe.user@example.com\",\n",
      "  \"query\": \"I bought a laptop carrying case and it turned out to be \\n             the wrong size. I need to return it.\",\n",
      "  \"order_id\": 12345,\n",
      "  \"purchase_date\": \"2025-12-31\"\n",
      "}\n"
     ]
    }
   ],
   "source": [
    "# Define order_id as a string\n",
    "input_data = {\n",
    "    \"name\": \"Joe User\",\n",
    "    \"email\": \"joe.user@example.com\",\n",
    "    \"query\": f\"\"\"I bought a laptop carrying case and it turned out to be \n",
    "             the wrong size. I need to return it.\"\"\",\n",
    "    \"order_id\": \"12345\",\n",
    "    \"purchase_date\": \"2025-12-31\"\n",
    "}\n",
    "\n",
    "# Validate the user input data\n",
    "user_input = validate_user_input(input_data)"
   ]
  },
  {
   "cell_type": "code",
   "execution_count": 16,
   "id": "008ba735",
   "metadata": {
    "height": 217
   },
   "outputs": [
    {
     "name": "stdout",
     "output_type": "stream",
     "text": [
      "❌ Validation error occurred:\n",
      "  - name: Input should be a valid string\n"
     ]
    }
   ],
   "source": [
    "# Define name field as an integer\n",
    "input_data = {\n",
    "    \"name\": 99999,\n",
    "    \"email\": \"joe.user@example.com\",\n",
    "    \"query\": f\"\"\"I bought a laptop carrying case and it turned out to be \n",
    "             the wrong size. I need to return it.\"\"\",\n",
    "    \"order_id\": 12345,\n",
    "    \"purchase_date\": \"2025-12-31\"\n",
    "}\n",
    "\n",
    "# Validate the user input data\n",
    "user_input = validate_user_input(input_data)"
   ]
  },
  {
   "cell_type": "markdown",
   "id": "0b5b6dfd",
   "metadata": {},
   "source": [
    "### Try starting with JSON data as input"
   ]
  },
  {
   "cell_type": "code",
   "execution_count": 17,
   "id": "5fced4d7",
   "metadata": {
    "height": 251
   },
   "outputs": [
    {
     "name": "stdout",
     "output_type": "stream",
     "text": [
      "Parsed JSON: {'name': 'Joe User', 'email': 'joe.user@example.com', 'query': 'I bought a keyboard and mouse and was overcharged.', 'order_id': 12345, 'purchase_date': '2025-12-31'}\n"
     ]
    }
   ],
   "source": [
    "# Define user input as JSON data\n",
    "json_data = '''\n",
    "{\n",
    "    \"name\": \"Joe User\",\n",
    "    \"email\": \"joe.user@example.com\",\n",
    "    \"query\": \"I bought a keyboard and mouse and was overcharged.\",\n",
    "    \"order_id\": 12345,\n",
    "    \"purchase_date\": \"2025-12-31\"\n",
    "}\n",
    "'''\n",
    "\n",
    "# Parse the JSON string into a Python dictionary\n",
    "input_data = json.loads(json_data)\n",
    "print(\"Parsed JSON:\", input_data)"
   ]
  },
  {
   "cell_type": "code",
   "execution_count": 18,
   "id": "cfa83a9c",
   "metadata": {
    "height": 47
   },
   "outputs": [
    {
     "name": "stdout",
     "output_type": "stream",
     "text": [
      "✅ Valid user input created:\n",
      "{\n",
      "  \"name\": \"Joe User\",\n",
      "  \"email\": \"joe.user@example.com\",\n",
      "  \"query\": \"I bought a keyboard and mouse and was overcharged.\",\n",
      "  \"order_id\": 12345,\n",
      "  \"purchase_date\": \"2025-12-31\"\n",
      "}\n"
     ]
    }
   ],
   "source": [
    "# Validate the user iput data\n",
    "user_input = validate_user_input(input_data)"
   ]
  },
  {
   "cell_type": "code",
   "execution_count": 19,
   "id": "15c0bf4f",
   "metadata": {
    "height": 251
   },
   "outputs": [
    {
     "name": "stdout",
     "output_type": "stream",
     "text": [
      "Parsed JSON: {'name': 'Joe User', 'email': 'joe.user@example.com', 'query': 'My account has been locked for some reason.', 'order_id': '01234', 'purchase_date': '2025-12-31'}\n"
     ]
    }
   ],
   "source": [
    "# Try different JSON input\n",
    "json_data = '''\n",
    "{\n",
    "    \"name\": \"Joe User\",\n",
    "    \"email\": \"joe.user@example.com\",\n",
    "    \"query\": \"My account has been locked for some reason.\",\n",
    "    \"order_id\": \"01234\",\n",
    "    \"purchase_date\": \"2025-12-31\"\n",
    "}\n",
    "'''\n",
    "\n",
    "# Parse the JSON into a Python dictionary\n",
    "input_data = json.loads(json_data)\n",
    "print(\"Parsed JSON:\", input_data)"
   ]
  },
  {
   "cell_type": "code",
   "execution_count": 20,
   "id": "da043b60",
   "metadata": {
    "height": 47
   },
   "outputs": [
    {
     "name": "stdout",
     "output_type": "stream",
     "text": [
      "❌ Validation error occurred:\n",
      "  - order_id: Input should be greater than or equal to 10000\n"
     ]
    }
   ],
   "source": [
    "# Validate the customer support data from JSON with non-standard formats\n",
    "user_input = validate_user_input(input_data)"
   ]
  },
  {
   "cell_type": "markdown",
   "id": "7a6c4b1b",
   "metadata": {},
   "source": [
    "### Try the `model_validate_json` method"
   ]
  },
  {
   "cell_type": "markdown",
   "id": "b7564a7d",
   "metadata": {},
   "source": [
    "### Note: the following cell will produce a validation error. You can correct the error by following along with the video. "
   ]
  },
  {
   "cell_type": "code",
   "execution_count": 21,
   "id": "adad952a",
   "metadata": {
    "height": 64
   },
   "outputs": [
    {
     "ename": "ValidationError",
     "evalue": "1 validation error for UserInput\norder_id\n  Input should be greater than or equal to 10000 [type=greater_than_equal, input_value='01234', input_type=str]\n    For further information visit https://errors.pydantic.dev/2.11/v/greater_than_equal",
     "output_type": "error",
     "traceback": [
      "\u001b[0;31m---------------------------------------------------------------------------\u001b[0m",
      "\u001b[0;31mValidationError\u001b[0m                           Traceback (most recent call last)",
      "Cell \u001b[0;32mIn[21], line 2\u001b[0m\n\u001b[1;32m      1\u001b[0m \u001b[38;5;66;03m# Parse JSON and validate user input data in one step using model_validate_json method\u001b[39;00m\n\u001b[0;32m----> 2\u001b[0m user_input \u001b[38;5;241m=\u001b[39m \u001b[43mUserInput\u001b[49m\u001b[38;5;241;43m.\u001b[39;49m\u001b[43mmodel_validate_json\u001b[49m\u001b[43m(\u001b[49m\u001b[43mjson_data\u001b[49m\u001b[43m)\u001b[49m\n\u001b[1;32m      3\u001b[0m \u001b[38;5;28mprint\u001b[39m(user_input\u001b[38;5;241m.\u001b[39mmodel_dump_json(indent\u001b[38;5;241m=\u001b[39m\u001b[38;5;241m2\u001b[39m))\n",
      "File \u001b[0;32m~/Documents/experimental/PydanticModel/.venv/lib/python3.10/site-packages/pydantic/main.py:746\u001b[0m, in \u001b[0;36mBaseModel.model_validate_json\u001b[0;34m(cls, json_data, strict, context, by_alias, by_name)\u001b[0m\n\u001b[1;32m    740\u001b[0m \u001b[38;5;28;01mif\u001b[39;00m by_alias \u001b[38;5;129;01mis\u001b[39;00m \u001b[38;5;28;01mFalse\u001b[39;00m \u001b[38;5;129;01mand\u001b[39;00m by_name \u001b[38;5;129;01mis\u001b[39;00m \u001b[38;5;129;01mnot\u001b[39;00m \u001b[38;5;28;01mTrue\u001b[39;00m:\n\u001b[1;32m    741\u001b[0m     \u001b[38;5;28;01mraise\u001b[39;00m PydanticUserError(\n\u001b[1;32m    742\u001b[0m         \u001b[38;5;124m'\u001b[39m\u001b[38;5;124mAt least one of `by_alias` or `by_name` must be set to True.\u001b[39m\u001b[38;5;124m'\u001b[39m,\n\u001b[1;32m    743\u001b[0m         code\u001b[38;5;241m=\u001b[39m\u001b[38;5;124m'\u001b[39m\u001b[38;5;124mvalidate-by-alias-and-name-false\u001b[39m\u001b[38;5;124m'\u001b[39m,\n\u001b[1;32m    744\u001b[0m     )\n\u001b[0;32m--> 746\u001b[0m \u001b[38;5;28;01mreturn\u001b[39;00m \u001b[38;5;28;43mcls\u001b[39;49m\u001b[38;5;241;43m.\u001b[39;49m\u001b[43m__pydantic_validator__\u001b[49m\u001b[38;5;241;43m.\u001b[39;49m\u001b[43mvalidate_json\u001b[49m\u001b[43m(\u001b[49m\n\u001b[1;32m    747\u001b[0m \u001b[43m    \u001b[49m\u001b[43mjson_data\u001b[49m\u001b[43m,\u001b[49m\u001b[43m \u001b[49m\u001b[43mstrict\u001b[49m\u001b[38;5;241;43m=\u001b[39;49m\u001b[43mstrict\u001b[49m\u001b[43m,\u001b[49m\u001b[43m \u001b[49m\u001b[43mcontext\u001b[49m\u001b[38;5;241;43m=\u001b[39;49m\u001b[43mcontext\u001b[49m\u001b[43m,\u001b[49m\u001b[43m \u001b[49m\u001b[43mby_alias\u001b[49m\u001b[38;5;241;43m=\u001b[39;49m\u001b[43mby_alias\u001b[49m\u001b[43m,\u001b[49m\u001b[43m \u001b[49m\u001b[43mby_name\u001b[49m\u001b[38;5;241;43m=\u001b[39;49m\u001b[43mby_name\u001b[49m\n\u001b[1;32m    748\u001b[0m \u001b[43m\u001b[49m\u001b[43m)\u001b[49m\n",
      "\u001b[0;31mValidationError\u001b[0m: 1 validation error for UserInput\norder_id\n  Input should be greater than or equal to 10000 [type=greater_than_equal, input_value='01234', input_type=str]\n    For further information visit https://errors.pydantic.dev/2.11/v/greater_than_equal"
     ]
    }
   ],
   "source": [
    "# Parse JSON and validate user input data in one step using model_validate_json method\n",
    "user_input = UserInput.model_validate_json(json_data)\n",
    "print(user_input.model_dump_json(indent=2))"
   ]
  },
  {
   "cell_type": "markdown",
   "id": "31772700",
   "metadata": {},
   "source": [
    "---\n",
    "\n",
    "## Conclusion\n",
    "\n",
    "In this lesson, you learned how to use Pydantic models to validate user input for a customer support scenario. By defining clear data models and handling validation errors, you can ensure your code only works with well-formed data. This approach helps you build more robust and reliable applications, and sets the stage for more advanced validation and structured output in future lessons."
   ]
  },
  {
   "cell_type": "code",
   "execution_count": null,
   "id": "2c47cab8",
   "metadata": {
    "height": 30
   },
   "outputs": [],
   "source": []
  }
 ],
 "metadata": {
  "kernelspec": {
   "display_name": "Python 3 (ipykernel)",
   "language": "python",
   "name": "python3"
  },
  "language_info": {
   "codemirror_mode": {
    "name": "ipython",
    "version": 3
   },
   "file_extension": ".py",
   "mimetype": "text/x-python",
   "name": "python",
   "nbconvert_exporter": "python",
   "pygments_lexer": "ipython3",
   "version": "3.10.13"
  }
 },
 "nbformat": 4,
 "nbformat_minor": 5
}
