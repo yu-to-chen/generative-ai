{
 "cells": [
  {
   "cell_type": "markdown",
   "id": "7e80b742-0c2e-46d2-99e5-61f2982571e4",
   "metadata": {},
   "source": [
    "# Lesson 1: Getting Started with PaLM"
   ]
  },
  {
   "cell_type": "markdown",
   "id": "b13b4dd3-3436-43f8-811c-262ed83d7767",
   "metadata": {},
   "source": [
    "#### Setup\n",
    "Set the MakerSuite API key with the provided helper function."
   ]
  },
  {
   "cell_type": "code",
   "execution_count": 3,
   "id": "51cde0c1-6a94-4d75-8a6a-932c1549ac99",
   "metadata": {},
   "outputs": [
    {
     "name": "stdout",
     "output_type": "stream",
     "text": [
      "Requirement already satisfied: pip in /Users/ytchen/Documents/experimental/env11/lib/python3.11/site-packages (23.3.2)\n",
      "Collecting pip\n",
      "  Downloading pip-24.0-py3-none-any.whl.metadata (3.6 kB)\n",
      "Downloading pip-24.0-py3-none-any.whl (2.1 MB)\n",
      "\u001b[2K   \u001b[90m━━━━━━━━━━━━━━━━━━━━━━━━━━━━━━━━━━━━━━━━\u001b[0m \u001b[32m2.1/2.1 MB\u001b[0m \u001b[31m1.7 MB/s\u001b[0m eta \u001b[36m0:00:00\u001b[0m00:01\u001b[0m00:01\u001b[0m0m\n",
      "\u001b[?25hInstalling collected packages: pip\n",
      "  Attempting uninstall: pip\n",
      "    Found existing installation: pip 23.3.2\n",
      "    Uninstalling pip-23.3.2:\n",
      "      Successfully uninstalled pip-23.3.2\n",
      "Successfully installed pip-24.0\n",
      "Requirement already satisfied: google.generativeai in /Users/ytchen/Documents/experimental/env11/lib/python3.11/site-packages (0.4.0)\n",
      "Requirement already satisfied: google-ai-generativelanguage==0.4.0 in /Users/ytchen/Documents/experimental/env11/lib/python3.11/site-packages (from google.generativeai) (0.4.0)\n",
      "Requirement already satisfied: google-auth>=2.15.0 in /Users/ytchen/Documents/experimental/env11/lib/python3.11/site-packages (from google.generativeai) (2.23.2)\n",
      "Requirement already satisfied: google-api-core in /Users/ytchen/Documents/experimental/env11/lib/python3.11/site-packages (from google.generativeai) (2.12.0)\n",
      "Requirement already satisfied: protobuf in /Users/ytchen/Documents/experimental/env11/lib/python3.11/site-packages (from google.generativeai) (4.23.4)\n",
      "Requirement already satisfied: pydantic in /Users/ytchen/Documents/experimental/env11/lib/python3.11/site-packages (from google.generativeai) (2.6.1)\n",
      "Requirement already satisfied: tqdm in /Users/ytchen/Documents/experimental/env11/lib/python3.11/site-packages (from google.generativeai) (4.66.1)\n",
      "Requirement already satisfied: typing-extensions in /Users/ytchen/Documents/experimental/env11/lib/python3.11/site-packages (from google.generativeai) (4.9.0)\n",
      "Requirement already satisfied: proto-plus<2.0.0dev,>=1.22.3 in /Users/ytchen/Documents/experimental/env11/lib/python3.11/site-packages (from google-ai-generativelanguage==0.4.0->google.generativeai) (1.22.3)\n",
      "Requirement already satisfied: googleapis-common-protos<2.0.dev0,>=1.56.2 in /Users/ytchen/Documents/experimental/env11/lib/python3.11/site-packages (from google-api-core->google.generativeai) (1.60.0)\n",
      "Requirement already satisfied: requests<3.0.0.dev0,>=2.18.0 in /Users/ytchen/Documents/experimental/env11/lib/python3.11/site-packages (from google-api-core->google.generativeai) (2.31.0)\n",
      "Requirement already satisfied: cachetools<6.0,>=2.0.0 in /Users/ytchen/Documents/experimental/env11/lib/python3.11/site-packages (from google-auth>=2.15.0->google.generativeai) (5.3.1)\n",
      "Requirement already satisfied: pyasn1-modules>=0.2.1 in /Users/ytchen/Documents/experimental/env11/lib/python3.11/site-packages (from google-auth>=2.15.0->google.generativeai) (0.3.0)\n",
      "Requirement already satisfied: rsa<5,>=3.1.4 in /Users/ytchen/Documents/experimental/env11/lib/python3.11/site-packages (from google-auth>=2.15.0->google.generativeai) (4.9)\n",
      "Requirement already satisfied: annotated-types>=0.4.0 in /Users/ytchen/Documents/experimental/env11/lib/python3.11/site-packages (from pydantic->google.generativeai) (0.6.0)\n",
      "Requirement already satisfied: pydantic-core==2.16.2 in /Users/ytchen/Documents/experimental/env11/lib/python3.11/site-packages (from pydantic->google.generativeai) (2.16.2)\n",
      "Requirement already satisfied: grpcio<2.0dev,>=1.33.2 in /Users/ytchen/Documents/experimental/env11/lib/python3.11/site-packages (from google-api-core[grpc]!=2.0.*,!=2.1.*,!=2.10.*,!=2.2.*,!=2.3.*,!=2.4.*,!=2.5.*,!=2.6.*,!=2.7.*,!=2.8.*,!=2.9.*,<3.0.0dev,>=1.34.0->google-ai-generativelanguage==0.4.0->google.generativeai) (1.59.0)\n",
      "Requirement already satisfied: grpcio-status<2.0.dev0,>=1.33.2 in /Users/ytchen/Documents/experimental/env11/lib/python3.11/site-packages (from google-api-core[grpc]!=2.0.*,!=2.1.*,!=2.10.*,!=2.2.*,!=2.3.*,!=2.4.*,!=2.5.*,!=2.6.*,!=2.7.*,!=2.8.*,!=2.9.*,<3.0.0dev,>=1.34.0->google-ai-generativelanguage==0.4.0->google.generativeai) (1.59.0)\n",
      "Requirement already satisfied: pyasn1<0.6.0,>=0.4.6 in /Users/ytchen/Documents/experimental/env11/lib/python3.11/site-packages (from pyasn1-modules>=0.2.1->google-auth>=2.15.0->google.generativeai) (0.5.0)\n",
      "Requirement already satisfied: charset-normalizer<4,>=2 in /Users/ytchen/Documents/experimental/env11/lib/python3.11/site-packages (from requests<3.0.0.dev0,>=2.18.0->google-api-core->google.generativeai) (3.2.0)\n",
      "Requirement already satisfied: idna<4,>=2.5 in /Users/ytchen/Documents/experimental/env11/lib/python3.11/site-packages (from requests<3.0.0.dev0,>=2.18.0->google-api-core->google.generativeai) (3.4)\n",
      "Requirement already satisfied: urllib3<3,>=1.21.1 in /Users/ytchen/Documents/experimental/env11/lib/python3.11/site-packages (from requests<3.0.0.dev0,>=2.18.0->google-api-core->google.generativeai) (1.26.18)\n",
      "Requirement already satisfied: certifi>=2017.4.17 in /Users/ytchen/Documents/experimental/env11/lib/python3.11/site-packages (from requests<3.0.0.dev0,>=2.18.0->google-api-core->google.generativeai) (2023.7.22)\n"
     ]
    }
   ],
   "source": [
    "import sys\n",
    "!{sys.executable} -m pip install --upgrade pip\n",
    "!{sys.executable} -m pip install --upgrade google.generativeai\n"
   ]
  },
  {
   "cell_type": "code",
   "execution_count": 1,
   "id": "2db7275e-7ba3-482c-90a5-8d470dcca05c",
   "metadata": {
    "height": 30
   },
   "outputs": [],
   "source": [
    "from utils import get_api_key"
   ]
  },
  {
   "cell_type": "markdown",
   "id": "a8be2f53-efa5-495f-808e-1e3189f0b73d",
   "metadata": {},
   "source": [
    "In this classroom, we've installed the relevant libraries for you.\n",
    "\n",
    "If you wanted to use the PaLM API on your own machine, you would first install the library:\n",
    "```Python\n",
    "!pip install -q google.generativeai\n",
    "```\n",
    "The optional flag `-q` installs \"quietly\" without printing out details of the installation.\n"
   ]
  },
  {
   "cell_type": "code",
   "execution_count": 4,
   "id": "89a9a4b3-b338-4ed8-ac7b-a08143da5b63",
   "metadata": {
    "height": 200
   },
   "outputs": [],
   "source": [
    "import os\n",
    "import google.generativeai as palm\n",
    "from google.api_core import client_options as client_options_lib\n",
    "\n",
    "palm.configure(\n",
    "    api_key=get_api_key(),\n",
    "    transport=\"rest\",\n",
    "    client_options=client_options_lib.ClientOptions(\n",
    "        api_endpoint=os.getenv(\"GOOGLE_API_BASE\"),\n",
    "    )\n",
    ")"
   ]
  },
  {
   "cell_type": "markdown",
   "id": "9648b897-5ad4-4caa-808d-97528c2fcf39",
   "metadata": {},
   "source": [
    "### Explore the available models"
   ]
  },
  {
   "cell_type": "code",
   "execution_count": 5,
   "id": "77038a39-427c-4d1f-bc7e-e0692e8f6869",
   "metadata": {
    "height": 81
   },
   "outputs": [
    {
     "name": "stdout",
     "output_type": "stream",
     "text": [
      "name: models/chat-bison-001\n",
      "description: A legacy text-only model optimized for chat conversations\n",
      "generation methods:['generateMessage', 'countMessageTokens']\n",
      "\n",
      "name: models/text-bison-001\n",
      "description: A legacy model that understands text and generates text as an output\n",
      "generation methods:['generateText', 'countTextTokens', 'createTunedTextModel']\n",
      "\n",
      "name: models/embedding-gecko-001\n",
      "description: Obtain a distributed representation of a text.\n",
      "generation methods:['embedText', 'countTextTokens']\n",
      "\n",
      "name: models/gemini-1.0-pro\n",
      "description: The best model for scaling across a wide range of tasks\n",
      "generation methods:['generateContent', 'countTokens']\n",
      "\n",
      "name: models/gemini-1.0-pro-001\n",
      "description: The best model for scaling across a wide range of tasks. This is a stable model that supports tuning.\n",
      "generation methods:['generateContent', 'countTokens', 'createTunedModel']\n",
      "\n",
      "name: models/gemini-1.0-pro-latest\n",
      "description: The best model for scaling across a wide range of tasks. This is the latest model.\n",
      "generation methods:['generateContent', 'countTokens']\n",
      "\n",
      "name: models/gemini-1.0-pro-vision-latest\n",
      "description: The best image understanding model to handle a broad range of applications\n",
      "generation methods:['generateContent', 'countTokens']\n",
      "\n",
      "name: models/gemini-pro\n",
      "description: The best model for scaling across a wide range of tasks\n",
      "generation methods:['generateContent', 'countTokens']\n",
      "\n",
      "name: models/gemini-pro-vision\n",
      "description: The best image understanding model to handle a broad range of applications\n",
      "generation methods:['generateContent', 'countTokens']\n",
      "\n",
      "name: models/embedding-001\n",
      "description: Obtain a distributed representation of a text.\n",
      "generation methods:['embedContent']\n",
      "\n",
      "name: models/aqa\n",
      "description: Model trained to return answers to questions that are grounded in provided sources, along with estimating answerable probability.\n",
      "generation methods:['generateAnswer']\n",
      "\n"
     ]
    }
   ],
   "source": [
    "for m in palm.list_models():\n",
    "    print(f\"name: {m.name}\")\n",
    "    print(f\"description: {m.description}\")\n",
    "    print(f\"generation methods:{m.supported_generation_methods}\\n\")"
   ]
  },
  {
   "cell_type": "markdown",
   "id": "e8540099-fad0-4954-83a7-c2fba3f6d972",
   "metadata": {},
   "source": [
    "#### Filter models by their supported generation methods\n",
    "- `generateText` is currently recommended for coding-related prompts.\n",
    "- `generateMessage` is optimized for multi-turn chats (dialogues) with an LLM."
   ]
  },
  {
   "cell_type": "code",
   "execution_count": 6,
   "id": "48e26d6a-02b9-4838-a0e6-d2e6a3ae042e",
   "metadata": {
    "height": 81
   },
   "outputs": [
    {
     "data": {
      "text/plain": [
       "[Model(name='models/text-bison-001',\n",
       "       base_model_id='',\n",
       "       version='001',\n",
       "       display_name='PaLM 2 (Legacy)',\n",
       "       description='A legacy model that understands text and generates text as an output',\n",
       "       input_token_limit=8196,\n",
       "       output_token_limit=1024,\n",
       "       supported_generation_methods=['generateText', 'countTextTokens', 'createTunedTextModel'],\n",
       "       temperature=0.7,\n",
       "       top_p=0.95,\n",
       "       top_k=40)]"
      ]
     },
     "execution_count": 6,
     "metadata": {},
     "output_type": "execute_result"
    }
   ],
   "source": [
    "models = [m for m in palm.list_models() \n",
    "          if 'generateText' \n",
    "          in m.supported_generation_methods]\n",
    "models"
   ]
  },
  {
   "cell_type": "code",
   "execution_count": 7,
   "id": "4eb4fc7d-2a1a-43bc-9810-25e4db3b7cb7",
   "metadata": {
    "height": 47
   },
   "outputs": [
    {
     "data": {
      "text/plain": [
       "Model(name='models/text-bison-001',\n",
       "      base_model_id='',\n",
       "      version='001',\n",
       "      display_name='PaLM 2 (Legacy)',\n",
       "      description='A legacy model that understands text and generates text as an output',\n",
       "      input_token_limit=8196,\n",
       "      output_token_limit=1024,\n",
       "      supported_generation_methods=['generateText', 'countTextTokens', 'createTunedTextModel'],\n",
       "      temperature=0.7,\n",
       "      top_p=0.95,\n",
       "      top_k=40)"
      ]
     },
     "execution_count": 7,
     "metadata": {},
     "output_type": "execute_result"
    }
   ],
   "source": [
    "model_bison = models[0]\n",
    "model_bison"
   ]
  },
  {
   "cell_type": "markdown",
   "id": "18a24bff-ebe0-4fd3-93f6-c2aeef4d44f7",
   "metadata": {},
   "source": [
    "#### helper function to generate text\n",
    "\n",
    "- The `@retry` decorator helps you to retry the API call if it fails.\n",
    "- We set the temperature to 0.0 so that the model returns the same output (completion) if given the same input (the prompt)."
   ]
  },
  {
   "cell_type": "code",
   "execution_count": 8,
   "id": "a93ff932-2a86-485a-adad-7f66e285aaf4",
   "metadata": {
    "height": 149
   },
   "outputs": [],
   "source": [
    "from google.api_core import retry\n",
    "@retry.Retry()\n",
    "def generate_text(prompt,\n",
    "                  model=model_bison,\n",
    "                  temperature=0.0):\n",
    "    return palm.generate_text(prompt=prompt,\n",
    "                              model=model,\n",
    "                              temperature=temperature)"
   ]
  },
  {
   "cell_type": "markdown",
   "id": "aa756beb-7e70-4575-a27e-82b733b3d3b0",
   "metadata": {},
   "source": [
    "#### Ask the LLM how to write some code\n",
    "\n"
   ]
  },
  {
   "cell_type": "code",
   "execution_count": 9,
   "id": "04080420-acd1-43a8-92bc-7d4c407a0154",
   "metadata": {
    "height": 30
   },
   "outputs": [],
   "source": [
    "prompt = \"Show me how to iterate across a list in Python.\""
   ]
  },
  {
   "cell_type": "code",
   "execution_count": 10,
   "id": "32a354db-cb9b-4353-b777-4980256f4686",
   "metadata": {
    "height": 30
   },
   "outputs": [],
   "source": [
    "completion = generate_text(prompt)"
   ]
  },
  {
   "cell_type": "code",
   "execution_count": 11,
   "id": "ef2b1688-2eb7-465c-81cd-555d5b0a5a70",
   "metadata": {
    "height": 30
   },
   "outputs": [
    {
     "name": "stdout",
     "output_type": "stream",
     "text": [
      "To iterate across a list in Python, you can use the `for` loop. The syntax is as follows:\n",
      "\n",
      "```python\n",
      "for item in list:\n",
      "  # do something with item\n",
      "```\n",
      "\n",
      "For example, the following code prints each item in the list `my_list`:\n",
      "\n",
      "```python\n",
      "my_list = [\"a\", \"b\", \"c\"]\n",
      "\n",
      "for item in my_list:\n",
      "  print(item)\n",
      "```\n",
      "\n",
      "Output:\n",
      "\n",
      "```\n",
      "a\n",
      "b\n",
      "c\n",
      "```\n"
     ]
    }
   ],
   "source": [
    "print(completion.result)"
   ]
  },
  {
   "cell_type": "markdown",
   "id": "1400bcb5-bfe8-4192-809d-d95b21bf8422",
   "metadata": {},
   "source": [
    "- Tip: The words \"show me\" tends to encourage the PaLM LLM to give more details and explanations compared to if you were to ask \"write code to ...\""
   ]
  },
  {
   "cell_type": "code",
   "execution_count": 12,
   "id": "6b813473-15de-4672-9097-57a3d04219d6",
   "metadata": {
    "height": 30
   },
   "outputs": [],
   "source": [
    "prompt = \"write code to iterate across a list in Python\""
   ]
  },
  {
   "cell_type": "code",
   "execution_count": 13,
   "id": "3557557d-2b86-4755-a44f-8846e0035d3a",
   "metadata": {
    "height": 47
   },
   "outputs": [
    {
     "name": "stdout",
     "output_type": "stream",
     "text": [
      "```python\n",
      "# Iterate across a list in Python\n",
      "\n",
      "# Define a list\n",
      "list = [\"apple\", \"banana\", \"cherry\"]\n",
      "\n",
      "# Iterate over the list using a for loop\n",
      "for item in list:\n",
      "    print(item)\n",
      "\n",
      "# Output:\n",
      "# apple\n",
      "# banana\n",
      "# cherry\n",
      "```\n"
     ]
    }
   ],
   "source": [
    "completion = generate_text(prompt)\n",
    "print(completion.result)"
   ]
  },
  {
   "cell_type": "markdown",
   "id": "26114873-bb3c-4253-a679-4dda28af561c",
   "metadata": {},
   "source": [
    "#### Try out the code\n",
    "- Try copy-pasting some of the generated code and running it in the notebook.\n",
    "- Remember to test out the LLM-generated code and debug it make sure it works as intended."
   ]
  },
  {
   "cell_type": "code",
   "execution_count": 14,
   "id": "e2e76677-1b90-4ce4-a3b4-aae857e870f6",
   "metadata": {
    "height": 81
   },
   "outputs": [],
   "source": [
    "# paste the LLM's code here\n",
    "\n",
    "\n"
   ]
  },
  {
   "cell_type": "markdown",
   "id": "3c649daa-781c-4c69-ac1b-d100e9747190",
   "metadata": {},
   "source": [
    "#### Try asking your own coding question"
   ]
  },
  {
   "cell_type": "code",
   "execution_count": 15,
   "id": "c69b4929-ec4f-495c-a773-a92ce2c9b36c",
   "metadata": {
    "height": 81
   },
   "outputs": [],
   "source": [
    "# Modify the prompt with your own question\n",
    "prompt = \"Show me how to [...]\"\n",
    "\n",
    "completion = generate_text(prompt)"
   ]
  },
  {
   "cell_type": "code",
   "execution_count": null,
   "id": "c759d6a4-ed38-43fd-a588-1d62308a8746",
   "metadata": {
    "height": 30
   },
   "outputs": [],
   "source": []
  },
  {
   "cell_type": "markdown",
   "id": "6a2b9e7a-4911-476d-9141-010224682d17",
   "metadata": {},
   "source": [
    "#### Note about the API key\n",
    "We've provided an API key for this classroom.  If you would like your own API key for your own projects, you can get one at [developers.generativeai.google](https://developers.generativeai.google/)"
   ]
  },
  {
   "cell_type": "code",
   "execution_count": null,
   "id": "11e5af67-776c-4cf9-a9e0-1611f2fae291",
   "metadata": {},
   "outputs": [],
   "source": []
  }
 ],
 "metadata": {
  "kernelspec": {
   "display_name": "Python 3 (ipykernel)",
   "language": "python",
   "name": "python3"
  },
  "language_info": {
   "codemirror_mode": {
    "name": "ipython",
    "version": 3
   },
   "file_extension": ".py",
   "mimetype": "text/x-python",
   "name": "python",
   "nbconvert_exporter": "python",
   "pygments_lexer": "ipython3",
   "version": "3.11.4"
  }
 },
 "nbformat": 4,
 "nbformat_minor": 5
}
