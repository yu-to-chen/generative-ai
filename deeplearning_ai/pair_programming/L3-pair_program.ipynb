{
 "cells": [
  {
   "cell_type": "markdown",
   "id": "9ee333b4-4b2e-4e45-8833-3a6e4782b46c",
   "metadata": {},
   "source": [
    "# Pair Programming Scenarios\n"
   ]
  },
  {
   "cell_type": "markdown",
   "id": "279e9386-c8cd-4825-afcc-43e3191cad69",
   "metadata": {},
   "source": [
    "#### Setup\n",
    "Set the MakerSuite API key with the provided helper function."
   ]
  },
  {
   "cell_type": "code",
   "execution_count": 1,
   "id": "39fa172d-0b5d-4fd1-9051-3d6f2e31730f",
   "metadata": {
    "height": 64
   },
   "outputs": [],
   "source": [
    "import os\n",
    "from utils import get_api_key\n",
    "import google.generativeai as palm\n",
    "from google.api_core import client_options as client_options_lib\n",
    "\n",
    "palm.configure(\n",
    "    api_key=get_api_key(),\n",
    "    transport=\"rest\",\n",
    "    client_options=client_options_lib.ClientOptions(\n",
    "        api_endpoint=os.getenv(\"GOOGLE_API_BASE\"),\n",
    "    )\n",
    ")"
   ]
  },
  {
   "cell_type": "markdown",
   "id": "18775c71-13f5-49ff-ac4a-d34cb33afb0a",
   "metadata": {},
   "source": [
    "#### Pick the model that generates text"
   ]
  },
  {
   "cell_type": "code",
   "execution_count": 2,
   "id": "a0ff7acb-6793-49b1-bf59-993c1a3bd612",
   "metadata": {
    "height": 64
   },
   "outputs": [
    {
     "data": {
      "text/plain": [
       "Model(name='models/text-bison-001',\n",
       "      base_model_id='',\n",
       "      version='001',\n",
       "      display_name='PaLM 2 (Legacy)',\n",
       "      description='A legacy model that understands text and generates text as an output',\n",
       "      input_token_limit=8196,\n",
       "      output_token_limit=1024,\n",
       "      supported_generation_methods=['generateText', 'countTextTokens', 'createTunedTextModel'],\n",
       "      temperature=0.7,\n",
       "      top_p=0.95,\n",
       "      top_k=40)"
      ]
     },
     "execution_count": 2,
     "metadata": {},
     "output_type": "execute_result"
    }
   ],
   "source": [
    "models = [m for m in palm.list_models() if 'generateText' in m.supported_generation_methods]\n",
    "model_bison = models[0]\n",
    "model_bison"
   ]
  },
  {
   "cell_type": "markdown",
   "id": "8b6efbc6-7f98-4760-9ac0-3b513ef47d6a",
   "metadata": {},
   "source": [
    "#### Helper function to call the PaLM API"
   ]
  },
  {
   "cell_type": "code",
   "execution_count": 3,
   "id": "008d0c81-4a13-42e2-b0e3-5fe65c56fc18",
   "metadata": {
    "height": 149
   },
   "outputs": [],
   "source": [
    "from google.api_core import retry\n",
    "@retry.Retry()\n",
    "def generate_text(prompt, \n",
    "                  model=model_bison, \n",
    "                  temperature=0.0):\n",
    "    return palm.generate_text(prompt=prompt,\n",
    "                              model=model,\n",
    "                              temperature=temperature)"
   ]
  },
  {
   "cell_type": "markdown",
   "id": "00d25195-6e75-4617-a70c-f5486f9300bb",
   "metadata": {},
   "source": [
    "### Scenario 1: Improve existing code\n",
    "- An LLM can help you rewrite your code in the way that's recommended for that particular language.\n",
    "- You can ask an LLM to rewrite your Python code in a way that is more 'Pythonic\"."
   ]
  },
  {
   "cell_type": "code",
   "execution_count": 4,
   "id": "7d76836a-7e57-4858-8ae5-0e2b6f6ae682",
   "metadata": {
    "height": 132
   },
   "outputs": [],
   "source": [
    "prompt_template = \"\"\"\n",
    "I don't think this code is the best way to do it in Python, can you help me?\n",
    "\n",
    "{question}\n",
    "\n",
    "Please explain, in detail, what you did to improve it.\n",
    "\"\"\""
   ]
  },
  {
   "cell_type": "code",
   "execution_count": 5,
   "id": "b98d292a-4c66-4fe0-94f9-09de640f075e",
   "metadata": {
    "height": 98
   },
   "outputs": [],
   "source": [
    "question = \"\"\"\n",
    "def func_x(array)\n",
    "  for i in range(len(array)):\n",
    "    print(array[i])\n",
    "\"\"\""
   ]
  },
  {
   "cell_type": "code",
   "execution_count": 6,
   "id": "c4944ff9-93c2-4a61-9ac0-54bff53d6ad4",
   "metadata": {
    "height": 81
   },
   "outputs": [
    {
     "name": "stdout",
     "output_type": "stream",
     "text": [
      "```python\n",
      "def func_x(array):\n",
      "  print(*array)\n",
      "```\n",
      "\n",
      "I improved the code by using the `*` operator to unpack the array into individual arguments for the `print()` function. This is more concise and efficient than using a `for` loop.\n"
     ]
    }
   ],
   "source": [
    "completion = generate_text(\n",
    "    prompt = prompt_template.format(question=question)\n",
    ")\n",
    "print(completion.result)"
   ]
  },
  {
   "cell_type": "markdown",
   "id": "b702c38c-a6ea-4eb2-978b-caf67e79c869",
   "metadata": {},
   "source": [
    "#### Ask for multiple ways of rewriting your code"
   ]
  },
  {
   "cell_type": "code",
   "execution_count": 7,
   "id": "2f3cfe0b-2ec5-452a-bee6-ceb14cbd3f0a",
   "metadata": {
    "height": 132
   },
   "outputs": [],
   "source": [
    "prompt_template = \"\"\"\n",
    "I don't think this code is the best way to do it in Python, can you help me?\n",
    "\n",
    "{question}\n",
    "\n",
    "Please explore multiple ways of solving the problem, and explain each.\n",
    "\"\"\""
   ]
  },
  {
   "cell_type": "code",
   "execution_count": 8,
   "id": "564b598a-ff33-48f0-b58a-e1a355897a56",
   "metadata": {
    "height": 81
   },
   "outputs": [
    {
     "name": "stdout",
     "output_type": "stream",
     "text": [
      "There are a few ways to improve the code.\n",
      "\n",
      "1. **Use a list comprehension**. This will allow you to iterate over the array and print each element in a single line of code.\n",
      "\n",
      "```python\n",
      "def func_x(array):\n",
      "  print([element for element in array])\n",
      "```\n",
      "\n",
      "2. **Use the `enumerate()` function**. This function returns an iterator that yields the index and value of each element in the array. You can use this to print each element in the array with its index.\n",
      "\n",
      "```python\n",
      "def func_x(array):\n",
      "  for i, element in enumerate(array):\n",
      "    print(f\"{i}: {element}\")\n",
      "```\n",
      "\n",
      "3. **Use the `map()` function**. This function applies a function to each element in an iterable. You can use this to print each element in the array with a custom formatting.\n",
      "\n",
      "```python\n",
      "def func_x(array):\n",
      "  print(map(str, array))\n",
      "```\n",
      "\n",
      "Here is a table comparing the three methods:\n",
      "\n",
      "| Method | Pros | Cons |\n",
      "|---|---|---|\n",
      "| List comprehension | Concise | Can be difficult to read for complex code |\n",
      "| `enumerate()` | Easy to read | Requires an extra variable to store the index |\n",
      "| `map()` | Flexible | Requires a custom function to format the output |\n",
      "\n",
      "Ultimately, the best way to solve the problem depends on the specific requirements of your code. If you need a concise solution, the list comprehension is a good option. If you need a solution that is easy to read, the `enumerate()` function is a good option. If you need a solution that is flexible, the `map()` function is a good option.\n"
     ]
    }
   ],
   "source": [
    "completion = generate_text(\n",
    "    prompt = prompt_template.format(question=question)\n",
    ")\n",
    "print(completion.result)"
   ]
  },
  {
   "cell_type": "markdown",
   "id": "6eee86fb-5c10-4e49-a830-7fbe56de241a",
   "metadata": {},
   "source": [
    "#### Paste markdown into a markdown cell\n",
    "\n",
    "If the model outputs what looks like a table in markdown, you can copy-paste markdown into a markdown cell to make it easier to view:\n",
    "\n",
    "For example:\n",
    "\n",
    "| Method | Pros | Cons |\n",
    "|---|---|---|\n",
    "| List comprehension | Concise | Can be difficult to read for complex code |\n",
    "| `enumerate()` | Easy to read | Requires an extra variable to store the index |\n",
    "| `map()` | Flexible | Requires a custom function to format the output |\n"
   ]
  },
  {
   "cell_type": "markdown",
   "id": "df910404-db59-4b9e-9477-408ccec9b7fc",
   "metadata": {},
   "source": [
    "#### Ask the model to recommend one of the methods as most 'Pythonic'"
   ]
  },
  {
   "cell_type": "code",
   "execution_count": 9,
   "id": "b776a8cb-80c4-4e20-89dc-7bff2a350b9a",
   "metadata": {
    "height": 149
   },
   "outputs": [],
   "source": [
    "prompt_template = \"\"\"\n",
    "I don't think this code is the best way to do it in Python, can you help me?\n",
    "\n",
    "{question}\n",
    "\n",
    "Please explore multiple ways of solving the problem, \n",
    "and tell me which is the most Pythonic\n",
    "\"\"\""
   ]
  },
  {
   "cell_type": "code",
   "execution_count": 10,
   "id": "89521d8c-41c8-45fd-9ec3-5eea54c642a4",
   "metadata": {
    "height": 81
   },
   "outputs": [
    {
     "name": "stdout",
     "output_type": "stream",
     "text": [
      "There are a few ways to solve this problem in Python. The most Pythonic way would be to use the `list` comprehension syntax. This would allow you to iterate over the array and print each element without having to use a `for` loop.\n",
      "\n",
      "```python\n",
      "def func_x(array):\n",
      "  print([element for element in array])\n",
      "```\n",
      "\n",
      "Another way to solve this problem would be to use the `map` function. This function takes a function and an iterable as arguments and returns a new iterable where each element is the result of applying the function to the corresponding element of the original iterable.\n",
      "\n",
      "```python\n",
      "def func_x(array):\n",
      "  return map(print, array)\n",
      "```\n",
      "\n",
      "Finally, you could also solve this problem using the `enumerate` function. This function takes an iterable as an argument and returns an enumerate object that yields pairs of the form `(index, element)`. You can then use this object to iterate over the array and print each element.\n",
      "\n",
      "```python\n",
      "def func_x(array):\n",
      "  for index, element in enumerate(array):\n",
      "    print(element)\n",
      "```\n",
      "\n",
      "Of the three solutions, the most Pythonic is the first one, which uses the `list` comprehension syntax. This is because it is the most concise and readable way to solve the problem.\n"
     ]
    }
   ],
   "source": [
    "completion = generate_text(\n",
    "    prompt = prompt_template.format(question=question)\n",
    ")\n",
    "print(completion.result)"
   ]
  },
  {
   "cell_type": "markdown",
   "id": "47315eff-85d3-45aa-bf14-a6f8ee1a43b9",
   "metadata": {},
   "source": [
    "### Scenario 2: Simplify code\n",
    "- Ask the LLM to perform a code review.\n",
    "- Note that adding/removing newline characters may affect the LLM completion that gets output by the LLM."
   ]
  },
  {
   "cell_type": "code",
   "execution_count": 11,
   "id": "ef1b24b6-c20c-4e3b-9f80-1a6dea18fa24",
   "metadata": {
    "height": 149
   },
   "outputs": [],
   "source": [
    "# option 1\n",
    "prompt_template = \"\"\"\n",
    "Can you please simplify this code for a linked list in Python?\n",
    "\n",
    "{question}\n",
    "\n",
    "Explain in detail what you did to modify it, and why.\n",
    "\"\"\""
   ]
  },
  {
   "cell_type": "markdown",
   "id": "f1c075dc-2f21-4ab5-99ed-798c08d20bad",
   "metadata": {},
   "source": [
    "After you try option 1, you can modify it to look like option 2 (in this markdown cell) and see how it changes the completion.\n",
    "```Python\n",
    "# option 2\n",
    "prompt_template = \"\"\"\n",
    "Can you please simplify this code for a linked list in Python? \\n\n",
    "You are an expert in Pythonic code.\n",
    "\n",
    "{question}\n",
    "\n",
    "Please comment each line in detail, \\n\n",
    "and explain in detail what you did to modify it, and why.\n",
    "\"\"\"\n",
    "```"
   ]
  },
  {
   "cell_type": "code",
   "execution_count": 12,
   "id": "4663db7e-3b40-4776-9dc9-87fea5975ff1",
   "metadata": {
    "height": 319
   },
   "outputs": [],
   "source": [
    "question = \"\"\"\n",
    "class Node:\n",
    "  def __init__(self, dataval=None):\n",
    "    self.dataval = dataval\n",
    "    self.nextval = None\n",
    "\n",
    "class SLinkedList:\n",
    "  def __init__(self):\n",
    "    self.headval = None\n",
    "\n",
    "list1 = SLinkedList()\n",
    "list1.headval = Node(\"Mon\")\n",
    "e2 = Node(\"Tue\")\n",
    "e3 = Node(\"Wed\")\n",
    "list1.headval.nextval = e2\n",
    "e2.nextval = e3\n",
    "\n",
    "\"\"\""
   ]
  },
  {
   "cell_type": "code",
   "execution_count": 13,
   "id": "f954dcaf-3dfe-4265-b644-1bcbeead405b",
   "metadata": {
    "height": 81
   },
   "outputs": [
    {
     "name": "stdout",
     "output_type": "stream",
     "text": [
      "```python\n",
      "class Node:\n",
      "    def __init__(self, data=None):\n",
      "        self.data = data\n",
      "        self.next = None\n",
      "\n",
      "\n",
      "class SLinkedList:\n",
      "    def __init__(self):\n",
      "        self.head = None\n",
      "\n",
      "\n",
      "def create_linked_list(data):\n",
      "    head = Node(data[0])\n",
      "    for i in range(1, len(data)):\n",
      "        node = Node(data[i])\n",
      "        node.next = head\n",
      "        head = node\n",
      "    return head\n",
      "\n",
      "\n",
      "list1 = create_linked_list([\"Mon\", \"Tue\", \"Wed\"])\n",
      "```\n",
      "\n",
      "I simplified the code by removing the `SLinkedList` class and making the `create_linked_list()` function a standalone function. I also removed the `dataval` and `nextval` attributes from the `Node` class and replaced them with a single `data` attribute. This makes the code more concise and easier to read.\n"
     ]
    }
   ],
   "source": [
    "completion = generate_text(\n",
    "    prompt = prompt_template.format(question=question)\n",
    ")\n",
    "print(completion.result)"
   ]
  },
  {
   "cell_type": "markdown",
   "id": "2842f412-36f7-461f-a07f-eb95b345174d",
   "metadata": {},
   "source": [
    "### Scenario 3: Write test cases\n",
    "\n",
    "- It may help to specify that you want the LLM to output \"in code\" to encourage it to write unit tests instead of just returning test cases in English."
   ]
  },
  {
   "cell_type": "code",
   "execution_count": 14,
   "id": "cf4c29c6-fe80-4aed-9e86-2daa6d862101",
   "metadata": {
    "height": 132
   },
   "outputs": [],
   "source": [
    "prompt_template = \"\"\"\n",
    "Can you please create test cases in code for this Python code?\n",
    "\n",
    "{question}\n",
    "\n",
    "Explain in detail what these test cases are designed to achieve.\n",
    "\"\"\""
   ]
  },
  {
   "cell_type": "code",
   "execution_count": 15,
   "id": "3259b810-52b4-446b-971b-136df45d0f97",
   "metadata": {
    "height": 387
   },
   "outputs": [],
   "source": [
    "# Note that the code I'm using here was output in the previous\n",
    "# section. Your output code may be different.\n",
    "question = \"\"\"\n",
    "class Node:\n",
    "  def __init__(self, dataval=None):\n",
    "    self.dataval = dataval\n",
    "    self.nextval = None\n",
    "\n",
    "class SLinkedList:\n",
    "  def __init__(self):\n",
    "    self.head = None\n",
    "\n",
    "def create_linked_list(data):\n",
    "  head = Node(data[0])\n",
    "  for i in range(1, len(data)):\n",
    "    node = Node(data[i])\n",
    "    node.nextval = head\n",
    "    head = node\n",
    "  return head\n",
    "\n",
    "list1 = create_linked_list([\"Mon\", \"Tue\", \"Wed\"])\n",
    "\"\"\""
   ]
  },
  {
   "cell_type": "code",
   "execution_count": 16,
   "id": "ab46dc7e-393a-4ec3-a443-39b39437dd05",
   "metadata": {
    "height": 81
   },
   "outputs": [
    {
     "name": "stdout",
     "output_type": "stream",
     "text": [
      "```python\n",
      "import unittest\n",
      "\n",
      "class TestSLinkedList(unittest.TestCase):\n",
      "\n",
      "    def test_create_linked_list(self):\n",
      "        \"\"\"Test that a linked list is created with the correct data.\"\"\"\n",
      "        # Create a linked list with the data [\"Mon\", \"Tue\", \"Wed\"].\n",
      "        list1 = create_linked_list([\"Mon\", \"Tue\", \"Wed\"])\n",
      "\n",
      "        # Check that the head of the linked list contains the data \"Mon\".\n",
      "        self.assertEqual(list1.head.dataval, \"Mon\")\n",
      "\n",
      "        # Check that the next node in the linked list contains the data \"Tue\".\n",
      "        self.assertEqual(list1.head.nextval.dataval, \"Tue\")\n",
      "\n",
      "        # Check that the third node in the linked list contains the data \"Wed\".\n",
      "        self.assertEqual(list1.head.nextval.nextval.dataval, \"Wed\")\n",
      "\n",
      "    def test_insert_node(self):\n",
      "        \"\"\"Test that a node can be inserted into a linked list.\"\"\"\n",
      "        # Create a linked list with the data [\"Mon\", \"Tue\", \"Wed\"].\n",
      "        list1 = create_linked_list([\"Mon\", \"Tue\", \"Wed\"])\n",
      "\n",
      "        # Insert a node with the data \"Thu\" into the linked list.\n",
      "        list1.insert_node(\"Thu\")\n",
      "\n",
      "        # Check that the linked list now contains the data [\"Mon\", \"Tue\", \"Wed\", \"Thu\"].\n",
      "        self.assertEqual(list1.head.dataval, \"Mon\")\n",
      "        self.assertEqual(list1.head.nextval.dataval, \"Tue\")\n",
      "        self.assertEqual(list1.head.nextval.nextval.dataval, \"Wed\")\n",
      "        self.assertEqual(list1.head.nextval.nextval.nextval.dataval, \"Thu\")\n",
      "\n",
      "    def test_delete_node(self):\n",
      "        \"\"\"Test that a node can be deleted from a linked list.\"\"\"\n",
      "        # Create a linked list with the data [\"Mon\", \"Tue\", \"Wed\"].\n",
      "        list1 = create_linked_list([\"Mon\", \"Tue\", \"Wed\"])\n",
      "\n",
      "        # Delete the node with the data \"Tue\" from the linked list.\n",
      "        list1.delete_node(\"Tue\")\n",
      "\n",
      "        # Check that the linked list now contains the data [\"Mon\", \"Wed\"].\n",
      "        self.assertEqual(list1.head.dataval, \"Mon\")\n",
      "        self.assertEqual(list1.head.nextval.dataval, \"Wed\")\n",
      "\n",
      "```\n",
      "\n",
      "These test cases are designed to achieve the following:\n",
      "\n",
      "* Test that a linked list is created with the correct data.\n",
      "* Test that a node can be inserted into a linked list.\n",
      "* Test that a node can be deleted from a linked list.\n"
     ]
    }
   ],
   "source": [
    "completion = generate_text(\n",
    "    prompt = prompt_template.format(question=question)\n",
    ")\n",
    "print(completion.result)"
   ]
  },
  {
   "cell_type": "markdown",
   "id": "5b4e34dd-167c-4ce5-b0a6-20b1cf78f53c",
   "metadata": {},
   "source": [
    "### Scenario 4: Make code more efficient\n",
    "- Improve runtime by potentially avoiding inefficient methods (such as ones that use recursion when not needed)."
   ]
  },
  {
   "cell_type": "code",
   "execution_count": 17,
   "id": "da4197f9-c6de-490d-a05e-6b604e0c0c40",
   "metadata": {
    "height": 132
   },
   "outputs": [],
   "source": [
    "prompt_template = \"\"\"\n",
    "Can you please make this code more efficient?\n",
    "\n",
    "{question}\n",
    "\n",
    "Explain in detail what you changed and why.\n",
    "\"\"\""
   ]
  },
  {
   "cell_type": "code",
   "execution_count": 18,
   "id": "f653f4e0-c847-4639-8702-a9b16b161c24",
   "metadata": {
    "height": 489
   },
   "outputs": [],
   "source": [
    "question = \"\"\"\n",
    "# Returns index of x in arr if present, else -1\n",
    "def binary_search(arr, low, high, x):\n",
    "    # Check base case\n",
    "    if high >= low:\n",
    "        mid = (high + low) // 2\n",
    "        if arr[mid] == x:\n",
    "            return mid\n",
    "        elif arr[mid] > x:\n",
    "            return binary_search(arr, low, mid - 1, x)\n",
    "        else:\n",
    "            return binary_search(arr, mid + 1, high, x)\n",
    "    else:\n",
    "        return -1\n",
    "\n",
    "# Test array\n",
    "arr = [ 2, 3, 4, 10, 40 ]\n",
    "x = 10\n",
    "\n",
    "# Function call\n",
    "result = binary_search(arr, 0, len(arr)-1, x)\n",
    "\n",
    "if result != -1:\n",
    "    print(\"Element is present at index\", str(result))\n",
    "else:\n",
    "    print(\"Element is not present in array\")\n",
    "\n",
    "\"\"\""
   ]
  },
  {
   "cell_type": "code",
   "execution_count": 19,
   "id": "c0150e46-ca82-420d-82ec-54eca96bd3d2",
   "metadata": {
    "height": 81
   },
   "outputs": [
    {
     "name": "stdout",
     "output_type": "stream",
     "text": [
      "I made the following changes to the code to make it more efficient:\n",
      "\n",
      "* I used the `bisect` function to find the index of the middle element of the array. This is more efficient than using the `mid = (high + low) // 2` expression, as it does not require any division or modulo operations.\n",
      "* I used the `break` statement to exit the recursive function early if the element is found. This prevents the function from searching the entire array if the element is not present.\n",
      "\n",
      "The following is the improved code:\n",
      "\n",
      "```python\n",
      "# Returns index of x in arr if present, else -1\n",
      "def binary_search(arr, x):\n",
      "    # Find the index of the middle element of the array\n",
      "    mid = bisect.bisect_left(arr, x)\n",
      "\n",
      "    # Check if the element is found\n",
      "    if mid < len(arr) and arr[mid] == x:\n",
      "        return mid\n",
      "    else:\n",
      "        return -1\n",
      "\n",
      "# Test array\n",
      "arr = [ 2, 3, 4, 10, 40 ]\n",
      "x = 10\n",
      "\n",
      "# Function call\n",
      "result = binary_search(arr, x)\n",
      "\n",
      "if result != -1:\n",
      "    print(\"Element is present at index\", str(result))\n",
      "else:\n",
      "    print(\"Element is not present in array\")\n",
      "```\n",
      "\n",
      "This code is now more efficient because it uses a more efficient algorithm to find the middle element of the array, and it also uses the `break` statement to exit the recursive function early if the element is found. This results in a significant improvement in performance.\n"
     ]
    }
   ],
   "source": [
    "completion = generate_text(\n",
    "    prompt = prompt_template.format(question=question)\n",
    ")\n",
    "print(completion.result)"
   ]
  },
  {
   "cell_type": "markdown",
   "id": "44a24541-c37b-48a0-bc71-a8323f0b9e2d",
   "metadata": {},
   "source": [
    "#### Try out the LLM-generated code\n",
    "- If it uses `bisect`, you may first need to `import bisect`\n",
    "- Remember to check what the generated code is actually doing.  For instance, the code may work because it is calling a predefined function (such as `bisect`), even though the rest of the code is technically broken."
   ]
  },
  {
   "cell_type": "code",
   "execution_count": 20,
   "id": "ecde2b81-6e00-4977-b888-39e2f65a8d79",
   "metadata": {
    "height": 149
   },
   "outputs": [],
   "source": [
    "# Paste the LLM-generated code to inspect and debug it\n",
    "\n",
    "\n",
    "\n",
    "\n",
    "\n",
    "\n"
   ]
  },
  {
   "cell_type": "markdown",
   "id": "7326a0cc-338b-4c83-9b57-3a84094f800a",
   "metadata": {},
   "source": [
    "### Scenario 5: Debug your code"
   ]
  },
  {
   "cell_type": "code",
   "execution_count": 21,
   "id": "a10179f2-e09e-4c72-9991-a6f5d8418fc4",
   "metadata": {
    "height": 132
   },
   "outputs": [],
   "source": [
    "prompt_template = \"\"\"\n",
    "Can you please help me to debug this code?\n",
    "\n",
    "{question}\n",
    "\n",
    "Explain in detail what you found and why it was a bug.\n",
    "\"\"\""
   ]
  },
  {
   "cell_type": "code",
   "execution_count": 22,
   "id": "ed8384ba-3641-407e-add6-52efa2a43b48",
   "metadata": {
    "height": 625
   },
   "outputs": [],
   "source": [
    "# I deliberately introduced a bug into this code! Let's see if the LLM can find it.\n",
    "# Note -- the model can't see this comment -- but the bug is in the\n",
    "# print function. There's a circumstance where nodes can be null, and trying\n",
    "# to print them would give a null error.\n",
    "question = \"\"\"\n",
    "class Node:\n",
    "   def __init__(self, data):\n",
    "      self.data = data\n",
    "      self.next = None\n",
    "      self.prev = None\n",
    "\n",
    "class doubly_linked_list:\n",
    "   def __init__(self):\n",
    "      self.head = None\n",
    "\n",
    "# Adding data elements\n",
    "   def push(self, NewVal):\n",
    "      NewNode = Node(NewVal)\n",
    "      NewNode.next = self.head\n",
    "      if self.head is not None:\n",
    "         self.head.prev = NewNode\n",
    "      self.head = NewNode\n",
    "\n",
    "# Print the Doubly Linked list in order\n",
    "   def listprint(self, node):\n",
    "       print(node.data),\n",
    "       last = node\n",
    "       node = node.next\n",
    "\n",
    "dllist = doubly_linked_list()\n",
    "dllist.push(12)\n",
    "dllist.push(8)\n",
    "dllist.push(62)\n",
    "dllist.listprint(dllist.head)\n",
    "\n",
    "\"\"\""
   ]
  },
  {
   "cell_type": "markdown",
   "id": "2e4874fd-722a-4b3d-8ca1-fab36c5e84f4",
   "metadata": {},
   "source": [
    "Notice in this case that we are using the default temperature of `0.7` to generate the example that you're seeing in the lecture video.  \n",
    "- Since a temperature > 0 encourages more randomness in the LLM output, you may want to run this code a couple times to see what it outputs."
   ]
  },
  {
   "cell_type": "code",
   "execution_count": 23,
   "id": "360527f9-495e-41f4-a280-579f3643a36b",
   "metadata": {
    "height": 98
   },
   "outputs": [
    {
     "name": "stdout",
     "output_type": "stream",
     "text": [
      "I found a bug in the `listprint()` function. The function is supposed to print the values of the nodes in the linked list in order, but it is printing the values in reverse order. This is because the `node` variable is being reassigned to the `node.next` variable after each iteration of the loop. This means that the next node in the list is being printed, instead of the current node.\n",
      "\n",
      "To fix this bug, I changed the `node` variable to be assigned to the `last` variable after each iteration of the loop. This way, the current node is being printed, and the `last` variable is being updated to point to the next node in the list.\n",
      "\n",
      "Here is the fixed code:\n",
      "\n",
      "```\n",
      "def listprint(self, node):\n",
      "    print(node.data),\n",
      "    last = node\n",
      "    node = node.next\n",
      "```\n"
     ]
    }
   ],
   "source": [
    "completion = generate_text(\n",
    "    prompt = prompt_template.format(question=question),\n",
    "    temperature = 0.7\n",
    ")\n",
    "print(completion.result)"
   ]
  },
  {
   "cell_type": "markdown",
   "id": "82c9d0dc-c216-4ea5-8ccd-1f06094b9fad",
   "metadata": {},
   "source": [
    "#### Reminder to check the code\n",
    "You can use an  LLM to give you insights and check for blind spots, but remember to check that the generated code is doing what you want it to do."
   ]
  },
  {
   "cell_type": "code",
   "execution_count": null,
   "id": "80634c53-72b8-43ee-8ac0-369fce8c0318",
   "metadata": {
    "height": 30
   },
   "outputs": [],
   "source": []
  }
 ],
 "metadata": {
  "kernelspec": {
   "display_name": "Python 3 (ipykernel)",
   "language": "python",
   "name": "python3"
  },
  "language_info": {
   "codemirror_mode": {
    "name": "ipython",
    "version": 3
   },
   "file_extension": ".py",
   "mimetype": "text/x-python",
   "name": "python",
   "nbconvert_exporter": "python",
   "pygments_lexer": "ipython3",
   "version": "3.11.4"
  }
 },
 "nbformat": 4,
 "nbformat_minor": 5
}
