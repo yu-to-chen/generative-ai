{
 "cells": [
  {
   "cell_type": "markdown",
   "metadata": {},
   "source": [
    "# Tool Calling Use Cases"
   ]
  },
  {
   "cell_type": "markdown",
   "metadata": {},
   "source": [
    "<p style=\"background-color:#fff6e4; padding:15px; border-width:3px; border-color:#f5ecda; border-style:solid; border-radius:6px\"> ⏳ <b>Note <code>(Kernel Starting)</code>:</b> This notebook takes about 30 seconds to be ready to use. You may start and watch the video while you wait.</p>"
   ]
  },
  {
   "cell_type": "code",
   "execution_count": 14,
   "metadata": {},
   "outputs": [
    {
     "name": "stdout",
     "output_type": "stream",
     "text": [
      "Collecting tavily-python\n",
      "  Using cached tavily_python-0.5.0-py3-none-any.whl.metadata (11 kB)\n",
      "Requirement already satisfied: requests in /opt/homebrew/Cellar/jupyterlab/4.2.5_1/libexec/lib/python3.12/site-packages (from tavily-python) (2.32.3)\n",
      "Requirement already satisfied: tiktoken>=0.5.1 in /opt/homebrew/Cellar/jupyterlab/4.2.5_1/libexec/lib/python3.12/site-packages (from tavily-python) (0.8.0)\n",
      "Requirement already satisfied: httpx in /opt/homebrew/Cellar/jupyterlab/4.2.5_1/libexec/lib/python3.12/site-packages (from tavily-python) (0.27.2)\n",
      "Requirement already satisfied: regex>=2022.1.18 in /opt/homebrew/Cellar/jupyterlab/4.2.5_1/libexec/lib/python3.12/site-packages (from tiktoken>=0.5.1->tavily-python) (2024.9.11)\n",
      "Requirement already satisfied: charset-normalizer<4,>=2 in /opt/homebrew/Cellar/jupyterlab/4.2.5_1/libexec/lib/python3.12/site-packages (from requests->tavily-python) (3.3.2)\n",
      "Requirement already satisfied: idna<4,>=2.5 in /opt/homebrew/Cellar/jupyterlab/4.2.5_1/libexec/lib/python3.12/site-packages (from requests->tavily-python) (3.8)\n",
      "Requirement already satisfied: urllib3<3,>=1.21.1 in /opt/homebrew/Cellar/jupyterlab/4.2.5_1/libexec/lib/python3.12/site-packages (from requests->tavily-python) (2.2.2)\n",
      "Requirement already satisfied: certifi>=2017.4.17 in /opt/homebrew/opt/certifi/lib/python3.12/site-packages (from requests->tavily-python) (2024.8.30)\n",
      "Requirement already satisfied: anyio in /opt/homebrew/Cellar/jupyterlab/4.2.5_1/libexec/lib/python3.12/site-packages (from httpx->tavily-python) (4.4.0)\n",
      "Requirement already satisfied: httpcore==1.* in /opt/homebrew/Cellar/jupyterlab/4.2.5_1/libexec/lib/python3.12/site-packages (from httpx->tavily-python) (1.0.5)\n",
      "Requirement already satisfied: sniffio in /opt/homebrew/Cellar/jupyterlab/4.2.5_1/libexec/lib/python3.12/site-packages (from httpx->tavily-python) (1.3.1)\n",
      "Requirement already satisfied: h11<0.15,>=0.13 in /opt/homebrew/Cellar/jupyterlab/4.2.5_1/libexec/lib/python3.12/site-packages (from httpcore==1.*->httpx->tavily-python) (0.14.0)\n",
      "Using cached tavily_python-0.5.0-py3-none-any.whl (14 kB)\n",
      "Installing collected packages: tavily-python\n",
      "Successfully installed tavily-python-0.5.0\n"
     ]
    }
   ],
   "source": [
    "import sys\n",
    "!{sys.executable} -m pip install tavily-python"
   ]
  },
  {
   "cell_type": "code",
   "execution_count": 1,
   "metadata": {
    "height": 47
   },
   "outputs": [],
   "source": [
    "import warnings\n",
    "warnings.filterwarnings('ignore')"
   ]
  },
  {
   "cell_type": "markdown",
   "metadata": {},
   "source": [
    "## Get API keys"
   ]
  },
  {
   "cell_type": "code",
   "execution_count": 40,
   "metadata": {
    "height": 47
   },
   "outputs": [],
   "source": [
    "from utils import get_tavily_api_key\n",
    "from utils import get_wolfram_alpha_api_key\n",
    "\n",
    "TAVILY_API_KEY = get_tavily_api_key()\n",
    "WOLFRAM_ALPHA_KEY = get_wolfram_alpha_api_key()\n",
    "#print(WOLFRAM_ALPHA_KEY)"
   ]
  },
  {
   "cell_type": "code",
   "execution_count": 31,
   "metadata": {},
   "outputs": [
    {
     "name": "stdout",
     "output_type": "stream",
     "text": [
      "Environment variable value IS SET!!!\n"
     ]
    }
   ],
   "source": [
    "import os\n",
    "from utils import load_env\n",
    "load_env()\n",
    "\n",
    "# Replace 'YOUR_ENV_VAR' with the name of your environment variable\n",
    "env_var_value = os.getenv('WOLFRAM_ALPHA_KEY')\n",
    "\n",
    "if env_var_value is not None:\n",
    "    #print(f\"Environment variable value: {env_var_value}\")\n",
    "    print(f\"Environment variable value IS SET!!!\")\n",
    "else:\n",
    "    print(\"Environment variable is not set.\")"
   ]
  },
  {
   "cell_type": "markdown",
   "metadata": {},
   "source": [
    "## Load helper functions"
   ]
  },
  {
   "cell_type": "code",
   "execution_count": 3,
   "metadata": {
    "height": 64
   },
   "outputs": [],
   "source": [
    "from utils import llama31\n",
    "from utils import cprint\n",
    "import json"
   ]
  },
  {
   "cell_type": "markdown",
   "metadata": {},
   "source": [
    "<p style=\"background-color:#fff6ff; padding:15px; border-width:3px; border-color:#efe6ef; border-style:solid; border-radius:6px\"> 💻 &nbsp; <b>Access <code>requirements.txt</code> and <code>utils.py</code> files:</b> 1) click on the <em>\"File\"</em> option on the top menu of the notebook and then 2) click on <em>\"Open\"</em>. For more help, please see the <em>\"Appendix - Tips and Help\"</em> Lesson.</p>"
   ]
  },
  {
   "cell_type": "markdown",
   "metadata": {},
   "source": [
    "## Define tool system prompt"
   ]
  },
  {
   "cell_type": "code",
   "execution_count": 4,
   "metadata": {
    "height": 98
   },
   "outputs": [
    {
     "name": "stdout",
     "output_type": "stream",
     "text": [
      "17 October 2024\n"
     ]
    }
   ],
   "source": [
    "from datetime import datetime\n",
    "\n",
    "current_date = datetime.now()\n",
    "formatted_date = current_date.strftime(\"%d %B %Y\")\n",
    "print(formatted_date)"
   ]
  },
  {
   "cell_type": "code",
   "execution_count": 5,
   "metadata": {
    "height": 132
   },
   "outputs": [],
   "source": [
    "tool_system_prompt = f\"\"\"<|begin_of_text|><|start_header_id|>system<|end_header_id|>\n",
    "\n",
    "Environment: ipython\n",
    "Tools: brave_search, wolfram_alpha\n",
    "Cutting Knowledge Date: December 2023\n",
    "Today Date: {formatted_date}\n",
    "\"\"\""
   ]
  },
  {
   "cell_type": "markdown",
   "metadata": {},
   "source": [
    "## The brave_search built-in tool"
   ]
  },
  {
   "cell_type": "code",
   "execution_count": 6,
   "metadata": {
    "height": 98
   },
   "outputs": [],
   "source": [
    "prompt = tool_system_prompt + f\"\"\"<|eot_id|><|start_header_id|>user<|end_header_id|>\n",
    "\n",
    "What is the current weather in Menlo Park, California?\n",
    "\n",
    "<|eot_id|><|start_header_id|>assistant<|end_header_id|>\"\"\""
   ]
  },
  {
   "cell_type": "code",
   "execution_count": 7,
   "metadata": {
    "height": 47
   },
   "outputs": [
    {
     "name": "stdout",
     "output_type": "stream",
     "text": [
      "\n",
      "\n",
      "brave_search.call(query=\"Menlo Park, California weather\")\n"
     ]
    }
   ],
   "source": [
    "response = llama31(prompt)\n",
    "print(response)"
   ]
  },
  {
   "cell_type": "code",
   "execution_count": 8,
   "metadata": {
    "height": 98
   },
   "outputs": [],
   "source": [
    "no_tool_call_prompt = tool_system_prompt + f\"\"\"<|eot_id|><|start_header_id|>user<|end_header_id|>\n",
    "\n",
    "What is the population of California?\n",
    "\n",
    "<|eot_id|><|start_header_id|>assistant<|end_header_id|>\"\"\""
   ]
  },
  {
   "cell_type": "code",
   "execution_count": 9,
   "metadata": {
    "height": 47
   },
   "outputs": [
    {
     "name": "stdout",
     "output_type": "stream",
     "text": [
      "\n",
      "\n",
      "As of my cut-off knowledge date of 01 March 2023, the estimated population of California is approximately 39.5 million people, according to the United States Census Bureau. However, please note that this information may have changed since my cut-off date. For the most up-to-date information, I recommend checking the latest data from the United States Census Bureau or other reliable sources.\n"
     ]
    }
   ],
   "source": [
    "no_tool_call_response = llama31(no_tool_call_prompt)\n",
    "print(no_tool_call_response)"
   ]
  },
  {
   "cell_type": "markdown",
   "metadata": {},
   "source": [
    "### Calling the search API"
   ]
  },
  {
   "cell_type": "code",
   "execution_count": 16,
   "metadata": {
    "height": 98
   },
   "outputs": [
    {
     "name": "stdout",
     "output_type": "stream",
     "text": [
      "{\u001b[37m\u001b[39;49;00m\n",
      "\u001b[37m    \u001b[39;49;00m\u001b[94m\"query\"\u001b[39;49;00m:\u001b[37m \u001b[39;49;00m\u001b[33m\"current weather in Menlo Park, California\"\u001b[39;49;00m,\u001b[37m\u001b[39;49;00m\n",
      "\u001b[37m    \u001b[39;49;00m\u001b[94m\"follow_up_questions\"\u001b[39;49;00m:\u001b[37m \u001b[39;49;00m\u001b[34mnull\u001b[39;49;00m,\u001b[37m\u001b[39;49;00m\n",
      "\u001b[37m    \u001b[39;49;00m\u001b[94m\"answer\"\u001b[39;49;00m:\u001b[37m \u001b[39;49;00m\u001b[34mnull\u001b[39;49;00m,\u001b[37m\u001b[39;49;00m\n",
      "\u001b[37m    \u001b[39;49;00m\u001b[94m\"images\"\u001b[39;49;00m:\u001b[37m \u001b[39;49;00m[],\u001b[37m\u001b[39;49;00m\n",
      "\u001b[37m    \u001b[39;49;00m\u001b[94m\"results\"\u001b[39;49;00m:\u001b[37m \u001b[39;49;00m[\u001b[37m\u001b[39;49;00m\n",
      "\u001b[37m        \u001b[39;49;00m{\u001b[37m\u001b[39;49;00m\n",
      "\u001b[37m            \u001b[39;49;00m\u001b[94m\"title\"\u001b[39;49;00m:\u001b[37m \u001b[39;49;00m\u001b[33m\"Weather in Menlo Park, California\"\u001b[39;49;00m,\u001b[37m\u001b[39;49;00m\n",
      "\u001b[37m            \u001b[39;49;00m\u001b[94m\"url\"\u001b[39;49;00m:\u001b[37m \u001b[39;49;00m\u001b[33m\"https://www.weatherapi.com/\"\u001b[39;49;00m,\u001b[37m\u001b[39;49;00m\n",
      "\u001b[37m            \u001b[39;49;00m\u001b[94m\"content\"\u001b[39;49;00m:\u001b[37m \u001b[39;49;00m\u001b[33m\"{'location': {'name': 'Menlo Park', 'region': 'California', 'country': 'United States of America', 'lat': 37.4539, 'lon': -122.1811, 'tz_id': 'America/Los_Angeles', 'localtime_epoch': 1729134537, 'localtime': '2024-10-16 20:08'}, 'current': {'last_updated_epoch': 1729134000, 'last_updated': '2024-10-16 20:00', 'temp_c': 17.0, 'temp_f': 62.6, 'is_day': 0, 'condition': {'text': 'Clear', 'icon': '//cdn.weatherapi.com/weather/64x64/night/113.png', 'code': 1000}, 'wind_mph': 3.1, 'wind_kph': 5.0, 'wind_degree': 247, 'wind_dir': 'WSW', 'pressure_mb': 1014.0, 'pressure_in': 29.93, 'precip_mm': 0.0, 'precip_in': 0.0, 'humidity': 72, 'cloud': 0, 'feelslike_c': 17.0, 'feelslike_f': 62.6, 'windchill_c': 14.7, 'windchill_f': 58.5, 'heatindex_c': 15.1, 'heatindex_f': 59.2, 'dewpoint_c': 12.1, 'dewpoint_f': 53.8, 'vis_km': 16.0, 'vis_miles': 9.0, 'uv': 0.0, 'gust_mph': 5.0, 'gust_kph': 8.1}}\"\u001b[39;49;00m,\u001b[37m\u001b[39;49;00m\n",
      "\u001b[37m            \u001b[39;49;00m\u001b[94m\"score\"\u001b[39;49;00m:\u001b[37m \u001b[39;49;00m\u001b[34m0.9993049\u001b[39;49;00m,\u001b[37m\u001b[39;49;00m\n",
      "\u001b[37m            \u001b[39;49;00m\u001b[94m\"raw_content\"\u001b[39;49;00m:\u001b[37m \u001b[39;49;00m\u001b[34mnull\u001b[39;49;00m\u001b[37m\u001b[39;49;00m\n",
      "\u001b[37m        \u001b[39;49;00m},\u001b[37m\u001b[39;49;00m\n",
      "\u001b[37m        \u001b[39;49;00m{\u001b[37m\u001b[39;49;00m\n",
      "\u001b[37m            \u001b[39;49;00m\u001b[94m\"title\"\u001b[39;49;00m:\u001b[37m \u001b[39;49;00m\u001b[33m\"Menlo Park CA Current Weather Report and Forecast\"\u001b[39;49;00m,\u001b[37m\u001b[39;49;00m\n",
      "\u001b[37m            \u001b[39;49;00m\u001b[94m\"url\"\u001b[39;49;00m:\u001b[37m \u001b[39;49;00m\u001b[33m\"https://www.localconditions.com/weather-menlo-park-california/94025/\"\u001b[39;49;00m,\u001b[37m\u001b[39;49;00m\n",
      "\u001b[37m            \u001b[39;49;00m\u001b[94m\"content\"\u001b[39;49;00m:\u001b[37m \u001b[39;49;00m\u001b[33m\"Menlo Park, CA Weather Today. The current weather report for Menlo Park CA, as of 8:47 PM PDT, has a sky condition of Clear with the visibility of 10 mile (s). It is 64 degrees fahrenheit but feels like 65 degrees fahrenheit. The barometric pressure is 29.91 - measured by inch of mercury units - and is rising since its last observation.\"\u001b[39;49;00m,\u001b[37m\u001b[39;49;00m\n",
      "\u001b[37m            \u001b[39;49;00m\u001b[94m\"score\"\u001b[39;49;00m:\u001b[37m \u001b[39;49;00m\u001b[34m0.9990746\u001b[39;49;00m,\u001b[37m\u001b[39;49;00m\n",
      "\u001b[37m            \u001b[39;49;00m\u001b[94m\"raw_content\"\u001b[39;49;00m:\u001b[37m \u001b[39;49;00m\u001b[34mnull\u001b[39;49;00m\u001b[37m\u001b[39;49;00m\n",
      "\u001b[37m        \u001b[39;49;00m},\u001b[37m\u001b[39;49;00m\n",
      "\u001b[37m        \u001b[39;49;00m{\u001b[37m\u001b[39;49;00m\n",
      "\u001b[37m            \u001b[39;49;00m\u001b[94m\"title\"\u001b[39;49;00m:\u001b[37m \u001b[39;49;00m\u001b[33m\"Menlo Park, California, USA 14 day weather forecast - timeanddate.com\"\u001b[39;49;00m,\u001b[37m\u001b[39;49;00m\n",
      "\u001b[37m            \u001b[39;49;00m\u001b[94m\"url\"\u001b[39;49;00m:\u001b[37m \u001b[39;49;00m\u001b[33m\"https://www.timeanddate.com/weather/@5372223/ext\"\u001b[39;49;00m,\u001b[37m\u001b[39;49;00m\n",
      "\u001b[37m            \u001b[39;49;00m\u001b[94m\"content\"\u001b[39;49;00m:\u001b[37m \u001b[39;49;00m\u001b[33m\"Menlo Park 14 Day Extended Forecast. Time/General. Weather. Time Zone. DST Changes. Sun & Moon. Weather Today Weather Hourly 14 Day Forecast Yesterday/Past Weather Climate (Averages) Currently: 66 \\u00b0F. Scattered clouds.\"\u001b[39;49;00m,\u001b[37m\u001b[39;49;00m\n",
      "\u001b[37m            \u001b[39;49;00m\u001b[94m\"score\"\u001b[39;49;00m:\u001b[37m \u001b[39;49;00m\u001b[34m0.9889705\u001b[39;49;00m,\u001b[37m\u001b[39;49;00m\n",
      "\u001b[37m            \u001b[39;49;00m\u001b[94m\"raw_content\"\u001b[39;49;00m:\u001b[37m \u001b[39;49;00m\u001b[34mnull\u001b[39;49;00m\u001b[37m\u001b[39;49;00m\n",
      "\u001b[37m        \u001b[39;49;00m},\u001b[37m\u001b[39;49;00m\n",
      "\u001b[37m        \u001b[39;49;00m{\u001b[37m\u001b[39;49;00m\n",
      "\u001b[37m            \u001b[39;49;00m\u001b[94m\"title\"\u001b[39;49;00m:\u001b[37m \u001b[39;49;00m\u001b[33m\"Weather in Menlo Park in October 2024 (California) - Detailed Weather ...\"\u001b[39;49;00m,\u001b[37m\u001b[39;49;00m\n",
      "\u001b[37m            \u001b[39;49;00m\u001b[94m\"url\"\u001b[39;49;00m:\u001b[37m \u001b[39;49;00m\u001b[33m\"https://world-weather.info/forecast/usa/menlo_park/october-2024/\"\u001b[39;49;00m,\u001b[37m\u001b[39;49;00m\n",
      "\u001b[37m            \u001b[39;49;00m\u001b[94m\"content\"\u001b[39;49;00m:\u001b[37m \u001b[39;49;00m\u001b[33m\"Weather in Menlo Park in October 2024 (California) - Detailed Weather Forecast for a Month Weather in Menlo Park Weather in Menlo Park in October 2024 1 +90\\u00b0+64\\u00b0 2 +90\\u00b0+70\\u00b0 3 +86\\u00b0+66\\u00b0 4 +82\\u00b0+63\\u00b0 5 +91\\u00b0+64\\u00b0 6 +93\\u00b0+68\\u00b0 7 +86\\u00b0+70\\u00b0 8 +77\\u00b0+63\\u00b0 9 +72\\u00b0+57\\u00b0 10 +70\\u00b0+55\\u00b0 11 +70\\u00b0+54\\u00b0 12 +73\\u00b0+55\\u00b0 13 +73\\u00b0+63\\u00b0 14 +68\\u00b0+61\\u00b0 15 +72\\u00b0+55\\u00b0 16 +70\\u00b0+59\\u00b0 17 +68\\u00b0+55\\u00b0 18 +72\\u00b0+57\\u00b0 19 +75\\u00b0+55\\u00b0 20 +72\\u00b0+57\\u00b0 21 +68\\u00b0+55\\u00b0 22 +72\\u00b0+57\\u00b0 23 +70\\u00b0+55\\u00b0 24 +68\\u00b0+57\\u00b0 25 +68\\u00b0+54\\u00b0 26 +70\\u00b0+54\\u00b0 27 +70\\u00b0+57\\u00b0 28 +73\\u00b0+66\\u00b0 29 +72\\u00b0+63\\u00b0 30 +70\\u00b0+54\\u00b0 +68\\u00b0+55\\u00b0 Weather in Washington, D.C.+48\\u00b0 Sacramento+70\\u00b0 Redwood City+64\\u00b0 San Francisco+61\\u00b0 San Jose+64\\u00b0 San Leandro+63\\u00b0 San Mateo+63\\u00b0 San Ramon+61\\u00b0 South San Francisco+61\\u00b0 Pleasanton+64\\u00b0 Pacifica+59\\u00b0 Berkeley+63\\u00b0 Cupertino+64\\u00b0 Daly City+59\\u00b0 Ulmar+64\\u00b0 world's temperature today Temperature units\"\u001b[39;49;00m,\u001b[37m\u001b[39;49;00m\n",
      "\u001b[37m            \u001b[39;49;00m\u001b[94m\"score\"\u001b[39;49;00m:\u001b[37m \u001b[39;49;00m\u001b[34m0.93379396\u001b[39;49;00m,\u001b[37m\u001b[39;49;00m\n",
      "\u001b[37m            \u001b[39;49;00m\u001b[94m\"raw_content\"\u001b[39;49;00m:\u001b[37m \u001b[39;49;00m\u001b[34mnull\u001b[39;49;00m\u001b[37m\u001b[39;49;00m\n",
      "\u001b[37m        \u001b[39;49;00m},\u001b[37m\u001b[39;49;00m\n",
      "\u001b[37m        \u001b[39;49;00m{\u001b[37m\u001b[39;49;00m\n",
      "\u001b[37m            \u001b[39;49;00m\u001b[94m\"title\"\u001b[39;49;00m:\u001b[37m \u001b[39;49;00m\u001b[33m\"Menlo Park, CA Current Weather | AccuWeather\"\u001b[39;49;00m,\u001b[37m\u001b[39;49;00m\n",
      "\u001b[37m            \u001b[39;49;00m\u001b[94m\"url\"\u001b[39;49;00m:\u001b[37m \u001b[39;49;00m\u001b[33m\"https://www.accuweather.com/en/us/menlo-park/94025/current-weather/337153\"\u001b[39;49;00m,\u001b[37m\u001b[39;49;00m\n",
      "\u001b[37m            \u001b[39;49;00m\u001b[94m\"content\"\u001b[39;49;00m:\u001b[37m \u001b[39;49;00m\u001b[33m\"Current weather in Menlo Park, CA. Check current conditions in Menlo Park, CA with radar, hourly, and more.\"\u001b[39;49;00m,\u001b[37m\u001b[39;49;00m\n",
      "\u001b[37m            \u001b[39;49;00m\u001b[94m\"score\"\u001b[39;49;00m:\u001b[37m \u001b[39;49;00m\u001b[34m0.92590266\u001b[39;49;00m,\u001b[37m\u001b[39;49;00m\n",
      "\u001b[37m            \u001b[39;49;00m\u001b[94m\"raw_content\"\u001b[39;49;00m:\u001b[37m \u001b[39;49;00m\u001b[34mnull\u001b[39;49;00m\u001b[37m\u001b[39;49;00m\n",
      "\u001b[37m        \u001b[39;49;00m}\u001b[37m\u001b[39;49;00m\n",
      "\u001b[37m    \u001b[39;49;00m],\u001b[37m\u001b[39;49;00m\n",
      "\u001b[37m    \u001b[39;49;00m\u001b[94m\"response_time\"\u001b[39;49;00m:\u001b[37m \u001b[39;49;00m\u001b[34m3.17\u001b[39;49;00m\u001b[37m\u001b[39;49;00m\n",
      "}\u001b[37m\u001b[39;49;00m\n",
      "\n"
     ]
    }
   ],
   "source": [
    "from tavily import TavilyClient\n",
    "tavily_client = TavilyClient(api_key=TAVILY_API_KEY)\n",
    "\n",
    "result = tavily_client.search(\"current weather in Menlo Park, California\")\n",
    "cprint(result)"
   ]
  },
  {
   "cell_type": "markdown",
   "metadata": {},
   "source": [
    "### Reprompting Llama with search tool response"
   ]
  },
  {
   "cell_type": "code",
   "execution_count": 17,
   "metadata": {
    "height": 47
   },
   "outputs": [
    {
     "name": "stdout",
     "output_type": "stream",
     "text": [
      "{'location': {'name': 'Menlo Park', 'region': 'California', 'country': 'United States of America', 'lat': 37.4539, 'lon': -122.1811, 'tz_id': 'America/Los_Angeles', 'localtime_epoch': 1729134537, 'localtime': '2024-10-16 20:08'}, 'current': {'last_updated_epoch': 1729134000, 'last_updated': '2024-10-16 20:00', 'temp_c': 17.0, 'temp_f': 62.6, 'is_day': 0, 'condition': {'text': 'Clear', 'icon': '//cdn.weatherapi.com/weather/64x64/night/113.png', 'code': 1000}, 'wind_mph': 3.1, 'wind_kph': 5.0, 'wind_degree': 247, 'wind_dir': 'WSW', 'pressure_mb': 1014.0, 'pressure_in': 29.93, 'precip_mm': 0.0, 'precip_in': 0.0, 'humidity': 72, 'cloud': 0, 'feelslike_c': 17.0, 'feelslike_f': 62.6, 'windchill_c': 14.7, 'windchill_f': 58.5, 'heatindex_c': 15.1, 'heatindex_f': 59.2, 'dewpoint_c': 12.1, 'dewpoint_f': 53.8, 'vis_km': 16.0, 'vis_miles': 9.0, 'uv': 0.0, 'gust_mph': 5.0, 'gust_kph': 8.1}}\n"
     ]
    }
   ],
   "source": [
    "search_result = result[\"results\"][0][\"content\"]\n",
    "print(search_result)"
   ]
  },
  {
   "cell_type": "code",
   "execution_count": 18,
   "metadata": {
    "height": 200
   },
   "outputs": [
    {
     "name": "stdout",
     "output_type": "stream",
     "text": [
      "<|begin_of_text|><|start_header_id|>system<|end_header_id|>\n",
      "\n",
      "Environment: ipython\n",
      "Tools: brave_search, wolfram_alpha\n",
      "Cutting Knowledge Date: December 2023\n",
      "Today Date: 17 October 2024\n",
      "<|eot_id|><|start_header_id|>user<|end_header_id|>\n",
      "What is the current weather in Menlo Park, California?\n",
      "\n",
      "<|eot_id|><|start_header_id|>assistant<|end_header_id|>\n",
      "\n",
      "<|python_tag|>\n",
      "\n",
      "brave_search.call(query=\"Menlo Park, California weather\")<|eom_id|>\n",
      "<|start_header_id|>ipython<|end_header_id|>\n",
      "\n",
      "{'location': {'name': 'Menlo Park', 'region': 'California', 'country': 'United States of America', 'lat': 37.4539, 'lon': -122.1811, 'tz_id': 'America/Los_Angeles', 'localtime_epoch': 1729134537, 'localtime': '2024-10-16 20:08'}, 'current': {'last_updated_epoch': 1729134000, 'last_updated': '2024-10-16 20:00', 'temp_c': 17.0, 'temp_f': 62.6, 'is_day': 0, 'condition': {'text': 'Clear', 'icon': '//cdn.weatherapi.com/weather/64x64/night/113.png', 'code': 1000}, 'wind_mph': 3.1, 'wind_kph': 5.0, 'wind_degree': 247, 'wind_dir': 'WSW', 'pressure_mb': 1014.0, 'pressure_in': 29.93, 'precip_mm': 0.0, 'precip_in': 0.0, 'humidity': 72, 'cloud': 0, 'feelslike_c': 17.0, 'feelslike_f': 62.6, 'windchill_c': 14.7, 'windchill_f': 58.5, 'heatindex_c': 15.1, 'heatindex_f': 59.2, 'dewpoint_c': 12.1, 'dewpoint_f': 53.8, 'vis_km': 16.0, 'vis_miles': 9.0, 'uv': 0.0, 'gust_mph': 5.0, 'gust_kph': 8.1}}<|eot_id|><|start_header_id|>assistant<|end_header_id|>\n",
      "\n"
     ]
    }
   ],
   "source": [
    "prompt = tool_system_prompt + f\"\"\"<|eot_id|><|start_header_id|>user<|end_header_id|>\n",
    "What is the current weather in Menlo Park, California?\n",
    "\n",
    "<|eot_id|><|start_header_id|>assistant<|end_header_id|>\n",
    "\n",
    "<|python_tag|>{response}<|eom_id|>\n",
    "<|start_header_id|>ipython<|end_header_id|>\n",
    "\n",
    "{search_result}<|eot_id|><|start_header_id|>assistant<|end_header_id|>\n",
    "\"\"\"\n",
    "print(prompt)"
   ]
  },
  {
   "cell_type": "code",
   "execution_count": 19,
   "metadata": {
    "height": 47
   },
   "outputs": [
    {
     "name": "stdout",
     "output_type": "stream",
     "text": [
      "The current weather in Menlo Park, California is clear with a temperature of 62.6°F (17.0°C) and a wind speed of 5 mph (8 km/h) from the WSW. The humidity is 72% and the pressure is 1014 mb. There is no precipitation expected.\n"
     ]
    }
   ],
   "source": [
    "response = llama31(prompt)\n",
    "print(response)"
   ]
  },
  {
   "cell_type": "markdown",
   "metadata": {},
   "source": [
    "## Using the higher-level message"
   ]
  },
  {
   "cell_type": "code",
   "execution_count": 20,
   "metadata": {
    "height": 115
   },
   "outputs": [],
   "source": [
    "system_prompt_content = f\"\"\"\n",
    "Environment: ipython\n",
    "Tools: brave_search, wolfram_alpha\n",
    "Cutting Knowledge Date: December 2023\n",
    "Today Date: {formatted_date}\n",
    "\"\"\""
   ]
  },
  {
   "cell_type": "code",
   "execution_count": 21,
   "metadata": {
    "height": 81
   },
   "outputs": [],
   "source": [
    "messages = [\n",
    "    {\"role\": \"system\", \"content\":  system_prompt_content},\n",
    "    {\"role\": \"user\",   \"content\": \"What is the current weather in Menlo Park, California?\"}\n",
    "  ]"
   ]
  },
  {
   "cell_type": "code",
   "execution_count": 22,
   "metadata": {
    "height": 47
   },
   "outputs": [
    {
     "name": "stdout",
     "output_type": "stream",
     "text": [
      "brave_search.call(query=\"current weather in Menlo Park, California\")\n"
     ]
    }
   ],
   "source": [
    "response = llama31(messages)\n",
    "print(response)"
   ]
  },
  {
   "cell_type": "code",
   "execution_count": 23,
   "metadata": {
    "height": 115
   },
   "outputs": [],
   "source": [
    "messages = [\n",
    "    {\"role\": \"system\",     \"content\":  system_prompt_content},\n",
    "    {\"role\": \"user\",       \"content\": \"What is the current weather in Menlo Park, California?\"},\n",
    "    {\"role\": \"assistant\",  \"content\": response},\n",
    "    {\"role\": \"ipython\",    \"content\": search_result}\n",
    "  ]"
   ]
  },
  {
   "cell_type": "code",
   "execution_count": 24,
   "metadata": {
    "height": 47
   },
   "outputs": [
    {
     "name": "stdout",
     "output_type": "stream",
     "text": [
      "The current weather in Menlo Park, California is clear with a temperature of 62.6°F (17.0°C). The wind is blowing at 5.0 mph (8.1 kph) from the WSW, and the humidity is 72%.\n"
     ]
    }
   ],
   "source": [
    "response = llama31(messages)\n",
    "print(response)"
   ]
  },
  {
   "cell_type": "markdown",
   "metadata": {},
   "source": [
    "## The Wolfram Alpha tool"
   ]
  },
  {
   "cell_type": "code",
   "execution_count": 25,
   "metadata": {
    "height": 30
   },
   "outputs": [],
   "source": [
    "math_problem = \"Can you help me solve this equation: x^3 - 2x^2 - x + 2 = 0?\""
   ]
  },
  {
   "cell_type": "code",
   "execution_count": 26,
   "metadata": {
    "height": 81
   },
   "outputs": [],
   "source": [
    "messages = [\n",
    "    {\"role\": \"system\",  \"content\": system_prompt_content},\n",
    "    {\"role\": \"user\",    \"content\": math_problem}\n",
    "]"
   ]
  },
  {
   "cell_type": "code",
   "execution_count": 27,
   "metadata": {
    "height": 47
   },
   "outputs": [
    {
     "name": "stdout",
     "output_type": "stream",
     "text": [
      "wolfram_alpha.call(query=\"solve x^3 - 2x^2 - x + 2 = 0\")\n"
     ]
    }
   ],
   "source": [
    "response = llama31(messages)\n",
    "print(response)"
   ]
  },
  {
   "cell_type": "markdown",
   "metadata": {},
   "source": [
    "### Calling the Wolfram Alpha tool"
   ]
  },
  {
   "cell_type": "code",
   "execution_count": 41,
   "metadata": {},
   "outputs": [
    {
     "name": "stdout",
     "output_type": "stream",
     "text": [
      "{'@success': True, '@error': 'false', '@xml:space': 'preserve', '@numpods': '18', '@datatypes': 'AdministrativeDivision,City,Country,MetropolitanArea,NuclearReactor,Person,WeatherStation', '@timedout': '', '@timedoutpods': '', '@timing': '4.382', '@parsetiming': '0.28500000000000003', '@parsetimedout': 'false', '@recalculate': '', '@id': 'MSP47514g3de7564803gg200005518f91de8fc8628', '@host': 'https://www6b3.wolframalpha.com', '@server': '11', '@related': 'https://www6b3.wolframalpha.com/api/v1/relatedQueries.jsp?id=MSPa47614g3de7564803gg2000039e85g2cfgic376a5481992349747128482', '@version': '2.6', '@inputstring': 'What is the capital of France', 'pod': [{'@title': 'Input interpretation', '@scanner': 'Identity', '@id': 'Input', '@position': 100.0, '@error': 'false', '@numsubpods': 1, 'subpod': {'@title': '', 'img': {'@src': 'https://www6b3.wolframalpha.com/Calculate/MSP/MSP47714g3de7564803gg2000055635e2582i7i9if?MSPStoreType=image/gif&s=11', '@alt': 'France | capital city', '@title': 'France | capital city', '@width': 175, '@height': 33, '@type': 'Grid', '@themes': '1,2,3,4,5,6,7,8,9,10,11,12', '@colorinvertable': 'true', '@contenttype': 'image/gif'}, 'plaintext': 'France | capital city'}, 'expressiontypes': {'@count': '1', 'expressiontype': {'@name': 'Grid'}}}, {'@title': 'Result', '@scanner': 'Data', '@id': 'Result', '@position': 200.0, '@error': 'false', '@numsubpods': 1, '@primary': True, 'subpod': {'@title': '', 'datasources': {'datasource': 'CIAFactbook'}, 'img': {'@src': 'https://www6b3.wolframalpha.com/Calculate/MSP/MSP47814g3de7564803gg200003hh5e2656gif3bb6?MSPStoreType=image/gif&s=11', '@alt': 'Paris, Île-de-France, France', '@title': 'Paris, Île-de-France, France', '@width': 189, '@height': 19, '@type': 'Default', '@themes': '1,2,3,4,5,6,7,8,9,10,11,12', '@colorinvertable': 'true', '@contenttype': 'image/gif'}, 'plaintext': 'Paris, Île-de-France, France'}, 'expressiontypes': {'@count': '1', 'expressiontype': {'@name': 'Default'}}}, {'@title': 'Populations', '@scanner': 'Data', '@id': 'Population:CityData', '@position': 300.0, '@error': 'false', '@numsubpods': 1, 'subpod': {'@title': '', 'microsources': {'microsource': ['CityData', 'MetropolitanAreaData', 'USCensusData']}, 'img': {'@src': 'https://www6b3.wolframalpha.com/Calculate/MSP/MSP47914g3de7564803gg200003936iecea265ae4i?MSPStoreType=image/gif&s=11', '@alt': 'city population | 2.165 million people (country rank: 1st) (2019 estimate) metro area population | 11.82 million people (Paris metro area) (2007 estimate)', '@title': 'city population | 2.165 million people (country rank: 1st) (2019 estimate) metro area population | 11.82 million people (Paris metro area) (2007 estimate)', '@width': 506, '@height': 70, '@type': 'Grid', '@themes': '1,2,3,4,5,6,7,8,9,10,11,12', '@colorinvertable': 'true', '@contenttype': 'image/gif'}, 'plaintext': 'city population | 2.165 million people (country rank: 1st) (2019 estimate)\\nmetro area population | 11.82 million people (Paris metro area) (2007 estimate)'}, 'expressiontypes': {'@count': '1', 'expressiontype': {'@name': 'Grid'}}, 'states': {'@count': '1', 'state': {'@name': 'Show history', '@input': 'Population:CityData__Show history'}}}, {'@title': 'Location', '@scanner': 'Data', '@id': 'Location:CityData', '@position': 400.0, '@error': 'false', '@numsubpods': 2, 'subpod': [{'@title': '', 'microsources': {'microsource': ['AdministrativeDivisionData', 'CityData']}, 'img': {'@src': 'https://www6b3.wolframalpha.com/Calculate/MSP/MSP48014g3de7564803gg200001714c8f29158dhdb?MSPStoreType=image/gif&s=11', '@alt': 'Île-de-France, France', '@title': 'Île-de-France, France', '@width': 149, '@height': 19, '@type': 'Default', '@themes': '1,2,3,4,5,6,7,8,9,10,11,12', '@colorinvertable': 'true', '@contenttype': 'image/gif'}, 'plaintext': 'Île-de-France, France'}, {'@title': '', 'microsources': {'microsource': ['AdministrativeDivisionData', 'CityData', 'CountryData']}, 'datasources': {'datasource': 'CIAFactbook'}, 'img': {'@src': 'https://www6b3.wolframalpha.com/Calculate/MSP/MSP48114g3de7564803gg200002dh5b589bh15ai2e?MSPStoreType=image/gif&s=11', '@alt': 'Location', '@title': '', '@width': 328, '@height': 299, '@type': 'CountryMap', '@themes': '1,2,3,4,5,6,7,8,9,10,11,12', '@colorinvertable': 'true', '@contenttype': 'image/gif'}, 'plaintext': None}], 'expressiontypes': {'@count': '2', 'expressiontype': [{'@name': 'Default'}, {'@name': 'Default'}]}, 'states': {'@count': '2', 'state': [{'@name': 'World map', '@input': 'Location:CityData__World map'}, {'@name': 'Show coordinates', '@input': 'Location:CityData__Show coordinates'}]}, 'infos': {'@count': '1', 'info': {'link': {'@url': 'http://maps.google.com?ie=UTF8&z=12&t=k&ll=48.86%2C2.34&q=48.86%20N%2C%202.34%20E', '@text': 'Satellite image'}}}}, {'@title': 'Local map', '@scanner': 'Data', '@id': 'Map:CityData', '@position': 500.0, '@error': 'false', '@numsubpods': 1, 'subpod': {'@title': '', 'microsources': {'microsource': ['CityData', 'OpenStreetMap']}, 'img': {'@src': 'https://www6b3.wolframalpha.com/Calculate/MSP/MSP48214g3de7564803gg200000h7d901gehcde996?MSPStoreType=image/gif&s=11', '@alt': 'Local map', '@title': '', '@width': 550, '@height': 279, '@type': '2DMathPlot_2', '@themes': '1,2,3,4,5,6,7,8,9,10,11,12', '@colorinvertable': 'false', '@contenttype': 'image/gif'}, 'plaintext': None}, 'expressiontypes': {'@count': '1', 'expressiontype': {'@name': 'Default'}}, 'states': {'@count': '2', 'statelist': {'@count': '13', '@value': '30 kilometers across', '@delimiters': '', 'state': [{'@name': '7 kilometers across', '@input': 'Map:CityData__7 kilometers across'}, {'@name': '10 kilometers across', '@input': 'Map:CityData__10 kilometers across'}, {'@name': '30 kilometers across', '@input': 'Map:CityData__30 kilometers across'}, {'@name': '60 kilometers across', '@input': 'Map:CityData__60 kilometers across'}, {'@name': '110 kilometers across', '@input': 'Map:CityData__110 kilometers across'}, {'@name': '220 kilometers across', '@input': 'Map:CityData__220 kilometers across'}, {'@name': '450 kilometers across', '@input': 'Map:CityData__450 kilometers across'}, {'@name': '900 kilometers across', '@input': 'Map:CityData__900 kilometers across'}, {'@name': '1800 kilometers across', '@input': 'Map:CityData__1800 kilometers across'}, {'@name': '3600 kilometers across', '@input': 'Map:CityData__3600 kilometers across'}, {'@name': '6900 kilometers across', '@input': 'Map:CityData__6900 kilometers across'}, {'@name': '11000 kilometers across', '@input': 'Map:CityData__11000 kilometers across'}, {'@name': '22000 kilometers across', '@input': 'Map:CityData__22000 kilometers across'}]}, 'state': {'@name': 'Non-metric', '@input': 'Map:CityData__Non-metric'}}, 'infos': {'@count': '1', 'info': {'link': {'@url': 'http://maps.google.com?ie=UTF8&z=12&t=k&ll=48.86%2C2.34&q=48.86%20N%2C%202.34%20E', '@text': 'Satellite image'}}}}, {'@title': 'Administrative regions', '@scanner': 'Data', '@id': 'AdministrativeRegions:CityData', '@position': 600.0, '@error': 'false', '@numsubpods': 1, 'subpod': {'@title': '', 'microsources': {'microsource': 'CityData'}, 'img': {'@src': 'https://www6b3.wolframalpha.com/Calculate/MSP/MSP48314g3de7564803gg200001e5ga6ehbd6c36g7?MSPStoreType=image/gif&s=11', '@alt': 'region | Ile-de-France country | France', '@title': 'region | Ile-de-France country | France', '@width': 186, '@height': 70, '@type': 'Grid', '@themes': '1,2,3,4,5,6,7,8,9,10,11,12', '@colorinvertable': 'true', '@contenttype': 'image/gif'}, 'plaintext': 'region | Ile-de-France\\ncountry | France'}, 'expressiontypes': {'@count': '1', 'expressiontype': {'@name': 'Grid'}}}, {'@title': 'Current local time', '@scanner': 'Data', '@id': 'CurrentTime:CityData', '@position': 700.0, '@error': 'false', '@numsubpods': 1, 'subpod': {'@title': '', 'microsources': {'microsource': 'CityData'}, 'img': {'@src': 'https://www6b3.wolframalpha.com/Calculate/MSP/MSP48414g3de7564803gg20000591b669i4hgcg0a9?MSPStoreType=image/gif&s=11', '@alt': '7:21 am CEST | Thursday, October 17, 2024', '@title': '7:21 am CEST | Thursday, October 17, 2024', '@width': 301, '@height': 19, '@type': 'Grid', '@themes': '1,2,3,4,5,6,7,8,9,10,11,12', '@colorinvertable': 'true', '@contenttype': 'image/gif'}, 'plaintext': '7:21 am CEST | Thursday, October 17, 2024'}, 'expressiontypes': {'@count': '1', 'expressiontype': {'@name': 'Default'}}}, {'@title': 'Current weather', '@scanner': 'Data', '@id': 'WeatherPod:CityData', '@position': 800.0, '@error': 'false', '@numsubpods': 1, 'subpod': {'@title': '', 'microsources': {'microsource': ['CityData', 'WeatherData']}, 'img': {'@src': 'https://www6b3.wolframalpha.com/Calculate/MSP/MSP48514g3de7564803gg200002cch13d5fg77c8e2?MSPStoreType=image/gif&s=11', '@alt': '17 °C | relative humidity: 94% | wind: 2 m/s | cloudy', '@title': '17 °C | relative humidity: 94% | wind: 2 m/s | cloudy', '@width': 378, '@height': 22, '@type': 'Grid', '@themes': '1,2,3,4,5,6,7,8,9,10,11,12', '@colorinvertable': 'true', '@contenttype': 'image/gif'}, 'plaintext': '17 °C | relative humidity: 94% | wind: 2 m/s | cloudy'}, 'expressiontypes': {'@count': '1', 'expressiontype': {'@name': 'Grid'}}, 'states': {'@count': '2', 'state': [{'@name': 'Show history', '@input': 'WeatherPod:CityData__Show history'}, {'@name': 'Show non-metric', '@input': 'WeatherPod:CityData__Show non-metric'}]}}, {'@title': 'Nearby cities', '@scanner': 'Data', '@id': 'CityHierarchyInfo:CityData', '@position': 900.0, '@error': 'false', '@numsubpods': 1, 'subpod': {'@title': '', 'microsources': {'microsource': 'CityData'}, 'img': {'@src': 'https://www6b3.wolframalpha.com/Calculate/MSP/MSP48614g3de7564803gg200001e4deb74b83ag168?MSPStoreType=image/gif&s=11', '@alt': 'Montreuil, Île-de-France | 7 km (kilometers) east | 102097 people Asnières-sur-Seine, Île-de-France | 7 km (kilometers) north-northwest | 85000 people Courbevoie, Île-de-France | 8 km (kilometers) northwest | 84974 people Boulogne-Billancourt, Île-de-France | 8 km (kilometers) west-southwest | 108300 people Saint-Denis, Île-de-France | 9 km (kilometers) north | 94700 people Argenteuil, Île-de-France | 12 km (kilometers) northwest | 100400 people (straight-line distances between city centers)', '@title': 'Montreuil, Île-de-France | 7 km (kilometers) east | 102097 people Asnières-sur-Seine, Île-de-France | 7 km (kilometers) north-northwest | 85000 people Courbevoie, Île-de-France | 8 km (kilometers) northwest | 84974 people Boulogne-Billancourt, Île-de-France | 8 km (kilometers) west-southwest | 108300 people Saint-Denis, Île-de-France | 9 km (kilometers) north | 94700 people Argenteuil, Île-de-France | 12 km (kilometers) northwest | 100400 people (straight-line distances between city centers)', '@width': 545, '@height': 259, '@type': 'Grid', '@themes': '1,2,3,4,5,6,7,8,9,10,11,12', '@colorinvertable': 'true', '@contenttype': 'image/gif'}, 'plaintext': 'Montreuil, Île-de-France | 7 km (kilometers) east | 102097 people\\nAsnières-sur-Seine, Île-de-France | 7 km (kilometers) north-northwest | 85000 people\\nCourbevoie, Île-de-France | 8 km (kilometers) northwest | 84974 people\\nBoulogne-Billancourt, Île-de-France | 8 km (kilometers) west-southwest | 108300 people\\nSaint-Denis, Île-de-France | 9 km (kilometers) north | 94700 people\\nArgenteuil, Île-de-France | 12 km (kilometers) northwest | 100400 people\\n(straight-line distances between city centers)'}, 'expressiontypes': {'@count': '1', 'expressiontype': {'@name': 'Grid'}}, 'states': {'@count': '2', 'state': [{'@name': 'Show non-metric', '@input': 'CityHierarchyInfo:CityData__Show non-metric'}, {'@name': 'More', '@input': 'CityHierarchyInfo:CityData__More'}]}}, {'@title': 'Nearby airports', '@scanner': 'Data', '@id': 'AirportHierarchyInfo:CityData', '@position': 1000.0, '@error': 'false', '@numsubpods': 1, 'subpod': {'@title': '', 'microsources': {'microsource': 'CityData'}, 'img': {'@src': 'https://www6b3.wolframalpha.com/Calculate/MSP/MSP48714g3de7564803gg2000067ggffec0d2573a5?MSPStoreType=image/gif&s=11', '@alt': 'Paris-Le Bourget Airport | 14 km (kilometers) north-northeast Paris-Orly Airport | 15 km (kilometers) south Charles de Gaulle International Airport | 23 km (kilometers) northeast (straight-line distances between city center and airport)', '@title': 'Paris-Le Bourget Airport | 14 km (kilometers) north-northeast Paris-Orly Airport | 15 km (kilometers) south Charles de Gaulle International Airport | 23 km (kilometers) northeast (straight-line distances between city center and airport)', '@width': 529, '@height': 117, '@type': 'Grid', '@themes': '1,2,3,4,5,6,7,8,9,10,11,12', '@colorinvertable': 'true', '@contenttype': 'image/gif'}, 'plaintext': 'Paris-Le Bourget Airport | 14 km (kilometers) north-northeast\\nParis-Orly Airport | 15 km (kilometers) south\\nCharles de Gaulle International Airport | 23 km (kilometers) northeast\\n(straight-line distances between city center and airport)'}, 'expressiontypes': {'@count': '1', 'expressiontype': {'@name': 'Grid'}}, 'states': {'@count': '2', 'state': [{'@name': 'Show non-metric', '@input': 'AirportHierarchyInfo:CityData__Show non-metric'}, {'@name': 'More', '@input': 'AirportHierarchyInfo:CityData__More'}]}}, {'@title': 'Notable company headquarters', '@scanner': 'Data', '@id': 'CompaniesInCity:CityData', '@position': 1100.0, '@error': 'false', '@numsubpods': 1, 'subpod': {'@title': '', 'microsources': {'microsource': 'CityData'}, 'datasources': {'datasource': ['ForbesAmericasLargestPrivateCompanies', 'CrunchBase']}, 'img': {'@src': 'https://www6b3.wolframalpha.com/Calculate/MSP/MSP48814g3de7564803gg200005bee41457eafcbef?MSPStoreType=image/gif&s=11', '@alt': 'AXA | 120869 employees (2007) | $177.9 billion per year (2007) Sanofi | 100409 employees (2019) | $41.82 billion per year (2019) Societe Generale | 138240 employees (2000) | $41.35 billion per year (2019) Air France | 83097 employees (2004) | $30.22 billion per year (2019) Danone | 102449 employees (2005) | $18.59 billion per year (2006)', '@title': 'AXA | 120869 employees (2007) | $177.9 billion per year (2007) Sanofi | 100409 employees (2019) | $41.82 billion per year (2019) Societe Generale | 138240 employees (2000) | $41.35 billion per year (2019) Air France | 83097 employees (2004) | $30.22 billion per year (2019) Danone | 102449 employees (2005) | $18.59 billion per year (2006)', '@width': 512, '@height': 149, '@type': 'Grid', '@themes': '1,2,3,4,5,6,7,8,9,10,11,12', '@colorinvertable': 'true', '@contenttype': 'image/gif'}, 'plaintext': 'AXA | 120869 employees (2007) | $177.9 billion per year (2007)\\nSanofi | 100409 employees (2019) | $41.82 billion per year (2019)\\nSociete Generale | 138240 employees (2000) | $41.35 billion per year (2019)\\nAir France | 83097 employees (2004) | $30.22 billion per year (2019)\\nDanone | 102449 employees (2005) | $18.59 billion per year (2006)'}, 'expressiontypes': {'@count': '1', 'expressiontype': {'@name': 'Grid'}}, 'states': {'@count': '1', 'state': {'@name': 'More', '@input': 'CompaniesInCity:CityData__More'}}}, {'@title': 'Geographic properties', '@scanner': 'Data', '@id': 'GeographicProperties:CityData', '@position': 1200.0, '@error': 'false', '@numsubpods': 1, 'subpod': {'@title': '', 'microsources': {'microsource': 'CityData'}, 'img': {'@src': 'https://www6b3.wolframalpha.com/Calculate/MSP/MSP48914g3de7564803gg20000645aab735ehg1bc2?MSPStoreType=image/gif&s=11', '@alt': 'elevation | 45 m area | 105.4 km^2 population density | 20545 people per square kilometer', '@title': 'elevation | 45 m area | 105.4 km^2 population density | 20545 people per square kilometer', '@width': 385, '@height': 103, '@type': 'Grid', '@themes': '1,2,3,4,5,6,7,8,9,10,11,12', '@colorinvertable': 'true', '@contenttype': 'image/gif'}, 'plaintext': 'elevation | 45 m\\narea | 105.4 km^2\\npopulation density | 20545 people per square kilometer'}, 'expressiontypes': {'@count': '1', 'expressiontype': {'@name': 'Grid'}}, 'states': {'@count': '1', 'state': {'@name': 'Show non-metric', '@input': 'GeographicProperties:CityData__Show non-metric'}}, 'infos': {'@count': '1', 'info': {'units': {'@count': '2', 'unit': [{'@short': 'km^2', '@long': 'square kilometers'}, {'@short': 'm', '@long': 'meters'}], 'img': {'@src': 'https://www6b3.wolframalpha.com/Calculate/MSP/MSP49014g3de7564803gg200001a10b8g78c57bhg0?MSPStoreType=image/gif&s=11', '@width': 157, '@height': 50}}}}}, {'@title': 'Nearby feature', '@scanner': 'Data', '@id': 'FeaturesHierarchyInfo:CityData', '@position': 1300.0, '@error': 'false', '@numsubpods': 1, 'subpod': {'@title': '', 'microsources': {'microsource': ['CityData', 'NuclearReactorData']}, 'datasources': {'datasource': 'IAEAPowerReactorInformationSystem'}, 'img': {'@src': 'https://www6b3.wolframalpha.com/Calculate/MSP/MSP49114g3de7564803gg20000408d99db391c1065?MSPStoreType=image/gif&s=11', '@alt': 'nuclear power site | Nogent | 95 km (kilometers) east-southeast (straight-line distances between city center and feature coordinates)', '@title': 'nuclear power site | Nogent | 95 km (kilometers) east-southeast (straight-line distances between city center and feature coordinates)', '@width': 451, '@height': 59, '@type': 'Grid', '@themes': '1,2,3,4,5,6,7,8,9,10,11,12', '@colorinvertable': 'true', '@contenttype': 'image/gif'}, 'plaintext': 'nuclear power site | Nogent | 95 km (kilometers) east-southeast\\n(straight-line distances between city center and feature coordinates)'}, 'expressiontypes': {'@count': '1', 'expressiontype': {'@name': 'Grid'}}, 'states': {'@count': '1', 'state': {'@name': 'Show non-metric', '@input': 'FeaturesHierarchyInfo:CityData__Show non-metric'}}}, {'@title': 'Nearest sea', '@scanner': 'Data', '@id': 'OceansHierarchyInfo:CityData', '@position': 1400.0, '@error': 'false', '@numsubpods': 1, 'subpod': {'@title': '', 'microsources': {'microsource': 'CityData'}, 'img': {'@src': 'https://www6b3.wolframalpha.com/Calculate/MSP/MSP49214g3de7564803gg2000056dd2975f93h4191?MSPStoreType=image/gif&s=11', '@alt': 'English Channel (148 km (kilometers) north-northwest)  (straight-line distance between city center and shore)', '@title': 'English Channel (148 km (kilometers) north-northwest)  (straight-line distance between city center and shore)', '@width': 361, '@height': 42, '@type': 'Default', '@themes': '1,2,3,4,5,6,7,8,9,10,11,12', '@colorinvertable': 'true', '@contenttype': 'image/gif'}, 'plaintext': 'English Channel (148 km (kilometers) north-northwest) \\n(straight-line distance between city center and shore)'}, 'expressiontypes': {'@count': '1', 'expressiontype': {'@name': 'Default'}}, 'states': {'@count': '3', 'state': [{'@name': 'Show map', '@input': 'OceansHierarchyInfo:CityData__Show map'}, {'@name': 'Show non-metric', '@input': 'OceansHierarchyInfo:CityData__Show non-metric'}, {'@name': 'More', '@input': 'OceansHierarchyInfo:CityData__More'}]}}, {'@title': 'Nicknames', '@scanner': 'Data', '@id': 'BasicInformation:CityData', '@position': 1500.0, '@error': 'false', '@numsubpods': 1, 'subpod': {'@title': '', 'microsources': {'microsource': 'CityData'}, 'img': {'@src': 'https://www6b3.wolframalpha.com/Calculate/MSP/MSP49314g3de7564803gg200002827c093f7e02896?MSPStoreType=image/gif&s=11', '@alt': 'City of Lights | City of Love', '@title': 'City of Lights | City of Love', '@width': 190, '@height': 19, '@type': 'Grid', '@themes': '1,2,3,4,5,6,7,8,9,10,11,12', '@colorinvertable': 'true', '@contenttype': 'image/gif'}, 'plaintext': 'City of Lights | City of Love'}, 'expressiontypes': {'@count': '1', 'expressiontype': {'@name': 'Grid'}}}, {'@title': 'Notable people born in Paris', '@scanner': 'Data', '@id': 'NotablePeople:CityData', '@position': 1600.0, '@error': 'false', '@numsubpods': 1, 'subpod': {'@title': '', 'microsources': {'microsource': ['CityData', 'PeopleData']}, 'img': {'@src': 'https://www6b3.wolframalpha.com/Calculate/MSP/MSP49414g3de7564803gg200005g1gbbb27g3h7ea0?MSPStoreType=image/gif&s=11', '@alt': 'Emma Watson (actor, etc.) (1990) Elizabeth Debicki (actor) (1990) Roman Polanski (film director) (1933) Kathie Lee Gifford (talk show host) (1953) Napoleon III (royalty) (1808) Jean-Luc Brunel (director) (1946) Lily-Rose Depp (film actor, etc.) (1999) Napoleon II (royalty) (1811) Eva Green (actor) (1980) Léa Seydoux (actor) (1985) ...', '@title': 'Emma Watson (actor, etc.) (1990) Elizabeth Debicki (actor) (1990) Roman Polanski (film director) (1933) Kathie Lee Gifford (talk show host) (1953) Napoleon III (royalty) (1808) Jean-Luc Brunel (director) (1946) Lily-Rose Depp (film actor, etc.) (1999) Napoleon II (royalty) (1811) Eva Green (actor) (1980) Léa Seydoux (actor) (1985) ...', '@width': 279, '@height': 220, '@type': 'Grid', '@themes': '1,2,3,4,5,6,7,8,9,10,11,12', '@colorinvertable': 'true', '@contenttype': 'image/gif'}, 'plaintext': 'Emma Watson (actor, etc.) (1990)\\nElizabeth Debicki (actor) (1990)\\nRoman Polanski (film director) (1933)\\nKathie Lee Gifford (talk show host) (1953)\\nNapoleon III (royalty) (1808)\\nJean-Luc Brunel (director) (1946)\\nLily-Rose Depp (film actor, etc.) (1999)\\nNapoleon II (royalty) (1811)\\nEva Green (actor) (1980)\\nLéa Seydoux (actor) (1985)\\n...'}, 'expressiontypes': {'@count': '1', 'expressiontype': {'@name': 'Default'}}, 'states': {'@count': '3', 'state': [{'@name': 'More', '@input': 'NotablePeople:CityData__More'}, {'@name': 'Show dates', '@input': 'NotablePeople:CityData__Show dates'}, {'@name': 'Show deaths', '@input': 'NotablePeople:CityData__Show deaths'}]}}, {'@title': 'Founding date', '@scanner': 'Data', '@id': 'FoundingDates:CityData', '@position': 1700.0, '@error': 'false', '@numsubpods': 1, 'subpod': {'@title': '', 'microsources': {'microsource': 'CityData'}, 'img': {'@src': 'https://www6b3.wolframalpha.com/Calculate/MSP/MSP49514g3de7564803gg200002hcfa2320997f6aa?MSPStoreType=image/gif&s=11', '@alt': '250 BC (2273 years ago) (first permanent settlement)', '@title': '250 BC (2273 years ago) (first permanent settlement)', '@width': 345, '@height': 19, '@type': 'Default', '@themes': '1,2,3,4,5,6,7,8,9,10,11,12', '@colorinvertable': 'true', '@contenttype': 'image/gif'}, 'plaintext': '250 BC (2273 years ago) (first permanent settlement)'}, 'expressiontypes': {'@count': '1', 'expressiontype': {'@name': 'Default'}}, 'states': {'@count': '1', 'state': {'@name': 'More', '@input': 'FoundingDates:CityData__More'}}}, {'@title': 'Wikipedia page hits history', '@scanner': 'Data', '@id': 'PopularityPod:WikipediaStatsData', '@position': 1800.0, '@error': 'false', '@numsubpods': 1, 'subpod': {'@title': '', 'img': {'@src': 'https://www6b3.wolframalpha.com/Calculate/MSP/MSP49614g3de7564803gg200004a718c0i47f26a35?MSPStoreType=image/gif&s=11', '@alt': 'Wikipedia page hits history', '@title': '', '@width': 546, '@height': 168, '@type': 'TimeSeriesPlot_1', '@themes': '1,2,3,4,5,6,7,8,9,10,11,12', '@colorinvertable': 'true', '@contenttype': 'image/gif'}, 'plaintext': None}, 'expressiontypes': {'@count': '1', 'expressiontype': {'@name': 'Default'}}, 'states': {'@count': '1', 'state': {'@name': 'Log scale', '@input': 'PopularityPod:WikipediaStatsData__Log scale'}}}], 'assumptions': {'@count': '1', 'assumption': {'@type': 'MultiClash', '@word': '', '@template': 'Assuming ${word1} is referring to ${desc1}. Use \"${word2}\" as ${desc2}.', '@count': '2', 'value': [{'@name': 'Country', '@word': 'France', '@desc': 'a country', '@input': '*MC.%7E-_*Country-'}, {'@name': 'Word', '@word': '', '@desc': 'a word', '@input': '*MC.%7E-_*Word-'}]}}, 'sources': {'@count': '9', 'source': [{'@url': 'https://www6b3.wolframalpha.com/sources/AdministrativeDivisionDataSourceInformationNotes.html', '@text': 'Administrative division data'}, {'@url': 'https://www6b3.wolframalpha.com/sources/CityDataSourceInformationNotes.html', '@text': 'City data'}, {'@url': 'https://www6b3.wolframalpha.com/sources/CountryDataSourceInformationNotes.html', '@text': 'Country data'}, {'@url': 'https://www6b3.wolframalpha.com/sources/MetropolitanAreaDataSourceInformationNotes.html', '@text': 'Metropolitan area data'}, {'@url': 'https://www6b3.wolframalpha.com/sources/NuclearReactorDataSourceInformationNotes.html', '@text': 'Nuclear reactor data'}, {'@url': 'https://www6b3.wolframalpha.com/sources/OpenStreetMapSourceInformationNotes.html', '@text': 'Open street map'}, {'@url': 'https://www6b3.wolframalpha.com/sources/PeopleDataSourceInformationNotes.html', '@text': 'People data'}, {'@url': 'https://www6b3.wolframalpha.com/sources/USCensusDataSourceInformationNotes.html', '@text': 'US census data'}, {'@url': 'https://www6b3.wolframalpha.com/sources/WeatherDataSourceInformationNotes.html', '@text': 'Weather data'}]}}\n"
     ]
    }
   ],
   "source": [
    "from wolframalpha import Client\n",
    "\n",
    "WOLFRAM_ALPHA_KEY = os.getenv('WOLFRAM_ALPHA_KEY')\n",
    "client = Client(WOLFRAM_ALPHA_KEY)\n",
    "\n",
    "result = client.query(\"What is the capital of France?\")\n",
    "print(result)"
   ]
  },
  {
   "cell_type": "code",
   "execution_count": 37,
   "metadata": {
    "height": 64
   },
   "outputs": [
    {
     "name": "stdout",
     "output_type": "stream",
     "text": [
      "x = ± 1\n",
      "x = 2\n"
     ]
    }
   ],
   "source": [
    "from utils import wolfram_alpha\n",
    "tool_result = wolfram_alpha(\"solve x^3 - 2x^2 - x + 2 = 0\")\n",
    "print(tool_result)"
   ]
  },
  {
   "cell_type": "markdown",
   "metadata": {},
   "source": [
    "### Checking the result"
   ]
  },
  {
   "cell_type": "code",
   "execution_count": 42,
   "metadata": {
    "height": 132
   },
   "outputs": [
    {
     "name": "stdout",
     "output_type": "stream",
     "text": [
      "[-1, 1, 2]\n"
     ]
    }
   ],
   "source": [
    "from sympy import symbols, Eq, solve\n",
    "\n",
    "x = symbols('x')                           # Define the variable\n",
    "equation = Eq(x**3 - 2*x**2 - 1*x + 2, 0) # Define the equation\n",
    "solution = solve(equation, x)              # Solve the equation\n",
    "\n",
    "print(solution)"
   ]
  },
  {
   "cell_type": "markdown",
   "metadata": {},
   "source": [
    "### Reprompting Llama with Wolfram Alpha tool response"
   ]
  },
  {
   "cell_type": "code",
   "execution_count": 43,
   "metadata": {
    "height": 115
   },
   "outputs": [],
   "source": [
    "messages = [\n",
    "    {\"role\": \"system\", \"content\": system_prompt_content},\n",
    "    {\"role\": \"user\",      \"content\": math_problem},\n",
    "    {\"role\": \"assistant\", \"content\": response},\n",
    "    {\"role\": \"ipython\",   \"content\": tool_result}\n",
    "]"
   ]
  },
  {
   "cell_type": "code",
   "execution_count": 44,
   "metadata": {
    "height": 47
   },
   "outputs": [
    {
     "name": "stdout",
     "output_type": "stream",
     "text": [
      "The solutions to the equation x^3 - 2x^2 - x + 2 = 0 are x = ±1 and x = 2.\n"
     ]
    }
   ],
   "source": [
    "response = llama31(messages)\n",
    "print(response)"
   ]
  },
  {
   "cell_type": "markdown",
   "metadata": {},
   "source": [
    "## The code interpreter built-in tool"
   ]
  },
  {
   "cell_type": "code",
   "execution_count": 45,
   "metadata": {
    "height": 98
   },
   "outputs": [],
   "source": [
    "loan_question = (\n",
    "    \"How much is the monthly payment, total payment, \"\n",
    "    \"and total interest paid for a 30 year mortgage of $1M \"\n",
    "    \"at a fixed rate of 6% with a 20% down payment?\"\n",
    ")"
   ]
  },
  {
   "cell_type": "code",
   "execution_count": 46,
   "metadata": {
    "height": 81
   },
   "outputs": [],
   "source": [
    "messages = [\n",
    "    {\"role\": \"system\",     \"content\": system_prompt_content},\n",
    "    {\"role\": \"user\",       \"content\": loan_question},\n",
    "  ]"
   ]
  },
  {
   "cell_type": "code",
   "execution_count": 47,
   "metadata": {
    "height": 47
   },
   "outputs": [
    {
     "name": "stdout",
     "output_type": "stream",
     "text": [
      "# Define the variables\n",
      "loan_amount = 1000000  # $1M\n",
      "interest_rate = 0.06  # 6%\n",
      "down_payment = 0.20  # 20%\n",
      "loan_term = 30  # 30 years\n",
      "\n",
      "# Calculate the down payment\n",
      "down_payment_amount = loan_amount * down_payment\n",
      "\n",
      "# Calculate the loan amount after down payment\n",
      "loan_amount_after_down_payment = loan_amount - down_payment_amount\n",
      "\n",
      "# Calculate the monthly interest rate\n",
      "monthly_interest_rate = interest_rate / 12\n",
      "\n",
      "# Calculate the number of payments\n",
      "number_of_payments = loan_term * 12\n",
      "\n",
      "# Calculate the monthly payment\n",
      "monthly_payment = round(loan_amount_after_down_payment * (monthly_interest_rate * (1 + monthly_interest_rate) ** number_of_payments) / ((1 + monthly_interest_rate) ** number_of_payments - 1), 2)\n",
      "\n",
      "# Calculate the total payment\n",
      "total_payment = round(monthly_payment * number_of_payments, 2)\n",
      "\n",
      "# Calculate the total interest paid\n",
      "total_interest_paid = round(total_payment - loan_amount_after_down_payment * number_of_payments, 2)\n",
      "\n",
      "print(f\"Monthly payment: ${monthly_payment}\")\n",
      "print(f\"Total payment: ${total_payment}\")\n",
      "print(f\"Total interest paid: ${total_interest_paid}\")\n"
     ]
    }
   ],
   "source": [
    "response = llama31(messages)\n",
    "print(response)"
   ]
  },
  {
   "cell_type": "markdown",
   "metadata": {},
   "source": [
    "# Calculate loan payments"
   ]
  },
  {
   "cell_type": "code",
   "execution_count": 48,
   "metadata": {
    "height": 183
   },
   "outputs": [
    {
     "name": "stdout",
     "output_type": "stream",
     "text": [
      "Monthly payment: $4796\n",
      "Total payment: $1726705\n",
      "Total interest paid: $926705\n"
     ]
    }
   ],
   "source": [
    "from utils import calculate_loan\n",
    "monthly_payment, total_payment, total_interest_paid = calculate_loan(\n",
    "    loan_amount = 1000000, \n",
    "    annual_interest_rate = 0.06, \n",
    "    loan_term = 30, \n",
    "    down_payment = 200000)\n",
    "\n",
    "print(f\"Monthly payment: ${(monthly_payment)}\")\n",
    "print(f\"Total payment: ${(total_payment)}\")\n",
    "print(f\"Total interest paid: ${(total_interest_paid)}\")"
   ]
  },
  {
   "cell_type": "markdown",
   "metadata": {},
   "source": [
    "## Generating the code in Java"
   ]
  },
  {
   "cell_type": "code",
   "execution_count": 49,
   "metadata": {
    "height": 98
   },
   "outputs": [],
   "source": [
    "messages = [\n",
    "    {\"role\":    \"system\",     \n",
    "     \"content\": system_prompt_content + \"\\nGenerate the code in Java.\"},\n",
    "    {\"role\":    \"user\",       \"content\": loan_question},\n",
    "  ]"
   ]
  },
  {
   "cell_type": "code",
   "execution_count": 50,
   "metadata": {
    "height": 47
   },
   "outputs": [
    {
     "name": "stdout",
     "output_type": "stream",
     "text": [
      "import java.util.Scanner;\n",
      "\n",
      "public class MortgageCalculator {\n",
      "    public static void main(String[] args) {\n",
      "        // Input values\n",
      "        double principal = 1000000; // $1M\n",
      "        double downPayment = 0.2 * principal; // 20% down payment\n",
      "        double loanAmount = principal - downPayment;\n",
      "        double annualInterestRate = 0.06; // 6% interest rate\n",
      "        int years = 30; // 30 year mortgage\n",
      "\n",
      "        // Calculate monthly interest rate\n",
      "        double monthlyInterestRate = annualInterestRate / 12;\n",
      "\n",
      "        // Calculate number of payments\n",
      "        int numberOfPayments = years * 12;\n",
      "\n",
      "        // Calculate monthly payment\n",
      "        double monthlyPayment = loanAmount * (monthlyInterestRate * Math.pow(1 + monthlyInterestRate, numberOfPayments)) / (Math.pow(1 + monthlyInterestRate, numberOfPayments) - 1);\n",
      "\n",
      "        // Calculate total payment\n",
      "        double totalPayment = monthlyPayment * numberOfPayments;\n",
      "\n",
      "        // Calculate total interest paid\n",
      "        double totalInterestPaid = totalPayment - loanAmount;\n",
      "\n",
      "        // Print results\n",
      "        System.out.println(\"Monthly payment: $\" + String.format(\"%.2f\", monthlyPayment));\n",
      "        System.out.println(\"Total payment: $\" + String.format(\"%.2f\", totalPayment));\n",
      "        System.out.println(\"Total interest paid: $\" + String.format(\"%.2f\", totalInterestPaid));\n",
      "    }\n",
      "}\n"
     ]
    }
   ],
   "source": [
    "response = llama31(messages)\n",
    "print(response)"
   ]
  },
  {
   "cell_type": "markdown",
   "metadata": {},
   "source": [
    "### Reprompting Llama with Code Interpreter tool response"
   ]
  },
  {
   "cell_type": "code",
   "execution_count": 51,
   "metadata": {
    "height": 98
   },
   "outputs": [],
   "source": [
    "code_interpreter_tool_response=\"\"\"\n",
    "Monthly payment: $4796\n",
    "Total payment: $1726705\n",
    "Total interest paid: $926705\n",
    "\"\"\""
   ]
  },
  {
   "cell_type": "code",
   "execution_count": 52,
   "metadata": {
    "height": 115
   },
   "outputs": [],
   "source": [
    "messages = [\n",
    "    {\"role\": \"system\", \"content\":  system_prompt_content},\n",
    "    {\"role\": \"user\",      \"content\": loan_question},\n",
    "    {\"role\": \"assistant\", \"content\": response},\n",
    "    {\"role\": \"ipython\",   \"content\": code_interpreter_tool_response}\n",
    "  ]"
   ]
  },
  {
   "cell_type": "code",
   "execution_count": 53,
   "metadata": {
    "height": 47
   },
   "outputs": [
    {
     "name": "stdout",
     "output_type": "stream",
     "text": [
      "The monthly payment for a 30 year mortgage of $1M at a fixed rate of 6% with a 20% down payment is $4,796. The total payment over the life of the loan is $1,726,705, and the total interest paid is $926,705.\n"
     ]
    }
   ],
   "source": [
    "response = llama31(messages)\n",
    "print(response)"
   ]
  },
  {
   "cell_type": "markdown",
   "metadata": {},
   "source": [
    "## Llama 3.1 custom tool calling"
   ]
  },
  {
   "cell_type": "code",
   "execution_count": 54,
   "metadata": {
    "height": 132
   },
   "outputs": [
    {
     "name": "stdout",
     "output_type": "stream",
     "text": [
      "Top 5 trending songs in US:\n",
      "['Blinding Lights - The Weeknd', 'Levitating - Dua Lipa', 'Peaches - Justin Bieber', 'Save Your Tears - The Weeknd', 'Good 4 U - Olivia Rodrigo']\n"
     ]
    }
   ],
   "source": [
    "from utils import trending_songs, get_boiling_point\n",
    "\n",
    "country = \"US\"\n",
    "top_num = 5\n",
    "top_songs = trending_songs(country, top_num)\n",
    "print(f\"Top {top_num} trending songs in {country}:\")\n",
    "print(top_songs)"
   ]
  },
  {
   "cell_type": "markdown",
   "metadata": {},
   "source": [
    "<p style=\"background-color:#fff6ff; padding:15px; border-width:3px; border-color:#efe6ef; border-style:solid; border-radius:6px\"> 💻 &nbsp; <b>Access <code>trending_songs()</code> in <code>utils.py</code> files:</b> 1) click on the <em>\"File\"</em> option on the top menu of the notebook and then 2) click on <em>\"Open\"</em>. For more help, please see the <em>\"Appendix - Tips and Help\"</em> Lesson.</p>"
   ]
  },
  {
   "cell_type": "markdown",
   "metadata": {},
   "source": [
    "## Prompt Llama 3.1 for custom tool call"
   ]
  },
  {
   "cell_type": "code",
   "execution_count": 55,
   "metadata": {
    "height": 540
   },
   "outputs": [],
   "source": [
    "user_prompt = \"\"\"\n",
    "Answer the user's question by using the following functions if needed.\n",
    "If none of the functions can be used, please say so.\n",
    "Functions (in JSON format):\n",
    "{\n",
    "    \"type\": \"function\", \"function\": {\n",
    "        \"name\": \"get_boiling_point\",\n",
    "        \"description\": \"Get the boiling point of a liquid\",\n",
    "        \"parameters\": {\n",
    "            \"type\": \"object\", \"properties\": [\n",
    "                {\"liquid_name\": {\"type\": \"object\", \"description\": \"name of the liquid\"}},\n",
    "                {\"celsius\": {\"type\": \"object\", \"description\": \"whether to use celsius\"}}\n",
    "            ], \"required\": [\"liquid_name\"]\n",
    "        }\n",
    "    }\n",
    "}\n",
    "{\n",
    "    \"type\": \"function\", \"function\": {\n",
    "        \"name\": \"trending_songs\",\n",
    "        \"description\": \"Returns the trending songs on a Music site\",\n",
    "        \"parameters\": {\n",
    "            \"type\": \"object\", \"properties\": [\n",
    "                {\"country\": {\"type\": \"object\", \"description\": \"country to return trending songs for\"}},\n",
    "                {\"n\": {\"type\": \"object\", \"description\": \"The number of songs to return\"}}\n",
    "            ], \"required\": [\"country\"]\n",
    "        }\n",
    "    }\n",
    "}\n",
    "\n",
    "Question: Can you check the top 5 trending songs in US?\n",
    "\"\"\""
   ]
  },
  {
   "cell_type": "code",
   "execution_count": 56,
   "metadata": {
    "height": 166
   },
   "outputs": [],
   "source": [
    "messages = [\n",
    "    {\n",
    "      \"role\": \"system\", \"content\":  f\"\"\"\n",
    "Environment: ipython\n",
    "Cutting Knowledge Date: December 2023\n",
    "Today Date: {formatted_date}\n",
    "\"\"\"},\n",
    "    {\"role\": \"user\", \"content\": user_prompt}\n",
    "  ]"
   ]
  },
  {
   "cell_type": "code",
   "execution_count": 57,
   "metadata": {
    "height": 47
   },
   "outputs": [
    {
     "name": "stdout",
     "output_type": "stream",
     "text": [
      "{\"type\": \"function\", \"name\": \"trending_songs\", \"parameters\": {\"country\": \"US\", \"n\": \"5\"}}\n"
     ]
    }
   ],
   "source": [
    "result = llama31(messages,405)\n",
    "print(result)"
   ]
  },
  {
   "cell_type": "markdown",
   "metadata": {},
   "source": [
    "### Calling the custom tool"
   ]
  },
  {
   "cell_type": "code",
   "execution_count": 58,
   "metadata": {
    "height": 47
   },
   "outputs": [],
   "source": [
    "custom_tools = {\"trending_songs\": trending_songs,\n",
    "                \"get_boiling_point\": get_boiling_point}"
   ]
  },
  {
   "cell_type": "code",
   "execution_count": 59,
   "metadata": {
    "height": 81
   },
   "outputs": [
    {
     "data": {
      "text/plain": [
       "('trending_songs', ['US', '5'])"
      ]
     },
     "execution_count": 59,
     "metadata": {},
     "output_type": "execute_result"
    }
   ],
   "source": [
    "res = json.loads(result)\n",
    "function_name = res['name']\n",
    "parameters = list(res['parameters'].values())\n",
    "function_name, parameters"
   ]
  },
  {
   "cell_type": "code",
   "execution_count": 60,
   "metadata": {
    "height": 47
   },
   "outputs": [
    {
     "data": {
      "text/plain": [
       "['Blinding Lights - The Weeknd',\n",
       " 'Levitating - Dua Lipa',\n",
       " 'Peaches - Justin Bieber',\n",
       " 'Save Your Tears - The Weeknd',\n",
       " 'Good 4 U - Olivia Rodrigo']"
      ]
     },
     "execution_count": 60,
     "metadata": {},
     "output_type": "execute_result"
    }
   ],
   "source": [
    "tool_result = custom_tools[function_name](*parameters)\n",
    "tool_result"
   ]
  },
  {
   "cell_type": "markdown",
   "metadata": {},
   "source": [
    "### Reprompting Llama with custom tool call result"
   ]
  },
  {
   "cell_type": "code",
   "execution_count": 61,
   "metadata": {
    "height": 200
   },
   "outputs": [],
   "source": [
    "messages = [\n",
    "    {\n",
    "      \"role\": \"system\", \"content\":  f\"\"\"\n",
    "Environment: ipython\n",
    "Cutting Knowledge Date: December 2023\n",
    "Today Date: {formatted_date}\n",
    "\"\"\"},\n",
    "    {\"role\": \"user\", \"content\": user_prompt},\n",
    "    {\"role\": \"assistant\", \"content\": result},\n",
    "    {\"role\": \"ipython\", \"content\": ','.join(tool_result)}\n",
    "  ]"
   ]
  },
  {
   "cell_type": "code",
   "execution_count": 62,
   "metadata": {
    "height": 47
   },
   "outputs": [
    {
     "name": "stdout",
     "output_type": "stream",
     "text": [
      "The top 5 trending songs in the US are:\n",
      "\n",
      "1. Blinding Lights - The Weeknd\n",
      "2. Levitating - Dua Lipa\n",
      "3. Peaches - Justin Bieber\n",
      "4. Save Your Tears - The Weeknd\n",
      "5. Good 4 U - Olivia Rodrigo\n"
     ]
    }
   ],
   "source": [
    "response = llama31(messages, 70)\n",
    "print(response)"
   ]
  },
  {
   "cell_type": "code",
   "execution_count": null,
   "metadata": {
    "height": 30
   },
   "outputs": [],
   "source": []
  },
  {
   "cell_type": "code",
   "execution_count": null,
   "metadata": {
    "height": 30
   },
   "outputs": [],
   "source": []
  },
  {
   "cell_type": "code",
   "execution_count": null,
   "metadata": {
    "height": 30
   },
   "outputs": [],
   "source": []
  },
  {
   "cell_type": "code",
   "execution_count": null,
   "metadata": {
    "height": 30
   },
   "outputs": [],
   "source": []
  },
  {
   "cell_type": "code",
   "execution_count": null,
   "metadata": {
    "height": 30
   },
   "outputs": [],
   "source": []
  }
 ],
 "metadata": {
  "colab": {
   "provenance": [],
   "toc_visible": true
  },
  "kernelspec": {
   "display_name": "Python 3 (ipykernel)",
   "language": "python",
   "name": "python3"
  },
  "language_info": {
   "codemirror_mode": {
    "name": "ipython",
    "version": 3
   },
   "file_extension": ".py",
   "mimetype": "text/x-python",
   "name": "python",
   "nbconvert_exporter": "python",
   "pygments_lexer": "ipython3",
   "version": "3.12.7"
  }
 },
 "nbformat": 4,
 "nbformat_minor": 4
}
