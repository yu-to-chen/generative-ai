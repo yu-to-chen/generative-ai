{
 "cells": [
  {
   "cell_type": "markdown",
   "id": "ba3719fe-e1d6-49b2-a350-2247a7ae7822",
   "metadata": {},
   "source": [
    "# YouTube video\n",
    "## Loading documents from a YouTube url\n",
    "- https://python.langchain.com/docs/integrations/document_loaders/youtube_audio"
   ]
  },
  {
   "cell_type": "markdown",
   "id": "3af2e0ce-c785-4b96-86e6-1c41731ee856",
   "metadata": {},
   "source": [
    "### ffprobe or avprobe not found. Please install one\n",
    "- brew install ffmpeg\n",
    "- https://stackoverflow.com/questions/30770155/ffprobe-or-avprobe-not-found-please-install-one"
   ]
  },
  {
   "cell_type": "code",
   "execution_count": 22,
   "id": "c1cbce69",
   "metadata": {},
   "outputs": [
    {
     "name": "stdout",
     "output_type": "stream",
     "text": [
      "Requirement already satisfied: yt_dlp in /Users/ytchen/Documents/experimental/env11/lib/python3.11/site-packages (2023.7.6)\n",
      "Requirement already satisfied: mutagen in /Users/ytchen/Documents/experimental/env11/lib/python3.11/site-packages (from yt_dlp) (1.46.0)\n",
      "Requirement already satisfied: pycryptodomex in /Users/ytchen/Documents/experimental/env11/lib/python3.11/site-packages (from yt_dlp) (3.18.0)\n",
      "Requirement already satisfied: websockets in /Users/ytchen/Documents/experimental/env11/lib/python3.11/site-packages (from yt_dlp) (11.0.3)\n",
      "Requirement already satisfied: certifi in /Users/ytchen/Documents/experimental/env11/lib/python3.11/site-packages (from yt_dlp) (2023.7.22)\n",
      "Requirement already satisfied: brotli in /Users/ytchen/Documents/experimental/env11/lib/python3.11/site-packages (from yt_dlp) (1.0.9)\n",
      "Requirement already satisfied: pydub in /Users/ytchen/Documents/experimental/env11/lib/python3.11/site-packages (0.25.1)\n",
      "Requirement already satisfied: tiktoken in /Users/ytchen/Documents/experimental/env11/lib/python3.11/site-packages (0.4.0)\n",
      "Requirement already satisfied: regex>=2022.1.18 in /Users/ytchen/Documents/experimental/env11/lib/python3.11/site-packages (from tiktoken) (2023.8.8)\n",
      "Requirement already satisfied: requests>=2.26.0 in /Users/ytchen/Documents/experimental/env11/lib/python3.11/site-packages (from tiktoken) (2.31.0)\n",
      "Requirement already satisfied: charset-normalizer<4,>=2 in /Users/ytchen/Documents/experimental/env11/lib/python3.11/site-packages (from requests>=2.26.0->tiktoken) (3.2.0)\n",
      "Requirement already satisfied: idna<4,>=2.5 in /Users/ytchen/Documents/experimental/env11/lib/python3.11/site-packages (from requests>=2.26.0->tiktoken) (3.4)\n",
      "Requirement already satisfied: urllib3<3,>=1.21.1 in /Users/ytchen/Documents/experimental/env11/lib/python3.11/site-packages (from requests>=2.26.0->tiktoken) (2.0.4)\n",
      "Requirement already satisfied: certifi>=2017.4.17 in /Users/ytchen/Documents/experimental/env11/lib/python3.11/site-packages (from requests>=2.26.0->tiktoken) (2023.7.22)\n",
      "Collecting faiss-cpu\n",
      "  Downloading faiss_cpu-1.7.4-cp311-cp311-macosx_11_0_arm64.whl (2.7 MB)\n",
      "\u001b[2K     \u001b[90m━━━━━━━━━━━━━━━━━━━━━━━━━━━━━━━━━━━━━━━━\u001b[0m \u001b[32m2.7/2.7 MB\u001b[0m \u001b[31m17.2 MB/s\u001b[0m eta \u001b[36m0:00:00\u001b[0m00:01\u001b[0m00:01\u001b[0m\n",
      "\u001b[?25hInstalling collected packages: faiss-cpu\n",
      "Successfully installed faiss-cpu-1.7.4\n"
     ]
    }
   ],
   "source": [
    "import sys\n",
    "!{sys.executable} -m pip install yt_dlp\n",
    "!{sys.executable} -m pip install pydub\n",
    "!{sys.executable} -m pip install tiktoken\n",
    "!{sys.executable} -m pip install faiss-cpu\n"
   ]
  },
  {
   "cell_type": "code",
   "execution_count": 9,
   "id": "aed8f4f0",
   "metadata": {},
   "outputs": [],
   "source": [
    "import os\n",
    "import openai\n",
    "import sys\n",
    "sys.path.append('../..')\n",
    "\n",
    "from dotenv import load_dotenv, find_dotenv\n",
    "_ = load_dotenv(find_dotenv()) # read local .env file\n",
    "\n",
    "openai.api_key  = os.environ['OPENAI_API_KEY']\n"
   ]
  },
  {
   "cell_type": "markdown",
   "id": "4362fc24-2dca-4fae-84a6-232b1985d8b5",
   "metadata": {},
   "source": [
    "- Use YoutubeAudioLoader to fetch / download the audio files.\n",
    "- Then, ues OpenAIWhisperParser() to transcribe them to text.\n",
    "- We will use yt_dlp to download audio for YouTube urls.\n",
    "- We will use pydub to split downloaded audio files (such that we adhere to Whisper API's 25MB file size limit)."
   ]
  },
  {
   "cell_type": "code",
   "execution_count": 10,
   "id": "717e3aa9",
   "metadata": {},
   "outputs": [],
   "source": [
    "from langchain.document_loaders.generic import GenericLoader\n",
    "from langchain.document_loaders.parsers import OpenAIWhisperParser\n",
    "from langchain.document_loaders.blob_loaders.youtube_audio import YoutubeAudioLoader\n"
   ]
  },
  {
   "cell_type": "code",
   "execution_count": 11,
   "id": "a8d3fa2a",
   "metadata": {},
   "outputs": [
    {
     "name": "stdout",
     "output_type": "stream",
     "text": [
      "[youtube] Extracting URL: https://www.youtube.com/watch?v=NMAcu-WS9nE\n",
      "[youtube] NMAcu-WS9nE: Downloading webpage\n",
      "[youtube] NMAcu-WS9nE: Downloading ios player API JSON\n",
      "[youtube] NMAcu-WS9nE: Downloading android player API JSON\n",
      "[youtube] NMAcu-WS9nE: Downloading m3u8 information\n",
      "[info] NMAcu-WS9nE: Downloading 1 format(s): 140\n",
      "[download] docs/youtube//『原來。爸爸一直都在』記得和爸爸說聲父親節快樂｜緯來電視.m4a has already been downloaded\n",
      "[download] 100% of    4.00MiB\n",
      "[ExtractAudio] Not converting audio docs/youtube//『原來。爸爸一直都在』記得和爸爸說聲父親節快樂｜緯來電視.m4a; file is already in target format m4a\n",
      "Transcribing part 1!\n"
     ]
    }
   ],
   "source": [
    "url=\"https://www.youtube.com/watch?v=NMAcu-WS9nE\"\n",
    "save_dir=\"docs/youtube/\"\n",
    "loader = GenericLoader(\n",
    "    YoutubeAudioLoader([url],save_dir),\n",
    "    OpenAIWhisperParser()\n",
    ")\n",
    "docs = loader.load()\n"
   ]
  },
  {
   "cell_type": "code",
   "execution_count": 12,
   "id": "3047c968",
   "metadata": {},
   "outputs": [
    {
     "data": {
      "text/plain": [
       "1"
      ]
     },
     "execution_count": 12,
     "metadata": {},
     "output_type": "execute_result"
    }
   ],
   "source": [
    "len(docs)\n"
   ]
  },
  {
   "cell_type": "code",
   "execution_count": 13,
   "id": "9a3016b8-b6ad-4d5b-a046-975768869fb2",
   "metadata": {},
   "outputs": [
    {
     "data": {
      "text/plain": [
       "Document(page_content='每次回家,都覺得門好重。 我不太記得上次跟我爸講話是什麼時候了。 從小,我對爸爸的記憶就是 不是在屋裡看他, 就是看他關門。 爸爸今天學校運動會。 或是,根本沒有他。 或是,他根本沒在乎過我。 這麼晚了,還在處理公司的事。 沒有啦,事關大事而已。 不要想太多啦。 小雨啊,去爸爸的房間幫他擦乾淨。 小雨啊,去爸爸的房間幫他擦乾淨。 小雨啊,去爸爸的房間幫他擦乾淨。 小雨啊,去爸爸的房間幫他擦乾淨。 小雨啊,去爸爸的房間幫他擦乾淨。 小雨啊,去爸爸的房間幫他擦乾淨。 小雨啊,去爸爸的房間幫他擦乾淨。 小雨啊,去爸爸的房間幫他擦乾淨。 從一天到一天, 我一直想要更多。 我希望我能夠不被遺忘。 有時候我覺得, 你會說, 爸爸,父親節快樂。 爸爸,父親節快樂。 爸爸, 我們在等什麼呢? 我們在等什麼呢? 我們在等什麼呢?', metadata={'source': 'docs/youtube/『原來。爸爸一直都在』記得和爸爸說聲父親節快樂｜緯來電視.m4a', 'chunk': 0})"
      ]
     },
     "execution_count": 13,
     "metadata": {},
     "output_type": "execute_result"
    }
   ],
   "source": [
    "docs[0]\n"
   ]
  },
  {
   "cell_type": "code",
   "execution_count": 15,
   "id": "22cf7ce8-0235-4200-be2d-5a325e6b76a5",
   "metadata": {},
   "outputs": [
    {
     "data": {
      "text/plain": [
       "'每次回家,都覺得門好重。 我不太記得上次跟我爸講話是什麼時候了。 從小,我對爸爸的記憶就是 不是在屋裡看他, 就是看他關門。 爸爸今天學校運動會。 或是,根本沒有他。 或是,他根本沒在乎過我。 這麼晚了,還在處理公司的事。 沒有啦,事關大事而已。 不要想太多啦。 小雨啊,去爸爸的房間幫他擦乾淨。 小雨啊,去爸爸的房間幫他擦乾淨。 小雨啊,去爸爸的房間幫他擦乾淨。 小雨啊,去爸爸的房間幫他擦乾淨。 '"
      ]
     },
     "execution_count": 15,
     "metadata": {},
     "output_type": "execute_result"
    }
   ],
   "source": [
    "docs[0].page_content[0:200]\n"
   ]
  },
  {
   "cell_type": "markdown",
   "id": "1372811c-c31a-4781-b47f-a2f6f31e67b6",
   "metadata": {},
   "source": [
    "## Building a chat app from YouTube video"
   ]
  },
  {
   "cell_type": "code",
   "execution_count": 16,
   "id": "ea7764e0-b229-400f-bf4e-f09f6c757a7f",
   "metadata": {},
   "outputs": [],
   "source": [
    "from langchain.chains import RetrievalQA\n",
    "from langchain.vectorstores import FAISS\n",
    "from langchain.chat_models import ChatOpenAI\n",
    "from langchain.embeddings import OpenAIEmbeddings\n",
    "from langchain.text_splitter import RecursiveCharacterTextSplitter\n"
   ]
  },
  {
   "cell_type": "code",
   "execution_count": 17,
   "id": "b7baaa4e-b17f-4bb3-aa22-e0d989146517",
   "metadata": {},
   "outputs": [],
   "source": [
    "# Combine doc\n",
    "combined_docs = [doc.page_content for doc in docs]\n",
    "text = \" \".join(combined_docs)\n"
   ]
  },
  {
   "cell_type": "code",
   "execution_count": 18,
   "id": "f20969ae-78c1-4c0e-b5aa-423143c5e31a",
   "metadata": {},
   "outputs": [],
   "source": [
    "# Split them\n",
    "text_splitter = RecursiveCharacterTextSplitter(chunk_size=100, chunk_overlap=10)\n",
    "splits = text_splitter.split_text(text)\n"
   ]
  },
  {
   "cell_type": "code",
   "execution_count": 23,
   "id": "21e19d95-483d-4aea-8f88-3e291d07e5ff",
   "metadata": {},
   "outputs": [],
   "source": [
    "# Build an index\n",
    "embeddings = OpenAIEmbeddings()\n",
    "vectordb = FAISS.from_texts(splits, embeddings)\n"
   ]
  },
  {
   "cell_type": "code",
   "execution_count": 24,
   "id": "b74b3593-9411-4035-a1b4-5c00c891dc36",
   "metadata": {},
   "outputs": [],
   "source": [
    "# Build a QA chain\n",
    "qa_chain = RetrievalQA.from_chain_type(\n",
    "    llm=ChatOpenAI(model_name=\"gpt-3.5-turbo\", temperature=0),\n",
    "    chain_type=\"stuff\",\n",
    "    retriever=vectordb.as_retriever(),\n",
    ")\n"
   ]
  },
  {
   "cell_type": "code",
   "execution_count": 25,
   "id": "94b3f240-3abf-4739-a440-02624cc8722d",
   "metadata": {},
   "outputs": [
    {
     "data": {
      "text/plain": [
       "'你對爸爸的記憶是不是在屋裡看他或者看他關門。'"
      ]
     },
     "execution_count": 25,
     "metadata": {},
     "output_type": "execute_result"
    }
   ],
   "source": [
    "# Ask a question!\n",
    "query = \"我對爸爸的記憶是什麼?\"\n",
    "qa_chain.run(query)\n"
   ]
  },
  {
   "cell_type": "code",
   "execution_count": 27,
   "id": "6dcc6694-d621-4365-b251-b9e7b0a53eb2",
   "metadata": {},
   "outputs": [
    {
     "data": {
      "text/plain": [
       "'我不知道學校運動會是什麼時候。'"
      ]
     },
     "execution_count": 27,
     "metadata": {},
     "output_type": "execute_result"
    }
   ],
   "source": [
    "query = \"什麼時候學校運動會?\"\n",
    "qa_chain.run(query)\n"
   ]
  },
  {
   "cell_type": "code",
   "execution_count": 28,
   "id": "1138abc5-6fce-497e-8098-274c97260579",
   "metadata": {},
   "outputs": [
    {
     "data": {
      "text/plain": [
       "'是的，爸爸有去學校運動會。'"
      ]
     },
     "execution_count": 28,
     "metadata": {},
     "output_type": "execute_result"
    }
   ],
   "source": [
    "query = \"爸爸有去學校運動會嗎?\"\n",
    "qa_chain.run(query)\n"
   ]
  },
  {
   "cell_type": "markdown",
   "id": "19894cb3-5974-43ad-b6dc-5095af1f50f2",
   "metadata": {},
   "source": [
    "## Summarizing"
   ]
  },
  {
   "cell_type": "code",
   "execution_count": 30,
   "id": "864c0236-c081-496c-9772-5938b0e463d5",
   "metadata": {},
   "outputs": [],
   "source": [
    "def get_completion(prompt, model=\"gpt-3.5-turbo\"): # Andrew mentioned that the prompt/ completion paradigm is preferable for this class\n",
    "    messages = [{\"role\": \"user\", \"content\": prompt}]\n",
    "    response = openai.ChatCompletion.create(\n",
    "        model=model,\n",
    "        messages=messages,\n",
    "        temperature=0, # this is the degree of randomness of the model's output\n",
    "    )\n",
    "    return response.choices[0].message[\"content\"]\n",
    "    "
   ]
  },
  {
   "cell_type": "markdown",
   "id": "88ef7639-79d3-47ad-8bb7-4a4103630056",
   "metadata": {},
   "source": [
    "### Summarize with a word/sentence/character limit"
   ]
  },
  {
   "cell_type": "code",
   "execution_count": 38,
   "id": "414ad297-3200-48ec-9cbd-5db0926006b2",
   "metadata": {},
   "outputs": [
    {
     "name": "stdout",
     "output_type": "stream",
     "text": [
      "每次回家，都覺得門好重。我對爸爸的記憶就是看他關門。爸爸今天學校運動會，或是根本沒有他。這麼晚了，還在處理公司的事。小雨啊，去爸爸的房間幫他擦乾淨。從一天到一天，我一直想要更多。爸爸，我們在等什麼呢？\n"
     ]
    }
   ],
   "source": [
    "prompt = f\"\"\"\n",
    "你的任務是產生一個劇情或故事的簡短摘要。\n",
    "\n",
    "將下方被三個反引號標記的故事摘要化，最多60個字。\n",
    "\n",
    "故事： ```{docs[0].page_content}```\n",
    "\"\"\"\n",
    "\n",
    "response = get_completion(prompt)\n",
    "print(response)\n"
   ]
  },
  {
   "cell_type": "markdown",
   "id": "19ea2f9f-9ee8-4b3e-a921-cd26f9cf48f8",
   "metadata": {},
   "source": [
    "## Summarize with a focus ..."
   ]
  },
  {
   "cell_type": "code",
   "execution_count": 39,
   "id": "5d44de0f-c2dc-4495-a107-3e47b7ee8066",
   "metadata": {},
   "outputs": [
    {
     "name": "stdout",
     "output_type": "stream",
     "text": [
      "每次回家，都覺得門好重。我不太記得上次跟我爸講話是什麼時候了。從小，我對爸爸的記憶就是不是在屋裡看他，就是看他關門。爸爸今天學校運動會。或是，根本沒有他。或是，他根本沒在乎過我。這麼晚了，還在處理公司的事。沒有啦，事關大事而已。不要想太多啦。小雨啊，去爸爸的房間幫他擦乾淨。從一天到一天，我一直想要更多。我希望我能夠不被遺忘。有時候我覺得，你會說，爸爸，父親節快樂。爸爸，我們在等什麼呢?\n"
     ]
    }
   ],
   "source": [
    "prompt = f\"\"\"\n",
    "你的任務是產生一個劇情或故事的簡短摘要。\n",
    "\n",
    "將下方被三個反引號標記的故事摘要化，並專注於感人或揪心的情節或情境。限制在60個字以內。\n",
    "\n",
    "故事： ```{docs[0].page_content}```\n",
    "\"\"\"\n",
    "\n",
    "response = get_completion(prompt)\n",
    "print(response)\n"
   ]
  },
  {
   "cell_type": "markdown",
   "id": "94a48ac7-ee43-4750-bab5-c696401240cf",
   "metadata": {},
   "source": [
    "## Try \"extract\" instead of \"summarize\""
   ]
  },
  {
   "cell_type": "code",
   "execution_count": 41,
   "id": "41185f5a-9566-47bf-bfb9-e0a51ca1b95f",
   "metadata": {},
   "outputs": [
    {
     "name": "stdout",
     "output_type": "stream",
     "text": [
      "每次回家，都覺得門好重。從小，我對爸爸的記憶就是看他關門。爸爸今天學校運動會，或是根本沒有他。這麼晚了，還在處理公司的事。小雨啊，去爸爸的房間幫他擦乾淨。從一天到一天，我一直想要更多。我希望我能夠不被遺忘。有時候我覺得，爸爸，父親節快樂。我們在等什麼呢？\n"
     ]
    }
   ],
   "source": [
    "prompt = f\"\"\"\n",
    "你的任務是產生一個劇情或故事的簡短摘要。\n",
    "\n",
    "將下方被三個反引號標記的故事中，提取與感人或揪心的情節或情境。限制在60個字以內。\n",
    "\n",
    "故事： ```{docs[0].page_content}```\n",
    "\"\"\"\n",
    "\n",
    "response = get_completion(prompt)\n",
    "print(response)\n"
   ]
  },
  {
   "cell_type": "code",
   "execution_count": null,
   "id": "ba9f9c91-89a5-4cc3-8700-04c670557c0b",
   "metadata": {},
   "outputs": [],
   "source": []
  }
 ],
 "metadata": {
  "kernelspec": {
   "display_name": "Python 3 (ipykernel)",
   "language": "python",
   "name": "python3"
  },
  "language_info": {
   "codemirror_mode": {
    "name": "ipython",
    "version": 3
   },
   "file_extension": ".py",
   "mimetype": "text/x-python",
   "name": "python",
   "nbconvert_exporter": "python",
   "pygments_lexer": "ipython3",
   "version": "3.11.4"
  }
 },
 "nbformat": 4,
 "nbformat_minor": 5
}
