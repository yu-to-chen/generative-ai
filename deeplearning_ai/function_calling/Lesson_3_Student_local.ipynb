{
 "cells": [
  {
   "cell_type": "markdown",
   "id": "3625677b-2e3b-4069-ac6b-ce6efbc7e70c",
   "metadata": {},
   "source": [
    "### How Do We Interface With External Resources?"
   ]
  },
  {
   "cell_type": "code",
   "execution_count": 15,
   "id": "13061e0e-13f1-4308-bb89-c9575a113e64",
   "metadata": {},
   "outputs": [
    {
     "name": "stdout",
     "output_type": "stream",
     "text": [
      "Requirement already satisfied: pip in /opt/homebrew/Cellar/jupyterlab/4.2.1/libexec/lib/python3.12/site-packages (24.1.1)\n",
      "Requirement already satisfied: openapi-python-client in /opt/homebrew/Cellar/jupyterlab/4.2.1/libexec/lib/python3.12/site-packages (0.21.1)\n",
      "Requirement already satisfied: attrs>=21.3.0 in /opt/homebrew/Cellar/jupyterlab/4.2.1/libexec/lib/python3.12/site-packages (from openapi-python-client) (23.2.0)\n",
      "Requirement already satisfied: httpx<0.28.0,>=0.20.0 in /opt/homebrew/Cellar/jupyterlab/4.2.1/libexec/lib/python3.12/site-packages (from openapi-python-client) (0.27.0)\n",
      "Requirement already satisfied: jinja2<4.0.0,>=3.0.0 in /opt/homebrew/Cellar/jupyterlab/4.2.1/libexec/lib/python3.12/site-packages (from openapi-python-client) (3.1.4)\n",
      "Collecting pydantic<3.0.0,>=2.1.1 (from openapi-python-client)\n",
      "  Using cached pydantic-2.8.0-py3-none-any.whl.metadata (123 kB)\n",
      "Requirement already satisfied: python-dateutil<3.0.0,>=2.8.1 in /opt/homebrew/Cellar/jupyterlab/4.2.1/libexec/lib/python3.12/site-packages (from openapi-python-client) (2.9.0.post0)\n",
      "Requirement already satisfied: ruamel-yaml<0.19.0,>=0.18.6 in /opt/homebrew/Cellar/jupyterlab/4.2.1/libexec/lib/python3.12/site-packages (from openapi-python-client) (0.18.6)\n",
      "Requirement already satisfied: ruff<0.5,>=0.2 in /opt/homebrew/Cellar/jupyterlab/4.2.1/libexec/lib/python3.12/site-packages (from openapi-python-client) (0.4.10)\n",
      "Requirement already satisfied: shellingham<2.0.0,>=1.3.2 in /opt/homebrew/Cellar/jupyterlab/4.2.1/libexec/lib/python3.12/site-packages (from openapi-python-client) (1.5.4)\n",
      "Requirement already satisfied: typer<0.13,>0.6 in /opt/homebrew/Cellar/jupyterlab/4.2.1/libexec/lib/python3.12/site-packages (from openapi-python-client) (0.12.3)\n",
      "Requirement already satisfied: typing-extensions<5.0.0,>=4.8.0 in /opt/homebrew/Cellar/jupyterlab/4.2.1/libexec/lib/python3.12/site-packages (from openapi-python-client) (4.12.2)\n",
      "Requirement already satisfied: anyio in /opt/homebrew/Cellar/jupyterlab/4.2.1/libexec/lib/python3.12/site-packages (from httpx<0.28.0,>=0.20.0->openapi-python-client) (4.3.0)\n",
      "Requirement already satisfied: certifi in /opt/homebrew/opt/certifi/lib/python3.12/site-packages (from httpx<0.28.0,>=0.20.0->openapi-python-client) (2024.6.2)\n",
      "Requirement already satisfied: httpcore==1.* in /opt/homebrew/Cellar/jupyterlab/4.2.1/libexec/lib/python3.12/site-packages (from httpx<0.28.0,>=0.20.0->openapi-python-client) (1.0.5)\n",
      "Requirement already satisfied: idna in /opt/homebrew/Cellar/jupyterlab/4.2.1/libexec/lib/python3.12/site-packages (from httpx<0.28.0,>=0.20.0->openapi-python-client) (3.7)\n",
      "Requirement already satisfied: sniffio in /opt/homebrew/Cellar/jupyterlab/4.2.1/libexec/lib/python3.12/site-packages (from httpx<0.28.0,>=0.20.0->openapi-python-client) (1.3.1)\n",
      "Requirement already satisfied: h11<0.15,>=0.13 in /opt/homebrew/Cellar/jupyterlab/4.2.1/libexec/lib/python3.12/site-packages (from httpcore==1.*->httpx<0.28.0,>=0.20.0->openapi-python-client) (0.14.0)\n",
      "Requirement already satisfied: MarkupSafe>=2.0 in /opt/homebrew/Cellar/jupyterlab/4.2.1/libexec/lib/python3.12/site-packages (from jinja2<4.0.0,>=3.0.0->openapi-python-client) (2.1.5)\n",
      "Requirement already satisfied: annotated-types>=0.4.0 in /opt/homebrew/Cellar/jupyterlab/4.2.1/libexec/lib/python3.12/site-packages (from pydantic<3.0.0,>=2.1.1->openapi-python-client) (0.7.0)\n",
      "Requirement already satisfied: pydantic-core==2.20.0 in /opt/homebrew/Cellar/jupyterlab/4.2.1/libexec/lib/python3.12/site-packages (from pydantic<3.0.0,>=2.1.1->openapi-python-client) (2.20.0)\n",
      "Requirement already satisfied: six>=1.5 in /opt/homebrew/Cellar/jupyterlab/4.2.1/libexec/lib/python3.12/site-packages (from python-dateutil<3.0.0,>=2.8.1->openapi-python-client) (1.16.0)\n",
      "Requirement already satisfied: ruamel.yaml.clib>=0.2.7 in /opt/homebrew/Cellar/jupyterlab/4.2.1/libexec/lib/python3.12/site-packages (from ruamel-yaml<0.19.0,>=0.18.6->openapi-python-client) (0.2.8)\n",
      "Requirement already satisfied: click>=8.0.0 in /opt/homebrew/Cellar/jupyterlab/4.2.1/libexec/lib/python3.12/site-packages (from typer<0.13,>0.6->openapi-python-client) (8.1.7)\n",
      "Requirement already satisfied: rich>=10.11.0 in /opt/homebrew/Cellar/jupyterlab/4.2.1/libexec/lib/python3.12/site-packages (from typer<0.13,>0.6->openapi-python-client) (13.7.1)\n",
      "Requirement already satisfied: markdown-it-py>=2.2.0 in /opt/homebrew/Cellar/jupyterlab/4.2.1/libexec/lib/python3.12/site-packages (from rich>=10.11.0->typer<0.13,>0.6->openapi-python-client) (3.0.0)\n",
      "Requirement already satisfied: pygments<3.0.0,>=2.13.0 in /opt/homebrew/Cellar/jupyterlab/4.2.1/libexec/lib/python3.12/site-packages (from rich>=10.11.0->typer<0.13,>0.6->openapi-python-client) (2.18.0)\n",
      "Requirement already satisfied: mdurl~=0.1 in /opt/homebrew/Cellar/jupyterlab/4.2.1/libexec/lib/python3.12/site-packages (from markdown-it-py>=2.2.0->rich>=10.11.0->typer<0.13,>0.6->openapi-python-client) (0.1.2)\n",
      "Using cached pydantic-2.8.0-py3-none-any.whl (423 kB)\n",
      "Installing collected packages: pydantic\n",
      "  Attempting uninstall: pydantic\n",
      "    Found existing installation: pydantic 1.10.17\n",
      "    Uninstalling pydantic-1.10.17:\n",
      "      Successfully uninstalled pydantic-1.10.17\n",
      "Successfully installed pydantic-2.8.0\n",
      "Collecting openapi-python-generator\n",
      "  Using cached openapi_python_generator-0.5.0-py3-none-any.whl.metadata (5.4 kB)\n",
      "Requirement already satisfied: Jinja2<4.0.0,>=3.1.2 in /opt/homebrew/Cellar/jupyterlab/4.2.1/libexec/lib/python3.12/site-packages (from openapi-python-generator) (3.1.4)\n",
      "Requirement already satisfied: black>=21.10b0 in /opt/homebrew/Cellar/jupyterlab/4.2.1/libexec/lib/python3.12/site-packages (from openapi-python-generator) (24.4.2)\n",
      "Requirement already satisfied: click<9.0.0,>=8.1.3 in /opt/homebrew/Cellar/jupyterlab/4.2.1/libexec/lib/python3.12/site-packages (from openapi-python-generator) (8.1.7)\n",
      "Collecting httpx<0.24.0,>=0.23.0 (from httpx[all]<0.24.0,>=0.23.0->openapi-python-generator)\n",
      "  Using cached httpx-0.23.3-py3-none-any.whl.metadata (7.1 kB)\n",
      "Requirement already satisfied: isort>=5.10.1 in /opt/homebrew/Cellar/jupyterlab/4.2.1/libexec/lib/python3.12/site-packages (from openapi-python-generator) (5.13.2)\n",
      "Requirement already satisfied: openapi-schema-pydantic<2.0.0,>=1.2.3 in /opt/homebrew/Cellar/jupyterlab/4.2.1/libexec/lib/python3.12/site-packages (from openapi-python-generator) (1.2.4)\n",
      "Requirement already satisfied: orjson<4.0.0,>=3.7.2 in /opt/homebrew/Cellar/jupyterlab/4.2.1/libexec/lib/python3.12/site-packages (from openapi-python-generator) (3.10.5)\n",
      "Collecting pydantic<2.0.0,>=1.9.1 (from openapi-python-generator)\n",
      "  Using cached pydantic-1.10.17-cp312-cp312-macosx_11_0_arm64.whl.metadata (151 kB)\n",
      "Requirement already satisfied: mypy-extensions>=0.4.3 in /opt/homebrew/Cellar/jupyterlab/4.2.1/libexec/lib/python3.12/site-packages (from black>=21.10b0->openapi-python-generator) (1.0.0)\n",
      "Requirement already satisfied: packaging>=22.0 in /opt/homebrew/Cellar/jupyterlab/4.2.1/libexec/lib/python3.12/site-packages (from black>=21.10b0->openapi-python-generator) (24.0)\n",
      "Requirement already satisfied: pathspec>=0.9.0 in /opt/homebrew/Cellar/jupyterlab/4.2.1/libexec/lib/python3.12/site-packages (from black>=21.10b0->openapi-python-generator) (0.12.1)\n",
      "Requirement already satisfied: platformdirs>=2 in /opt/homebrew/Cellar/jupyterlab/4.2.1/libexec/lib/python3.12/site-packages (from black>=21.10b0->openapi-python-generator) (4.2.2)\n",
      "Requirement already satisfied: certifi in /opt/homebrew/opt/certifi/lib/python3.12/site-packages (from httpx<0.24.0,>=0.23.0->httpx[all]<0.24.0,>=0.23.0->openapi-python-generator) (2024.6.2)\n",
      "Collecting httpcore<0.17.0,>=0.15.0 (from httpx<0.24.0,>=0.23.0->httpx[all]<0.24.0,>=0.23.0->openapi-python-generator)\n",
      "  Using cached httpcore-0.16.3-py3-none-any.whl.metadata (16 kB)\n",
      "Requirement already satisfied: rfc3986<2,>=1.3 in /opt/homebrew/Cellar/jupyterlab/4.2.1/libexec/lib/python3.12/site-packages (from rfc3986[idna2008]<2,>=1.3->httpx<0.24.0,>=0.23.0->httpx[all]<0.24.0,>=0.23.0->openapi-python-generator) (1.5.0)\n",
      "Requirement already satisfied: sniffio in /opt/homebrew/Cellar/jupyterlab/4.2.1/libexec/lib/python3.12/site-packages (from httpx<0.24.0,>=0.23.0->httpx[all]<0.24.0,>=0.23.0->openapi-python-generator) (1.3.1)\n",
      "\u001b[33mWARNING: httpx 0.23.3 does not provide the extra 'all'\u001b[0m\u001b[33m\n",
      "\u001b[0mRequirement already satisfied: MarkupSafe>=2.0 in /opt/homebrew/Cellar/jupyterlab/4.2.1/libexec/lib/python3.12/site-packages (from Jinja2<4.0.0,>=3.1.2->openapi-python-generator) (2.1.5)\n",
      "Requirement already satisfied: typing-extensions>=4.2.0 in /opt/homebrew/Cellar/jupyterlab/4.2.1/libexec/lib/python3.12/site-packages (from pydantic<2.0.0,>=1.9.1->openapi-python-generator) (4.12.2)\n",
      "Requirement already satisfied: h11<0.15,>=0.13 in /opt/homebrew/Cellar/jupyterlab/4.2.1/libexec/lib/python3.12/site-packages (from httpcore<0.17.0,>=0.15.0->httpx<0.24.0,>=0.23.0->httpx[all]<0.24.0,>=0.23.0->openapi-python-generator) (0.14.0)\n",
      "Requirement already satisfied: anyio<5.0,>=3.0 in /opt/homebrew/Cellar/jupyterlab/4.2.1/libexec/lib/python3.12/site-packages (from httpcore<0.17.0,>=0.15.0->httpx<0.24.0,>=0.23.0->httpx[all]<0.24.0,>=0.23.0->openapi-python-generator) (4.3.0)\n",
      "Requirement already satisfied: idna in /opt/homebrew/Cellar/jupyterlab/4.2.1/libexec/lib/python3.12/site-packages (from rfc3986[idna2008]<2,>=1.3->httpx<0.24.0,>=0.23.0->httpx[all]<0.24.0,>=0.23.0->openapi-python-generator) (3.7)\n",
      "Using cached openapi_python_generator-0.5.0-py3-none-any.whl (22 kB)\n",
      "Using cached httpx-0.23.3-py3-none-any.whl (71 kB)\n",
      "Using cached pydantic-1.10.17-cp312-cp312-macosx_11_0_arm64.whl (2.2 MB)\n",
      "Using cached httpcore-0.16.3-py3-none-any.whl (69 kB)\n",
      "Installing collected packages: pydantic, httpcore, httpx, openapi-python-generator\n",
      "  Attempting uninstall: pydantic\n",
      "    Found existing installation: pydantic 2.8.0\n",
      "    Uninstalling pydantic-2.8.0:\n",
      "      Successfully uninstalled pydantic-2.8.0\n",
      "  Attempting uninstall: httpcore\n",
      "    Found existing installation: httpcore 1.0.5\n",
      "\u001b[1;31merror\u001b[0m: \u001b[1muninstall-no-record-file\u001b[0m\n",
      "\n",
      "\u001b[31m×\u001b[0m Cannot uninstall httpcore 1.0.5\n",
      "\u001b[31m╰─>\u001b[0m The package's contents are unknown: no RECORD file was found for httpcore.\n",
      "\n",
      "\u001b[1;36mhint\u001b[0m: The package was installed by brew. You should check if it can uninstall the package.\n"
     ]
    }
   ],
   "source": [
    "import sys\n",
    "!{sys.executable} -m pip install --upgrade pip\n",
    "!{sys.executable} -m pip install openapi-python-client\n",
    "!{sys.executable} -m pip install openapi-python-generator\n"
   ]
  },
  {
   "cell_type": "code",
   "execution_count": 1,
   "id": "c88048a6-f52c-4571-bf11-583aa2c30634",
   "metadata": {
    "height": 149
   },
   "outputs": [
    {
     "name": "stdout",
     "output_type": "stream",
     "text": [
      "Which is faster, Hot or cold?\n",
      "Hot, because you can catch a cold\n"
     ]
    }
   ],
   "source": [
    "import requests\n",
    "\n",
    "url = \"https://v2.jokeapi.dev/joke/Any?safe-mode&type=twopart\"\n",
    "\n",
    "response = requests.get(url)\n",
    "\n",
    "print(response.json()[\"setup\"])\n",
    "print(response.json()[\"delivery\"])"
   ]
  },
  {
   "cell_type": "code",
   "execution_count": 2,
   "id": "4337dfaa-ed8b-4e8a-a1ae-2a117593a70e",
   "metadata": {
    "height": 30
   },
   "outputs": [
    {
     "data": {
      "text/plain": [
       "{'error': False,\n",
       " 'category': 'Pun',\n",
       " 'type': 'twopart',\n",
       " 'setup': 'Which is faster, Hot or cold?',\n",
       " 'delivery': 'Hot, because you can catch a cold',\n",
       " 'flags': {'nsfw': False,\n",
       "  'religious': False,\n",
       "  'political': False,\n",
       "  'racist': False,\n",
       "  'sexist': False,\n",
       "  'explicit': False},\n",
       " 'safe': True,\n",
       " 'id': 279,\n",
       " 'lang': 'en'}"
      ]
     },
     "execution_count": 2,
     "metadata": {},
     "output_type": "execute_result"
    }
   ],
   "source": [
    "response.json()"
   ]
  },
  {
   "cell_type": "code",
   "execution_count": 3,
   "id": "11576230-09a6-471f-ae03-7dfd53f81a24",
   "metadata": {
    "height": 183
   },
   "outputs": [],
   "source": [
    "import requests\n",
    "def give_joke(category : str):\n",
    "    \"\"\"\n",
    "    Joke categories. Supports: Any, Misc, Programming, Pun, Spooky, Christmas.\n",
    "    \"\"\"\n",
    "\n",
    "    url = f\"https://v2.jokeapi.dev/joke/{category}?safe-mode&type=twopart\"\n",
    "    response = requests.get(url)\n",
    "    print(response.json()[\"setup\"])\n",
    "    print(response.json()[\"delivery\"])"
   ]
  },
  {
   "cell_type": "code",
   "execution_count": 4,
   "id": "dc480ae7-2f6e-4796-a4ca-f5d304081797",
   "metadata": {
    "height": 30
   },
   "outputs": [],
   "source": [
    "USER_QUERY = \"Hey! Can you get me a joke for this december?\""
   ]
  },
  {
   "cell_type": "code",
   "execution_count": 5,
   "id": "789b8c6d-7baa-419a-ae28-1538d7e9ccab",
   "metadata": {
    "height": 217
   },
   "outputs": [],
   "source": [
    "from utils import query_raven\n",
    "\n",
    "raven_functions = \\\n",
    "f'''\n",
    "def give_joke(category : str):\n",
    "    \"\"\"\n",
    "    Joke categories. Supports: Any, Misc, Programming, Dark, Pun, Spooky, Christmas.\n",
    "    \"\"\"\n",
    "\n",
    "User Query: {USER_QUERY}<human_end>\n",
    "'''\n",
    "call = query_raven(raven_functions)"
   ]
  },
  {
   "cell_type": "code",
   "execution_count": 6,
   "id": "650051c1-148f-4b5a-95e4-b3b6dbaad4c4",
   "metadata": {
    "height": 30
   },
   "outputs": [
    {
     "name": "stdout",
     "output_type": "stream",
     "text": [
      "What says Oh Oh Oh?\n",
      "Santa walking backwards!\n"
     ]
    }
   ],
   "source": [
    "exec(call)"
   ]
  },
  {
   "cell_type": "markdown",
   "id": "170eedef-330d-4466-93b5-aaf53e09f9d1",
   "metadata": {},
   "source": [
    "#### Writing A Tool That Uses OpenAPI APIs"
   ]
  },
  {
   "cell_type": "code",
   "execution_count": 7,
   "id": "de0ffc0b-84a9-4622-ac37-976d7c1cdacc",
   "metadata": {
    "height": 30
   },
   "outputs": [],
   "source": [
    "#!wget https://raw.githubusercontent.com/open-meteo/open-meteo/main/openapi.yml"
   ]
  },
  {
   "cell_type": "code",
   "execution_count": 8,
   "id": "c9105806-39ca-49c4-a930-993db2b3a820",
   "metadata": {
    "height": 251
   },
   "outputs": [],
   "source": [
    "import yaml\n",
    "import json\n",
    "\n",
    "# Read the content of the file\n",
    "with open('openapi.yml', 'r') as file:\n",
    "    file_content = file.read()\n",
    "file_content = file_content.replace(\"int\\n\", \"number\\n\")\n",
    "file_content = file_content.replace(\"float\\n\", \"number\\n\")\n",
    "data = yaml.safe_load(file_content)\n",
    "\n",
    "data[\"servers\"] = [{\"url\":\"https://api.open-meteo.com\"}]\n",
    "\n",
    "with open('openapi.json', 'w') as file:\n",
    "    json_content = json.dump(data, file)"
   ]
  },
  {
   "cell_type": "code",
   "execution_count": 16,
   "id": "1003872b-ed4c-4ce5-ba19-dbaad3d9d5df",
   "metadata": {
    "height": 30
   },
   "outputs": [
    {
     "name": "stdout",
     "output_type": "stream",
     "text": [
      "Generating data from openapi.json\n"
     ]
    }
   ],
   "source": [
    "!openapi-python-generator openapi.json ./api_specification_main/\n"
   ]
  },
  {
   "cell_type": "code",
   "execution_count": 17,
   "id": "df4400f9-803b-44ff-9e2b-738bf88e882f",
   "metadata": {
    "height": 47
   },
   "outputs": [],
   "source": [
    "from api_specification_main.services.WeatherForecastAPIs_service\\\n",
    "    import get_v1forecast"
   ]
  },
  {
   "cell_type": "code",
   "execution_count": 18,
   "id": "b0dea523-1b71-4642-a526-e4e88f416920",
   "metadata": {
    "height": 30
   },
   "outputs": [],
   "source": [
    "user_query = \"Hey how is the current weather and windspeed in New York?\""
   ]
  },
  {
   "cell_type": "code",
   "execution_count": 19,
   "id": "10fa052c-9d92-4d23-b907-5971c704f7c1",
   "metadata": {
    "height": 319
   },
   "outputs": [
    {
     "name": "stdout",
     "output_type": "stream",
     "text": [
      "\n",
      "Function:\n",
      "get_v1forecast(latitude: float, longitude: float, hourly: Optional[List[str]] = None, daily: Optional[List[str]] = None, current_weather: Optional[bool] = None, temperature_unit: Optional[str] = None, wind_speed_unit: Optional[str] = None, timeformat: Optional[str] = None, timezone: Optional[str] = None, past_days: Optional[int] = None, api_config_override: Optional[api_specification_main.api_config.APIConfig] = None) -> Dict[str, Any]\n",
      "\"\"\"\n",
      "Requires the latitude and longitude.\n",
      "Set current_weather to True to get the weather.\n",
      "Set hourly or daily based on preference.\n",
      "\"\"\"\n",
      "\n",
      "User Query: Hey how is the current weather and windspeed in New York?<human_end>\n"
     ]
    }
   ],
   "source": [
    "import inspect\n",
    "signature = inspect.signature(get_v1forecast)\n",
    "docstring = \\\n",
    "'''\n",
    "Requires the latitude and longitude.\n",
    "Set current_weather to True to get the weather.\n",
    "Set hourly or daily based on preference.\n",
    "'''\n",
    "\n",
    "raven_prompt = \\\n",
    "f'''\n",
    "Function:\n",
    "{get_v1forecast.__name__}{signature}\n",
    "\"\"\"{docstring}\"\"\"\n",
    "\n",
    "User Query: {user_query}<human_end>'''\n",
    "\n",
    "print (raven_prompt)"
   ]
  },
  {
   "cell_type": "code",
   "execution_count": 20,
   "id": "d75de144-c242-4aac-ab1f-20ec4d635aa4",
   "metadata": {
    "height": 64
   },
   "outputs": [
    {
     "name": "stdout",
     "output_type": "stream",
     "text": [
      "get_v1forecast(latitude=40.7128, longitude=-74.0060, current_weather=True)\n"
     ]
    }
   ],
   "source": [
    "from utils import query_raven\n",
    "call = query_raven(raven_prompt)\n",
    "print (call)"
   ]
  },
  {
   "cell_type": "code",
   "execution_count": 21,
   "id": "bc42f650-182a-4e4c-8fc4-ac5ef291e9ea",
   "metadata": {
    "height": 30
   },
   "outputs": [
    {
     "data": {
      "text/plain": [
       "{'latitude': 40.710335,\n",
       " 'longitude': -73.99309,\n",
       " 'generationtime_ms': 0.07009506225585938,\n",
       " 'utc_offset_seconds': 0,\n",
       " 'timezone': 'GMT',\n",
       " 'timezone_abbreviation': 'GMT',\n",
       " 'elevation': 32.0,\n",
       " 'current_weather_units': {'time': 'iso8601',\n",
       "  'interval': 'seconds',\n",
       "  'temperature': '°C',\n",
       "  'windspeed': 'km/h',\n",
       "  'winddirection': '°',\n",
       "  'is_day': '',\n",
       "  'weathercode': 'wmo code'},\n",
       " 'current_weather': {'time': '2024-07-03T22:30',\n",
       "  'interval': 900,\n",
       "  'temperature': 25.8,\n",
       "  'windspeed': 19.0,\n",
       "  'winddirection': 147,\n",
       "  'is_day': 1,\n",
       "  'weathercode': 3}}"
      ]
     },
     "execution_count": 21,
     "metadata": {},
     "output_type": "execute_result"
    }
   ],
   "source": [
    "eval(call)"
   ]
  },
  {
   "cell_type": "code",
   "execution_count": null,
   "id": "93317b06-c6dc-4214-8c94-b04536b02b4d",
   "metadata": {
    "height": 30
   },
   "outputs": [],
   "source": []
  }
 ],
 "metadata": {
  "kernelspec": {
   "display_name": "Python 3 (ipykernel)",
   "language": "python",
   "name": "python3"
  },
  "language_info": {
   "codemirror_mode": {
    "name": "ipython",
    "version": 3
   },
   "file_extension": ".py",
   "mimetype": "text/x-python",
   "name": "python",
   "nbconvert_exporter": "python",
   "pygments_lexer": "ipython3",
   "version": "3.12.4"
  }
 },
 "nbformat": 4,
 "nbformat_minor": 5
}
