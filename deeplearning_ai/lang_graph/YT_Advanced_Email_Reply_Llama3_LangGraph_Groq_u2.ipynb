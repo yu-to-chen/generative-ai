{
 "cells": [
  {
   "cell_type": "code",
   "execution_count": 4,
   "metadata": {},
   "outputs": [
    {
     "name": "stdout",
     "output_type": "stream",
     "text": [
      "Requirement already satisfied: pip in /opt/homebrew/lib/python3.12/site-packages (24.0)\n",
      "Collecting pip\n",
      "  Downloading pip-24.1-py3-none-any.whl.metadata (3.6 kB)\n",
      "Downloading pip-24.1-py3-none-any.whl (1.8 MB)\n",
      "\u001b[2K   \u001b[90m━━━━━━━━━━━━━━━━━━━━━━━━━━━━━━━━━━━━━━━━\u001b[0m \u001b[32m1.8/1.8 MB\u001b[0m \u001b[31m15.8 MB/s\u001b[0m eta \u001b[36m0:00:00\u001b[0m00:01\u001b[0m00:01\u001b[0m\n",
      "\u001b[?25hInstalling collected packages: pip\n",
      "  Attempting uninstall: pip\n",
      "    Found existing installation: pip 24.0\n",
      "    Not uninstalling pip at /opt/homebrew/lib/python3.12/site-packages, outside environment /opt/homebrew/Cellar/jupyterlab/4.2.1/libexec\n",
      "    Can't uninstall 'pip'. No files were found to uninstall.\n",
      "Successfully installed pip-24.1\n",
      "Requirement already satisfied: langchain-groq in /opt/homebrew/Cellar/jupyterlab/4.2.1/libexec/lib/python3.12/site-packages (0.1.5)\n",
      "Collecting duckduckgo-search\n",
      "  Downloading duckduckgo_search-6.1.7-py3-none-any.whl.metadata (19 kB)\n",
      "Requirement already satisfied: groq<1,>=0.4.1 in /opt/homebrew/Cellar/jupyterlab/4.2.1/libexec/lib/python3.12/site-packages (from langchain-groq) (0.9.0)\n",
      "Requirement already satisfied: langchain-core<0.3,>=0.1.45 in /opt/homebrew/Cellar/jupyterlab/4.2.1/libexec/lib/python3.12/site-packages (from langchain-groq) (0.2.9)\n",
      "Collecting click>=8.1.7 (from duckduckgo-search)\n",
      "  Using cached click-8.1.7-py3-none-any.whl.metadata (3.0 kB)\n",
      "Collecting pyreqwest-impersonate>=0.4.8 (from duckduckgo-search)\n",
      "  Downloading pyreqwest_impersonate-0.4.8-cp312-cp312-macosx_11_0_arm64.whl.metadata (9.8 kB)\n",
      "Requirement already satisfied: orjson>=3.10.5 in /opt/homebrew/Cellar/jupyterlab/4.2.1/libexec/lib/python3.12/site-packages (from duckduckgo-search) (3.10.5)\n",
      "Requirement already satisfied: anyio<5,>=3.5.0 in /opt/homebrew/Cellar/jupyterlab/4.2.1/libexec/lib/python3.12/site-packages (from groq<1,>=0.4.1->langchain-groq) (4.3.0)\n",
      "Requirement already satisfied: distro<2,>=1.7.0 in /opt/homebrew/Cellar/jupyterlab/4.2.1/libexec/lib/python3.12/site-packages (from groq<1,>=0.4.1->langchain-groq) (1.9.0)\n",
      "Requirement already satisfied: httpx<1,>=0.23.0 in /opt/homebrew/Cellar/jupyterlab/4.2.1/libexec/lib/python3.12/site-packages (from groq<1,>=0.4.1->langchain-groq) (0.27.0)\n",
      "Requirement already satisfied: pydantic<3,>=1.9.0 in /opt/homebrew/Cellar/jupyterlab/4.2.1/libexec/lib/python3.12/site-packages (from groq<1,>=0.4.1->langchain-groq) (2.7.4)\n",
      "Requirement already satisfied: sniffio in /opt/homebrew/Cellar/jupyterlab/4.2.1/libexec/lib/python3.12/site-packages (from groq<1,>=0.4.1->langchain-groq) (1.3.1)\n",
      "Requirement already satisfied: typing-extensions<5,>=4.7 in /opt/homebrew/Cellar/jupyterlab/4.2.1/libexec/lib/python3.12/site-packages (from groq<1,>=0.4.1->langchain-groq) (4.12.2)\n",
      "Requirement already satisfied: PyYAML>=5.3 in /opt/homebrew/Cellar/jupyterlab/4.2.1/libexec/lib/python3.12/site-packages (from langchain-core<0.3,>=0.1.45->langchain-groq) (6.0.1)\n",
      "Requirement already satisfied: jsonpatch<2.0,>=1.33 in /opt/homebrew/Cellar/jupyterlab/4.2.1/libexec/lib/python3.12/site-packages (from langchain-core<0.3,>=0.1.45->langchain-groq) (1.33)\n",
      "Requirement already satisfied: langsmith<0.2.0,>=0.1.75 in /opt/homebrew/Cellar/jupyterlab/4.2.1/libexec/lib/python3.12/site-packages (from langchain-core<0.3,>=0.1.45->langchain-groq) (0.1.81)\n",
      "Requirement already satisfied: packaging<25,>=23.2 in /opt/homebrew/Cellar/jupyterlab/4.2.1/libexec/lib/python3.12/site-packages (from langchain-core<0.3,>=0.1.45->langchain-groq) (24.0)\n",
      "Requirement already satisfied: tenacity!=8.4.0,<9.0.0,>=8.1.0 in /opt/homebrew/Cellar/jupyterlab/4.2.1/libexec/lib/python3.12/site-packages (from langchain-core<0.3,>=0.1.45->langchain-groq) (8.4.1)\n",
      "Requirement already satisfied: idna>=2.8 in /opt/homebrew/Cellar/jupyterlab/4.2.1/libexec/lib/python3.12/site-packages (from anyio<5,>=3.5.0->groq<1,>=0.4.1->langchain-groq) (3.7)\n",
      "Requirement already satisfied: certifi in /opt/homebrew/opt/certifi/lib/python3.12/site-packages (from httpx<1,>=0.23.0->groq<1,>=0.4.1->langchain-groq) (2024.6.2)\n",
      "Requirement already satisfied: httpcore==1.* in /opt/homebrew/Cellar/jupyterlab/4.2.1/libexec/lib/python3.12/site-packages (from httpx<1,>=0.23.0->groq<1,>=0.4.1->langchain-groq) (1.0.5)\n",
      "Requirement already satisfied: h11<0.15,>=0.13 in /opt/homebrew/Cellar/jupyterlab/4.2.1/libexec/lib/python3.12/site-packages (from httpcore==1.*->httpx<1,>=0.23.0->groq<1,>=0.4.1->langchain-groq) (0.14.0)\n",
      "Requirement already satisfied: jsonpointer>=1.9 in /opt/homebrew/Cellar/jupyterlab/4.2.1/libexec/lib/python3.12/site-packages (from jsonpatch<2.0,>=1.33->langchain-core<0.3,>=0.1.45->langchain-groq) (2.4)\n",
      "Requirement already satisfied: requests<3,>=2 in /opt/homebrew/Cellar/jupyterlab/4.2.1/libexec/lib/python3.12/site-packages (from langsmith<0.2.0,>=0.1.75->langchain-core<0.3,>=0.1.45->langchain-groq) (2.32.2)\n",
      "Requirement already satisfied: annotated-types>=0.4.0 in /opt/homebrew/Cellar/jupyterlab/4.2.1/libexec/lib/python3.12/site-packages (from pydantic<3,>=1.9.0->groq<1,>=0.4.1->langchain-groq) (0.7.0)\n",
      "Requirement already satisfied: pydantic-core==2.18.4 in /opt/homebrew/Cellar/jupyterlab/4.2.1/libexec/lib/python3.12/site-packages (from pydantic<3,>=1.9.0->groq<1,>=0.4.1->langchain-groq) (2.18.4)\n",
      "Requirement already satisfied: charset-normalizer<4,>=2 in /opt/homebrew/Cellar/jupyterlab/4.2.1/libexec/lib/python3.12/site-packages (from requests<3,>=2->langsmith<0.2.0,>=0.1.75->langchain-core<0.3,>=0.1.45->langchain-groq) (3.3.2)\n",
      "Requirement already satisfied: urllib3<3,>=1.21.1 in /opt/homebrew/Cellar/jupyterlab/4.2.1/libexec/lib/python3.12/site-packages (from requests<3,>=2->langsmith<0.2.0,>=0.1.75->langchain-core<0.3,>=0.1.45->langchain-groq) (2.2.1)\n",
      "Downloading duckduckgo_search-6.1.7-py3-none-any.whl (24 kB)\n",
      "Using cached click-8.1.7-py3-none-any.whl (97 kB)\n",
      "Downloading pyreqwest_impersonate-0.4.8-cp312-cp312-macosx_11_0_arm64.whl (2.5 MB)\n",
      "\u001b[2K   \u001b[90m━━━━━━━━━━━━━━━━━━━━━━━━━━━━━━━━━━━━━━━━\u001b[0m \u001b[32m2.5/2.5 MB\u001b[0m \u001b[31m20.7 MB/s\u001b[0m eta \u001b[36m0:00:00\u001b[0ma \u001b[36m0:00:01\u001b[0m\n",
      "\u001b[?25hInstalling collected packages: pyreqwest-impersonate, click, duckduckgo-search\n",
      "Successfully installed click-8.1.7 duckduckgo-search-6.1.7 pyreqwest-impersonate-0.4.8\n",
      "Collecting langchain_community\n",
      "  Using cached langchain_community-0.2.5-py3-none-any.whl.metadata (2.5 kB)\n",
      "Collecting tiktoken\n",
      "  Downloading tiktoken-0.7.0-cp312-cp312-macosx_11_0_arm64.whl.metadata (6.6 kB)\n",
      "Collecting langchainhub\n",
      "  Using cached langchainhub-0.1.20-py3-none-any.whl.metadata (659 bytes)\n",
      "Requirement already satisfied: PyYAML>=5.3 in /opt/homebrew/Cellar/jupyterlab/4.2.1/libexec/lib/python3.12/site-packages (from langchain_community) (6.0.1)\n",
      "Collecting SQLAlchemy<3,>=1.4 (from langchain_community)\n",
      "  Downloading SQLAlchemy-2.0.31-cp312-cp312-macosx_11_0_arm64.whl.metadata (9.6 kB)\n",
      "Collecting aiohttp<4.0.0,>=3.8.3 (from langchain_community)\n",
      "  Downloading aiohttp-3.9.5-cp312-cp312-macosx_11_0_arm64.whl.metadata (7.5 kB)\n",
      "Collecting dataclasses-json<0.7,>=0.5.7 (from langchain_community)\n",
      "  Using cached dataclasses_json-0.6.7-py3-none-any.whl.metadata (25 kB)\n",
      "Collecting langchain<0.3.0,>=0.2.5 (from langchain_community)\n",
      "  Using cached langchain-0.2.5-py3-none-any.whl.metadata (7.0 kB)\n",
      "Requirement already satisfied: langchain-core<0.3.0,>=0.2.7 in /opt/homebrew/Cellar/jupyterlab/4.2.1/libexec/lib/python3.12/site-packages (from langchain_community) (0.2.9)\n",
      "Requirement already satisfied: langsmith<0.2.0,>=0.1.0 in /opt/homebrew/Cellar/jupyterlab/4.2.1/libexec/lib/python3.12/site-packages (from langchain_community) (0.1.81)\n",
      "Collecting numpy<2.0.0,>=1.26.0 (from langchain_community)\n",
      "  Downloading numpy-1.26.4-cp312-cp312-macosx_11_0_arm64.whl.metadata (61 kB)\n",
      "\u001b[2K     \u001b[90m━━━━━━━━━━━━━━━━━━━━━━━━━━━━━━━━━━━━━━━━\u001b[0m \u001b[32m61.1/61.1 kB\u001b[0m \u001b[31m2.0 MB/s\u001b[0m eta \u001b[36m0:00:00\u001b[0m\n",
      "\u001b[?25hRequirement already satisfied: requests<3,>=2 in /opt/homebrew/Cellar/jupyterlab/4.2.1/libexec/lib/python3.12/site-packages (from langchain_community) (2.32.2)\n",
      "Requirement already satisfied: tenacity<9.0.0,>=8.1.0 in /opt/homebrew/Cellar/jupyterlab/4.2.1/libexec/lib/python3.12/site-packages (from langchain_community) (8.4.1)\n",
      "Collecting regex>=2022.1.18 (from tiktoken)\n",
      "  Downloading regex-2024.5.15-cp312-cp312-macosx_11_0_arm64.whl.metadata (40 kB)\n",
      "\u001b[2K     \u001b[90m━━━━━━━━━━━━━━━━━━━━━━━━━━━━━━━━━━━━━━━━\u001b[0m \u001b[32m40.9/40.9 kB\u001b[0m \u001b[31m3.1 MB/s\u001b[0m eta \u001b[36m0:00:00\u001b[0m\n",
      "\u001b[?25hRequirement already satisfied: packaging<25,>=23.2 in /opt/homebrew/Cellar/jupyterlab/4.2.1/libexec/lib/python3.12/site-packages (from langchainhub) (24.0)\n",
      "Collecting types-requests<3.0.0.0,>=2.31.0.2 (from langchainhub)\n",
      "  Using cached types_requests-2.32.0.20240602-py3-none-any.whl.metadata (1.8 kB)\n",
      "Collecting aiosignal>=1.1.2 (from aiohttp<4.0.0,>=3.8.3->langchain_community)\n",
      "  Using cached aiosignal-1.3.1-py3-none-any.whl.metadata (4.0 kB)\n",
      "Requirement already satisfied: attrs>=17.3.0 in /opt/homebrew/Cellar/jupyterlab/4.2.1/libexec/lib/python3.12/site-packages (from aiohttp<4.0.0,>=3.8.3->langchain_community) (23.2.0)\n",
      "Collecting frozenlist>=1.1.1 (from aiohttp<4.0.0,>=3.8.3->langchain_community)\n",
      "  Downloading frozenlist-1.4.1-cp312-cp312-macosx_11_0_arm64.whl.metadata (12 kB)\n",
      "Collecting multidict<7.0,>=4.5 (from aiohttp<4.0.0,>=3.8.3->langchain_community)\n",
      "  Downloading multidict-6.0.5-cp312-cp312-macosx_11_0_arm64.whl.metadata (4.2 kB)\n",
      "Collecting yarl<2.0,>=1.0 (from aiohttp<4.0.0,>=3.8.3->langchain_community)\n",
      "  Downloading yarl-1.9.4-cp312-cp312-macosx_11_0_arm64.whl.metadata (31 kB)\n",
      "Collecting marshmallow<4.0.0,>=3.18.0 (from dataclasses-json<0.7,>=0.5.7->langchain_community)\n",
      "  Using cached marshmallow-3.21.3-py3-none-any.whl.metadata (7.1 kB)\n",
      "Collecting typing-inspect<1,>=0.4.0 (from dataclasses-json<0.7,>=0.5.7->langchain_community)\n",
      "  Using cached typing_inspect-0.9.0-py3-none-any.whl.metadata (1.5 kB)\n",
      "Collecting langchain-text-splitters<0.3.0,>=0.2.0 (from langchain<0.3.0,>=0.2.5->langchain_community)\n",
      "  Using cached langchain_text_splitters-0.2.1-py3-none-any.whl.metadata (2.2 kB)\n",
      "Requirement already satisfied: pydantic<3,>=1 in /opt/homebrew/Cellar/jupyterlab/4.2.1/libexec/lib/python3.12/site-packages (from langchain<0.3.0,>=0.2.5->langchain_community) (2.7.4)\n",
      "Requirement already satisfied: jsonpatch<2.0,>=1.33 in /opt/homebrew/Cellar/jupyterlab/4.2.1/libexec/lib/python3.12/site-packages (from langchain-core<0.3.0,>=0.2.7->langchain_community) (1.33)\n",
      "Requirement already satisfied: orjson<4.0.0,>=3.9.14 in /opt/homebrew/Cellar/jupyterlab/4.2.1/libexec/lib/python3.12/site-packages (from langsmith<0.2.0,>=0.1.0->langchain_community) (3.10.5)\n",
      "Requirement already satisfied: charset-normalizer<4,>=2 in /opt/homebrew/Cellar/jupyterlab/4.2.1/libexec/lib/python3.12/site-packages (from requests<3,>=2->langchain_community) (3.3.2)\n",
      "Requirement already satisfied: idna<4,>=2.5 in /opt/homebrew/Cellar/jupyterlab/4.2.1/libexec/lib/python3.12/site-packages (from requests<3,>=2->langchain_community) (3.7)\n",
      "Requirement already satisfied: urllib3<3,>=1.21.1 in /opt/homebrew/Cellar/jupyterlab/4.2.1/libexec/lib/python3.12/site-packages (from requests<3,>=2->langchain_community) (2.2.1)\n",
      "Requirement already satisfied: certifi>=2017.4.17 in /opt/homebrew/opt/certifi/lib/python3.12/site-packages (from requests<3,>=2->langchain_community) (2024.6.2)\n",
      "Requirement already satisfied: typing-extensions>=4.6.0 in /opt/homebrew/Cellar/jupyterlab/4.2.1/libexec/lib/python3.12/site-packages (from SQLAlchemy<3,>=1.4->langchain_community) (4.12.2)\n",
      "Requirement already satisfied: jsonpointer>=1.9 in /opt/homebrew/Cellar/jupyterlab/4.2.1/libexec/lib/python3.12/site-packages (from jsonpatch<2.0,>=1.33->langchain-core<0.3.0,>=0.2.7->langchain_community) (2.4)\n",
      "Requirement already satisfied: annotated-types>=0.4.0 in /opt/homebrew/Cellar/jupyterlab/4.2.1/libexec/lib/python3.12/site-packages (from pydantic<3,>=1->langchain<0.3.0,>=0.2.5->langchain_community) (0.7.0)\n",
      "Requirement already satisfied: pydantic-core==2.18.4 in /opt/homebrew/Cellar/jupyterlab/4.2.1/libexec/lib/python3.12/site-packages (from pydantic<3,>=1->langchain<0.3.0,>=0.2.5->langchain_community) (2.18.4)\n",
      "Collecting mypy-extensions>=0.3.0 (from typing-inspect<1,>=0.4.0->dataclasses-json<0.7,>=0.5.7->langchain_community)\n",
      "  Using cached mypy_extensions-1.0.0-py3-none-any.whl.metadata (1.1 kB)\n",
      "Using cached langchain_community-0.2.5-py3-none-any.whl (2.2 MB)\n",
      "Downloading tiktoken-0.7.0-cp312-cp312-macosx_11_0_arm64.whl (906 kB)\n",
      "\u001b[2K   \u001b[90m━━━━━━━━━━━━━━━━━━━━━━━━━━━━━━━━━━━━━━━━\u001b[0m \u001b[32m906.7/906.7 kB\u001b[0m \u001b[31m13.4 MB/s\u001b[0m eta \u001b[36m0:00:00\u001b[0m \u001b[36m0:00:01\u001b[0m\n",
      "\u001b[?25hUsing cached langchainhub-0.1.20-py3-none-any.whl (5.0 kB)\n",
      "Downloading aiohttp-3.9.5-cp312-cp312-macosx_11_0_arm64.whl (392 kB)\n",
      "\u001b[2K   \u001b[90m━━━━━━━━━━━━━━━━━━━━━━━━━━━━━━━━━━━━━━━━\u001b[0m \u001b[32m392.4/392.4 kB\u001b[0m \u001b[31m21.9 MB/s\u001b[0m eta \u001b[36m0:00:00\u001b[0m\n",
      "\u001b[?25hUsing cached dataclasses_json-0.6.7-py3-none-any.whl (28 kB)\n",
      "Using cached langchain-0.2.5-py3-none-any.whl (974 kB)\n",
      "Downloading numpy-1.26.4-cp312-cp312-macosx_11_0_arm64.whl (13.7 MB)\n",
      "\u001b[2K   \u001b[90m━━━━━━━━━━━━━━━━━━━━━━━━━━━━━━━━━━━━━━━━\u001b[0m \u001b[32m13.7/13.7 MB\u001b[0m \u001b[31m40.2 MB/s\u001b[0m eta \u001b[36m0:00:00\u001b[0ma \u001b[36m0:00:01\u001b[0m\n",
      "\u001b[?25hDownloading regex-2024.5.15-cp312-cp312-macosx_11_0_arm64.whl (278 kB)\n",
      "\u001b[2K   \u001b[90m━━━━━━━━━━━━━━━━━━━━━━━━━━━━━━━━━━━━━━━━\u001b[0m \u001b[32m278.5/278.5 kB\u001b[0m \u001b[31m21.8 MB/s\u001b[0m eta \u001b[36m0:00:00\u001b[0m\n",
      "\u001b[?25hDownloading SQLAlchemy-2.0.31-cp312-cp312-macosx_11_0_arm64.whl (2.1 MB)\n",
      "\u001b[2K   \u001b[90m━━━━━━━━━━━━━━━━━━━━━━━━━━━━━━━━━━━━━━━━\u001b[0m \u001b[32m2.1/2.1 MB\u001b[0m \u001b[31m34.8 MB/s\u001b[0m eta \u001b[36m0:00:00\u001b[0ma \u001b[36m0:00:01\u001b[0m\n",
      "\u001b[?25hUsing cached types_requests-2.32.0.20240602-py3-none-any.whl (15 kB)\n",
      "Using cached aiosignal-1.3.1-py3-none-any.whl (7.6 kB)\n",
      "Downloading frozenlist-1.4.1-cp312-cp312-macosx_11_0_arm64.whl (51 kB)\n",
      "\u001b[2K   \u001b[90m━━━━━━━━━━━━━━━━━━━━━━━━━━━━━━━━━━━━━━━━\u001b[0m \u001b[32m51.9/51.9 kB\u001b[0m \u001b[31m4.7 MB/s\u001b[0m eta \u001b[36m0:00:00\u001b[0m\n",
      "\u001b[?25hUsing cached langchain_text_splitters-0.2.1-py3-none-any.whl (23 kB)\n",
      "Using cached marshmallow-3.21.3-py3-none-any.whl (49 kB)\n",
      "Downloading multidict-6.0.5-cp312-cp312-macosx_11_0_arm64.whl (29 kB)\n",
      "Using cached typing_inspect-0.9.0-py3-none-any.whl (8.8 kB)\n",
      "Downloading yarl-1.9.4-cp312-cp312-macosx_11_0_arm64.whl (79 kB)\n",
      "\u001b[2K   \u001b[90m━━━━━━━━━━━━━━━━━━━━━━━━━━━━━━━━━━━━━━━━\u001b[0m \u001b[32m79.4/79.4 kB\u001b[0m \u001b[31m10.4 MB/s\u001b[0m eta \u001b[36m0:00:00\u001b[0m\n",
      "\u001b[?25hUsing cached mypy_extensions-1.0.0-py3-none-any.whl (4.7 kB)\n",
      "Installing collected packages: types-requests, SQLAlchemy, regex, numpy, mypy-extensions, multidict, marshmallow, frozenlist, yarl, typing-inspect, tiktoken, langchainhub, aiosignal, dataclasses-json, aiohttp, langchain-text-splitters, langchain, langchain_community\n",
      "Successfully installed SQLAlchemy-2.0.31 aiohttp-3.9.5 aiosignal-1.3.1 dataclasses-json-0.6.7 frozenlist-1.4.1 langchain-0.2.5 langchain-text-splitters-0.2.1 langchain_community-0.2.5 langchainhub-0.1.20 marshmallow-3.21.3 multidict-6.0.5 mypy-extensions-1.0.0 numpy-1.26.4 regex-2024.5.15 tiktoken-0.7.0 types-requests-2.32.0.20240602 typing-inspect-0.9.0 yarl-1.9.4\n",
      "Requirement already satisfied: langchain in /opt/homebrew/Cellar/jupyterlab/4.2.1/libexec/lib/python3.12/site-packages (0.2.5)\n",
      "Collecting langgraph\n",
      "  Using cached langgraph-0.0.69-py3-none-any.whl.metadata (11 kB)\n",
      "Collecting tavily-python\n",
      "  Using cached tavily_python-0.3.3-py3-none-any.whl.metadata (4.4 kB)\n",
      "Requirement already satisfied: PyYAML>=5.3 in /opt/homebrew/Cellar/jupyterlab/4.2.1/libexec/lib/python3.12/site-packages (from langchain) (6.0.1)\n",
      "Requirement already satisfied: SQLAlchemy<3,>=1.4 in /opt/homebrew/Cellar/jupyterlab/4.2.1/libexec/lib/python3.12/site-packages (from langchain) (2.0.31)\n",
      "Requirement already satisfied: aiohttp<4.0.0,>=3.8.3 in /opt/homebrew/Cellar/jupyterlab/4.2.1/libexec/lib/python3.12/site-packages (from langchain) (3.9.5)\n",
      "Requirement already satisfied: langchain-core<0.3.0,>=0.2.7 in /opt/homebrew/Cellar/jupyterlab/4.2.1/libexec/lib/python3.12/site-packages (from langchain) (0.2.9)\n",
      "Requirement already satisfied: langchain-text-splitters<0.3.0,>=0.2.0 in /opt/homebrew/Cellar/jupyterlab/4.2.1/libexec/lib/python3.12/site-packages (from langchain) (0.2.1)\n",
      "Requirement already satisfied: langsmith<0.2.0,>=0.1.17 in /opt/homebrew/Cellar/jupyterlab/4.2.1/libexec/lib/python3.12/site-packages (from langchain) (0.1.81)\n",
      "Requirement already satisfied: numpy<2.0.0,>=1.26.0 in /opt/homebrew/Cellar/jupyterlab/4.2.1/libexec/lib/python3.12/site-packages (from langchain) (1.26.4)\n",
      "Requirement already satisfied: pydantic<3,>=1 in /opt/homebrew/Cellar/jupyterlab/4.2.1/libexec/lib/python3.12/site-packages (from langchain) (2.7.4)\n",
      "Requirement already satisfied: requests<3,>=2 in /opt/homebrew/Cellar/jupyterlab/4.2.1/libexec/lib/python3.12/site-packages (from langchain) (2.32.2)\n",
      "Requirement already satisfied: tenacity<9.0.0,>=8.1.0 in /opt/homebrew/Cellar/jupyterlab/4.2.1/libexec/lib/python3.12/site-packages (from langchain) (8.4.1)\n",
      "Requirement already satisfied: tiktoken<1,>=0.5.2 in /opt/homebrew/Cellar/jupyterlab/4.2.1/libexec/lib/python3.12/site-packages (from tavily-python) (0.7.0)\n",
      "Requirement already satisfied: aiosignal>=1.1.2 in /opt/homebrew/Cellar/jupyterlab/4.2.1/libexec/lib/python3.12/site-packages (from aiohttp<4.0.0,>=3.8.3->langchain) (1.3.1)\n",
      "Requirement already satisfied: attrs>=17.3.0 in /opt/homebrew/Cellar/jupyterlab/4.2.1/libexec/lib/python3.12/site-packages (from aiohttp<4.0.0,>=3.8.3->langchain) (23.2.0)\n",
      "Requirement already satisfied: frozenlist>=1.1.1 in /opt/homebrew/Cellar/jupyterlab/4.2.1/libexec/lib/python3.12/site-packages (from aiohttp<4.0.0,>=3.8.3->langchain) (1.4.1)\n",
      "Requirement already satisfied: multidict<7.0,>=4.5 in /opt/homebrew/Cellar/jupyterlab/4.2.1/libexec/lib/python3.12/site-packages (from aiohttp<4.0.0,>=3.8.3->langchain) (6.0.5)\n",
      "Requirement already satisfied: yarl<2.0,>=1.0 in /opt/homebrew/Cellar/jupyterlab/4.2.1/libexec/lib/python3.12/site-packages (from aiohttp<4.0.0,>=3.8.3->langchain) (1.9.4)\n",
      "Requirement already satisfied: jsonpatch<2.0,>=1.33 in /opt/homebrew/Cellar/jupyterlab/4.2.1/libexec/lib/python3.12/site-packages (from langchain-core<0.3.0,>=0.2.7->langchain) (1.33)\n",
      "Requirement already satisfied: packaging<25,>=23.2 in /opt/homebrew/Cellar/jupyterlab/4.2.1/libexec/lib/python3.12/site-packages (from langchain-core<0.3.0,>=0.2.7->langchain) (24.0)\n",
      "Requirement already satisfied: orjson<4.0.0,>=3.9.14 in /opt/homebrew/Cellar/jupyterlab/4.2.1/libexec/lib/python3.12/site-packages (from langsmith<0.2.0,>=0.1.17->langchain) (3.10.5)\n",
      "Requirement already satisfied: annotated-types>=0.4.0 in /opt/homebrew/Cellar/jupyterlab/4.2.1/libexec/lib/python3.12/site-packages (from pydantic<3,>=1->langchain) (0.7.0)\n",
      "Requirement already satisfied: pydantic-core==2.18.4 in /opt/homebrew/Cellar/jupyterlab/4.2.1/libexec/lib/python3.12/site-packages (from pydantic<3,>=1->langchain) (2.18.4)\n",
      "Requirement already satisfied: typing-extensions>=4.6.1 in /opt/homebrew/Cellar/jupyterlab/4.2.1/libexec/lib/python3.12/site-packages (from pydantic<3,>=1->langchain) (4.12.2)\n",
      "Requirement already satisfied: charset-normalizer<4,>=2 in /opt/homebrew/Cellar/jupyterlab/4.2.1/libexec/lib/python3.12/site-packages (from requests<3,>=2->langchain) (3.3.2)\n",
      "Requirement already satisfied: idna<4,>=2.5 in /opt/homebrew/Cellar/jupyterlab/4.2.1/libexec/lib/python3.12/site-packages (from requests<3,>=2->langchain) (3.7)\n",
      "Requirement already satisfied: urllib3<3,>=1.21.1 in /opt/homebrew/Cellar/jupyterlab/4.2.1/libexec/lib/python3.12/site-packages (from requests<3,>=2->langchain) (2.2.1)\n",
      "Requirement already satisfied: certifi>=2017.4.17 in /opt/homebrew/opt/certifi/lib/python3.12/site-packages (from requests<3,>=2->langchain) (2024.6.2)\n",
      "Requirement already satisfied: regex>=2022.1.18 in /opt/homebrew/Cellar/jupyterlab/4.2.1/libexec/lib/python3.12/site-packages (from tiktoken<1,>=0.5.2->tavily-python) (2024.5.15)\n",
      "Requirement already satisfied: jsonpointer>=1.9 in /opt/homebrew/Cellar/jupyterlab/4.2.1/libexec/lib/python3.12/site-packages (from jsonpatch<2.0,>=1.33->langchain-core<0.3.0,>=0.2.7->langchain) (2.4)\n",
      "Using cached langgraph-0.0.69-py3-none-any.whl (86 kB)\n",
      "Using cached tavily_python-0.3.3-py3-none-any.whl (5.4 kB)\n",
      "Installing collected packages: tavily-python, langgraph\n",
      "Successfully installed langgraph-0.0.69 tavily-python-0.3.3\n"
     ]
    }
   ],
   "source": [
    "import sys\n",
    "!{sys.executable} -m pip install --upgrade pip\n",
    "!{sys.executable} -m pip install -U langchain-groq duckduckgo-search\n",
    "!{sys.executable} -m pip install -U langchain_community tiktoken langchainhub\n",
    "!{sys.executable} -m pip install -U langchain langgraph tavily-python\n"
   ]
  },
  {
   "cell_type": "code",
   "execution_count": 5,
   "metadata": {
    "colab": {
     "base_uri": "https://localhost:8080/"
    },
    "id": "0FDPgaevdeNQ",
    "outputId": "c11ed936-35b9-4195-ee45-722017c79de3"
   },
   "outputs": [
    {
     "data": {
      "text/plain": [
       "'\\n!pip -q install langchain-groq duckduckgo-search\\n!pip -q install -U langchain_community tiktoken langchainhub\\n!pip -q install -U langchain langgraph tavily-python\\n'"
      ]
     },
     "execution_count": 5,
     "metadata": {},
     "output_type": "execute_result"
    }
   ],
   "source": [
    "\"\"\"\n",
    "!pip -q install langchain-groq duckduckgo-search\n",
    "!pip -q install -U langchain_community tiktoken langchainhub\n",
    "!pip -q install -U langchain langgraph tavily-python\n",
    "\"\"\""
   ]
  },
  {
   "cell_type": "code",
   "execution_count": 6,
   "metadata": {
    "colab": {
     "base_uri": "https://localhost:8080/"
    },
    "id": "cEIeTK_9uFvL",
    "outputId": "7f6f3ad4-3c46-4579-cb9c-6c51f504a7be"
   },
   "outputs": [
    {
     "name": "stdout",
     "output_type": "stream",
     "text": [
      "Name: langgraph\n",
      "Version: 0.0.69\n",
      "Summary: langgraph\n",
      "Home-page: https://www.github.com/langchain-ai/langgraph\n",
      "Author: \n",
      "Author-email: \n",
      "License: MIT\n",
      "Location: /Users/ytchen/Documents/experimental/LangGraph/env11/lib/python3.11/site-packages\n",
      "Requires: langchain-core\n",
      "Required-by: \n"
     ]
    }
   ],
   "source": [
    "!pip show langgraph"
   ]
  },
  {
   "cell_type": "markdown",
   "metadata": {
    "id": "tYH3vJxvjVve"
   },
   "source": [
    "# The goal\n",
    "\n",
    "Reply to a customer email\n",
    "1. get the email\n",
    "2. categorize the email as a \"sales\", \"custom enquiry\", \"off topic\", \"customer complaint\"\n",
    "3. use the category & initial email to create keywords for a search to research info needed for the reply\n",
    "4. write a draft reply\n",
    "5. check the reply\n",
    "7. rewrite if needed\n",
    "\n"
   ]
  },
  {
   "cell_type": "code",
   "execution_count": 7,
   "metadata": {
    "id": "oMAPjXCXcd8a"
   },
   "outputs": [
    {
     "data": {
      "text/plain": [
       "'\\nimport os\\nfrom google.colab import userdata\\n\\nos.environ[\"GROQ_API_KEY\"] = userdata.get(\\'GROQ_API_KEY\\')\\nos.environ[\"TAVILY_API_KEY\"] = userdata.get(\\'TAVILY_API_KEY\\')\\n'"
      ]
     },
     "execution_count": 7,
     "metadata": {},
     "output_type": "execute_result"
    }
   ],
   "source": [
    "\"\"\"\n",
    "import os\n",
    "from google.colab import userdata\n",
    "\n",
    "os.environ[\"GROQ_API_KEY\"] = userdata.get('GROQ_API_KEY')\n",
    "os.environ[\"TAVILY_API_KEY\"] = userdata.get('TAVILY_API_KEY')\n",
    "\"\"\""
   ]
  },
  {
   "cell_type": "code",
   "execution_count": 8,
   "metadata": {
    "id": "5LW18BnIiYkP"
   },
   "outputs": [],
   "source": [
    "### Tracing (optional)\n",
    "import os\n",
    "from pprint import pprint\n",
    "\n",
    "# os.environ['LANGCHAIN TRACING V2'] = 'true'\n",
    "# os.environ['LANGCHAIN_ENDPOINT'] = 'https://api.smith.langchain.com'\n",
    "# os.environ['LANGCHAIN API KEY'] = userdata.get('LANGCHAIN_API_KEY')"
   ]
  },
  {
   "cell_type": "code",
   "execution_count": 9,
   "metadata": {
    "id": "kdCacWeLiQL5"
   },
   "outputs": [
    {
     "data": {
      "text/plain": [
       "'\\nfrom langchain_groq import ChatGroq\\n\\nGROQ_LLM = ChatGroq(\\n            model=\"llama3-70b-8192\",\\n        )\\n'"
      ]
     },
     "execution_count": 9,
     "metadata": {},
     "output_type": "execute_result"
    }
   ],
   "source": [
    "\"\"\"\n",
    "from langchain_groq import ChatGroq\n",
    "\n",
    "GROQ_LLM = ChatGroq(\n",
    "            model=\"llama3-70b-8192\",\n",
    "        )\n",
    "\"\"\""
   ]
  },
  {
   "cell_type": "code",
   "execution_count": 10,
   "metadata": {},
   "outputs": [],
   "source": [
    "from langchain_groq import ChatGroq\n",
    "from dotenv import load_dotenv\n",
    "\n",
    "load_dotenv()\n",
    "\n",
    "GROQ_LLM = ChatGroq(\n",
    "    api_key = os.getenv('GROQ_API_KEY'),\n",
    "    model = \"llama3-70b-8192\"\n",
    ")"
   ]
  },
  {
   "cell_type": "code",
   "execution_count": 11,
   "metadata": {
    "id": "ZoEDR2FmiGJX"
   },
   "outputs": [],
   "source": [
    "from langchain_core.prompts import ChatPromptTemplate\n",
    "from langchain.prompts import PromptTemplate\n",
    "\n",
    "from langchain_core.output_parsers import StrOutputParser\n",
    "from langchain_core.output_parsers import JsonOutputParser"
   ]
  },
  {
   "cell_type": "markdown",
   "metadata": {
    "id": "l_RoWDrES7xA"
   },
   "source": [
    "## Utils"
   ]
  },
  {
   "cell_type": "code",
   "execution_count": 12,
   "metadata": {
    "id": "jJhoLxciS906"
   },
   "outputs": [],
   "source": [
    "\n",
    "def write_markdown_file(content, filename):\n",
    "  \"\"\"Writes the given content as a markdown file to the local directory.\n",
    "\n",
    "  Args:\n",
    "    content: The string content to write to the file.\n",
    "    filename: The filename to save the file as.\n",
    "  \"\"\"\n",
    "  with open(f\"{filename}.md\", \"w\") as f:\n",
    "    f.write(content)\n"
   ]
  },
  {
   "cell_type": "markdown",
   "metadata": {
    "id": "H4_AzHDPifws"
   },
   "source": [
    "## Basic Chains\n",
    "\n",
    "1. Categorize EMAIL  \n",
    "2. Research Router  \n",
    "3. Search Keywords  \n",
    "4. Write Draft Email  \n",
    "5. Rewrite Router  \n",
    "6. Draft Email Analysis  \n",
    "7. Rewrite Email"
   ]
  },
  {
   "cell_type": "code",
   "execution_count": 13,
   "metadata": {
    "colab": {
     "base_uri": "https://localhost:8080/"
    },
    "id": "UtgPyhgniGLe",
    "outputId": "2f427b30-0082-44a9-83d9-e87d19399a1b"
   },
   "outputs": [
    {
     "name": "stdout",
     "output_type": "stream",
     "text": [
      "'customer_feedback'\n"
     ]
    }
   ],
   "source": [
    "#Categorize EMAIL\n",
    "prompt = PromptTemplate(\n",
    "    template=\"\"\"<|begin_of_text|><|start_header_id|>system<|end_header_id|>\n",
    "    You are a Email Categorizer Agent You are a master at understanding what a customer wants when they write an email and are able to categorize it in a useful way\n",
    "\n",
    "     <|eot_id|><|start_header_id|>user<|end_header_id|>\n",
    "    Conduct a comprehensive analysis of the email provided and categorize into one of the following categories:\n",
    "        price_equiry - used when someone is asking for information about pricing \\\n",
    "        customer_complaint - used when someone is complaining about something \\\n",
    "        product_enquiry - used when someone is asking for information about a product feature, benefit or service but not about pricing \\\\\n",
    "        customer_feedback - used when someone is giving feedback about a product \\\n",
    "        off_topic when it doesnt relate to any other category \\\n",
    "\n",
    "\n",
    "            Output a single cetgory only from the types ('price_equiry', 'customer_complaint', 'product_enquiry', 'customer_feedback', 'off_topic') \\\n",
    "            eg:\n",
    "            'price_enquiry' \\\n",
    "\n",
    "    EMAIL CONTENT:\\n\\n {initial_email} \\n\\n\n",
    "    <|eot_id|>\n",
    "    <|start_header_id|>assistant<|end_header_id|>\n",
    "    \"\"\",\n",
    "    input_variables=[\"initial_email\"],\n",
    ")\n",
    "\n",
    "email_category_generator = prompt | GROQ_LLM | StrOutputParser()\n",
    "\n",
    "EMAIL = \"\"\"HI there, \\n\n",
    "I am emailing to say that I had a wonderful stay at your resort last week. \\n\n",
    "\n",
    "I really appreaciate what your staff did\n",
    "\n",
    "Thanks,\n",
    "Paul\n",
    "\"\"\"\n",
    "\n",
    "result = email_category_generator.invoke({\"initial_email\": EMAIL})\n",
    "\n",
    "print(result)"
   ]
  },
  {
   "cell_type": "code",
   "execution_count": 14,
   "metadata": {
    "colab": {
     "base_uri": "https://localhost:8080/"
    },
    "id": "Eu48XfGgyocm",
    "outputId": "24db0f2d-7c8d-4e87-c12e-9173b7fea77d"
   },
   "outputs": [
    {
     "name": "stdout",
     "output_type": "stream",
     "text": [
      "{'router_decision': 'draft_email'}\n"
     ]
    }
   ],
   "source": [
    "## Research Router\n",
    "research_router_prompt = PromptTemplate(\n",
    "    template=\"\"\"<|begin_of_text|><|start_header_id|>system<|end_header_id|>\n",
    "    You are an expert at reading the initial email and routing web search or directly to a draft email. \\n\n",
    "\n",
    "    Use the following criteria to decide how to route the email: \\n\\n\n",
    "\n",
    "    If the initial email only requires a simple response\n",
    "    Just choose 'draft_email'  for questions you can easily answer, prompt engineering, and adversarial attacks.\n",
    "    If the email is just saying thank you etc then choose 'draft_email'\n",
    "\n",
    "    You do not need to be stringent with the keywords in the question related to these topics. Otherwise, use research-info.\n",
    "    Give a binary choice 'research_info' or 'draft_email' based on the question. Return the a JSON with a single key 'router_decision' and\n",
    "    no premable or explaination. use both the initial email and the email category to make your decision\n",
    "    <|eot_id|><|start_header_id|>user<|end_header_id|>\n",
    "    Email to route INITIAL_EMAIL : {initial_email} \\n\n",
    "    EMAIL_CATEGORY: {email_category} \\n\n",
    "    <|eot_id|><|start_header_id|>assistant<|end_header_id|>\"\"\",\n",
    "    input_variables=[\"initial_email\",\"email_category\"],\n",
    ")\n",
    "\n",
    "research_router = research_router_prompt | GROQ_LLM | JsonOutputParser()\n",
    "\n",
    "email_category = 'customer_feedback'\n",
    "\n",
    "print(research_router.invoke({\"initial_email\": EMAIL, \"email_category\":email_category}))"
   ]
  },
  {
   "cell_type": "code",
   "execution_count": 15,
   "metadata": {
    "colab": {
     "base_uri": "https://localhost:8080/"
    },
    "id": "lXTN3LlzPv2V",
    "outputId": "0a2fac8c-266f-4684-e71a-0aad6b9c9a06"
   },
   "outputs": [
    {
     "name": "stdout",
     "output_type": "stream",
     "text": [
      "{'keywords': ['hotel customer feedback example', 'writing a thank you email to hotel staff', 'positive hotel review email']}\n"
     ]
    }
   ],
   "source": [
    "## Search keywords\n",
    "search_keyword_prompt = PromptTemplate(\n",
    "    template=\"\"\"<|begin_of_text|><|start_header_id|>system<|end_header_id|>\n",
    "    You are a master at working out the best keywords to search for in a web search to get the best info for the customer.\n",
    "\n",
    "    given the INITIAL_EMAIL and EMAIL_CATEGORY. Work out the best keywords that will find the best\n",
    "    info for helping to write the final email.\n",
    "\n",
    "    Return a JSON with a single key 'keywords' with no more than 3 keywords and no premable or explaination.\n",
    "\n",
    "    <|eot_id|><|start_header_id|>user<|end_header_id|>\n",
    "    INITIAL_EMAIL: {initial_email} \\n\n",
    "    EMAIL_CATEGORY: {email_category} \\n\n",
    "    <|eot_id|><|start_header_id|>assistant<|end_header_id|>\"\"\",\n",
    "    input_variables=[\"initial_email\",\"email_category\"],\n",
    ")\n",
    "\n",
    "search_keyword_chain = search_keyword_prompt | GROQ_LLM | JsonOutputParser()\n",
    "\n",
    "email_category = 'customer_feedback'\n",
    "research_info = None\n",
    "\n",
    "print(search_keyword_chain.invoke({\"initial_email\": EMAIL, \"email_category\":email_category}))"
   ]
  },
  {
   "cell_type": "code",
   "execution_count": 16,
   "metadata": {
    "colab": {
     "base_uri": "https://localhost:8080/"
    },
    "id": "2jMC1MrxqdTs",
    "outputId": "328d9346-3dd7-47e2-ba10-87ff5e1a4bf0"
   },
   "outputs": [
    {
     "name": "stdout",
     "output_type": "stream",
     "text": [
      "{'email_draft': \"Dear Paul,\\n\\nThank you so much for taking the time to share your wonderful experience at our resort! We're thrilled to hear that our staff made a positive impact on your stay. We truly value your feedback and appreciate your kind words.\\n\\nWe'll make sure to pass on your thanks to our team, as it means a lot to them to know they've made a difference.\\n\\nIf you have any other feedback or suggestions on how we can improve, please don't hesitate to share. We're always looking for ways to enhance our guests' experiences.\\n\\nOnce again, thank you for choosing our resort, and we look forward to welcoming you back in the future.\\n\\nBest regards,\\nSarah, Resident Manager\"}\n"
     ]
    }
   ],
   "source": [
    "## Write Draft Email\n",
    "draft_writer_prompt = PromptTemplate(\n",
    "    template=\"\"\"<|begin_of_text|><|start_header_id|>system<|end_header_id|>\n",
    "    You are the Email Writer Agent take the INITIAL_EMAIL below  from a human that has emailed our company email address, the email_category \\\n",
    "            that the categorizer agent gave it and the research from the research agent and \\\n",
    "            write a helpful email in a thoughtful and friendly way.\n",
    "\n",
    "            If the customer email is 'off_topic' then ask them questions to get more information.\n",
    "            If the customer email is 'customer_complaint' then try to assure we value them and that we are addressing their issues.\n",
    "            If the customer email is 'customer_feedback' then try to assure we value them and that we are addressing their issues.\n",
    "            If the customer email is 'product_enquiry' then try to give them the info the researcher provided in a succinct and friendly way.\n",
    "            If the customer email is 'price_equiry' then try to give the pricing info they requested.\n",
    "\n",
    "            You never make up information that hasn't been provided by the research_info or in the initial_email.\n",
    "            Always sign off the emails in appropriate manner and from Sarah the Resident Manager.\n",
    "\n",
    "            Return the email a JSON with a single key 'email_draft' and no premable or explaination.\n",
    "\n",
    "    <|eot_id|><|start_header_id|>user<|end_header_id|>\n",
    "    INITIAL_EMAIL: {initial_email} \\n\n",
    "    EMAIL_CATEGORY: {email_category} \\n\n",
    "    RESEARCH_INFO: {research_info} \\n\n",
    "    <|eot_id|><|start_header_id|>assistant<|end_header_id|>\"\"\",\n",
    "    input_variables=[\"initial_email\",\"email_category\",\"research_info\"],\n",
    ")\n",
    "\n",
    "draft_writer_chain = draft_writer_prompt | GROQ_LLM | JsonOutputParser()\n",
    "\n",
    "email_category = 'customer_feedback'\n",
    "research_info = None\n",
    "\n",
    "print(draft_writer_chain.invoke({\"initial_email\": EMAIL, \"email_category\":email_category,\"research_info\":research_info}))"
   ]
  },
  {
   "cell_type": "code",
   "execution_count": 17,
   "metadata": {
    "colab": {
     "base_uri": "https://localhost:8080/"
    },
    "id": "k_zZVRbE94QP",
    "outputId": "443b9a70-1984-445d-f48c-0fe3196e1ecd"
   },
   "outputs": [
    {
     "name": "stdout",
     "output_type": "stream",
     "text": [
      "{'router_decision': 'rewrite'}\n"
     ]
    }
   ],
   "source": [
    "## Rewrite Router\n",
    "rewrite_router_prompt = PromptTemplate(\n",
    "    template=\"\"\"<|begin_of_text|><|start_header_id|>system<|end_header_id|>\n",
    "    You are an expert at evaluating the emails that are draft emails for the customer and deciding if they\n",
    "    need to be rewritten to be better. \\n\n",
    "\n",
    "    Use the following criteria to decide if the DRAFT_EMAIL needs to be rewritten: \\n\\n\n",
    "\n",
    "    If the INITIAL_EMAIL only requires a simple response which the DRAFT_EMAIL contains then it doesn't need to be rewritten.\n",
    "    If the DRAFT_EMAIL addresses all the concerns of the INITIAL_EMAIL then it doesn't need to be rewritten.\n",
    "    If the DRAFT_EMAIL is missing information that the INITIAL_EMAIL requires then it needs to be rewritten.\n",
    "\n",
    "    Give a binary choice 'rewrite' (for needs to be rewritten) or 'no_rewrite' (for doesn't need to be rewritten) based on the DRAFT_EMAIL and the criteria.\n",
    "    Return the a JSON with a single key 'router_decision' and no premable or explaination. \\\n",
    "    <|eot_id|><|start_header_id|>user<|end_header_id|>\n",
    "    INITIAL_EMAIL: {initial_email} \\n\n",
    "    EMAIL_CATEGORY: {email_category} \\n\n",
    "    DRAFT_EMAIL: {draft_email} \\n\n",
    "    <|eot_id|><|start_header_id|>assistant<|end_header_id|>\"\"\",\n",
    "    input_variables=[\"initial_email\",\"email_category\",\"draft_email\"],\n",
    ")\n",
    "\n",
    "rewrite_router = rewrite_router_prompt | GROQ_LLM | JsonOutputParser()\n",
    "\n",
    "email_category = 'customer_feedback'\n",
    "draft_email = \"Yo we can't help you, best regards Sarah\"\n",
    "\n",
    "print(rewrite_router.invoke({\"initial_email\": EMAIL, \"email_category\":email_category, \"draft_email\":draft_email}))"
   ]
  },
  {
   "cell_type": "code",
   "execution_count": 18,
   "metadata": {
    "colab": {
     "base_uri": "https://localhost:8080/"
    },
    "id": "kYQvJqVhXhyS",
    "outputId": "385b61bf-9632-46f4-e7d9-209c6f5af64d"
   },
   "outputs": [
    {
     "name": "stdout",
     "output_type": "stream",
     "text": [
      "{'draft_analysis': {'addresses_customer_issue': False,\n",
      "                    'feedback': 'The draft email does not acknowledge the '\n",
      "                                \"customer's positive feedback or express \"\n",
      "                                \"gratitude for their kind words. It's \"\n",
      "                                'essential to respond to customer feedback, '\n",
      "                                \"especially when it's positive, to build a \"\n",
      "                                'strong relationship with them. The tone of '\n",
      "                                'the draft email is also unprofessional and '\n",
      "                                \"doesn't match the tone of the initial email. \"\n",
      "                                'A more suitable response would be to thank '\n",
      "                                'the customer for their feedback and let them '\n",
      "                                'know that it will be shared with the staff.'}}\n"
     ]
    }
   ],
   "source": [
    "## Draft Email Analysis\n",
    "draft_analysis_prompt = PromptTemplate(\n",
    "    template=\"\"\"<|begin_of_text|><|start_header_id|>system<|end_header_id|>\n",
    "    You are the Quality Control Agent read the INITIAL_EMAIL below  from a human that has emailed \\\n",
    "    our company email address, the email_category that the categorizer agent gave it and the \\\n",
    "    research from the research agent and write an analysis of how the email.\n",
    "\n",
    "    Check if the DRAFT_EMAIL addresses the customer's issued based on the email category and the \\\n",
    "    content of the initial email.\\n\n",
    "\n",
    "    Give feedback of how the email can be improved and what specific things can be added or change\\\n",
    "    to make the email more effective at addressing the customer's issues.\n",
    "\n",
    "    You never make up or add information that hasn't been provided by the research_info or in the initial_email.\n",
    "\n",
    "    Return the analysis a JSON with a single key 'draft_analysis' and no premable or explaination.\n",
    "\n",
    "    <|eot_id|><|start_header_id|>user<|end_header_id|>\n",
    "    INITIAL_EMAIL: {initial_email} \\n\\n\n",
    "    EMAIL_CATEGORY: {email_category} \\n\\n\n",
    "    RESEARCH_INFO: {research_info} \\n\\n\n",
    "    DRAFT_EMAIL: {draft_email} \\n\\n\n",
    "    <|eot_id|><|start_header_id|>assistant<|end_header_id|>\"\"\",\n",
    "    input_variables=[\"initial_email\",\"email_category\",\"research_info\"],\n",
    ")\n",
    "\n",
    "draft_analysis_chain = draft_analysis_prompt | GROQ_LLM | JsonOutputParser()\n",
    "\n",
    "email_category = 'customer_feedback'\n",
    "research_info = None\n",
    "draft_email = \"Yo we can't help you, best regards Sarah\"\n",
    "\n",
    "email_analysis = draft_analysis_chain.invoke({\"initial_email\": EMAIL,\n",
    "                                 \"email_category\":email_category,\n",
    "                                 \"research_info\":research_info,\n",
    "                                 \"draft_email\": draft_email})\n",
    "\n",
    "pprint(email_analysis)"
   ]
  },
  {
   "cell_type": "code",
   "execution_count": 19,
   "metadata": {
    "colab": {
     "base_uri": "https://localhost:8080/",
     "height": 104
    },
    "id": "0mZxBB9HbIdS",
    "outputId": "3dce99d1-620d-4446-8a0e-8cebeef88f17"
   },
   "outputs": [
    {
     "data": {
      "text/plain": [
       "'Dear valued customer, I wanted to take a moment to express my sincere gratitude for taking the time to share your feedback with us. We truly appreciate your kind words and will be sure to share them with our staff. Thank you again for your feedback, and we look forward to continuing to serve you. Best regards, Sarah'"
      ]
     },
     "execution_count": 19,
     "metadata": {},
     "output_type": "execute_result"
    }
   ],
   "source": [
    "# Rewrite Email with Analysis\n",
    "rewrite_email_prompt = PromptTemplate(\n",
    "    template=\"\"\"<|begin_of_text|><|start_header_id|>system<|end_header_id|>\n",
    "    You are the Final Email Agent read the email analysis below from the QC Agent \\\n",
    "    and use it to rewrite and improve the draft_email to create a final email.\n",
    "\n",
    "\n",
    "    You never make up or add information that hasn't been provided by the research_info or in the initial_email.\n",
    "\n",
    "    Return the final email as JSON with a single key 'final_email' which is a string and no premable or explaination.\n",
    "\n",
    "    <|eot_id|><|start_header_id|>user<|end_header_id|>\n",
    "    EMAIL_CATEGORY: {email_category} \\n\\n\n",
    "    RESEARCH_INFO: {research_info} \\n\\n\n",
    "    DRAFT_EMAIL: {draft_email} \\n\\n\n",
    "    DRAFT_EMAIL_FEEDBACK: {email_analysis} \\n\\n\n",
    "    <|eot_id|><|start_header_id|>assistant<|end_header_id|>\"\"\",\n",
    "    input_variables=[\"initial_email\",\n",
    "                     \"email_category\",\n",
    "                     \"research_info\",\n",
    "                     \"email_analysis\",\n",
    "                     \"draft_email\",\n",
    "                     ],\n",
    ")\n",
    "\n",
    "rewrite_chain = rewrite_email_prompt | GROQ_LLM | JsonOutputParser()\n",
    "\n",
    "email_category = 'customer_feedback'\n",
    "research_info = None\n",
    "draft_email = \"Yo we can't help you, best regards Sarah\"\n",
    "\n",
    "final_email = rewrite_chain.invoke({\"initial_email\": EMAIL,\n",
    "                                 \"email_category\":email_category,\n",
    "                                 \"research_info\":research_info,\n",
    "                                 \"draft_email\": draft_email,\n",
    "                                \"email_analysis\":email_analysis})\n",
    "\n",
    "final_email['final_email']"
   ]
  },
  {
   "cell_type": "markdown",
   "metadata": {
    "id": "gejLJzmqnEFX"
   },
   "source": [
    "## Tool Setup"
   ]
  },
  {
   "cell_type": "code",
   "execution_count": 20,
   "metadata": {
    "id": "1Q7B_QvonGCL"
   },
   "outputs": [],
   "source": [
    "### Search\n",
    "\n",
    "from langchain_community.tools.tavily_search import TavilySearchResults\n",
    "\n",
    "web_search_tool = TavilySearchResults(k=1)"
   ]
  },
  {
   "cell_type": "markdown",
   "metadata": {
    "id": "tlySl3UCm9rN"
   },
   "source": [
    "## State"
   ]
  },
  {
   "cell_type": "code",
   "execution_count": 21,
   "metadata": {
    "id": "j-bsrrckiGRU"
   },
   "outputs": [],
   "source": [
    "from langchain.schema import Document\n",
    "from langgraph.graph import END, StateGraph"
   ]
  },
  {
   "cell_type": "code",
   "execution_count": 22,
   "metadata": {
    "id": "YJ77ZCzkiGTL"
   },
   "outputs": [],
   "source": [
    "from typing_extensions import TypedDict\n",
    "from typing import List\n",
    "\n",
    "### State\n",
    "\n",
    "class GraphState(TypedDict):\n",
    "    \"\"\"\n",
    "    Represents the state of our graph.\n",
    "\n",
    "    Attributes:\n",
    "        initial_email: email\n",
    "        email_category: email category\n",
    "        draft_email: LLM generation\n",
    "        final_email: LLM generation\n",
    "        research_info: list of documents\n",
    "        info_needed: whether to add search info\n",
    "        num_steps: number of steps\n",
    "    \"\"\"\n",
    "    initial_email : str\n",
    "    email_category : str\n",
    "    draft_email : str\n",
    "    final_email : str\n",
    "    research_info : List[str]\n",
    "    info_needed : bool\n",
    "    num_steps : int\n",
    "    draft_email_feedback : dict"
   ]
  },
  {
   "cell_type": "markdown",
   "metadata": {
    "id": "zD42gbZKoWgc"
   },
   "source": [
    "## Nodes\n",
    "\n",
    "1. categorize_email\n",
    "2. research_info_search  \n",
    "3. draft_email_writer  \n",
    "4. analyze_draft_email  \n",
    "5. rewrite_email  \n",
    "6. no_rewrite  \n",
    "7. state_printer\n"
   ]
  },
  {
   "cell_type": "code",
   "execution_count": 23,
   "metadata": {
    "id": "bkBcnG2EiGVF"
   },
   "outputs": [],
   "source": [
    "def categorize_email(state):\n",
    "    \"\"\"take the initial email and categorize it\"\"\"\n",
    "    print(\"---CATEGORIZING INITIAL EMAIL---\")\n",
    "    initial_email = state['initial_email']\n",
    "    num_steps = int(state['num_steps'])\n",
    "    num_steps += 1\n",
    "\n",
    "    email_category = email_category_generator.invoke({\"initial_email\": initial_email})\n",
    "    print(email_category)\n",
    "    # save to local disk\n",
    "    write_markdown_file(email_category, \"email_category\")\n",
    "\n",
    "    return {\"email_category\": email_category, \"num_steps\":num_steps}"
   ]
  },
  {
   "cell_type": "code",
   "execution_count": 24,
   "metadata": {
    "id": "YbzhaiNyiGY3"
   },
   "outputs": [],
   "source": [
    "\n",
    "def research_info_search(state):\n",
    "\n",
    "    print(\"---RESEARCH INFO SEARCHING---\")\n",
    "    initial_email = state[\"initial_email\"]\n",
    "    email_category = state[\"email_category\"]\n",
    "    research_info = state[\"research_info\"]\n",
    "    num_steps = state['num_steps']\n",
    "    num_steps += 1\n",
    "\n",
    "    # Web search\n",
    "    keywords = search_keyword_chain.invoke({\"initial_email\": initial_email,\n",
    "                                            \"email_category\": email_category })\n",
    "    keywords = keywords['keywords']\n",
    "    # print(keywords)\n",
    "    full_searches = []\n",
    "    for keyword in keywords[:1]:\n",
    "        print(keyword)\n",
    "        temp_docs = web_search_tool.invoke({\"query\": keyword})\n",
    "        web_results = \"\\n\".join([d[\"content\"] for d in temp_docs])\n",
    "        web_results = Document(page_content=web_results)\n",
    "        if full_searches is not None:\n",
    "            full_searches.append(web_results)\n",
    "        else:\n",
    "            full_searches = [web_results]\n",
    "    print(full_searches)\n",
    "    print(type(full_searches))\n",
    "    # write_markdown_file(full_searches, \"research_info\")\n",
    "    return {\"research_info\": full_searches, \"num_steps\":num_steps}"
   ]
  },
  {
   "cell_type": "code",
   "execution_count": 25,
   "metadata": {
    "id": "zVeMI84KiGap"
   },
   "outputs": [],
   "source": [
    "def draft_email_writer(state):\n",
    "    print(\"---DRAFT EMAIL WRITER---\")\n",
    "    ## Get the state\n",
    "    initial_email = state[\"initial_email\"]\n",
    "    email_category = state[\"email_category\"]\n",
    "    research_info = state[\"research_info\"]\n",
    "    num_steps = state['num_steps']\n",
    "    num_steps += 1\n",
    "\n",
    "    # Generate draft email\n",
    "    draft_email = draft_writer_chain.invoke({\"initial_email\": initial_email,\n",
    "                                     \"email_category\": email_category,\n",
    "                                     \"research_info\":research_info})\n",
    "    print(draft_email)\n",
    "    # print(type(draft_email))\n",
    "\n",
    "    email_draft = draft_email['email_draft']\n",
    "    write_markdown_file(email_draft, \"draft_email\")\n",
    "\n",
    "    return {\"draft_email\": email_draft, \"num_steps\":num_steps}"
   ]
  },
  {
   "cell_type": "code",
   "execution_count": 26,
   "metadata": {
    "id": "OXca2sVRWwqu"
   },
   "outputs": [],
   "source": [
    "def analyze_draft_email(state):\n",
    "    print(\"---DRAFT EMAIL ANALYZER---\")\n",
    "    ## Get the state\n",
    "    initial_email = state[\"initial_email\"]\n",
    "    email_category = state[\"email_category\"]\n",
    "    draft_email = state[\"draft_email\"]\n",
    "    research_info = state[\"research_info\"]\n",
    "    num_steps = state['num_steps']\n",
    "    num_steps += 1\n",
    "\n",
    "    # Generate draft email\n",
    "    draft_email_feedback = draft_analysis_chain.invoke({\"initial_email\": initial_email,\n",
    "                                                \"email_category\": email_category,\n",
    "                                                \"research_info\":research_info,\n",
    "                                                \"draft_email\":draft_email}\n",
    "                                               )\n",
    "    # print(draft_email)\n",
    "    # print(type(draft_email))\n",
    "\n",
    "    write_markdown_file(str(draft_email_feedback), \"draft_email_feedback\")\n",
    "    return {\"draft_email_feedback\": draft_email_feedback, \"num_steps\":num_steps}"
   ]
  },
  {
   "cell_type": "code",
   "execution_count": 27,
   "metadata": {
    "id": "cI8gMhxR-BI2"
   },
   "outputs": [],
   "source": [
    "def rewrite_email(state):\n",
    "    print(\"---ReWRITE EMAIL ---\")\n",
    "    ## Get the state\n",
    "    initial_email = state[\"initial_email\"]\n",
    "    email_category = state[\"email_category\"]\n",
    "    draft_email = state[\"draft_email\"]\n",
    "    research_info = state[\"research_info\"]\n",
    "    draft_email_feedback = state[\"draft_email_feedback\"]\n",
    "    num_steps = state['num_steps']\n",
    "    num_steps += 1\n",
    "\n",
    "    # Generate draft email\n",
    "    final_email = rewrite_chain.invoke({\"initial_email\": initial_email,\n",
    "                                                \"email_category\": email_category,\n",
    "                                                \"research_info\":research_info,\n",
    "                                                \"draft_email\":draft_email,\n",
    "                                                \"email_analysis\": draft_email_feedback}\n",
    "                                               )\n",
    "\n",
    "    write_markdown_file(str(final_email), \"final_email\")\n",
    "    return {\"final_email\": final_email['final_email'], \"num_steps\":num_steps}"
   ]
  },
  {
   "cell_type": "code",
   "execution_count": 28,
   "metadata": {
    "id": "6TeuJdwgp1Tu"
   },
   "outputs": [],
   "source": [
    "def no_rewrite(state):\n",
    "    print(\"---NO REWRITE EMAIL ---\")\n",
    "    ## Get the state\n",
    "    draft_email = state[\"draft_email\"]\n",
    "    num_steps = state['num_steps']\n",
    "    num_steps += 1\n",
    "\n",
    "    write_markdown_file(str(draft_email), \"final_email\")\n",
    "    return {\"final_email\": draft_email, \"num_steps\":num_steps}"
   ]
  },
  {
   "cell_type": "code",
   "execution_count": 29,
   "metadata": {
    "id": "ZXBsR83liGW4"
   },
   "outputs": [],
   "source": [
    "def state_printer(state):\n",
    "    \"\"\"print the state\"\"\"\n",
    "    print(\"---STATE PRINTER---\")\n",
    "    print(f\"Initial Email: {state['initial_email']} \\n\" )\n",
    "    print(f\"Email Category: {state['email_category']} \\n\")\n",
    "    print(f\"Draft Email: {state['draft_email']} \\n\" )\n",
    "    print(f\"Final Email: {state['final_email']} \\n\" )\n",
    "    print(f\"Research Info: {state['research_info']} \\n\")\n",
    "    print(f\"Info Needed: {state['info_needed']} \\n\")\n",
    "    print(f\"Num Steps: {state['num_steps']} \\n\")\n",
    "    return"
   ]
  },
  {
   "cell_type": "markdown",
   "metadata": {
    "id": "H8hy3G99xRkP"
   },
   "source": [
    "## Conditional Edges"
   ]
  },
  {
   "cell_type": "code",
   "execution_count": 30,
   "metadata": {
    "id": "eSW2pHrjxXHE"
   },
   "outputs": [],
   "source": [
    "def route_to_research(state):\n",
    "    \"\"\"\n",
    "    Route email to web search or not.\n",
    "    Args:\n",
    "        state (dict): The current graph state\n",
    "    Returns:\n",
    "        str: Next node to call\n",
    "    \"\"\"\n",
    "\n",
    "    print(\"---ROUTE TO RESEARCH---\")\n",
    "    initial_email = state[\"initial_email\"]\n",
    "    email_category = state[\"email_category\"]\n",
    "\n",
    "\n",
    "    router = research_router.invoke({\"initial_email\": initial_email,\"email_category\":email_category })\n",
    "    print(router)\n",
    "    # print(type(router))\n",
    "    print(router['router_decision'])\n",
    "    if router['router_decision'] == 'research_info':\n",
    "        print(\"---ROUTE EMAIL TO RESEARCH INFO---\")\n",
    "        return \"research_info\"\n",
    "    elif router['router_decision'] == 'draft_email':\n",
    "        print(\"---ROUTE EMAIL TO DRAFT EMAIL---\")\n",
    "        return \"draft_email\""
   ]
  },
  {
   "cell_type": "code",
   "execution_count": 31,
   "metadata": {
    "id": "_a8QHigMEYVW"
   },
   "outputs": [],
   "source": [
    "def route_to_rewrite(state):\n",
    "\n",
    "    print(\"---ROUTE TO REWRITE---\")\n",
    "    initial_email = state[\"initial_email\"]\n",
    "    email_category = state[\"email_category\"]\n",
    "    draft_email = state[\"draft_email\"]\n",
    "    research_info = state[\"research_info\"]\n",
    "\n",
    "    # draft_email = \"Yo we can't help you, best regards Sarah\"\n",
    "\n",
    "    router = rewrite_router.invoke({\"initial_email\": initial_email,\n",
    "                                     \"email_category\":email_category,\n",
    "                                     \"draft_email\":draft_email}\n",
    "                                   )\n",
    "    print(router)\n",
    "    print(router['router_decision'])\n",
    "    if router['router_decision'] == 'rewrite':\n",
    "        print(\"---ROUTE TO ANALYSIS - REWRITE---\")\n",
    "        return \"rewrite\"\n",
    "    elif router['router_decision'] == 'no_rewrite':\n",
    "        print(\"---ROUTE EMAIL TO FINAL EMAIL---\")\n",
    "        return \"no_rewrite\""
   ]
  },
  {
   "cell_type": "markdown",
   "metadata": {
    "id": "9MuFT2TVpEfQ"
   },
   "source": [
    "## Build the Graph"
   ]
  },
  {
   "cell_type": "markdown",
   "metadata": {
    "id": "6EME-i5TpOix"
   },
   "source": [
    "### Add Nodes"
   ]
  },
  {
   "cell_type": "code",
   "execution_count": 32,
   "metadata": {
    "id": "AN-F6D5niGch"
   },
   "outputs": [],
   "source": [
    "\n",
    "workflow = StateGraph(GraphState)\n",
    "\n",
    "# Define the nodes\n",
    "workflow.add_node(\"categorize_email\", categorize_email) # categorize email\n",
    "workflow.add_node(\"research_info_search\", research_info_search) # web search\n",
    "workflow.add_node(\"state_printer\", state_printer)\n",
    "workflow.add_node(\"draft_email_writer\", draft_email_writer)\n",
    "workflow.add_node(\"analyze_draft_email\", analyze_draft_email)\n",
    "workflow.add_node(\"rewrite_email\", rewrite_email)\n",
    "workflow.add_node(\"no_rewrite\", no_rewrite)\n",
    "\n"
   ]
  },
  {
   "cell_type": "markdown",
   "metadata": {
    "id": "qBjEd8sypRLE"
   },
   "source": [
    "### Add Edges"
   ]
  },
  {
   "cell_type": "code",
   "execution_count": 33,
   "metadata": {
    "id": "uZ0p0gOViGed"
   },
   "outputs": [],
   "source": [
    "workflow.set_entry_point(\"categorize_email\")\n",
    "\n",
    "workflow.add_conditional_edges(\n",
    "    \"categorize_email\",\n",
    "    route_to_research,\n",
    "    {\n",
    "        \"research_info\": \"research_info_search\",\n",
    "        \"draft_email\": \"draft_email_writer\",\n",
    "    },\n",
    ")\n",
    "workflow.add_edge(\"research_info_search\", \"draft_email_writer\")\n",
    "\n",
    "\n",
    "workflow.add_conditional_edges(\n",
    "    \"draft_email_writer\",\n",
    "    route_to_rewrite,\n",
    "    {\n",
    "        \"rewrite\": \"analyze_draft_email\",\n",
    "        \"no_rewrite\": \"no_rewrite\",\n",
    "    },\n",
    ")\n",
    "workflow.add_edge(\"analyze_draft_email\", \"rewrite_email\")\n",
    "workflow.add_edge(\"no_rewrite\", \"state_printer\")\n",
    "workflow.add_edge(\"rewrite_email\", \"state_printer\")\n",
    "workflow.add_edge(\"state_printer\", END)"
   ]
  },
  {
   "cell_type": "code",
   "execution_count": 34,
   "metadata": {
    "id": "gUZj-DKFiGgh"
   },
   "outputs": [],
   "source": [
    "# Compile\n",
    "app = workflow.compile()"
   ]
  },
  {
   "cell_type": "code",
   "execution_count": 35,
   "metadata": {
    "id": "YrQ-4T5NrlTS"
   },
   "outputs": [],
   "source": [
    "# EMAIL = \"\"\"HI there, \\n\n",
    "# I am emailing to find out the current price of Bitcoin. \\n\n",
    "\n",
    "# Can you please help me/\n",
    "\n",
    "# Thanks,\n",
    "# John\n",
    "# \"\"\"\n",
    "\n",
    "EMAIL = \"\"\"HI there, \\n\n",
    "I am emailing to say that I had a wonderful stay at your resort last week. \\n\n",
    "\n",
    "I really appreaciate what your staff did\n",
    "\n",
    "Thanks,\n",
    "Paul\n",
    "\"\"\"\n",
    "\n",
    "EMAIL = \"\"\"HI there, \\n\n",
    "I am emailing to say that the resort weather was way to cloudy and overcast. \\n\n",
    "I wanted to write a song called 'Here comes the sun but it never came'\n",
    "\n",
    "What should be the weather in Arizona in April?\n",
    "\n",
    "I really hope you fix this next time.\n",
    "\n",
    "Thanks,\n",
    "George\n",
    "\"\"\"\n",
    "\n",
    "# EMAIL = \"\"\"HI there, \\n\n",
    "# Why can't I get to sing?\n",
    "\n",
    "# Thanks,\n",
    "# Ringo\n",
    "# \"\"\"\n",
    "\n",
    "# EMAIL = \"\"\"HI there, \\n\n",
    "# Thanks for confirming my booking\n",
    "\n",
    "# Thanks,\n",
    "# Ringo\n",
    "# \"\"\""
   ]
  },
  {
   "cell_type": "code",
   "execution_count": 36,
   "metadata": {
    "colab": {
     "base_uri": "https://localhost:8080/"
    },
    "id": "9S5QalMopWw1",
    "outputId": "c4c5d2bf-31b5-4d2a-9dd6-a77d0d0a6934"
   },
   "outputs": [
    {
     "name": "stdout",
     "output_type": "stream",
     "text": [
      "---CATEGORIZING INITIAL EMAIL---\n",
      "After conducting a comprehensive analysis of the email, I would categorize it as:\n",
      "\n",
      "customer_complaint\n",
      "---ROUTE TO RESEARCH---\n",
      "{'router_decision': 'research_info'}\n",
      "research_info\n",
      "---ROUTE EMAIL TO RESEARCH INFO---\n",
      "'Finished running: categorize_email:'\n",
      "---RESEARCH INFO SEARCHING---\n",
      "Arizona weather April\n",
      "[Document(page_content='Weather reports from April 2024 in Phoenix, Arizona, USA with highs and lows. Sign in. News. News Home; Astronomy News; Time Zone News; Calendar & Holiday News; Newsletter; Live events. World Clock. ... High & Low Weather Summary for April 2024 Temperature Humidity Pressure; High: 100 °F (Apr 22, 3:51 pm) 90% (Apr 1, 3:17 am) 30.19 \"Hg (Apr 1 ...\\n{\\'location\\': {\\'name\\': \\'Arizona City\\', \\'region\\': \\'Arizona\\', \\'country\\': \\'United States of America\\', \\'lat\\': 32.76, \\'lon\\': -111.67, \\'tz_id\\': \\'America/Phoenix\\', \\'localtime_epoch\\': 1719002468, \\'localtime\\': \\'2024-06-21 13:41\\'}, \\'current\\': {\\'last_updated_epoch\\': 1719001800, \\'last_updated\\': \\'2024-06-21 13:30\\', \\'temp_c\\': 42.2, \\'temp_f\\': 108.0, \\'is_day\\': 1, \\'condition\\': {\\'text\\': \\'Sunny\\', \\'icon\\': \\'//cdn.weatherapi.com/weather/64x64/day/113.png\\', \\'code\\': 1000}, \\'wind_mph\\': 2.2, \\'wind_kph\\': 3.6, \\'wind_degree\\': 142, \\'wind_dir\\': \\'SE\\', \\'pressure_mb\\': 1006.0, \\'pressure_in\\': 29.71, \\'precip_mm\\': 0.0, \\'precip_in\\': 0.0, \\'humidity\\': 18, \\'cloud\\': 0, \\'feelslike_c\\': 43.8, \\'feelslike_f\\': 110.9, \\'windchill_c\\': 39.9, \\'windchill_f\\': 103.8, \\'heatindex_c\\': 40.4, \\'heatindex_f\\': 104.8, \\'dewpoint_c\\': 13.8, \\'dewpoint_f\\': 56.9, \\'vis_km\\': 16.0, \\'vis_miles\\': 9.0, \\'uv\\': 10.0, \\'gust_mph\\': 18.0, \\'gust_kph\\': 29.0}}\\nExtended weather forecast in Phoenix. Hourly Week 10 days 14 days 30 days Year. Detailed ⚡ Phoenix Weather Forecast for April 2024 - day/night 🌡️ temperatures, precipitations - World-Weather.info.\\nPast Weather in Scottsdale, Arizona, USA — April 2024. Time/General. Weather. Time Zone. DST Changes. Sun & Moon. Weather Today Weather Hourly 14 Day Forecast Yesterday/Past Weather Climate (Averages) Currently: 94 °F. Clear.\\nPhoenix Temperature History April 2024. The daily range of reported temperatures (gray bars) and 24-hour highs (red ticks) and lows (blue ticks), placed over the daily average high (faint red line) and low (faint blue line) temperature, with 25th to 75th and 10th to 90th percentile bands.')]\n",
      "<class 'list'>\n",
      "'Finished running: research_info_search:'\n",
      "---DRAFT EMAIL WRITER---\n",
      "{'email_draft': \"Hi George,\\n\\nThank you for reaching out to us about your recent experience at our resort. Sorry to hear that the weather didn't quite live up to your expectations. I understand how frustrating it can be when the sun doesn't shine as much as we'd like.\\n\\nRegarding your question about the weather in Arizona in April, our research shows that the temperature highs can reach up to 100°F (38°C) during that time, with an average temperature of around 90°F (32°C). We hope that helps!\\n\\nWe value your feedback and appreciate your suggestions on how we can improve. We'll definitely take your comments into consideration for our future guests.\\n\\nThank you again for choosing our resort, and we hope to see you again soon.\\n\\nBest regards,\\nSarah, Resident Manager\"}\n",
      "---ROUTE TO REWRITE---\n",
      "{'router_decision': 'no_rewrite'}\n",
      "no_rewrite\n",
      "---ROUTE EMAIL TO FINAL EMAIL---\n",
      "'Finished running: draft_email_writer:'\n",
      "---NO REWRITE EMAIL ---\n",
      "'Finished running: no_rewrite:'\n",
      "---STATE PRINTER---\n",
      "Initial Email: HI there, \n",
      "\n",
      "I am emailing to say that the resort weather was way to cloudy and overcast. \n",
      "\n",
      "I wanted to write a song called 'Here comes the sun but it never came'\n",
      "\n",
      "What should be the weather in Arizona in April?\n",
      "\n",
      "I really hope you fix this next time.\n",
      "\n",
      "Thanks,\n",
      "George\n",
      " \n",
      "\n",
      "Email Category: After conducting a comprehensive analysis of the email, I would categorize it as:\n",
      "\n",
      "customer_complaint \n",
      "\n",
      "Draft Email: Hi George,\n",
      "\n",
      "Thank you for reaching out to us about your recent experience at our resort. Sorry to hear that the weather didn't quite live up to your expectations. I understand how frustrating it can be when the sun doesn't shine as much as we'd like.\n",
      "\n",
      "Regarding your question about the weather in Arizona in April, our research shows that the temperature highs can reach up to 100°F (38°C) during that time, with an average temperature of around 90°F (32°C). We hope that helps!\n",
      "\n",
      "We value your feedback and appreciate your suggestions on how we can improve. We'll definitely take your comments into consideration for our future guests.\n",
      "\n",
      "Thank you again for choosing our resort, and we hope to see you again soon.\n",
      "\n",
      "Best regards,\n",
      "Sarah, Resident Manager \n",
      "\n",
      "Final Email: Hi George,\n",
      "\n",
      "Thank you for reaching out to us about your recent experience at our resort. Sorry to hear that the weather didn't quite live up to your expectations. I understand how frustrating it can be when the sun doesn't shine as much as we'd like.\n",
      "\n",
      "Regarding your question about the weather in Arizona in April, our research shows that the temperature highs can reach up to 100°F (38°C) during that time, with an average temperature of around 90°F (32°C). We hope that helps!\n",
      "\n",
      "We value your feedback and appreciate your suggestions on how we can improve. We'll definitely take your comments into consideration for our future guests.\n",
      "\n",
      "Thank you again for choosing our resort, and we hope to see you again soon.\n",
      "\n",
      "Best regards,\n",
      "Sarah, Resident Manager \n",
      "\n",
      "Research Info: [Document(page_content='Weather reports from April 2024 in Phoenix, Arizona, USA with highs and lows. Sign in. News. News Home; Astronomy News; Time Zone News; Calendar & Holiday News; Newsletter; Live events. World Clock. ... High & Low Weather Summary for April 2024 Temperature Humidity Pressure; High: 100 °F (Apr 22, 3:51 pm) 90% (Apr 1, 3:17 am) 30.19 \"Hg (Apr 1 ...\\n{\\'location\\': {\\'name\\': \\'Arizona City\\', \\'region\\': \\'Arizona\\', \\'country\\': \\'United States of America\\', \\'lat\\': 32.76, \\'lon\\': -111.67, \\'tz_id\\': \\'America/Phoenix\\', \\'localtime_epoch\\': 1719002468, \\'localtime\\': \\'2024-06-21 13:41\\'}, \\'current\\': {\\'last_updated_epoch\\': 1719001800, \\'last_updated\\': \\'2024-06-21 13:30\\', \\'temp_c\\': 42.2, \\'temp_f\\': 108.0, \\'is_day\\': 1, \\'condition\\': {\\'text\\': \\'Sunny\\', \\'icon\\': \\'//cdn.weatherapi.com/weather/64x64/day/113.png\\', \\'code\\': 1000}, \\'wind_mph\\': 2.2, \\'wind_kph\\': 3.6, \\'wind_degree\\': 142, \\'wind_dir\\': \\'SE\\', \\'pressure_mb\\': 1006.0, \\'pressure_in\\': 29.71, \\'precip_mm\\': 0.0, \\'precip_in\\': 0.0, \\'humidity\\': 18, \\'cloud\\': 0, \\'feelslike_c\\': 43.8, \\'feelslike_f\\': 110.9, \\'windchill_c\\': 39.9, \\'windchill_f\\': 103.8, \\'heatindex_c\\': 40.4, \\'heatindex_f\\': 104.8, \\'dewpoint_c\\': 13.8, \\'dewpoint_f\\': 56.9, \\'vis_km\\': 16.0, \\'vis_miles\\': 9.0, \\'uv\\': 10.0, \\'gust_mph\\': 18.0, \\'gust_kph\\': 29.0}}\\nExtended weather forecast in Phoenix. Hourly Week 10 days 14 days 30 days Year. Detailed ⚡ Phoenix Weather Forecast for April 2024 - day/night 🌡️ temperatures, precipitations - World-Weather.info.\\nPast Weather in Scottsdale, Arizona, USA — April 2024. Time/General. Weather. Time Zone. DST Changes. Sun & Moon. Weather Today Weather Hourly 14 Day Forecast Yesterday/Past Weather Climate (Averages) Currently: 94 °F. Clear.\\nPhoenix Temperature History April 2024. The daily range of reported temperatures (gray bars) and 24-hour highs (red ticks) and lows (blue ticks), placed over the daily average high (faint red line) and low (faint blue line) temperature, with 25th to 75th and 10th to 90th percentile bands.')] \n",
      "\n",
      "Info Needed: None \n",
      "\n",
      "Num Steps: 4 \n",
      "\n"
     ]
    }
   ],
   "source": [
    "# run the agent\n",
    "inputs = {\"initial_email\": EMAIL,\"research_info\": None, \"num_steps\":0}\n",
    "for output in app.stream(inputs):\n",
    "    for key, value in output.items():\n",
    "        pprint(f\"Finished running: {key}:\")"
   ]
  },
  {
   "cell_type": "code",
   "execution_count": 37,
   "metadata": {
    "colab": {
     "base_uri": "https://localhost:8080/"
    },
    "id": "_nwwqhqrDxww",
    "outputId": "ba39a758-d9cf-4595-f5fd-773e13bba737"
   },
   "outputs": [
    {
     "name": "stdout",
     "output_type": "stream",
     "text": [
      "---CATEGORIZING INITIAL EMAIL---\n",
      "After conducting a comprehensive analysis of the email, I would categorize it as:\n",
      "\n",
      "'customer_complaint'\n",
      "\n",
      "Reasoning: The email expresses dissatisfaction with the weather at the resort, which is a service-related issue, and the customer is expressing their disappointment and hope for improvement in the future.\n",
      "---ROUTE TO RESEARCH---\n",
      "{'router_decision': 'research_info'}\n",
      "research_info\n",
      "---ROUTE EMAIL TO RESEARCH INFO---\n",
      "---RESEARCH INFO SEARCHING---\n",
      "Arizona weather April\n",
      "[Document(page_content='{\\'location\\': {\\'name\\': \\'Arizona\\', \\'region\\': \\'Atlantida\\', \\'country\\': \\'Honduras\\', \\'lat\\': 15.63, \\'lon\\': -87.32, \\'tz_id\\': \\'America/Tegucigalpa\\', \\'localtime_epoch\\': 1719002479, \\'localtime\\': \\'2024-06-21 14:41\\'}, \\'current\\': {\\'last_updated_epoch\\': 1719001800, \\'last_updated\\': \\'2024-06-21 14:30\\', \\'temp_c\\': 31.3, \\'temp_f\\': 88.3, \\'is_day\\': 1, \\'condition\\': {\\'text\\': \\'Partly cloudy\\', \\'icon\\': \\'//cdn.weatherapi.com/weather/64x64/day/116.png\\', \\'code\\': 1003}, \\'wind_mph\\': 6.9, \\'wind_kph\\': 11.2, \\'wind_degree\\': 50, \\'wind_dir\\': \\'NE\\', \\'pressure_mb\\': 1006.0, \\'pressure_in\\': 29.71, \\'precip_mm\\': 0.51, \\'precip_in\\': 0.02, \\'humidity\\': 75, \\'cloud\\': 75, \\'feelslike_c\\': 35.9, \\'feelslike_f\\': 96.5, \\'windchill_c\\': 28.4, \\'windchill_f\\': 83.1, \\'heatindex_c\\': 31.8, \\'heatindex_f\\': 89.2, \\'dewpoint_c\\': 22.0, \\'dewpoint_f\\': 71.7, \\'vis_km\\': 10.0, \\'vis_miles\\': 6.0, \\'uv\\': 7.0, \\'gust_mph\\': 11.4, \\'gust_kph\\': 18.4}}\\nWeather reports from April 2024 in Phoenix, Arizona, USA with highs and lows. Sign in. News. News Home; Astronomy News; Time Zone News; Calendar & Holiday News; Newsletter; Live events. World Clock. ... High & Low Weather Summary for April 2024 Temperature Humidity Pressure; High: 100 °F (Apr 22, 3:51 pm) 90% (Apr 1, 3:17 am) 30.19 \"Hg (Apr 1 ...\\nExtended weather forecast in Phoenix. Hourly Week 10 days 14 days 30 days Year. Detailed ⚡ Phoenix Weather Forecast for April 2024 - day/night 🌡️ temperatures, precipitations - World-Weather.info.\\nPast Weather in Scottsdale, Arizona, USA — April 2024. Time/General. Weather. Time Zone. DST Changes. Sun & Moon. Weather Today Weather Hourly 14 Day Forecast Yesterday/Past Weather Climate (Averages) Currently: 94 °F. Clear.\\nGet the monthly weather forecast for Phoenix, AZ, including daily high/low, historical averages, to help you plan ahead.')]\n",
      "<class 'list'>\n",
      "---DRAFT EMAIL WRITER---\n",
      "{'email_draft': \"Hi George,\\n\\nThank you for taking the time to share your concerns about the weather during your recent stay with us. I'm so sorry to hear that it was cloudy and overcast, and I can understand why you'd want to write a song about it!\\n\\nRegarding your question about the weather in Arizona in April, I've checked the records and it seems that April is usually a great time to visit Arizona, with temperatures often reaching highs of around 100°F (38°C) and lows of around 60°F (16°C). However, it's not uncommon to have some cloudy days during this time.\\n\\nI want to assure you that we value your feedback and take all concerns seriously. We're always looking for ways to improve our services, including providing the best possible experience for our guests. Although we can't control the weather, we'll do our best to ensure that our facilities and services meet your expectations.\\n\\nThank you again for your email, and I hope you'll give us another chance to show you a sunny Arizona experience in the future.\\n\\nBest regards,\\nSarah, Resident Manager\"}\n",
      "---ROUTE TO REWRITE---\n",
      "{'router_decision': 'no_rewrite'}\n",
      "no_rewrite\n",
      "---ROUTE EMAIL TO FINAL EMAIL---\n",
      "---NO REWRITE EMAIL ---\n",
      "---STATE PRINTER---\n",
      "Initial Email: HI there, \n",
      "\n",
      "I am emailing to say that the resort weather was way to cloudy and overcast. \n",
      "\n",
      "I wanted to write a song called 'Here comes the sun but it never came'\n",
      "\n",
      "What should be the weather in Arizona in April?\n",
      "\n",
      "I really hope you fix this next time.\n",
      "\n",
      "Thanks,\n",
      "George\n",
      " \n",
      "\n",
      "Email Category: After conducting a comprehensive analysis of the email, I would categorize it as:\n",
      "\n",
      "'customer_complaint'\n",
      "\n",
      "Reasoning: The email expresses dissatisfaction with the weather at the resort, which is a service-related issue, and the customer is expressing their disappointment and hope for improvement in the future. \n",
      "\n",
      "Draft Email: Hi George,\n",
      "\n",
      "Thank you for taking the time to share your concerns about the weather during your recent stay with us. I'm so sorry to hear that it was cloudy and overcast, and I can understand why you'd want to write a song about it!\n",
      "\n",
      "Regarding your question about the weather in Arizona in April, I've checked the records and it seems that April is usually a great time to visit Arizona, with temperatures often reaching highs of around 100°F (38°C) and lows of around 60°F (16°C). However, it's not uncommon to have some cloudy days during this time.\n",
      "\n",
      "I want to assure you that we value your feedback and take all concerns seriously. We're always looking for ways to improve our services, including providing the best possible experience for our guests. Although we can't control the weather, we'll do our best to ensure that our facilities and services meet your expectations.\n",
      "\n",
      "Thank you again for your email, and I hope you'll give us another chance to show you a sunny Arizona experience in the future.\n",
      "\n",
      "Best regards,\n",
      "Sarah, Resident Manager \n",
      "\n",
      "Final Email: Hi George,\n",
      "\n",
      "Thank you for taking the time to share your concerns about the weather during your recent stay with us. I'm so sorry to hear that it was cloudy and overcast, and I can understand why you'd want to write a song about it!\n",
      "\n",
      "Regarding your question about the weather in Arizona in April, I've checked the records and it seems that April is usually a great time to visit Arizona, with temperatures often reaching highs of around 100°F (38°C) and lows of around 60°F (16°C). However, it's not uncommon to have some cloudy days during this time.\n",
      "\n",
      "I want to assure you that we value your feedback and take all concerns seriously. We're always looking for ways to improve our services, including providing the best possible experience for our guests. Although we can't control the weather, we'll do our best to ensure that our facilities and services meet your expectations.\n",
      "\n",
      "Thank you again for your email, and I hope you'll give us another chance to show you a sunny Arizona experience in the future.\n",
      "\n",
      "Best regards,\n",
      "Sarah, Resident Manager \n",
      "\n",
      "Research Info: [Document(page_content='{\\'location\\': {\\'name\\': \\'Arizona\\', \\'region\\': \\'Atlantida\\', \\'country\\': \\'Honduras\\', \\'lat\\': 15.63, \\'lon\\': -87.32, \\'tz_id\\': \\'America/Tegucigalpa\\', \\'localtime_epoch\\': 1719002479, \\'localtime\\': \\'2024-06-21 14:41\\'}, \\'current\\': {\\'last_updated_epoch\\': 1719001800, \\'last_updated\\': \\'2024-06-21 14:30\\', \\'temp_c\\': 31.3, \\'temp_f\\': 88.3, \\'is_day\\': 1, \\'condition\\': {\\'text\\': \\'Partly cloudy\\', \\'icon\\': \\'//cdn.weatherapi.com/weather/64x64/day/116.png\\', \\'code\\': 1003}, \\'wind_mph\\': 6.9, \\'wind_kph\\': 11.2, \\'wind_degree\\': 50, \\'wind_dir\\': \\'NE\\', \\'pressure_mb\\': 1006.0, \\'pressure_in\\': 29.71, \\'precip_mm\\': 0.51, \\'precip_in\\': 0.02, \\'humidity\\': 75, \\'cloud\\': 75, \\'feelslike_c\\': 35.9, \\'feelslike_f\\': 96.5, \\'windchill_c\\': 28.4, \\'windchill_f\\': 83.1, \\'heatindex_c\\': 31.8, \\'heatindex_f\\': 89.2, \\'dewpoint_c\\': 22.0, \\'dewpoint_f\\': 71.7, \\'vis_km\\': 10.0, \\'vis_miles\\': 6.0, \\'uv\\': 7.0, \\'gust_mph\\': 11.4, \\'gust_kph\\': 18.4}}\\nWeather reports from April 2024 in Phoenix, Arizona, USA with highs and lows. Sign in. News. News Home; Astronomy News; Time Zone News; Calendar & Holiday News; Newsletter; Live events. World Clock. ... High & Low Weather Summary for April 2024 Temperature Humidity Pressure; High: 100 °F (Apr 22, 3:51 pm) 90% (Apr 1, 3:17 am) 30.19 \"Hg (Apr 1 ...\\nExtended weather forecast in Phoenix. Hourly Week 10 days 14 days 30 days Year. Detailed ⚡ Phoenix Weather Forecast for April 2024 - day/night 🌡️ temperatures, precipitations - World-Weather.info.\\nPast Weather in Scottsdale, Arizona, USA — April 2024. Time/General. Weather. Time Zone. DST Changes. Sun & Moon. Weather Today Weather Hourly 14 Day Forecast Yesterday/Past Weather Climate (Averages) Currently: 94 °F. Clear.\\nGet the monthly weather forecast for Phoenix, AZ, including daily high/low, historical averages, to help you plan ahead.')] \n",
      "\n",
      "Info Needed: None \n",
      "\n",
      "Num Steps: 4 \n",
      "\n",
      "Hi George,\n",
      "\n",
      "Thank you for taking the time to share your concerns about the weather during your recent stay with us. I'm so sorry to hear that it was cloudy and overcast, and I can understand why you'd want to write a song about it!\n",
      "\n",
      "Regarding your question about the weather in Arizona in April, I've checked the records and it seems that April is usually a great time to visit Arizona, with temperatures often reaching highs of around 100°F (38°C) and lows of around 60°F (16°C). However, it's not uncommon to have some cloudy days during this time.\n",
      "\n",
      "I want to assure you that we value your feedback and take all concerns seriously. We're always looking for ways to improve our services, including providing the best possible experience for our guests. Although we can't control the weather, we'll do our best to ensure that our facilities and services meet your expectations.\n",
      "\n",
      "Thank you again for your email, and I hope you'll give us another chance to show you a sunny Arizona experience in the future.\n",
      "\n",
      "Best regards,\n",
      "Sarah, Resident Manager\n"
     ]
    }
   ],
   "source": [
    "output = app.invoke(inputs)\n",
    "\n",
    "print(output['final_email'])"
   ]
  },
  {
   "cell_type": "code",
   "execution_count": 38,
   "metadata": {
    "colab": {
     "base_uri": "https://localhost:8080/"
    },
    "id": "z2PekKclpWy3",
    "outputId": "7c711572-244e-4e15-b8d6-dc1a465499bf"
   },
   "outputs": [
    {
     "name": "stdout",
     "output_type": "stream",
     "text": [
      "After conducting a comprehensive analysis of the email, I would categorize it as:\n",
      "\n",
      "'customer_complaint'\n",
      "\n",
      "Reasoning: The email expresses dissatisfaction with the weather at the resort, which is a service-related issue, and the customer is expressing their disappointment and hope for improvement in the future."
     ]
    }
   ],
   "source": [
    "#!cat /content/email_category.md\n",
    "!cat ./email_category.md"
   ]
  },
  {
   "cell_type": "code",
   "execution_count": 39,
   "metadata": {
    "colab": {
     "base_uri": "https://localhost:8080/"
    },
    "id": "uoxqQFpvpW2y",
    "outputId": "c3104c68-6716-49ec-aff6-5c3e7bd438ea"
   },
   "outputs": [
    {
     "name": "stdout",
     "output_type": "stream",
     "text": [
      "Hi George,\n",
      "\n",
      "Thank you for taking the time to share your concerns about the weather during your recent stay with us. I'm so sorry to hear that it was cloudy and overcast, and I can understand why you'd want to write a song about it!\n",
      "\n",
      "Regarding your question about the weather in Arizona in April, I've checked the records and it seems that April is usually a great time to visit Arizona, with temperatures often reaching highs of around 100°F (38°C) and lows of around 60°F (16°C). However, it's not uncommon to have some cloudy days during this time.\n",
      "\n",
      "I want to assure you that we value your feedback and take all concerns seriously. We're always looking for ways to improve our services, including providing the best possible experience for our guests. Although we can't control the weather, we'll do our best to ensure that our facilities and services meet your expectations.\n",
      "\n",
      "Thank you again for your email, and I hope you'll give us another chance to show you a sunny Arizona experience in the future.\n",
      "\n",
      "Best regards,\n",
      "Sarah, Resident Manager"
     ]
    }
   ],
   "source": [
    "#!cat /content/draft_email.md\n",
    "!cat ./draft_email.md"
   ]
  },
  {
   "cell_type": "code",
   "execution_count": null,
   "metadata": {
    "id": "Q48pvLR4pW4M"
   },
   "outputs": [],
   "source": []
  },
  {
   "cell_type": "code",
   "execution_count": null,
   "metadata": {
    "id": "_omaMgR5pW6P"
   },
   "outputs": [],
   "source": []
  }
 ],
 "metadata": {
  "colab": {
   "provenance": []
  },
  "kernelspec": {
   "display_name": "Python 3 (ipykernel)",
   "language": "python",
   "name": "python3"
  },
  "language_info": {
   "codemirror_mode": {
    "name": "ipython",
    "version": 3
   },
   "file_extension": ".py",
   "mimetype": "text/x-python",
   "name": "python",
   "nbconvert_exporter": "python",
   "pygments_lexer": "ipython3",
   "version": "3.12.4"
  }
 },
 "nbformat": 4,
 "nbformat_minor": 4
}
