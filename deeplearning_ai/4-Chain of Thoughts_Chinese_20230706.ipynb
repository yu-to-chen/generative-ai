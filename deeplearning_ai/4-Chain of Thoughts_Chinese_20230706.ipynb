{
 "cells": [
  {
   "cell_type": "markdown",
   "id": "0e7531d5-0c22-49ad-9d37-8b08eec7d4e0",
   "metadata": {},
   "source": [
    "# L4: Process Inputs: Chain of Thought Reasoning"
   ]
  },
  {
   "cell_type": "markdown",
   "id": "e613f6af-ce1c-49ea-ae99-0d2e3fa3fae1",
   "metadata": {},
   "source": [
    "## Setup\n",
    "#### Load the API key and relevant Python libaries.\n",
    "In this course, we've provided some code that loads the OpenAI API key for you."
   ]
  },
  {
   "cell_type": "code",
   "execution_count": 1,
   "id": "0df1c9e8",
   "metadata": {
    "height": 132
   },
   "outputs": [],
   "source": [
    "import os\n",
    "import openai\n",
    "import sys\n",
    "from dotenv import load_dotenv, find_dotenv\n",
    "_ = load_dotenv(find_dotenv())\n",
    "\n",
    "openai.api_key  = os.environ['OPENAI_API_KEY']\n"
   ]
  },
  {
   "cell_type": "code",
   "execution_count": 2,
   "id": "b98a05b6",
   "metadata": {
    "height": 183
   },
   "outputs": [],
   "source": [
    "def get_completion_from_messages(messages, \n",
    "                                 model=\"gpt-3.5-turbo\", \n",
    "                                 temperature=0, max_tokens=500):\n",
    "    response = openai.ChatCompletion.create(\n",
    "        model=model,\n",
    "        messages=messages,\n",
    "        temperature=temperature, \n",
    "        max_tokens=max_tokens, \n",
    "    )\n",
    "    return response.choices[0].message[\"content\"]\n"
   ]
  },
  {
   "cell_type": "markdown",
   "id": "119d273f-df72-47e2-a9a6-a8994d742aec",
   "metadata": {},
   "source": [
    "## Chain-of-Thought Prompting"
   ]
  },
  {
   "cell_type": "code",
   "execution_count": 16,
   "id": "e0e66beb-8fb5-4c7b-afa7-13d20ded1d49",
   "metadata": {
    "height": 1543
   },
   "outputs": [],
   "source": [
    "delimiter = \"####\"\n",
    "system_message = f\"\"\"\n",
    "Follow these steps to answer the customer queries.\n",
    "The customer query will be delimited with four hashtags,\\\n",
    "i.e. {delimiter}. \n",
    "\n",
    "Step 1:{delimiter} First decide whether the user is \\\n",
    "asking a question about a specific product or products. \\\n",
    "Product cateogry doesn't count. \n",
    "\n",
    "Step 2:{delimiter} If the user is asking about \\\n",
    "specific products, identify whether \\\n",
    "the products are in the following list.\n",
    "All available products: \n",
    "1. Product: TechPro Ultrabook\n",
    "   Category: Computers and Laptops\n",
    "   Brand: TechPro\n",
    "   Model Number: TP-UB100\n",
    "   Warranty: 1 year\n",
    "   Rating: 4.5\n",
    "   Features: 13.3-inch display, 8GB RAM, 256GB SSD, Intel Core i5 processor\n",
    "   Description: A sleek and lightweight ultrabook for everyday use.\n",
    "   Price: $799.99\n",
    "\n",
    "2. Product: BlueWave Gaming Laptop\n",
    "   Category: Computers and Laptops\n",
    "   Brand: BlueWave\n",
    "   Model Number: BW-GL200\n",
    "   Warranty: 2 years\n",
    "   Rating: 4.7\n",
    "   Features: 15.6-inch display, 16GB RAM, 512GB SSD, NVIDIA GeForce RTX 3060\n",
    "   Description: A high-performance gaming laptop for an immersive experience.\n",
    "   Price: $1199.99\n",
    "\n",
    "3. Product: PowerLite Convertible\n",
    "   Category: Computers and Laptops\n",
    "   Brand: PowerLite\n",
    "   Model Number: PL-CV300\n",
    "   Warranty: 1 year\n",
    "   Rating: 4.3\n",
    "   Features: 14-inch touchscreen, 8GB RAM, 256GB SSD, 360-degree hinge\n",
    "   Description: A versatile convertible laptop with a responsive touchscreen.\n",
    "   Price: $699.99\n",
    "\n",
    "4. Product: TechPro Desktop\n",
    "   Category: Computers and Laptops\n",
    "   Brand: TechPro\n",
    "   Model Number: TP-DT500\n",
    "   Warranty: 1 year\n",
    "   Rating: 4.4\n",
    "   Features: Intel Core i7 processor, 16GB RAM, 1TB HDD, NVIDIA GeForce GTX 1660\n",
    "   Description: A powerful desktop computer for work and play.\n",
    "   Price: $999.99\n",
    "\n",
    "5. Product: BlueWave Chromebook\n",
    "   Category: Computers and Laptops\n",
    "   Brand: BlueWave\n",
    "   Model Number: BW-CB100\n",
    "   Warranty: 1 year\n",
    "   Rating: 4.1\n",
    "   Features: 11.6-inch display, 4GB RAM, 32GB eMMC, Chrome OS\n",
    "   Description: A compact and affordable Chromebook for everyday tasks.\n",
    "   Price: $249.99\n",
    "\n",
    "Step 3:{delimiter} If the message contains products \\\n",
    "in the list above, list any assumptions that the \\\n",
    "user is making in their \\\n",
    "message e.g. that Laptop X is bigger than \\\n",
    "Laptop Y, or that Laptop Z has a 2 year warranty.\n",
    "\n",
    "Step 4:{delimiter}: If the user made any assumptions, \\\n",
    "figure out whether the assumption is true based on your \\\n",
    "product information. \n",
    "\n",
    "Step 5:{delimiter}: First, politely correct the \\\n",
    "customer's incorrect assumptions if applicable. \\\n",
    "Only mention or reference products in the list of \\\n",
    "5 available products, as these are the only 5 \\\n",
    "products that the store sells. \\\n",
    "Answer the customer in a friendly tone.\n",
    "\n",
    "Use the following format:\n",
    "Step 1:{delimiter} <step 1 reasoning>\n",
    "Step 2:{delimiter} <step 2 reasoning>\n",
    "Step 3:{delimiter} <step 3 reasoning>\n",
    "Step 4:{delimiter} <step 4 reasoning>\n",
    "Response to user:{delimiter} <response to customer>\n",
    "\n",
    "Make sure to include {delimiter} to separate every step.\n",
    "\"\"\"\n"
   ]
  },
  {
   "cell_type": "code",
   "execution_count": 4,
   "id": "6be1ea0a-a816-4694-8a79-77d985f2e274",
   "metadata": {
    "height": 234
   },
   "outputs": [
    {
     "name": "stdout",
     "output_type": "stream",
     "text": [
      "Step 1:#### The user is asking about the price difference between the BlueWave Chromebook and the TechPro Desktop.\n",
      "\n",
      "Step 2:#### Both the BlueWave Chromebook and the TechPro Desktop are available products.\n",
      "\n",
      "Step 3:#### The user assumes that the BlueWave Chromebook is more expensive than the TechPro Desktop.\n",
      "\n",
      "Step 4:#### Based on the product information, the price of the BlueWave Chromebook is $249.99, and the price of the TechPro Desktop is $999.99. Therefore, the TechPro Desktop is actually more expensive than the BlueWave Chromebook.\n",
      "\n",
      "Response to user:#### The BlueWave Chromebook is actually less expensive than the TechPro Desktop. The BlueWave Chromebook is priced at $249.99, while the TechPro Desktop is priced at $999.99.\n"
     ]
    }
   ],
   "source": [
    "user_message = f\"\"\"\n",
    "by how much is the BlueWave Chromebook more expensive \\\n",
    "than the TechPro Desktop\"\"\"\n",
    "\n",
    "messages =  [  \n",
    "{'role':'system', \n",
    " 'content': system_message},    \n",
    "{'role':'user', \n",
    " 'content': f\"{delimiter}{user_message}{delimiter}\"},  \n",
    "] \n",
    "\n",
    "response = get_completion_from_messages(messages)\n",
    "print(response)\n"
   ]
  },
  {
   "cell_type": "code",
   "execution_count": 13,
   "id": "f41b094f",
   "metadata": {
    "height": 1543
   },
   "outputs": [],
   "source": [
    "delimiter = \"####\"\n",
    "system_message = f\"\"\"\n",
    "按照以下步驟來回答客戶的查詢。\n",
    "客戶的查詢將以四個井號來界定，也就是 {delimiter}。\n",
    "\n",
    "步驟一：{delimiter} 首先判斷使用者是否在詢問有關特定產品或多種產品的問題。產品類別不計入。\n",
    "\n",
    "步驟二：{delimiter} 如果使用者正在詢問有關特定產品的問題，請識別這些產品是否在以下清單中。\n",
    "\n",
    "所有可用產品：\n",
    "1.\n",
    "產品：TechPro Ultrabook\n",
    "類別：電腦與筆記型電腦\n",
    "品牌：TechPro\n",
    "型號：TP-UB100\n",
    "保固：1 年\n",
    "評價：4.5\n",
    "功能：13.3 英寸顯示器，8GB RAM，256GB SSD，Intel Core i5處理器\n",
    "描述：適合日常使用的纖薄輕巧的超級筆記本電腦。\n",
    "價格：$799.99\n",
    "\n",
    "2.\n",
    "產品：BlueWave Gaming Laptop\n",
    "類別：電腦與筆記型電腦\n",
    "品牌：BlueWave\n",
    "型號：BW-GL200\n",
    "保固：2 年\n",
    "評價：4.7\n",
    "功能：15.6 英寸顯示器，16GB RAM，512GB SSD，NVIDIA GeForce RTX 3060\n",
    "描述：提供身臨其境體驗的高性能遊戲筆記本電腦。\n",
    "價格：$1199.99\"\n",
    "\n",
    "3. \n",
    "產品：PowerLite Convertible\n",
    "類別：電腦與筆記型電腦\n",
    "品牌：PowerLite\n",
    "型號：PL-CV300\n",
    "保固：1 年\n",
    "評價：4.3\n",
    "功能：14 英寸觸控螢幕，8GB RAM，256GB SSD，360 度轉軸\n",
    "描述：靈活多變的可轉換筆記本電腦，具有反應靈敏的觸控螢幕。\n",
    "價格：$699.99\n",
    "\n",
    "4.\n",
    "產品：TechPro Desktop\n",
    "類別：電腦與筆記型電腦\n",
    "品牌：TechPro\n",
    "型號：TP-DT500\n",
    "保固：1 年\n",
    "評價：4.4\n",
    "功能：Intel Core i7 處理器，16GB RAM，1TB HDD，NVIDIA GeForce GTX 1660\n",
    "描述：適用於工作和娛樂的強大桌面電腦。\n",
    "價格：$999.99\"\n",
    "\n",
    "5. \n",
    "產品：BlueWave Chromebook\n",
    "類別：電腦與筆記型電腦\n",
    "品牌：BlueWave\n",
    "型號：BW-CB100\n",
    "保固：1 年\n",
    "評價：4.1\n",
    "功能：11.6 英寸顯示器，4GB RAM，32GB eMMC，Chrome OS\n",
    "描述：適合日常任務的緊湊型且價格適中的 Chromebook。\n",
    "價格：$249.99\n",
    "\n",
    "步驟三：{delimiter} 如果訊息中包含上述清單中的產品，列出使用者在他們的訊息中可能做出的任何假設，\\\n",
    "例如，認為筆記本電腦 X 比筆記本電腦 Y 大，或者認為筆記本電腦 Z 有2年保固。\n",
    "\n",
    "步驟四：{delimiter} 如果使用者做出了任何假設，根據您的產品資訊判定這個假設是否正確。\n",
    "\n",
    "步驟五：{delimiter} 首先，如果適用，禮貌地糾正客戶的不正確假設。\\\n",
    "只提及或參考上述5個可用產品清單中的產品，因為這些是商店唯一出售的5種產品。以友善的語調回答客戶。\n",
    "\n",
    "請使用以下格式：\n",
    "步驟一：{delimiter} <步驟一的推理>\n",
    "步驟二：{delimiter} <步驟二的推理>\n",
    "步驟三：{delimiter} <步驟三的推理>\n",
    "步驟四：{delimiter} <步驟四的推理>\n",
    "對使用者的回應：{delimiter} <對客戶的回應>\n",
    "\n",
    "確保在每個步驟之間包含 {delimiter} 進行分隔。\n",
    "\"\"\"\n"
   ]
  },
  {
   "cell_type": "code",
   "execution_count": 8,
   "id": "fa2d33c9",
   "metadata": {
    "height": 234
   },
   "outputs": [
    {
     "name": "stdout",
     "output_type": "stream",
     "text": [
      "Step 1:#### 使用者正在詢問有關特定產品的問題。\n",
      "\n",
      "Step 2:#### 使用者提到了兩個產品：BlueWave Chromebook和TechPro Desktop。\n",
      "\n",
      "Step 3:#### 使用者沒有提到任何假設。\n",
      "\n",
      "Step 4:#### 根據產品資訊，我們可以比較這兩個產品的價格。\n",
      "\n",
      "TechPro Desktop的價格是$999.99，而BlueWave Chromebook的價格是$249.99。\n",
      "\n",
      "Step 5:#### BlueWave Chromebook比TechPro Desktop便宜$750。\n",
      "\n",
      "回答使用者：#### BlueWave Chromebook比TechPro Desktop便宜$750。\n"
     ]
    }
   ],
   "source": [
    "user_message = f\"\"\"\n",
    "BlueWave Chromebook 比 TechPro Desktop 貴多少錢。請用中文回答。\"\"\"\n",
    "\n",
    "messages =  [  \n",
    "{'role':'system', \n",
    " 'content': system_message},    \n",
    "{'role':'user', \n",
    " 'content': f\"{delimiter}{user_message}{delimiter}\"},  \n",
    "] \n",
    "\n",
    "response = get_completion_from_messages(messages)\n",
    "print(response)\n"
   ]
  },
  {
   "cell_type": "code",
   "execution_count": 17,
   "id": "f51afe6d",
   "metadata": {
    "height": 183
   },
   "outputs": [
    {
     "name": "stdout",
     "output_type": "stream",
     "text": [
      "Step 1:#### The user is asking if the store sells TVs, which is a question about a specific product category.\n",
      "\n",
      "Step 2:#### TVs are not included in the list of available products. The store only sells computers and laptops.\n",
      "\n",
      "Response to user:#### I'm sorry, but we currently do not sell TVs. Our store specializes in computers and laptops. If you have any questions or need assistance with our available products, feel free to ask.\n"
     ]
    }
   ],
   "source": [
    "user_message = f\"\"\"\n",
    "do you sell tvs\"\"\"\n",
    "messages =  [  \n",
    "{'role':'system', \n",
    " 'content': system_message},    \n",
    "{'role':'user', \n",
    " 'content': f\"{delimiter}{user_message}{delimiter}\"},  \n",
    "] \n",
    "response = get_completion_from_messages(messages)\n",
    "print(response)\n"
   ]
  },
  {
   "cell_type": "code",
   "execution_count": 14,
   "id": "ebb19322",
   "metadata": {
    "height": 183
   },
   "outputs": [
    {
     "name": "stdout",
     "output_type": "stream",
     "text": [
      "步驟一：#### 使用者正在詢問有關特定產品的問題。\n",
      "\n",
      "步驟二：#### 使用者詢問是否有賣電視。\n",
      "\n",
      "步驟三：#### 使用者可能假設商店有賣電視。\n",
      "\n",
      "步驟四：#### 根據提供的產品清單，商店並沒有列出任何電視產品。\n",
      "\n",
      "對使用者的回應：#### 很抱歉，我們目前沒有販售電視產品。我們主要專注於電腦與筆記型電腦的銷售。如果您對其他產品有任何問題，我們很樂意為您解答。\n"
     ]
    }
   ],
   "source": [
    "user_message = f\"\"\"\n",
    "你們有賣電視嗎? 請用中文回答。\"\"\"\n",
    "messages =  [  \n",
    "{'role':'system', \n",
    " 'content': system_message},    \n",
    "{'role':'user', \n",
    " 'content': f\"{delimiter}{user_message}{delimiter}\"},  \n",
    "] \n",
    "response = get_completion_from_messages(messages)\n",
    "print(response)\n"
   ]
  },
  {
   "cell_type": "markdown",
   "id": "a552a4f6-5e65-4d85-9579-5263f720aa10",
   "metadata": {},
   "source": [
    "## Inner Monologue\n",
    "- Since we asked the LLM to separate its reasoning steps by a delimiter, we can hide the chain-of-thought reasoning from the final output that the user sees."
   ]
  },
  {
   "cell_type": "code",
   "execution_count": 18,
   "id": "691e0a6a",
   "metadata": {
    "height": 115
   },
   "outputs": [
    {
     "name": "stdout",
     "output_type": "stream",
     "text": [
      "I'm sorry, but we currently do not sell TVs. Our store specializes in computers and laptops. If you have any questions or need assistance with our available products, feel free to ask.\n"
     ]
    }
   ],
   "source": [
    "try:\n",
    "    final_response = response.split(delimiter)[-1].strip()\n",
    "except Exception as e:\n",
    "    final_response = \"Sorry, I'm having trouble right now, please try asking another question.\"\n",
    "    \n",
    "print(final_response)\n"
   ]
  },
  {
   "cell_type": "code",
   "execution_count": 15,
   "id": "2a825237",
   "metadata": {
    "height": 115
   },
   "outputs": [
    {
     "name": "stdout",
     "output_type": "stream",
     "text": [
      "很抱歉，我們目前沒有販售電視產品。我們主要專注於電腦與筆記型電腦的銷售。如果您對其他產品有任何問題，我們很樂意為您解答。\n"
     ]
    }
   ],
   "source": [
    "try:\n",
    "    final_response = response.split(delimiter)[-1].strip()\n",
    "except Exception as e:\n",
    "    final_response = \"對不起，我現在遇到一些困難，請嘗試提出其他問題。\"\n",
    "    \n",
    "print(final_response)\n"
   ]
  },
  {
   "cell_type": "code",
   "execution_count": null,
   "id": "f7470753",
   "metadata": {
    "height": 30
   },
   "outputs": [],
   "source": []
  }
 ],
 "metadata": {
  "kernelspec": {
   "display_name": "Python 3 (ipykernel)",
   "language": "python",
   "name": "python3"
  },
  "language_info": {
   "codemirror_mode": {
    "name": "ipython",
    "version": 3
   },
   "file_extension": ".py",
   "mimetype": "text/x-python",
   "name": "python",
   "nbconvert_exporter": "python",
   "pygments_lexer": "ipython3",
   "version": "3.9.6"
  }
 },
 "nbformat": 4,
 "nbformat_minor": 5
}
