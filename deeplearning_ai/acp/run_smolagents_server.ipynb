{
 "cells": [
  {
   "cell_type": "markdown",
   "id": "5ec18ad0-9932-4a3b-bc4a-250eaa1d5ac6",
   "metadata": {},
   "source": [
    "### How to update the my_acp_project locally on your machine so you can run the second server?\n",
    "- cd my_acp_project\n",
    "- uv add smolagents duckduckgo-search markdownify requests"
   ]
  },
  {
   "cell_type": "code",
   "execution_count": 1,
   "id": "a880bc18-a3c5-4c5c-ae1d-14f9a674998b",
   "metadata": {},
   "outputs": [
    {
     "name": "stdout",
     "output_type": "stream",
     "text": [
      "http://localhost:8871\n"
     ]
    },
    {
     "data": {
      "text/html": [
       "\n",
       "        <iframe\n",
       "            width=\"800\"\n",
       "            height=\"600\"\n",
       "            src=\"http://localhost:8871/terminals/3\"\n",
       "            frameborder=\"0\"\n",
       "            allowfullscreen\n",
       "            \n",
       "        ></iframe>\n",
       "        "
      ],
      "text/plain": [
       "<IPython.lib.display.IFrame at 0x107075550>"
      ]
     },
     "execution_count": 1,
     "metadata": {},
     "output_type": "execute_result"
    }
   ],
   "source": [
    "from IPython.display import IFrame\n",
    "import os\n",
    "os.environ['DLAI_LOCAL_URL'] = 'http://localhost:{port}'\n",
    "\n",
    "url = os.environ.get('DLAI_LOCAL_URL').format(port=8871)\n",
    "print(url)\n",
    "\n",
    "IFrame(f\"{url}/terminals/3\", width=800, height=600)"
   ]
  },
  {
   "cell_type": "code",
   "execution_count": null,
   "id": "430dda4c-0914-40e0-aae7-ad00f68f2c45",
   "metadata": {},
   "outputs": [],
   "source": []
  }
 ],
 "metadata": {
  "kernelspec": {
   "display_name": "Python 3 (ipykernel)",
   "language": "python",
   "name": "python3"
  },
  "language_info": {
   "codemirror_mode": {
    "name": "ipython",
    "version": 3
   },
   "file_extension": ".py",
   "mimetype": "text/x-python",
   "name": "python",
   "nbconvert_exporter": "python",
   "pygments_lexer": "ipython3",
   "version": "3.13.5"
  }
 },
 "nbformat": 4,
 "nbformat_minor": 5
}
