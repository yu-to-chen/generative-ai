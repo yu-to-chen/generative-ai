{
 "cells": [
  {
   "cell_type": "code",
   "execution_count": 1,
   "id": "c1beda6a-2fc3-4efa-9669-e571a7d90728",
   "metadata": {},
   "outputs": [
    {
     "name": "stdout",
     "output_type": "stream",
     "text": [
      "http://localhost:8871\n"
     ]
    },
    {
     "data": {
      "text/html": [
       "\n",
       "        <iframe\n",
       "            width=\"800\"\n",
       "            height=\"600\"\n",
       "            src=\"http://localhost:8871/terminals/2\"\n",
       "            frameborder=\"0\"\n",
       "            allowfullscreen\n",
       "            \n",
       "        ></iframe>\n",
       "        "
      ],
      "text/plain": [
       "<IPython.lib.display.IFrame at 0x110175550>"
      ]
     },
     "execution_count": 1,
     "metadata": {},
     "output_type": "execute_result"
    }
   ],
   "source": [
    "from IPython.display import IFrame\n",
    "import os\n",
    "os.environ['DLAI_LOCAL_URL'] = 'http://localhost:{port}'\n",
    "\n",
    "url = os.environ.get('DLAI_LOCAL_URL').format(port=8871)\n",
    "print(url)\n",
    "\n",
    "IFrame(f\"{url}/terminals/2\", width=800, height=600)"
   ]
  },
  {
   "cell_type": "code",
   "execution_count": 9,
   "id": "17b9f848-ee53-45b1-a7c5-30a0db15ee5f",
   "metadata": {},
   "outputs": [],
   "source": [
    "import nest_asyncio\n",
    "nest_asyncio.apply()"
   ]
  },
  {
   "cell_type": "code",
   "execution_count": 10,
   "id": "57a48f13-1ed3-485c-9c58-9191bc21eb24",
   "metadata": {},
   "outputs": [],
   "source": [
    "from acp_sdk.client import Client\n",
    "import asyncio\n",
    "from colorama import Fore \n",
    "\n",
    "async def example() -> None:\n",
    "    async with Client(base_url=\"http://localhost:8001\") as client:\n",
    "        run = await client.run_sync(\n",
    "            agent=\"research_agent\", \n",
    "            input=\"What is the system's architecture?\"\n",
    "        )\n",
    "        print(Fore.YELLOW + run.output[0].parts[0].content + Fore.RESET)"
   ]
  },
  {
   "cell_type": "code",
   "execution_count": 11,
   "id": "09ca6afa-19e2-4fcc-9fd3-d310112f583b",
   "metadata": {},
   "outputs": [
    {
     "name": "stdout",
     "output_type": "stream",
     "text": [
      "\u001b[33m本研究所提出之多模態RAG問答系統整合了語音與文字輸入、外部資料檢索以及大型語言模型的生成能力，具體設計給飼主、獸醫師及寵物照護從業人員使用。該系統結合檢索增強生成技術（Retrieval-Augmented Generation, RAG）和多模態技術，能夠整合專業文獻與社群經驗，以協助使用者獲得具體且可行的照護建議。\n",
      "\n",
      "整體流程如下：\n",
      "1. 使用者輸入處理：使用者可以透過文字、語音或圖片進行提問。若為語音輸入，系統會先透過Whisper進行語音轉換為文字的前處理。\n",
      "2. 資料檢索處理：根據問題進行語義檢索，從Chroma向量資料庫獲取相關專業文獻與社群討論內容。\n",
      "\n",
      "此系統有效整合了專業獸醫文獻、中醫獸醫學教材及飼主社群討論，並以圖像與文字雙重支援的方式提供實際可操作的建議。在理論方面，本研究提供了檢索增強生成技術與多模態技術結合應用於專業領域問答系統的實證案例與效能驗證；在實務方面，透過此系統，飼主能迅速取得結合專業與實務經驗的完整資訊，獸醫師及寵物照護從業人員也能更有效地掌握及傳遞專業知識與臨床經驗。\u001b[39m\n"
     ]
    }
   ],
   "source": [
    "asyncio.run(example())"
   ]
  },
  {
   "cell_type": "code",
   "execution_count": null,
   "id": "0a66c02b-65f8-41c8-bf58-687a98e0e9b9",
   "metadata": {},
   "outputs": [],
   "source": []
  }
 ],
 "metadata": {
  "kernelspec": {
   "display_name": "Python (env13)",
   "language": "python",
   "name": "env13"
  },
  "language_info": {
   "codemirror_mode": {
    "name": "ipython",
    "version": 3
   },
   "file_extension": ".py",
   "mimetype": "text/x-python",
   "name": "python",
   "nbconvert_exporter": "python",
   "pygments_lexer": "ipython3",
   "version": "3.13.5"
  }
 },
 "nbformat": 4,
 "nbformat_minor": 5
}
