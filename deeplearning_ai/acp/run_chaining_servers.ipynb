{
 "cells": [
  {
   "cell_type": "markdown",
   "id": "5ec18ad0-9932-4a3b-bc4a-250eaa1d5ac6",
   "metadata": {},
   "source": [
    "### How to update the my_acp_project locally on your machine so you can run the second server?\n",
    "- cd my_acp_project\n",
    "- uv add smolagents duckduckgo-search markdownify requests"
   ]
  },
  {
   "cell_type": "markdown",
   "id": "91ebd47a-75b1-4a44-a827-1719bcfc1d65",
   "metadata": {},
   "source": [
    "### Step 1. kill processes in localhost :8000 and :8001\n",
    "- lsof -i :8001\n",
    "- kill -9 99107\n",
    "### Step 2. Run crewai research_agent in Terminal 1\n",
    "- uv run test_crew_server.py\n",
    "### Step 3. Run smolagents genai_agent in Terminal 2\n",
    "- uv run test_smolagents_server.py"
   ]
  },
  {
   "cell_type": "code",
   "execution_count": 1,
   "id": "a880bc18-a3c5-4c5c-ae1d-14f9a674998b",
   "metadata": {},
   "outputs": [
    {
     "name": "stdout",
     "output_type": "stream",
     "text": [
      "http://localhost:8871\n"
     ]
    },
    {
     "data": {
      "text/html": [
       "\n",
       "        <iframe\n",
       "            width=\"800\"\n",
       "            height=\"600\"\n",
       "            src=\"http://localhost:8871/terminals/1\"\n",
       "            frameborder=\"0\"\n",
       "            allowfullscreen\n",
       "            \n",
       "        ></iframe>\n",
       "        "
      ],
      "text/plain": [
       "<IPython.lib.display.IFrame at 0x105975550>"
      ]
     },
     "execution_count": 1,
     "metadata": {},
     "output_type": "execute_result"
    }
   ],
   "source": [
    "from IPython.display import IFrame\n",
    "import os\n",
    "os.environ['DLAI_LOCAL_URL'] = 'http://localhost:{port}'\n",
    "\n",
    "url = os.environ.get('DLAI_LOCAL_URL').format(port=8871)\n",
    "print(url)\n",
    "\n",
    "IFrame(f\"{url}/terminals/1\", width=800, height=600)"
   ]
  },
  {
   "cell_type": "code",
   "execution_count": 1,
   "id": "430dda4c-0914-40e0-aae7-ad00f68f2c45",
   "metadata": {},
   "outputs": [
    {
     "name": "stdout",
     "output_type": "stream",
     "text": [
      "http://localhost:8871\n"
     ]
    },
    {
     "data": {
      "text/html": [
       "\n",
       "        <iframe\n",
       "            width=\"800\"\n",
       "            height=\"600\"\n",
       "            src=\"http://localhost:8871/terminals/2\"\n",
       "            frameborder=\"0\"\n",
       "            allowfullscreen\n",
       "            \n",
       "        ></iframe>\n",
       "        "
      ],
      "text/plain": [
       "<IPython.lib.display.IFrame at 0x1133656a0>"
      ]
     },
     "execution_count": 1,
     "metadata": {},
     "output_type": "execute_result"
    }
   ],
   "source": [
    "from IPython.display import IFrame\n",
    "import os\n",
    "os.environ['DLAI_LOCAL_URL'] = 'http://localhost:{port}'\n",
    "\n",
    "url = os.environ.get('DLAI_LOCAL_URL').format(port=8871)\n",
    "print(url)\n",
    "\n",
    "IFrame(f\"{url}/terminals/2\", width=800, height=600)"
   ]
  },
  {
   "cell_type": "code",
   "execution_count": 2,
   "id": "433e7913-b0ca-4fa8-8ff8-70609b53056d",
   "metadata": {},
   "outputs": [],
   "source": [
    "import nest_asyncio\n",
    "nest_asyncio.apply()"
   ]
  },
  {
   "cell_type": "code",
   "execution_count": 3,
   "id": "abb252bf-a428-4d97-975a-4e13d00a593e",
   "metadata": {},
   "outputs": [],
   "source": [
    "from acp_sdk.client import Client\n",
    "import asyncio\n",
    "from colorama import Fore \n",
    "\n",
    "async def run_department_workflow() -> None:\n",
    "    async with Client(base_url=\"http://localhost:8001\") as thesis, Client(base_url=\"http://localhost:8000\") as department:\n",
    "        run1 = await department.run_sync(\n",
    "            agent=\"genai_agent\", input=\"Is multimodal LLM good for dog care research?\"\n",
    "        )\n",
    "        content = run1.output[0].parts[0].content\n",
    "        print(Fore.LIGHTMAGENTA_EX+ content + Fore.RESET)\n",
    "\n",
    "        run2 = await thesis.run_sync(\n",
    "            agent=\"research_agent\", input=f\"Context: {content} What is the most common treatment for aging dogs?\"\n",
    "        )\n",
    "        print(Fore.YELLOW + run2.output[0].parts[0].content + Fore.RESET)"
   ]
  },
  {
   "cell_type": "code",
   "execution_count": 4,
   "id": "10807804-449d-4479-aae5-66a7ad0a6961",
   "metadata": {},
   "outputs": [
    {
     "name": "stdout",
     "output_type": "stream",
     "text": [
      "\u001b[95mPossibly, as Multimodal LLMs integrate multiple types of data and offer a comprehensive understanding, they could be beneficial for dog care research. However, definitive data or examples specific to dog care research are currently unavailable.\u001b[39m\n",
      "\u001b[33mThe most common treatment for aging dogs often involves a combination of diet management, physical activity, and medication to manage symptoms such as joint pain and cognitive decline. Exercise can help maintain mobility and prevent muscle atrophy. A balanced diet with supplements like glucosamine and chondroitin may support joint health. Medications prescribed by veterinarians might include anti-inflammatory drugs or other treatments for specific conditions.\u001b[39m\n"
     ]
    }
   ],
   "source": [
    "asyncio.run(run_department_workflow())"
   ]
  },
  {
   "cell_type": "code",
   "execution_count": null,
   "id": "08b9a044-94a3-41cd-ab0c-1231b66e67a4",
   "metadata": {},
   "outputs": [],
   "source": []
  }
 ],
 "metadata": {
  "kernelspec": {
   "display_name": "Python (env13)",
   "language": "python",
   "name": "env13"
  },
  "language_info": {
   "codemirror_mode": {
    "name": "ipython",
    "version": 3
   },
   "file_extension": ".py",
   "mimetype": "text/x-python",
   "name": "python",
   "nbconvert_exporter": "python",
   "pygments_lexer": "ipython3",
   "version": "3.13.5"
  }
 },
 "nbformat": 4,
 "nbformat_minor": 5
}
