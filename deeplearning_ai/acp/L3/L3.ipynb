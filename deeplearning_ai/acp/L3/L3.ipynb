{
 "cells": [
  {
   "cell_type": "markdown",
   "id": "58502ae5-b320-4097-a5fb-1a7fabd62ed5",
   "metadata": {},
   "source": [
    "# Lesson 3 - Building a RAG Agent with CrewAI"
   ]
  },
  {
   "cell_type": "markdown",
   "id": "fa297dfd",
   "metadata": {},
   "source": [
    "In this lesson, you will build a RAG agent with `CrewAI`. You will do that by integrating `RagTool` from `crewai_tools` with a `CrewAI` agent. `RagTool` provides a way to create and query knowledge bases from various data sources, and allows the agent to access specialized context. In this lesson, you will provide the RAG tool a pdf file containing details about insurance coverage provided by a private health insurer. By the end of the lesson, you will build an insurer agent specialized in answering queries related to health benefits. In the next lessons, you will wrap this agent in an ACP server and make it interact with other ACP agents."
   ]
  },
  {
   "cell_type": "markdown",
   "id": "cad74450",
   "metadata": {},
   "source": [
    "<p style=\"background-color:#fff6ff; padding:15px; border-width:3px; border-color:#efe6ef; border-style:solid; border-radius:6px\"> 💻 &nbsp; <b>To Access <code>requirements.txt</code> and the <code>data</code> files:</b> 1) click on the <em>\"File\"</em> option on the top menu of the notebook and then 2) click on <em>\"Open\"</em>. For more help, please see the <em>\"Appendix – Tips, Help, and Download\"</em> Lesson.</p>"
   ]
  },
  {
   "cell_type": "markdown",
   "id": "b500d665",
   "metadata": {},
   "source": [
    "## 3.1. Import Libraries"
   ]
  },
  {
   "cell_type": "code",
   "execution_count": 1,
   "id": "d97291c4-6b29-41cd-8aad-e9e0c12bf493",
   "metadata": {},
   "outputs": [
    {
     "name": "stdout",
     "output_type": "stream",
     "text": [
      "Requirement already satisfied: crewai[tools] in /Users/ytchen/Documents/experimental/ACP/env/lib/python3.10/site-packages (0.134.0)\n",
      "Requirement already satisfied: appdirs>=1.4.4 in /Users/ytchen/Documents/experimental/ACP/env/lib/python3.10/site-packages (from crewai[tools]) (1.4.4)\n",
      "Requirement already satisfied: auth0-python>=4.7.1 in /Users/ytchen/Documents/experimental/ACP/env/lib/python3.10/site-packages (from crewai[tools]) (4.10.0)\n",
      "Requirement already satisfied: blinker>=1.9.0 in /Users/ytchen/Documents/experimental/ACP/env/lib/python3.10/site-packages (from crewai[tools]) (1.9.0)\n",
      "Requirement already satisfied: chromadb>=0.5.23 in /Users/ytchen/Documents/experimental/ACP/env/lib/python3.10/site-packages (from crewai[tools]) (0.5.23)\n",
      "Requirement already satisfied: click>=8.1.7 in /Users/ytchen/Documents/experimental/ACP/env/lib/python3.10/site-packages (from crewai[tools]) (8.2.1)\n",
      "Requirement already satisfied: instructor>=1.3.3 in /Users/ytchen/Documents/experimental/ACP/env/lib/python3.10/site-packages (from crewai[tools]) (1.9.0)\n",
      "Requirement already satisfied: json-repair>=0.25.2 in /Users/ytchen/Documents/experimental/ACP/env/lib/python3.10/site-packages (from crewai[tools]) (0.47.3)\n",
      "Requirement already satisfied: json5>=0.10.0 in /Users/ytchen/Documents/experimental/ACP/env/lib/python3.10/site-packages (from crewai[tools]) (0.12.0)\n",
      "Requirement already satisfied: jsonref>=1.1.0 in /Users/ytchen/Documents/experimental/ACP/env/lib/python3.10/site-packages (from crewai[tools]) (1.1.0)\n",
      "Requirement already satisfied: litellm==1.72.0 in /Users/ytchen/Documents/experimental/ACP/env/lib/python3.10/site-packages (from crewai[tools]) (1.72.0)\n",
      "Requirement already satisfied: onnxruntime==1.22.0 in /Users/ytchen/Documents/experimental/ACP/env/lib/python3.10/site-packages (from crewai[tools]) (1.22.0)\n",
      "Requirement already satisfied: openai>=1.13.3 in /Users/ytchen/Documents/experimental/ACP/env/lib/python3.10/site-packages (from crewai[tools]) (1.92.2)\n",
      "Requirement already satisfied: openpyxl>=3.1.5 in /Users/ytchen/Documents/experimental/ACP/env/lib/python3.10/site-packages (from crewai[tools]) (3.1.5)\n",
      "Requirement already satisfied: opentelemetry-api>=1.30.0 in /Users/ytchen/Documents/experimental/ACP/env/lib/python3.10/site-packages (from crewai[tools]) (1.34.1)\n",
      "Requirement already satisfied: opentelemetry-exporter-otlp-proto-http>=1.30.0 in /Users/ytchen/Documents/experimental/ACP/env/lib/python3.10/site-packages (from crewai[tools]) (1.34.1)\n",
      "Requirement already satisfied: opentelemetry-sdk>=1.30.0 in /Users/ytchen/Documents/experimental/ACP/env/lib/python3.10/site-packages (from crewai[tools]) (1.34.1)\n",
      "Requirement already satisfied: pdfplumber>=0.11.4 in /Users/ytchen/Documents/experimental/ACP/env/lib/python3.10/site-packages (from crewai[tools]) (0.11.7)\n",
      "Requirement already satisfied: pydantic>=2.4.2 in /Users/ytchen/Documents/experimental/ACP/env/lib/python3.10/site-packages (from crewai[tools]) (2.11.7)\n",
      "Requirement already satisfied: python-dotenv>=1.0.0 in /Users/ytchen/Documents/experimental/ACP/env/lib/python3.10/site-packages (from crewai[tools]) (1.1.1)\n",
      "Requirement already satisfied: pyvis>=0.3.2 in /Users/ytchen/Documents/experimental/ACP/env/lib/python3.10/site-packages (from crewai[tools]) (0.3.2)\n",
      "Requirement already satisfied: regex>=2024.9.11 in /Users/ytchen/Documents/experimental/ACP/env/lib/python3.10/site-packages (from crewai[tools]) (2024.11.6)\n",
      "Requirement already satisfied: tokenizers>=0.20.3 in /Users/ytchen/Documents/experimental/ACP/env/lib/python3.10/site-packages (from crewai[tools]) (0.20.3)\n",
      "Requirement already satisfied: tomli-w>=1.1.0 in /Users/ytchen/Documents/experimental/ACP/env/lib/python3.10/site-packages (from crewai[tools]) (1.2.0)\n",
      "Requirement already satisfied: tomli>=2.0.2 in /Users/ytchen/Documents/experimental/ACP/env/lib/python3.10/site-packages (from crewai[tools]) (2.2.1)\n",
      "Requirement already satisfied: uv>=0.4.25 in /Users/ytchen/Documents/experimental/ACP/env/lib/python3.10/site-packages (from crewai[tools]) (0.7.15)\n",
      "Requirement already satisfied: crewai-tools~=0.48.0 in /Users/ytchen/Documents/experimental/ACP/env/lib/python3.10/site-packages (from crewai[tools]) (0.48.0)\n",
      "Requirement already satisfied: aiohttp in /Users/ytchen/Documents/experimental/ACP/env/lib/python3.10/site-packages (from litellm==1.72.0->crewai[tools]) (3.12.13)\n",
      "Requirement already satisfied: httpx>=0.23.0 in /Users/ytchen/Documents/experimental/ACP/env/lib/python3.10/site-packages (from litellm==1.72.0->crewai[tools]) (0.28.1)\n",
      "Requirement already satisfied: importlib-metadata>=6.8.0 in /Users/ytchen/Documents/experimental/ACP/env/lib/python3.10/site-packages (from litellm==1.72.0->crewai[tools]) (8.7.0)\n",
      "Requirement already satisfied: jinja2<4.0.0,>=3.1.2 in /Users/ytchen/Documents/experimental/ACP/env/lib/python3.10/site-packages (from litellm==1.72.0->crewai[tools]) (3.1.6)\n",
      "Requirement already satisfied: jsonschema<5.0.0,>=4.22.0 in /Users/ytchen/Documents/experimental/ACP/env/lib/python3.10/site-packages (from litellm==1.72.0->crewai[tools]) (4.24.0)\n",
      "Requirement already satisfied: tiktoken>=0.7.0 in /Users/ytchen/Documents/experimental/ACP/env/lib/python3.10/site-packages (from litellm==1.72.0->crewai[tools]) (0.9.0)\n",
      "Requirement already satisfied: coloredlogs in /Users/ytchen/Documents/experimental/ACP/env/lib/python3.10/site-packages (from onnxruntime==1.22.0->crewai[tools]) (15.0.1)\n",
      "Requirement already satisfied: flatbuffers in /Users/ytchen/Documents/experimental/ACP/env/lib/python3.10/site-packages (from onnxruntime==1.22.0->crewai[tools]) (25.2.10)\n",
      "Requirement already satisfied: numpy>=1.21.6 in /Users/ytchen/Documents/experimental/ACP/env/lib/python3.10/site-packages (from onnxruntime==1.22.0->crewai[tools]) (2.2.6)\n",
      "Requirement already satisfied: packaging in /Users/ytchen/Documents/experimental/ACP/env/lib/python3.10/site-packages (from onnxruntime==1.22.0->crewai[tools]) (24.2)\n",
      "Requirement already satisfied: protobuf in /Users/ytchen/Documents/experimental/ACP/env/lib/python3.10/site-packages (from onnxruntime==1.22.0->crewai[tools]) (5.29.5)\n",
      "Requirement already satisfied: sympy in /Users/ytchen/Documents/experimental/ACP/env/lib/python3.10/site-packages (from onnxruntime==1.22.0->crewai[tools]) (1.14.0)\n",
      "Requirement already satisfied: docker>=7.1.0 in /Users/ytchen/Documents/experimental/ACP/env/lib/python3.10/site-packages (from crewai-tools~=0.48.0->crewai[tools]) (7.1.0)\n",
      "Requirement already satisfied: embedchain>=0.1.114 in /Users/ytchen/Documents/experimental/ACP/env/lib/python3.10/site-packages (from crewai-tools~=0.48.0->crewai[tools]) (0.1.128)\n",
      "Requirement already satisfied: lancedb>=0.5.4 in /Users/ytchen/Documents/experimental/ACP/env/lib/python3.10/site-packages (from crewai-tools~=0.48.0->crewai[tools]) (0.24.0)\n",
      "Requirement already satisfied: pyright>=1.1.350 in /Users/ytchen/Documents/experimental/ACP/env/lib/python3.10/site-packages (from crewai-tools~=0.48.0->crewai[tools]) (1.1.402)\n",
      "Requirement already satisfied: pytube>=15.0.0 in /Users/ytchen/Documents/experimental/ACP/env/lib/python3.10/site-packages (from crewai-tools~=0.48.0->crewai[tools]) (15.0.0)\n",
      "Requirement already satisfied: requests>=2.31.0 in /Users/ytchen/Documents/experimental/ACP/env/lib/python3.10/site-packages (from crewai-tools~=0.48.0->crewai[tools]) (2.32.4)\n",
      "Requirement already satisfied: MarkupSafe>=2.0 in /Users/ytchen/Documents/experimental/ACP/env/lib/python3.10/site-packages (from jinja2<4.0.0,>=3.1.2->litellm==1.72.0->crewai[tools]) (3.0.2)\n",
      "Requirement already satisfied: attrs>=22.2.0 in /Users/ytchen/Documents/experimental/ACP/env/lib/python3.10/site-packages (from jsonschema<5.0.0,>=4.22.0->litellm==1.72.0->crewai[tools]) (25.3.0)\n",
      "Requirement already satisfied: jsonschema-specifications>=2023.03.6 in /Users/ytchen/Documents/experimental/ACP/env/lib/python3.10/site-packages (from jsonschema<5.0.0,>=4.22.0->litellm==1.72.0->crewai[tools]) (2025.4.1)\n",
      "Requirement already satisfied: referencing>=0.28.4 in /Users/ytchen/Documents/experimental/ACP/env/lib/python3.10/site-packages (from jsonschema<5.0.0,>=4.22.0->litellm==1.72.0->crewai[tools]) (0.36.2)\n",
      "Requirement already satisfied: rpds-py>=0.7.1 in /Users/ytchen/Documents/experimental/ACP/env/lib/python3.10/site-packages (from jsonschema<5.0.0,>=4.22.0->litellm==1.72.0->crewai[tools]) (0.25.1)\n",
      "Requirement already satisfied: annotated-types>=0.6.0 in /Users/ytchen/Documents/experimental/ACP/env/lib/python3.10/site-packages (from pydantic>=2.4.2->crewai[tools]) (0.7.0)\n",
      "Requirement already satisfied: pydantic-core==2.33.2 in /Users/ytchen/Documents/experimental/ACP/env/lib/python3.10/site-packages (from pydantic>=2.4.2->crewai[tools]) (2.33.2)\n",
      "Requirement already satisfied: typing-extensions>=4.12.2 in /Users/ytchen/Documents/experimental/ACP/env/lib/python3.10/site-packages (from pydantic>=2.4.2->crewai[tools]) (4.14.0)\n",
      "Requirement already satisfied: typing-inspection>=0.4.0 in /Users/ytchen/Documents/experimental/ACP/env/lib/python3.10/site-packages (from pydantic>=2.4.2->crewai[tools]) (0.4.1)\n",
      "Requirement already satisfied: cryptography>=43.0.1 in /Users/ytchen/Documents/experimental/ACP/env/lib/python3.10/site-packages (from auth0-python>=4.7.1->crewai[tools]) (45.0.4)\n",
      "Requirement already satisfied: pyjwt>=2.8.0 in /Users/ytchen/Documents/experimental/ACP/env/lib/python3.10/site-packages (from auth0-python>=4.7.1->crewai[tools]) (2.10.1)\n",
      "Requirement already satisfied: urllib3>=2.2.3 in /Users/ytchen/Documents/experimental/ACP/env/lib/python3.10/site-packages (from auth0-python>=4.7.1->crewai[tools]) (2.5.0)\n",
      "Requirement already satisfied: aiohappyeyeballs>=2.5.0 in /Users/ytchen/Documents/experimental/ACP/env/lib/python3.10/site-packages (from aiohttp->litellm==1.72.0->crewai[tools]) (2.6.1)\n",
      "Requirement already satisfied: aiosignal>=1.1.2 in /Users/ytchen/Documents/experimental/ACP/env/lib/python3.10/site-packages (from aiohttp->litellm==1.72.0->crewai[tools]) (1.3.2)\n",
      "Requirement already satisfied: async-timeout<6.0,>=4.0 in /Users/ytchen/Documents/experimental/ACP/env/lib/python3.10/site-packages (from aiohttp->litellm==1.72.0->crewai[tools]) (4.0.3)\n",
      "Requirement already satisfied: frozenlist>=1.1.1 in /Users/ytchen/Documents/experimental/ACP/env/lib/python3.10/site-packages (from aiohttp->litellm==1.72.0->crewai[tools]) (1.7.0)\n",
      "Requirement already satisfied: multidict<7.0,>=4.5 in /Users/ytchen/Documents/experimental/ACP/env/lib/python3.10/site-packages (from aiohttp->litellm==1.72.0->crewai[tools]) (6.5.1)\n",
      "Requirement already satisfied: propcache>=0.2.0 in /Users/ytchen/Documents/experimental/ACP/env/lib/python3.10/site-packages (from aiohttp->litellm==1.72.0->crewai[tools]) (0.3.2)\n",
      "Requirement already satisfied: yarl<2.0,>=1.17.0 in /Users/ytchen/Documents/experimental/ACP/env/lib/python3.10/site-packages (from aiohttp->litellm==1.72.0->crewai[tools]) (1.20.1)\n",
      "Requirement already satisfied: idna>=2.0 in /Users/ytchen/Documents/experimental/ACP/env/lib/python3.10/site-packages (from yarl<2.0,>=1.17.0->aiohttp->litellm==1.72.0->crewai[tools]) (3.10)\n",
      "Requirement already satisfied: build>=1.0.3 in /Users/ytchen/Documents/experimental/ACP/env/lib/python3.10/site-packages (from chromadb>=0.5.23->crewai[tools]) (1.2.2.post1)\n",
      "Requirement already satisfied: chroma-hnswlib==0.7.6 in /Users/ytchen/Documents/experimental/ACP/env/lib/python3.10/site-packages (from chromadb>=0.5.23->crewai[tools]) (0.7.6)\n",
      "Requirement already satisfied: fastapi>=0.95.2 in /Users/ytchen/Documents/experimental/ACP/env/lib/python3.10/site-packages (from chromadb>=0.5.23->crewai[tools]) (0.115.14)\n",
      "Requirement already satisfied: uvicorn>=0.18.3 in /Users/ytchen/Documents/experimental/ACP/env/lib/python3.10/site-packages (from uvicorn[standard]>=0.18.3->chromadb>=0.5.23->crewai[tools]) (0.34.3)\n",
      "Requirement already satisfied: posthog>=2.4.0 in /Users/ytchen/Documents/experimental/ACP/env/lib/python3.10/site-packages (from chromadb>=0.5.23->crewai[tools]) (3.25.0)\n",
      "Requirement already satisfied: opentelemetry-exporter-otlp-proto-grpc>=1.2.0 in /Users/ytchen/Documents/experimental/ACP/env/lib/python3.10/site-packages (from chromadb>=0.5.23->crewai[tools]) (1.34.1)\n",
      "Requirement already satisfied: opentelemetry-instrumentation-fastapi>=0.41b0 in /Users/ytchen/Documents/experimental/ACP/env/lib/python3.10/site-packages (from chromadb>=0.5.23->crewai[tools]) (0.55b1)\n",
      "Requirement already satisfied: pypika>=0.48.9 in /Users/ytchen/Documents/experimental/ACP/env/lib/python3.10/site-packages (from chromadb>=0.5.23->crewai[tools]) (0.48.9)\n",
      "Requirement already satisfied: tqdm>=4.65.0 in /Users/ytchen/Documents/experimental/ACP/env/lib/python3.10/site-packages (from chromadb>=0.5.23->crewai[tools]) (4.67.1)\n",
      "Requirement already satisfied: overrides>=7.3.1 in /Users/ytchen/Documents/experimental/ACP/env/lib/python3.10/site-packages (from chromadb>=0.5.23->crewai[tools]) (7.7.0)\n",
      "Requirement already satisfied: importlib-resources in /Users/ytchen/Documents/experimental/ACP/env/lib/python3.10/site-packages (from chromadb>=0.5.23->crewai[tools]) (6.5.2)\n",
      "Requirement already satisfied: grpcio>=1.58.0 in /Users/ytchen/Documents/experimental/ACP/env/lib/python3.10/site-packages (from chromadb>=0.5.23->crewai[tools]) (1.73.1)\n",
      "Requirement already satisfied: bcrypt>=4.0.1 in /Users/ytchen/Documents/experimental/ACP/env/lib/python3.10/site-packages (from chromadb>=0.5.23->crewai[tools]) (4.3.0)\n",
      "Requirement already satisfied: typer>=0.9.0 in /Users/ytchen/Documents/experimental/ACP/env/lib/python3.10/site-packages (from chromadb>=0.5.23->crewai[tools]) (0.16.0)\n",
      "Requirement already satisfied: kubernetes>=28.1.0 in /Users/ytchen/Documents/experimental/ACP/env/lib/python3.10/site-packages (from chromadb>=0.5.23->crewai[tools]) (33.1.0)\n",
      "Requirement already satisfied: tenacity>=8.2.3 in /Users/ytchen/Documents/experimental/ACP/env/lib/python3.10/site-packages (from chromadb>=0.5.23->crewai[tools]) (9.1.2)\n",
      "Requirement already satisfied: PyYAML>=6.0.0 in /Users/ytchen/Documents/experimental/ACP/env/lib/python3.10/site-packages (from chromadb>=0.5.23->crewai[tools]) (6.0.2)\n",
      "Requirement already satisfied: mmh3>=4.0.1 in /Users/ytchen/Documents/experimental/ACP/env/lib/python3.10/site-packages (from chromadb>=0.5.23->crewai[tools]) (5.1.0)\n",
      "Requirement already satisfied: orjson>=3.9.12 in /Users/ytchen/Documents/experimental/ACP/env/lib/python3.10/site-packages (from chromadb>=0.5.23->crewai[tools]) (3.10.18)\n",
      "Requirement already satisfied: rich>=10.11.0 in /Users/ytchen/Documents/experimental/ACP/env/lib/python3.10/site-packages (from chromadb>=0.5.23->crewai[tools]) (13.9.4)\n",
      "Requirement already satisfied: huggingface-hub<1.0,>=0.16.4 in /Users/ytchen/Documents/experimental/ACP/env/lib/python3.10/site-packages (from tokenizers>=0.20.3->crewai[tools]) (0.33.1)\n",
      "Requirement already satisfied: filelock in /Users/ytchen/Documents/experimental/ACP/env/lib/python3.10/site-packages (from huggingface-hub<1.0,>=0.16.4->tokenizers>=0.20.3->crewai[tools]) (3.18.0)\n",
      "Requirement already satisfied: fsspec>=2023.5.0 in /Users/ytchen/Documents/experimental/ACP/env/lib/python3.10/site-packages (from huggingface-hub<1.0,>=0.16.4->tokenizers>=0.20.3->crewai[tools]) (2025.5.1)\n",
      "Requirement already satisfied: hf-xet<2.0.0,>=1.1.2 in /Users/ytchen/Documents/experimental/ACP/env/lib/python3.10/site-packages (from huggingface-hub<1.0,>=0.16.4->tokenizers>=0.20.3->crewai[tools]) (1.1.5)\n",
      "Requirement already satisfied: pyproject_hooks in /Users/ytchen/Documents/experimental/ACP/env/lib/python3.10/site-packages (from build>=1.0.3->chromadb>=0.5.23->crewai[tools]) (1.2.0)\n",
      "Requirement already satisfied: cffi>=1.14 in /Users/ytchen/Documents/experimental/ACP/env/lib/python3.10/site-packages (from cryptography>=43.0.1->auth0-python>=4.7.1->crewai[tools]) (1.17.1)\n",
      "Requirement already satisfied: pycparser in /Users/ytchen/Documents/experimental/ACP/env/lib/python3.10/site-packages (from cffi>=1.14->cryptography>=43.0.1->auth0-python>=4.7.1->crewai[tools]) (2.22)\n",
      "Requirement already satisfied: alembic<2.0.0,>=1.13.1 in /Users/ytchen/Documents/experimental/ACP/env/lib/python3.10/site-packages (from embedchain>=0.1.114->crewai-tools~=0.48.0->crewai[tools]) (1.16.2)\n",
      "Requirement already satisfied: beautifulsoup4<5.0.0,>=4.12.2 in /Users/ytchen/Documents/experimental/ACP/env/lib/python3.10/site-packages (from embedchain>=0.1.114->crewai-tools~=0.48.0->crewai[tools]) (4.13.4)\n",
      "Requirement already satisfied: gptcache<0.2.0,>=0.1.43 in /Users/ytchen/Documents/experimental/ACP/env/lib/python3.10/site-packages (from embedchain>=0.1.114->crewai-tools~=0.48.0->crewai[tools]) (0.1.44)\n",
      "Requirement already satisfied: langchain<0.4.0,>=0.3.1 in /Users/ytchen/Documents/experimental/ACP/env/lib/python3.10/site-packages (from embedchain>=0.1.114->crewai-tools~=0.48.0->crewai[tools]) (0.3.26)\n",
      "Requirement already satisfied: langchain-cohere<0.4.0,>=0.3.0 in /Users/ytchen/Documents/experimental/ACP/env/lib/python3.10/site-packages (from embedchain>=0.1.114->crewai-tools~=0.48.0->crewai[tools]) (0.3.5)\n",
      "Requirement already satisfied: langchain-community<0.4.0,>=0.3.1 in /Users/ytchen/Documents/experimental/ACP/env/lib/python3.10/site-packages (from embedchain>=0.1.114->crewai-tools~=0.48.0->crewai[tools]) (0.3.26)\n",
      "Requirement already satisfied: langchain-openai<0.3.0,>=0.2.1 in /Users/ytchen/Documents/experimental/ACP/env/lib/python3.10/site-packages (from embedchain>=0.1.114->crewai-tools~=0.48.0->crewai[tools]) (0.2.14)\n",
      "Requirement already satisfied: langsmith<0.4.0,>=0.3.18 in /Users/ytchen/Documents/experimental/ACP/env/lib/python3.10/site-packages (from embedchain>=0.1.114->crewai-tools~=0.48.0->crewai[tools]) (0.3.45)\n",
      "Requirement already satisfied: mem0ai<0.2.0,>=0.1.54 in /Users/ytchen/Documents/experimental/ACP/env/lib/python3.10/site-packages (from embedchain>=0.1.114->crewai-tools~=0.48.0->crewai[tools]) (0.1.111)\n",
      "Requirement already satisfied: pypdf<6.0.0,>=5.0.0 in /Users/ytchen/Documents/experimental/ACP/env/lib/python3.10/site-packages (from embedchain>=0.1.114->crewai-tools~=0.48.0->crewai[tools]) (5.6.1)\n",
      "Requirement already satisfied: pysbd<0.4.0,>=0.3.4 in /Users/ytchen/Documents/experimental/ACP/env/lib/python3.10/site-packages (from embedchain>=0.1.114->crewai-tools~=0.48.0->crewai[tools]) (0.3.4)\n",
      "Requirement already satisfied: schema<0.8.0,>=0.7.5 in /Users/ytchen/Documents/experimental/ACP/env/lib/python3.10/site-packages (from embedchain>=0.1.114->crewai-tools~=0.48.0->crewai[tools]) (0.7.7)\n",
      "Requirement already satisfied: sqlalchemy<3.0.0,>=2.0.27 in /Users/ytchen/Documents/experimental/ACP/env/lib/python3.10/site-packages (from embedchain>=0.1.114->crewai-tools~=0.48.0->crewai[tools]) (2.0.41)\n",
      "Requirement already satisfied: Mako in /Users/ytchen/Documents/experimental/ACP/env/lib/python3.10/site-packages (from alembic<2.0.0,>=1.13.1->embedchain>=0.1.114->crewai-tools~=0.48.0->crewai[tools]) (1.3.10)\n",
      "Requirement already satisfied: soupsieve>1.2 in /Users/ytchen/Documents/experimental/ACP/env/lib/python3.10/site-packages (from beautifulsoup4<5.0.0,>=4.12.2->embedchain>=0.1.114->crewai-tools~=0.48.0->crewai[tools]) (2.7)\n",
      "Requirement already satisfied: cachetools in /Users/ytchen/Documents/experimental/ACP/env/lib/python3.10/site-packages (from gptcache<0.2.0,>=0.1.43->embedchain>=0.1.114->crewai-tools~=0.48.0->crewai[tools]) (5.5.2)\n",
      "Requirement already satisfied: langchain-core<1.0.0,>=0.3.66 in /Users/ytchen/Documents/experimental/ACP/env/lib/python3.10/site-packages (from langchain<0.4.0,>=0.3.1->embedchain>=0.1.114->crewai-tools~=0.48.0->crewai[tools]) (0.3.66)\n",
      "Requirement already satisfied: langchain-text-splitters<1.0.0,>=0.3.8 in /Users/ytchen/Documents/experimental/ACP/env/lib/python3.10/site-packages (from langchain<0.4.0,>=0.3.1->embedchain>=0.1.114->crewai-tools~=0.48.0->crewai[tools]) (0.3.8)\n",
      "Requirement already satisfied: cohere<6.0,>=5.5.6 in /Users/ytchen/Documents/experimental/ACP/env/lib/python3.10/site-packages (from langchain-cohere<0.4.0,>=0.3.0->embedchain>=0.1.114->crewai-tools~=0.48.0->crewai[tools]) (5.15.0)\n",
      "Requirement already satisfied: langchain-experimental<0.4.0,>=0.3.0 in /Users/ytchen/Documents/experimental/ACP/env/lib/python3.10/site-packages (from langchain-cohere<0.4.0,>=0.3.0->embedchain>=0.1.114->crewai-tools~=0.48.0->crewai[tools]) (0.3.4)\n",
      "Requirement already satisfied: pandas>=1.4.3 in /Users/ytchen/Documents/experimental/ACP/env/lib/python3.10/site-packages (from langchain-cohere<0.4.0,>=0.3.0->embedchain>=0.1.114->crewai-tools~=0.48.0->crewai[tools]) (2.3.0)\n",
      "Requirement already satisfied: tabulate<0.10.0,>=0.9.0 in /Users/ytchen/Documents/experimental/ACP/env/lib/python3.10/site-packages (from langchain-cohere<0.4.0,>=0.3.0->embedchain>=0.1.114->crewai-tools~=0.48.0->crewai[tools]) (0.9.0)\n",
      "Requirement already satisfied: fastavro<2.0.0,>=1.9.4 in /Users/ytchen/Documents/experimental/ACP/env/lib/python3.10/site-packages (from cohere<6.0,>=5.5.6->langchain-cohere<0.4.0,>=0.3.0->embedchain>=0.1.114->crewai-tools~=0.48.0->crewai[tools]) (1.11.1)\n",
      "Requirement already satisfied: httpx-sse==0.4.0 in /Users/ytchen/Documents/experimental/ACP/env/lib/python3.10/site-packages (from cohere<6.0,>=5.5.6->langchain-cohere<0.4.0,>=0.3.0->embedchain>=0.1.114->crewai-tools~=0.48.0->crewai[tools]) (0.4.0)\n",
      "Requirement already satisfied: types-requests<3.0.0,>=2.0.0 in /Users/ytchen/Documents/experimental/ACP/env/lib/python3.10/site-packages (from cohere<6.0,>=5.5.6->langchain-cohere<0.4.0,>=0.3.0->embedchain>=0.1.114->crewai-tools~=0.48.0->crewai[tools]) (2.32.4.20250611)\n",
      "Requirement already satisfied: dataclasses-json<0.7,>=0.5.7 in /Users/ytchen/Documents/experimental/ACP/env/lib/python3.10/site-packages (from langchain-community<0.4.0,>=0.3.1->embedchain>=0.1.114->crewai-tools~=0.48.0->crewai[tools]) (0.6.7)\n",
      "Requirement already satisfied: pydantic-settings<3.0.0,>=2.4.0 in /Users/ytchen/Documents/experimental/ACP/env/lib/python3.10/site-packages (from langchain-community<0.4.0,>=0.3.1->embedchain>=0.1.114->crewai-tools~=0.48.0->crewai[tools]) (2.10.1)\n",
      "Requirement already satisfied: marshmallow<4.0.0,>=3.18.0 in /Users/ytchen/Documents/experimental/ACP/env/lib/python3.10/site-packages (from dataclasses-json<0.7,>=0.5.7->langchain-community<0.4.0,>=0.3.1->embedchain>=0.1.114->crewai-tools~=0.48.0->crewai[tools]) (3.26.1)\n",
      "Requirement already satisfied: typing-inspect<1,>=0.4.0 in /Users/ytchen/Documents/experimental/ACP/env/lib/python3.10/site-packages (from dataclasses-json<0.7,>=0.5.7->langchain-community<0.4.0,>=0.3.1->embedchain>=0.1.114->crewai-tools~=0.48.0->crewai[tools]) (0.9.0)\n",
      "Requirement already satisfied: jsonpatch<2.0,>=1.33 in /Users/ytchen/Documents/experimental/ACP/env/lib/python3.10/site-packages (from langchain-core<1.0.0,>=0.3.66->langchain<0.4.0,>=0.3.1->embedchain>=0.1.114->crewai-tools~=0.48.0->crewai[tools]) (1.33)\n",
      "Requirement already satisfied: jsonpointer>=1.9 in /Users/ytchen/Documents/experimental/ACP/env/lib/python3.10/site-packages (from jsonpatch<2.0,>=1.33->langchain-core<1.0.0,>=0.3.66->langchain<0.4.0,>=0.3.1->embedchain>=0.1.114->crewai-tools~=0.48.0->crewai[tools]) (3.0.0)\n",
      "Requirement already satisfied: requests-toolbelt<2.0.0,>=1.0.0 in /Users/ytchen/Documents/experimental/ACP/env/lib/python3.10/site-packages (from langsmith<0.4.0,>=0.3.18->embedchain>=0.1.114->crewai-tools~=0.48.0->crewai[tools]) (1.0.0)\n",
      "Requirement already satisfied: zstandard<0.24.0,>=0.23.0 in /Users/ytchen/Documents/experimental/ACP/env/lib/python3.10/site-packages (from langsmith<0.4.0,>=0.3.18->embedchain>=0.1.114->crewai-tools~=0.48.0->crewai[tools]) (0.23.0)\n",
      "Requirement already satisfied: anyio in /Users/ytchen/Documents/experimental/ACP/env/lib/python3.10/site-packages (from httpx>=0.23.0->litellm==1.72.0->crewai[tools]) (4.9.0)\n",
      "Requirement already satisfied: certifi in /Users/ytchen/Documents/experimental/ACP/env/lib/python3.10/site-packages (from httpx>=0.23.0->litellm==1.72.0->crewai[tools]) (2025.6.15)\n",
      "Requirement already satisfied: httpcore==1.* in /Users/ytchen/Documents/experimental/ACP/env/lib/python3.10/site-packages (from httpx>=0.23.0->litellm==1.72.0->crewai[tools]) (1.0.9)\n",
      "Requirement already satisfied: h11>=0.16 in /Users/ytchen/Documents/experimental/ACP/env/lib/python3.10/site-packages (from httpcore==1.*->httpx>=0.23.0->litellm==1.72.0->crewai[tools]) (0.16.0)\n",
      "Requirement already satisfied: pytz>=2024.1 in /Users/ytchen/Documents/experimental/ACP/env/lib/python3.10/site-packages (from mem0ai<0.2.0,>=0.1.54->embedchain>=0.1.114->crewai-tools~=0.48.0->crewai[tools]) (2025.2)\n",
      "Requirement already satisfied: qdrant-client>=1.9.1 in /Users/ytchen/Documents/experimental/ACP/env/lib/python3.10/site-packages (from mem0ai<0.2.0,>=0.1.54->embedchain>=0.1.114->crewai-tools~=0.48.0->crewai[tools]) (1.14.3)\n",
      "Requirement already satisfied: distro<2,>=1.7.0 in /Users/ytchen/Documents/experimental/ACP/env/lib/python3.10/site-packages (from openai>=1.13.3->crewai[tools]) (1.9.0)\n",
      "Requirement already satisfied: jiter<1,>=0.4.0 in /Users/ytchen/Documents/experimental/ACP/env/lib/python3.10/site-packages (from openai>=1.13.3->crewai[tools]) (0.10.0)\n",
      "Requirement already satisfied: sniffio in /Users/ytchen/Documents/experimental/ACP/env/lib/python3.10/site-packages (from openai>=1.13.3->crewai[tools]) (1.3.1)\n",
      "Requirement already satisfied: exceptiongroup>=1.0.2 in /Users/ytchen/Documents/experimental/ACP/env/lib/python3.10/site-packages (from anyio->httpx>=0.23.0->litellm==1.72.0->crewai[tools]) (1.3.0)\n",
      "Requirement already satisfied: six>=1.5 in /Users/ytchen/Documents/experimental/ACP/env/lib/python3.10/site-packages (from posthog>=2.4.0->chromadb>=0.5.23->crewai[tools]) (1.17.0)\n",
      "Requirement already satisfied: monotonic>=1.5 in /Users/ytchen/Documents/experimental/ACP/env/lib/python3.10/site-packages (from posthog>=2.4.0->chromadb>=0.5.23->crewai[tools]) (1.6)\n",
      "Requirement already satisfied: backoff>=1.10.0 in /Users/ytchen/Documents/experimental/ACP/env/lib/python3.10/site-packages (from posthog>=2.4.0->chromadb>=0.5.23->crewai[tools]) (2.2.1)\n",
      "Requirement already satisfied: python-dateutil>2.1 in /Users/ytchen/Documents/experimental/ACP/env/lib/python3.10/site-packages (from posthog>=2.4.0->chromadb>=0.5.23->crewai[tools]) (2.9.0.post0)\n",
      "Requirement already satisfied: charset_normalizer<4,>=2 in /Users/ytchen/Documents/experimental/ACP/env/lib/python3.10/site-packages (from requests>=2.31.0->crewai-tools~=0.48.0->crewai[tools]) (3.4.2)\n",
      "Requirement already satisfied: markdown-it-py>=2.2.0 in /Users/ytchen/Documents/experimental/ACP/env/lib/python3.10/site-packages (from rich>=10.11.0->chromadb>=0.5.23->crewai[tools]) (3.0.0)\n",
      "Requirement already satisfied: pygments<3.0.0,>=2.13.0 in /Users/ytchen/Documents/experimental/ACP/env/lib/python3.10/site-packages (from rich>=10.11.0->chromadb>=0.5.23->crewai[tools]) (2.19.2)\n",
      "Requirement already satisfied: mypy-extensions>=0.3.0 in /Users/ytchen/Documents/experimental/ACP/env/lib/python3.10/site-packages (from typing-inspect<1,>=0.4.0->dataclasses-json<0.7,>=0.5.7->langchain-community<0.4.0,>=0.3.1->embedchain>=0.1.114->crewai-tools~=0.48.0->crewai[tools]) (1.1.0)\n",
      "Requirement already satisfied: starlette<0.47.0,>=0.40.0 in /Users/ytchen/Documents/experimental/ACP/env/lib/python3.10/site-packages (from fastapi>=0.95.2->chromadb>=0.5.23->crewai[tools]) (0.46.2)\n",
      "Requirement already satisfied: zipp>=3.20 in /Users/ytchen/Documents/experimental/ACP/env/lib/python3.10/site-packages (from importlib-metadata>=6.8.0->litellm==1.72.0->crewai[tools]) (3.23.0)\n",
      "Requirement already satisfied: docstring-parser<1.0,>=0.16 in /Users/ytchen/Documents/experimental/ACP/env/lib/python3.10/site-packages (from instructor>=1.3.3->crewai[tools]) (0.16)\n",
      "Requirement already satisfied: mkdocs-material>=9.5.49 in /Users/ytchen/Documents/experimental/ACP/env/lib/python3.10/site-packages (from instructor>=1.3.3->crewai[tools]) (9.6.14)\n",
      "Requirement already satisfied: mkdocs>=1.6.1 in /Users/ytchen/Documents/experimental/ACP/env/lib/python3.10/site-packages (from instructor>=1.3.3->crewai[tools]) (1.6.1)\n",
      "Requirement already satisfied: pre-commit>=4.2.0 in /Users/ytchen/Documents/experimental/ACP/env/lib/python3.10/site-packages (from instructor>=1.3.3->crewai[tools]) (4.2.0)\n",
      "Requirement already satisfied: shellingham>=1.3.0 in /Users/ytchen/Documents/experimental/ACP/env/lib/python3.10/site-packages (from typer>=0.9.0->chromadb>=0.5.23->crewai[tools]) (1.5.4)\n",
      "Requirement already satisfied: google-auth>=1.0.1 in /Users/ytchen/Documents/experimental/ACP/env/lib/python3.10/site-packages (from kubernetes>=28.1.0->chromadb>=0.5.23->crewai[tools]) (2.40.3)\n",
      "Requirement already satisfied: websocket-client!=0.40.0,!=0.41.*,!=0.42.*,>=0.32.0 in /Users/ytchen/Documents/experimental/ACP/env/lib/python3.10/site-packages (from kubernetes>=28.1.0->chromadb>=0.5.23->crewai[tools]) (1.8.0)\n",
      "Requirement already satisfied: requests-oauthlib in /Users/ytchen/Documents/experimental/ACP/env/lib/python3.10/site-packages (from kubernetes>=28.1.0->chromadb>=0.5.23->crewai[tools]) (2.0.0)\n",
      "Requirement already satisfied: oauthlib>=3.2.2 in /Users/ytchen/Documents/experimental/ACP/env/lib/python3.10/site-packages (from kubernetes>=28.1.0->chromadb>=0.5.23->crewai[tools]) (3.3.1)\n",
      "Requirement already satisfied: durationpy>=0.7 in /Users/ytchen/Documents/experimental/ACP/env/lib/python3.10/site-packages (from kubernetes>=28.1.0->chromadb>=0.5.23->crewai[tools]) (0.10)\n",
      "Requirement already satisfied: pyasn1-modules>=0.2.1 in /Users/ytchen/Documents/experimental/ACP/env/lib/python3.10/site-packages (from google-auth>=1.0.1->kubernetes>=28.1.0->chromadb>=0.5.23->crewai[tools]) (0.4.2)\n",
      "Requirement already satisfied: rsa<5,>=3.1.4 in /Users/ytchen/Documents/experimental/ACP/env/lib/python3.10/site-packages (from google-auth>=1.0.1->kubernetes>=28.1.0->chromadb>=0.5.23->crewai[tools]) (4.9.1)\n",
      "Requirement already satisfied: pyasn1>=0.1.3 in /Users/ytchen/Documents/experimental/ACP/env/lib/python3.10/site-packages (from rsa<5,>=3.1.4->google-auth>=1.0.1->kubernetes>=28.1.0->chromadb>=0.5.23->crewai[tools]) (0.6.1)\n",
      "Requirement already satisfied: deprecation in /Users/ytchen/Documents/experimental/ACP/env/lib/python3.10/site-packages (from lancedb>=0.5.4->crewai-tools~=0.48.0->crewai[tools]) (2.1.0)\n",
      "Requirement already satisfied: pyarrow>=16 in /Users/ytchen/Documents/experimental/ACP/env/lib/python3.10/site-packages (from lancedb>=0.5.4->crewai-tools~=0.48.0->crewai[tools]) (20.0.0)\n",
      "Requirement already satisfied: mdurl~=0.1 in /Users/ytchen/Documents/experimental/ACP/env/lib/python3.10/site-packages (from markdown-it-py>=2.2.0->rich>=10.11.0->chromadb>=0.5.23->crewai[tools]) (0.1.2)\n",
      "Requirement already satisfied: ghp-import>=1.0 in /Users/ytchen/Documents/experimental/ACP/env/lib/python3.10/site-packages (from mkdocs>=1.6.1->instructor>=1.3.3->crewai[tools]) (2.1.0)\n",
      "Requirement already satisfied: markdown>=3.3.6 in /Users/ytchen/Documents/experimental/ACP/env/lib/python3.10/site-packages (from mkdocs>=1.6.1->instructor>=1.3.3->crewai[tools]) (3.8.2)\n",
      "Requirement already satisfied: mergedeep>=1.3.4 in /Users/ytchen/Documents/experimental/ACP/env/lib/python3.10/site-packages (from mkdocs>=1.6.1->instructor>=1.3.3->crewai[tools]) (1.3.4)\n",
      "Requirement already satisfied: mkdocs-get-deps>=0.2.0 in /Users/ytchen/Documents/experimental/ACP/env/lib/python3.10/site-packages (from mkdocs>=1.6.1->instructor>=1.3.3->crewai[tools]) (0.2.0)\n",
      "Requirement already satisfied: pathspec>=0.11.1 in /Users/ytchen/Documents/experimental/ACP/env/lib/python3.10/site-packages (from mkdocs>=1.6.1->instructor>=1.3.3->crewai[tools]) (0.12.1)\n",
      "Requirement already satisfied: pyyaml-env-tag>=0.1 in /Users/ytchen/Documents/experimental/ACP/env/lib/python3.10/site-packages (from mkdocs>=1.6.1->instructor>=1.3.3->crewai[tools]) (1.1)\n",
      "Requirement already satisfied: watchdog>=2.0 in /Users/ytchen/Documents/experimental/ACP/env/lib/python3.10/site-packages (from mkdocs>=1.6.1->instructor>=1.3.3->crewai[tools]) (6.0.0)\n",
      "Requirement already satisfied: platformdirs>=2.2.0 in /Users/ytchen/Documents/experimental/ACP/env/lib/python3.10/site-packages (from mkdocs-get-deps>=0.2.0->mkdocs>=1.6.1->instructor>=1.3.3->crewai[tools]) (4.3.8)\n",
      "Requirement already satisfied: babel~=2.10 in /Users/ytchen/Documents/experimental/ACP/env/lib/python3.10/site-packages (from mkdocs-material>=9.5.49->instructor>=1.3.3->crewai[tools]) (2.17.0)\n",
      "Requirement already satisfied: backrefs~=5.7.post1 in /Users/ytchen/Documents/experimental/ACP/env/lib/python3.10/site-packages (from mkdocs-material>=9.5.49->instructor>=1.3.3->crewai[tools]) (5.9)\n",
      "Requirement already satisfied: colorama~=0.4 in /Users/ytchen/Documents/experimental/ACP/env/lib/python3.10/site-packages (from mkdocs-material>=9.5.49->instructor>=1.3.3->crewai[tools]) (0.4.6)\n",
      "Requirement already satisfied: mkdocs-material-extensions~=1.3 in /Users/ytchen/Documents/experimental/ACP/env/lib/python3.10/site-packages (from mkdocs-material>=9.5.49->instructor>=1.3.3->crewai[tools]) (1.3.1)\n",
      "Requirement already satisfied: paginate~=0.5 in /Users/ytchen/Documents/experimental/ACP/env/lib/python3.10/site-packages (from mkdocs-material>=9.5.49->instructor>=1.3.3->crewai[tools]) (0.5.7)\n",
      "Requirement already satisfied: pymdown-extensions~=10.2 in /Users/ytchen/Documents/experimental/ACP/env/lib/python3.10/site-packages (from mkdocs-material>=9.5.49->instructor>=1.3.3->crewai[tools]) (10.16)\n",
      "Requirement already satisfied: et-xmlfile in /Users/ytchen/Documents/experimental/ACP/env/lib/python3.10/site-packages (from openpyxl>=3.1.5->crewai[tools]) (2.0.0)\n",
      "Requirement already satisfied: googleapis-common-protos~=1.52 in /Users/ytchen/Documents/experimental/ACP/env/lib/python3.10/site-packages (from opentelemetry-exporter-otlp-proto-grpc>=1.2.0->chromadb>=0.5.23->crewai[tools]) (1.70.0)\n",
      "Requirement already satisfied: opentelemetry-exporter-otlp-proto-common==1.34.1 in /Users/ytchen/Documents/experimental/ACP/env/lib/python3.10/site-packages (from opentelemetry-exporter-otlp-proto-grpc>=1.2.0->chromadb>=0.5.23->crewai[tools]) (1.34.1)\n",
      "Requirement already satisfied: opentelemetry-proto==1.34.1 in /Users/ytchen/Documents/experimental/ACP/env/lib/python3.10/site-packages (from opentelemetry-exporter-otlp-proto-grpc>=1.2.0->chromadb>=0.5.23->crewai[tools]) (1.34.1)\n",
      "Requirement already satisfied: opentelemetry-semantic-conventions==0.55b1 in /Users/ytchen/Documents/experimental/ACP/env/lib/python3.10/site-packages (from opentelemetry-sdk>=1.30.0->crewai[tools]) (0.55b1)\n",
      "Requirement already satisfied: opentelemetry-instrumentation-asgi==0.55b1 in /Users/ytchen/Documents/experimental/ACP/env/lib/python3.10/site-packages (from opentelemetry-instrumentation-fastapi>=0.41b0->chromadb>=0.5.23->crewai[tools]) (0.55b1)\n",
      "Requirement already satisfied: opentelemetry-instrumentation==0.55b1 in /Users/ytchen/Documents/experimental/ACP/env/lib/python3.10/site-packages (from opentelemetry-instrumentation-fastapi>=0.41b0->chromadb>=0.5.23->crewai[tools]) (0.55b1)\n",
      "Requirement already satisfied: opentelemetry-util-http==0.55b1 in /Users/ytchen/Documents/experimental/ACP/env/lib/python3.10/site-packages (from opentelemetry-instrumentation-fastapi>=0.41b0->chromadb>=0.5.23->crewai[tools]) (0.55b1)\n",
      "Requirement already satisfied: wrapt<2.0.0,>=1.0.0 in /Users/ytchen/Documents/experimental/ACP/env/lib/python3.10/site-packages (from opentelemetry-instrumentation==0.55b1->opentelemetry-instrumentation-fastapi>=0.41b0->chromadb>=0.5.23->crewai[tools]) (1.17.2)\n",
      "Requirement already satisfied: asgiref~=3.0 in /Users/ytchen/Documents/experimental/ACP/env/lib/python3.10/site-packages (from opentelemetry-instrumentation-asgi==0.55b1->opentelemetry-instrumentation-fastapi>=0.41b0->chromadb>=0.5.23->crewai[tools]) (3.8.1)\n",
      "Requirement already satisfied: tzdata>=2022.7 in /Users/ytchen/Documents/experimental/ACP/env/lib/python3.10/site-packages (from pandas>=1.4.3->langchain-cohere<0.4.0,>=0.3.0->embedchain>=0.1.114->crewai-tools~=0.48.0->crewai[tools]) (2025.2)\n",
      "Requirement already satisfied: pdfminer.six==20250506 in /Users/ytchen/Documents/experimental/ACP/env/lib/python3.10/site-packages (from pdfplumber>=0.11.4->crewai[tools]) (20250506)\n",
      "Requirement already satisfied: Pillow>=9.1 in /Users/ytchen/Documents/experimental/ACP/env/lib/python3.10/site-packages (from pdfplumber>=0.11.4->crewai[tools]) (11.2.1)\n",
      "Requirement already satisfied: pypdfium2>=4.18.0 in /Users/ytchen/Documents/experimental/ACP/env/lib/python3.10/site-packages (from pdfplumber>=0.11.4->crewai[tools]) (4.30.1)\n",
      "Requirement already satisfied: cfgv>=2.0.0 in /Users/ytchen/Documents/experimental/ACP/env/lib/python3.10/site-packages (from pre-commit>=4.2.0->instructor>=1.3.3->crewai[tools]) (3.4.0)\n",
      "Requirement already satisfied: identify>=1.0.0 in /Users/ytchen/Documents/experimental/ACP/env/lib/python3.10/site-packages (from pre-commit>=4.2.0->instructor>=1.3.3->crewai[tools]) (2.6.12)\n",
      "Requirement already satisfied: nodeenv>=0.11.1 in /Users/ytchen/Documents/experimental/ACP/env/lib/python3.10/site-packages (from pre-commit>=4.2.0->instructor>=1.3.3->crewai[tools]) (1.9.1)\n",
      "Requirement already satisfied: virtualenv>=20.10.0 in /Users/ytchen/Documents/experimental/ACP/env/lib/python3.10/site-packages (from pre-commit>=4.2.0->instructor>=1.3.3->crewai[tools]) (20.31.2)\n",
      "Requirement already satisfied: ipython>=5.3.0 in /Users/ytchen/Documents/experimental/ACP/env/lib/python3.10/site-packages (from pyvis>=0.3.2->crewai[tools]) (8.37.0)\n",
      "Requirement already satisfied: jsonpickle>=1.4.1 in /Users/ytchen/Documents/experimental/ACP/env/lib/python3.10/site-packages (from pyvis>=0.3.2->crewai[tools]) (4.1.1)\n",
      "Requirement already satisfied: networkx>=1.11 in /Users/ytchen/Documents/experimental/ACP/env/lib/python3.10/site-packages (from pyvis>=0.3.2->crewai[tools]) (3.4.2)\n",
      "Requirement already satisfied: decorator in /Users/ytchen/Documents/experimental/ACP/env/lib/python3.10/site-packages (from ipython>=5.3.0->pyvis>=0.3.2->crewai[tools]) (5.2.1)\n",
      "Requirement already satisfied: jedi>=0.16 in /Users/ytchen/Documents/experimental/ACP/env/lib/python3.10/site-packages (from ipython>=5.3.0->pyvis>=0.3.2->crewai[tools]) (0.19.2)\n",
      "Requirement already satisfied: matplotlib-inline in /Users/ytchen/Documents/experimental/ACP/env/lib/python3.10/site-packages (from ipython>=5.3.0->pyvis>=0.3.2->crewai[tools]) (0.1.7)\n",
      "Requirement already satisfied: pexpect>4.3 in /Users/ytchen/Documents/experimental/ACP/env/lib/python3.10/site-packages (from ipython>=5.3.0->pyvis>=0.3.2->crewai[tools]) (4.9.0)\n",
      "Requirement already satisfied: prompt_toolkit<3.1.0,>=3.0.41 in /Users/ytchen/Documents/experimental/ACP/env/lib/python3.10/site-packages (from ipython>=5.3.0->pyvis>=0.3.2->crewai[tools]) (3.0.51)\n",
      "Requirement already satisfied: stack_data in /Users/ytchen/Documents/experimental/ACP/env/lib/python3.10/site-packages (from ipython>=5.3.0->pyvis>=0.3.2->crewai[tools]) (0.6.3)\n",
      "Requirement already satisfied: traitlets>=5.13.0 in /Users/ytchen/Documents/experimental/ACP/env/lib/python3.10/site-packages (from ipython>=5.3.0->pyvis>=0.3.2->crewai[tools]) (5.14.3)\n",
      "Requirement already satisfied: wcwidth in /Users/ytchen/Documents/experimental/ACP/env/lib/python3.10/site-packages (from prompt_toolkit<3.1.0,>=3.0.41->ipython>=5.3.0->pyvis>=0.3.2->crewai[tools]) (0.2.13)\n",
      "Requirement already satisfied: parso<0.9.0,>=0.8.4 in /Users/ytchen/Documents/experimental/ACP/env/lib/python3.10/site-packages (from jedi>=0.16->ipython>=5.3.0->pyvis>=0.3.2->crewai[tools]) (0.8.4)\n",
      "Requirement already satisfied: ptyprocess>=0.5 in /Users/ytchen/Documents/experimental/ACP/env/lib/python3.10/site-packages (from pexpect>4.3->ipython>=5.3.0->pyvis>=0.3.2->crewai[tools]) (0.7.0)\n",
      "Requirement already satisfied: portalocker<3.0.0,>=2.7.0 in /Users/ytchen/Documents/experimental/ACP/env/lib/python3.10/site-packages (from qdrant-client>=1.9.1->mem0ai<0.2.0,>=0.1.54->embedchain>=0.1.114->crewai-tools~=0.48.0->crewai[tools]) (2.10.1)\n",
      "Requirement already satisfied: h2<5,>=3 in /Users/ytchen/Documents/experimental/ACP/env/lib/python3.10/site-packages (from httpx[http2]>=0.20.0->qdrant-client>=1.9.1->mem0ai<0.2.0,>=0.1.54->embedchain>=0.1.114->crewai-tools~=0.48.0->crewai[tools]) (4.2.0)\n",
      "Requirement already satisfied: hyperframe<7,>=6.1 in /Users/ytchen/Documents/experimental/ACP/env/lib/python3.10/site-packages (from h2<5,>=3->httpx[http2]>=0.20.0->qdrant-client>=1.9.1->mem0ai<0.2.0,>=0.1.54->embedchain>=0.1.114->crewai-tools~=0.48.0->crewai[tools]) (6.1.0)\n",
      "Requirement already satisfied: hpack<5,>=4.1 in /Users/ytchen/Documents/experimental/ACP/env/lib/python3.10/site-packages (from h2<5,>=3->httpx[http2]>=0.20.0->qdrant-client>=1.9.1->mem0ai<0.2.0,>=0.1.54->embedchain>=0.1.114->crewai-tools~=0.48.0->crewai[tools]) (4.1.0)\n",
      "Requirement already satisfied: httptools>=0.6.3 in /Users/ytchen/Documents/experimental/ACP/env/lib/python3.10/site-packages (from uvicorn[standard]>=0.18.3->chromadb>=0.5.23->crewai[tools]) (0.6.4)\n",
      "Requirement already satisfied: uvloop>=0.15.1 in /Users/ytchen/Documents/experimental/ACP/env/lib/python3.10/site-packages (from uvicorn[standard]>=0.18.3->chromadb>=0.5.23->crewai[tools]) (0.21.0)\n",
      "Requirement already satisfied: watchfiles>=0.13 in /Users/ytchen/Documents/experimental/ACP/env/lib/python3.10/site-packages (from uvicorn[standard]>=0.18.3->chromadb>=0.5.23->crewai[tools]) (1.1.0)\n",
      "Requirement already satisfied: websockets>=10.4 in /Users/ytchen/Documents/experimental/ACP/env/lib/python3.10/site-packages (from uvicorn[standard]>=0.18.3->chromadb>=0.5.23->crewai[tools]) (15.0.1)\n",
      "Requirement already satisfied: distlib<1,>=0.3.7 in /Users/ytchen/Documents/experimental/ACP/env/lib/python3.10/site-packages (from virtualenv>=20.10.0->pre-commit>=4.2.0->instructor>=1.3.3->crewai[tools]) (0.3.9)\n",
      "Requirement already satisfied: humanfriendly>=9.1 in /Users/ytchen/Documents/experimental/ACP/env/lib/python3.10/site-packages (from coloredlogs->onnxruntime==1.22.0->crewai[tools]) (10.0)\n",
      "Requirement already satisfied: executing>=1.2.0 in /Users/ytchen/Documents/experimental/ACP/env/lib/python3.10/site-packages (from stack_data->ipython>=5.3.0->pyvis>=0.3.2->crewai[tools]) (2.2.0)\n",
      "Requirement already satisfied: asttokens>=2.1.0 in /Users/ytchen/Documents/experimental/ACP/env/lib/python3.10/site-packages (from stack_data->ipython>=5.3.0->pyvis>=0.3.2->crewai[tools]) (3.0.0)\n",
      "Requirement already satisfied: pure-eval in /Users/ytchen/Documents/experimental/ACP/env/lib/python3.10/site-packages (from stack_data->ipython>=5.3.0->pyvis>=0.3.2->crewai[tools]) (0.2.3)\n",
      "Requirement already satisfied: mpmath<1.4,>=1.1.0 in /Users/ytchen/Documents/experimental/ACP/env/lib/python3.10/site-packages (from sympy->onnxruntime==1.22.0->crewai[tools]) (1.3.0)\n"
     ]
    }
   ],
   "source": [
    "import sys\n",
    "!{sys.executable} -m pip install 'crewai[tools]'"
   ]
  },
  {
   "cell_type": "code",
   "execution_count": 2,
   "id": "95a5c843-7fc4-410e-9b1a-c197e45477ac",
   "metadata": {},
   "outputs": [
    {
     "name": "stderr",
     "output_type": "stream",
     "text": [
      "/Users/ytchen/Documents/experimental/ACP/env/lib/python3.10/site-packages/pydantic/fields.py:1093: PydanticDeprecatedSince20: Using extra keyword arguments on `Field` is deprecated and will be removed. Use `json_schema_extra` instead. (Extra keys: 'required'). Deprecated in Pydantic V2.0 to be removed in V3.0. See Pydantic V2 Migration Guide at https://errors.pydantic.dev/2.11/migration/\n",
      "  warn(\n"
     ]
    }
   ],
   "source": [
    "from crewai import Crew, Task, Agent, LLM\n",
    "from crewai_tools import RagTool"
   ]
  },
  {
   "cell_type": "code",
   "execution_count": 3,
   "id": "4cad7d82-1911-4ff2-bf15-0921a1c37b68",
   "metadata": {},
   "outputs": [],
   "source": [
    "import warnings\n",
    "warnings.filterwarnings('ignore')"
   ]
  },
  {
   "cell_type": "markdown",
   "id": "aa6d9f55",
   "metadata": {},
   "source": [
    "## 3.2. Define the Agent's Large Language Model"
   ]
  },
  {
   "cell_type": "markdown",
   "id": "fa517dc3",
   "metadata": {},
   "source": [
    "You'll now define the large language model that you will use for your CrewAI agent. `max_tokens`: maximum number of tokens the model can generate in a single response.\n",
    "\n",
    "**Note**: If you will define this model locally, it requires that you define the API key in a **.env** file as follows:\n",
    "```\n",
    "# Required\n",
    "OPENAI_API_KEY=sk-...\n",
    "\n",
    "# Optional\n",
    "OPENAI_API_BASE=<custom-base-url>\n",
    "OPENAI_ORGANIZATION=<your-org-id>\n",
    "```"
   ]
  },
  {
   "cell_type": "code",
   "execution_count": 4,
   "id": "1210effe-3404-4074-941c-99caab76a467",
   "metadata": {},
   "outputs": [],
   "source": [
    "llm = LLM(model=\"openai/gpt-4\", max_tokens=1024)"
   ]
  },
  {
   "cell_type": "markdown",
   "id": "3236ffd3",
   "metadata": {},
   "source": [
    "## 3.3. Define the RAG Tool"
   ]
  },
  {
   "cell_type": "markdown",
   "id": "5ae5afb4",
   "metadata": {},
   "source": [
    "For the RAG tool, you can define the model provider and the embedding model in a configuration Python dictionary. You can also define the details of your vector database. If you don't specify the vector database, the RagTool will use Chroma (ChromaDB) as the default vector database in local/in-memory mode."
   ]
  },
  {
   "cell_type": "code",
   "execution_count": 5,
   "id": "eb8038c9-ff77-4225-8986-01afde9c6506",
   "metadata": {},
   "outputs": [],
   "source": [
    "config = {\n",
    "    \"llm\": {\n",
    "        \"provider\": \"openai\",\n",
    "        \"config\": {\n",
    "            \"model\": \"gpt-4\",\n",
    "        }\n",
    "    },\n",
    "    \"embedding_model\": {\n",
    "        \"provider\": \"openai\",\n",
    "        \"config\": {\n",
    "            \"model\": \"text-embedding-ada-002\"\n",
    "        }\n",
    "    }\n",
    "}"
   ]
  },
  {
   "cell_type": "markdown",
   "id": "ee65f01d",
   "metadata": {},
   "source": [
    "You can then pass the `config` to the `RagTool`, and then specify the data source for which the knowledge base will be constructed. When embedding your data, the `RagTool` chunks your document into chunks and create an embedding vector for each chunk. You can specify the chunk size (`chunk_size`: number of characters) and how many characters overlap between consecutive chunks (`chunk_overlap`). You can also use the default behavior."
   ]
  },
  {
   "cell_type": "code",
   "execution_count": 7,
   "id": "d438a239-443c-4e85-bfef-cef76d83e7d0",
   "metadata": {},
   "outputs": [
    {
     "name": "stderr",
     "output_type": "stream",
     "text": [
      "Inserting batches in chromadb: 100%|█████████████████████████████████| 1/1 [00:01<00:00,  1.92s/it]\n"
     ]
    }
   ],
   "source": [
    "rag_tool = RagTool(config=config,  \n",
    "                   chunk_size=1200,       \n",
    "                   chunk_overlap=200,     \n",
    "                  )\n",
    "rag_tool.add(\"../data/gold-hospital-and-premium-extras.pdf\", data_type=\"pdf_file\")"
   ]
  },
  {
   "cell_type": "code",
   "execution_count": 8,
   "id": "9c73082a-7c67-4845-b311-e4e5e0978312",
   "metadata": {},
   "outputs": [
    {
     "data": {
      "text/plain": [
       "RagTool(name='Knowledge base', description=\"Tool Name: Knowledge base\\nTool Arguments: {'query': {'description': None, 'type': 'str'}}\\nTool Description: A knowledge base that can be used to answer questions.\", env_vars=[], args_schema=<class 'abc.RagToolSchema'>, description_updated=False, cache_function=<function BaseTool.<lambda> at 0x104d3e050>, result_as_answer=False, max_usage_count=None, current_usage_count=0, summarize=False, adapter=EmbedchainAdapter(embedchain_app=<embedchain.app.App object at 0x10fc4df60>, summarize=False), config={'llm': {'provider': 'openai', 'config': {'model': 'gpt-4'}}, 'embedding_model': {'provider': 'openai', 'config': {'model': 'text-embedding-ada-002'}}})"
      ]
     },
     "execution_count": 8,
     "metadata": {},
     "output_type": "execute_result"
    }
   ],
   "source": [
    "rag_tool"
   ]
  },
  {
   "cell_type": "markdown",
   "id": "76b34384",
   "metadata": {},
   "source": [
    "## 3.4. Define the Insurance Agent"
   ]
  },
  {
   "cell_type": "markdown",
   "id": "17f344aa",
   "metadata": {},
   "source": [
    "Now that you have the `rag_tool` defined, you define the CrewAI agent that can assist with insurance coverage queries."
   ]
  },
  {
   "cell_type": "code",
   "execution_count": 9,
   "id": "3687f923-cd08-4e82-bfe3-1d47304a8c92",
   "metadata": {},
   "outputs": [],
   "source": [
    "insurance_agent = Agent(\n",
    "    role=\"Senior Insurance Coverage Assistant\", \n",
    "    goal=\"Determine whether something is covered or not\",\n",
    "    backstory=\"You are an expert insurance agent designed to assist with coverage queries\",\n",
    "    verbose=True,\n",
    "    allow_delegation=False,\n",
    "    llm=llm,\n",
    "    tools=[rag_tool], \n",
    "    max_retry_limit=5\n",
    ")"
   ]
  },
  {
   "cell_type": "markdown",
   "id": "2e138339",
   "metadata": {},
   "source": [
    "## 3.5. Define the Agent Task"
   ]
  },
  {
   "cell_type": "markdown",
   "id": "376fa787",
   "metadata": {},
   "source": [
    "Let's now test the insurance agent. For that, you need to define the agent task and pass to it the query and the agent."
   ]
  },
  {
   "cell_type": "code",
   "execution_count": 10,
   "id": "7e161f8c-632c-4fa6-b009-96b0b9b7ac8e",
   "metadata": {},
   "outputs": [],
   "source": [
    "task1 = Task(\n",
    "        description='What is the waiting period for rehabilitation?',\n",
    "        expected_output = \"A comprehensive response as to the users question\",\n",
    "        agent=insurance_agent\n",
    ")"
   ]
  },
  {
   "cell_type": "markdown",
   "id": "bbc0223f",
   "metadata": {},
   "source": [
    "## 3.6. Run the Insurance Agent"
   ]
  },
  {
   "cell_type": "markdown",
   "id": "ed782541",
   "metadata": {},
   "source": [
    "To run the agent, you need to pass the agent and the task to a Crew object that you can run using the `kickoff` method."
   ]
  },
  {
   "cell_type": "code",
   "execution_count": 11,
   "id": "6079bd73-52e1-42b2-8aee-73f4a5d8cfa7",
   "metadata": {},
   "outputs": [
    {
     "data": {
      "text/html": [
       "<pre style=\"white-space:pre;overflow-x:auto;line-height:normal;font-family:Menlo,'DejaVu Sans Mono',consolas,'Courier New',monospace\"><span style=\"color: #008080; text-decoration-color: #008080\">╭──────────────────────────────────────────── Crew Execution Started ─────────────────────────────────────────────╮</span>\n",
       "<span style=\"color: #008080; text-decoration-color: #008080\">│</span>                                                                                                                 <span style=\"color: #008080; text-decoration-color: #008080\">│</span>\n",
       "<span style=\"color: #008080; text-decoration-color: #008080\">│</span>  <span style=\"color: #008080; text-decoration-color: #008080; font-weight: bold\">Crew Execution Started</span>                                                                                         <span style=\"color: #008080; text-decoration-color: #008080\">│</span>\n",
       "<span style=\"color: #008080; text-decoration-color: #008080\">│</span>  <span style=\"color: #c0c0c0; text-decoration-color: #c0c0c0\">Name: </span><span style=\"color: #008080; text-decoration-color: #008080\">crew</span>                                                                                                     <span style=\"color: #008080; text-decoration-color: #008080\">│</span>\n",
       "<span style=\"color: #008080; text-decoration-color: #008080\">│</span>  <span style=\"color: #c0c0c0; text-decoration-color: #c0c0c0\">ID: </span><span style=\"color: #008080; text-decoration-color: #008080\">bd68644b-e94c-416a-af6d-0a7e45fa1b02</span>                                                                       <span style=\"color: #008080; text-decoration-color: #008080\">│</span>\n",
       "<span style=\"color: #008080; text-decoration-color: #008080\">│</span>  <span style=\"color: #c0c0c0; text-decoration-color: #c0c0c0\">Tool Args: </span>                                                                                                    <span style=\"color: #008080; text-decoration-color: #008080\">│</span>\n",
       "<span style=\"color: #008080; text-decoration-color: #008080\">│</span>                                                                                                                 <span style=\"color: #008080; text-decoration-color: #008080\">│</span>\n",
       "<span style=\"color: #008080; text-decoration-color: #008080\">│</span>                                                                                                                 <span style=\"color: #008080; text-decoration-color: #008080\">│</span>\n",
       "<span style=\"color: #008080; text-decoration-color: #008080\">╰─────────────────────────────────────────────────────────────────────────────────────────────────────────────────╯</span>\n",
       "</pre>\n"
      ],
      "text/plain": [
       "\u001b[36m╭─\u001b[0m\u001b[36m───────────────────────────────────────────\u001b[0m\u001b[36m Crew Execution Started \u001b[0m\u001b[36m────────────────────────────────────────────\u001b[0m\u001b[36m─╮\u001b[0m\n",
       "\u001b[36m│\u001b[0m                                                                                                                 \u001b[36m│\u001b[0m\n",
       "\u001b[36m│\u001b[0m  \u001b[1;36mCrew Execution Started\u001b[0m                                                                                         \u001b[36m│\u001b[0m\n",
       "\u001b[36m│\u001b[0m  \u001b[37mName: \u001b[0m\u001b[36mcrew\u001b[0m                                                                                                     \u001b[36m│\u001b[0m\n",
       "\u001b[36m│\u001b[0m  \u001b[37mID: \u001b[0m\u001b[36mbd68644b-e94c-416a-af6d-0a7e45fa1b02\u001b[0m                                                                       \u001b[36m│\u001b[0m\n",
       "\u001b[36m│\u001b[0m  \u001b[37mTool Args: \u001b[0m                                                                                                    \u001b[36m│\u001b[0m\n",
       "\u001b[36m│\u001b[0m                                                                                                                 \u001b[36m│\u001b[0m\n",
       "\u001b[36m│\u001b[0m                                                                                                                 \u001b[36m│\u001b[0m\n",
       "\u001b[36m╰─────────────────────────────────────────────────────────────────────────────────────────────────────────────────╯\u001b[0m\n"
      ]
     },
     "metadata": {},
     "output_type": "display_data"
    },
    {
     "data": {
      "text/html": [
       "<pre style=\"white-space:pre;overflow-x:auto;line-height:normal;font-family:Menlo,'DejaVu Sans Mono',consolas,'Courier New',monospace\">\n",
       "</pre>\n"
      ],
      "text/plain": [
       "\n"
      ]
     },
     "metadata": {},
     "output_type": "display_data"
    },
    {
     "data": {
      "text/html": [
       "<pre style=\"white-space:pre;overflow-x:auto;line-height:normal;font-family:Menlo,'DejaVu Sans Mono',consolas,'Courier New',monospace\"></pre>\n"
      ],
      "text/plain": []
     },
     "metadata": {},
     "output_type": "display_data"
    },
    {
     "data": {
      "text/html": [
       "<pre style=\"white-space:pre;overflow-x:auto;line-height:normal;font-family:Menlo,'DejaVu Sans Mono',consolas,'Courier New',monospace\"><span style=\"color: #800080; text-decoration-color: #800080\">╭─────────────────────────────────────────────── 🤖 Agent Started ────────────────────────────────────────────────╮</span>\n",
       "<span style=\"color: #800080; text-decoration-color: #800080\">│</span>                                                                                                                 <span style=\"color: #800080; text-decoration-color: #800080\">│</span>\n",
       "<span style=\"color: #800080; text-decoration-color: #800080\">│</span>  <span style=\"color: #c0c0c0; text-decoration-color: #c0c0c0\">Agent: </span><span style=\"color: #00ff00; text-decoration-color: #00ff00; font-weight: bold\">Senior Insurance Coverage Assistant</span>                                                                     <span style=\"color: #800080; text-decoration-color: #800080\">│</span>\n",
       "<span style=\"color: #800080; text-decoration-color: #800080\">│</span>                                                                                                                 <span style=\"color: #800080; text-decoration-color: #800080\">│</span>\n",
       "<span style=\"color: #800080; text-decoration-color: #800080\">│</span>  <span style=\"color: #c0c0c0; text-decoration-color: #c0c0c0\">Task: </span><span style=\"color: #00ff00; text-decoration-color: #00ff00\">What is the waiting period for rehabilitation?</span>                                                           <span style=\"color: #800080; text-decoration-color: #800080\">│</span>\n",
       "<span style=\"color: #800080; text-decoration-color: #800080\">│</span>                                                                                                                 <span style=\"color: #800080; text-decoration-color: #800080\">│</span>\n",
       "<span style=\"color: #800080; text-decoration-color: #800080\">╰─────────────────────────────────────────────────────────────────────────────────────────────────────────────────╯</span>\n",
       "</pre>\n"
      ],
      "text/plain": [
       "\u001b[35m╭─\u001b[0m\u001b[35m──────────────────────────────────────────────\u001b[0m\u001b[35m 🤖 Agent Started \u001b[0m\u001b[35m───────────────────────────────────────────────\u001b[0m\u001b[35m─╮\u001b[0m\n",
       "\u001b[35m│\u001b[0m                                                                                                                 \u001b[35m│\u001b[0m\n",
       "\u001b[35m│\u001b[0m  \u001b[37mAgent: \u001b[0m\u001b[1;92mSenior Insurance Coverage Assistant\u001b[0m                                                                     \u001b[35m│\u001b[0m\n",
       "\u001b[35m│\u001b[0m                                                                                                                 \u001b[35m│\u001b[0m\n",
       "\u001b[35m│\u001b[0m  \u001b[37mTask: \u001b[0m\u001b[92mWhat is the waiting period for rehabilitation?\u001b[0m                                                           \u001b[35m│\u001b[0m\n",
       "\u001b[35m│\u001b[0m                                                                                                                 \u001b[35m│\u001b[0m\n",
       "\u001b[35m╰─────────────────────────────────────────────────────────────────────────────────────────────────────────────────╯\u001b[0m\n"
      ]
     },
     "metadata": {},
     "output_type": "display_data"
    },
    {
     "data": {
      "text/html": [
       "<pre style=\"white-space:pre;overflow-x:auto;line-height:normal;font-family:Menlo,'DejaVu Sans Mono',consolas,'Courier New',monospace\">\n",
       "</pre>\n"
      ],
      "text/plain": [
       "\n"
      ]
     },
     "metadata": {},
     "output_type": "display_data"
    },
    {
     "data": {
      "text/html": [
       "<pre style=\"white-space:pre;overflow-x:auto;line-height:normal;font-family:Menlo,'DejaVu Sans Mono',consolas,'Courier New',monospace\"></pre>\n"
      ],
      "text/plain": []
     },
     "metadata": {},
     "output_type": "display_data"
    },
    {
     "data": {
      "text/html": [
       "<pre style=\"white-space:pre;overflow-x:auto;line-height:normal;font-family:Menlo,'DejaVu Sans Mono',consolas,'Courier New',monospace\"><span style=\"color: #800080; text-decoration-color: #800080\">╭──────────────────────────────────────────── 🔧 Agent Tool Execution ────────────────────────────────────────────╮</span>\n",
       "<span style=\"color: #800080; text-decoration-color: #800080\">│</span>                                                                                                                 <span style=\"color: #800080; text-decoration-color: #800080\">│</span>\n",
       "<span style=\"color: #800080; text-decoration-color: #800080\">│</span>  <span style=\"color: #c0c0c0; text-decoration-color: #c0c0c0\">Agent: </span><span style=\"color: #00ff00; text-decoration-color: #00ff00; font-weight: bold\">Senior Insurance Coverage Assistant</span>                                                                     <span style=\"color: #800080; text-decoration-color: #800080\">│</span>\n",
       "<span style=\"color: #800080; text-decoration-color: #800080\">│</span>                                                                                                                 <span style=\"color: #800080; text-decoration-color: #800080\">│</span>\n",
       "<span style=\"color: #800080; text-decoration-color: #800080\">│</span>  <span style=\"color: #c0c0c0; text-decoration-color: #c0c0c0\">Thought: </span><span style=\"color: #00ff00; text-decoration-color: #00ff00\">I need to find out the specific waiting period for rehabilitation coverage in the insurance.</span>          <span style=\"color: #800080; text-decoration-color: #800080\">│</span>\n",
       "<span style=\"color: #800080; text-decoration-color: #800080\">│</span>                                                                                                                 <span style=\"color: #800080; text-decoration-color: #800080\">│</span>\n",
       "<span style=\"color: #800080; text-decoration-color: #800080\">│</span>  <span style=\"color: #c0c0c0; text-decoration-color: #c0c0c0\">Using Tool: </span><span style=\"color: #00ff00; text-decoration-color: #00ff00; font-weight: bold\">Knowledge base</span>                                                                                     <span style=\"color: #800080; text-decoration-color: #800080\">│</span>\n",
       "<span style=\"color: #800080; text-decoration-color: #800080\">│</span>                                                                                                                 <span style=\"color: #800080; text-decoration-color: #800080\">│</span>\n",
       "<span style=\"color: #800080; text-decoration-color: #800080\">╰─────────────────────────────────────────────────────────────────────────────────────────────────────────────────╯</span>\n",
       "</pre>\n"
      ],
      "text/plain": [
       "\u001b[35m╭─\u001b[0m\u001b[35m───────────────────────────────────────────\u001b[0m\u001b[35m 🔧 Agent Tool Execution \u001b[0m\u001b[35m───────────────────────────────────────────\u001b[0m\u001b[35m─╮\u001b[0m\n",
       "\u001b[35m│\u001b[0m                                                                                                                 \u001b[35m│\u001b[0m\n",
       "\u001b[35m│\u001b[0m  \u001b[37mAgent: \u001b[0m\u001b[1;92mSenior Insurance Coverage Assistant\u001b[0m                                                                     \u001b[35m│\u001b[0m\n",
       "\u001b[35m│\u001b[0m                                                                                                                 \u001b[35m│\u001b[0m\n",
       "\u001b[35m│\u001b[0m  \u001b[37mThought: \u001b[0m\u001b[92mI need to find out the specific waiting period for rehabilitation coverage in the insurance.\u001b[0m          \u001b[35m│\u001b[0m\n",
       "\u001b[35m│\u001b[0m                                                                                                                 \u001b[35m│\u001b[0m\n",
       "\u001b[35m│\u001b[0m  \u001b[37mUsing Tool: \u001b[0m\u001b[1;92mKnowledge base\u001b[0m                                                                                     \u001b[35m│\u001b[0m\n",
       "\u001b[35m│\u001b[0m                                                                                                                 \u001b[35m│\u001b[0m\n",
       "\u001b[35m╰─────────────────────────────────────────────────────────────────────────────────────────────────────────────────╯\u001b[0m\n"
      ]
     },
     "metadata": {},
     "output_type": "display_data"
    },
    {
     "data": {
      "text/html": [
       "<pre style=\"white-space:pre;overflow-x:auto;line-height:normal;font-family:Menlo,'DejaVu Sans Mono',consolas,'Courier New',monospace\"><span style=\"color: #000080; text-decoration-color: #000080\">╭────────────────────────────────────────────────── Tool Input ───────────────────────────────────────────────────╮</span>\n",
       "<span style=\"color: #000080; text-decoration-color: #000080\">│</span>                                                                                                                 <span style=\"color: #000080; text-decoration-color: #000080\">│</span>\n",
       "<span style=\"color: #000080; text-decoration-color: #000080\">│</span>  <span style=\"color: #e6db74; text-decoration-color: #e6db74; background-color: #ffffff\">\"{\\\"query\\\": \\\"waiting period for rehabilitation coverage\\\"}\"</span>                                                  <span style=\"color: #000080; text-decoration-color: #000080\">│</span>\n",
       "<span style=\"color: #000080; text-decoration-color: #000080\">│</span>                                                                                                                 <span style=\"color: #000080; text-decoration-color: #000080\">│</span>\n",
       "<span style=\"color: #000080; text-decoration-color: #000080\">╰─────────────────────────────────────────────────────────────────────────────────────────────────────────────────╯</span>\n",
       "</pre>\n"
      ],
      "text/plain": [
       "\u001b[34m╭─\u001b[0m\u001b[34m─────────────────────────────────────────────────\u001b[0m\u001b[34m Tool Input \u001b[0m\u001b[34m──────────────────────────────────────────────────\u001b[0m\u001b[34m─╮\u001b[0m\n",
       "\u001b[34m│\u001b[0m                                                                                                                 \u001b[34m│\u001b[0m\n",
       "\u001b[34m│\u001b[0m  \u001b[38;2;230;219;116;49m\"{\\\"query\\\": \\\"waiting period for rehabilitation coverage\\\"}\"\u001b[0m                                                  \u001b[34m│\u001b[0m\n",
       "\u001b[34m│\u001b[0m                                                                                                                 \u001b[34m│\u001b[0m\n",
       "\u001b[34m╰─────────────────────────────────────────────────────────────────────────────────────────────────────────────────╯\u001b[0m\n"
      ]
     },
     "metadata": {},
     "output_type": "display_data"
    },
    {
     "data": {
      "text/html": [
       "<pre style=\"white-space:pre;overflow-x:auto;line-height:normal;font-family:Menlo,'DejaVu Sans Mono',consolas,'Courier New',monospace\"><span style=\"color: #008000; text-decoration-color: #008000\">╭────────────────────────────────────────────────── Tool Output ──────────────────────────────────────────────────╮</span>\n",
       "<span style=\"color: #008000; text-decoration-color: #008000\">│</span>                                                                                                                 <span style=\"color: #008000; text-decoration-color: #008000\">│</span>\n",
       "<span style=\"color: #008000; text-decoration-color: #008000\">│</span>  <span style=\"color: #00ff00; text-decoration-color: #00ff00\">Relevant Content:</span>                                                                                              <span style=\"color: #008000; text-decoration-color: #008000\">│</span>\n",
       "<span style=\"color: #008000; text-decoration-color: #008000\">│</span>  <span style=\"color: #00ff00; text-decoration-color: #00ff00\">Health Programs &amp; Support Our Health and Hospital Substitution programs are designed to support our members </span>   <span style=\"color: #008000; text-decoration-color: #008000\">│</span>\n",
       "<span style=\"color: #008000; text-decoration-color: #008000\">│</span>  <span style=\"color: #00ff00; text-decoration-color: #00ff00\">on their health journey or on their road to recovery. We have a number of programs to suit a variety of </span>       <span style=\"color: #008000; text-decoration-color: #008000\">│</span>\n",
       "<span style=\"color: #008000; text-decoration-color: #008000\">│</span>  <span style=\"color: #00ff00; text-decoration-color: #00ff00\">health and recovery needs. HEALTH PROGRAMS Our health programs are designed to help you keep on top of your </span>   <span style=\"color: #008000; text-decoration-color: #008000\">│</span>\n",
       "<span style=\"color: #008000; text-decoration-color: #008000\">│</span>  <span style=\"color: #00ff00; text-decoration-color: #00ff00\">health and live a healthier life. We have a range of health programs to help you manage a number of different</span>  <span style=\"color: #008000; text-decoration-color: #008000\">│</span>\n",
       "<span style=\"color: #008000; text-decoration-color: #008000\">│</span>  <span style=\"color: #00ff00; text-decoration-color: #00ff00\">health conditions. The waiting period to recieve health programs is 2 months of continuous cover. HOSPITAL </span>    <span style=\"color: #008000; text-decoration-color: #008000\">│</span>\n",
       "<span style=\"color: #008000; text-decoration-color: #008000\">│</span>  <span style=\"color: #00ff00; text-decoration-color: #00ff00\">SUBSTITUTION PROGRAMS* Our Hospital substitution programs allow you and/or your family members to recover in </span>  <span style=\"color: #008000; text-decoration-color: #008000\">│</span>\n",
       "<span style=\"color: #008000; text-decoration-color: #008000\">│</span>  <span style=\"color: #00ff00; text-decoration-color: #00ff00\">the comfort of your own home with a range of in home hospital treatments, so you can have the choice of </span>       <span style=\"color: #008000; text-decoration-color: #008000\">│</span>\n",
       "<span style=\"color: #008000; text-decoration-color: #008000\">│</span>  <span style=\"color: #00ff00; text-decoration-color: #00ff00\">treatments that suit your needs. You’ll need to have served your 2-month waiting period and have a referral </span>   <span style=\"color: #008000; text-decoration-color: #008000\">│</span>\n",
       "<span style=\"color: #008000; text-decoration-color: #008000\">│</span>  <span style=\"color: #00ff00; text-decoration-color: #00ff00\">from your treating doctor to be eligible. Please note, anything that is a pre-existing condition will have a </span>  <span style=\"color: #008000; text-decoration-color: #008000\">│</span>\n",
       "<span style=\"color: #008000; text-decoration-color: #008000\">│</span>  <span style=\"color: #00ff00; text-decoration-color: #00ff00\">12-month waiting period.</span>                                                                                       <span style=\"color: #008000; text-decoration-color: #008000\">│</span>\n",
       "<span style=\"color: #008000; text-decoration-color: #008000\">│</span>                                                                                                                 <span style=\"color: #008000; text-decoration-color: #008000\">│</span>\n",
       "<span style=\"color: #008000; text-decoration-color: #008000\">│</span>  <span style=\"color: #00ff00; text-decoration-color: #00ff00\">CLINICAL CATEGORIES WAITING PERIOD GOLD Rehabilitation 2 months 4 Hospital psychiatric services 2 months 4 </span>    <span style=\"color: #008000; text-decoration-color: #008000\">│</span>\n",
       "<span style=\"color: #008000; text-decoration-color: #008000\">│</span>  <span style=\"color: #00ff00; text-decoration-color: #00ff00\">Palliative care 2 months 4 Brain and nervous system 2 months 4 Eye (not cataracts) 2 months 4 Ear, nose and </span>   <span style=\"color: #008000; text-decoration-color: #008000\">│</span>\n",
       "<span style=\"color: #008000; text-decoration-color: #008000\">│</span>  <span style=\"color: #00ff00; text-decoration-color: #00ff00\">throat 2 months 4 Tonsils, adenoids and grommets 2 months 4 Bone, joint and muscle 2 months 4 Joint </span>           <span style=\"color: #008000; text-decoration-color: #008000\">│</span>\n",
       "<span style=\"color: #008000; text-decoration-color: #008000\">│</span>  <span style=\"color: #00ff00; text-decoration-color: #00ff00\">reconstructions 2 months 4 Kidney and bladder 2 months 4 Male reproductive system 2 months 4 Digestive system</span>  <span style=\"color: #008000; text-decoration-color: #008000\">│</span>\n",
       "<span style=\"color: #008000; text-decoration-color: #008000\">│</span>  <span style=\"color: #00ff00; text-decoration-color: #00ff00\">2 months 4 Hernia and appendix 2 months 4 Gastrointestinal endoscopy 2 months 4 Gynaecology 2 months 4 </span>        <span style=\"color: #008000; text-decoration-color: #008000\">│</span>\n",
       "<span style=\"color: #008000; text-decoration-color: #008000\">│</span>  <span style=\"color: #00ff00; text-decoration-color: #00ff00\">Miscarriage and termination of pregnancy 2 months 4 Chemotherapy, radiotherapy and immunotherapy for cancer 2</span>  <span style=\"color: #008000; text-decoration-color: #008000\">│</span>\n",
       "<span style=\"color: #008000; text-decoration-color: #008000\">│</span>  <span style=\"color: #00ff00; text-decoration-color: #00ff00\">months 4 Pain management 2 months 4 Skin 2 months 4 Breast surgery (medically necessary) 2 months 4 CLINICAL </span>  <span style=\"color: #008000; text-decoration-color: #008000\">│</span>\n",
       "<span style=\"color: #008000; text-decoration-color: #008000\">│</span>  <span style=\"color: #00ff00; text-decoration-color: #00ff00\">CATEGORIES WAITING PERIOD GOLD Diabetes management (excluding insulin pumps) 2 months 4 Heart and vascular </span>    <span style=\"color: #008000; text-decoration-color: #008000\">│</span>\n",
       "<span style=\"color: #008000; text-decoration-color: #008000\">│</span>  <span style=\"color: #00ff00; text-decoration-color: #00ff00\">system 2 months 4 Lung and chest 2 months 4 Blood 2 months 4 Back, neck and spine 2 months 4 Plastic and </span>      <span style=\"color: #008000; text-decoration-color: #008000\">│</span>\n",
       "<span style=\"color: #008000; text-decoration-color: #008000\">│</span>  <span style=\"color: #00ff00; text-decoration-color: #00ff00\">reconstructive surgery (med...</span>                                                                                 <span style=\"color: #008000; text-decoration-color: #008000\">│</span>\n",
       "<span style=\"color: #008000; text-decoration-color: #008000\">│</span>                                                                                                                 <span style=\"color: #008000; text-decoration-color: #008000\">│</span>\n",
       "<span style=\"color: #008000; text-decoration-color: #008000\">╰─────────────────────────────────────────────────────────────────────────────────────────────────────────────────╯</span>\n",
       "</pre>\n"
      ],
      "text/plain": [
       "\u001b[32m╭─\u001b[0m\u001b[32m─────────────────────────────────────────────────\u001b[0m\u001b[32m Tool Output \u001b[0m\u001b[32m─────────────────────────────────────────────────\u001b[0m\u001b[32m─╮\u001b[0m\n",
       "\u001b[32m│\u001b[0m                                                                                                                 \u001b[32m│\u001b[0m\n",
       "\u001b[32m│\u001b[0m  \u001b[92mRelevant Content:\u001b[0m                                                                                              \u001b[32m│\u001b[0m\n",
       "\u001b[32m│\u001b[0m  \u001b[92mHealth Programs & Support Our Health and Hospital Substitution programs are designed to support our members \u001b[0m   \u001b[32m│\u001b[0m\n",
       "\u001b[32m│\u001b[0m  \u001b[92mon their health journey or on their road to recovery. We have a number of programs to suit a variety of \u001b[0m       \u001b[32m│\u001b[0m\n",
       "\u001b[32m│\u001b[0m  \u001b[92mhealth and recovery needs. HEALTH PROGRAMS Our health programs are designed to help you keep on top of your \u001b[0m   \u001b[32m│\u001b[0m\n",
       "\u001b[32m│\u001b[0m  \u001b[92mhealth and live a healthier life. We have a range of health programs to help you manage a number of different\u001b[0m  \u001b[32m│\u001b[0m\n",
       "\u001b[32m│\u001b[0m  \u001b[92mhealth conditions. The waiting period to recieve health programs is 2 months of continuous cover. HOSPITAL \u001b[0m    \u001b[32m│\u001b[0m\n",
       "\u001b[32m│\u001b[0m  \u001b[92mSUBSTITUTION PROGRAMS* Our Hospital substitution programs allow you and/or your family members to recover in \u001b[0m  \u001b[32m│\u001b[0m\n",
       "\u001b[32m│\u001b[0m  \u001b[92mthe comfort of your own home with a range of in home hospital treatments, so you can have the choice of \u001b[0m       \u001b[32m│\u001b[0m\n",
       "\u001b[32m│\u001b[0m  \u001b[92mtreatments that suit your needs. You’ll need to have served your 2-month waiting period and have a referral \u001b[0m   \u001b[32m│\u001b[0m\n",
       "\u001b[32m│\u001b[0m  \u001b[92mfrom your treating doctor to be eligible. Please note, anything that is a pre-existing condition will have a \u001b[0m  \u001b[32m│\u001b[0m\n",
       "\u001b[32m│\u001b[0m  \u001b[92m12-month waiting period.\u001b[0m                                                                                       \u001b[32m│\u001b[0m\n",
       "\u001b[32m│\u001b[0m                                                                                                                 \u001b[32m│\u001b[0m\n",
       "\u001b[32m│\u001b[0m  \u001b[92mCLINICAL CATEGORIES WAITING PERIOD GOLD Rehabilitation 2 months 4 Hospital psychiatric services 2 months 4 \u001b[0m    \u001b[32m│\u001b[0m\n",
       "\u001b[32m│\u001b[0m  \u001b[92mPalliative care 2 months 4 Brain and nervous system 2 months 4 Eye (not cataracts) 2 months 4 Ear, nose and \u001b[0m   \u001b[32m│\u001b[0m\n",
       "\u001b[32m│\u001b[0m  \u001b[92mthroat 2 months 4 Tonsils, adenoids and grommets 2 months 4 Bone, joint and muscle 2 months 4 Joint \u001b[0m           \u001b[32m│\u001b[0m\n",
       "\u001b[32m│\u001b[0m  \u001b[92mreconstructions 2 months 4 Kidney and bladder 2 months 4 Male reproductive system 2 months 4 Digestive system\u001b[0m  \u001b[32m│\u001b[0m\n",
       "\u001b[32m│\u001b[0m  \u001b[92m2 months 4 Hernia and appendix 2 months 4 Gastrointestinal endoscopy 2 months 4 Gynaecology 2 months 4 \u001b[0m        \u001b[32m│\u001b[0m\n",
       "\u001b[32m│\u001b[0m  \u001b[92mMiscarriage and termination of pregnancy 2 months 4 Chemotherapy, radiotherapy and immunotherapy for cancer 2\u001b[0m  \u001b[32m│\u001b[0m\n",
       "\u001b[32m│\u001b[0m  \u001b[92mmonths 4 Pain management 2 months 4 Skin 2 months 4 Breast surgery (medically necessary) 2 months 4 CLINICAL \u001b[0m  \u001b[32m│\u001b[0m\n",
       "\u001b[32m│\u001b[0m  \u001b[92mCATEGORIES WAITING PERIOD GOLD Diabetes management (excluding insulin pumps) 2 months 4 Heart and vascular \u001b[0m    \u001b[32m│\u001b[0m\n",
       "\u001b[32m│\u001b[0m  \u001b[92msystem 2 months 4 Lung and chest 2 months 4 Blood 2 months 4 Back, neck and spine 2 months 4 Plastic and \u001b[0m      \u001b[32m│\u001b[0m\n",
       "\u001b[32m│\u001b[0m  \u001b[92mreconstructive surgery (med...\u001b[0m                                                                                 \u001b[32m│\u001b[0m\n",
       "\u001b[32m│\u001b[0m                                                                                                                 \u001b[32m│\u001b[0m\n",
       "\u001b[32m╰─────────────────────────────────────────────────────────────────────────────────────────────────────────────────╯\u001b[0m\n"
      ]
     },
     "metadata": {},
     "output_type": "display_data"
    },
    {
     "data": {
      "text/html": [
       "<pre style=\"white-space:pre;overflow-x:auto;line-height:normal;font-family:Menlo,'DejaVu Sans Mono',consolas,'Courier New',monospace\">\n",
       "</pre>\n"
      ],
      "text/plain": [
       "\n"
      ]
     },
     "metadata": {},
     "output_type": "display_data"
    },
    {
     "data": {
      "text/html": [
       "<pre style=\"white-space:pre;overflow-x:auto;line-height:normal;font-family:Menlo,'DejaVu Sans Mono',consolas,'Courier New',monospace\"></pre>\n"
      ],
      "text/plain": []
     },
     "metadata": {},
     "output_type": "display_data"
    },
    {
     "data": {
      "text/html": [
       "<pre style=\"white-space:pre;overflow-x:auto;line-height:normal;font-family:Menlo,'DejaVu Sans Mono',consolas,'Courier New',monospace\"><span style=\"color: #008000; text-decoration-color: #008000\">╭───────────────────────────────────────────── ✅ Agent Final Answer ─────────────────────────────────────────────╮</span>\n",
       "<span style=\"color: #008000; text-decoration-color: #008000\">│</span>                                                                                                                 <span style=\"color: #008000; text-decoration-color: #008000\">│</span>\n",
       "<span style=\"color: #008000; text-decoration-color: #008000\">│</span>  <span style=\"color: #c0c0c0; text-decoration-color: #c0c0c0\">Agent: </span><span style=\"color: #00ff00; text-decoration-color: #00ff00; font-weight: bold\">Senior Insurance Coverage Assistant</span>                                                                     <span style=\"color: #008000; text-decoration-color: #008000\">│</span>\n",
       "<span style=\"color: #008000; text-decoration-color: #008000\">│</span>                                                                                                                 <span style=\"color: #008000; text-decoration-color: #008000\">│</span>\n",
       "<span style=\"color: #008000; text-decoration-color: #008000\">│</span>  <span style=\"color: #c0c0c0; text-decoration-color: #c0c0c0\">Final Answer:</span>                                                                                                  <span style=\"color: #008000; text-decoration-color: #008000\">│</span>\n",
       "<span style=\"color: #008000; text-decoration-color: #008000\">│</span>  <span style=\"color: #00ff00; text-decoration-color: #00ff00\">The waiting period for rehabilitation coverage under the insurance policy is 2 months of continuous cover. </span>    <span style=\"color: #008000; text-decoration-color: #008000\">│</span>\n",
       "<span style=\"color: #008000; text-decoration-color: #008000\">│</span>  <span style=\"color: #00ff00; text-decoration-color: #00ff00\">However, please note that anything that is a pre-existing condition will have a 12-month waiting period. </span>      <span style=\"color: #008000; text-decoration-color: #008000\">│</span>\n",
       "<span style=\"color: #008000; text-decoration-color: #008000\">│</span>  <span style=\"color: #00ff00; text-decoration-color: #00ff00\">There are also rehab at home programs available which include therapy for various conditions, but please be </span>   <span style=\"color: #008000; text-decoration-color: #008000\">│</span>\n",
       "<span style=\"color: #008000; text-decoration-color: #008000\">│</span>  <span style=\"color: #00ff00; text-decoration-color: #00ff00\">aware that waiting periods may apply for these specific health programs.</span>                                       <span style=\"color: #008000; text-decoration-color: #008000\">│</span>\n",
       "<span style=\"color: #008000; text-decoration-color: #008000\">│</span>                                                                                                                 <span style=\"color: #008000; text-decoration-color: #008000\">│</span>\n",
       "<span style=\"color: #008000; text-decoration-color: #008000\">╰─────────────────────────────────────────────────────────────────────────────────────────────────────────────────╯</span>\n",
       "</pre>\n"
      ],
      "text/plain": [
       "\u001b[32m╭─\u001b[0m\u001b[32m────────────────────────────────────────────\u001b[0m\u001b[32m ✅ Agent Final Answer \u001b[0m\u001b[32m────────────────────────────────────────────\u001b[0m\u001b[32m─╮\u001b[0m\n",
       "\u001b[32m│\u001b[0m                                                                                                                 \u001b[32m│\u001b[0m\n",
       "\u001b[32m│\u001b[0m  \u001b[37mAgent: \u001b[0m\u001b[1;92mSenior Insurance Coverage Assistant\u001b[0m                                                                     \u001b[32m│\u001b[0m\n",
       "\u001b[32m│\u001b[0m                                                                                                                 \u001b[32m│\u001b[0m\n",
       "\u001b[32m│\u001b[0m  \u001b[37mFinal Answer:\u001b[0m                                                                                                  \u001b[32m│\u001b[0m\n",
       "\u001b[32m│\u001b[0m  \u001b[92mThe waiting period for rehabilitation coverage under the insurance policy is 2 months of continuous cover. \u001b[0m    \u001b[32m│\u001b[0m\n",
       "\u001b[32m│\u001b[0m  \u001b[92mHowever, please note that anything that is a pre-existing condition will have a 12-month waiting period. \u001b[0m      \u001b[32m│\u001b[0m\n",
       "\u001b[32m│\u001b[0m  \u001b[92mThere are also rehab at home programs available which include therapy for various conditions, but please be \u001b[0m   \u001b[32m│\u001b[0m\n",
       "\u001b[32m│\u001b[0m  \u001b[92maware that waiting periods may apply for these specific health programs.\u001b[0m                                       \u001b[32m│\u001b[0m\n",
       "\u001b[32m│\u001b[0m                                                                                                                 \u001b[32m│\u001b[0m\n",
       "\u001b[32m╰─────────────────────────────────────────────────────────────────────────────────────────────────────────────────╯\u001b[0m\n"
      ]
     },
     "metadata": {},
     "output_type": "display_data"
    },
    {
     "data": {
      "text/html": [
       "<pre style=\"white-space:pre;overflow-x:auto;line-height:normal;font-family:Menlo,'DejaVu Sans Mono',consolas,'Courier New',monospace\">\n",
       "</pre>\n"
      ],
      "text/plain": [
       "\n"
      ]
     },
     "metadata": {},
     "output_type": "display_data"
    },
    {
     "data": {
      "text/html": [
       "<pre style=\"white-space:pre;overflow-x:auto;line-height:normal;font-family:Menlo,'DejaVu Sans Mono',consolas,'Courier New',monospace\"></pre>\n"
      ],
      "text/plain": []
     },
     "metadata": {},
     "output_type": "display_data"
    },
    {
     "data": {
      "text/html": [
       "<pre style=\"white-space:pre;overflow-x:auto;line-height:normal;font-family:Menlo,'DejaVu Sans Mono',consolas,'Courier New',monospace\"><span style=\"color: #008000; text-decoration-color: #008000\">╭──────────────────────────────────────────────── Task Completion ────────────────────────────────────────────────╮</span>\n",
       "<span style=\"color: #008000; text-decoration-color: #008000\">│</span>                                                                                                                 <span style=\"color: #008000; text-decoration-color: #008000\">│</span>\n",
       "<span style=\"color: #008000; text-decoration-color: #008000\">│</span>  <span style=\"color: #008000; text-decoration-color: #008000; font-weight: bold\">Task Completed</span>                                                                                                 <span style=\"color: #008000; text-decoration-color: #008000\">│</span>\n",
       "<span style=\"color: #008000; text-decoration-color: #008000\">│</span>  <span style=\"color: #c0c0c0; text-decoration-color: #c0c0c0\">Name: </span><span style=\"color: #008000; text-decoration-color: #008000\">b60d0649-9945-4e56-b890-fdb2dec8ed9f</span>                                                                     <span style=\"color: #008000; text-decoration-color: #008000\">│</span>\n",
       "<span style=\"color: #008000; text-decoration-color: #008000\">│</span>  <span style=\"color: #c0c0c0; text-decoration-color: #c0c0c0\">Agent: </span><span style=\"color: #008000; text-decoration-color: #008000\">Senior Insurance Coverage Assistant</span>                                                                     <span style=\"color: #008000; text-decoration-color: #008000\">│</span>\n",
       "<span style=\"color: #008000; text-decoration-color: #008000\">│</span>  <span style=\"color: #c0c0c0; text-decoration-color: #c0c0c0\">Tool Args: </span>                                                                                                    <span style=\"color: #008000; text-decoration-color: #008000\">│</span>\n",
       "<span style=\"color: #008000; text-decoration-color: #008000\">│</span>                                                                                                                 <span style=\"color: #008000; text-decoration-color: #008000\">│</span>\n",
       "<span style=\"color: #008000; text-decoration-color: #008000\">│</span>                                                                                                                 <span style=\"color: #008000; text-decoration-color: #008000\">│</span>\n",
       "<span style=\"color: #008000; text-decoration-color: #008000\">╰─────────────────────────────────────────────────────────────────────────────────────────────────────────────────╯</span>\n",
       "</pre>\n"
      ],
      "text/plain": [
       "\u001b[32m╭─\u001b[0m\u001b[32m───────────────────────────────────────────────\u001b[0m\u001b[32m Task Completion \u001b[0m\u001b[32m───────────────────────────────────────────────\u001b[0m\u001b[32m─╮\u001b[0m\n",
       "\u001b[32m│\u001b[0m                                                                                                                 \u001b[32m│\u001b[0m\n",
       "\u001b[32m│\u001b[0m  \u001b[1;32mTask Completed\u001b[0m                                                                                                 \u001b[32m│\u001b[0m\n",
       "\u001b[32m│\u001b[0m  \u001b[37mName: \u001b[0m\u001b[32mb60d0649-9945-4e56-b890-fdb2dec8ed9f\u001b[0m                                                                     \u001b[32m│\u001b[0m\n",
       "\u001b[32m│\u001b[0m  \u001b[37mAgent: \u001b[0m\u001b[32mSenior Insurance Coverage Assistant\u001b[0m                                                                     \u001b[32m│\u001b[0m\n",
       "\u001b[32m│\u001b[0m  \u001b[37mTool Args: \u001b[0m                                                                                                    \u001b[32m│\u001b[0m\n",
       "\u001b[32m│\u001b[0m                                                                                                                 \u001b[32m│\u001b[0m\n",
       "\u001b[32m│\u001b[0m                                                                                                                 \u001b[32m│\u001b[0m\n",
       "\u001b[32m╰─────────────────────────────────────────────────────────────────────────────────────────────────────────────────╯\u001b[0m\n"
      ]
     },
     "metadata": {},
     "output_type": "display_data"
    },
    {
     "data": {
      "text/html": [
       "<pre style=\"white-space:pre;overflow-x:auto;line-height:normal;font-family:Menlo,'DejaVu Sans Mono',consolas,'Courier New',monospace\">\n",
       "</pre>\n"
      ],
      "text/plain": [
       "\n"
      ]
     },
     "metadata": {},
     "output_type": "display_data"
    },
    {
     "data": {
      "text/html": [
       "<pre style=\"white-space:pre;overflow-x:auto;line-height:normal;font-family:Menlo,'DejaVu Sans Mono',consolas,'Courier New',monospace\"><span style=\"color: #008000; text-decoration-color: #008000\">╭──────────────────────────────────────────────── Crew Completion ────────────────────────────────────────────────╮</span>\n",
       "<span style=\"color: #008000; text-decoration-color: #008000\">│</span>                                                                                                                 <span style=\"color: #008000; text-decoration-color: #008000\">│</span>\n",
       "<span style=\"color: #008000; text-decoration-color: #008000\">│</span>  <span style=\"color: #008000; text-decoration-color: #008000; font-weight: bold\">Crew Execution Completed</span>                                                                                       <span style=\"color: #008000; text-decoration-color: #008000\">│</span>\n",
       "<span style=\"color: #008000; text-decoration-color: #008000\">│</span>  <span style=\"color: #c0c0c0; text-decoration-color: #c0c0c0\">Name: </span><span style=\"color: #008000; text-decoration-color: #008000\">crew</span>                                                                                                     <span style=\"color: #008000; text-decoration-color: #008000\">│</span>\n",
       "<span style=\"color: #008000; text-decoration-color: #008000\">│</span>  <span style=\"color: #c0c0c0; text-decoration-color: #c0c0c0\">ID: </span><span style=\"color: #008000; text-decoration-color: #008000\">bd68644b-e94c-416a-af6d-0a7e45fa1b02</span>                                                                       <span style=\"color: #008000; text-decoration-color: #008000\">│</span>\n",
       "<span style=\"color: #008000; text-decoration-color: #008000\">│</span>  <span style=\"color: #c0c0c0; text-decoration-color: #c0c0c0\">Tool Args: </span>                                                                                                    <span style=\"color: #008000; text-decoration-color: #008000\">│</span>\n",
       "<span style=\"color: #008000; text-decoration-color: #008000\">│</span>  <span style=\"color: #c0c0c0; text-decoration-color: #c0c0c0\">Final Output: The waiting period for rehabilitation coverage under the insurance policy is 2 months of </span>        <span style=\"color: #008000; text-decoration-color: #008000\">│</span>\n",
       "<span style=\"color: #008000; text-decoration-color: #008000\">│</span>  <span style=\"color: #c0c0c0; text-decoration-color: #c0c0c0\">continuous cover. However, please note that anything that is a pre-existing condition will have a 12-month </span>    <span style=\"color: #008000; text-decoration-color: #008000\">│</span>\n",
       "<span style=\"color: #008000; text-decoration-color: #008000\">│</span>  <span style=\"color: #c0c0c0; text-decoration-color: #c0c0c0\">waiting period. There are also rehab at home programs available which include therapy for various conditions,</span>  <span style=\"color: #008000; text-decoration-color: #008000\">│</span>\n",
       "<span style=\"color: #008000; text-decoration-color: #008000\">│</span>  <span style=\"color: #c0c0c0; text-decoration-color: #c0c0c0\">but please be aware that waiting periods may apply for these specific health programs.</span>                         <span style=\"color: #008000; text-decoration-color: #008000\">│</span>\n",
       "<span style=\"color: #008000; text-decoration-color: #008000\">│</span>                                                                                                                 <span style=\"color: #008000; text-decoration-color: #008000\">│</span>\n",
       "<span style=\"color: #008000; text-decoration-color: #008000\">│</span>                                                                                                                 <span style=\"color: #008000; text-decoration-color: #008000\">│</span>\n",
       "<span style=\"color: #008000; text-decoration-color: #008000\">╰─────────────────────────────────────────────────────────────────────────────────────────────────────────────────╯</span>\n",
       "</pre>\n"
      ],
      "text/plain": [
       "\u001b[32m╭─\u001b[0m\u001b[32m───────────────────────────────────────────────\u001b[0m\u001b[32m Crew Completion \u001b[0m\u001b[32m───────────────────────────────────────────────\u001b[0m\u001b[32m─╮\u001b[0m\n",
       "\u001b[32m│\u001b[0m                                                                                                                 \u001b[32m│\u001b[0m\n",
       "\u001b[32m│\u001b[0m  \u001b[1;32mCrew Execution Completed\u001b[0m                                                                                       \u001b[32m│\u001b[0m\n",
       "\u001b[32m│\u001b[0m  \u001b[37mName: \u001b[0m\u001b[32mcrew\u001b[0m                                                                                                     \u001b[32m│\u001b[0m\n",
       "\u001b[32m│\u001b[0m  \u001b[37mID: \u001b[0m\u001b[32mbd68644b-e94c-416a-af6d-0a7e45fa1b02\u001b[0m                                                                       \u001b[32m│\u001b[0m\n",
       "\u001b[32m│\u001b[0m  \u001b[37mTool Args: \u001b[0m                                                                                                    \u001b[32m│\u001b[0m\n",
       "\u001b[32m│\u001b[0m  \u001b[37mFinal Output: The waiting period for rehabilitation coverage under the insurance policy is 2 months of \u001b[0m        \u001b[32m│\u001b[0m\n",
       "\u001b[32m│\u001b[0m  \u001b[37mcontinuous cover. However, please note that anything that is a pre-existing condition will have a 12-month \u001b[0m    \u001b[32m│\u001b[0m\n",
       "\u001b[32m│\u001b[0m  \u001b[37mwaiting period. There are also rehab at home programs available which include therapy for various conditions,\u001b[0m  \u001b[32m│\u001b[0m\n",
       "\u001b[32m│\u001b[0m  \u001b[37mbut please be aware that waiting periods may apply for these specific health programs.\u001b[0m                         \u001b[32m│\u001b[0m\n",
       "\u001b[32m│\u001b[0m                                                                                                                 \u001b[32m│\u001b[0m\n",
       "\u001b[32m│\u001b[0m                                                                                                                 \u001b[32m│\u001b[0m\n",
       "\u001b[32m╰─────────────────────────────────────────────────────────────────────────────────────────────────────────────────╯\u001b[0m\n"
      ]
     },
     "metadata": {},
     "output_type": "display_data"
    },
    {
     "data": {
      "text/html": [
       "<pre style=\"white-space:pre;overflow-x:auto;line-height:normal;font-family:Menlo,'DejaVu Sans Mono',consolas,'Courier New',monospace\">\n",
       "</pre>\n"
      ],
      "text/plain": [
       "\n"
      ]
     },
     "metadata": {},
     "output_type": "display_data"
    },
    {
     "name": "stdout",
     "output_type": "stream",
     "text": [
      "The waiting period for rehabilitation coverage under the insurance policy is 2 months of continuous cover. However, please note that anything that is a pre-existing condition will have a 12-month waiting period. There are also rehab at home programs available which include therapy for various conditions, but please be aware that waiting periods may apply for these specific health programs.\n"
     ]
    }
   ],
   "source": [
    "crew = Crew(agents=[insurance_agent], tasks=[task1], verbose=True)\n",
    "task_output = crew.kickoff()\n",
    "print(task_output) "
   ]
  },
  {
   "cell_type": "markdown",
   "id": "f15e8c91",
   "metadata": {},
   "source": [
    "## 3.7. Resources"
   ]
  },
  {
   "cell_type": "markdown",
   "id": "970b9431",
   "metadata": {},
   "source": [
    "- [CrewAI Agents](https://docs.crewai.com/concepts/agents)\n",
    "- [CrewAI Tasks](https://docs.crewai.com/concepts/tasks)\n",
    "- [CrewAI RagTool](https://docs.crewai.com/tools/ai-ml/ragtool)\n",
    "- [Short course on Multi Agents with CrewAI](https://www.deeplearning.ai/short-courses/multi-ai-agent-systems-with-crewai/)"
   ]
  },
  {
   "cell_type": "markdown",
   "id": "4a54f140",
   "metadata": {},
   "source": [
    "<div style=\"background-color:#fff6ff; padding:13px; border-width:3px; border-color:#efe6ef; border-style:solid; border-radius:6px\">\n",
    "<p> ⬇ &nbsp; <b>Download Notebooks:</b> 1) click on the <em>\"File\"</em> option on the top menu of the notebook and then 2) click on <em>\"Download as\"</em> and select <em>\"Notebook (.ipynb)\"</em>.</p>\n",
    "\n",
    "</div>"
   ]
  }
 ],
 "metadata": {
  "kernelspec": {
   "display_name": "Python (CrewAI)",
   "language": "python",
   "name": "my-crewai-env"
  },
  "language_info": {
   "codemirror_mode": {
    "name": "ipython",
    "version": 3
   },
   "file_extension": ".py",
   "mimetype": "text/x-python",
   "name": "python",
   "nbconvert_exporter": "python",
   "pygments_lexer": "ipython3",
   "version": "3.10.13"
  }
 },
 "nbformat": 4,
 "nbformat_minor": 5
}
