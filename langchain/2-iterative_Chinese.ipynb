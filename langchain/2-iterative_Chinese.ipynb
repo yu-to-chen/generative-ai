{
 "cells": [
  {
   "cell_type": "markdown",
   "metadata": {
    "id": "L9DtiP-0GIcj"
   },
   "source": [
    "# Iterative Prompt Develelopment\n",
    "In this lesson, you'll iteratively analyze and refine your prompts to generate marketing copy from a product fact sheet.\n",
    "\n",
    "## Setup"
   ]
  },
  {
   "cell_type": "code",
   "execution_count": 1,
   "metadata": {
    "id": "GqmnSpjDGL83"
   },
   "outputs": [],
   "source": [
    "import openai\n",
    "import os\n",
    "\n",
    "from dotenv import load_dotenv, find_dotenv\n",
    "_ = load_dotenv(find_dotenv()) # read local .env file\n",
    "\n",
    "openai.api_key  = os.getenv('OPENAI_API_KEY')\n"
   ]
  },
  {
   "cell_type": "code",
   "execution_count": 2,
   "metadata": {
    "id": "aP3PrqyzGOgc"
   },
   "outputs": [],
   "source": [
    "def get_completion(prompt, model=\"gpt-3.5-turbo\"):\n",
    "    messages = [{\"role\": \"user\", \"content\": prompt}]\n",
    "    response = openai.ChatCompletion.create(\n",
    "        model=model,\n",
    "        messages=messages,\n",
    "        temperature=0, # this is the degree of randomness of the model's output\n",
    "    )\n",
    "    return response.choices[0].message[\"content\"]"
   ]
  },
  {
   "cell_type": "markdown",
   "metadata": {
    "id": "japrg7mAGR2g"
   },
   "source": [
    "## Generate a marketing product description from a product fact sheet"
   ]
  },
  {
   "cell_type": "code",
   "execution_count": 3,
   "metadata": {
    "id": "463Hski3GUF_"
   },
   "outputs": [],
   "source": [
    "fact_sheet_chair = \"\"\"\n",
    "OVERVIEW\n",
    "- Part of a beautiful family of mid-century inspired office furniture, \n",
    "including filing cabinets, desks, bookcases, meeting tables, and more.\n",
    "- Several options of shell color and base finishes.\n",
    "- Available with plastic back and front upholstery (SWC-100) \n",
    "or full upholstery (SWC-110) in 10 fabric and 6 leather options.\n",
    "- Base finish options are: stainless steel, matte black, \n",
    "gloss white, or chrome.\n",
    "- Chair is available with or without armrests.\n",
    "- Suitable for home or business settings.\n",
    "- Qualified for contract use.\n",
    "\n",
    "CONSTRUCTION\n",
    "- 5-wheel plastic coated aluminum base.\n",
    "- Pneumatic chair adjust for easy raise/lower action.\n",
    "\n",
    "DIMENSIONS\n",
    "- WIDTH 53 CM | 20.87”\n",
    "- DEPTH 51 CM | 20.08”\n",
    "- HEIGHT 80 CM | 31.50”\n",
    "- SEAT HEIGHT 44 CM | 17.32”\n",
    "- SEAT DEPTH 41 CM | 16.14”\n",
    "\n",
    "OPTIONS\n",
    "- Soft or hard-floor caster options.\n",
    "- Two choices of seat foam densities: \n",
    " medium (1.8 lb/ft3) or high (2.8 lb/ft3)\n",
    "- Armless or 8 position PU armrests \n",
    "\n",
    "MATERIALS\n",
    "SHELL BASE GLIDER\n",
    "- Cast Aluminum with modified nylon PA6/PA66 coating.\n",
    "- Shell thickness: 10 mm.\n",
    "SEAT\n",
    "- HD36 foam\n",
    "\n",
    "COUNTRY OF ORIGIN\n",
    "- Italy\n",
    "\"\"\"\n"
   ]
  },
  {
   "cell_type": "code",
   "execution_count": 4,
   "metadata": {
    "id": "1GS_smYoGXPV"
   },
   "outputs": [
    {
     "name": "stdout",
     "output_type": "stream",
     "text": [
      "Introducing our stunning mid-century inspired office chair, the perfect addition to any home or business setting. Part of a beautiful family of office furniture, including filing cabinets, desks, bookcases, meeting tables, and more, this chair is available in several options of shell color and base finishes to suit your style. Choose from plastic back and front upholstery (SWC-100) or full upholstery (SWC-110) in 10 fabric and 6 leather options.\n",
      "\n",
      "The chair is constructed with a 5-wheel plastic coated aluminum base and features a pneumatic chair adjust for easy raise/lower action. It is available with or without armrests and is qualified for contract use. The base finish options are stainless steel, matte black, gloss white, or chrome.\n",
      "\n",
      "Measuring at WIDTH 53 CM | 20.87”, DEPTH 51 CM | 20.08”, HEIGHT 80 CM | 31.50”, SEAT HEIGHT 44 CM | 17.32”, and SEAT DEPTH 41 CM | 16.14”, this chair is designed for ultimate comfort. You can choose between soft or hard-floor caster options and two choices of seat foam densities: medium (1.8 lb/ft3) or high (2.8 lb/ft3). The chair is also available with armless or 8 position PU armrests.\n",
      "\n",
      "The materials used in the construction of this chair are of the highest quality. The shell base glider is made of cast aluminum with modified nylon PA6/PA66 coating and has a shell thickness of 10 mm. The seat is made of HD36 foam, ensuring maximum comfort and durability.\n",
      "\n",
      "This chair is made in Italy and is a true testament to Italian craftsmanship. Don't settle for anything less than the best. Add this beautiful mid-century inspired office chair to your collection today.\n"
     ]
    }
   ],
   "source": [
    "prompt = f\"\"\"\n",
    "Your task is to help a marketing team create a \n",
    "description for a retail website of a product based \n",
    "on a technical fact sheet.\n",
    "\n",
    "Write a product description based on the information \n",
    "provided in the technical specifications delimited by \n",
    "triple backticks.\n",
    "\n",
    "Technical specifications: ```{fact_sheet_chair}```\n",
    "\"\"\"\n",
    "response = get_completion(prompt)\n",
    "print(response)\n"
   ]
  },
  {
   "cell_type": "code",
   "execution_count": 4,
   "metadata": {},
   "outputs": [],
   "source": [
    "fact_sheet_chair_2 = \"\"\"\n",
    "概述\n",
    "- 是美觀的中世紀風格辦公家具系列的一部分，包括檔案櫃、辦公桌、書櫃、會議桌等等。\n",
    "- 提供多種殼體顏色和底座塗裝選項。\n",
    "- 提供有塑料背面和前部織物（SWC-100）或全織物（SWC-110）的選項，提供10種布料和6種皮革選項。\n",
    "- 底座塗裝選項包括：不銹鋼、亞光黑、光澤白、或鉻。\n",
    "- 提供有扶手或無扶手的椅子。\n",
    "- 適用於家庭或商業環境。\n",
    "- 符合合同使用資格。\n",
    "\n",
    "建造\n",
    "- 5輪塑膠包覆鋁製底座。\n",
    "- 氣壓椅調整，便於升降。\n",
    "\n",
    "尺寸\n",
    "- 寬度 53 公分 | 20.87 英寸\n",
    "- 深度 51 公分 | 20.08 英寸\n",
    "- 高度 80 公分 | 31.50 英寸\n",
    "- 座高 44 公分 | 17.32 英寸\n",
    "- 座深 41 公分 | 16.14 英寸\n",
    "\n",
    "選項\n",
    "- 軟地板或硬地板腳輪選項。\n",
    "- 兩種座墊泡棉密度的選擇： \n",
    "  中等（1.8 磅/立方英尺）或高（2.8 磅/立方英尺）\n",
    "- 無扶手或8位可調PU扶手\n",
    "\n",
    "材料\n",
    "外殼底座滑塊\n",
    "- 鑄鋁，表面處理有改良型尼龍PA6/PA66塗層。\n",
    "- 殼厚度：10 毫米。\n",
    "座位\n",
    "- HD36泡棉\n",
    "\n",
    "產地\n",
    "- 意大利\n",
    "\"\"\"\n"
   ]
  },
  {
   "cell_type": "code",
   "execution_count": 6,
   "metadata": {
    "id": "1GS_smYoGXPV"
   },
   "outputs": [
    {
     "name": "stdout",
     "output_type": "stream",
     "text": [
      "這款產品是一個美觀的中世紀風格辦公家具系列的一部分，包括檔案櫃、辦公桌、書櫃、會議桌等等。它提供多種殼體顏色和底座塗裝選項，以及有塑料背面和前部織物（SWC-100）或全織物（SWC-110）的選項，提供10種布料和6種皮革選項。底座塗裝選項包括：不銹鋼、亞光黑、光澤白、或鉻。此外，它還提供有扶手或無扶手的椅子，適用於家庭或商業環境，符合合同使用資格。\n",
      "\n",
      "這款產品的建造採用了5輪塑膠包覆鋁製底座，氣壓椅調整，便於升降。它的尺寸為寬度53公分，深度51公分，高度80公分，座高44公分，座深41公分。此外，它還提供了軟地板或硬地板腳輪選項，兩種座墊泡棉密度的選擇（中等或高），以及無扶手或8位可調PU扶手的選項。\n",
      "\n",
      "這款產品的外殼底座滑塊採用了鑄鋁，表面處理有改良型尼龍PA6/PA66塗層，殼厚度為10毫米。座位採用了HD36泡棉。它的產地是意大利。\n"
     ]
    }
   ],
   "source": [
    "prompt = f\"\"\"\n",
    "你的任務是協助一個行銷團隊，根據技術規格表，為零售網站的一個產品撰寫描述。\n",
    "\n",
    "請根據被三個反引號標記的技術規格資訊，撰寫產品描述。\n",
    "\n",
    "技術規格: ```{fact_sheet_chair_2}```\n",
    "\"\"\"\n",
    "response = get_completion(prompt)\n",
    "print(response)\n"
   ]
  },
  {
   "cell_type": "markdown",
   "metadata": {
    "id": "uQLhg4B5GZvZ"
   },
   "source": [
    "## Issue 1: The text is too long \n",
    "- Limit the number of words/sentences/characters."
   ]
  },
  {
   "cell_type": "code",
   "execution_count": 8,
   "metadata": {
    "id": "ttK1xlwZGeBp"
   },
   "outputs": [
    {
     "name": "stdout",
     "output_type": "stream",
     "text": [
      "Introducing our mid-century inspired office chair, part of a beautiful furniture family. Available in various shell colors and base finishes, with plastic or full upholstery options in fabric or leather. Suitable for home or business use, with a 5-wheel base and pneumatic chair adjust. Made in Italy.\n"
     ]
    }
   ],
   "source": [
    "prompt = f\"\"\"\n",
    "Your task is to help a marketing team create a \n",
    "description for a retail website of a product based \n",
    "on a technical fact sheet.\n",
    "\n",
    "Write a product description based on the information \n",
    "provided in the technical specifications delimited by \n",
    "triple backticks.\n",
    "\n",
    "Use at most 50 words.\n",
    "\n",
    "Technical specifications: ```{fact_sheet_chair}```\n",
    "\"\"\"\n",
    "response = get_completion(prompt)\n",
    "print(response)\n"
   ]
  },
  {
   "cell_type": "code",
   "execution_count": 12,
   "metadata": {
    "id": "ttK1xlwZGeBp"
   },
   "outputs": [
    {
     "name": "stdout",
     "output_type": "stream",
     "text": [
      "美觀中世紀風格辦公家具系列，包括檔案櫃、辦公桌、書櫃、會議桌等。多種殼體顏色和底座塗裝選項，提供有塑料背面和前部織物或全織物的選項。適用於家庭或商業環境，符合合同使用資格。產地：意大利。\n"
     ]
    }
   ],
   "source": [
    "prompt = f\"\"\"\n",
    "你的任務是協助一個行銷團隊，根據技術規格表，為零售網站的一個產品撰寫描述。\n",
    "\n",
    "請根據被三個反引號標記的技術規格資訊，撰寫產品描述。\n",
    "\n",
    "最多使用50個字.\n",
    "\n",
    "技術規格: ```{fact_sheet_chair_2}```\n",
    "\"\"\"\n",
    "response = get_completion(prompt)\n",
    "print(response)\n"
   ]
  },
  {
   "cell_type": "code",
   "execution_count": 9,
   "metadata": {
    "id": "wfBCEY7WGgKP"
   },
   "outputs": [
    {
     "data": {
      "text/plain": [
       "301"
      ]
     },
     "execution_count": 9,
     "metadata": {},
     "output_type": "execute_result"
    }
   ],
   "source": [
    "len(response)\n"
   ]
  },
  {
   "cell_type": "markdown",
   "metadata": {
    "id": "08PaEimyGibD"
   },
   "source": [
    "## Issue 2. Text focuses on the wrong details\n",
    "- Ask it to focus on the aspects that are relevant to the intended audience."
   ]
  },
  {
   "cell_type": "code",
   "execution_count": 5,
   "metadata": {
    "id": "C3zpMAMmGkiv"
   },
   "outputs": [
    {
     "name": "stdout",
     "output_type": "stream",
     "text": [
      "Introducing our mid-century inspired office chair, perfect for both home and business settings. With a range of shell colors and base finishes, including stainless steel and matte black, this chair is available with or without armrests. The 5-wheel plastic coated aluminum base and pneumatic chair adjust make it easy to raise and lower. Made in Italy with a cast aluminum shell and HD36 foam seat.\n"
     ]
    }
   ],
   "source": [
    "prompt = f\"\"\"\n",
    "Your task is to help a marketing team create a \n",
    "description for a retail website of a product based \n",
    "on a technical fact sheet.\n",
    "\n",
    "Write a product description based on the information \n",
    "provided in the technical specifications delimited by \n",
    "triple backticks.\n",
    "\n",
    "The description is intended for furniture retailers, \n",
    "so should be technical in nature and focus on the \n",
    "materials the product is constructed from.\n",
    "\n",
    "Use at most 50 words.\n",
    "\n",
    "Technical specifications: ```{fact_sheet_chair}```\n",
    "\"\"\"\n",
    "response = get_completion(prompt)\n",
    "print(response)\n"
   ]
  },
  {
   "cell_type": "code",
   "execution_count": 6,
   "metadata": {},
   "outputs": [
    {
     "name": "stdout",
     "output_type": "stream",
     "text": [
      "中世紀風格辦公家具系列，包括檔案櫃、辦公桌、書櫃、會議桌等等。提供多種殼體顏色和底座塗裝選項，適用於家庭或商業環境。使用鑄鋁和改良型尼龍PA6/PA66塗層，座位採用高密度泡棉。產地：意大利。\n"
     ]
    }
   ],
   "source": [
    "prompt = f\"\"\"\n",
    "你的任務是協助一個行銷團隊，根據技術規格表，為零售網站的一個產品撰寫描述。\n",
    "\n",
    "請根據被三個反引號標記的技術規格資訊，撰寫產品描述。\n",
    "\n",
    "此描述是為家具零售商設計，因此應具有技術性質，並專注於產品所使用的建構材料。\n",
    "\n",
    "最多使用50個字.\n",
    "\n",
    "技術規格: ```{fact_sheet_chair_2}```\n",
    "\"\"\"\n",
    "response = get_completion(prompt)\n",
    "print(response)\n"
   ]
  },
  {
   "cell_type": "code",
   "execution_count": 7,
   "metadata": {
    "id": "88bNVNwJGsiT"
   },
   "outputs": [
    {
     "name": "stdout",
     "output_type": "stream",
     "text": [
      "Introducing our mid-century inspired office chair, perfect for home or business settings. With a range of shell colors and base finishes, and the option of plastic or full upholstery in various fabrics and leathers, this chair is both stylish and versatile. Constructed with a 5-wheel plastic coated aluminum base and pneumatic chair adjust, it's also practical and comfortable. Available with or without armrests, and qualified for contract use. Product IDs: SWC-100, SWC-110.\n"
     ]
    }
   ],
   "source": [
    "prompt = f\"\"\"\n",
    "Your task is to help a marketing team create a \n",
    "description for a retail website of a product based \n",
    "on a technical fact sheet.\n",
    "\n",
    "Write a product description based on the information \n",
    "provided in the technical specifications delimited by \n",
    "triple backticks.\n",
    "\n",
    "The description is intended for furniture retailers, \n",
    "so should be technical in nature and focus on the \n",
    "materials the product is constructed from.\n",
    "\n",
    "At the end of the description, include every 7-character \n",
    "Product ID in the technical specification.\n",
    "\n",
    "Use at most 50 words.\n",
    "\n",
    "Technical specifications: ```{fact_sheet_chair}```\n",
    "\"\"\"\n",
    "response = get_completion(prompt)\n",
    "print(response)\n"
   ]
  },
  {
   "cell_type": "code",
   "execution_count": 8,
   "metadata": {},
   "outputs": [
    {
     "name": "stdout",
     "output_type": "stream",
     "text": [
      "這款中世紀風格辦公家具系列包括檔案櫃、辦公桌、書櫃、會議桌等等，提供多種殼體顏色和底座塗裝選項。座位可選擇塑料背面和前部織物（SWC-100）或全織物（SWC-110），提供10種布料和6種皮革選項。底座塗裝選項包括不銹鋼、亞光黑、光澤白或鉻。此系列適用於家庭或商業環境，符合合同使用資格。產品ID：SWC-100。\n"
     ]
    }
   ],
   "source": [
    "prompt = f\"\"\"\n",
    "你的任務是協助一個行銷團隊，根據技術規格表，為零售網站的一個產品撰寫描述。\n",
    "\n",
    "請根據被三個反引號標記的技術規格資訊，撰寫產品描述。\n",
    "\n",
    "此描述是為家具零售商設計，因此應具有技術性質，並專注於產品所使用的建構材料。\n",
    "\n",
    "在描述的結尾處，請包含技術規格中的每一個7字符的產品ID。\n",
    "\n",
    "最多使用50個字.\n",
    "\n",
    "技術規格: ```{fact_sheet_chair_2}```\n",
    "\"\"\"\n",
    "response = get_completion(prompt)\n",
    "print(response)\n"
   ]
  },
  {
   "cell_type": "markdown",
   "metadata": {
    "id": "zm1claQoGvGL"
   },
   "source": [
    "## Issue 3. Description needs a table of dimensions\n",
    "- Ask it to extract information and organize it in a table."
   ]
  },
  {
   "cell_type": "code",
   "execution_count": 9,
   "metadata": {
    "id": "0t88AoQNGx0H"
   },
   "outputs": [
    {
     "name": "stdout",
     "output_type": "stream",
     "text": [
      "<div>\n",
      "<h2>Mid-Century Inspired Office Chair</h2>\n",
      "<p>Introducing our mid-century inspired office chair, part of a beautiful family of office furniture that includes filing cabinets, desks, bookcases, meeting tables, and more. This chair is available in several options of shell color and base finishes, allowing you to customize it to your liking. You can choose between plastic back and front upholstery or full upholstery in 10 fabric and 6 leather options. The base finish options are stainless steel, matte black, gloss white, or chrome. The chair is also available with or without armrests, making it suitable for both home and business settings. Plus, it's qualified for contract use, ensuring its durability and longevity.</p>\n",
      "<p>The chair's construction features a 5-wheel plastic coated aluminum base and a pneumatic chair adjust for easy raise/lower action. You can also choose between soft or hard-floor caster options and two choices of seat foam densities: medium (1.8 lb/ft3) or high (2.8 lb/ft3). The armrests are also customizable, with the option of armless or 8 position PU armrests.</p>\n",
      "<p>The materials used in the chair's construction are of the highest quality. The shell base glider is made of cast aluminum with modified nylon PA6/PA66 coating, with a shell thickness of 10 mm. The seat is made of HD36 foam, ensuring maximum comfort and support.</p>\n",
      "<p>Made in Italy, this mid-century inspired office chair is the perfect addition to any office space. Order yours today!</p>\n",
      "<h3>Product IDs:</h3>\n",
      "<ul>\n",
      "<li>SWC-100</li>\n",
      "<li>SWC-110</li>\n",
      "</ul>\n",
      "</div>\n",
      "\n",
      "<table>\n",
      "  <caption>Product Dimensions</caption>\n",
      "  <tr>\n",
      "    <th>Dimension Name</th>\n",
      "    <th>Measurement (inches)</th>\n",
      "  </tr>\n",
      "  <tr>\n",
      "    <td>Width</td>\n",
      "    <td>20.87\"</td>\n",
      "  </tr>\n",
      "  <tr>\n",
      "    <td>Depth</td>\n",
      "    <td>20.08\"</td>\n",
      "  </tr>\n",
      "  <tr>\n",
      "    <td>Height</td>\n",
      "    <td>31.50\"</td>\n",
      "  </tr>\n",
      "  <tr>\n",
      "    <td>Seat Height</td>\n",
      "    <td>17.32\"</td>\n",
      "  </tr>\n",
      "  <tr>\n",
      "    <td>Seat Depth</td>\n",
      "    <td>16.14\"</td>\n",
      "  </tr>\n",
      "</table>\n"
     ]
    }
   ],
   "source": [
    "prompt = f\"\"\"\n",
    "Your task is to help a marketing team create a \n",
    "description for a retail website of a product based \n",
    "on a technical fact sheet.\n",
    "\n",
    "Write a product description based on the information \n",
    "provided in the technical specifications delimited by \n",
    "triple backticks.\n",
    "\n",
    "The description is intended for furniture retailers, \n",
    "so should be technical in nature and focus on the \n",
    "materials the product is constructed from.\n",
    "\n",
    "At the end of the description, include every 7-character \n",
    "Product ID in the technical specification.\n",
    "\n",
    "After the description, include a table that gives the \n",
    "product's dimensions. The table should have two columns.\n",
    "In the first column include the name of the dimension. \n",
    "In the second column include the measurements in inches only.\n",
    "\n",
    "Give the table the title 'Product Dimensions'.\n",
    "\n",
    "Format everything as HTML that can be used in a website. \n",
    "Place the description in a <div> element.\n",
    "\n",
    "Technical specifications: ```{fact_sheet_chair}```\n",
    "\"\"\"\n",
    "\n",
    "response = get_completion(prompt)\n",
    "print(response)\n"
   ]
  },
  {
   "cell_type": "code",
   "execution_count": 10,
   "metadata": {},
   "outputs": [
    {
     "name": "stdout",
     "output_type": "stream",
     "text": [
      "<div>\n",
      "<p>這款產品是美觀的中世紀風格辦公家具系列的一部分，包括檔案櫃、辦公桌、書櫃、會議桌等等。它提供多種殼體顏色和底座塗裝選項，並且有塑料背面和前部織物（SWC-100）或全織物（SWC-110）的選項，提供10種布料和6種皮革選項。底座塗裝選項包括：不銹鋼、亞光黑、光澤白、或鉻。此外，它還提供有扶手或無扶手的椅子，適用於家庭或商業環境，符合合同使用資格。</p>\n",
      "<p>這款產品的外殼底座滑塊是鑄鋁，表面處理有改良型尼龍PA6/PA66塗層，殼厚度為10毫米。座位是HD36泡棉。它的建造是5輪塑膠包覆鋁製底座，並且有氣壓椅調整，便於升降。</p>\n",
      "<p>此產品的ID為SWC-100。</p>\n",
      "</div>\n",
      "\n",
      "<table id=\"產品尺寸\">\n",
      "  <tr>\n",
      "    <td>寬度</td>\n",
      "    <td>20.87 英寸</td>\n",
      "  </tr>\n",
      "  <tr>\n",
      "    <td>深度</td>\n",
      "    <td>20.08 英寸</td>\n",
      "  </tr>\n",
      "  <tr>\n",
      "    <td>高度</td>\n",
      "    <td>31.50 英寸</td>\n",
      "  </tr>\n",
      "  <tr>\n",
      "    <td>座高</td>\n",
      "    <td>17.32 英寸</td>\n",
      "  </tr>\n",
      "  <tr>\n",
      "    <td>座深</td>\n",
      "    <td>16.14 英寸</td>\n",
      "  </tr>\n",
      "</table>\n"
     ]
    }
   ],
   "source": [
    "prompt = f\"\"\"\n",
    "你的任務是協助一個行銷團隊，根據技術規格表，為零售網站的一個產品撰寫描述。\n",
    "\n",
    "請根據被三個反引號標記的技術規格資訊，撰寫產品描述。\n",
    "\n",
    "此描述是為家具零售商設計，因此應具有技術性質，並專注於產品所使用的建構材料。\n",
    "\n",
    "在描述的結尾處，請包含技術規格中的每一個7字符的產品ID。\n",
    "\n",
    "在描述之後，請包含一個提供產品尺寸的表格。該表格應該有兩列。\n",
    "在第一列中包含尺寸的名稱。\n",
    "在第二列中僅包含以英寸為單位的尺寸。\n",
    "\n",
    "將表格命名為 '產品尺寸'。\n",
    "\n",
    "將所有內容格式化為可以在網站中使用的HTML。\n",
    "將描述放在<div>元素中。\n",
    "\n",
    "技術規格: ```{fact_sheet_chair_2}```\n",
    "\"\"\"\n",
    "\n",
    "response = get_completion(prompt)\n",
    "print(response)\n"
   ]
  },
  {
   "cell_type": "markdown",
   "metadata": {
    "id": "Msdd_7s2G02l"
   },
   "source": [
    "## Load Python libraries to view HTML"
   ]
  },
  {
   "cell_type": "code",
   "execution_count": 11,
   "metadata": {
    "id": "as0ohsSAG4tQ"
   },
   "outputs": [],
   "source": [
    "from IPython.display import display, HTML\n"
   ]
  },
  {
   "cell_type": "code",
   "execution_count": 12,
   "metadata": {
    "id": "Dl4E2C38G6yj"
   },
   "outputs": [
    {
     "data": {
      "text/html": [
       "<div>\n",
       "<p>這款產品是美觀的中世紀風格辦公家具系列的一部分，包括檔案櫃、辦公桌、書櫃、會議桌等等。它提供多種殼體顏色和底座塗裝選項，並且有塑料背面和前部織物（SWC-100）或全織物（SWC-110）的選項，提供10種布料和6種皮革選項。底座塗裝選項包括：不銹鋼、亞光黑、光澤白、或鉻。此外，它還提供有扶手或無扶手的椅子，適用於家庭或商業環境，符合合同使用資格。</p>\n",
       "<p>這款產品的外殼底座滑塊是鑄鋁，表面處理有改良型尼龍PA6/PA66塗層，殼厚度為10毫米。座位是HD36泡棉。它的建造是5輪塑膠包覆鋁製底座，並且有氣壓椅調整，便於升降。</p>\n",
       "<p>此產品的ID為SWC-100。</p>\n",
       "</div>\n",
       "\n",
       "<table id=\"產品尺寸\">\n",
       "  <tr>\n",
       "    <td>寬度</td>\n",
       "    <td>20.87 英寸</td>\n",
       "  </tr>\n",
       "  <tr>\n",
       "    <td>深度</td>\n",
       "    <td>20.08 英寸</td>\n",
       "  </tr>\n",
       "  <tr>\n",
       "    <td>高度</td>\n",
       "    <td>31.50 英寸</td>\n",
       "  </tr>\n",
       "  <tr>\n",
       "    <td>座高</td>\n",
       "    <td>17.32 英寸</td>\n",
       "  </tr>\n",
       "  <tr>\n",
       "    <td>座深</td>\n",
       "    <td>16.14 英寸</td>\n",
       "  </tr>\n",
       "</table>"
      ],
      "text/plain": [
       "<IPython.core.display.HTML object>"
      ]
     },
     "metadata": {},
     "output_type": "display_data"
    }
   ],
   "source": [
    "display(HTML(response))\n"
   ]
  },
  {
   "cell_type": "markdown",
   "metadata": {
    "id": "ukXcw3I7G8xT"
   },
   "source": [
    "## Try experimenting on your own!"
   ]
  }
 ],
 "metadata": {
  "colab": {
   "authorship_tag": "ABX9TyOQ2grJrTuuAVKosFYIQS8B",
   "provenance": []
  },
  "kernelspec": {
   "display_name": "Python 3 (ipykernel)",
   "language": "python",
   "name": "python3"
  },
  "language_info": {
   "codemirror_mode": {
    "name": "ipython",
    "version": 3
   },
   "file_extension": ".py",
   "mimetype": "text/x-python",
   "name": "python",
   "nbconvert_exporter": "python",
   "pygments_lexer": "ipython3",
   "version": "3.9.6"
  }
 },
 "nbformat": 4,
 "nbformat_minor": 1
}
