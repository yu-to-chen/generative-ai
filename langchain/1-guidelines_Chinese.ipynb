{
 "cells": [
  {
   "cell_type": "markdown",
   "metadata": {},
   "source": [
    "# ChatGPT Prompt Engineering for Developers\n",
    "- by Andrew Ng and Isa Fulford"
   ]
  },
  {
   "cell_type": "markdown",
   "metadata": {
    "id": "DBRGquet_pVB"
   },
   "source": [
    "# Guidelines for Prompting\n",
    "In this lesson, you'll practice two prompting principles and their related tactics in order to write effective prompts for large language models.\n",
    "\n",
    "## Setup\n",
    "#### Load the API key and relevant Python libaries."
   ]
  },
  {
   "cell_type": "markdown",
   "metadata": {
    "id": "141y776q_xh-"
   },
   "source": [
    "In this course, we've provided some code that loads the OpenAI API key for you."
   ]
  },
  {
   "cell_type": "code",
   "execution_count": 34,
   "metadata": {},
   "outputs": [
    {
     "name": "stdout",
     "output_type": "stream",
     "text": [
      "Requirement already satisfied: python-dotenv in /Users/ytchen/Documents/projects/research/env3/lib/python3.9/site-packages (1.0.0)\r\n"
     ]
    }
   ],
   "source": [
    "import sys\n",
    "!{sys.executable} -m pip install --upgrade python-dotenv\n"
   ]
  },
  {
   "cell_type": "code",
   "execution_count": 2,
   "metadata": {
    "id": "12WLF6e9_zuv"
   },
   "outputs": [],
   "source": [
    "import openai\n",
    "import os\n",
    "\n",
    "# Using python-dotenv to Load Env variables\n",
    "from dotenv import load_dotenv, find_dotenv\n",
    "_ = load_dotenv(find_dotenv())\n",
    "\n",
    "#from getpass import getpass\n",
    "#OPENAI_API_KEY = getpass('Enter your OpenAI key: ')\n"
   ]
  },
  {
   "cell_type": "code",
   "execution_count": 3,
   "metadata": {},
   "outputs": [
    {
     "name": "stdout",
     "output_type": "stream",
     "text": [
      "Enter your OpenAI key: ········\n"
     ]
    }
   ],
   "source": [
    "#load_dotenv()\n",
    "\n",
    "#my_password = os.getenv(\"Password\")\n",
    "#print(f\"Password:{my_password}\")\n",
    "#openai.api_key  = os.getenv(\"OPENAI_API_KEY\")\n",
    "\n",
    "from getpass import getpass\n",
    "OPENAI_API_KEY = getpass('Enter your OpenAI key: ')\n"
   ]
  },
  {
   "cell_type": "code",
   "execution_count": 4,
   "metadata": {},
   "outputs": [],
   "source": [
    "os.environ[\"OPENAI_API_KEY\"] = OPENAI_API_KEY\n",
    "\n",
    "#!echo $OPENAI_API_KEY\n"
   ]
  },
  {
   "cell_type": "code",
   "execution_count": 5,
   "metadata": {},
   "outputs": [],
   "source": [
    "openai.api_key = os.environ[\"OPENAI_API_KEY\"]\n",
    "#print(openai.api_key)\n"
   ]
  },
  {
   "cell_type": "markdown",
   "metadata": {
    "id": "kcgEj0dA_5gn"
   },
   "source": [
    "#### helper function\n",
    "Throughout this course, we will use OpenAI's `gpt-3.5-turbo` model and the [chat completions endpoint](https://platform.openai.com/docs/guides/chat). \n",
    "\n",
    "This helper function will make it easier to use prompts and look at the generated outputs:"
   ]
  },
  {
   "cell_type": "code",
   "execution_count": 6,
   "metadata": {
    "id": "jQV3FEV9_9zl"
   },
   "outputs": [],
   "source": [
    "def get_completion(prompt, model=\"gpt-3.5-turbo\"):\n",
    "    messages = [{\"role\": \"user\", \"content\": prompt}]\n",
    "    response = openai.ChatCompletion.create(\n",
    "        model=model,\n",
    "        messages=messages,\n",
    "        temperature=0, # this is the degree of randomness of the model's output\n",
    "    )\n",
    "    return response.choices[0].message[\"content\"]\n",
    "\n",
    "#def get_completion(prompt, model=\"text-davinci-002\"):\n"
   ]
  },
  {
   "cell_type": "markdown",
   "metadata": {
    "id": "5GWLzbFcAFSg"
   },
   "source": [
    "## Prompting Principles\n",
    "- **Principle 1: Write clear and specific instructions**\n",
    "- **Principle 2: Give the model time to “think”**\n",
    "\n",
    "### Tactics\n",
    "\n",
    "### Principle 1: Write clear and specific instructions \n",
    "#### Tactic 1: Use delimiters to clearly indicate distinct parts of the input\n",
    "- Delimiters can be anything like: ```, \"\"\", < >, `<tag> </tag>`, `:`"
   ]
  },
  {
   "cell_type": "code",
   "execution_count": 7,
   "metadata": {
    "id": "8q8gh5geAH3U"
   },
   "outputs": [
    {
     "name": "stdout",
     "output_type": "stream",
     "text": [
      "Clear and specific instructions should be provided to guide a model towards the desired output, and longer prompts can provide more clarity and context for the model, leading to more detailed and relevant outputs.\n"
     ]
    }
   ],
   "source": [
    "text = f\"\"\"\n",
    "You should express what you want a model to do by \\ \n",
    "providing instructions that are as clear and \\ \n",
    "specific as you can possibly make them. \\ \n",
    "This will guide the model towards the desired output, \\ \n",
    "and reduce the chances of receiving irrelevant \\ \n",
    "or incorrect responses. Don't confuse writing a \\ \n",
    "clear prompt with writing a short prompt. \\ \n",
    "In many cases, longer prompts provide more clarity \\ \n",
    "and context for the model, which can lead to \\ \n",
    "more detailed and relevant outputs.\n",
    "\"\"\"\n",
    "prompt = f\"\"\"\n",
    "Summarize the text delimited by triple backticks \\ \n",
    "into a single sentence.\n",
    "```{text}```\n",
    "\"\"\"\n",
    "response = get_completion(prompt)\n",
    "print(response)\n"
   ]
  },
  {
   "cell_type": "code",
   "execution_count": 8,
   "metadata": {
    "id": "8q8gh5geAH3U"
   },
   "outputs": [
    {
     "name": "stdout",
     "output_type": "stream",
     "text": [
      "提供清晰具體的指示能引導模型向期望輸出方向，減少無關或不正確回答的可能性，不要混淆清晰和簡短的提示，更長的提示能提供更多清晰度和上下文，導致更詳細和相關的輸出。\n"
     ]
    }
   ],
   "source": [
    "text = f\"\"\"\n",
    "你應該通過提供盡可能清晰和具體的指示來表達你希望模型做什麼。\\\n",
    "這將引導模型向期望的輸出方向，\\\n",
    "並減少收到無關或不正確回答的可能性。\\\n",
    "不要將撰寫清晰的提示與撰寫簡短的提示混淆。\\\n",
    "在許多情況下，\\\n",
    "更長的提示能為模型提供更多的清晰度和上下文，\\\n",
    "從而導致更詳細和相關的輸出。\n",
    "\"\"\"\n",
    "prompt = f\"\"\"\n",
    "將被三個反引號分隔的文本總結為一個句子。\n",
    "```{text}```\n",
    "\"\"\"\n",
    "response = get_completion(prompt)\n",
    "print(response)\n"
   ]
  },
  {
   "cell_type": "markdown",
   "metadata": {
    "id": "W17RwlNeAL6U"
   },
   "source": [
    "#### Tactic 2: Ask for a structured output\n",
    "- JSON, HTML"
   ]
  },
  {
   "cell_type": "code",
   "execution_count": 10,
   "metadata": {
    "id": "pI6Tz4beAPl0"
   },
   "outputs": [
    {
     "name": "stdout",
     "output_type": "stream",
     "text": [
      "[\n",
      "  {\n",
      "    \"book_id\": 1,\n",
      "    \"title\": \"The Lost City of Zorath\",\n",
      "    \"author\": \"Aria Blackwood\",\n",
      "    \"genre\": \"Fantasy\"\n",
      "  },\n",
      "  {\n",
      "    \"book_id\": 2,\n",
      "    \"title\": \"The Last Survivors\",\n",
      "    \"author\": \"Ethan Stone\",\n",
      "    \"genre\": \"Science Fiction\"\n",
      "  },\n",
      "  {\n",
      "    \"book_id\": 3,\n",
      "    \"title\": \"The Secret of the Haunted Mansion\",\n",
      "    \"author\": \"Lila Rose\",\n",
      "    \"genre\": \"Mystery\"\n",
      "  }\n",
      "]\n"
     ]
    }
   ],
   "source": [
    "prompt = f\"\"\"\n",
    "Generate a list of three made-up book titles along \\ \n",
    "with their authors and genres. \n",
    "Provide them in JSON format with the following keys: \n",
    "book_id, title, author, genre.\n",
    "\"\"\"\n",
    "response = get_completion(prompt)\n",
    "print(response)\n"
   ]
  },
  {
   "cell_type": "code",
   "execution_count": 12,
   "metadata": {
    "id": "pI6Tz4beAPl0"
   },
   "outputs": [
    {
     "name": "stdout",
     "output_type": "stream",
     "text": [
      "{\n",
      "  \"book_id\": 1,\n",
      "  \"title\": \"魔法師的復仇\",\n",
      "  \"author\": \"李明\",\n",
      "  \"genre\": \"奇幻\"\n",
      "},\n",
      "{\n",
      "  \"book_id\": 2,\n",
      "  \"title\": \"愛情的迷宮\",\n",
      "  \"author\": \"張瑞\",\n",
      "  \"genre\": \"浪漫\"\n",
      "},\n",
      "{\n",
      "  \"book_id\": 3,\n",
      "  \"title\": \"黑暗中的光芒\",\n",
      "  \"author\": \"王峰\",\n",
      "  \"genre\": \"驚悚\"\n",
      "}\n"
     ]
    }
   ],
   "source": [
    "prompt = f\"\"\"\n",
    "用中文生成三個虛構的中文書籍標題，並附帶其作者和類型。\n",
    "以JSON格式提供它們，並帶有以下鍵：book_id，title，author，genre。\n",
    "\"\"\"\n",
    "response = get_completion(prompt)\n",
    "print(response)\n"
   ]
  },
  {
   "cell_type": "markdown",
   "metadata": {
    "id": "wwOWU_quATVi"
   },
   "source": [
    "#### Tactic 3: Ask the model to check whether conditions are satisfied"
   ]
  },
  {
   "cell_type": "code",
   "execution_count": 17,
   "metadata": {
    "id": "LTyp5F-LAV7h"
   },
   "outputs": [
    {
     "name": "stdout",
     "output_type": "stream",
     "text": [
      "Completion for Text 1:\n",
      "Step 1 - Get some water boiling.\n",
      "Step 2 - Grab a cup and put a tea bag in it.\n",
      "Step 3 - Once the water is hot enough, pour it over the tea bag.\n",
      "Step 4 - Let it sit for a bit so the tea can steep.\n",
      "Step 5 - After a few minutes, take out the tea bag.\n",
      "Step 6 - Add some sugar or milk to taste.\n",
      "Step 7 - Enjoy your delicious cup of tea!\n",
      "\n",
      "\n"
     ]
    }
   ],
   "source": [
    "text_1 = f\"\"\"\n",
    "Making a cup of tea is easy! First, you need to get some \\ \n",
    "water boiling. While that's happening, \\ \n",
    "grab a cup and put a tea bag in it. Once the water is \\ \n",
    "hot enough, just pour it over the tea bag. \\ \n",
    "Let it sit for a bit so the tea can steep. After a \\ \n",
    "few minutes, take out the tea bag. If you \\ \n",
    "like, you can add some sugar or milk to taste. \\ \n",
    "And that's it! You've got yourself a delicious \\ \n",
    "cup of tea to enjoy.\n",
    "\"\"\"\n",
    "prompt = f\"\"\"\n",
    "You will be provided with text delimited by triple quotes. \n",
    "If it contains a sequence of instructions, \\ \n",
    "re-write those instructions in the following format:\n",
    "\n",
    "Step 1 - ...\n",
    "Step 2 - …\n",
    "…\n",
    "Step N - …\n",
    "\n",
    "If the text does not contain a sequence of instructions, \\ \n",
    "then simply write \\\"No steps provided.\\\"\n",
    "\n",
    "\\\"\\\"\\\"{text_1}\\\"\\\"\\\"\n",
    "\"\"\"\n",
    "response = get_completion(prompt)\n",
    "print(\"Completion for Text 1:\")\n",
    "print(response)\n"
   ]
  },
  {
   "cell_type": "code",
   "execution_count": 13,
   "metadata": {
    "id": "LTyp5F-LAV7h"
   },
   "outputs": [
    {
     "name": "stdout",
     "output_type": "stream",
     "text": [
      "Completion for Text 1:\n",
      "步驟1 - 煮沸水。\n",
      "步驟2 - 準備一個杯子，將茶包放入其中。\n",
      "步驟3 - 當水熱到足夠的程度時，將其倒在茶包上。\n",
      "步驟4 - 讓茶浸泡幾分鐘。\n",
      "步驟5 - 取出茶包。\n",
      "步驟6 - （可選）加入糖或牛奶以調整口味。\n",
      "步驟7 - 喝茶享受美味！\n"
     ]
    }
   ],
   "source": [
    "text_1 = f\"\"\"\n",
    "製作一杯茶很容易！首先，你需要煮一些沸水。\\\n",
    "在那之間，找一個杯子並將茶包放入其中。\\\n",
    "一旦水熱到足夠的程度，只需將其倒在茶包上。\\\n",
    "讓它坐一會兒，這樣茶可以浸泡。\\\n",
    "幾分鐘後，取出茶包。\\\n",
    "如果你願意，可以加入一些糖或牛奶以調整口味。\\\n",
    "就是這樣！你已經為自己準備了一杯美味的茶可以享用了。\n",
    "\"\"\"\n",
    "prompt = f\"\"\"\n",
    "您將獲得由三個引號分隔的文本。\n",
    "如果它包含一系列指令，請按照以下格式重寫這些指令：\n",
    "\n",
    "步驟1 - ...\n",
    "步驟2 - ...\n",
    "…\n",
    "步驟N - ...\n",
    "\n",
    "如果文本中沒有包含一系列指令，\n",
    "那麼只需寫下 \"沒有提供步驟。\"\n",
    "\n",
    "\\\"\\\"\\\"{text_1}\\\"\\\"\\\"\n",
    "\"\"\"\n",
    "response = get_completion(prompt)\n",
    "print(\"Completion for Text 1:\")\n",
    "print(response)\n"
   ]
  },
  {
   "cell_type": "code",
   "execution_count": 16,
   "metadata": {
    "id": "4kKcajHLAY0E"
   },
   "outputs": [
    {
     "name": "stdout",
     "output_type": "stream",
     "text": [
      "Completion for Text 2:\n",
      "No steps provided.\n"
     ]
    }
   ],
   "source": [
    "text_2 = f\"\"\"\n",
    "The sun is shining brightly today, and the birds are \\\n",
    "singing. It's a beautiful day to go for a \\ \n",
    "walk in the park. The flowers are blooming, and the \\ \n",
    "trees are swaying gently in the breeze. People \\ \n",
    "are out and about, enjoying the lovely weather. \\ \n",
    "Some are having picnics, while others are playing \\ \n",
    "games or simply relaxing on the grass. It's a \\ \n",
    "perfect day to spend time outdoors and appreciate the \\ \n",
    "beauty of nature.\n",
    "\"\"\"\n",
    "prompt = f\"\"\"\n",
    "You will be provided with text delimited by triple quotes. \n",
    "If it contains a sequence of instructions, \\ \n",
    "re-write those instructions in the following format:\n",
    "\n",
    "Step 1 - ...\n",
    "Step 2 - …\n",
    "…\n",
    "Step N - …\n",
    "\n",
    "If the text does not contain a sequence of instructions, \\ \n",
    "then simply write \\\"No steps provided.\\\"\n",
    "\n",
    "\\\"\\\"\\\"{text_2}\\\"\\\"\\\"\n",
    "\"\"\"\n",
    "response = get_completion(prompt)\n",
    "print(\"Completion for Text 2:\")\n",
    "print(response)\n"
   ]
  },
  {
   "cell_type": "code",
   "execution_count": 15,
   "metadata": {
    "id": "4kKcajHLAY0E"
   },
   "outputs": [
    {
     "name": "stdout",
     "output_type": "stream",
     "text": [
      "Completion for Text 2:\n",
      "沒有提供步驟。\n"
     ]
    }
   ],
   "source": [
    "text_2 = f\"\"\"\n",
    "今天的陽光閃耀，鳥兒在歌唱。\\\n",
    "這是一個在公園散步的美好日子。\\\n",
    "花兒在盛開，樹木在微風中輕輕擺動。\\\n",
    "人們都在戶外，享受著美好的天氣。\\\n",
    "有些人在野餐，有些人在玩遊戲，或只是在草地上放鬆。\\\n",
    "這是一個在戶外度過時間，欣賞自然之美的完美日子。\n",
    "\"\"\"\n",
    "prompt = f\"\"\"\n",
    "您將獲得由三個引號分隔的文本。\n",
    "如果它包含一系列指令，請按照以下格式重寫這些指令：\n",
    "\n",
    "步驟1 - ...\n",
    "步驟2 - ...\n",
    "…\n",
    "步驟N - ...\n",
    "\n",
    "如果文本中沒有包含一系列指令，\n",
    "那麼只需寫下 \"沒有提供步驟。\"\n",
    "\n",
    "\\\"\\\"\\\"{text_2}\\\"\\\"\\\"\n",
    "\"\"\"\n",
    "response = get_completion(prompt)\n",
    "print(\"Completion for Text 2:\")\n",
    "print(response)\n"
   ]
  },
  {
   "cell_type": "markdown",
   "metadata": {
    "id": "9SkdYATrAcAH"
   },
   "source": [
    "#### Tactic 4: \"Few-shot\" prompting"
   ]
  },
  {
   "cell_type": "code",
   "execution_count": 18,
   "metadata": {
    "id": "BCGJJTHPAeAD"
   },
   "outputs": [
    {
     "name": "stdout",
     "output_type": "stream",
     "text": [
      "<grandparent>: Resilience is like a tree that bends with the wind but never breaks. It is the ability to bounce back from adversity and keep moving forward, even when things get tough. Just like a tree that grows stronger with each storm it weathers, resilience is a quality that can be developed and strengthened over time.\n"
     ]
    }
   ],
   "source": [
    "prompt = f\"\"\"\n",
    "Your task is to answer in a consistent style.\n",
    "\n",
    "<child>: Teach me about patience.\n",
    "\n",
    "<grandparent>: The river that carves the deepest \\ \n",
    "valley flows from a modest spring; the \\ \n",
    "grandest symphony originates from a single note; \\ \n",
    "the most intricate tapestry begins with a solitary thread.\n",
    "\n",
    "<child>: Teach me about resilience.\n",
    "\"\"\"\n",
    "response = get_completion(prompt)\n",
    "print(response)\n"
   ]
  },
  {
   "cell_type": "code",
   "execution_count": 20,
   "metadata": {
    "id": "BCGJJTHPAeAD"
   },
   "outputs": [
    {
     "name": "stdout",
     "output_type": "stream",
     "text": [
      "<祖父母>: 韌性來自於堅定的信念和不屈不撓的毅力。就像一棵樹在風雨中屹立不搖，我們也需要在生活中保持堅強和勇氣，才能克服困難和挑戰。記住，每一次挫折都是一次成長的機會。\n"
     ]
    }
   ],
   "source": [
    "prompt = f\"\"\"\n",
    "你的任務是以一種一致的風格回答。\n",
    "\n",
    "<小孩>: 教我關於耐心。\n",
    "\n",
    "<祖父母>: 刻畫最深山谷的河流源自於謙虛的泉源; 最宏大的交響樂源自於單一音符; 最複雜的掛毯開始於孤獨的線條。\n",
    "\n",
    "<小孩>: 教我關於韌性。\n",
    "\"\"\"\n",
    "response = get_completion(prompt)\n",
    "print(response)\n"
   ]
  },
  {
   "cell_type": "markdown",
   "metadata": {
    "id": "pjswK-IjAisD"
   },
   "source": [
    "### Principle 2: Give the model time to “think” \n",
    "\n",
    "#### Tactic 1: Specify the steps required to complete a task"
   ]
  },
  {
   "cell_type": "code",
   "execution_count": 22,
   "metadata": {
    "id": "dCFByJ0HAk_o"
   },
   "outputs": [
    {
     "name": "stdout",
     "output_type": "stream",
     "text": [
      "Completion for prompt 1:\n",
      "Two siblings, Jack and Jill, go on a quest to fetch water from a well on a hilltop, but misfortune strikes and they both tumble down the hill, returning home slightly battered but with their adventurous spirits undimmed.\n",
      "\n",
      "Deux frères et sœurs, Jack et Jill, partent en quête d'eau d'un puits sur une colline, mais un malheur frappe et ils tombent tous les deux de la colline, rentrant chez eux légèrement meurtris mais avec leurs esprits aventureux intacts. \n",
      "Noms: Jack, Jill. \n",
      "\n",
      "{\n",
      "  \"french_summary\": \"Deux frères et sœurs, Jack et Jill, partent en quête d'eau d'un puits sur une colline, mais un malheur frappe et ils tombent tous les deux de la colline, rentrant chez eux légèrement meurtris mais avec leurs esprits aventureux intacts.\",\n",
      "  \"num_names\": 2\n",
      "}\n"
     ]
    }
   ],
   "source": [
    "text = f\"\"\"\n",
    "In a charming village, siblings Jack and Jill set out on \\ \n",
    "a quest to fetch water from a hilltop \\ \n",
    "well. As they climbed, singing joyfully, misfortune \\ \n",
    "struck—Jack tripped on a stone and tumbled \\ \n",
    "down the hill, with Jill following suit. \\ \n",
    "Though slightly battered, the pair returned home to \\ \n",
    "comforting embraces. Despite the mishap, \\ \n",
    "their adventurous spirits remained undimmed, and they \\ \n",
    "continued exploring with delight.\n",
    "\"\"\"\n",
    "# example 1\n",
    "prompt_1 = f\"\"\"\n",
    "Perform the following actions: \n",
    "1 - Summarize the following text delimited by triple \\\n",
    "backticks with 1 sentence.\n",
    "2 - Translate the summary into French.\n",
    "3 - List each name in the French summary.\n",
    "4 - Output a json object that contains the following \\\n",
    "keys: french_summary, num_names.\n",
    "\n",
    "Separate your answers with line breaks.\n",
    "\n",
    "Text:\n",
    "```{text}```\n",
    "\"\"\"\n",
    "response = get_completion(prompt_1)\n",
    "print(\"Completion for prompt 1:\")\n",
    "print(response)\n"
   ]
  },
  {
   "cell_type": "code",
   "execution_count": 23,
   "metadata": {
    "id": "dCFByJ0HAk_o"
   },
   "outputs": [
    {
     "name": "stdout",
     "output_type": "stream",
     "text": [
      "Completion for prompt 1:\n",
      "1 - 兄妹在山上取水時發生意外，但最終平安回家，繼續探索冒險。\n",
      "2 - Frère et sœur ont eu un accident en montagne en cherchant de l'eau, mais sont rentrés chez eux en sécurité et ont continué à explorer avec joie.\n",
      "3 - Jack, Gill.\n",
      "4 - {\"french_summary\": \"Frère et sœur ont eu un accident en montagne en cherchant de l'eau, mais sont rentrés chez eux en sécurité et ont continué à explorer avec joie.\", \"num_names\": 2}\n"
     ]
    }
   ],
   "source": [
    "text = f\"\"\"\n",
    "在一個迷人的村莊，兄妹杰克和吉爾開始了一項從山頂井中取水的任務。\\\n",
    "當他們歡唱著爬山時，不幸發生了 - 杰克絆倒在一塊石頭上，翻滾下山，吉爾也跟著一樣。\\\n",
    "儘管有些滿身瘡疤，但這對兄妹回到家中時，還是得到了舒緩的擁抱。\\\n",
    "儘管出了這樣的意外，他們的冒險精神仍然未減，他們繼續帶著歡愉探索著。\n",
    "\"\"\"\n",
    "# example 1\n",
    "prompt_1 = f\"\"\"\n",
    "執行以下操作：\n",
    "1 - 用1句話總結以下由三個反引號分隔的文本。\n",
    "2 - 將摘要翻譯成法文。\n",
    "3 - 列出法文摘要中的每個名字。\n",
    "4 - 輸出一個包含以下鍵的json對象：french_summary，num_names。\n",
    "\n",
    "用換行符分隔您的答案。\n",
    "\n",
    "文本：\n",
    "```{text}```\n",
    "\"\"\"\n",
    "response = get_completion(prompt_1)\n",
    "print(\"Completion for prompt 1:\")\n",
    "print(response)\n"
   ]
  },
  {
   "cell_type": "markdown",
   "metadata": {
    "id": "ERn00uD2AqRF"
   },
   "source": [
    "#### Ask for output in a specified format"
   ]
  },
  {
   "cell_type": "code",
   "execution_count": 27,
   "metadata": {},
   "outputs": [
    {
     "name": "stdout",
     "output_type": "stream",
     "text": [
      "\n",
      "Completion for prompt 2:\n",
      "Summary: 兄妹杰克和吉爾在山頂井中取水的任務中發生意外，但仍然保持著冒險精神繼續探索。\n",
      "Translation: During their mission to fetch water from a well on a mountain top, siblings Jack and Jill had an accident but continued to explore with an adventurous spirit.\n",
      "Names: Jack, Jill\n",
      "Output JSON: {\"french_summary\": \"Pendant leur mission pour chercher de l'eau d'un puits sur une montagne, les frères et sœurs Jack et Jill ont eu un accident mais ont continué à explorer avec un esprit d'aventure.\", \"num_names\": 2}\n"
     ]
    }
   ],
   "source": [
    "prompt_2 = f\"\"\"\n",
    "Your task is to perform the following actions: \n",
    "1 - Summarize the following text delimited by \n",
    "  <> with 1 sentence.\n",
    "2 - Translate the summary into French.\n",
    "3 - List each name in the French summary.\n",
    "4 - Output a json object that contains the \n",
    "  following keys: french_summary, num_names.\n",
    "\n",
    "Use the following format:\n",
    "Text: <text to summarize>\n",
    "Summary: <summary>\n",
    "Translation: <summary translation>\n",
    "Names: <list of names in French summary>\n",
    "Output JSON: <json with summary and num_names>\n",
    "\n",
    "Text: <{text}>\n",
    "\"\"\"\n",
    "response = get_completion(prompt_2)\n",
    "print(\"\\nCompletion for prompt 2:\")\n",
    "print(response)\n"
   ]
  },
  {
   "cell_type": "code",
   "execution_count": 28,
   "metadata": {
    "id": "OotovChsAshF"
   },
   "outputs": [
    {
     "name": "stdout",
     "output_type": "stream",
     "text": [
      "\n",
      "Completion for prompt 2:\n",
      "摘要：在迷人的村莊，兄妹杰克和吉爾從山頂井中取水時發生意外，但他們仍然保持著冒險精神繼續探索。\n",
      "翻譯：In a charming village, siblings Jack and Jill embarked on a mission to fetch water from a mountaintop well. Unfortunately, they stumbled and tumbled down the mountain, but returned home with scars and a sense of adventure, continuing to explore with joy.\n",
      "名字：Jack，Jill\n",
      "輸出JSON：{\"french_summary\": \"Dans un charmant village, les frères et sœurs Jack et Jill ont entrepris une mission pour aller chercher de l'eau d'un puits au sommet de la montagne. Malheureusement, ils ont trébuché et sont tombés de la montagne, mais sont rentrés chez eux avec des cicatrices et un sens de l'aventure, continuant à explorer avec joie.\", \"num_names\": 2}\n"
     ]
    }
   ],
   "source": [
    "prompt_2 = f\"\"\"\n",
    "您的任務是執行以下操作：\n",
    "1 - 用1句話總結由 <> 分隔的以下文本。\n",
    "2 - 將摘要翻譯成英文。\n",
    "3 - 列出英文摘要中的每個名字。\n",
    "4 - 輸出一個包含以下鍵的json對象：english_summary，num_names。\n",
    "\n",
    "使用以下格式：\n",
    "文本：<需要總結的文本>\n",
    "摘要：<摘要>\n",
    "翻譯：<摘要翻譯>\n",
    "名字：<在英文摘要中的名字列表>\n",
    "輸出JSON：<包含摘要和名字數量的json>\n",
    "\n",
    "文本： <{text}>\n",
    "\"\"\"\n",
    "response = get_completion(prompt_2)\n",
    "print(\"\\nCompletion for prompt 2:\")\n",
    "print(response)\n"
   ]
  },
  {
   "cell_type": "markdown",
   "metadata": {
    "id": "zJvwvtopAvk3"
   },
   "source": [
    "#### Tactic 2: Instruct the model to work out its own solution before rushing to a conclusion"
   ]
  },
  {
   "cell_type": "code",
   "execution_count": null,
   "metadata": {
    "id": "ncINy2wkAytb"
   },
   "outputs": [],
   "source": [
    "prompt = f\"\"\"\n",
    "Determine if the student's solution is correct or not.\n",
    "\n",
    "Question:\n",
    "I'm building a solar power installation and I need \\\n",
    " help working out the financials. \n",
    "- Land costs $100 / square foot\n",
    "- I can buy solar panels for $250 / square foot\n",
    "- I negotiated a contract for maintenance that will cost \\ \n",
    "me a flat $100k per year, and an additional $10 / square \\\n",
    "foot\n",
    "What is the total cost for the first year of operations \n",
    "as a function of the number of square feet.\n",
    "\n",
    "Student's Solution:\n",
    "Let x be the size of the installation in square feet.\n",
    "Costs:\n",
    "1. Land cost: 100x\n",
    "2. Solar panel cost: 250x\n",
    "3. Maintenance cost: 100,000 + 100x\n",
    "Total cost: 100x + 250x + 100,000 + 100x = 450x + 100,000\n",
    "\"\"\"\n",
    "response = get_completion(prompt)\n",
    "print(response)"
   ]
  },
  {
   "cell_type": "markdown",
   "metadata": {
    "id": "oKon0Aj3A2b3"
   },
   "source": [
    "#### Note that the student's solution is actually not correct.\n",
    "#### We can fix this by instructing the model to work out its own solution first."
   ]
  },
  {
   "cell_type": "code",
   "execution_count": 29,
   "metadata": {
    "id": "XWVltxA2A4tv"
   },
   "outputs": [
    {
     "name": "stdout",
     "output_type": "stream",
     "text": [
      "Let x be the size of the installation in square feet.\n",
      "\n",
      "Costs:\n",
      "1. Land cost: 100x\n",
      "2. Solar panel cost: 250x\n",
      "3. Maintenance cost: 100,000 + 10x\n",
      "\n",
      "Total cost: 100x + 250x + 100,000 + 10x = 360x + 100,000\n",
      "\n",
      "Is the student's solution the same as actual solution just calculated:\n",
      "No\n",
      "\n",
      "Student grade:\n",
      "Incorrect\n"
     ]
    }
   ],
   "source": [
    "prompt = f\"\"\"\n",
    "Your task is to determine if the student's solution \\\n",
    "is correct or not.\n",
    "To solve the problem do the following:\n",
    "- First, work out your own solution to the problem. \n",
    "- Then compare your solution to the student's solution \\ \n",
    "and evaluate if the student's solution is correct or not. \n",
    "Don't decide if the student's solution is correct until \n",
    "you have done the problem yourself.\n",
    "\n",
    "Use the following format:\n",
    "Question:\n",
    "```\n",
    "question here\n",
    "```\n",
    "Student's solution:\n",
    "```\n",
    "student's solution here\n",
    "```\n",
    "Actual solution:\n",
    "```\n",
    "steps to work out the solution and your solution here\n",
    "```\n",
    "Is the student's solution the same as actual solution \\\n",
    "just calculated:\n",
    "```\n",
    "yes or no\n",
    "```\n",
    "Student grade:\n",
    "```\n",
    "correct or incorrect\n",
    "```\n",
    "\n",
    "Question:\n",
    "```\n",
    "I'm building a solar power installation and I need help \\\n",
    "working out the financials. \n",
    "- Land costs $100 / square foot\n",
    "- I can buy solar panels for $250 / square foot\n",
    "- I negotiated a contract for maintenance that will cost \\\n",
    "me a flat $100k per year, and an additional $10 / square \\\n",
    "foot\n",
    "What is the total cost for the first year of operations \\\n",
    "as a function of the number of square feet.\n",
    "``` \n",
    "Student's solution:\n",
    "```\n",
    "Let x be the size of the installation in square feet.\n",
    "Costs:\n",
    "1. Land cost: 100x\n",
    "2. Solar panel cost: 250x\n",
    "3. Maintenance cost: 100,000 + 100x\n",
    "Total cost: 100x + 250x + 100,000 + 100x = 450x + 100,000\n",
    "```\n",
    "Actual solution:\n",
    "\"\"\"\n",
    "response = get_completion(prompt)\n",
    "print(response)\n"
   ]
  },
  {
   "cell_type": "code",
   "execution_count": 30,
   "metadata": {
    "id": "XWVltxA2A4tv"
   },
   "outputs": [
    {
     "name": "stdout",
     "output_type": "stream",
     "text": [
      "總成本：100x + 250x + 100,000 + 10x = 360x + 100,000\n",
      "學生的解答是否與剛剛計算出的實際解答相同：\n",
      "是\n",
      "學生分數：\n",
      "正確\n"
     ]
    }
   ],
   "source": [
    "prompt = f\"\"\"\n",
    "您的任務是確定學生的解答是否正確。\n",
    "解決問題需要做以下步驟：\n",
    "\n",
    "首先，找出自己對問題的解答。\n",
    "然後比較您的解答和學生的解答，評估學生的解答是否正確。\n",
    "在自己解決問題之前，不要判定學生的解答是否正確。\n",
    "\n",
    "使用以下格式：\n",
    "問題：\n",
    "```\n",
    "此處為問題\n",
    "```\n",
    "學生的解答：\n",
    "```\n",
    "此處為學生的解答\n",
    "```\n",
    "實際解答：\n",
    "```\n",
    "此處為求解步驟和你的解答\n",
    "```\n",
    "學生的解答是否與剛剛計算出的實際解答相同：\n",
    "```\n",
    "是或否\n",
    "```\n",
    "學生分數：\n",
    "```\n",
    "正確或不正確\n",
    "```\n",
    "\n",
    "問題：\n",
    "```\n",
    "我正在建造一個太陽能發電設備，我需要幫助來計算經濟效益。\n",
    "- 土地成本為每平方英尺100美元\n",
    "- 我可以以每平方英尺250美元的價格購買太陽能板\n",
    "- 我談判了一份將每年給我固定100,000美元的維護費用，以及每平方英尺額外10美元的維護合約\n",
    "在第一年的運營中，作為平方英尺數量的函數，總成本是多少。\n",
    "``` \n",
    "學生的解答：\n",
    "```\n",
    "讓x代表太陽能設備大小的平方英尺數量。\n",
    "成本：\n",
    "1. 土地成本：100x\n",
    "2. 太陽能板成本：250x\n",
    "3. 維護成本：100,000 + 10x\n",
    "總成本：100x + 250x + 100,000 + 10x = 360x + 100,000\n",
    "```\n",
    "實際解答：\n",
    "\"\"\"\n",
    "response = get_completion(prompt)\n",
    "print(response)\n"
   ]
  },
  {
   "cell_type": "markdown",
   "metadata": {
    "id": "ZldnpL2EA8Y6"
   },
   "source": [
    "## Model Limitations: Hallucinations\n",
    "- Boie is a real company, the product name is not real."
   ]
  },
  {
   "cell_type": "code",
   "execution_count": 35,
   "metadata": {
    "id": "sCwZBbeGBAA4"
   },
   "outputs": [
    {
     "name": "stdout",
     "output_type": "stream",
     "text": [
      "The AeroGlide UltraSlim Smart Toothbrush by Boie is a high-tech toothbrush that uses advanced sonic technology to provide a deep and thorough clean. It features a slim and sleek design that makes it easy to hold and maneuver, and it comes with a range of smart features that help you optimize your brushing routine.\n",
      "\n",
      "One of the key features of the AeroGlide UltraSlim Smart Toothbrush is its advanced sonic technology, which uses high-frequency vibrations to break up plaque and bacteria on your teeth and gums. This technology is highly effective at removing even the toughest stains and buildup, leaving your teeth feeling clean and fresh.\n",
      "\n",
      "In addition to its sonic technology, the AeroGlide UltraSlim Smart Toothbrush also comes with a range of smart features that help you optimize your brushing routine. These include a built-in timer that ensures you brush for the recommended two minutes, as well as a pressure sensor that alerts you if you're brushing too hard.\n",
      "\n",
      "Overall, the AeroGlide UltraSlim Smart Toothbrush by Boie is a highly advanced and effective toothbrush that is perfect for anyone looking to take their oral hygiene to the next level. With its advanced sonic technology and smart features, it provides a deep and thorough clean that leaves your teeth feeling fresh and healthy.\n"
     ]
    }
   ],
   "source": [
    "prompt = f\"\"\"\n",
    "Tell me about AeroGlide UltraSlim Smart Toothbrush by Boie\n",
    "\"\"\"\n",
    "response = get_completion(prompt)\n",
    "print(response)\n"
   ]
  },
  {
   "cell_type": "code",
   "execution_count": 36,
   "metadata": {
    "id": "sCwZBbeGBAA4"
   },
   "outputs": [
    {
     "name": "stdout",
     "output_type": "stream",
     "text": [
      "高露潔神奇超細智能牙刷是一款高科技的牙刷產品，它採用了超細纖維毛刷，能夠深入牙縫和牙齦縫隙，徹底清潔口腔。此外，它還搭載了智能感應技術，能夠自動識別不同的牙齒區域，並根據不同區域的清潔需求進行調整，從而達到更好的清潔效果。此外，它還具有多種清潔模式可供選擇，如潔白模式、按摩模式等，能夠滿足不同人群的需求。總之，高露潔神奇超細智能牙刷是一款功能強大、效果卓越的牙刷產品，值得推薦。\n"
     ]
    }
   ],
   "source": [
    "prompt = f\"\"\"\n",
    "請用中文來告訴我關於高露潔神奇超細智能牙刷\n",
    "\"\"\"\n",
    "response = get_completion(prompt)\n",
    "print(response)\n"
   ]
  },
  {
   "cell_type": "markdown",
   "metadata": {
    "id": "ShlD6Mp_BC81"
   },
   "source": [
    "## Try experimenting on your own!"
   ]
  },
  {
   "cell_type": "markdown",
   "metadata": {
    "id": "ziFeaBi4BIdz"
   },
   "source": [
    "#### Notes on using the OpenAI API outside of this classroom\n",
    "\n",
    "To install the OpenAI Python library:\n",
    "```\n",
    "!pip install openai\n",
    "```\n",
    "\n",
    "The library needs to be configured with your account's secret key, which is available on the [website](https://platform.openai.com/account/api-keys). \n",
    "\n",
    "You can either set it as the `OPENAI_API_KEY` environment variable before using the library:\n",
    " ```\n",
    " !export OPENAI_API_KEY='sk-...'\n",
    " ```\n",
    "\n",
    "Or, set `openai.api_key` to its value:\n",
    "\n",
    "```\n",
    "import openai\n",
    "openai.api_key = \"sk-...\"\n",
    "```"
   ]
  },
  {
   "cell_type": "markdown",
   "metadata": {
    "id": "368galN-BQD1"
   },
   "source": [
    "#### A note about the backslash\n",
    "- In the course, we are using a backslash `\\` to make the text fit on the screen without inserting newline '\\n' characters.\n",
    "- GPT-3 isn't really affected whether you insert newline characters or not.  But when working with LLMs in general, you may consider whether newline characters in your prompt may affect the model's performance."
   ]
  }
 ],
 "metadata": {
  "colab": {
   "authorship_tag": "ABX9TyMMQCVVPp+Fhcm+OJLnHZNm",
   "provenance": []
  },
  "kernelspec": {
   "display_name": "Python 3 (ipykernel)",
   "language": "python",
   "name": "python3"
  },
  "language_info": {
   "codemirror_mode": {
    "name": "ipython",
    "version": 3
   },
   "file_extension": ".py",
   "mimetype": "text/x-python",
   "name": "python",
   "nbconvert_exporter": "python",
   "pygments_lexer": "ipython3",
   "version": "3.9.6"
  }
 },
 "nbformat": 4,
 "nbformat_minor": 1
}
