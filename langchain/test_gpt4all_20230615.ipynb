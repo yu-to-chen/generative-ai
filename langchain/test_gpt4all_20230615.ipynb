{
 "cells": [
  {
   "cell_type": "code",
   "execution_count": 15,
   "id": "cf174106",
   "metadata": {},
   "outputs": [
    {
     "name": "stdout",
     "output_type": "stream",
     "text": [
      "Requirement already satisfied: pygpt4all==1.0.1 in /Users/ytchen/Documents/projects/GPT4ALL_Fabio/env3/lib/python3.9/site-packages (1.0.1)\n",
      "Requirement already satisfied: pyllamacpp==1.0.6 in /Users/ytchen/Documents/projects/GPT4ALL_Fabio/env3/lib/python3.9/site-packages (from pygpt4all==1.0.1) (1.0.6)\n",
      "Requirement already satisfied: pygptj in /Users/ytchen/Documents/projects/GPT4ALL_Fabio/env3/lib/python3.9/site-packages (from pygpt4all==1.0.1) (2.0.3)\n",
      "Requirement already satisfied: streamlit in /Users/ytchen/Documents/projects/GPT4ALL_Fabio/env3/lib/python3.9/site-packages (from pyllamacpp==1.0.6->pygpt4all==1.0.1) (1.23.1)\n",
      "Requirement already satisfied: streamlit-ace in /Users/ytchen/Documents/projects/GPT4ALL_Fabio/env3/lib/python3.9/site-packages (from pyllamacpp==1.0.6->pygpt4all==1.0.1) (0.1.1)\n",
      "Requirement already satisfied: sentencepiece in /Users/ytchen/Documents/projects/GPT4ALL_Fabio/env3/lib/python3.9/site-packages (from pyllamacpp==1.0.6->pygpt4all==1.0.1) (0.1.99)\n",
      "Requirement already satisfied: torch in /Users/ytchen/Documents/projects/GPT4ALL_Fabio/env3/lib/python3.9/site-packages (from pyllamacpp==1.0.6->pygpt4all==1.0.1) (2.0.1)\n",
      "Requirement already satisfied: numpy in /Users/ytchen/Documents/projects/GPT4ALL_Fabio/env3/lib/python3.9/site-packages (from pygptj->pygpt4all==1.0.1) (1.23.5)\n",
      "Requirement already satisfied: altair<6,>=4.0 in /Users/ytchen/Documents/projects/GPT4ALL_Fabio/env3/lib/python3.9/site-packages (from streamlit->pyllamacpp==1.0.6->pygpt4all==1.0.1) (5.0.1)\n",
      "Requirement already satisfied: blinker<2,>=1.0.0 in /Users/ytchen/Documents/projects/GPT4ALL_Fabio/env3/lib/python3.9/site-packages (from streamlit->pyllamacpp==1.0.6->pygpt4all==1.0.1) (1.6.2)\n",
      "Requirement already satisfied: cachetools<6,>=4.0 in /Users/ytchen/Documents/projects/GPT4ALL_Fabio/env3/lib/python3.9/site-packages (from streamlit->pyllamacpp==1.0.6->pygpt4all==1.0.1) (5.3.1)\n",
      "Requirement already satisfied: click<9,>=7.0 in /Users/ytchen/Documents/projects/GPT4ALL_Fabio/env3/lib/python3.9/site-packages (from streamlit->pyllamacpp==1.0.6->pygpt4all==1.0.1) (8.1.3)\n",
      "Requirement already satisfied: importlib-metadata<7,>=1.4 in /Users/ytchen/Documents/projects/GPT4ALL_Fabio/env3/lib/python3.9/site-packages (from streamlit->pyllamacpp==1.0.6->pygpt4all==1.0.1) (6.6.0)\n",
      "Requirement already satisfied: packaging<24,>=14.1 in /Users/ytchen/Documents/projects/GPT4ALL_Fabio/env3/lib/python3.9/site-packages (from streamlit->pyllamacpp==1.0.6->pygpt4all==1.0.1) (23.1)\n",
      "Requirement already satisfied: pandas<3,>=0.25 in /Users/ytchen/Documents/projects/GPT4ALL_Fabio/env3/lib/python3.9/site-packages (from streamlit->pyllamacpp==1.0.6->pygpt4all==1.0.1) (1.5.3)\n",
      "Requirement already satisfied: pillow<10,>=6.2.0 in /Users/ytchen/Documents/projects/GPT4ALL_Fabio/env3/lib/python3.9/site-packages (from streamlit->pyllamacpp==1.0.6->pygpt4all==1.0.1) (9.5.0)\n",
      "Requirement already satisfied: protobuf<5,>=3.20 in /Users/ytchen/Documents/projects/GPT4ALL_Fabio/env3/lib/python3.9/site-packages (from streamlit->pyllamacpp==1.0.6->pygpt4all==1.0.1) (4.23.3)\n",
      "Requirement already satisfied: pyarrow>=4.0 in /Users/ytchen/Documents/projects/GPT4ALL_Fabio/env3/lib/python3.9/site-packages (from streamlit->pyllamacpp==1.0.6->pygpt4all==1.0.1) (12.0.1)\n",
      "Requirement already satisfied: pympler<2,>=0.9 in /Users/ytchen/Documents/projects/GPT4ALL_Fabio/env3/lib/python3.9/site-packages (from streamlit->pyllamacpp==1.0.6->pygpt4all==1.0.1) (1.0.1)\n",
      "Requirement already satisfied: python-dateutil<3,>=2 in /Users/ytchen/Documents/projects/GPT4ALL_Fabio/env3/lib/python3.9/site-packages (from streamlit->pyllamacpp==1.0.6->pygpt4all==1.0.1) (2.8.2)\n",
      "Requirement already satisfied: requests<3,>=2.4 in /Users/ytchen/Documents/projects/GPT4ALL_Fabio/env3/lib/python3.9/site-packages (from streamlit->pyllamacpp==1.0.6->pygpt4all==1.0.1) (2.31.0)\n",
      "Requirement already satisfied: rich<14,>=10.11.0 in /Users/ytchen/Documents/projects/GPT4ALL_Fabio/env3/lib/python3.9/site-packages (from streamlit->pyllamacpp==1.0.6->pygpt4all==1.0.1) (13.0.1)\n",
      "Requirement already satisfied: tenacity<9,>=8.0.0 in /Users/ytchen/Documents/projects/GPT4ALL_Fabio/env3/lib/python3.9/site-packages (from streamlit->pyllamacpp==1.0.6->pygpt4all==1.0.1) (8.2.2)\n",
      "Requirement already satisfied: toml<2 in /Users/ytchen/Documents/projects/GPT4ALL_Fabio/env3/lib/python3.9/site-packages (from streamlit->pyllamacpp==1.0.6->pygpt4all==1.0.1) (0.10.2)\n",
      "Requirement already satisfied: typing-extensions<5,>=4.0.1 in /Users/ytchen/Documents/projects/GPT4ALL_Fabio/env3/lib/python3.9/site-packages (from streamlit->pyllamacpp==1.0.6->pygpt4all==1.0.1) (4.6.3)\n",
      "Requirement already satisfied: tzlocal<5,>=1.1 in /Users/ytchen/Documents/projects/GPT4ALL_Fabio/env3/lib/python3.9/site-packages (from streamlit->pyllamacpp==1.0.6->pygpt4all==1.0.1) (4.3)\n",
      "Requirement already satisfied: validators<1,>=0.2 in /Users/ytchen/Documents/projects/GPT4ALL_Fabio/env3/lib/python3.9/site-packages (from streamlit->pyllamacpp==1.0.6->pygpt4all==1.0.1) (0.20.0)\n",
      "Requirement already satisfied: gitpython!=3.1.19,<4,>=3 in /Users/ytchen/Documents/projects/GPT4ALL_Fabio/env3/lib/python3.9/site-packages (from streamlit->pyllamacpp==1.0.6->pygpt4all==1.0.1) (3.1.31)\n",
      "Requirement already satisfied: pydeck<1,>=0.1.dev5 in /Users/ytchen/Documents/projects/GPT4ALL_Fabio/env3/lib/python3.9/site-packages (from streamlit->pyllamacpp==1.0.6->pygpt4all==1.0.1) (0.8.1b0)\n",
      "Requirement already satisfied: tornado<7,>=6.0.3 in /Users/ytchen/Documents/projects/GPT4ALL_Fabio/env3/lib/python3.9/site-packages (from streamlit->pyllamacpp==1.0.6->pygpt4all==1.0.1) (6.3.2)\n",
      "Requirement already satisfied: filelock in /Users/ytchen/Documents/projects/GPT4ALL_Fabio/env3/lib/python3.9/site-packages (from torch->pyllamacpp==1.0.6->pygpt4all==1.0.1) (3.12.2)\n",
      "Requirement already satisfied: sympy in /Users/ytchen/Documents/projects/GPT4ALL_Fabio/env3/lib/python3.9/site-packages (from torch->pyllamacpp==1.0.6->pygpt4all==1.0.1) (1.12)\n",
      "Requirement already satisfied: networkx in /Users/ytchen/Documents/projects/GPT4ALL_Fabio/env3/lib/python3.9/site-packages (from torch->pyllamacpp==1.0.6->pygpt4all==1.0.1) (3.1)\n",
      "Requirement already satisfied: jinja2 in /Users/ytchen/Documents/projects/GPT4ALL_Fabio/env3/lib/python3.9/site-packages (from torch->pyllamacpp==1.0.6->pygpt4all==1.0.1) (3.1.2)\n",
      "Requirement already satisfied: jsonschema>=3.0 in /Users/ytchen/Documents/projects/GPT4ALL_Fabio/env3/lib/python3.9/site-packages (from altair<6,>=4.0->streamlit->pyllamacpp==1.0.6->pygpt4all==1.0.1) (4.17.3)\n",
      "Requirement already satisfied: toolz in /Users/ytchen/Documents/projects/GPT4ALL_Fabio/env3/lib/python3.9/site-packages (from altair<6,>=4.0->streamlit->pyllamacpp==1.0.6->pygpt4all==1.0.1) (0.12.0)\n",
      "Requirement already satisfied: gitdb<5,>=4.0.1 in /Users/ytchen/Documents/projects/GPT4ALL_Fabio/env3/lib/python3.9/site-packages (from gitpython!=3.1.19,<4,>=3->streamlit->pyllamacpp==1.0.6->pygpt4all==1.0.1) (4.0.10)\n",
      "Requirement already satisfied: zipp>=0.5 in /Users/ytchen/Documents/projects/GPT4ALL_Fabio/env3/lib/python3.9/site-packages (from importlib-metadata<7,>=1.4->streamlit->pyllamacpp==1.0.6->pygpt4all==1.0.1) (3.15.0)\n",
      "Requirement already satisfied: pytz>=2020.1 in /Users/ytchen/Documents/projects/GPT4ALL_Fabio/env3/lib/python3.9/site-packages (from pandas<3,>=0.25->streamlit->pyllamacpp==1.0.6->pygpt4all==1.0.1) (2023.3)\n",
      "Requirement already satisfied: MarkupSafe>=2.0 in /Users/ytchen/Documents/projects/GPT4ALL_Fabio/env3/lib/python3.9/site-packages (from jinja2->torch->pyllamacpp==1.0.6->pygpt4all==1.0.1) (2.1.3)\n",
      "Requirement already satisfied: six>=1.5 in /Users/ytchen/Documents/projects/GPT4ALL_Fabio/env3/lib/python3.9/site-packages (from python-dateutil<3,>=2->streamlit->pyllamacpp==1.0.6->pygpt4all==1.0.1) (1.16.0)\n",
      "Requirement already satisfied: charset-normalizer<4,>=2 in /Users/ytchen/Documents/projects/GPT4ALL_Fabio/env3/lib/python3.9/site-packages (from requests<3,>=2.4->streamlit->pyllamacpp==1.0.6->pygpt4all==1.0.1) (3.1.0)\n",
      "Requirement already satisfied: idna<4,>=2.5 in /Users/ytchen/Documents/projects/GPT4ALL_Fabio/env3/lib/python3.9/site-packages (from requests<3,>=2.4->streamlit->pyllamacpp==1.0.6->pygpt4all==1.0.1) (3.4)\n",
      "Requirement already satisfied: urllib3<3,>=1.21.1 in /Users/ytchen/Documents/projects/GPT4ALL_Fabio/env3/lib/python3.9/site-packages (from requests<3,>=2.4->streamlit->pyllamacpp==1.0.6->pygpt4all==1.0.1) (2.0.3)\n",
      "Requirement already satisfied: certifi>=2017.4.17 in /Users/ytchen/Documents/projects/GPT4ALL_Fabio/env3/lib/python3.9/site-packages (from requests<3,>=2.4->streamlit->pyllamacpp==1.0.6->pygpt4all==1.0.1) (2023.5.7)\n",
      "Requirement already satisfied: commonmark<0.10.0,>=0.9.0 in /Users/ytchen/Documents/projects/GPT4ALL_Fabio/env3/lib/python3.9/site-packages (from rich<14,>=10.11.0->streamlit->pyllamacpp==1.0.6->pygpt4all==1.0.1) (0.9.1)\n",
      "Requirement already satisfied: pygments<3.0.0,>=2.6.0 in /Users/ytchen/Documents/projects/GPT4ALL_Fabio/env3/lib/python3.9/site-packages (from rich<14,>=10.11.0->streamlit->pyllamacpp==1.0.6->pygpt4all==1.0.1) (2.15.1)\n",
      "Requirement already satisfied: pytz-deprecation-shim in /Users/ytchen/Documents/projects/GPT4ALL_Fabio/env3/lib/python3.9/site-packages (from tzlocal<5,>=1.1->streamlit->pyllamacpp==1.0.6->pygpt4all==1.0.1) (0.1.0.post0)\n",
      "Requirement already satisfied: decorator>=3.4.0 in /Users/ytchen/Documents/projects/GPT4ALL_Fabio/env3/lib/python3.9/site-packages (from validators<1,>=0.2->streamlit->pyllamacpp==1.0.6->pygpt4all==1.0.1) (5.1.1)\n"
     ]
    },
    {
     "name": "stdout",
     "output_type": "stream",
     "text": [
      "Requirement already satisfied: mpmath>=0.19 in /Users/ytchen/Documents/projects/GPT4ALL_Fabio/env3/lib/python3.9/site-packages (from sympy->torch->pyllamacpp==1.0.6->pygpt4all==1.0.1) (1.3.0)\n",
      "Requirement already satisfied: smmap<6,>=3.0.1 in /Users/ytchen/Documents/projects/GPT4ALL_Fabio/env3/lib/python3.9/site-packages (from gitdb<5,>=4.0.1->gitpython!=3.1.19,<4,>=3->streamlit->pyllamacpp==1.0.6->pygpt4all==1.0.1) (5.0.0)\n",
      "Requirement already satisfied: attrs>=17.4.0 in /Users/ytchen/Documents/projects/GPT4ALL_Fabio/env3/lib/python3.9/site-packages (from jsonschema>=3.0->altair<6,>=4.0->streamlit->pyllamacpp==1.0.6->pygpt4all==1.0.1) (23.1.0)\n",
      "Requirement already satisfied: pyrsistent!=0.17.0,!=0.17.1,!=0.17.2,>=0.14.0 in /Users/ytchen/Documents/projects/GPT4ALL_Fabio/env3/lib/python3.9/site-packages (from jsonschema>=3.0->altair<6,>=4.0->streamlit->pyllamacpp==1.0.6->pygpt4all==1.0.1) (0.19.3)\n",
      "Requirement already satisfied: tzdata in /Users/ytchen/Documents/projects/GPT4ALL_Fabio/env3/lib/python3.9/site-packages (from pytz-deprecation-shim->tzlocal<5,>=1.1->streamlit->pyllamacpp==1.0.6->pygpt4all==1.0.1) (2023.3)\n",
      "Requirement already satisfied: pyllamacpp==1.0.6 in /Users/ytchen/Documents/projects/GPT4ALL_Fabio/env3/lib/python3.9/site-packages (1.0.6)\n",
      "Requirement already satisfied: streamlit in /Users/ytchen/Documents/projects/GPT4ALL_Fabio/env3/lib/python3.9/site-packages (from pyllamacpp==1.0.6) (1.23.1)\n",
      "Requirement already satisfied: streamlit-ace in /Users/ytchen/Documents/projects/GPT4ALL_Fabio/env3/lib/python3.9/site-packages (from pyllamacpp==1.0.6) (0.1.1)\n",
      "Requirement already satisfied: sentencepiece in /Users/ytchen/Documents/projects/GPT4ALL_Fabio/env3/lib/python3.9/site-packages (from pyllamacpp==1.0.6) (0.1.99)\n",
      "Requirement already satisfied: torch in /Users/ytchen/Documents/projects/GPT4ALL_Fabio/env3/lib/python3.9/site-packages (from pyllamacpp==1.0.6) (2.0.1)\n",
      "Requirement already satisfied: altair<6,>=4.0 in /Users/ytchen/Documents/projects/GPT4ALL_Fabio/env3/lib/python3.9/site-packages (from streamlit->pyllamacpp==1.0.6) (5.0.1)\n",
      "Requirement already satisfied: blinker<2,>=1.0.0 in /Users/ytchen/Documents/projects/GPT4ALL_Fabio/env3/lib/python3.9/site-packages (from streamlit->pyllamacpp==1.0.6) (1.6.2)\n",
      "Requirement already satisfied: cachetools<6,>=4.0 in /Users/ytchen/Documents/projects/GPT4ALL_Fabio/env3/lib/python3.9/site-packages (from streamlit->pyllamacpp==1.0.6) (5.3.1)\n",
      "Requirement already satisfied: click<9,>=7.0 in /Users/ytchen/Documents/projects/GPT4ALL_Fabio/env3/lib/python3.9/site-packages (from streamlit->pyllamacpp==1.0.6) (8.1.3)\n",
      "Requirement already satisfied: importlib-metadata<7,>=1.4 in /Users/ytchen/Documents/projects/GPT4ALL_Fabio/env3/lib/python3.9/site-packages (from streamlit->pyllamacpp==1.0.6) (6.6.0)\n",
      "Requirement already satisfied: numpy<2,>=1 in /Users/ytchen/Documents/projects/GPT4ALL_Fabio/env3/lib/python3.9/site-packages (from streamlit->pyllamacpp==1.0.6) (1.23.5)\n",
      "Requirement already satisfied: packaging<24,>=14.1 in /Users/ytchen/Documents/projects/GPT4ALL_Fabio/env3/lib/python3.9/site-packages (from streamlit->pyllamacpp==1.0.6) (23.1)\n",
      "Requirement already satisfied: pandas<3,>=0.25 in /Users/ytchen/Documents/projects/GPT4ALL_Fabio/env3/lib/python3.9/site-packages (from streamlit->pyllamacpp==1.0.6) (1.5.3)\n",
      "Requirement already satisfied: pillow<10,>=6.2.0 in /Users/ytchen/Documents/projects/GPT4ALL_Fabio/env3/lib/python3.9/site-packages (from streamlit->pyllamacpp==1.0.6) (9.5.0)\n",
      "Requirement already satisfied: protobuf<5,>=3.20 in /Users/ytchen/Documents/projects/GPT4ALL_Fabio/env3/lib/python3.9/site-packages (from streamlit->pyllamacpp==1.0.6) (4.23.3)\n",
      "Requirement already satisfied: pyarrow>=4.0 in /Users/ytchen/Documents/projects/GPT4ALL_Fabio/env3/lib/python3.9/site-packages (from streamlit->pyllamacpp==1.0.6) (12.0.1)\n",
      "Requirement already satisfied: pympler<2,>=0.9 in /Users/ytchen/Documents/projects/GPT4ALL_Fabio/env3/lib/python3.9/site-packages (from streamlit->pyllamacpp==1.0.6) (1.0.1)\n",
      "Requirement already satisfied: python-dateutil<3,>=2 in /Users/ytchen/Documents/projects/GPT4ALL_Fabio/env3/lib/python3.9/site-packages (from streamlit->pyllamacpp==1.0.6) (2.8.2)\n",
      "Requirement already satisfied: requests<3,>=2.4 in /Users/ytchen/Documents/projects/GPT4ALL_Fabio/env3/lib/python3.9/site-packages (from streamlit->pyllamacpp==1.0.6) (2.31.0)\n",
      "Requirement already satisfied: rich<14,>=10.11.0 in /Users/ytchen/Documents/projects/GPT4ALL_Fabio/env3/lib/python3.9/site-packages (from streamlit->pyllamacpp==1.0.6) (13.0.1)\n",
      "Requirement already satisfied: tenacity<9,>=8.0.0 in /Users/ytchen/Documents/projects/GPT4ALL_Fabio/env3/lib/python3.9/site-packages (from streamlit->pyllamacpp==1.0.6) (8.2.2)\n",
      "Requirement already satisfied: toml<2 in /Users/ytchen/Documents/projects/GPT4ALL_Fabio/env3/lib/python3.9/site-packages (from streamlit->pyllamacpp==1.0.6) (0.10.2)\n",
      "Requirement already satisfied: typing-extensions<5,>=4.0.1 in /Users/ytchen/Documents/projects/GPT4ALL_Fabio/env3/lib/python3.9/site-packages (from streamlit->pyllamacpp==1.0.6) (4.6.3)\n",
      "Requirement already satisfied: tzlocal<5,>=1.1 in /Users/ytchen/Documents/projects/GPT4ALL_Fabio/env3/lib/python3.9/site-packages (from streamlit->pyllamacpp==1.0.6) (4.3)\n",
      "Requirement already satisfied: validators<1,>=0.2 in /Users/ytchen/Documents/projects/GPT4ALL_Fabio/env3/lib/python3.9/site-packages (from streamlit->pyllamacpp==1.0.6) (0.20.0)\n",
      "Requirement already satisfied: gitpython!=3.1.19,<4,>=3 in /Users/ytchen/Documents/projects/GPT4ALL_Fabio/env3/lib/python3.9/site-packages (from streamlit->pyllamacpp==1.0.6) (3.1.31)\n",
      "Requirement already satisfied: pydeck<1,>=0.1.dev5 in /Users/ytchen/Documents/projects/GPT4ALL_Fabio/env3/lib/python3.9/site-packages (from streamlit->pyllamacpp==1.0.6) (0.8.1b0)\n",
      "Requirement already satisfied: tornado<7,>=6.0.3 in /Users/ytchen/Documents/projects/GPT4ALL_Fabio/env3/lib/python3.9/site-packages (from streamlit->pyllamacpp==1.0.6) (6.3.2)\n",
      "Requirement already satisfied: filelock in /Users/ytchen/Documents/projects/GPT4ALL_Fabio/env3/lib/python3.9/site-packages (from torch->pyllamacpp==1.0.6) (3.12.2)\n",
      "Requirement already satisfied: sympy in /Users/ytchen/Documents/projects/GPT4ALL_Fabio/env3/lib/python3.9/site-packages (from torch->pyllamacpp==1.0.6) (1.12)\n",
      "Requirement already satisfied: networkx in /Users/ytchen/Documents/projects/GPT4ALL_Fabio/env3/lib/python3.9/site-packages (from torch->pyllamacpp==1.0.6) (3.1)\n",
      "Requirement already satisfied: jinja2 in /Users/ytchen/Documents/projects/GPT4ALL_Fabio/env3/lib/python3.9/site-packages (from torch->pyllamacpp==1.0.6) (3.1.2)\n",
      "Requirement already satisfied: jsonschema>=3.0 in /Users/ytchen/Documents/projects/GPT4ALL_Fabio/env3/lib/python3.9/site-packages (from altair<6,>=4.0->streamlit->pyllamacpp==1.0.6) (4.17.3)\n",
      "Requirement already satisfied: toolz in /Users/ytchen/Documents/projects/GPT4ALL_Fabio/env3/lib/python3.9/site-packages (from altair<6,>=4.0->streamlit->pyllamacpp==1.0.6) (0.12.0)\n",
      "Requirement already satisfied: gitdb<5,>=4.0.1 in /Users/ytchen/Documents/projects/GPT4ALL_Fabio/env3/lib/python3.9/site-packages (from gitpython!=3.1.19,<4,>=3->streamlit->pyllamacpp==1.0.6) (4.0.10)\n",
      "Requirement already satisfied: zipp>=0.5 in /Users/ytchen/Documents/projects/GPT4ALL_Fabio/env3/lib/python3.9/site-packages (from importlib-metadata<7,>=1.4->streamlit->pyllamacpp==1.0.6) (3.15.0)\n",
      "Requirement already satisfied: pytz>=2020.1 in /Users/ytchen/Documents/projects/GPT4ALL_Fabio/env3/lib/python3.9/site-packages (from pandas<3,>=0.25->streamlit->pyllamacpp==1.0.6) (2023.3)\n",
      "Requirement already satisfied: MarkupSafe>=2.0 in /Users/ytchen/Documents/projects/GPT4ALL_Fabio/env3/lib/python3.9/site-packages (from jinja2->torch->pyllamacpp==1.0.6) (2.1.3)\n",
      "Requirement already satisfied: six>=1.5 in /Users/ytchen/Documents/projects/GPT4ALL_Fabio/env3/lib/python3.9/site-packages (from python-dateutil<3,>=2->streamlit->pyllamacpp==1.0.6) (1.16.0)\n",
      "Requirement already satisfied: charset-normalizer<4,>=2 in /Users/ytchen/Documents/projects/GPT4ALL_Fabio/env3/lib/python3.9/site-packages (from requests<3,>=2.4->streamlit->pyllamacpp==1.0.6) (3.1.0)\n",
      "Requirement already satisfied: idna<4,>=2.5 in /Users/ytchen/Documents/projects/GPT4ALL_Fabio/env3/lib/python3.9/site-packages (from requests<3,>=2.4->streamlit->pyllamacpp==1.0.6) (3.4)\n",
      "Requirement already satisfied: urllib3<3,>=1.21.1 in /Users/ytchen/Documents/projects/GPT4ALL_Fabio/env3/lib/python3.9/site-packages (from requests<3,>=2.4->streamlit->pyllamacpp==1.0.6) (2.0.3)\n",
      "Requirement already satisfied: certifi>=2017.4.17 in /Users/ytchen/Documents/projects/GPT4ALL_Fabio/env3/lib/python3.9/site-packages (from requests<3,>=2.4->streamlit->pyllamacpp==1.0.6) (2023.5.7)\n",
      "Requirement already satisfied: commonmark<0.10.0,>=0.9.0 in /Users/ytchen/Documents/projects/GPT4ALL_Fabio/env3/lib/python3.9/site-packages (from rich<14,>=10.11.0->streamlit->pyllamacpp==1.0.6) (0.9.1)\n",
      "Requirement already satisfied: pygments<3.0.0,>=2.6.0 in /Users/ytchen/Documents/projects/GPT4ALL_Fabio/env3/lib/python3.9/site-packages (from rich<14,>=10.11.0->streamlit->pyllamacpp==1.0.6) (2.15.1)\n",
      "Requirement already satisfied: pytz-deprecation-shim in /Users/ytchen/Documents/projects/GPT4ALL_Fabio/env3/lib/python3.9/site-packages (from tzlocal<5,>=1.1->streamlit->pyllamacpp==1.0.6) (0.1.0.post0)\n",
      "Requirement already satisfied: decorator>=3.4.0 in /Users/ytchen/Documents/projects/GPT4ALL_Fabio/env3/lib/python3.9/site-packages (from validators<1,>=0.2->streamlit->pyllamacpp==1.0.6) (5.1.1)\n"
     ]
    },
    {
     "name": "stdout",
     "output_type": "stream",
     "text": [
      "Requirement already satisfied: mpmath>=0.19 in /Users/ytchen/Documents/projects/GPT4ALL_Fabio/env3/lib/python3.9/site-packages (from sympy->torch->pyllamacpp==1.0.6) (1.3.0)\n",
      "Requirement already satisfied: smmap<6,>=3.0.1 in /Users/ytchen/Documents/projects/GPT4ALL_Fabio/env3/lib/python3.9/site-packages (from gitdb<5,>=4.0.1->gitpython!=3.1.19,<4,>=3->streamlit->pyllamacpp==1.0.6) (5.0.0)\n",
      "Requirement already satisfied: attrs>=17.4.0 in /Users/ytchen/Documents/projects/GPT4ALL_Fabio/env3/lib/python3.9/site-packages (from jsonschema>=3.0->altair<6,>=4.0->streamlit->pyllamacpp==1.0.6) (23.1.0)\n",
      "Requirement already satisfied: pyrsistent!=0.17.0,!=0.17.1,!=0.17.2,>=0.14.0 in /Users/ytchen/Documents/projects/GPT4ALL_Fabio/env3/lib/python3.9/site-packages (from jsonschema>=3.0->altair<6,>=4.0->streamlit->pyllamacpp==1.0.6) (0.19.3)\n",
      "Requirement already satisfied: tzdata in /Users/ytchen/Documents/projects/GPT4ALL_Fabio/env3/lib/python3.9/site-packages (from pytz-deprecation-shim->tzlocal<5,>=1.1->streamlit->pyllamacpp==1.0.6) (2023.3)\n",
      "Requirement already satisfied: langchain==0.0.149 in /Users/ytchen/Documents/projects/GPT4ALL_Fabio/env3/lib/python3.9/site-packages (0.0.149)\n",
      "Requirement already satisfied: PyYAML>=5.4.1 in /Users/ytchen/Documents/projects/GPT4ALL_Fabio/env3/lib/python3.9/site-packages (from langchain==0.0.149) (6.0)\n",
      "Requirement already satisfied: SQLAlchemy<3,>1.3 in /Users/ytchen/Documents/projects/GPT4ALL_Fabio/env3/lib/python3.9/site-packages (from langchain==0.0.149) (2.0.16)\n",
      "Requirement already satisfied: aiohttp<4.0.0,>=3.8.3 in /Users/ytchen/Documents/projects/GPT4ALL_Fabio/env3/lib/python3.9/site-packages (from langchain==0.0.149) (3.8.4)\n",
      "Requirement already satisfied: async-timeout<5.0.0,>=4.0.0 in /Users/ytchen/Documents/projects/GPT4ALL_Fabio/env3/lib/python3.9/site-packages (from langchain==0.0.149) (4.0.2)\n",
      "Requirement already satisfied: dataclasses-json<0.6.0,>=0.5.7 in /Users/ytchen/Documents/projects/GPT4ALL_Fabio/env3/lib/python3.9/site-packages (from langchain==0.0.149) (0.5.8)\n",
      "Requirement already satisfied: numexpr<3.0.0,>=2.8.4 in /Users/ytchen/Documents/projects/GPT4ALL_Fabio/env3/lib/python3.9/site-packages (from langchain==0.0.149) (2.8.4)\n",
      "Requirement already satisfied: numpy<2,>=1 in /Users/ytchen/Documents/projects/GPT4ALL_Fabio/env3/lib/python3.9/site-packages (from langchain==0.0.149) (1.23.5)\n",
      "Requirement already satisfied: openapi-schema-pydantic<2.0,>=1.2 in /Users/ytchen/Documents/projects/GPT4ALL_Fabio/env3/lib/python3.9/site-packages (from langchain==0.0.149) (1.2.4)\n",
      "Requirement already satisfied: pydantic<2,>=1 in /Users/ytchen/Documents/projects/GPT4ALL_Fabio/env3/lib/python3.9/site-packages (from langchain==0.0.149) (1.10.9)\n",
      "Requirement already satisfied: requests<3,>=2 in /Users/ytchen/Documents/projects/GPT4ALL_Fabio/env3/lib/python3.9/site-packages (from langchain==0.0.149) (2.31.0)\n",
      "Requirement already satisfied: tenacity<9.0.0,>=8.1.0 in /Users/ytchen/Documents/projects/GPT4ALL_Fabio/env3/lib/python3.9/site-packages (from langchain==0.0.149) (8.2.2)\n",
      "Requirement already satisfied: tqdm>=4.48.0 in /Users/ytchen/Documents/projects/GPT4ALL_Fabio/env3/lib/python3.9/site-packages (from langchain==0.0.149) (4.65.0)\n",
      "Requirement already satisfied: attrs>=17.3.0 in /Users/ytchen/Documents/projects/GPT4ALL_Fabio/env3/lib/python3.9/site-packages (from aiohttp<4.0.0,>=3.8.3->langchain==0.0.149) (23.1.0)\n",
      "Requirement already satisfied: charset-normalizer<4.0,>=2.0 in /Users/ytchen/Documents/projects/GPT4ALL_Fabio/env3/lib/python3.9/site-packages (from aiohttp<4.0.0,>=3.8.3->langchain==0.0.149) (3.1.0)\n",
      "Requirement already satisfied: multidict<7.0,>=4.5 in /Users/ytchen/Documents/projects/GPT4ALL_Fabio/env3/lib/python3.9/site-packages (from aiohttp<4.0.0,>=3.8.3->langchain==0.0.149) (6.0.4)\n",
      "Requirement already satisfied: yarl<2.0,>=1.0 in /Users/ytchen/Documents/projects/GPT4ALL_Fabio/env3/lib/python3.9/site-packages (from aiohttp<4.0.0,>=3.8.3->langchain==0.0.149) (1.9.2)\n",
      "Requirement already satisfied: frozenlist>=1.1.1 in /Users/ytchen/Documents/projects/GPT4ALL_Fabio/env3/lib/python3.9/site-packages (from aiohttp<4.0.0,>=3.8.3->langchain==0.0.149) (1.3.3)\n",
      "Requirement already satisfied: aiosignal>=1.1.2 in /Users/ytchen/Documents/projects/GPT4ALL_Fabio/env3/lib/python3.9/site-packages (from aiohttp<4.0.0,>=3.8.3->langchain==0.0.149) (1.3.1)\n",
      "Requirement already satisfied: marshmallow<4.0.0,>=3.3.0 in /Users/ytchen/Documents/projects/GPT4ALL_Fabio/env3/lib/python3.9/site-packages (from dataclasses-json<0.6.0,>=0.5.7->langchain==0.0.149) (3.19.0)\n",
      "Requirement already satisfied: marshmallow-enum<2.0.0,>=1.5.1 in /Users/ytchen/Documents/projects/GPT4ALL_Fabio/env3/lib/python3.9/site-packages (from dataclasses-json<0.6.0,>=0.5.7->langchain==0.0.149) (1.5.1)\n",
      "Requirement already satisfied: typing-inspect>=0.4.0 in /Users/ytchen/Documents/projects/GPT4ALL_Fabio/env3/lib/python3.9/site-packages (from dataclasses-json<0.6.0,>=0.5.7->langchain==0.0.149) (0.9.0)\n",
      "Requirement already satisfied: typing-extensions>=4.2.0 in /Users/ytchen/Documents/projects/GPT4ALL_Fabio/env3/lib/python3.9/site-packages (from pydantic<2,>=1->langchain==0.0.149) (4.6.3)\n",
      "Requirement already satisfied: idna<4,>=2.5 in /Users/ytchen/Documents/projects/GPT4ALL_Fabio/env3/lib/python3.9/site-packages (from requests<3,>=2->langchain==0.0.149) (3.4)\n",
      "Requirement already satisfied: urllib3<3,>=1.21.1 in /Users/ytchen/Documents/projects/GPT4ALL_Fabio/env3/lib/python3.9/site-packages (from requests<3,>=2->langchain==0.0.149) (2.0.3)\n",
      "Requirement already satisfied: certifi>=2017.4.17 in /Users/ytchen/Documents/projects/GPT4ALL_Fabio/env3/lib/python3.9/site-packages (from requests<3,>=2->langchain==0.0.149) (2023.5.7)\n",
      "Requirement already satisfied: packaging>=17.0 in /Users/ytchen/Documents/projects/GPT4ALL_Fabio/env3/lib/python3.9/site-packages (from marshmallow<4.0.0,>=3.3.0->dataclasses-json<0.6.0,>=0.5.7->langchain==0.0.149) (23.1)\n",
      "Requirement already satisfied: mypy-extensions>=0.3.0 in /Users/ytchen/Documents/projects/GPT4ALL_Fabio/env3/lib/python3.9/site-packages (from typing-inspect>=0.4.0->dataclasses-json<0.6.0,>=0.5.7->langchain==0.0.149) (1.0.0)\n",
      "Requirement already satisfied: unstructured==0.6.5 in /Users/ytchen/Documents/projects/GPT4ALL_Fabio/env3/lib/python3.9/site-packages (0.6.5)\n",
      "Requirement already satisfied: argilla in /Users/ytchen/Documents/projects/GPT4ALL_Fabio/env3/lib/python3.9/site-packages (from unstructured==0.6.5) (1.9.0)\n",
      "Requirement already satisfied: lxml in /Users/ytchen/Documents/projects/GPT4ALL_Fabio/env3/lib/python3.9/site-packages (from unstructured==0.6.5) (4.9.2)\n",
      "Requirement already satisfied: msg-parser in /Users/ytchen/Documents/projects/GPT4ALL_Fabio/env3/lib/python3.9/site-packages (from unstructured==0.6.5) (1.2.0)\n",
      "Requirement already satisfied: nltk in /Users/ytchen/Documents/projects/GPT4ALL_Fabio/env3/lib/python3.9/site-packages (from unstructured==0.6.5) (3.8.1)\n",
      "Requirement already satisfied: openpyxl in /Users/ytchen/Documents/projects/GPT4ALL_Fabio/env3/lib/python3.9/site-packages (from unstructured==0.6.5) (3.1.2)\n",
      "Requirement already satisfied: pandas in /Users/ytchen/Documents/projects/GPT4ALL_Fabio/env3/lib/python3.9/site-packages (from unstructured==0.6.5) (1.5.3)\n",
      "Requirement already satisfied: pdfminer.six in /Users/ytchen/Documents/projects/GPT4ALL_Fabio/env3/lib/python3.9/site-packages (from unstructured==0.6.5) (20221105)\n",
      "Requirement already satisfied: pillow in /Users/ytchen/Documents/projects/GPT4ALL_Fabio/env3/lib/python3.9/site-packages (from unstructured==0.6.5) (9.5.0)\n",
      "Requirement already satisfied: pypandoc in /Users/ytchen/Documents/projects/GPT4ALL_Fabio/env3/lib/python3.9/site-packages (from unstructured==0.6.5) (1.11)\n",
      "Requirement already satisfied: python-docx in /Users/ytchen/Documents/projects/GPT4ALL_Fabio/env3/lib/python3.9/site-packages (from unstructured==0.6.5) (0.8.11)\n",
      "Requirement already satisfied: python-pptx in /Users/ytchen/Documents/projects/GPT4ALL_Fabio/env3/lib/python3.9/site-packages (from unstructured==0.6.5) (0.6.21)\n",
      "Requirement already satisfied: python-magic in /Users/ytchen/Documents/projects/GPT4ALL_Fabio/env3/lib/python3.9/site-packages (from unstructured==0.6.5) (0.4.27)\n",
      "Requirement already satisfied: markdown in /Users/ytchen/Documents/projects/GPT4ALL_Fabio/env3/lib/python3.9/site-packages (from unstructured==0.6.5) (3.4.3)\n",
      "Requirement already satisfied: requests in /Users/ytchen/Documents/projects/GPT4ALL_Fabio/env3/lib/python3.9/site-packages (from unstructured==0.6.5) (2.31.0)\n",
      "Requirement already satisfied: certifi>=2022.12.07 in /Users/ytchen/Documents/projects/GPT4ALL_Fabio/env3/lib/python3.9/site-packages (from unstructured==0.6.5) (2023.5.7)\n",
      "Requirement already satisfied: httpx<0.24,>=0.15 in /Users/ytchen/Documents/projects/GPT4ALL_Fabio/env3/lib/python3.9/site-packages (from argilla->unstructured==0.6.5) (0.23.3)\n",
      "Requirement already satisfied: deprecated~=1.2.0 in /Users/ytchen/Documents/projects/GPT4ALL_Fabio/env3/lib/python3.9/site-packages (from argilla->unstructured==0.6.5) (1.2.14)\n",
      "Requirement already satisfied: packaging>=20.0 in /Users/ytchen/Documents/projects/GPT4ALL_Fabio/env3/lib/python3.9/site-packages (from argilla->unstructured==0.6.5) (23.1)\n",
      "Requirement already satisfied: pydantic>=1.10.7 in /Users/ytchen/Documents/projects/GPT4ALL_Fabio/env3/lib/python3.9/site-packages (from argilla->unstructured==0.6.5) (1.10.9)\n",
      "Requirement already satisfied: wrapt<1.15,>=1.13 in /Users/ytchen/Documents/projects/GPT4ALL_Fabio/env3/lib/python3.9/site-packages (from argilla->unstructured==0.6.5) (1.14.1)\n",
      "Requirement already satisfied: numpy<1.24.0 in /Users/ytchen/Documents/projects/GPT4ALL_Fabio/env3/lib/python3.9/site-packages (from argilla->unstructured==0.6.5) (1.23.5)\n",
      "Requirement already satisfied: tqdm>=4.27.0 in /Users/ytchen/Documents/projects/GPT4ALL_Fabio/env3/lib/python3.9/site-packages (from argilla->unstructured==0.6.5) (4.65.0)\n",
      "Requirement already satisfied: backoff in /Users/ytchen/Documents/projects/GPT4ALL_Fabio/env3/lib/python3.9/site-packages (from argilla->unstructured==0.6.5) (2.2.1)\n",
      "Requirement already satisfied: monotonic in /Users/ytchen/Documents/projects/GPT4ALL_Fabio/env3/lib/python3.9/site-packages (from argilla->unstructured==0.6.5) (1.6)\n",
      "Requirement already satisfied: rich<=13.0.1 in /Users/ytchen/Documents/projects/GPT4ALL_Fabio/env3/lib/python3.9/site-packages (from argilla->unstructured==0.6.5) (13.0.1)\n",
      "Requirement already satisfied: typer<1.0.0,>=0.6.0 in /Users/ytchen/Documents/projects/GPT4ALL_Fabio/env3/lib/python3.9/site-packages (from argilla->unstructured==0.6.5) (0.9.0)\n",
      "Requirement already satisfied: python-dateutil>=2.8.1 in /Users/ytchen/Documents/projects/GPT4ALL_Fabio/env3/lib/python3.9/site-packages (from pandas->unstructured==0.6.5) (2.8.2)\n",
      "Requirement already satisfied: pytz>=2020.1 in /Users/ytchen/Documents/projects/GPT4ALL_Fabio/env3/lib/python3.9/site-packages (from pandas->unstructured==0.6.5) (2023.3)\n",
      "Requirement already satisfied: importlib-metadata>=4.4 in /Users/ytchen/Documents/projects/GPT4ALL_Fabio/env3/lib/python3.9/site-packages (from markdown->unstructured==0.6.5) (6.6.0)\n",
      "Requirement already satisfied: olefile>=0.46 in /Users/ytchen/Documents/projects/GPT4ALL_Fabio/env3/lib/python3.9/site-packages (from msg-parser->unstructured==0.6.5) (0.46)\n"
     ]
    },
    {
     "name": "stdout",
     "output_type": "stream",
     "text": [
      "Requirement already satisfied: click in /Users/ytchen/Documents/projects/GPT4ALL_Fabio/env3/lib/python3.9/site-packages (from nltk->unstructured==0.6.5) (8.1.3)\n",
      "Requirement already satisfied: joblib in /Users/ytchen/Documents/projects/GPT4ALL_Fabio/env3/lib/python3.9/site-packages (from nltk->unstructured==0.6.5) (1.2.0)\n",
      "Requirement already satisfied: regex>=2021.8.3 in /Users/ytchen/Documents/projects/GPT4ALL_Fabio/env3/lib/python3.9/site-packages (from nltk->unstructured==0.6.5) (2023.6.3)\n",
      "Requirement already satisfied: et-xmlfile in /Users/ytchen/Documents/projects/GPT4ALL_Fabio/env3/lib/python3.9/site-packages (from openpyxl->unstructured==0.6.5) (1.1.0)\n",
      "Requirement already satisfied: charset-normalizer>=2.0.0 in /Users/ytchen/Documents/projects/GPT4ALL_Fabio/env3/lib/python3.9/site-packages (from pdfminer.six->unstructured==0.6.5) (3.1.0)\n",
      "Requirement already satisfied: cryptography>=36.0.0 in /Users/ytchen/Documents/projects/GPT4ALL_Fabio/env3/lib/python3.9/site-packages (from pdfminer.six->unstructured==0.6.5) (41.0.1)\n",
      "Requirement already satisfied: XlsxWriter>=0.5.7 in /Users/ytchen/Documents/projects/GPT4ALL_Fabio/env3/lib/python3.9/site-packages (from python-pptx->unstructured==0.6.5) (3.1.2)\n",
      "Requirement already satisfied: idna<4,>=2.5 in /Users/ytchen/Documents/projects/GPT4ALL_Fabio/env3/lib/python3.9/site-packages (from requests->unstructured==0.6.5) (3.4)\n",
      "Requirement already satisfied: urllib3<3,>=1.21.1 in /Users/ytchen/Documents/projects/GPT4ALL_Fabio/env3/lib/python3.9/site-packages (from requests->unstructured==0.6.5) (2.0.3)\n",
      "Requirement already satisfied: cffi>=1.12 in /Users/ytchen/Documents/projects/GPT4ALL_Fabio/env3/lib/python3.9/site-packages (from cryptography>=36.0.0->pdfminer.six->unstructured==0.6.5) (1.15.1)\n",
      "Requirement already satisfied: httpcore<0.17.0,>=0.15.0 in /Users/ytchen/Documents/projects/GPT4ALL_Fabio/env3/lib/python3.9/site-packages (from httpx<0.24,>=0.15->argilla->unstructured==0.6.5) (0.16.3)\n",
      "Requirement already satisfied: rfc3986[idna2008]<2,>=1.3 in /Users/ytchen/Documents/projects/GPT4ALL_Fabio/env3/lib/python3.9/site-packages (from httpx<0.24,>=0.15->argilla->unstructured==0.6.5) (1.5.0)\n",
      "Requirement already satisfied: sniffio in /Users/ytchen/Documents/projects/GPT4ALL_Fabio/env3/lib/python3.9/site-packages (from httpx<0.24,>=0.15->argilla->unstructured==0.6.5) (1.3.0)\n",
      "Requirement already satisfied: zipp>=0.5 in /Users/ytchen/Documents/projects/GPT4ALL_Fabio/env3/lib/python3.9/site-packages (from importlib-metadata>=4.4->markdown->unstructured==0.6.5) (3.15.0)\n",
      "Requirement already satisfied: typing-extensions>=4.2.0 in /Users/ytchen/Documents/projects/GPT4ALL_Fabio/env3/lib/python3.9/site-packages (from pydantic>=1.10.7->argilla->unstructured==0.6.5) (4.6.3)\n",
      "Requirement already satisfied: six>=1.5 in /Users/ytchen/Documents/projects/GPT4ALL_Fabio/env3/lib/python3.9/site-packages (from python-dateutil>=2.8.1->pandas->unstructured==0.6.5) (1.16.0)\n",
      "Requirement already satisfied: commonmark<0.10.0,>=0.9.0 in /Users/ytchen/Documents/projects/GPT4ALL_Fabio/env3/lib/python3.9/site-packages (from rich<=13.0.1->argilla->unstructured==0.6.5) (0.9.1)\n",
      "Requirement already satisfied: pygments<3.0.0,>=2.6.0 in /Users/ytchen/Documents/projects/GPT4ALL_Fabio/env3/lib/python3.9/site-packages (from rich<=13.0.1->argilla->unstructured==0.6.5) (2.15.1)\n",
      "Requirement already satisfied: pycparser in /Users/ytchen/Documents/projects/GPT4ALL_Fabio/env3/lib/python3.9/site-packages (from cffi>=1.12->cryptography>=36.0.0->pdfminer.six->unstructured==0.6.5) (2.21)\n",
      "Requirement already satisfied: h11<0.15,>=0.13 in /Users/ytchen/Documents/projects/GPT4ALL_Fabio/env3/lib/python3.9/site-packages (from httpcore<0.17.0,>=0.15.0->httpx<0.24,>=0.15->argilla->unstructured==0.6.5) (0.14.0)\n",
      "Requirement already satisfied: anyio<5.0,>=3.0 in /Users/ytchen/Documents/projects/GPT4ALL_Fabio/env3/lib/python3.9/site-packages (from httpcore<0.17.0,>=0.15.0->httpx<0.24,>=0.15->argilla->unstructured==0.6.5) (3.7.0)\n",
      "Requirement already satisfied: exceptiongroup in /Users/ytchen/Documents/projects/GPT4ALL_Fabio/env3/lib/python3.9/site-packages (from anyio<5.0,>=3.0->httpcore<0.17.0,>=0.15.0->httpx<0.24,>=0.15->argilla->unstructured==0.6.5) (1.1.1)\n",
      "Requirement already satisfied: pdf2image==1.16.3 in /Users/ytchen/Documents/projects/GPT4ALL_Fabio/env3/lib/python3.9/site-packages (1.16.3)\n",
      "Requirement already satisfied: pillow in /Users/ytchen/Documents/projects/GPT4ALL_Fabio/env3/lib/python3.9/site-packages (from pdf2image==1.16.3) (9.5.0)\n",
      "Requirement already satisfied: pytesseract==0.3.10 in /Users/ytchen/Documents/projects/GPT4ALL_Fabio/env3/lib/python3.9/site-packages (0.3.10)\n",
      "Requirement already satisfied: packaging>=21.3 in /Users/ytchen/Documents/projects/GPT4ALL_Fabio/env3/lib/python3.9/site-packages (from pytesseract==0.3.10) (23.1)\n",
      "Requirement already satisfied: Pillow>=8.0.0 in /Users/ytchen/Documents/projects/GPT4ALL_Fabio/env3/lib/python3.9/site-packages (from pytesseract==0.3.10) (9.5.0)\n",
      "Requirement already satisfied: pypdf==3.8.1 in /Users/ytchen/Documents/projects/GPT4ALL_Fabio/env3/lib/python3.9/site-packages (3.8.1)\n",
      "Requirement already satisfied: typing_extensions>=3.10.0.0 in /Users/ytchen/Documents/projects/GPT4ALL_Fabio/env3/lib/python3.9/site-packages (from pypdf==3.8.1) (4.6.3)\n",
      "Requirement already satisfied: faiss-cpu==1.7.4 in /Users/ytchen/Documents/projects/GPT4ALL_Fabio/env3/lib/python3.9/site-packages (1.7.4)\n"
     ]
    }
   ],
   "source": [
    "!pip install pygpt4all==1.0.1\n",
    "!pip install pyllamacpp==1.0.6\n",
    "!pip install langchain==0.0.149\n",
    "!pip install unstructured==0.6.5\n",
    "!pip install pdf2image==1.16.3\n",
    "!pip install pytesseract==0.3.10\n",
    "!pip install pypdf==3.8.1\n",
    "!pip install faiss-cpu==1.7.4\n"
   ]
  },
  {
   "cell_type": "code",
   "execution_count": 14,
   "id": "1a6287db",
   "metadata": {},
   "outputs": [
    {
     "name": "stdout",
     "output_type": "stream",
     "text": [
      "Requirement already satisfied: llama-cpp-python in /Users/ytchen/Documents/projects/GPT4ALL_Fabio/env3/lib/python3.9/site-packages (0.1.63)\r\n",
      "Requirement already satisfied: typing-extensions>=4.5.0 in /Users/ytchen/Documents/projects/GPT4ALL_Fabio/env3/lib/python3.9/site-packages (from llama-cpp-python) (4.6.3)\r\n",
      "Requirement already satisfied: numpy>=1.20.0 in /Users/ytchen/Documents/projects/GPT4ALL_Fabio/env3/lib/python3.9/site-packages (from llama-cpp-python) (1.23.5)\r\n",
      "Requirement already satisfied: diskcache>=5.6.1 in /Users/ytchen/Documents/projects/GPT4ALL_Fabio/env3/lib/python3.9/site-packages (from llama-cpp-python) (5.6.1)\r\n"
     ]
    }
   ],
   "source": [
    "!pip install llama-cpp-python\n"
   ]
  },
  {
   "cell_type": "markdown",
   "id": "e1a691c5",
   "metadata": {},
   "source": [
    "# pygpt4all_test.py"
   ]
  },
  {
   "cell_type": "code",
   "execution_count": 8,
   "id": "59e8a2b9",
   "metadata": {},
   "outputs": [
    {
     "name": "stdout",
     "output_type": "stream",
     "text": [
      " Once upon a time, 3 wishes were granted"
     ]
    },
    {
     "name": "stderr",
     "output_type": "stream",
     "text": [
      "llama_model_load: loading model from './models/gpt4all-converted.bin' - please wait ...\n",
      "llama_model_load: n_vocab = 32001\n",
      "llama_model_load: n_ctx   = 512\n",
      "llama_model_load: n_embd  = 4096\n",
      "llama_model_load: n_mult  = 256\n",
      "llama_model_load: n_head  = 32\n",
      "llama_model_load: n_layer = 32\n",
      "llama_model_load: n_rot   = 128\n",
      "llama_model_load: f16     = 2\n",
      "llama_model_load: n_ff    = 11008\n",
      "llama_model_load: n_parts = 1\n",
      "llama_model_load: type    = 1\n",
      "llama_model_load: ggml map size = 4017.70 MB\n",
      "llama_model_load: ggml ctx size =  81.25 KB\n",
      "llama_model_load: mem required  = 5809.78 MB (+ 2052.00 MB per state)\n",
      "llama_model_load: loading tensors from './models/gpt4all-converted.bin'\n",
      "llama_model_load: model size =  4017.27 MB / num tensors = 291\n",
      "llama_init_from_file: kv self size  =  512.00 MB\n",
      "llama_generate: seed = 1686837201\n",
      "\n",
      "system_info: n_threads = 4 / 10 | AVX = 0 | AVX2 = 0 | AVX512 = 0 | FMA = 0 | NEON = 1 | ARM_FMA = 1 | F16C = 0 | FP16_VA = 1 | WASM_SIMD = 0 | BLAS = 1 | SSE3 = 0 | VSX = 0 | \n",
      "sampling: temp = 0.800000, top_k = 40, top_p = 0.950000, repeat_last_n = 64, repeat_penalty = 1.100000\n",
      "generate: n_ctx = 512, n_batch = 8, n_predict = 55, n_keep = 0\n",
      "\n",
      "\n"
     ]
    },
    {
     "name": "stdout",
     "output_type": "stream",
     "text": [
      " to a genie. He was happy with his genie powers and decided to explore the world. His first wish went like this: I wish for all the gold in the world! Soon enough, he had all the gold anyone could imagine. However"
     ]
    },
    {
     "name": "stderr",
     "output_type": "stream",
     "text": [
      "\n",
      "llama_print_timings:        load time =  3203.04 ms\n",
      "llama_print_timings:      sample time =    38.89 ms /    55 runs   (    0.71 ms per run)\n",
      "llama_print_timings: prompt eval time =  2723.56 ms /     7 tokens (  389.08 ms per token)\n",
      "llama_print_timings:        eval time =  4316.75 ms /    54 runs   (   79.94 ms per run)\n",
      "llama_print_timings:       total time =  7564.67 ms\n"
     ]
    },
    {
     "data": {
      "text/plain": [
       "' Once upon a time, 3 wishes were granted to a genie. He was happy with his genie powers and decided to explore the world. His first wish went like this: I wish for all the gold in the world! Soon enough, he had all the gold anyone could imagine. However'"
      ]
     },
     "execution_count": 8,
     "metadata": {},
     "output_type": "execute_result"
    }
   ],
   "source": [
    "from pygpt4all.models.gpt4all import GPT4All\n",
    "\n",
    "def new_text_callback(text):\n",
    "    print(text, end=\"\")\n",
    "\n",
    "model = GPT4All('./models/gpt4all-converted.bin')\n",
    "model.generate(\"Once upon a time, \", n_predict=55, new_text_callback=new_text_callback)\n"
   ]
  },
  {
   "cell_type": "markdown",
   "id": "722cd4ed",
   "metadata": {},
   "source": [
    "# my_langchain.py"
   ]
  },
  {
   "cell_type": "code",
   "execution_count": 9,
   "id": "564613d7",
   "metadata": {},
   "outputs": [],
   "source": [
    "# Import of langchain Prompt Template and Chain\n",
    "from langchain import PromptTemplate, LLMChain\n",
    "\n",
    "# Import llm to be able to interact with GPT4All directly from langchain\n",
    "from langchain.llms import GPT4All\n",
    "\n",
    "# Callbacks manager is required for the response handling \n",
    "from langchain.callbacks.base import CallbackManager\n",
    "from langchain.callbacks.streaming_stdout import StreamingStdOutCallbackHandler\n"
   ]
  },
  {
   "cell_type": "code",
   "execution_count": 4,
   "id": "b41c5417",
   "metadata": {},
   "outputs": [],
   "source": [
    "local_path = './models/gpt4all-converted.bin'\n",
    "callback_manager = CallbackManager([StreamingStdOutCallbackHandler()])\n",
    "\n",
    "template = \"\"\"Question: {question}\n",
    "\n",
    "Answer: Let's think step by step on it.\n",
    "\n",
    "\"\"\"\n"
   ]
  },
  {
   "cell_type": "code",
   "execution_count": 5,
   "id": "21d67064",
   "metadata": {},
   "outputs": [
    {
     "name": "stderr",
     "output_type": "stream",
     "text": [
      "llama_model_load: loading model from './models/gpt4all-converted.bin' - please wait ...\n",
      "llama_model_load: n_vocab = 32001\n",
      "llama_model_load: n_ctx   = 512\n",
      "llama_model_load: n_embd  = 4096\n",
      "llama_model_load: n_mult  = 256\n",
      "llama_model_load: n_head  = 32\n",
      "llama_model_load: n_layer = 32\n",
      "llama_model_load: n_rot   = 128\n",
      "llama_model_load: f16     = 2\n",
      "llama_model_load: n_ff    = 11008\n",
      "llama_model_load: n_parts = 1\n",
      "llama_model_load: type    = 1\n",
      "llama_model_load: ggml map size = 4017.70 MB\n",
      "llama_model_load: ggml ctx size =  81.25 KB\n",
      "llama_model_load: mem required  = 5809.78 MB (+ 2052.00 MB per state)\n",
      "llama_model_load: loading tensors from './models/gpt4all-converted.bin'\n",
      "llama_model_load: model size =  4017.27 MB / num tensors = 291\n",
      "llama_init_from_file: kv self size  =  512.00 MB\n"
     ]
    }
   ],
   "source": [
    "prompt = PromptTemplate(template=template, input_variables=[\"question\"])\n",
    "\n",
    "# initialize the GPT4All instance\n",
    "llm = GPT4All(model=local_path, callback_manager=callback_manager, verbose=True)\n",
    "\n",
    "# link the language model with our prompt template\n",
    "llm_chain = LLMChain(prompt=prompt, llm=llm)\n"
   ]
  },
  {
   "cell_type": "code",
   "execution_count": 6,
   "id": "1b0d43aa",
   "metadata": {},
   "outputs": [
    {
     "name": "stderr",
     "output_type": "stream",
     "text": [
      "llama_generate: seed = 1686836387\n",
      "\n",
      "system_info: n_threads = 4 / 10 | AVX = 0 | AVX2 = 0 | AVX512 = 0 | FMA = 0 | NEON = 1 | ARM_FMA = 1 | F16C = 0 | FP16_VA = 1 | WASM_SIMD = 0 | BLAS = 1 | SSE3 = 0 | VSX = 0 | \n",
      "sampling: temp = 0.800000, top_k = 40, top_p = 0.950000, repeat_last_n = 64, repeat_penalty = 1.300000\n",
      "generate: n_ctx = 512, n_batch = 1, n_predict = 256, n_keep = 0\n",
      "\n",
      "\n"
     ]
    },
    {
     "name": "stdout",
     "output_type": "stream",
     "text": [
      " Question: What Formula 1 pilot won the championship in the year Leonardo di Caprio was born?\n",
      "\n",
      "Answer: Let's think step by step on it.\n",
      "\n",
      "Leonard DiCaprio (not \"di Capri\" as a common mistake) - was born March 15, 1974 and he turned 30 years old in the year of Formula One World Championship won by Damon Hill at Imola circuit for Williams-Renault on September 26.\n",
      "So we need to find out who raced as Renualt driver (now it's RS) or other teams before Williams F1 team was founded ?"
     ]
    },
    {
     "name": "stderr",
     "output_type": "stream",
     "text": [
      " [end of text]\n",
      "\n",
      "llama_print_timings:        load time = 37119.72 ms\n",
      "llama_print_timings:      sample time =    72.01 ms /   103 runs   (    0.70 ms per run)\n",
      "llama_print_timings: prompt eval time =     0.00 ms /     1 tokens (    0.00 ms per token)\n",
      "llama_print_timings:        eval time = 18475.36 ms /   140 runs   (  131.97 ms per run)\n",
      "llama_print_timings:       total time = 49575.04 ms\n"
     ]
    },
    {
     "data": {
      "text/plain": [
       "' Question: What Formula 1 pilot won the championship in the year Leonardo di Caprio was born?\\n\\nAnswer: Let\\'s think step by step on it.\\n\\nLeonard DiCaprio (not \"di Capri\" as a common mistake) - was born March 15, 1974 and he turned 30 years old in the year of Formula One World Championship won by Damon Hill at Imola circuit for Williams-Renault on September 26.\\nSo we need to find out who raced as Renualt driver (now it\\'s RS) or other teams before Williams F1 team was founded ?'"
      ]
     },
     "execution_count": 6,
     "metadata": {},
     "output_type": "execute_result"
    }
   ],
   "source": [
    "# Hardcoded question\n",
    "question = \"What Formula 1 pilot won the championship in the year Leonardo di Caprio was born?\"\n",
    "\n",
    "# User imput question...\n",
    "#question = input(\"Enter your question: \")\n",
    "\n",
    "# Run the query and get the results\n",
    "llm_chain.run(question)\n"
   ]
  },
  {
   "cell_type": "markdown",
   "id": "32f9ac9f",
   "metadata": {},
   "source": [
    "# my_knowledge_qna.py"
   ]
  },
  {
   "cell_type": "code",
   "execution_count": 1,
   "id": "8b574ef4",
   "metadata": {},
   "outputs": [
    {
     "name": "stderr",
     "output_type": "stream",
     "text": [
      "/Users/ytchen/Documents/projects/GPT4ALL_Fabio/env3/lib/python3.9/site-packages/urllib3/__init__.py:34: NotOpenSSLWarning: urllib3 v2.0 only supports OpenSSL 1.1.1+, currently the 'ssl' module is compiled with 'LibreSSL 2.8.3'. See: https://github.com/urllib3/urllib3/issues/3020\n",
      "  warnings.warn(\n"
     ]
    }
   ],
   "source": [
    "from langchain import PromptTemplate, LLMChain\n",
    "from langchain.llms import GPT4All\n",
    "from langchain.callbacks.base import CallbackManager\n",
    "from langchain.callbacks.streaming_stdout import StreamingStdOutCallbackHandler\n",
    "\n",
    "# function for loading only TXT files\n",
    "from langchain.document_loaders import TextLoader\n",
    "\n",
    "# text splitter for create chunks\n",
    "from langchain.text_splitter import RecursiveCharacterTextSplitter\n",
    "\n",
    "# to be able to load the pdf files\n",
    "from langchain.document_loaders import UnstructuredPDFLoader\n",
    "from langchain.document_loaders import PyPDFLoader\n",
    "from langchain.document_loaders import DirectoryLoader\n",
    "\n",
    "# Vector Store Index to create our database about our knowledge\n",
    "from langchain.indexes import VectorstoreIndexCreator\n",
    "\n",
    "# LLamaCpp embeddings from the Alpaca model\n",
    "from langchain.embeddings import LlamaCppEmbeddings\n",
    "\n",
    "# FAISS  library for similarity search\n",
    "from langchain.vectorstores.faiss import FAISS\n",
    "\n",
    "import os  #for interaction with the files\n",
    "import datetime\n"
   ]
  },
  {
   "cell_type": "code",
   "execution_count": 2,
   "id": "64034619",
   "metadata": {},
   "outputs": [
    {
     "name": "stderr",
     "output_type": "stream",
     "text": [
      "llama.cpp: loading model from ./models/ggml-model-q4_0.bin\n",
      "error loading model: unexpectedly reached end of file\n",
      "llama_init_from_file: failed to load model\n"
     ]
    },
    {
     "ename": "NameError",
     "evalue": "Could not load Llama model from path: ./models/ggml-model-q4_0.bin",
     "output_type": "error",
     "traceback": [
      "\u001b[0;31m---------------------------------------------------------------------------\u001b[0m",
      "\u001b[0;31mAssertionError\u001b[0m                            Traceback (most recent call last)",
      "File \u001b[0;32m~/Documents/projects/GPT4ALL_Fabio/env3/lib/python3.9/site-packages/langchain/embeddings/llamacpp.py:78\u001b[0m, in \u001b[0;36mLlamaCppEmbeddings.validate_environment\u001b[0;34m(cls, values)\u001b[0m\n\u001b[1;32m     76\u001b[0m     \u001b[38;5;28;01mfrom\u001b[39;00m \u001b[38;5;21;01mllama_cpp\u001b[39;00m \u001b[38;5;28;01mimport\u001b[39;00m Llama\n\u001b[0;32m---> 78\u001b[0m     values[\u001b[38;5;124m\"\u001b[39m\u001b[38;5;124mclient\u001b[39m\u001b[38;5;124m\"\u001b[39m] \u001b[38;5;241m=\u001b[39m \u001b[43mLlama\u001b[49m\u001b[43m(\u001b[49m\n\u001b[1;32m     79\u001b[0m \u001b[43m        \u001b[49m\u001b[43mmodel_path\u001b[49m\u001b[38;5;241;43m=\u001b[39;49m\u001b[43mmodel_path\u001b[49m\u001b[43m,\u001b[49m\n\u001b[1;32m     80\u001b[0m \u001b[43m        \u001b[49m\u001b[43mn_ctx\u001b[49m\u001b[38;5;241;43m=\u001b[39;49m\u001b[43mn_ctx\u001b[49m\u001b[43m,\u001b[49m\n\u001b[1;32m     81\u001b[0m \u001b[43m        \u001b[49m\u001b[43mn_parts\u001b[49m\u001b[38;5;241;43m=\u001b[39;49m\u001b[43mn_parts\u001b[49m\u001b[43m,\u001b[49m\n\u001b[1;32m     82\u001b[0m \u001b[43m        \u001b[49m\u001b[43mseed\u001b[49m\u001b[38;5;241;43m=\u001b[39;49m\u001b[43mseed\u001b[49m\u001b[43m,\u001b[49m\n\u001b[1;32m     83\u001b[0m \u001b[43m        \u001b[49m\u001b[43mf16_kv\u001b[49m\u001b[38;5;241;43m=\u001b[39;49m\u001b[43mf16_kv\u001b[49m\u001b[43m,\u001b[49m\n\u001b[1;32m     84\u001b[0m \u001b[43m        \u001b[49m\u001b[43mlogits_all\u001b[49m\u001b[38;5;241;43m=\u001b[39;49m\u001b[43mlogits_all\u001b[49m\u001b[43m,\u001b[49m\n\u001b[1;32m     85\u001b[0m \u001b[43m        \u001b[49m\u001b[43mvocab_only\u001b[49m\u001b[38;5;241;43m=\u001b[39;49m\u001b[43mvocab_only\u001b[49m\u001b[43m,\u001b[49m\n\u001b[1;32m     86\u001b[0m \u001b[43m        \u001b[49m\u001b[43muse_mlock\u001b[49m\u001b[38;5;241;43m=\u001b[39;49m\u001b[43muse_mlock\u001b[49m\u001b[43m,\u001b[49m\n\u001b[1;32m     87\u001b[0m \u001b[43m        \u001b[49m\u001b[43mn_threads\u001b[49m\u001b[38;5;241;43m=\u001b[39;49m\u001b[43mn_threads\u001b[49m\u001b[43m,\u001b[49m\n\u001b[1;32m     88\u001b[0m \u001b[43m        \u001b[49m\u001b[43mn_batch\u001b[49m\u001b[38;5;241;43m=\u001b[39;49m\u001b[43mn_batch\u001b[49m\u001b[43m,\u001b[49m\n\u001b[1;32m     89\u001b[0m \u001b[43m        \u001b[49m\u001b[43membedding\u001b[49m\u001b[38;5;241;43m=\u001b[39;49m\u001b[38;5;28;43;01mTrue\u001b[39;49;00m\u001b[43m,\u001b[49m\n\u001b[1;32m     90\u001b[0m \u001b[43m    \u001b[49m\u001b[43m)\u001b[49m\n\u001b[1;32m     91\u001b[0m \u001b[38;5;28;01mexcept\u001b[39;00m \u001b[38;5;167;01mImportError\u001b[39;00m:\n",
      "File \u001b[0;32m~/Documents/projects/GPT4ALL_Fabio/env3/lib/python3.9/site-packages/llama_cpp/llama.py:289\u001b[0m, in \u001b[0;36mLlama.__init__\u001b[0;34m(self, model_path, n_ctx, n_parts, n_gpu_layers, seed, f16_kv, logits_all, vocab_only, use_mmap, use_mlock, embedding, n_threads, n_batch, last_n_tokens_size, lora_base, lora_path, low_vram, verbose)\u001b[0m\n\u001b[1;32m    285\u001b[0m \u001b[38;5;28mself\u001b[39m\u001b[38;5;241m.\u001b[39mctx \u001b[38;5;241m=\u001b[39m llama_cpp\u001b[38;5;241m.\u001b[39mllama_init_from_file(\n\u001b[1;32m    286\u001b[0m     \u001b[38;5;28mself\u001b[39m\u001b[38;5;241m.\u001b[39mmodel_path\u001b[38;5;241m.\u001b[39mencode(\u001b[38;5;124m\"\u001b[39m\u001b[38;5;124mutf-8\u001b[39m\u001b[38;5;124m\"\u001b[39m), \u001b[38;5;28mself\u001b[39m\u001b[38;5;241m.\u001b[39mparams\n\u001b[1;32m    287\u001b[0m )\n\u001b[0;32m--> 289\u001b[0m \u001b[38;5;28;01massert\u001b[39;00m \u001b[38;5;28mself\u001b[39m\u001b[38;5;241m.\u001b[39mctx \u001b[38;5;129;01mis\u001b[39;00m \u001b[38;5;129;01mnot\u001b[39;00m \u001b[38;5;28;01mNone\u001b[39;00m\n\u001b[1;32m    291\u001b[0m \u001b[38;5;28;01mif\u001b[39;00m \u001b[38;5;28mself\u001b[39m\u001b[38;5;241m.\u001b[39mlora_path:\n",
      "\u001b[0;31mAssertionError\u001b[0m: ",
      "\nDuring handling of the above exception, another exception occurred:\n",
      "\u001b[0;31mNameError\u001b[0m                                 Traceback (most recent call last)",
      "Cell \u001b[0;32mIn[2], line 9\u001b[0m\n\u001b[1;32m      6\u001b[0m callback_manager \u001b[38;5;241m=\u001b[39m CallbackManager([StreamingStdOutCallbackHandler()])\n\u001b[1;32m      8\u001b[0m \u001b[38;5;66;03m# create the embedding object\u001b[39;00m\n\u001b[0;32m----> 9\u001b[0m embeddings \u001b[38;5;241m=\u001b[39m \u001b[43mLlamaCppEmbeddings\u001b[49m\u001b[43m(\u001b[49m\u001b[43mmodel_path\u001b[49m\u001b[38;5;241;43m=\u001b[39;49m\u001b[43mllama_path\u001b[49m\u001b[43m)\u001b[49m\n\u001b[1;32m     11\u001b[0m \u001b[38;5;66;03m# create the GPT4All llm object\u001b[39;00m\n\u001b[1;32m     12\u001b[0m llm \u001b[38;5;241m=\u001b[39m GPT4All(model\u001b[38;5;241m=\u001b[39mgpt4all_path, callback_manager\u001b[38;5;241m=\u001b[39mcallback_manager, verbose\u001b[38;5;241m=\u001b[39m\u001b[38;5;28;01mTrue\u001b[39;00m)\n",
      "File \u001b[0;32m~/Documents/projects/GPT4ALL_Fabio/env3/lib/python3.9/site-packages/pydantic/main.py:339\u001b[0m, in \u001b[0;36mpydantic.main.BaseModel.__init__\u001b[0;34m()\u001b[0m\n",
      "File \u001b[0;32m~/Documents/projects/GPT4ALL_Fabio/env3/lib/python3.9/site-packages/pydantic/main.py:1102\u001b[0m, in \u001b[0;36mpydantic.main.validate_model\u001b[0;34m()\u001b[0m\n",
      "File \u001b[0;32m~/Documents/projects/GPT4ALL_Fabio/env3/lib/python3.9/site-packages/langchain/embeddings/llamacpp.py:98\u001b[0m, in \u001b[0;36mLlamaCppEmbeddings.validate_environment\u001b[0;34m(cls, values)\u001b[0m\n\u001b[1;32m     92\u001b[0m     \u001b[38;5;28;01mraise\u001b[39;00m \u001b[38;5;167;01mModuleNotFoundError\u001b[39;00m(\n\u001b[1;32m     93\u001b[0m         \u001b[38;5;124m\"\u001b[39m\u001b[38;5;124mCould not import llama-cpp-python library. \u001b[39m\u001b[38;5;124m\"\u001b[39m\n\u001b[1;32m     94\u001b[0m         \u001b[38;5;124m\"\u001b[39m\u001b[38;5;124mPlease install the llama-cpp-python library to \u001b[39m\u001b[38;5;124m\"\u001b[39m\n\u001b[1;32m     95\u001b[0m         \u001b[38;5;124m\"\u001b[39m\u001b[38;5;124muse this embedding model: pip install llama-cpp-python\u001b[39m\u001b[38;5;124m\"\u001b[39m\n\u001b[1;32m     96\u001b[0m     )\n\u001b[1;32m     97\u001b[0m \u001b[38;5;28;01mexcept\u001b[39;00m \u001b[38;5;167;01mException\u001b[39;00m:\n\u001b[0;32m---> 98\u001b[0m     \u001b[38;5;28;01mraise\u001b[39;00m \u001b[38;5;167;01mNameError\u001b[39;00m(\u001b[38;5;124mf\u001b[39m\u001b[38;5;124m\"\u001b[39m\u001b[38;5;124mCould not load Llama model from path: \u001b[39m\u001b[38;5;132;01m{\u001b[39;00mmodel_path\u001b[38;5;132;01m}\u001b[39;00m\u001b[38;5;124m\"\u001b[39m)\n\u001b[1;32m    100\u001b[0m \u001b[38;5;28;01mreturn\u001b[39;00m values\n",
      "\u001b[0;31mNameError\u001b[0m: Could not load Llama model from path: ./models/ggml-model-q4_0.bin"
     ]
    }
   ],
   "source": [
    "# assign the path for the 2 models GPT4All and Alpaca for the embeddings \n",
    "gpt4all_path = './models/gpt4all-converted.bin' \n",
    "llama_path = './models/ggml-model-q4_0.bin' \n",
    "\n",
    "# Calback manager for handling the calls with  the model\n",
    "callback_manager = CallbackManager([StreamingStdOutCallbackHandler()])\n",
    "\n",
    "# create the embedding object\n",
    "embeddings = LlamaCppEmbeddings(model_path=llama_path)\n",
    "\n",
    "# create the GPT4All llm object\n",
    "llm = GPT4All(model=gpt4all_path, callback_manager=callback_manager, verbose=True)\n"
   ]
  },
  {
   "cell_type": "code",
   "execution_count": null,
   "id": "0d2428e4",
   "metadata": {},
   "outputs": [],
   "source": []
  }
 ],
 "metadata": {
  "kernelspec": {
   "display_name": "Python 3 (ipykernel)",
   "language": "python",
   "name": "python3"
  },
  "language_info": {
   "codemirror_mode": {
    "name": "ipython",
    "version": 3
   },
   "file_extension": ".py",
   "mimetype": "text/x-python",
   "name": "python",
   "nbconvert_exporter": "python",
   "pygments_lexer": "ipython3",
   "version": "3.9.6"
  }
 },
 "nbformat": 4,
 "nbformat_minor": 5
}
