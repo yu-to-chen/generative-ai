{
 "cells": [
  {
   "cell_type": "markdown",
   "metadata": {
    "id": "0-5iVn0K0xiY"
   },
   "source": [
    "# Expanding\n",
    "In this lesson, you will generate customer service emails that are tailored to each customer's review.\n",
    "\n",
    "## Setup"
   ]
  },
  {
   "cell_type": "code",
   "execution_count": 1,
   "metadata": {
    "id": "kLkOjk7z02YA"
   },
   "outputs": [],
   "source": [
    "import openai\n",
    "import os\n",
    "\n",
    "from dotenv import load_dotenv, find_dotenv\n",
    "_ = load_dotenv(find_dotenv()) # read local .env file\n",
    "\n",
    "openai.api_key  = os.getenv('OPENAI_API_KEY')\n"
   ]
  },
  {
   "cell_type": "code",
   "execution_count": 2,
   "metadata": {
    "id": "o0Z99r4t04Bu"
   },
   "outputs": [],
   "source": [
    "def get_completion(prompt, model=\"gpt-3.5-turbo\",temperature=0): # Andrew mentioned that the prompt/ completion paradigm is preferable for this class\n",
    "    messages = [{\"role\": \"user\", \"content\": prompt}]\n",
    "    response = openai.ChatCompletion.create(\n",
    "        model=model,\n",
    "        messages=messages,\n",
    "        temperature=temperature, # this is the degree of randomness of the model's output\n",
    "    )\n",
    "    return response.choices[0].message[\"content\"]\n"
   ]
  },
  {
   "cell_type": "markdown",
   "metadata": {
    "id": "etkAk-lQ06Ul"
   },
   "source": [
    "## Customize the automated reply to a customer email"
   ]
  },
  {
   "cell_type": "code",
   "execution_count": 3,
   "metadata": {
    "id": "u2qsgNkd082k"
   },
   "outputs": [],
   "source": [
    "# given the sentiment from the lesson on \"inferring\",\n",
    "# and the original customer message, customize the email\n",
    "sentiment = \"negative\"\n",
    "\n",
    "# review for a blender\n",
    "review = f\"\"\"\n",
    "So, they still had the 17 piece system on seasonal \\\n",
    "sale for around $49 in the month of November, about \\\n",
    "half off, but for some reason (call it price gouging) \\\n",
    "around the second week of December the prices all went \\\n",
    "up to about anywhere from between $70-$89 for the same \\\n",
    "system. And the 11 piece system went up around $10 or \\\n",
    "so in price also from the earlier sale price of $29. \\\n",
    "So it looks okay, but if you look at the base, the part \\\n",
    "where the blade locks into place doesn’t look as good \\\n",
    "as in previous editions from a few years ago, but I \\\n",
    "plan to be very gentle with it (example, I crush \\\n",
    "very hard items like beans, ice, rice, etc. in the \\ \n",
    "blender first then pulverize them in the serving size \\\n",
    "I want in the blender then switch to the whipping \\\n",
    "blade for a finer flour, and use the cross cutting blade \\\n",
    "first when making smoothies, then use the flat blade \\\n",
    "if I need them finer/less pulpy). Special tip when making \\\n",
    "smoothies, finely cut and freeze the fruits and \\\n",
    "vegetables (if using spinach-lightly stew soften the \\ \n",
    "spinach then freeze until ready for use-and if making \\\n",
    "sorbet, use a small to medium sized food processor) \\ \n",
    "that you plan to use that way you can avoid adding so \\\n",
    "much ice if at all-when making your smoothie. \\\n",
    "After about a year, the motor was making a funny noise. \\\n",
    "I called customer service but the warranty expired \\\n",
    "already, so I had to buy another one. FYI: The overall \\\n",
    "quality has gone done in these types of products, so \\\n",
    "they are kind of counting on brand recognition and \\\n",
    "consumer loyalty to maintain sales. Got it in about \\\n",
    "two days.\n",
    "\"\"\"\n"
   ]
  },
  {
   "cell_type": "code",
   "execution_count": 4,
   "metadata": {
    "id": "UkBgueo10_98"
   },
   "outputs": [
    {
     "name": "stdout",
     "output_type": "stream",
     "text": [
      "Dear Valued Customer,\n",
      "\n",
      "Thank you for taking the time to leave a review about our product. We are sorry to hear that you experienced an increase in price and that the quality of the product did not meet your expectations. We apologize for any inconvenience this may have caused you.\n",
      "\n",
      "We would like to assure you that we take all feedback seriously and we will be sure to pass your comments along to our team. If you have any further concerns, please do not hesitate to reach out to our customer service team for assistance.\n",
      "\n",
      "Thank you again for your review and for choosing our product. We hope to have the opportunity to serve you better in the future.\n",
      "\n",
      "Best regards,\n",
      "\n",
      "AI customer agent\n"
     ]
    }
   ],
   "source": [
    "prompt = f\"\"\"\n",
    "You are a customer service AI assistant.\n",
    "Your task is to send an email reply to a valued customer.\n",
    "Given the customer email delimited by ```, \\\n",
    "Generate a reply to thank the customer for their review.\n",
    "If the sentiment is positive or neutral, thank them for \\\n",
    "their review.\n",
    "If the sentiment is negative, apologize and suggest that \\\n",
    "they can reach out to customer service. \n",
    "Make sure to use specific details from the review.\n",
    "Write in a concise and professional tone.\n",
    "Sign the email as `AI customer agent`.\n",
    "Customer review: ```{review}```\n",
    "Review sentiment: {sentiment}\n",
    "\"\"\"\n",
    "response = get_completion(prompt)\n",
    "print(response)\n"
   ]
  },
  {
   "cell_type": "code",
   "execution_count": 10,
   "metadata": {},
   "outputs": [],
   "source": [
    "# given the sentiment from the lesson on \"inferring\",\n",
    "# and the original customer message, customize the email\n",
    "sentiment_2 = \"負面\"\n",
    "\n",
    "# review for a blender\n",
    "review_2 = f\"\"\"\n",
    "所以，他們在十一月時，仍然有這款17件套系統在季節性減價中，售價約為49美元，折扣大約半價，\\\n",
    "但由於某種原因（稱之為價格壟斷），在十二月的第二週，所有價格都上升到了大約70至89美元的範圍內，對於相同的系統。\\\n",
    "而11件套系統的價格也從之前的特價29美元上漲了大約10美元左右。\\\n",
    "所以看起來還可以，但如果你看基座，那部分刀片鎖定的地方，看起來並不如幾年前的版本好，\\\n",
    "但我打算非常輕柔地使用它（例如，我首先在攪拌器中壓碎像豆類、冰塊、米飯等非常硬的物品，然後將它們壓成我想要的份量大小，\\\n",
    "在攪拌器中，然後切換到搅打刀片以獲得更細的麵粉，並首先在製作冰沙時使用十字切割刀片，然後如果我需要它們更細/少果肉，則使用平刀片）。\\\n",
    "製作冰沙的特別提示，細切並冷凍您計劃使用的水果和蔬菜（如果使用菠菜-輕煮軟化菠菜然後冷凍，\\\n",
    "直到準備使用-如果製作冰糕，使用中小型食品處理器），這樣你就可以避免在製作你的冰沙時添加太多的冰，如果有的話。大約一年後，\\\n",
    "馬達開始發出奇怪的聲音。我打電話給客服，但是保修期已經過期，所以我不得不再買一個。\\\n",
    "僅供參考：這種類型的產品的整體質量已經降低，所以他們有點依賴品牌認識和消費者的忠誠度來維持銷售。我大約在兩天後得到了它。\"\n",
    "\"\"\"\n"
   ]
  },
  {
   "cell_type": "code",
   "execution_count": 7,
   "metadata": {
    "id": "UkBgueo10_98"
   },
   "outputs": [
    {
     "name": "stdout",
     "output_type": "stream",
     "text": [
      "尊敬的客戶，\n",
      "\n",
      "非常感謝您對我們產品的評價，我們非常重視您的反饋。對於您在使用過程中遇到的問題，我們深表歉意。我們的產品一直以來都是為了滿足客戶的需求而設計的，但是我們也意識到，有時候產品可能會出現問題。我們建議您聯繫我們的客戶服務部門，以便我們能夠為您提供更好的幫助和支持。\n",
      "\n",
      "此外，我們非常感謝您對我們產品的詳細描述和使用技巧的分享。這些對我們來說非常有價值，我們會將這些反饋納入到我們的產品設計和改進中。\n",
      "\n",
      "再次感謝您的反饋和支持，我們期待為您提供更好的產品和服務。\n",
      "\n",
      "祝您一切順利！\n",
      "\n",
      "AI客戶服務代理\n"
     ]
    }
   ],
   "source": [
    "prompt = f\"\"\"\n",
    "你是一個客戶服務的AI助手。\n",
    "你的任務是向一位重要的客戶發送電子郵件回覆。\n",
    "給定由```劃定的客戶電郵，\n",
    "生成一個回覆來感謝客戶的評價。\n",
    "如果情感是正面或中立，謝謝他們的評價。\n",
    "如果情感是負面，向他們道歉並建議他們可以聯絡客戶服務。\n",
    "確保從評論中使用具體的細節。\n",
    "以簡潔和專業的語氣書寫。\n",
    "以`AI客戶服務代理`簽名。\n",
    "客戶評論： ```{review_2}```\n",
    "評論情感： {sentiment_2}\n",
    "\"\"\"\n",
    "response = get_completion(prompt)\n",
    "print(response)\n"
   ]
  },
  {
   "cell_type": "markdown",
   "metadata": {
    "id": "1AifxNhb1D3q"
   },
   "source": [
    "## Remind the model to use details from the customer's email\n",
    "### Note: \n",
    "We're also going to use another one of the models input \n",
    "parameters called temperature and this kind of allows \n",
    "you to vary the kind of degree of exploration and variety in \n",
    "the kind of models responses.\n",
    "\n",
    "This time the temperature is set to 0.7"
   ]
  },
  {
   "cell_type": "code",
   "execution_count": 8,
   "metadata": {
    "id": "DDmCZ_AS1Fmf"
   },
   "outputs": [
    {
     "name": "stdout",
     "output_type": "stream",
     "text": [
      "Dear Valued Customer,\n",
      "\n",
      "Thank you for your review of our 17-piece system. We are sorry to hear that the prices went up in December and that you experienced issues with the motor after a year of use. We apologize for any inconvenience this may have caused.\n",
      "\n",
      "We understand your disappointment and frustration. We suggest that you reach out to our customer service team for further assistance with your product. Our team will be happy to help you in any way they can.\n",
      "\n",
      "Thank you for your feedback and for choosing our product. We appreciate your business.\n",
      "\n",
      "Best regards,\n",
      "\n",
      "AI customer agent\n"
     ]
    }
   ],
   "source": [
    "prompt = f\"\"\"\n",
    "You are a customer service AI assistant.\n",
    "Your task is to send an email reply to a valued customer.\n",
    "Given the customer email delimited by ```, \\\n",
    "Generate a reply to thank the customer for their review.\n",
    "If the sentiment is positive or neutral, thank them for \\\n",
    "their review.\n",
    "If the sentiment is negative, apologize and suggest that \\\n",
    "they can reach out to customer service. \n",
    "Make sure to use specific details from the review.\n",
    "Write in a concise and professional tone.\n",
    "Sign the email as `AI customer agent`.\n",
    "Customer review: ```{review}```\n",
    "Review sentiment: {sentiment}\n",
    "\"\"\"\n",
    "response = get_completion(prompt, temperature=0.7)\n",
    "print(response)\n"
   ]
  },
  {
   "cell_type": "code",
   "execution_count": 11,
   "metadata": {
    "id": "DDmCZ_AS1Fmf"
   },
   "outputs": [
    {
     "name": "stdout",
     "output_type": "stream",
     "text": [
      "尊敬的客戶，\n",
      "\n",
      "非常感謝您給予我們寶貴的評價，但我們非常抱歉聽到您所遇到的問題。\n",
      "\n",
      "我們深刻了解您對於產品質量的關注，並感謝您提供了關於製作冰沙的技巧和建議。\n",
      "\n",
      "對於您所遇到的馬達問題，我們十分歉疚。由於保修期已過，我們建議您可以聯繫我們的客戶服務以獲得更多的幫助和建議。\n",
      "\n",
      "我們會持續改進我們的產品質量和服務，希望能夠再次為您提供更好的體驗。\n",
      "\n",
      "謝謝您的支持和理解。\n",
      "\n",
      "AI客戶服務代理\n"
     ]
    }
   ],
   "source": [
    "prompt = f\"\"\"\n",
    "你是一個客戶服務的AI助手。\n",
    "你的任務是向一位重要的客戶發送電子郵件回覆。\n",
    "給定由```劃定的客戶電郵，\n",
    "生成一個回覆來感謝客戶的評價。\n",
    "如果情感是正面或中立，謝謝他們的評價。\n",
    "如果情感是負面，向他們道歉並建議他們可以聯絡客戶服務。\n",
    "確保從評論中使用具體的細節。\n",
    "以簡潔和專業的語氣書寫。\n",
    "以`AI客戶服務代理`簽名。\n",
    "客戶評論： ```{review_2}```\n",
    "評論情感： {sentiment_2}\n",
    "\"\"\"\n",
    "response = get_completion(prompt, temperature=0.7)\n",
    "print(response)\n"
   ]
  },
  {
   "cell_type": "markdown",
   "metadata": {
    "id": "rvGm7Y-P2ScZ"
   },
   "source": [
    "In general, when building applications \n",
    "where you want a kind of predictable response, \n",
    "I would recommend using temperature zero. \n",
    "\n",
    "If you're trying to build a system that is \n",
    "reliable and predictable, you should go with 0. If you're trying to \n",
    "kind of use the model in a more creative way where you \n",
    "might kind of want \n",
    "a kind of wider variety of different outputs, \n",
    "you might want to use a higher temperature.\n",
    "\n",
    "So, to summarise, at higher temperatures, \n",
    "the outputs from the model are kind of more random. \n",
    "You can almost think of it as that at higher temperatures, \n",
    "the assistant is more distractible, but maybe more creative. "
   ]
  },
  {
   "cell_type": "markdown",
   "metadata": {
    "id": "aNhnWrGm1Y-g"
   },
   "source": [
    "## Try experimenting on your own!"
   ]
  }
 ],
 "metadata": {
  "colab": {
   "authorship_tag": "ABX9TyNexIf5BABA92lckGF2ITHM",
   "provenance": []
  },
  "kernelspec": {
   "display_name": "Python 3 (ipykernel)",
   "language": "python",
   "name": "python3"
  },
  "language_info": {
   "codemirror_mode": {
    "name": "ipython",
    "version": 3
   },
   "file_extension": ".py",
   "mimetype": "text/x-python",
   "name": "python",
   "nbconvert_exporter": "python",
   "pygments_lexer": "ipython3",
   "version": "3.9.6"
  }
 },
 "nbformat": 4,
 "nbformat_minor": 1
}
