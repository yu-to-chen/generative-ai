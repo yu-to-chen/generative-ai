{
 "cells": [
  {
   "cell_type": "code",
   "execution_count": 2,
   "id": "7efc30e4",
   "metadata": {},
   "outputs": [],
   "source": [
    "import os\n",
    "import openai\n",
    "\n",
    "import pandas as pd\n",
    "import itertools\n",
    "import pinecone\n",
    "from sentence_transformers import SentenceTransformer\n",
    "\n",
    "from dotenv import load_dotenv, find_dotenv\n",
    "_ = load_dotenv(find_dotenv()) # read local .env file\n",
    "\n",
    "api_key  = os.getenv('PINECONE_API_KEY')\n"
   ]
  },
  {
   "cell_type": "markdown",
   "id": "53b622cc",
   "metadata": {},
   "source": [
    "- Run a mini dataset.  Reduced from 27K to 500 rows.\n",
    "- The original code in the blog caused a deadlock."
   ]
  },
  {
   "cell_type": "code",
   "execution_count": 13,
   "id": "3f1f27cc",
   "metadata": {},
   "outputs": [
    {
     "name": "stdout",
     "output_type": "stream",
     "text": [
      "        Ticket CustomerComplaint\n",
      "count       48                48\n",
      "unique      48                46\n",
      "top     230876           Comcast\n",
      "freq         1                 3\n"
     ]
    }
   ],
   "source": [
    "pinecone.init(api_key=api_key, environment='us-west4-gcp-free')\n",
    "\n",
    "index_name = \"question-answering\"\n",
    "\n",
    "index = pinecone.Index(index_name=index_name)\n",
    "\n",
    "DATA_FILE = f\"/Users/ytchen/Documents/projects/research/data/comcast_mini.csv\"\n",
    "\n",
    "pd.set_option(\"display.max_colwidth\", 500)\n",
    "\n",
    "df = pd.read_csv(\n",
    "    f\"{DATA_FILE}\",  usecols=[\"Ticket\", \"CustomerComplaint\"], index_col=False\n",
    ")\n",
    "df = df.sample(frac=1).reset_index(drop=True)\n",
    "df.drop_duplicates(inplace=True)\n",
    "df['Ticket'] = df['Ticket'].apply(str)\n",
    "print(df.describe())\n"
   ]
  },
  {
   "cell_type": "code",
   "execution_count": 20,
   "id": "42efb844",
   "metadata": {},
   "outputs": [
    {
     "name": "stdout",
     "output_type": "stream",
     "text": [
      "        Ticket CustomerComplaint  \\\n",
      "count       48                48   \n",
      "unique      48                46   \n",
      "top     230876           Comcast   \n",
      "freq         1                 3   \n",
      "\n",
      "                                                                                                                                                                                                                                                                                                                                                                                                                                                                                                            question_vector  \n",
      "count                                                                                                                                                                                                                                                                                                                                                                                                                                                                                                                    48  \n",
      "unique                                                                                                                                                                                                                                                                                                                                                                                                                                                                                                                   45  \n",
      "top     [-0.2763800024986267, -0.6778900027275085, 0.08652099967002869, 0.010824000462889671, 0.031052999198436737, 0.2799600064754486, 0.3353700041770935, 0.02937999926507473, -0.16694000363349915, -0.013996000401675701, -0.23823000490665436, -0.031644999980926514, 0.3235799968242645, -0.11799000203609467, 0.506060004234314, 0.3273800015449524, -0.977840006351471, -0.5073300004005432, 0.5011199712753296, -0.20774999260902405, -0.029172999784350395, -0.4741100072860718, 0.033378999680280685, -0.0764...  \n",
      "freq                                                                                                                                                                                                                                                                                                                                                                                                                                                                                                                      4  \n",
      "   Ticket                            CustomerComplaint  \\\n",
      "0  230876                    Horrible Internet Service   \n",
      "1  242732                            Speed and Service   \n",
      "2  328742  horrible cable service and customer service   \n",
      "3  270163                              bait and switch   \n",
      "4  235980                   isp dishonest about speeds   \n",
      "\n",
      "                                                                                                                                                                                                                                                                                                                                                                                                                                                                                                       question_vector  \n",
      "0  [-0.2686600089073181, -0.13466699421405792, 0.11461231857538223, 0.12604832649230957, -0.029418328776955605, 0.21302668750286102, -0.1799456626176834, 0.22182035446166992, 0.1725633591413498, -1.428420066833496, 0.2280300110578537, 0.3311266601085663, -0.1444614976644516, -0.24568665027618408, 0.004344666842371225, -0.08414933830499649, 0.0722699984908104, -0.10785103589296341, 0.042738333344459534, 0.13670898973941803, 0.12915733456611633, 0.1832333356142044, 0.1185041069984436, 0.426303297...  \n",
      "1  [-0.3283894956111908, 0.10627499967813492, 0.07599800080060959, 0.13896000385284424, 0.06579150259494781, -0.12946000695228577, 0.304143488407135, 0.23604100942611694, -0.14205099642276764, -1.9549999237060547, 0.17333000898361206, 0.2762550115585327, -0.15963250398635864, -0.18089748919010162, 0.021820001304149628, 0.21357351541519165, 0.1871899962425232, -0.273499995470047, -0.433665007352829, 0.23513850569725037, -0.14953500032424927, -0.00165499746799469, 0.07563149929046631, 0.496064990...  \n",
      "2  [-0.2955947816371918, -0.10934621095657349, 0.13330839574337006, 0.13256140053272247, 0.04697819799184799, 0.026524001732468605, -0.08213799446821213, 0.2856212258338928, -0.15044479072093964, -1.498311996459961, 0.09863599389791489, 0.20900198817253113, -0.03419800102710724, -0.3808459937572479, -0.03631920367479324, -0.018565203994512558, 0.11509599536657333, -0.21974363923072815, 0.01796799525618553, -0.11877720057964325, 0.11828980594873428, -0.041653599590063095, 0.2042524814605713, 0.4...  \n",
      "3  [-0.046485498547554016, -0.03084000200033188, 0.5309000015258789, 0.18114900588989258, 0.2187415063381195, 0.2909650206565857, 0.2035680115222931, -0.11136499792337418, -0.13293150067329407, -0.7030419707298279, 0.12652049958705902, 0.14755749702453613, 0.10509245097637177, -0.2274581491947174, 0.19906499981880188, -0.45623499155044556, -0.22233499586582184, -0.4672200083732605, -0.10324950516223907, 0.4797400236129761, 0.33922499418258667, -0.13288500905036926, 0.03644555062055588, 0.166699...  \n",
      "4  [-0.05685998871922493, 0.15901701152324677, -0.052928339689970016, 0.008771001361310482, 0.19529901444911957, -0.24287265539169312, 0.0202800240367651, 0.11136365681886673, -0.009761999361217022, -0.6303666234016418, -0.0890466570854187, 0.4779299795627594, 0.29305902123451233, -0.19218333065509796, -0.325574666261673, 0.3327166736125946, 0.011013001203536987, -0.3076000213623047, -0.0857333317399025, 0.12116033583879471, 0.2556209862232208, 0.20081734657287598, 0.20984865725040436, 0.340573...  \n"
     ]
    }
   ],
   "source": [
    "model = SentenceTransformer(\"average_word_embeddings_glove.6B.300d\")\n",
    "\n",
    "df[\"question_vector\"] = df.CustomerComplaint.apply(lambda x: model.encode(str(x)).tolist())\n",
    "print(df.describe())\n",
    "print(df.head())\n"
   ]
  },
  {
   "cell_type": "code",
   "execution_count": 21,
   "id": "8eba049a",
   "metadata": {},
   "outputs": [],
   "source": [
    "def chunks(iterable, batch_size=100):\n",
    "    it = iter(iterable)\n",
    "    chunk = tuple(itertools.islice(it, batch_size))\n",
    "    while chunk:\n",
    "        yield chunk\n",
    "        chunk = tuple(itertools.islice(it, batch_size))\n",
    "\n",
    "for batch in chunks(zip(df.Ticket, df.question_vector)):\n",
    "    index.upsert(vectors=batch)\n",
    "    "
   ]
  },
  {
   "cell_type": "code",
   "execution_count": 29,
   "id": "17e05c9b",
   "metadata": {},
   "outputs": [],
   "source": [
    "# the user queries to check against\n",
    "#     \"Wifi Not working\",\n",
    "#    \"Speed too slow\",\n",
    "query_questions = [\n",
    "     \"Wifi Not working\",\n",
    "]\n",
    "\n",
    "# embeddings\n",
    "query_vectors = [model.encode(str(question)).tolist() for question in query_questions]\n",
    "#print(query_vectors)\n"
   ]
  },
  {
   "cell_type": "code",
   "execution_count": 30,
   "id": "9a1522f6",
   "metadata": {},
   "outputs": [
    {
     "name": "stdout",
     "output_type": "stream",
     "text": [
      "{'results': [{'matches': [{'id': '360759', 'score': 0.895923793, 'values': []},\n",
      "                          {'id': '350675', 'score': 0.88625443, 'values': []},\n",
      "                          {'id': '347054', 'score': 0.658680201, 'values': []}],\n",
      "              'namespace': ''}]}\n"
     ]
    }
   ],
   "source": [
    "# the result with the most similar indexed questions\n",
    "#query_results = index.query(queries=query_vectors, top_k=5)\n",
    "query_results = index.query(queries=query_vectors, top_k=3)\n",
    "print(query_results)\n"
   ]
  },
  {
   "cell_type": "code",
   "execution_count": 31,
   "id": "05433eba",
   "metadata": {},
   "outputs": [],
   "source": [
    "#print(df.head())\n"
   ]
  },
  {
   "cell_type": "code",
   "execution_count": 32,
   "id": "5604ea74",
   "metadata": {},
   "outputs": [
    {
     "name": "stdout",
     "output_type": "stream",
     "text": [
      "\n",
      "\n",
      "\n",
      " Original question : Wifi Not working\n",
      "\n",
      " Most similar questions based on pinecone vector search: \n",
      "\n",
      "['360759', '350675', '347054']\n",
      "[0.895923793, 0.88625443, 0.658680201]\n",
      "  Ticket#  \\\n",
      "0  360759   \n",
      "1  350675   \n",
      "2  347054   \n",
      "\n",
      "                                                                         Question  \\\n",
      "0  47    Wifi internet not working as well\n",
      "Name: CustomerComplaint, dtype: object   \n",
      "1                              Series([], Name: CustomerComplaint, dtype: object)   \n",
      "2                              Series([], Name: CustomerComplaint, dtype: object)   \n",
      "\n",
      "      Score  \n",
      "0  0.895924  \n",
      "1  0.886254  \n",
      "2  0.658680  \n"
     ]
    }
   ],
   "source": [
    "#                 df[df.Ticket == _id].CustomerComplaint.values[0] for _id in ids\n",
    "for question, res in zip(query_questions, query_results.results):\n",
    "    print(\"\\n\\n\\n Original question : \" + str(question))\n",
    "    print(\"\\n Most similar questions based on pinecone vector search: \\n\")\n",
    "\n",
    "    ids = [match.id for match in res.matches]\n",
    "    print(ids)\n",
    "    \n",
    "    scores = [match.score for match in res.matches]\n",
    "    print(scores)\n",
    "    \n",
    "    df_result = pd.DataFrame(\n",
    "        {\n",
    "            \"Ticket#\": ids,\n",
    "            \"Question\": [\n",
    "                df[df.Ticket == _id].CustomerComplaint for _id in ids\n",
    "            ],\n",
    "            \"Score\": scores,\n",
    "        }\n",
    "    )\n",
    "    print(df_result)   \n",
    "    "
   ]
  },
  {
   "cell_type": "code",
   "execution_count": null,
   "id": "8c0bb88b",
   "metadata": {},
   "outputs": [],
   "source": []
  }
 ],
 "metadata": {
  "kernelspec": {
   "display_name": "Python 3 (ipykernel)",
   "language": "python",
   "name": "python3"
  },
  "language_info": {
   "codemirror_mode": {
    "name": "ipython",
    "version": 3
   },
   "file_extension": ".py",
   "mimetype": "text/x-python",
   "name": "python",
   "nbconvert_exporter": "python",
   "pygments_lexer": "ipython3",
   "version": "3.9.6"
  }
 },
 "nbformat": 4,
 "nbformat_minor": 5
}
