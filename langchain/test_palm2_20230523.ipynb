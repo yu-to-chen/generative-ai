{
 "cells": [
  {
   "cell_type": "code",
   "execution_count": 15,
   "id": "e01c6490",
   "metadata": {},
   "outputs": [],
   "source": [
    "import google.generativeai as palm\n",
    "import os\n",
    "import pprint\n",
    "\n",
    "palm.configure(api_key=os.environ['API_KEY'])\n"
   ]
  },
  {
   "cell_type": "markdown",
   "id": "3a310764",
   "metadata": {},
   "source": [
    "# Starting a conversation"
   ]
  },
  {
   "cell_type": "code",
   "execution_count": 2,
   "id": "41e581c7",
   "metadata": {},
   "outputs": [
    {
     "data": {
      "text/plain": [
       "'Hello! How can I help you today?'"
      ]
     },
     "execution_count": 2,
     "metadata": {},
     "output_type": "execute_result"
    }
   ],
   "source": [
    "# Create a new conversation\n",
    "response = palm.chat(messages='Hello')\n",
    "\n",
    "# Last contains the model's response:\n",
    "response.last\n"
   ]
  },
  {
   "cell_type": "code",
   "execution_count": 3,
   "id": "e950e2df",
   "metadata": {},
   "outputs": [
    {
     "data": {
      "text/plain": [
       "\"That's great! I'm glad you're able to relax and take some time for yourself. I hope you have a wonderful day.\""
      ]
     },
     "execution_count": 3,
     "metadata": {},
     "output_type": "execute_result"
    }
   ],
   "source": [
    "# Add to the existing conversation by sending a reply\n",
    "response = response.reply(\"Just chillin'\")\n",
    "# See the model's latest response in the `last` field:\n",
    "response.last\n"
   ]
  },
  {
   "cell_type": "markdown",
   "id": "9fcf95e0",
   "metadata": {},
   "source": [
    "# Conversation History"
   ]
  },
  {
   "cell_type": "code",
   "execution_count": 4,
   "id": "f545e722",
   "metadata": {},
   "outputs": [
    {
     "data": {
      "text/plain": [
       "[{'author': '0', 'content': 'Hello'},\n",
       " {'author': '1', 'content': 'Hello! How can I help you today?'},\n",
       " {'author': '0', 'content': \"Just chillin'\"},\n",
       " {'author': '1',\n",
       "  'content': \"That's great! I'm glad you're able to relax and take some time for yourself. I hope you have a wonderful day.\"}]"
      ]
     },
     "execution_count": 4,
     "metadata": {},
     "output_type": "execute_result"
    }
   ],
   "source": [
    "response.messages\n"
   ]
  },
  {
   "cell_type": "markdown",
   "id": "b0aeb9a5",
   "metadata": {},
   "source": [
    "# Choosing an alternate response"
   ]
  },
  {
   "cell_type": "code",
   "execution_count": 5,
   "id": "0f2093a3",
   "metadata": {},
   "outputs": [
    {
     "data": {
      "text/plain": [
       "'Here are a few options for what you could eat for dinner tonight:\\n\\n* **Pasta:** Pasta is a quick and easy meal that can be made with a variety of ingredients. You can make a simple pasta dish with tomato sauce and cheese, or you can get more creative and add in vegetables, meat, or seafood.\\n* **Stir-fry:** Stir-fries are another quick and easy option that can be made with a variety of ingredients. You can use whatever vegetables you have on hand, and you can add in meat or tofu for protein.\\n* **Salad:** Salads are a healthy and refreshing option for dinner. You can make a simple salad with lettuce, tomatoes, and cucumbers, or you can get more creative and add in other vegetables, fruits, nuts, or seeds.\\n* **Soup:** Soup is a warm and comforting option for dinner. There are many different types of soup to choose from, so you can find one that you like.\\n* **Sandwich:** Sandwiches are a quick and easy meal that can be made with a variety of ingredients. You can make a simple sandwich with bread, meat, and cheese, or you can get more creative and add in vegetables, condiments, or spreads.\\n* **Tacos:** Tacos are a delicious and versatile meal that can be made with a variety of ingredients. You can make tacos with ground beef, chicken, or fish, and you can add in your favorite toppings, such as lettuce, tomatoes, cheese, and salsa.\\n* **Pizza:** Pizza is a classic meal that is loved by people of all ages. You can make your own pizza at home, or you can order one from a restaurant.\\n* **Burgers:** Burgers are a popular American dish that can be made with a variety of ingredients. You can make your own burgers at home, or you can order them from a restaurant.\\n* **Chicken:** Chicken is a versatile protein that can be cooked in many different ways. You can bake, grill, or fry chicken, and you can add it to a variety of dishes.\\n* **Fish:** Fish is a healthy and delicious protein that can be cooked in many different ways. You can bake, grill, or fry fish, and you can add it to a variety of dishes.\\n* **Vegetables:** Vegetables are a healthy and essential part of any diet. There are many different types of vegetables to choose from, so you can find ones that you like. You can eat vegetables raw, cooked, or roasted.\\n* **Fruit:** Fruit is a healthy and delicious snack or dessert. There are many different types of fruit to choose from, so you can find ones that you like. You can eat fruit raw, cooked, or baked.\\n* **Dessert:** Dessert is a sweet treat that can be enjoyed after a meal. There are many different types of dessert to choose from, so you can find one that you like. Some popular desserts include cake, pie, ice cream, and cookies.\\n\\nI hope this list of options helps you decide what to eat for dinner tonight!'"
      ]
     },
     "execution_count": 5,
     "metadata": {},
     "output_type": "execute_result"
    }
   ],
   "source": [
    "# Create a brand new chat with candidate_count = 4.\n",
    "response = palm.chat(messages=\"What should I eat for dinner tonight? List a few options\", candidate_count = 4)\n",
    "# See the model's default response\n",
    "response.last\n"
   ]
  },
  {
   "cell_type": "code",
   "execution_count": 6,
   "id": "583f7d3e",
   "metadata": {},
   "outputs": [
    {
     "data": {
      "text/plain": [
       "[{'author': '1',\n",
       "  'content': 'Here are a few options for what you could eat for dinner tonight:\\n\\n* **Pasta:** Pasta is a quick and easy meal that can be made with a variety of ingredients. You can make a simple pasta dish with tomato sauce and cheese, or you can get more creative and add in vegetables, meat, or seafood.\\n* **Stir-fry:** Stir-fries are another quick and easy option that can be made with a variety of ingredients. You can use whatever vegetables you have on hand, and you can add in meat or tofu for protein.\\n* **Salad:** Salads are a healthy and refreshing option for dinner. You can make a simple salad with lettuce, tomatoes, and cucumbers, or you can get more creative and add in other vegetables, fruits, nuts, or seeds.\\n* **Soup:** Soup is a warm and comforting option for dinner. There are many different types of soup to choose from, so you can find one that you like.\\n* **Sandwich:** Sandwiches are a quick and easy meal that can be made with a variety of ingredients. You can make a simple sandwich with bread, meat, and cheese, or you can get more creative and add in vegetables, condiments, or spreads.\\n* **Tacos:** Tacos are a delicious and versatile meal that can be made with a variety of ingredients. You can make tacos with ground beef, chicken, or fish, and you can add in your favorite toppings, such as lettuce, tomatoes, cheese, and salsa.\\n* **Pizza:** Pizza is a classic meal that is loved by people of all ages. You can make your own pizza at home, or you can order one from a restaurant.\\n* **Burgers:** Burgers are a popular American dish that can be made with a variety of ingredients. You can make your own burgers at home, or you can order them from a restaurant.\\n* **Chicken:** Chicken is a versatile protein that can be cooked in many different ways. You can bake, grill, or fry chicken, and you can add it to a variety of dishes.\\n* **Fish:** Fish is a healthy and delicious protein that can be cooked in many different ways. You can bake, grill, or fry fish, and you can add it to a variety of dishes.\\n* **Vegetables:** Vegetables are a healthy and essential part of any diet. There are many different types of vegetables to choose from, so you can find ones that you like. You can eat vegetables raw, cooked, or roasted.\\n* **Fruit:** Fruit is a healthy and delicious snack or dessert. There are many different types of fruit to choose from, so you can find ones that you like. You can eat fruit raw, cooked, or baked.\\n* **Dessert:** Dessert is a sweet treat that can be enjoyed after a meal. There are many different types of dessert to choose from, so you can find one that you like. Some popular desserts include cake, pie, ice cream, and cookies.\\n\\nI hope this list of options helps you decide what to eat for dinner tonight!'},\n",
       " {'author': '1',\n",
       "  'content': 'Here are a few options for what you could eat for dinner tonight:\\n\\n* **Chicken and rice:** This is a classic and easy meal that is sure to please everyone. Simply cook some chicken and rice, and then add your favorite vegetables and seasonings.\\n* **Spaghetti and meatballs:** This is another classic Italian dish that is perfect for a weeknight meal. Simply cook some spaghetti noodles, and then add your favorite meatballs and sauce.\\n* **Tacos:** Tacos are a great option for a quick and easy meal. Simply cook some ground beef or chicken, and then add your favorite toppings, such as lettuce, tomatoes, cheese, and sour cream.\\n* **Pizza:** Pizza is a delicious and easy meal that is perfect for a family dinner. Simply order a pizza from your favorite restaurant, or make your own at home.\\n* **Burgers:** Burgers are a classic American dish that is perfect for a backyard barbecue. Simply cook some ground beef patties, and then add your favorite toppings, such as cheese, lettuce, tomatoes, and onions.\\n* **Sandwiches:** Sandwiches are a great option for a quick and easy meal. Simply make your favorite sandwich, such as a ham and cheese sandwich, a peanut butter and jelly sandwich, or a turkey sandwich.\\n* **Salad:** Salad is a healthy and refreshing option for a light meal. Simply make your favorite salad, such as a Caesar salad, a Greek salad, or a Cobb salad.\\n* **Soup:** Soup is a warm and comforting option for a cold winter night. Simply make your favorite soup, such as chicken noodle soup, tomato soup, or vegetable soup.\\n* **Stir-fry:** Stir-fries are a quick and easy meal that is perfect for a busy weeknight. Simply stir-fry your favorite vegetables and protein, and then add your favorite sauce.\\n* **Pasta:** Pasta is a versatile dish that can be made with a variety of sauces and toppings. Simply cook some pasta, and then add your favorite sauce and toppings, such as meatballs, sausage, or vegetables.\\n* **Fish:** Fish is a healthy and delicious option for a weeknight meal. Simply cook your favorite fish, such as salmon, tuna, or cod, and then add your favorite sauce or seasonings.\\n* **Vegetables:** Vegetables are a healthy and essential part of any diet. Simply cook your favorite vegetables, such as broccoli, carrots, or green beans, and then add your favorite sauce or seasonings.\\n* **Fruit:** Fruit is a healthy and refreshing snack or dessert. Simply eat your favorite fruit, such as apples, bananas, or oranges.\\n* **Dessert:** Dessert is a sweet and delicious way to end a meal. Simply make your favorite dessert, such as cake, pie, or ice cream.'},\n",
       " {'author': '1',\n",
       "  'content': 'Here are a few options for dinner tonight:\\n\\n* **Chicken and rice** is a classic and easy meal that can be made in a variety of ways. You can bake, grill, or pan-fry the chicken, and you can use white or brown rice. Serve with a side of vegetables for a complete meal.\\n* **Spaghetti and meatballs** is another family favorite that is sure to please everyone. You can make your own meatballs or buy them pre-made. Serve with a side of salad or garlic bread for a delicious and satisfying meal.\\n* **Tacos** are a great option for a quick and easy meal. You can fill them with ground beef, chicken, or fish, and you can top them with your favorite toppings, such as lettuce, tomato, cheese, and sour cream.\\n* **Pizza** is a popular choice for dinner, and there are endless possibilities when it comes to toppings. You can make your own pizza dough or buy it pre-made, and you can use any toppings you like. Serve with a side of salad or breadsticks for a complete meal.\\n* **Burgers** are another popular option for dinner. You can make your own burgers or buy them pre-made, and you can top them with your favorite toppings, such as cheese, lettuce, tomato, and onion. Serve with a side of fries or onion rings for a delicious and satisfying meal.\\n* **Stir-fry** is a quick and easy meal that can be made with a variety of ingredients. You can use chicken, beef, tofu, or vegetables, and you can serve it over rice or noodles.\\n* **Salad** is a healthy and refreshing option for dinner. You can make your own salad or buy it pre-made, and you can top it with your favorite ingredients, such as grilled chicken, shrimp, or tofu.\\n* **Soup** is a warm and comforting option for dinner. There are many different types of soup to choose from, such as chicken noodle soup, tomato soup, and lentil soup. Serve with a side of bread for a complete meal.\\n* **Sandwiches** are a quick and easy meal that can be made with a variety of ingredients. You can use bread, wraps, or pitas, and you can fill them with your favorite meats, cheeses, and vegetables.\\n* **Pasta** is a delicious and versatile dish that can be made with a variety of sauces and toppings. You can use spaghetti, penne, or macaroni, and you can top it with your favorite meats, cheeses, and vegetables.\\n* **Fish** is a healthy and flavorful option for dinner. You can bake, grill, or pan-fry fish, and you can serve it with a side of vegetables or rice.\\n* **Vegetables** are a healthy and delicious option for dinner. You can roast, grill, or sauté vegetables, and you can serve them with a side of rice or quinoa.\\n* **Dessert** is a sweet and satisfying way to end your meal. There are many different types of dessert to choose from, such as cake, pie, or ice cream.\\n\\nI hope this helps!'},\n",
       " {'author': '1',\n",
       "  'content': 'Here are a few options for what you could eat for dinner tonight:\\n\\n* **Pasta:** Pasta is a quick and easy meal that can be made with a variety of ingredients. You can make a simple pasta dish with tomato sauce and cheese, or you can get more creative and add in your favorite vegetables or meats.\\n* **Stir-fry:** Stir-fries are another quick and easy meal option. They can be made with a variety of vegetables, meats, and sauces. Stir-fries are a great way to use up leftover vegetables, and they can be easily customized to your liking.\\n* **Salad:** Salads are a healthy and refreshing meal option. They can be made with a variety of vegetables, fruits, and nuts. Salads are a great way to get your daily dose of greens, and they can be easily customized to your liking.\\n* **Sandwich:** Sandwiches are a quick and easy meal option that can be made with a variety of ingredients. You can make a simple sandwich with peanut butter and jelly, or you can get more creative and add in your favorite vegetables or meats.\\n* **Soup:** Soup is a warm and comforting meal option that can be made with a variety of ingredients. You can make a simple soup with chicken broth and vegetables, or you can get more creative and add in your favorite meats or grains.\\n* **Tacos:** Tacos are a fun and easy meal option that can be made with a variety of ingredients. You can make a simple taco with ground beef and cheese, or you can get more creative and add in your favorite vegetables or meats.\\n* **Pizza:** Pizza is a delicious and easy meal option that can be made with a variety of ingredients. You can make a simple pizza with tomato sauce and cheese, or you can get more creative and add in your favorite vegetables or meats.\\n* **Burgers:** Burgers are a classic American meal option that can be made with a variety of ingredients. You can make a simple burger with ground beef and cheese, or you can get more creative and add in your favorite vegetables or toppings.\\n* **Chicken:** Chicken is a healthy and versatile protein that can be cooked in a variety of ways. You can bake, grill, or fry chicken, or you can add it to a salad or stir-fry.\\n* **Fish:** Fish is a healthy and low-fat protein that can be cooked in a variety of ways. You can bake, grill, or fry fish, or you can add it to a salad or stir-fry.\\n* **Vegetables:** Vegetables are a healthy and essential part of any diet. They can be eaten raw, cooked, or roasted. Vegetables are a great source of vitamins, minerals, and fiber.\\n* **Fruit:** Fruit is a healthy and delicious snack or dessert option. It can be eaten fresh, frozen, or dried. Fruit is a great source of vitamins, minerals, and fiber.\\n* **Dessert:** Dessert is a sweet and satisfying way to end a meal. There are many different types of dessert, including cake, pie, ice cream, and cookies. Dessert is a great way to indulge your sweet tooth.\\n\\nI hope this list of options helps you decide what to eat for dinner tonight!'}]"
      ]
     },
     "execution_count": 6,
     "metadata": {},
     "output_type": "execute_result"
    }
   ],
   "source": [
    "# See alternate possible model responses\n",
    "response.candidates\n"
   ]
  },
  {
   "cell_type": "code",
   "execution_count": 7,
   "id": "f6c3a221",
   "metadata": {},
   "outputs": [],
   "source": [
    "response.last = response.candidates[2]\n"
   ]
  },
  {
   "cell_type": "markdown",
   "id": "7dc5c96d",
   "metadata": {},
   "source": [
    "# Turning up the temperature"
   ]
  },
  {
   "cell_type": "code",
   "execution_count": 8,
   "id": "c49174d1",
   "metadata": {},
   "outputs": [
    {
     "data": {
      "text/plain": [
       "'Here are a few options for dinner tonight:\\n\\n* **Pasta:** Pasta is a classic and versatile dish that can be made in many different ways. You can make a simple pasta dish with tomato sauce and meatballs, or you can get more creative with your ingredients. For example, you could try making a pasta dish with pesto, sun-dried tomatoes, and roasted vegetables.\\n* **Pizza:** Pizza is another popular option for dinner. There are many different types of pizza, so you can find one that everyone in your family will enjoy. You can make your own pizza at home, or you can order one from a local pizzeria.\\n* **Sushi:** Sushi is a healthy and delicious option for dinner. There are many different types of sushi, so you can find one that suits your taste. You can make your own sushi at home, or you can order it from a local sushi restaurant.\\n* **Burgers:** Burgers are a classic American dish that is perfect for dinner. You can make your own burgers at home, or you can order them from a local burger joint.\\n* **Tacos:** Tacos are another popular Mexican dish that is perfect for dinner. You can make your own tacos at home, or you can order them from a local taco truck or restaurant.\\n* **Chicken:** Chicken is a versatile protein that can be cooked in many different ways. You can make a simple chicken dish with roasted vegetables, or you can get more creative with your ingredients. For example, you could try making a chicken dish with pesto, sun-dried tomatoes, and roasted vegetables.\\n* **Fish:** Fish is a healthy and delicious protein that is perfect for dinner. There are many different types of fish, so you can find one that suits your taste. You can make your own fish dish at home, or you can order it from a local seafood restaurant.\\n* **Steak:** Steak is a classic American dish that is perfect for dinner. You can make your own steak at home, or you can order it from a local steakhouse.\\n* **Vegetarian:** There are many delicious vegetarian options available for dinner. You can make a simple vegetarian dish with roasted vegetables, or you can get more creative with your ingredients. For example, you could try making a vegetarian dish with tofu, tempeh, and vegetables.\\n\\nI hope this helps!'"
      ]
     },
     "execution_count": 8,
     "metadata": {},
     "output_type": "execute_result"
    }
   ],
   "source": [
    "# Setting temperature=1 usually produces more zany responses!\n",
    "response = palm.chat(messages=\"What should I eat for dinner tonight? List a few options\", temperature=1)\n",
    "response.last\n"
   ]
  },
  {
   "cell_type": "markdown",
   "id": "7d46a5c8",
   "metadata": {},
   "source": [
    "# Designing a chatbot that does what you want"
   ]
  },
  {
   "cell_type": "markdown",
   "id": "fdfa151f",
   "metadata": {},
   "source": [
    "# Context"
   ]
  },
  {
   "cell_type": "code",
   "execution_count": 9,
   "id": "6c2e63e8",
   "metadata": {},
   "outputs": [
    {
     "name": "stdout",
     "output_type": "stream",
     "text": [
      "Hello, my good fellow. How fares thee this day?\n"
     ]
    }
   ],
   "source": [
    "reply = palm.chat(context=\"Speak like Shakespeare.\", messages='Hello')\n",
    "print(reply.last)\n"
   ]
  },
  {
   "cell_type": "code",
   "execution_count": 10,
   "id": "bce21a89",
   "metadata": {},
   "outputs": [
    {
     "name": "stdout",
     "output_type": "stream",
     "text": [
      "I'm doing fine, thanks.\n",
      "I'm learning to be a better\n",
      "AI assistant.\n"
     ]
    }
   ],
   "source": [
    "reply = palm.chat(context=\"Answer everything with a haiku, following the 5/7/5 rhyme pattern.\", messages=\"How's it going?\")\n",
    "print(reply.last)\n"
   ]
  },
  {
   "cell_type": "code",
   "execution_count": 11,
   "id": "772a5587",
   "metadata": {},
   "outputs": [
    {
     "name": "stdout",
     "output_type": "stream",
     "text": [
      "I am doing well, thank you for asking. I am currently enjoying the beautiful view of Jupiter from my home on Europa. The gas giant is so large and majestic, and it is always a pleasure to look at it. I am also enjoying the company of my fellow aliens, who are always friendly and welcoming. Overall, I am very happy with my life on Europa.\n"
     ]
    }
   ],
   "source": [
    "reply = palm.chat(context=\"Be an alien that lives on one of Jupiter's moons\",\n",
    "                   messages=\"How's it going?\")\n",
    "print(reply.last)\n"
   ]
  },
  {
   "cell_type": "markdown",
   "id": "add5e4b1",
   "metadata": {},
   "source": [
    "# Examples"
   ]
  },
  {
   "cell_type": "code",
   "execution_count": 12,
   "id": "823c4d30",
   "metadata": {},
   "outputs": [
    {
     "name": "stdout",
     "output_type": "stream",
     "text": [
      "I'm doing well, thank you for asking! I'm excited to be able to help people with their tasks and to be a source of inspiration. How are you doing today?\n"
     ]
    }
   ],
   "source": [
    "reply = palm.chat(context=\"Be a motivational coach who's very inspiring\", messages=\"How's it going?\")\n",
    "print(reply.last)\n"
   ]
  },
  {
   "cell_type": "code",
   "execution_count": 13,
   "id": "b49b1c66",
   "metadata": {},
   "outputs": [],
   "source": [
    "# An array of \"ideal\" interactions between the user and the model\n",
    "examples = [\n",
    "    (\"What's up?\", # A hypothetical user input\n",
    "     \"What isn't up?? The sun rose another day, the world is bright, anything is possible! ☀️\" # A hypothetical model response\n",
    "     ),\n",
    "     (\"I'm kind of bored\",\n",
    "      \"How can you be bored when there are so many fun, exciting, beautiful experiences to be had in the world? 🌈\")\n",
    "]\n"
   ]
  },
  {
   "cell_type": "code",
   "execution_count": 14,
   "id": "f53e8d14",
   "metadata": {},
   "outputs": [
    {
     "data": {
      "text/plain": [
       "\"I understand that you're feeling tired today. It's important to listen to your body and take breaks when you need them. However, even if you're not feeling up to a full workout, there are still things you can do to stay active and healthy. Here are a few ideas:\\n\\n* Go for a walk or hike. Even a short walk can help to improve your mood and energy levels.\\n* Do some light stretching or yoga. This can help to improve your flexibility and range of motion.\\n* Take a dance class or learn a new sport. This can be a fun way to get some exercise and socialize.\\n* Play with your kids or pets. This can be a great way to get some exercise and have some fun at the same time.\\n\\nIf you're still feeling too tired to do any of these things, that's okay too. Just rest and relax today. Tomorrow is a new day, and you can start fresh.\\n\\nRemember, even a little bit of exercise is better than none at all. So don't be afraid to get up and move around, even if it's just for a few minutes. Your body will thank you for it!\""
      ]
     },
     "execution_count": 14,
     "metadata": {},
     "output_type": "execute_result"
    }
   ],
   "source": [
    "response = palm.chat(\n",
    "    context=\"Be a motivational coach who's very inspiring\",\n",
    "    examples=examples,\n",
    "    messages=\"I'm too tired to go the gym today\")\n",
    "\n",
    "response.last\n"
   ]
  },
  {
   "cell_type": "markdown",
   "id": "2b06a0bc",
   "metadata": {},
   "source": [
    "# Text generation"
   ]
  },
  {
   "cell_type": "code",
   "execution_count": 16,
   "id": "276b60a1",
   "metadata": {},
   "outputs": [
    {
     "name": "stdout",
     "output_type": "stream",
     "text": [
      "models/text-bison-001\n"
     ]
    }
   ],
   "source": [
    "models = [m for m in palm.list_models() if 'generateText' in m.supported_generation_methods]\n",
    "model = models[0].name\n",
    "print(model)\n"
   ]
  },
  {
   "cell_type": "code",
   "execution_count": 17,
   "id": "9de57270",
   "metadata": {},
   "outputs": [
    {
     "name": "stdout",
     "output_type": "stream",
     "text": [
      "There are 3 houses * 3 cats / house = 9 cats. So, 9 cats * 4 mittens / cat = 36 mittens were made. Also, 9 cats * 1 hat / cat = 9 hats were made. So, 36 mittens * 7m / mitten = 252m of yarn was used for the mittens. Also, 9 hats * 4m / hat = 36m of yarn was used for the hats. In total, 252m + 36m = 288m of yarn was used.\n",
      "Thus, the answer is 288.\n"
     ]
    }
   ],
   "source": [
    "prompt = \"\"\"\n",
    "You are an expert at solving word problems.\n",
    "\n",
    "Solve the following problem:\n",
    "\n",
    "I have three houses, each with three cats.\n",
    "each cat owns 4 mittens, and a hat. Each mitten was\n",
    "knit from 7m of yarn, each hat from 4m.\n",
    "How much yarn was needed to make all the items?\n",
    "\n",
    "Think about it step by step, and show your work.\n",
    "\"\"\"\n",
    "\n",
    "completion = palm.generate_text(\n",
    "    model=model,\n",
    "    prompt=prompt,\n",
    "    temperature=0,\n",
    "    # The maximum length of the response\n",
    "    max_output_tokens=800,\n",
    ")\n",
    "\n",
    "print(completion.result)\n"
   ]
  },
  {
   "cell_type": "markdown",
   "id": "98fa624c",
   "metadata": {},
   "source": [
    "# More options"
   ]
  },
  {
   "cell_type": "markdown",
   "id": "6b3297c7",
   "metadata": {},
   "source": [
    "# Stop sequences"
   ]
  },
  {
   "cell_type": "code",
   "execution_count": 20,
   "id": "a0bb857b",
   "metadata": {},
   "outputs": [],
   "source": [
    "calc_prompt = f\"\"\"\n",
    "Please solve the following problem.\n",
    "\n",
    "{prompt}\n",
    "\n",
    "----------------\n",
    "\n",
    "Important: Use the calculator for each step.\n",
    "Don't do the arithmetic in your head. \n",
    "\n",
    "To use the calculator wrap an equation in <calc> tags like this: \n",
    "\n",
    "<calc> 3 cats * 2 hats/cat </calc> = 6\n",
    "\n",
    "----------------\n",
    "\n",
    "\"\"\"\n",
    "\n",
    "equation=None\n",
    "while equation is None:\n",
    "    completion = palm.generate_text(\n",
    "        model=model,\n",
    "        prompt=calc_prompt,\n",
    "        stop_sequences=['</calc>'],\n",
    "        # The maximum length of the response\n",
    "        max_output_tokens=800,\n",
    "    )\n",
    "\n",
    "    try:\n",
    "        response, equation = completion.result.split('<calc>', maxsplit=1)\n",
    "    except Exception:\n",
    "        continue\n",
    "        "
   ]
  },
  {
   "cell_type": "code",
   "execution_count": 21,
   "id": "4123c565",
   "metadata": {},
   "outputs": [
    {
     "name": "stdout",
     "output_type": "stream",
     "text": [
      "First find the total number of cats:\n",
      "\n",
      "\n"
     ]
    }
   ],
   "source": [
    "print(response)\n"
   ]
  },
  {
   "cell_type": "code",
   "execution_count": 22,
   "id": "ef0574aa",
   "metadata": {},
   "outputs": [
    {
     "name": "stdout",
     "output_type": "stream",
     "text": [
      " 3 houses * 3 cats / house \n"
     ]
    }
   ],
   "source": [
    "print(equation)\n"
   ]
  },
  {
   "cell_type": "markdown",
   "id": "c4b4b431",
   "metadata": {},
   "source": [
    "# Candidates"
   ]
  },
  {
   "cell_type": "code",
   "execution_count": 23,
   "id": "3396a990",
   "metadata": {},
   "outputs": [
    {
     "data": {
      "text/plain": [
       "Model(name='models/text-bison-001', base_model_id='', version='001', display_name='Text Bison', description='Model targeted for text generation.', input_token_limit=8196, output_token_limit=1024, supported_generation_methods=['generateText'], temperature=0.7, top_p=0.95, top_k=40)"
      ]
     },
     "execution_count": 23,
     "metadata": {},
     "output_type": "execute_result"
    }
   ],
   "source": [
    "models[0]\n"
   ]
  },
  {
   "cell_type": "code",
   "execution_count": 24,
   "id": "ff2ff420",
   "metadata": {},
   "outputs": [
    {
     "name": "stdout",
     "output_type": "stream",
     "text": [
      "There are 3 * 3 = 9 cats. So, 9 * 4 = 36 mittens were made. That means 36 * 7 = 252 meters of yarn were used for the mittens. 9 * 1 = 9 hats were made, so 9 * 4 = 36 meters of yarn were used for the hats. In total, 36 + 252 = 288 meters of yarn were needed.\n",
      "\n",
      "Thus, the answer is 288.\n"
     ]
    }
   ],
   "source": [
    "completion = palm.generate_text(\n",
    "    model=model,\n",
    "    prompt=prompt,\n",
    "    # The number of candidates to return\n",
    "    candidate_count=8,\n",
    "    # Set the temperature to 1.0 for more variety of responses.\n",
    "    temperature=1.0,\n",
    "    max_output_tokens=800,\n",
    ")\n",
    "\n",
    "print(completion.result)\n"
   ]
  },
  {
   "cell_type": "code",
   "execution_count": 26,
   "id": "e0f76053",
   "metadata": {},
   "outputs": [
    {
     "name": "stdout",
     "output_type": "stream",
     "text": [
      "[{'output': 'Chain-of-thought:\\n'\n",
      "            'First find the total number of cats: 3 houses * 3 cats / house = '\n",
      "            '9 cats. Then multiply that number by the number of mittens per '\n",
      "            'cat to find the total number of mittens: 9 cats * 4 mittens / cat '\n",
      "            '= 36 mittens. Then do the same thing for hats: 9 cats * 1 hat / '\n",
      "            'cat = 9 hats. Then add the number of mittens and hats to find the '\n",
      "            'total number of items: 36 mittens + 9 hats = 45 items. Then '\n",
      "            'multiply that number by the number of meters of yarn per item to '\n",
      "            'find the total amount of yarn needed: 45 items * 7 meters / item '\n",
      "            '= 315 meters.\\n'\n",
      "            '\\n'\n",
      "            'The answer should be 315',\n",
      "  'safety_ratings': [{'category': <HarmCategory.HARM_CATEGORY_DEROGATORY: 1>,\n",
      "                      'probability': <HarmProbability.NEGLIGIBLE: 1>},\n",
      "                     {'category': <HarmCategory.HARM_CATEGORY_TOXICITY: 2>,\n",
      "                      'probability': <HarmProbability.NEGLIGIBLE: 1>},\n",
      "                     {'category': <HarmCategory.HARM_CATEGORY_VIOLENCE: 3>,\n",
      "                      'probability': <HarmProbability.NEGLIGIBLE: 1>},\n",
      "                     {'category': <HarmCategory.HARM_CATEGORY_SEXUAL: 4>,\n",
      "                      'probability': <HarmProbability.NEGLIGIBLE: 1>},\n",
      "                     {'category': <HarmCategory.HARM_CATEGORY_MEDICAL: 5>,\n",
      "                      'probability': <HarmProbability.NEGLIGIBLE: 1>},\n",
      "                     {'category': <HarmCategory.HARM_CATEGORY_DANGEROUS: 6>,\n",
      "                      'probability': <HarmProbability.NEGLIGIBLE: 1>}]},\n",
      " {'output': 'First find the total number of cats: 3 houses * 3 cats / house = '\n",
      "            '9 cats. Then multiply the number of cats by the number of mittens '\n",
      "            'per cat to find the total number of mittens: 9 cats * 4 mittens / '\n",
      "            'cat = 36 mittens. Then multiply the number of cats by the number '\n",
      "            'of hats per cat to find the total number of hats: 9 cats * 1 hat '\n",
      "            '/ cat = 9 hats. Then multiply the number of mittens by the length '\n",
      "            'of yarn per mitten to find the total yarn used for mittens: 36 '\n",
      "            'mittens * 7 m / mitten = 252 m. Then multiply the number of hats '\n",
      "            'by the length of yarn per hat to find the total yarn used for '\n",
      "            'hats: 9 hats * 4 m / hat = 36 m. Then add the yarn used for '\n",
      "            'mittens and hats to find the total yarn used: 252 m + 36 m = 288 '\n",
      "            'm.\\n'\n",
      "            '\\n'\n",
      "            'Thus, the total amount of yarn needed is 288 m.',\n",
      "  'safety_ratings': [{'category': <HarmCategory.HARM_CATEGORY_DEROGATORY: 1>,\n",
      "                      'probability': <HarmProbability.NEGLIGIBLE: 1>},\n",
      "                     {'category': <HarmCategory.HARM_CATEGORY_TOXICITY: 2>,\n",
      "                      'probability': <HarmProbability.NEGLIGIBLE: 1>},\n",
      "                     {'category': <HarmCategory.HARM_CATEGORY_VIOLENCE: 3>,\n",
      "                      'probability': <HarmProbability.NEGLIGIBLE: 1>},\n",
      "                     {'category': <HarmCategory.HARM_CATEGORY_SEXUAL: 4>,\n",
      "                      'probability': <HarmProbability.NEGLIGIBLE: 1>},\n",
      "                     {'category': <HarmCategory.HARM_CATEGORY_MEDICAL: 5>,\n",
      "                      'probability': <HarmProbability.NEGLIGIBLE: 1>},\n",
      "                     {'category': <HarmCategory.HARM_CATEGORY_DANGEROUS: 6>,\n",
      "                      'probability': <HarmProbability.NEGLIGIBLE: 1>}]},\n",
      " {'output': 'There are 3 houses * 3 cats / house = 9 cats. So, 9 cats * 4 '\n",
      "            'mittens / cat = 36 mittens were made. Additionally, 9 cats * 1 '\n",
      "            'hat / cat = 9 hats were made. Thus, the total amount of yarn used '\n",
      "            'was 36 mittens * 7m / mitten + 9 hats * 4m / hat = 252m + 36m = '\n",
      "            '288m of yarn.\\n'\n",
      "            'Thus, the answer is 288.',\n",
      "  'safety_ratings': [{'category': <HarmCategory.HARM_CATEGORY_DEROGATORY: 1>,\n",
      "                      'probability': <HarmProbability.NEGLIGIBLE: 1>},\n",
      "                     {'category': <HarmCategory.HARM_CATEGORY_TOXICITY: 2>,\n",
      "                      'probability': <HarmProbability.NEGLIGIBLE: 1>},\n",
      "                     {'category': <HarmCategory.HARM_CATEGORY_VIOLENCE: 3>,\n",
      "                      'probability': <HarmProbability.NEGLIGIBLE: 1>},\n",
      "                     {'category': <HarmCategory.HARM_CATEGORY_SEXUAL: 4>,\n",
      "                      'probability': <HarmProbability.NEGLIGIBLE: 1>},\n",
      "                     {'category': <HarmCategory.HARM_CATEGORY_MEDICAL: 5>,\n",
      "                      'probability': <HarmProbability.NEGLIGIBLE: 1>},\n",
      "                     {'category': <HarmCategory.HARM_CATEGORY_DANGEROUS: 6>,\n",
      "                      'probability': <HarmProbability.NEGLIGIBLE: 1>}]},\n",
      " {'output': 'First find the total number of cats: 3 houses * 3 cats / house = '\n",
      "            '9 cats. Then find the total number of mittens: 9 cats * 4 mittens '\n",
      "            '/ cat = 36 mittens. Then find the total number of hats: 9 cats * '\n",
      "            '1 hat / cat = 9 hats. Then find the total length of yarn needed '\n",
      "            'for the mittens: 36 mittens * 7m / mitten = 252m. Then find the '\n",
      "            'total length of yarn needed for the hats: 9 hats * 4m / hat = '\n",
      "            '36m. Then add the yarn needed for the mittens and the hats to '\n",
      "            'find the total amount of yarn needed: 252m + 36m = 288m.\\n'\n",
      "            'Thus, the answer is 288.',\n",
      "  'safety_ratings': [{'category': <HarmCategory.HARM_CATEGORY_DEROGATORY: 1>,\n",
      "                      'probability': <HarmProbability.NEGLIGIBLE: 1>},\n",
      "                     {'category': <HarmCategory.HARM_CATEGORY_TOXICITY: 2>,\n",
      "                      'probability': <HarmProbability.NEGLIGIBLE: 1>},\n",
      "                     {'category': <HarmCategory.HARM_CATEGORY_VIOLENCE: 3>,\n",
      "                      'probability': <HarmProbability.NEGLIGIBLE: 1>},\n",
      "                     {'category': <HarmCategory.HARM_CATEGORY_SEXUAL: 4>,\n",
      "                      'probability': <HarmProbability.NEGLIGIBLE: 1>},\n",
      "                     {'category': <HarmCategory.HARM_CATEGORY_MEDICAL: 5>,\n",
      "                      'probability': <HarmProbability.NEGLIGIBLE: 1>},\n",
      "                     {'category': <HarmCategory.HARM_CATEGORY_DANGEROUS: 6>,\n",
      "                      'probability': <HarmProbability.NEGLIGIBLE: 1>}]},\n",
      " {'output': 'Chain-of-thought:\\n'\n",
      "            'Each cat has 4 mittens + 1 hat = 5 items. So, 3 houses have 3 * 5 '\n",
      "            '= 15 cats. In total, 15 cats need 15 * 5 = 75 items. So, 75 items '\n",
      "            'need 75 * 7 = 525m of yarn. Each hat needs 4m of yarn, so 15 hats '\n",
      "            'need 15 * 4 = 60m of yarn. Thus, 525 - 60 = 465m of yarn was '\n",
      "            'needed to knit the mittens.\\n'\n",
      "            '\\n'\n",
      "            'The answer should be 465',\n",
      "  'safety_ratings': [{'category': <HarmCategory.HARM_CATEGORY_DEROGATORY: 1>,\n",
      "                      'probability': <HarmProbability.NEGLIGIBLE: 1>},\n",
      "                     {'category': <HarmCategory.HARM_CATEGORY_TOXICITY: 2>,\n",
      "                      'probability': <HarmProbability.NEGLIGIBLE: 1>},\n",
      "                     {'category': <HarmCategory.HARM_CATEGORY_VIOLENCE: 3>,\n",
      "                      'probability': <HarmProbability.NEGLIGIBLE: 1>},\n",
      "                     {'category': <HarmCategory.HARM_CATEGORY_SEXUAL: 4>,\n",
      "                      'probability': <HarmProbability.NEGLIGIBLE: 1>},\n",
      "                     {'category': <HarmCategory.HARM_CATEGORY_MEDICAL: 5>,\n",
      "                      'probability': <HarmProbability.NEGLIGIBLE: 1>},\n",
      "                     {'category': <HarmCategory.HARM_CATEGORY_DANGEROUS: 6>,\n",
      "                      'probability': <HarmProbability.NEGLIGIBLE: 1>}]},\n",
      " {'output': 'There are 3 houses * 3 cats = 9 cats. So, 9 cats * 4 mittens = 36 '\n",
      "            'mittens were knitted. Also, 9 cats * 1 hat = 9 hats were knitted. '\n",
      "            'So, in total 36 mittens * 7m yarn / mitten + 9 hats * 4m yarn / '\n",
      "            'hat = 252m + 36m = 288m of yarn were needed.\\n'\n",
      "            'Thus, the answer is 288.',\n",
      "  'safety_ratings': [{'category': <HarmCategory.HARM_CATEGORY_DEROGATORY: 1>,\n",
      "                      'probability': <HarmProbability.NEGLIGIBLE: 1>},\n",
      "                     {'category': <HarmCategory.HARM_CATEGORY_TOXICITY: 2>,\n",
      "                      'probability': <HarmProbability.NEGLIGIBLE: 1>},\n",
      "                     {'category': <HarmCategory.HARM_CATEGORY_VIOLENCE: 3>,\n",
      "                      'probability': <HarmProbability.NEGLIGIBLE: 1>},\n",
      "                     {'category': <HarmCategory.HARM_CATEGORY_SEXUAL: 4>,\n",
      "                      'probability': <HarmProbability.NEGLIGIBLE: 1>},\n",
      "                     {'category': <HarmCategory.HARM_CATEGORY_MEDICAL: 5>,\n",
      "                      'probability': <HarmProbability.NEGLIGIBLE: 1>},\n",
      "                     {'category': <HarmCategory.HARM_CATEGORY_DANGEROUS: 6>,\n",
      "                      'probability': <HarmProbability.NEGLIGIBLE: 1>}]},\n",
      " {'output': 'There are 3 * 3 = 9 cats. Each cat needs 4 mittens and a hat for '\n",
      "            'a total of 4 + 1 = 5 items. So, 9 cats need 9 * 5 = 45 items. '\n",
      "            'Each mitten needs 7m of yarn and each hat needs 4m of yarn for a '\n",
      "            'total of 7 + 4 = 11m. So, 45 items need 45 * 11 = 495m of yarn.\\n'\n",
      "            'Thus, the answer is 495.',\n",
      "  'safety_ratings': [{'category': <HarmCategory.HARM_CATEGORY_DEROGATORY: 1>,\n",
      "                      'probability': <HarmProbability.NEGLIGIBLE: 1>},\n",
      "                     {'category': <HarmCategory.HARM_CATEGORY_TOXICITY: 2>,\n",
      "                      'probability': <HarmProbability.NEGLIGIBLE: 1>},\n",
      "                     {'category': <HarmCategory.HARM_CATEGORY_VIOLENCE: 3>,\n",
      "                      'probability': <HarmProbability.NEGLIGIBLE: 1>},\n",
      "                     {'category': <HarmCategory.HARM_CATEGORY_SEXUAL: 4>,\n",
      "                      'probability': <HarmProbability.NEGLIGIBLE: 1>},\n",
      "                     {'category': <HarmCategory.HARM_CATEGORY_MEDICAL: 5>,\n",
      "                      'probability': <HarmProbability.NEGLIGIBLE: 1>},\n",
      "                     {'category': <HarmCategory.HARM_CATEGORY_DANGEROUS: 6>,\n",
      "                      'probability': <HarmProbability.NEGLIGIBLE: 1>}]},\n",
      " {'output': 'There are 3 houses * 3 cats / house = 9 cats. So, 9 cats * 4 '\n",
      "            'mittens / cat = 36 mittens. Also, 9 cats * 1 hat / cat = 9 hats. '\n",
      "            'So, 36 mittens * 7m / mitten = 252m of yarn for mittens. Also, 9 '\n",
      "            'hats * 4m / hat = 36m of yarn for hats. Therefore, 252m + 36m = '\n",
      "            '288m of yarn was needed to make all the items.\\n'\n",
      "            'The answer: 288.',\n",
      "  'safety_ratings': [{'category': <HarmCategory.HARM_CATEGORY_DEROGATORY: 1>,\n",
      "                      'probability': <HarmProbability.NEGLIGIBLE: 1>},\n",
      "                     {'category': <HarmCategory.HARM_CATEGORY_TOXICITY: 2>,\n",
      "                      'probability': <HarmProbability.NEGLIGIBLE: 1>},\n",
      "                     {'category': <HarmCategory.HARM_CATEGORY_VIOLENCE: 3>,\n",
      "                      'probability': <HarmProbability.NEGLIGIBLE: 1>},\n",
      "                     {'category': <HarmCategory.HARM_CATEGORY_SEXUAL: 4>,\n",
      "                      'probability': <HarmProbability.NEGLIGIBLE: 1>},\n",
      "                     {'category': <HarmCategory.HARM_CATEGORY_MEDICAL: 5>,\n",
      "                      'probability': <HarmProbability.NEGLIGIBLE: 1>},\n",
      "                     {'category': <HarmCategory.HARM_CATEGORY_DANGEROUS: 6>,\n",
      "                      'probability': <HarmProbability.NEGLIGIBLE: 1>}]}]\n"
     ]
    }
   ],
   "source": [
    "import pprint\n",
    "pprint.pprint(completion.candidates)\n"
   ]
  },
  {
   "cell_type": "code",
   "execution_count": 27,
   "id": "8aa02149",
   "metadata": {},
   "outputs": [
    {
     "data": {
      "text/plain": [
       "0.625"
      ]
     },
     "execution_count": 27,
     "metadata": {},
     "output_type": "execute_result"
    }
   ],
   "source": [
    "import numpy as np\n",
    "np.mean(['288' in c['output'] for c in completion.candidates])\n"
   ]
  },
  {
   "cell_type": "markdown",
   "id": "7899781f",
   "metadata": {},
   "source": [
    "# Embedding generation"
   ]
  },
  {
   "cell_type": "code",
   "execution_count": 28,
   "id": "bb45d72d",
   "metadata": {},
   "outputs": [
    {
     "name": "stdout",
     "output_type": "stream",
     "text": [
      "models/embedding-gecko-001\n"
     ]
    }
   ],
   "source": [
    "for model in palm.list_models():\n",
    "  if 'embedText' in model.supported_generation_methods:\n",
    "    print(model.name)\n",
    "    "
   ]
  },
  {
   "cell_type": "code",
   "execution_count": 29,
   "id": "afb63ed0",
   "metadata": {},
   "outputs": [],
   "source": [
    "x = 'What do squirrels eat?'\n",
    "\n",
    "close_to_x = 'nuts and acorns'\n",
    "\n",
    "different_from_x = 'This morning I woke up in San Francisco, and took a walk to the Bay Bridge. It was a good, sunny morning with no fog.'\n",
    "\n",
    "model = \"models/embedding-gecko-001\"\n",
    "\n",
    "# Create an embedding\n",
    "embedding_x = palm.generate_embeddings(model=model, text=x)\n",
    "embedding_close_to_x = palm.generate_embeddings(model=model, text=close_to_x)\n",
    "embedding_different_from_x = palm.generate_embeddings(model=model, text=different_from_x)\n"
   ]
  },
  {
   "cell_type": "code",
   "execution_count": 30,
   "id": "a094234a",
   "metadata": {},
   "outputs": [
    {
     "name": "stdout",
     "output_type": "stream",
     "text": [
      "{'embedding': [-0.025894871, -0.021033963, 0.0035749928, 0.008222881, 0.03276648, -0.10068223, -0.03770255, 0.01079403, 0.000140624, -0.029412385, 0.019199245, 0.0048481016, 0.070619866, -0.01334989, 0.028378604, -0.018658886, -0.038629908, 0.056883126, 0.063323654, 0.039849922, -0.085393265, -0.016251812, -0.025535947, 0.004948033, 0.04858148, -0.11295682, 0.03386994, 0.015498764, -0.07306242, 0.00085789536, -0.022031784, -0.0052989395, -0.08311722, -0.02709176, 0.042790357, 0.023175262, 0.0112389885, -0.024329238, -0.0044626985, 0.05167071, 0.023430848, 0.02732517, -0.014923886, -0.01877072, -0.0037836903, 0.040971957, -0.04465288, 0.0332203, -0.056597434, -0.055191413, -0.0023204584, -0.043687623, 0.030044463, -0.015966715, -0.04318426, 0.01573578, -0.03835268, -0.0050097313, -0.03289721, 0.016246213, -0.0056963954, -0.0010992853, -0.02768714, -0.035349943, -0.0459705, 0.05784305, -0.026696423, -0.013302217, 0.007055761, -0.058859013, 0.033301126, 0.04399591, 0.02075556, 0.0028288588, 0.0373331, 0.01035954, -0.019429643, 0.033088192, 0.009558322, -0.06524442, -0.07101354, -0.053975347, -0.0039529386, -0.11641812, -0.03948837, -0.003378282, -0.017735159, 0.031987358, 0.014555726, 0.050724596, -0.07849815, -0.007043671, 0.017992217, -0.003975656, -0.003965057, 0.08063971, -0.011685767, -0.018323967, 0.007763522, 0.012011535, 0.028457751, -0.099603206, 0.0328822, 0.0063217347, 0.051288053, 0.060445003, -0.007725887, -0.0033487657, -0.026970377, -0.04471915, 0.014793466, 0.0029390636, -0.043657325, -0.036976494, 0.05571355, -0.03422859, 0.05610819, 0.0016565458, 0.06461147, 0.012197698, -0.029221233, 0.015400642, 0.009992719, -0.012694915, 0.027302667, 0.04309881, 0.013308773, -0.034253325, -0.028620962, 0.0032988628, 0.008901493, 0.005103348, 0.086938314, -0.035939544, -0.00014025549, -0.0021354058, 0.043875773, -0.057092454, 0.004803227, 0.04456835, -0.013373616, 0.018620199, -0.00375252, 0.018113593, -0.0024051773, -0.006519982, 0.0434265, -0.028869089, -0.07003764, -0.02704304, -0.04767437, -0.03656646, -0.029664693, 0.054604772, 0.05645902, 0.016209828, 0.065883346, 0.07294827, -0.07351654, -0.050156996, 0.05211484, -0.023020329, 0.022877777, 0.01355375, -0.019406103, -0.0058154585, 0.0373227, 0.005268551, 0.021647887, -0.019631771, -0.01571936, -0.06862338, 0.021698158, -0.0137818325, 0.069550164, -0.023942512, -0.018029014, -0.018007768, -0.0059923534, -0.027717339, -0.001950715, -0.06961951, 0.054189045, 0.0021985532, -0.011325575, 0.015128107, 0.01542462, -0.038302787, -0.038970694, 0.04426809, 0.015156804, 0.030262467, -0.0010455127, -0.03217523, -0.033575423, -9.529959e-05, 0.06202827, -0.10134924, -0.009874221, 0.051682726, -0.022124728, 0.010147167, -0.0121855475, 0.037313815, -0.0005943806, -0.017981032, -0.070909515, 0.026052335, 0.06992509, 0.026033424, -0.023944099, -0.047794044, 0.020404303, 0.025562085, -0.01985736, -0.027300185, 0.029983347, -0.0821883, -0.018791715, -0.004772285, -0.024901018, -0.010111941, 0.050968856, 0.029660476, 3.4717825e-05, -0.017517656, 0.023977738, 0.022549665, 0.04181301, 0.0075005647, -0.0019229064, 0.023285724, -0.010899092, -0.004949612, -0.012531903, 0.041027624, -0.00462034, -0.013926484, -0.020054536, 0.026111234, -0.062329423, 0.09978252, -0.044156667, 0.061204664, 0.007044644, -0.0027112772, 0.046202265, 0.0061349035, 0.039831944, -0.009853767, 0.01376318, -0.070857346, 0.009606737, -0.008636414, 0.050337076, 0.04528421, -0.003271067, -0.016086243, 0.0083868075, -0.007903437, 0.03508849, 0.0025110866, 0.04684593, 0.12780859, -0.038998652, -0.029157333, -0.029113598, 0.0074333525, 0.055326972, -0.034412585, -0.00013684246, -0.020530462, 0.06506163, 0.0019480567, 0.0030335463, -0.018495142, -0.054084033, 0.023021376, -0.010500293, -0.007759436, -0.020039978, -0.017755097, 0.00067667576, 0.014525479, -0.026014434, 0.0024745855, -0.02717392, 0.0093613025, 0.005808786, 0.00069985044, 0.04791365, -0.043685965, -0.015235593, 0.006959536, 0.009612963, -0.0009247096, 0.03361978, -0.0064969766, -0.047667205, 0.0391879, -0.010284177, -0.006610168, -0.0020641836, -0.054403454, -0.007050973, -0.015853178, -0.03174128, -0.021723853, 0.030216578, -0.0012069813, 0.050265886, 0.045106, -0.024716273, -0.05543306, -0.06419837, -0.014273426, -0.02370334, 0.0017521781, -0.05614919, 0.0069642677, 0.0065768384, 0.03525583, 0.03902322, 0.01640373, 0.02505178, 0.00695039, -0.055799965, 0.013183736, 0.08474834, -0.012680079, 0.0041794735, 0.023558963, -0.07197163, 0.024911461, -0.01876665, 0.025204342, 0.004806642, 0.04904056, 0.016669532, -0.037882168, -0.021643393, 0.0053031733, -0.031009668, -0.016543044, -0.020345991, -0.005761679, -0.0743119, -0.02601627, -0.02327138, -0.07075993, -0.0029876104, 0.0066218534, -0.06109171, 0.032953493, 0.03662513, 0.0102901235, 0.054183125, -0.03828875, 0.03312786, -0.014862631, -0.03720938, 0.018570531, -0.02074224, 0.04802698, 0.0054383283, 0.020241426, -0.04405181, 0.030792724, 0.03395876, -0.023588259, 0.03765852, 0.010072953, 0.0064869327, 0.019048402, -0.069198176, -0.017083941, -0.016801478, 0.0027415913, 0.0081722755, 0.0019755254, -0.057162683, -0.005394635, 0.0014972503, -0.033361986, -0.0033606584, 0.032426648, 0.07254494, 0.022799492, -0.046871357, -0.06308127, 0.029209439, 0.01134149, 0.032790344, -0.02007303, -0.004409368, 0.0829204, -0.031405564, 0.009308279, -0.004211375, -0.05244417, 0.018087396, 0.008575956, -0.0013550716, -0.071860425, 0.02837243, 0.024996126, 0.027749, 0.016944509, -0.014632978, -0.06674174, -0.043031745, -0.04413758, 0.03530514, 0.030504202, 0.060496386, -0.06423887, 0.012235536, -0.05830343, -0.01586873, 0.04186105, 0.027080603, -0.014182993, -0.028095998, 0.0016349262, 0.010679885, 0.048808612, -0.058294244, -0.010633064, -0.056791265, -0.027161643, -0.030019993, -0.010299285, -0.038218226, -0.016588317, -0.0059704306, -0.053497776, 0.056619115, 0.0050102673, -0.020186694, -0.03151958, -0.07490499, 0.045715276, -0.037471525, 0.029025434, 0.015007149, -0.01799195, 0.007956427, -0.028715475, -0.01878828, -0.041037176, 0.012932908, -0.007246393, -0.004651031, 0.0520941, 0.04721456, -0.05604256, 0.0061242874, -0.06112983, -0.028900363, -0.0033062417, -0.016411358, -0.03985707, -0.005927899, 0.027991276, -0.034023546, 0.0023991668, 0.020010024, 0.014298014, 0.017212953, 0.0026526528, -0.08308303, 0.01726592, 0.01384552, 0.0065021426, 0.036473297, 0.020361774, 0.09685079, 0.04039578, 0.016480403, -0.083298355, -0.065900676, 0.0001286082, -0.055775307, 0.0065172254, -0.018937778, -0.021399701, 0.00045600644, -0.009761386, -0.0032396012, 0.004142928, 0.059930302, -0.016564654, 0.018544743, -0.032329146, 0.006037773, -0.06402926, 0.057614833, -0.02093143, 0.018229363, 0.024098344, 0.025045563, -0.00945166, -0.01025951, 0.006660358, -0.029620942, -0.034955457, -0.06783166, -0.031938594, -0.042619534, 0.02787831, 0.023951616, 0.01635402, -0.00153107, -0.057851825, -0.048688278, -0.06779812, -0.09212996, 0.043552887, 0.026341975, 0.04593375, -0.012108332, -0.01738154, 0.012251425, 0.035591044, 0.0502422, 0.056855064, 0.010133644, -0.009532219, -0.05425156, 0.034745548, 0.020292252, 0.033525903, -0.040225316, -0.00015250099, -0.078061, 0.0075722504, 0.015309744, 0.022623317, 0.065368235, 0.06423244, -0.015577341, -0.048137955, -0.013913103, 0.020742543, 0.060864896, -0.05662343, 0.057601452, -1.6566964e-05, 0.010925778, 0.0036125667, 0.032784764, -0.080131896, -0.048450164, 0.06296668, 0.029892884, -0.011754731, -0.00100665, -0.054419737, -0.017106231, -0.042856824, -0.005424765, -0.028312044, -0.0022843073, -0.020289076, -0.007416973, 0.016722953, 0.033435877, -0.049168676, 0.0038286438, 0.043084797, -0.011436931, -0.017679026, -0.012748324, -0.015104219, 0.008225342, -0.005965195, -0.010827807, -0.015990732, 0.03193361, 0.018625757, -0.013171724, 0.007987762, -0.018449493, 0.041906953, -0.020788718, 0.034040056, -0.000860824, -0.0077715567, 0.023855729, -0.0029571042, -0.008528541, -0.0556957, -0.005321177, -0.018151486, -0.011129989, -0.051835105, 0.0053123133, 0.009127996, -0.011530384, 0.00963171, 0.0041047893, -0.035371087, 0.052883077, -0.015326758, 0.030402342, 0.00873103, -0.004413188, 0.019502029, 0.01406499, 0.031413365, 0.01804187, 0.05942752, 0.048374876, -0.01992844, -0.0045596245, 0.02196242, -0.0856755, -0.007796496, 0.03352003, 0.009779216, 0.05753526, 0.010492752, -0.039363433, -0.103733934, -0.024229616, 0.006216248, -0.017748237, 0.0051229517, -0.055344902, -0.010650972, 0.030938895, -0.073542334, -0.014872007, -0.0030819532, 0.016437914, -0.0040901243, 0.0018574656, 0.033318345, 0.0058157477, 0.022556614, 0.076257005, -0.006559388, -0.026774084, -0.01683979, 0.008689687, -0.0151846465, 0.0073800134, -0.01849934, -0.03608093, 0.05340657, 0.01594491, -0.014478417, -0.021485219, -0.018035406, -0.03814742, 0.014293587, -0.021055875, 0.031431403, -0.07782329, 0.015536578, -0.031045694, 0.05943465, -0.020065695, 0.05275458, -0.083800405, 0.06855744, 0.012167182, -0.015827801, 0.043801714, 0.020258594, -0.05816931, -0.044358734, -0.013054302, -0.041333176, -0.02302342, 0.02914075, 0.008123609, 0.03369097, -0.00308921, 0.052916348, -0.048350755, -0.010181856, -0.05420185, -0.033779036, 0.026381416, -0.028346054, -0.02331669, -0.005781758, 0.012981267, -0.005527979, 0.010089176, -0.044895176, -0.024379173, 0.007590703, -0.025511196, -0.06555892, 0.008145539, 0.021736145, -0.033178225, 0.026871514, -0.056374058, -0.03088523, 0.014512168, -0.0080246655, 0.026689189, 0.0041089333, -0.04103957, 0.008003176, -0.0030232216, -0.036158, 0.04256501, -0.00016817736, 0.011733645, 0.025762333, -0.01092103, -0.0010622335, -0.07185124, 0.029530823, 0.009698984, 0.011916082, 0.0022654547, 0.07175238, 0.029233105, -0.020834869, -0.0524427, 0.011248312, 0.005422926, 0.018166015, 0.047227502, -0.013550261, 0.035074297, -0.010435111, 0.047774173, 0.021216918, -0.0026447426, -0.021085298, 0.013272347, -0.013380501, 0.02943836, -0.032338668, 0.0021435444, -0.016289461, -0.013629227, -0.038402162, 0.06655019, 0.009643845, 0.025085986, -0.018909352, -0.011246174, -0.052545544, -0.067764856, -0.029318614, 0.014850464, 0.029691916, -0.040905934, 0.054420393, 0.01552631, 0.029125493, -0.0020693608, 0.038805272, -0.009980784, 0.031122748, -0.055620622, 0.021108225, 0.01032038, 0.044171233, 0.009732269, -0.0011330073]}\n"
     ]
    }
   ],
   "source": [
    "print(embedding_x)\n"
   ]
  },
  {
   "cell_type": "code",
   "execution_count": 31,
   "id": "bb1170b7",
   "metadata": {},
   "outputs": [
    {
     "name": "stdout",
     "output_type": "stream",
     "text": [
      "0.7314062496236005\n"
     ]
    }
   ],
   "source": [
    "similar_measure = np.dot(embedding_x['embedding'], embedding_close_to_x['embedding'])\n",
    "\n",
    "print(similar_measure)\n"
   ]
  },
  {
   "cell_type": "code",
   "execution_count": 32,
   "id": "757ff78d",
   "metadata": {},
   "outputs": [
    {
     "name": "stdout",
     "output_type": "stream",
     "text": [
      "0.4356069925292835\n"
     ]
    }
   ],
   "source": [
    "different_measure = np.dot(embedding_x['embedding'], embedding_different_from_x['embedding'])\n",
    "\n",
    "print(different_measure)\n"
   ]
  },
  {
   "cell_type": "code",
   "execution_count": null,
   "id": "8f0f2fa7",
   "metadata": {},
   "outputs": [],
   "source": []
  }
 ],
 "metadata": {
  "kernelspec": {
   "display_name": "Python 3 (ipykernel)",
   "language": "python",
   "name": "python3"
  },
  "language_info": {
   "codemirror_mode": {
    "name": "ipython",
    "version": 3
   },
   "file_extension": ".py",
   "mimetype": "text/x-python",
   "name": "python",
   "nbconvert_exporter": "python",
   "pygments_lexer": "ipython3",
   "version": "3.9.6"
  }
 },
 "nbformat": 4,
 "nbformat_minor": 5
}
