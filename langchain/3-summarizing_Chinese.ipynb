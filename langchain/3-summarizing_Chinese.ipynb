{
 "cells": [
  {
   "cell_type": "markdown",
   "metadata": {
    "id": "BiDd_qXiL2k9"
   },
   "source": [
    "# Summarizing\n",
    "In this lesson, you will summarize text with a focus on specific topics.\n",
    "\n",
    "## Setup"
   ]
  },
  {
   "cell_type": "code",
   "execution_count": 1,
   "metadata": {
    "id": "5k9j50D4L5jz"
   },
   "outputs": [],
   "source": [
    "import openai\n",
    "import os\n",
    "\n",
    "from dotenv import load_dotenv, find_dotenv\n",
    "_ = load_dotenv(find_dotenv()) # read local .env file\n",
    "\n",
    "openai.api_key  = os.getenv('OPENAI_API_KEY')\n"
   ]
  },
  {
   "cell_type": "code",
   "execution_count": 2,
   "metadata": {
    "id": "33gyeVQ5NHv5"
   },
   "outputs": [],
   "source": [
    "def get_completion(prompt, model=\"gpt-3.5-turbo\"): # Andrew mentioned that the prompt/ completion paradigm is preferable for this class\n",
    "    messages = [{\"role\": \"user\", \"content\": prompt}]\n",
    "    response = openai.ChatCompletion.create(\n",
    "        model=model,\n",
    "        messages=messages,\n",
    "        temperature=0, # this is the degree of randomness of the model's output\n",
    "    )\n",
    "    return response.choices[0].message[\"content\"]\n"
   ]
  },
  {
   "cell_type": "markdown",
   "metadata": {
    "id": "lM1kiqdNNOPq"
   },
   "source": [
    "## Text to summarize"
   ]
  },
  {
   "cell_type": "code",
   "execution_count": 3,
   "metadata": {
    "id": "Z2pufbjKNpCj"
   },
   "outputs": [],
   "source": [
    "prod_review = \"\"\"\n",
    "Got this panda plush toy for my daughter's birthday, \\\n",
    "who loves it and takes it everywhere. It's soft and \\ \n",
    "super cute, and its face has a friendly look. It's \\ \n",
    "a bit small for what I paid though. I think there \\ \n",
    "might be other options that are bigger for the \\ \n",
    "same price. It arrived a day earlier than expected, \\ \n",
    "so I got to play with it myself before I gave it \\ \n",
    "to her.\n",
    "\"\"\"\n"
   ]
  },
  {
   "cell_type": "code",
   "execution_count": 5,
   "metadata": {
    "id": "Z2pufbjKNpCj"
   },
   "outputs": [],
   "source": [
    "prod_review_2 = \"\"\"\n",
    "我為女兒的生日購買了這隻熊貓毛絨玩具，她非常喜歡並隨身帶著它。\\\n",
    "它很軟、超級可愛，臉部表情也很友善。\\\n",
    "不過考慮到我所付出的價格，它的尺寸有點小。\\\n",
    "我認為可能有其他同價位但更大尺寸的選擇。\\\n",
    "它比預期提前一天到達，所以我在給她之前，自己先玩了一下。\"\n",
    "\"\"\"\n"
   ]
  },
  {
   "cell_type": "markdown",
   "metadata": {
    "id": "0kmN7gkeNsVk"
   },
   "source": [
    "## Summarize with a word/sentence/character limit"
   ]
  },
  {
   "cell_type": "code",
   "execution_count": 4,
   "metadata": {
    "id": "iwYGHzJuN7d2"
   },
   "outputs": [
    {
     "name": "stdout",
     "output_type": "stream",
     "text": [
      "Soft and cute panda plush toy loved by daughter, but a bit small for the price. Arrived early.\n"
     ]
    }
   ],
   "source": [
    "prompt = f\"\"\"\n",
    "Your task is to generate a short summary of a product \\\n",
    "review from an ecommerce site. \n",
    "\n",
    "Summarize the review below, delimited by triple \n",
    "backticks, in at most 30 words. \n",
    "\n",
    "Review: ```{prod_review}```\n",
    "\"\"\"\n",
    "\n",
    "response = get_completion(prompt)\n",
    "print(response)\n"
   ]
  },
  {
   "cell_type": "code",
   "execution_count": 6,
   "metadata": {
    "id": "iwYGHzJuN7d2"
   },
   "outputs": [
    {
     "name": "stdout",
     "output_type": "stream",
     "text": [
      "超可愛的熊貓玩具，價格稍貴，尺寸有點小。\n"
     ]
    }
   ],
   "source": [
    "prompt = f\"\"\"\n",
    "你的任務是產生一個電子商務網站上的產品評論的簡短摘要。\n",
    "\n",
    "將下方被三個反引號標記的評論摘要化，最多30個字。\n",
    "\n",
    "評論： ```{prod_review_2}```\n",
    "\"\"\"\n",
    "\n",
    "response = get_completion(prompt)\n",
    "print(response)\n"
   ]
  },
  {
   "cell_type": "markdown",
   "metadata": {
    "id": "63xQv0TtOD_3"
   },
   "source": [
    "## Summarize with a focus on shipping and delivery"
   ]
  },
  {
   "cell_type": "code",
   "execution_count": 7,
   "metadata": {
    "id": "tbgcx77-OGDN"
   },
   "outputs": [
    {
     "name": "stdout",
     "output_type": "stream",
     "text": [
      "The panda plush toy arrived a day earlier than expected, but the customer felt it was a bit small for the price paid.\n"
     ]
    }
   ],
   "source": [
    "prompt = f\"\"\"\n",
    "Your task is to generate a short summary of a product \\\n",
    "review from an ecommerce site to give feedback to the \\\n",
    "Shipping deparmtment. \n",
    "\n",
    "Summarize the review below, delimited by triple \n",
    "backticks, in at most 30 words, and focusing on any aspects \\\n",
    "that mention shipping and delivery of the product. \n",
    "\n",
    "Review: ```{prod_review}```\n",
    "\"\"\"\n",
    "\n",
    "response = get_completion(prompt)\n",
    "print(response)\n"
   ]
  },
  {
   "cell_type": "code",
   "execution_count": 8,
   "metadata": {
    "id": "tbgcx77-OGDN"
   },
   "outputs": [
    {
     "name": "stdout",
     "output_type": "stream",
     "text": [
      "快速交付，可愛但尺寸小。\n"
     ]
    }
   ],
   "source": [
    "prompt = f\"\"\"\n",
    "你的任務是產生一個電子商務網站上的產品評論的簡短摘要。\n",
    "\n",
    "將下方被三個反引號標記的評論摘要化，最多30個字，並專注於提到產品的運輸和交付的任何方面。\n",
    "\n",
    "評論： ```{prod_review_2}```\n",
    "\"\"\"\n",
    "\n",
    "response = get_completion(prompt)\n",
    "print(response)\n"
   ]
  },
  {
   "cell_type": "markdown",
   "metadata": {
    "id": "AG14d3znOK4K"
   },
   "source": [
    "## Summarize with a focus on price and value"
   ]
  },
  {
   "cell_type": "code",
   "execution_count": 9,
   "metadata": {
    "id": "IwfUi_l1OMXx"
   },
   "outputs": [
    {
     "name": "stdout",
     "output_type": "stream",
     "text": [
      "The panda plush toy is soft, cute, and loved by the recipient, but the price may be too high for its size.\n"
     ]
    }
   ],
   "source": [
    "prompt = f\"\"\"\n",
    "Your task is to generate a short summary of a product \\\n",
    "review from an ecommerce site to give feedback to the \\\n",
    "pricing deparmtment, responsible for determining the \\\n",
    "price of the product.  \n",
    "\n",
    "Summarize the review below, delimited by triple \n",
    "backticks, in at most 30 words, and focusing on any aspects \\\n",
    "that are relevant to the price and perceived value. \n",
    "\n",
    "Review: ```{prod_review}```\n",
    "\"\"\"\n",
    "\n",
    "response = get_completion(prompt)\n",
    "print(response)\n"
   ]
  },
  {
   "cell_type": "code",
   "execution_count": 11,
   "metadata": {
    "id": "IwfUi_l1OMXx"
   },
   "outputs": [
    {
     "name": "stdout",
     "output_type": "stream",
     "text": [
      "可愛但價格高。\n"
     ]
    }
   ],
   "source": [
    "prompt = f\"\"\"\n",
    "你的任務是產生一個電子商務網站上的產品評論的簡短摘要。\n",
    "\n",
    "將下方被三個反引號標記的評論摘要化，最多30個字，並專注於與價格和感知價值相關的任何方面。\n",
    "\n",
    "評論： ```{prod_review_2}```\n",
    "\"\"\"\n",
    "\n",
    "response = get_completion(prompt)\n",
    "print(response)\n"
   ]
  },
  {
   "cell_type": "markdown",
   "metadata": {
    "id": "ANS3NLk7OPnc"
   },
   "source": [
    "#### Comment\n",
    "- Summaries include topics that are not related to the topic of focus."
   ]
  },
  {
   "cell_type": "markdown",
   "metadata": {
    "id": "-zhUwltFORfV"
   },
   "source": [
    "## Try \"extract\" instead of \"summarize\""
   ]
  },
  {
   "cell_type": "code",
   "execution_count": 12,
   "metadata": {
    "id": "j2eMgJZbOTNb"
   },
   "outputs": [
    {
     "name": "stdout",
     "output_type": "stream",
     "text": [
      "The product arrived a day earlier than expected.\n"
     ]
    }
   ],
   "source": [
    "prompt = f\"\"\"\n",
    "Your task is to extract relevant information from \\ \n",
    "a product review from an ecommerce site to give \\\n",
    "feedback to the Shipping department. \n",
    "\n",
    "From the review below, delimited by triple quotes \\\n",
    "extract the information relevant to shipping and \\ \n",
    "delivery. Limit to 30 words. \n",
    "\n",
    "Review: ```{prod_review}```\n",
    "\"\"\"\n",
    "\n",
    "response = get_completion(prompt)\n",
    "print(response)\n"
   ]
  },
  {
   "cell_type": "code",
   "execution_count": 13,
   "metadata": {
    "id": "j2eMgJZbOTNb"
   },
   "outputs": [
    {
     "name": "stdout",
     "output_type": "stream",
     "text": [
      "\"比預期提前一天到達\"\n"
     ]
    }
   ],
   "source": [
    "prompt = f\"\"\"\n",
    "你的任務是產生一個電子商務網站上的產品評論的簡短摘要。\n",
    "\n",
    "從以下被三個引號標記的評論中，提取與運送和交貨相關的信息。限制在30個字以內。\n",
    "\n",
    "評論： ```{prod_review_2}```\n",
    "\"\"\"\n",
    "\n",
    "response = get_completion(prompt)\n",
    "print(response)\n"
   ]
  },
  {
   "cell_type": "markdown",
   "metadata": {
    "id": "KsGPolMiOawe"
   },
   "source": [
    "## Summarize multiple product reviews"
   ]
  },
  {
   "cell_type": "code",
   "execution_count": 14,
   "metadata": {
    "id": "7OKuKKi9Ociw"
   },
   "outputs": [],
   "source": [
    "\n",
    "review_1 = prod_review \n",
    "\n",
    "# review for a standing lamp\n",
    "review_2 = \"\"\"\n",
    "Needed a nice lamp for my bedroom, and this one \\\n",
    "had additional storage and not too high of a price \\\n",
    "point. Got it fast - arrived in 2 days. The string \\\n",
    "to the lamp broke during the transit and the company \\\n",
    "happily sent over a new one. Came within a few days \\\n",
    "as well. It was easy to put together. Then I had a \\\n",
    "missing part, so I contacted their support and they \\\n",
    "very quickly got me the missing piece! Seems to me \\\n",
    "to be a great company that cares about their customers \\\n",
    "and products. \n",
    "\"\"\"\n",
    "\n",
    "# review for an electric toothbrush\n",
    "review_3 = \"\"\"\n",
    "My dental hygienist recommended an electric toothbrush, \\\n",
    "which is why I got this. The battery life seems to be \\\n",
    "pretty impressive so far. After initial charging and \\\n",
    "leaving the charger plugged in for the first week to \\\n",
    "condition the battery, I've unplugged the charger and \\\n",
    "been using it for twice daily brushing for the last \\\n",
    "3 weeks all on the same charge. But the toothbrush head \\\n",
    "is too small. I’ve seen baby toothbrushes bigger than \\\n",
    "this one. I wish the head was bigger with different \\\n",
    "length bristles to get between teeth better because \\\n",
    "this one doesn’t.  Overall if you can get this one \\\n",
    "around the $50 mark, it's a good deal. The manufactuer's \\\n",
    "replacements heads are pretty expensive, but you can \\\n",
    "get generic ones that're more reasonably priced. This \\\n",
    "toothbrush makes me feel like I've been to the dentist \\\n",
    "every day. My teeth feel sparkly clean! \n",
    "\"\"\"\n",
    "\n",
    "# review for a blender\n",
    "review_4 = \"\"\"\n",
    "So, they still had the 17 piece system on seasonal \\\n",
    "sale for around $49 in the month of November, about \\\n",
    "half off, but for some reason (call it price gouging) \\\n",
    "around the second week of December the prices all went \\\n",
    "up to about anywhere from between $70-$89 for the same \\\n",
    "system. And the 11 piece system went up around $10 or \\\n",
    "so in price also from the earlier sale price of $29. \\\n",
    "So it looks okay, but if you look at the base, the part \\\n",
    "where the blade locks into place doesn’t look as good \\\n",
    "as in previous editions from a few years ago, but I \\\n",
    "plan to be very gentle with it (example, I crush \\\n",
    "very hard items like beans, ice, rice, etc. in the \\ \n",
    "blender first then pulverize them in the serving size \\\n",
    "I want in the blender then switch to the whipping \\\n",
    "blade for a finer flour, and use the cross cutting blade \\\n",
    "first when making smoothies, then use the flat blade \\\n",
    "if I need them finer/less pulpy). Special tip when making \\\n",
    "smoothies, finely cut and freeze the fruits and \\\n",
    "vegetables (if using spinach-lightly stew soften the \\ \n",
    "spinach then freeze until ready for use-and if making \\\n",
    "sorbet, use a small to medium sized food processor) \\ \n",
    "that you plan to use that way you can avoid adding so \\\n",
    "much ice if at all-when making your smoothie. \\\n",
    "After about a year, the motor was making a funny noise. \\\n",
    "I called customer service but the warranty expired \\\n",
    "already, so I had to buy another one. FYI: The overall \\\n",
    "quality has gone done in these types of products, so \\\n",
    "they are kind of counting on brand recognition and \\\n",
    "consumer loyalty to maintain sales. Got it in about \\\n",
    "two days.\n",
    "\"\"\"\n",
    "\n",
    "reviews = [review_1, review_2, review_3, review_4]\n",
    "\n"
   ]
  },
  {
   "cell_type": "code",
   "execution_count": 15,
   "metadata": {
    "id": "rdY3blK-Oe01"
   },
   "outputs": [
    {
     "name": "stdout",
     "output_type": "stream",
     "text": [
      "0 Soft and cute panda plush toy loved by daughter, but a bit small for the price. Arrived early. \n",
      "\n",
      "1 Affordable lamp with storage, fast shipping, and excellent customer service. Easy to assemble and missing parts were quickly replaced. \n",
      "\n",
      "2 Good battery life, small toothbrush head, but effective cleaning. Good deal if bought around $50. \n",
      "\n",
      "3 The product was on sale for $49 in November, but the price increased to $70-$89 in December. The base doesn't look as good as previous editions, but the reviewer plans to be gentle with it. A special tip for making smoothies is to freeze the fruits and vegetables beforehand. The motor made a funny noise after a year, and the warranty had expired. Overall quality has gone down. \n",
      "\n"
     ]
    }
   ],
   "source": [
    "for i in range(len(reviews)):\n",
    "    prompt = f\"\"\"\n",
    "    Your task is to generate a short summary of a product \\ \n",
    "    review from an ecommerce site. \n",
    "\n",
    "    Summarize the review below, delimited by triple \\\n",
    "    backticks in at most 20 words. \n",
    "\n",
    "    Review: ```{reviews[i]}```\n",
    "    \"\"\"\n",
    "\n",
    "    response = get_completion(prompt)\n",
    "    print(i, response, \"\\n\")\n"
   ]
  },
  {
   "cell_type": "code",
   "execution_count": 17,
   "metadata": {
    "id": "7OKuKKi9Ociw"
   },
   "outputs": [],
   "source": [
    "\n",
    "review_1_c = prod_review_2\n",
    "\n",
    "# review for a standing lamp\n",
    "review_2_c = \"\"\"\n",
    "我需要一盞適合臥室的好燈，這款還有額外的儲物空間，\\\n",
    "價格也不太高。很快就收到了，兩天就送達。\\\n",
    "運輸過程中，燈的拉繩斷了，公司樂意地重新寄送了一盞新燈，幾天內也送到了。\\\n",
    "組裝起來很簡單。然後我發現少了一個零件，所以我聯繫了他們的客服，他們很快就給我寄來了缺失的零件！\\\n",
    "在我看來，這是一家非常關心他們的客戶和產品的好公司。 \n",
    "\"\"\"\n",
    "\n",
    "# review for an electric toothbrush\n",
    "review_3_c = \"\"\"\n",
    "\"我的牙齒衛生師推薦我使用電動牙刷，這就是為什麼我買了這款。\\\n",
    "目前來看，電池續航力相當出色。\\\n",
    "初次充電並在第一週內將充電器插頭插入以調節電池後，我拔掉充電器並在過去的3週裡每天刷兩次牙，全都在同一次充電中完成。\\\n",
    "但是牙刷頭太小了。我看過的嬰兒牙刷比這款還要大。\\\n",
    "我希望牙刷頭可以更大一些，並帶有不同長度的刷毛，以更好地清潔牙齒之間，因為這款做不到。整體來說，\\\n",
    "如果你能以大約50美元的價格買到這款，那就是一個好交易。製造商的替換刷頭價格相當昂貴，但你可以買到價格更合理的通用型。\\\n",
    "這款牙刷讓我每天都覺得好像剛去過牙醫。我的牙齒感覺乾淨煥發！\"\n",
    "\"\"\"\n",
    "\n",
    "# review for a blender\n",
    "review_4_c = \"\"\"\n",
    "\"所以，他們在11月仍然將17件套系統的季節性銷售價格保持在大約49美元左右，約為半價，\\\n",
    "但出於某種原因（可以稱之為漲價）到了12月的第二週，同樣的系統價格都上漲到了大約70到89美元之間。\\\n",
    "而且，11件套系統的價格也從之前的銷售價格29美元左右上漲了大約10美元。\\\n",
    "所以，它看起來還不錯，但如果你看基座，那部分刀片鎖定位置看起來並不如幾年前的舊版本好，\\\n",
    "但我計劃對它非常溫和（例如，我先在攪拌機中壓碎像豆子、冰、米等硬物，然後在攪拌機中將它們磨成我想要的份量，\\\n",
    "然後換成攪拌刀進行更細的磨粉，並在製作果昔時先使用交叉切割刀，然後如果我需要它們更細/少果肉的話，我會使用平刀）。\\\n",
    "製作果昔的特別提示，細切並冷凍你計劃使用的水果和蔬菜（如果使用菠菜-輕燉軟化菠菜然後冷凍，\\\n",
    "直到準備使用-如果製作果汁，使用小到中型的食物處理器）這樣你可以避免在製作果昔時加入太多的冰。\\\n",
    "大約一年後，馬達開始發出奇怪的聲音。我打電話給客戶服務，但保修期已經過期，所以我不得不買另一個。\\\n",
    "另外告訴你：這類產品的整體品質已經下降，所以他們有點依賴品牌認知度和消費者忠誠度來維持銷售。大約兩天就收到了。\"\n",
    "\"\"\"\n",
    "\n",
    "reviews_2 = [review_1_c, review_2_c, review_3_c, review_4_c]\n",
    "\n"
   ]
  },
  {
   "cell_type": "code",
   "execution_count": 18,
   "metadata": {
    "id": "rdY3blK-Oe01"
   },
   "outputs": [
    {
     "name": "stdout",
     "output_type": "stream",
     "text": [
      "0 熊貓毛絨玩具：軟、可愛，價格高。 \n",
      "\n",
      "1 簡短摘要：好燈，儲物空間，快遞問題解決，客服好。 \n",
      "\n",
      "2 電動牙刷續航力強，牙刷頭太小 \n",
      "\n",
      "3 季節性銷售價格漲價，基座不如舊版好，馬達噪音大。 \n",
      "\n"
     ]
    }
   ],
   "source": [
    "for i in range(len(reviews)):\n",
    "    prompt = f\"\"\"\n",
    "    你的任務是從電子商務網站上生成產品評論的簡短摘要。\n",
    "\n",
    "    將下面由三個反引號分隔的評論摘要化，最多不超過20個詞。\n",
    "\n",
    "    評論： ```{reviews_2[i]}```\n",
    "    \"\"\"\n",
    "\n",
    "    response = get_completion(prompt)\n",
    "    print(i, response, \"\\n\")\n"
   ]
  },
  {
   "cell_type": "markdown",
   "metadata": {
    "id": "cW1K3xZMOowK"
   },
   "source": [
    "## Try experimenting on your own!"
   ]
  }
 ],
 "metadata": {
  "colab": {
   "authorship_tag": "ABX9TyPltBBH2LdjOVQxwlRE/QcV",
   "provenance": []
  },
  "kernelspec": {
   "display_name": "Python 3 (ipykernel)",
   "language": "python",
   "name": "python3"
  },
  "language_info": {
   "codemirror_mode": {
    "name": "ipython",
    "version": 3
   },
   "file_extension": ".py",
   "mimetype": "text/x-python",
   "name": "python",
   "nbconvert_exporter": "python",
   "pygments_lexer": "ipython3",
   "version": "3.9.6"
  }
 },
 "nbformat": 4,
 "nbformat_minor": 1
}
