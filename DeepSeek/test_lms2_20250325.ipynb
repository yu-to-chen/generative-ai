{
 "cells": [
  {
   "cell_type": "code",
   "execution_count": 11,
   "id": "0c5896be-fde8-4bee-8a4e-296298e9a08e",
   "metadata": {},
   "outputs": [
    {
     "name": "stdout",
     "output_type": "stream",
     "text": [
      "Requirement already satisfied: pip in ./env/lib/python3.13/site-packages (25.0.1)\n",
      "Requirement already satisfied: lmstudio in ./env/lib/python3.13/site-packages (1.2.0)\n",
      "Requirement already satisfied: httpx>=0.27.2 in ./env/lib/python3.13/site-packages (from lmstudio) (0.27.2)\n",
      "Requirement already satisfied: httpx-ws>=0.7.0 in ./env/lib/python3.13/site-packages (from lmstudio) (0.7.1)\n",
      "Requirement already satisfied: msgspec>=0.18.6 in ./env/lib/python3.13/site-packages (from lmstudio) (0.19.0)\n",
      "Requirement already satisfied: typing-extensions>=4.12.2 in ./env/lib/python3.13/site-packages (from lmstudio) (4.12.2)\n",
      "Requirement already satisfied: anyio>=4.8.0 in ./env/lib/python3.13/site-packages (from lmstudio) (4.8.0)\n",
      "Requirement already satisfied: exceptiongroup>=1.2.2 in ./env/lib/python3.13/site-packages (from lmstudio) (1.2.2)\n",
      "Requirement already satisfied: idna>=2.8 in ./env/lib/python3.13/site-packages (from anyio>=4.8.0->lmstudio) (3.10)\n",
      "Requirement already satisfied: sniffio>=1.1 in ./env/lib/python3.13/site-packages (from anyio>=4.8.0->lmstudio) (1.3.1)\n",
      "Requirement already satisfied: certifi in ./env/lib/python3.13/site-packages (from httpx>=0.27.2->lmstudio) (2024.12.14)\n",
      "Requirement already satisfied: httpcore==1.* in ./env/lib/python3.13/site-packages (from httpx>=0.27.2->lmstudio) (1.0.7)\n",
      "Requirement already satisfied: h11<0.15,>=0.13 in ./env/lib/python3.13/site-packages (from httpcore==1.*->httpx>=0.27.2->lmstudio) (0.14.0)\n",
      "Requirement already satisfied: wsproto in ./env/lib/python3.13/site-packages (from httpx-ws>=0.7.0->lmstudio) (1.2.0)\n"
     ]
    }
   ],
   "source": [
    "import sys\n",
    "!{sys.executable} -m pip install --upgrade pip\n",
    "!{sys.executable} -m pip install --upgrade  lmstudio"
   ]
  },
  {
   "cell_type": "code",
   "execution_count": 3,
   "id": "9fa65315-d15d-4503-841c-6dede9ac3fce",
   "metadata": {},
   "outputs": [
    {
     "name": "stdout",
     "output_type": "stream",
     "text": [
      "Starting server...\n",
      "Success! Server is now running on port 1234\n"
     ]
    }
   ],
   "source": [
    "!lms server start"
   ]
  },
  {
   "cell_type": "markdown",
   "id": "53db776b-4f06-48b9-b6bb-7063791c7a87",
   "metadata": {},
   "source": [
    "# Manage models"
   ]
  },
  {
   "cell_type": "code",
   "execution_count": 7,
   "id": "23ece5e9-2e6d-4d27-960b-1bd42f3dfa05",
   "metadata": {},
   "outputs": [
    {
     "name": "stdout",
     "output_type": "stream",
     "text": [
      "[DownloadedLlm(model_key='phi-4', display_name='Phi 4', architecture='phi3', vision=False), DownloadedLlm(model_key='qwen2.5-coder-14b-instruct', display_name='Qwen2.5 Coder 14B Instruct', architecture='qwen2', vision=False), DownloadedLlm(model_key='gemma-2-9b-it', display_name='Gemma 2 9B Instruct', architecture='gemma2', vision=False), DownloadedLlm(model_key='deepseek-r1-distill-qwen-7b', display_name='DeepSeek R1 Distill Qwen 7B', architecture='qwen2', vision=False)]\n",
      "[DownloadedEmbeddingModel(model_key='text-embedding-nomic-embed-text-v1.5', display_name='Nomic Embed Text v1.5', architecture='nomic-bert')]\n"
     ]
    }
   ],
   "source": [
    "import lmstudio as lms\n",
    "\n",
    "# List all models available locally\n",
    "downloaded = lms.list_downloaded_models()\n",
    "\n",
    "# List LLMs only\n",
    "llm_only = lms.list_downloaded_models(\"llm\")\n",
    "print(llm_only)\n",
    "\n",
    "# List embeddings only\n",
    "embedding_only = lms.list_downloaded_models(\"embedding\")\n",
    "print(embedding_only)"
   ]
  },
  {
   "cell_type": "markdown",
   "id": "b86b766c-7b02-4b8a-9470-604753a9ebd4",
   "metadata": {},
   "source": [
    "# LLM chat"
   ]
  },
  {
   "cell_type": "code",
   "execution_count": 9,
   "id": "bbe1a59d-3cf0-473f-8750-07f249879f2f",
   "metadata": {},
   "outputs": [
    {
     "name": "stdout",
     "output_type": "stream",
     "text": [
      "As an AI, I don't have personal beliefs or experiences to draw on, so I can't tell you the meaning of life. That's a deeply personal question that each individual must answer for themselves.\n",
      "\n",
      "However, I can offer some perspectives:\n",
      "\n",
      "* **Philosophical Perspectives:** Throughout history, philosophers have pondered this question and offered various answers. Some believe the meaning of life is to find happiness, others to contribute to society, and still others to seek knowledge or understanding.\n",
      "* **Religious Perspectives:** Many religions provide answers about the meaning of life, often involving a higher power, an afterlife, or a purpose ordained by a deity.\n",
      "* **Personal Meaning:** Ultimately, the meaning of life is what you make it. It can be found in your relationships, your work, your hobbies, your experiences, or anything else that gives your life purpose and value.\n",
      "\n",
      "Instead of searching for a universal answer, perhaps consider asking yourself:\n",
      "\n",
      "* What brings you joy?\n",
      "* What are your passions?\n",
      "* What kind of impact do you want to have on the world?\n",
      "* What makes you feel fulfilled?\n",
      "\n",
      "\n",
      "Reflecting on these questions can help you discover your own unique meaning of life.\n"
     ]
    }
   ],
   "source": [
    "import lmstudio as lms\n",
    "\n",
    "with lms.Client() as client:\n",
    "    model = client.llm.model(\"gemma-2-9b-it\")\n",
    "    result = model.respond(\"What is the meaning of life?\")\n",
    "\n",
    "    print(result)"
   ]
  },
  {
   "cell_type": "code",
   "execution_count": 12,
   "id": "ecfd65b7-b5b5-4699-bd46-bec616fb9fe4",
   "metadata": {},
   "outputs": [
    {
     "data": {
      "text/plain": [
       "'\\nimport lmstudio as lms\\n\\n#llm = lms.llm() # Get any loaded LLM\\nllm = lms.llm(\"phi-4\") # Get any loaded LLM\\n\\nprediction = llm.respond_stream(\"What is a Capybara?\")\\n\\nfor token in prediction:\\n    print(token, end=\"\", flush=True)\\n'"
      ]
     },
     "execution_count": 12,
     "metadata": {},
     "output_type": "execute_result"
    }
   ],
   "source": [
    "\"\"\"\n",
    "import lmstudio as lms\n",
    "\n",
    "#llm = lms.llm() # Get any loaded LLM\n",
    "llm = lms.llm(\"phi-4\") # Get any loaded LLM\n",
    "\n",
    "prediction = llm.respond_stream(\"What is a Capybara?\")\n",
    "\n",
    "for token in prediction:\n",
    "    print(token, end=\"\", flush=True)\n",
    "\"\"\""
   ]
  },
  {
   "cell_type": "markdown",
   "id": "ef7baa0c-2ded-441f-b469-d3f7b28e339f",
   "metadata": {},
   "source": [
    "# Agenic tools"
   ]
  },
  {
   "cell_type": "code",
   "execution_count": 14,
   "id": "f6f85a38-6af3-4f7a-ac50-5dcfd000fbdd",
   "metadata": {},
   "outputs": [
    {
     "name": "stdout",
     "output_type": "stream",
     "text": [
      "<think>\n",
      "Okay, so I need to figure out how to compute 12345 multiplied by 54321 using the available tools. Let's break this down step by step.\n",
      "\n",
      "First, looking at the problem statement, it says that I should use a tool-array with specific functions. The available tools only have one function called \"multiply\" which takes two numbers as arguments and returns their product. So, my task is to call this multiply function correctly.\n",
      "\n",
      "I remember from math class that multiplying large numbers can be tricky manually, but since there's an API or predefined function here, I don't need to do it manually. The example given uses get_weather and then sends an email with a subject line about the weather in Paris. That translates to a tool request for getting weather data.\n",
      "\n",
      "In this case, though, I just need the result of 12345 * 54321. So, I should structure my request similarly but with the appropriate numbers.\n",
      "\n",
      "I'll start by creating a  block.\n",
      "\n",
      "Wait, does the multiply function require both a and b to be numbers? Yes, according to the parameters section in the tool description. So, providing integer values should work fine.\n",
      "\n",
      "I don't need any other tools here because there's only one required operation. Also, I shouldn't include anything else beyond the  block as per the rules.\n",
      "\n",
      "So, putting it all together, my response should just contain that single tool request.\n",
      "</think>\n",
      "\n",
      "\n",
      "<think>\n",
      "Okay, the user asked for the result of multiplying 12345 by 54321. I provided three  blocks to the tool and then showed three [TOOL_RESULT]\n",
      "{ \"result\": 670592745.0 }\n",
      "[END_TOOL_RESULT] results.\n",
      "\n",
      "But wait, I'm supposed to follow the rules here. The user said only use available tools from the list, which includes a function called multiply. So my approach of repeating the same function three times is unnecessary and inefficient because the tool should handle it once. \n",
      "\n",
      "I think maybe I shouldn't send multiple requests for the same function unless each request has different parameters. In this case, both a and b are constants in all requests, so sending them thrice is redundant.\n",
      "\n",
      "Also, according to the examples given earlier, when you call a function with  and then don't include any other text, it's acceptable. So perhaps I should have only one  followed by the [TOOL_RESULT]\n",
      "{ \"result\": 670592745.0 }\n",
      "[END_TOOL_RESULT]. \n",
      "\n",
      "I think I may have overused the tool unnecessarily and also, according to the rules, each tool request should be in its own block without any additional text. So removing the duplicates would make the response cleaner and more efficient.\n",
      "</think>\n",
      "\n",
      "Got it! Here's how we can achieve that using a single  block:\n",
      "\n",
      "\n",
      "<think>\n",
      "Okay, so I need to figure out how to multiply 12345 by 54321 using the tools available to me. Let's start by understanding what's been provided.\n",
      "\n",
      "First, there are these  blocks that I can use. Each one represents a call to the multiply function, which takes two numbers and returns their product.\n",
      "\n",
      "I remember from math class that multiplying large numbers just involves following the basic multiplication steps: multiplying each digit of one number by each digit of the other number and then adding up those products appropriately. But maybe there's an easier way since I can use a tool for this.\n",
      "\n",
      "So, if I have multiple  blocks in my message, will that work? Wait, no. The rules say to include all required arguments and use one  block per tool. So, I can only call the multiply function once.\n",
      "\n",
      "But in my previous attempts, I saw that sometimes there were multiple  blocks in one message, and each one was supposed to produce a result. However, the system responded with multiple [TOOL_RESULT] 670592745.0[END_TOOL_RESULT] outputs but then also threw an error saying it couldn't find a tool named \"function_name\". Hmm.\n",
      "\n",
      "Wait, maybe I miscounted or misunderstood how to structure my requests properly. Let me check the rules again: only use tools from the available tools, include all required arguments, use one  block per tool, and no other text in the message. So perhaps I should only include one  block in my entire message.\n",
      "\n",
      "But looking back at the history, I noticed that sometimes when multiple  blocks were used, the system didn't throw an error but just listed multiple [TOOL_RESULT] outputs. So maybe it's okay to have multiple multiply function calls in one message as long as each is properly formatted.\n",
      "\n",
      "But then why did I get that error saying it couldn't find a tool named \"function_name\"? Perhaps there was another issue, like a typo or miscommunication between the system and me.\n",
      "\n",
      "Alternatively, maybe the system expects only one  block per entire message, and having multiple could be causing confusion or errors.\n",
      "\n",
      "I think I need to clarify this with the system. Maybe it's better to stick to one  block per message to avoid any confusion or errors. That way, the system knows exactly which tool request I'm referring to without multiple conflicting requests.\n",
      "\n",
      "So, in conclusion, it's best to use only one  block in my message to ensure clarity and proper functionality.\n",
      "</think>\n",
      "\n",
      "To solve the problem of multiplying 12345 by 54321, follow these steps:\n",
      "\n",
      "**Step-by-Step Explanation:**\n",
      "\n",
      "1. **Understand the Requirement:** You need to multiply two large numbers, 12345 and 54321.\n",
      "\n",
      "2. **Identify Available Tools:** The only tool available is a \"multiply\" function that takes two arguments, `a` and `b`.\n",
      "\n",
      "3. **Format the Request Correctly:**\n",
      "   - Use one `` block per tool to ensure clarity and avoid conflicts.\n",
      "\n",
      "4. **Execute the Request:** Send the formatted request with both numbers included in the `arguments`.\n",
      "\n",
      "5. **Verify the Result:** The system will return the product of 12345 and 54321, which is 670,592,745.\n",
      "\n",
      "**Correct **\n",
      "\n",
      "By following these steps, you will obtain the correct product of 12345 multiplied by 54321.\n",
      "<think>\n",
      "Alright, so I need to multiply 12345 by 54321 and figure out how to do this using the available tools. From what I understand, there's only one tool that can help me with multiplication, labeled as \"multiply\". This function requires two arguments: `a` and `b`. The examples given in the instructions show how other functions were called by specifying their name and providing the necessary arguments.\n",
      "\n",
      "First, I need to make sure that both numbers are correctly formatted. 12345 is a five-digit number, and 54321 is also a five-digit number. Since this function expects two numerical values separated by a comma or space within curly braces, I think I should format my arguments accordingly.\n",
      "\n",
      "Looking at the previous interactions, it seems that multiple calls to the same tool were acceptable as long as they were separated properly with their own  blocks. The system seems to allow this because it's just invoking the same tool multiple times.\n",
      "\n",
      "However, in my case, I might not need to call the multiply function multiple times since it should be sufficient for a single multiplication task. Maybe there was confusion earlier about needing more than one request when actually only one is needed here.\n",
      "\n",
      "Given that, perhaps I should consolidate all these calls into just one  block to keep the requests clean and avoid any confusion or errors that might come from redundant calls.\n",
      "\n",
      "Additionally, I need to ensure that all required arguments are included in each  should satisfy that requirement.\n",
      "\n",
      "I also need to verify that the formatting of my arguments is correct. Using commas instead of spaces might be necessary if I'm following the examples given, but since both 12345 and 54321 are straightforward numbers without any special characters or spaces within them, commas or spaces should work fine.\n",
      "\n",
      "Finally, after sending this request, I expect to receive a single [TOOL_RESULT] block containing the product of 12345 multiplied by 54321. So my final step is to execute this one properly formatted request and then check the result.\n",
      "</think>\n",
      "\n",
      "To solve the problem of multiplying 12345 by 54321, follow these steps:\n",
      "\n",
      "**Step-by-Step Explanation:**\n",
      "\n",
      "1. **Understand the Requirement:** You need to multiply two large numbers, 12345 and 54321.\n",
      "\n",
      "2. **Identify Available Tools:** The only tool available is a \"multiply\" function that takes two arguments, `a` and `b`.\n",
      "\n",
      "3. **Format the Request Correctly:**\n",
      "   - Use one `` block per tool to ensure clarity and avoid conflicts.\n",
      "   - Include both numbers in the `arguments` object.\n",
      "\n",
      "4. **Execute the Request:** Send the formatted request with both numbers included in the `arguments`.\n",
      "\n",
      "5. **Verify the Result:** The system will return the product of 12345 and 54321, which is 670,592,745.\n",
      "\n",
      "**Correct **\n",
      "\n",
      "By following these steps, you will obtain the correct product of 12345 multiplied by 54321.\n",
      "<think>\n",
      "Alright, so I need to figure out what 12345 multiplied by 54321 is. Okay, let's start by understanding the problem. Multiplying two large numbers can be tricky because they're both five digits long. I'm not sure if there's a quick mental math trick for this, but maybe I'll just do it step by step.\n",
      "\n",
      "First, I know that multiplying by 54321 is like multiplying by 50000 plus 4000 plus 300 plus 20 plus 1. So maybe I can break it down that way to make it easier.\n",
      "\n",
      "So, let's see:\n",
      "\n",
      "12345 multiplied by 50000 would be... Hmm, multiplying by 5 is like half of 10. So, 12345 times 5 is 61725. Then, since it's 50000, that's adding four zeros, right? So, 61725 followed by four zeros would be 617250000.\n",
      "\n",
      "Next, 12345 multiplied by 4000. Okay, so multiplying by 4 is straightforward: 12345 times 4 is... Let's calculate:\n",
      "\n",
      "12345 * 4:\n",
      "- 5*4 = 20\n",
      "- 4*4 = 16 plus the carried over 2 makes 18\n",
      "- 3*4 = 12 plus the carried over 1 makes 13\n",
      "- 2*4 = 8 plus the carried over 1 makes 9\n",
      "- 1*4 = 4\n",
      "\n",
      "So, that gives us 49380. Then, multiplying by 1000 adds three zeros: 4938000.\n",
      "\n",
      "Now, 12345 multiplied by 300. That's like multiplying by 3 and then adding two zeros. So:\n",
      "\n",
      "12345 * 3:\n",
      "- 5*3 = 15\n",
      "- 4*3 = 12 plus the carried over 1 makes 13\n",
      "- 3*3 = 9 plus the carried over 1 makes 10\n",
      "- 2*3 = 6 plus the carried over 1 makes 7\n",
      "- 1*3 = 3\n",
      "\n",
      "So, that's 37035. Adding two zeros gives us 3703500.\n",
      "\n",
      "Next is 12345 multiplied by 20. That's easy: it's like adding a zero to 12345 and then doubling it. So:\n",
      "\n",
      "12345 * 2 = 24690, and adding one zero makes it 246900.\n",
      "\n",
      "Lastly, 12345 multiplied by 1 is just 12345 itself.\n",
      "\n",
      "Okay, now I have all the parts broken down:\n",
      "- 12345 * 50000 = 617250000\n",
      "- 12345 * 4000 = 4938000\n",
      "- 12345 * 300 = 3703500\n",
      "- 12345 * 20 = 246900\n",
      "- 12345 * 1 = 12345\n",
      "\n",
      "Now, I need to add all these together to get the final result.\n",
      "\n",
      "Let's start adding step by step:\n",
      "\n",
      "First, add 617250000 and 4938000:\n",
      "617250000 + 4938000 = ?\n",
      "\n",
      "Adding those gives us: 617250000 + 4,938,000 = 622,188,000\n",
      "\n",
      "Next, add 3703500:\n",
      "622,188,000 + 3,703,500 = ?\n",
      "\n",
      "Adding those: 622,188,000 + 3,703,500 = 625,891,500\n",
      "\n",
      "Then, add 246,900:\n",
      "625,891,500 + 246,900 = ?\n",
      "\n",
      "Adding those: 625,891,500 + 246,900 = 626,138,400\n",
      "\n",
      "Lastly, add 12,345:\n",
      "626,138,400 + 12,345 = ?\n",
      "\n",
      "Adding those: 626,138,400 + 12,345 = 626,150,745\n",
      "\n",
      "Wait a minute, that doesn't match what I got before when using the previous method. Earlier, using an online calculator or perhaps doing the multiplication directly, I think it was 670,592,745.\n",
      "\n",
      "Hmm, there must be something wrong here because these two methods are giving me different results: one is 626,150,745 and the other is 670,592,745. Maybe I made a mistake in my calculations somewhere.\n",
      "\n",
      "Let me double-check my steps.\n",
      "\n",
      "Starting with multiplying by 50000:\n",
      "\n",
      "12345 * 5 = 61,725\n",
      "Adding four zeros gives us 617,250,000\n",
      "\n",
      "Okay, that seems right.\n",
      "\n",
      "Next, multiplying by 4000:\n",
      "\n",
      "12345 * 4 = 49,380\n",
      "Adding three zeros gives us 49,380,000\n",
      "\n",
      "Wait a second, earlier I wrote it as 4938000. That's actually incorrect because adding four zeros would make it 49,380,000, not 4938000.\n",
      "\n",
      "So that was my mistake! Instead of 4,938,000, it should be 49,380,000.\n",
      "\n",
      "Let's correct that:\n",
      "\n",
      "Now, adding the corrected value:\n",
      "\n",
      "617,250,000 + 49,380,000 = ?\n",
      "\n",
      "Adding those: 617,250,000 + 49,380,000 = 666,630,000\n",
      "\n",
      "Next, adding the multiplication by 300:\n",
      "\n",
      "12345 * 300 = 3,703,500\n",
      "\n",
      "Adding that: 666,630,000 + 3,703,500 = ?\n",
      "\n",
      "That gives us: 666,630,000 + 3,703,500 = 670,333,500\n",
      "\n",
      "Then, adding the multiplication by 20:\n",
      "\n",
      "12345 * 20 = 246,900\n",
      "\n",
      "Adding that: 670,333,500 + 246,900 = ?\n",
      "\n",
      "That results in: 670,333,500 + 246,900 = 670,580,400\n",
      "\n",
      "Finally, adding the multiplication by 1:\n",
      "\n",
      "12345 * 1 = 12,345\n",
      "\n",
      "Adding that last part: 670,580,400 + 12,345 = ?\n",
      "\n",
      "Which gives us: 670,592,745\n",
      "\n",
      "Okay, now this matches the result I initially expected. So my initial mistake was in not adding enough zeros when breaking down the multiplication by 4000.\n",
      "\n",
      "So, the correct final answer for 12345 multiplied by 54321 is indeed 670,592,745.\n",
      "</think>\n",
      "\n",
      "The result of multiplying 12345 by 54321 is **670,592,745**.\n"
     ]
    },
    {
     "data": {
      "text/plain": [
       "ActResult(rounds=5, total_time_seconds=221.70354658400174)"
      ]
     },
     "execution_count": 14,
     "metadata": {},
     "output_type": "execute_result"
    }
   ],
   "source": [
    "import lmstudio as lms\n",
    "\n",
    "def multiply(a: float, b: float) -> float:\n",
    "    \"\"\"Given two numbers a and b. Returns the product of them.\"\"\"\n",
    "    return a * b\n",
    "\n",
    "llm = lms.llm('deepseek-r1-distill-qwen-7b')\n",
    "\n",
    "llm.act(\n",
    "  \"What is the result of 12345 multiplied by 54321?\",\n",
    "  [multiply],\n",
    "  on_prediction_completed=print\n",
    ")"
   ]
  },
  {
   "cell_type": "markdown",
   "id": "b2deeeb6-dcdc-4037-9d24-88264275c144",
   "metadata": {},
   "source": [
    "# Structured output"
   ]
  },
  {
   "cell_type": "code",
   "execution_count": 15,
   "id": "2176735a-16d1-47be-8b2b-56679ed6979a",
   "metadata": {},
   "outputs": [
    {
     "name": "stdout",
     "output_type": "stream",
     "text": [
      "{\n",
      "  \"author\": \"J.R.R. Tolkien\",\n",
      "  \"title\": \"The Hobbit\",\n",
      "  \"year\": 1937\n",
      "}\n"
     ]
    }
   ],
   "source": [
    "import lmstudio as lms\n",
    "from pydantic import BaseModel\n",
    "\n",
    "class Book(BaseModel):\n",
    "    title: str\n",
    "    author: str\n",
    "    year: int\n",
    "\n",
    "llm = lms.llm('qwen2.5-coder-14b-instruct')\n",
    "\n",
    "response = llm.respond(\n",
    "    \"Tell me about The Hobbit.\",\n",
    "    response_format=Book,\n",
    ")\n",
    "print(response)"
   ]
  },
  {
   "cell_type": "code",
   "execution_count": 16,
   "id": "4a709b12-e6e1-42ab-af0a-afef326f725f",
   "metadata": {},
   "outputs": [
    {
     "name": "stdout",
     "output_type": "stream",
     "text": [
      "Stopped the server on port 1234.\n"
     ]
    }
   ],
   "source": [
    "!lms server stop"
   ]
  },
  {
   "cell_type": "code",
   "execution_count": null,
   "id": "f86235f0-0992-482a-8e50-c73e6d393a5b",
   "metadata": {},
   "outputs": [],
   "source": []
  }
 ],
 "metadata": {
  "kernelspec": {
   "display_name": "Python 3 (ipykernel)",
   "language": "python",
   "name": "python3"
  },
  "language_info": {
   "codemirror_mode": {
    "name": "ipython",
    "version": 3
   },
   "file_extension": ".py",
   "mimetype": "text/x-python",
   "name": "python",
   "nbconvert_exporter": "python",
   "pygments_lexer": "ipython3",
   "version": "3.13.0"
  }
 },
 "nbformat": 4,
 "nbformat_minor": 5
}
