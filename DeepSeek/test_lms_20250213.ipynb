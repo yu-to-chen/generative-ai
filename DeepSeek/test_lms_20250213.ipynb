{
 "cells": [
  {
   "cell_type": "code",
   "execution_count": 15,
   "id": "f03da084-6ea3-4bc8-aef1-029b99c9ed6f",
   "metadata": {},
   "outputs": [
    {
     "name": "stdout",
     "output_type": "stream",
     "text": [
      "Starting server...\n",
      "Success! Server is now running on port 1234\n"
     ]
    }
   ],
   "source": [
    "!lms server start"
   ]
  },
  {
   "cell_type": "code",
   "execution_count": 5,
   "id": "72851d57-a250-4859-9af1-1fd93a6ee839",
   "metadata": {},
   "outputs": [
    {
     "name": "stdout",
     "output_type": "stream",
     "text": [
      "Requirement already satisfied: pip in /opt/homebrew/Cellar/jupyterlab/4.2.5_1/libexec/lib/python3.12/site-packages (25.0)\n",
      "Collecting pip\n",
      "  Downloading pip-25.0.1-py3-none-any.whl.metadata (3.7 kB)\n",
      "Downloading pip-25.0.1-py3-none-any.whl (1.8 MB)\n",
      "\u001b[2K   \u001b[90m━━━━━━━━━━━━━━━━━━━━━━━━━━━━━━━━━━━━━━━━\u001b[0m \u001b[32m1.8/1.8 MB\u001b[0m \u001b[31m2.0 MB/s\u001b[0m eta \u001b[36m0:00:00\u001b[0ma \u001b[36m0:00:01\u001b[0m\n",
      "\u001b[?25hInstalling collected packages: pip\n",
      "  Attempting uninstall: pip\n",
      "    Found existing installation: pip 25.0\n",
      "    Uninstalling pip-25.0:\n",
      "      Successfully uninstalled pip-25.0\n",
      "Successfully installed pip-25.0.1\n",
      "Collecting markdown\n",
      "  Downloading Markdown-3.7-py3-none-any.whl.metadata (7.0 kB)\n",
      "Downloading Markdown-3.7-py3-none-any.whl (106 kB)\n",
      "Installing collected packages: markdown\n",
      "Successfully installed markdown-3.7\n"
     ]
    }
   ],
   "source": [
    "import sys\n",
    "!{sys.executable} -m pip install --upgrade pip\n",
    "!{sys.executable} -m pip install markdown"
   ]
  },
  {
   "cell_type": "code",
   "execution_count": 1,
   "id": "691d1121-29ed-43a4-8c2a-a9033c747053",
   "metadata": {},
   "outputs": [
    {
     "name": "stdout",
     "output_type": "stream",
     "text": [
      "ChatCompletionMessage(content='<think>\\nAlright, so I need to respond to the user\\'s query about introducing themselves using rhymes. The user provided an example rhyme and a detailed thought process, which is helpful.\\n\\nFirst, I should understand what the user is asking for. They want me to act as if I\\'m responding to their message with a rhyme that introduces myself. But since they mentioned \"please always answer in rhymes,\" it\\'s clear that my responses need to be poetic rather than straightforward.\\n\\nLooking at the example given:\\n\\nI am a poem, so precise,\\nA rhythmic flow, no pause.\\nWhispers of words, I weave,\\nA literary scene, I create.\\n\\nThis structure is consistent: each line starts with \"I am\" and follows a four-beat rhythm. Each stanza introduces different aspects of what I can do—whispering words, creating literature.\\n\\nSo for my introduction, I should follow the same pattern but come up with something unique. Maybe mention my ability to speak in verse or create stories.\\n\\nLet me think about some rhyme words related to literature and speech: verse, rhyme, story, tale, pen, ink, words, tales...\\n\\nI can start with \"I am a poet, the words I hold,\" then continue with the flow of thought process. Each stanza should have four lines, each line having a similar syllable count.\\n\\nWait, in the example, they used \"four-beat\" rhythm but didn\\'t specify syllables per line. Maybe keeping it simple and consistent is key for readability.\\n\\nAlternatively, I can make sure each line has about 8-10 syllables to maintain a smooth flow. Let me try drafting:\\n\\nI am a poet, the words I hold,\\nA mind that weaves, both light and bold.\\nWhispers of tales, from the past divine,\\nA story born, where imagination\\'s free.\\n\\nDoes this follow the structure? Each line is concise but descriptive. The first stanza introduces being a poet with words held in my grasp. The second stanza talks about weaving stories, comparing to something gentle yet powerful like light and bold. The third stanza brings in \"tales\" and mentions past divine, suggesting ancient stories or something profound. The last line offers freedom in storytelling.\\n\\nI think this works but maybe it\\'s a bit abstract. Let me try another angle, focusing more on creativity:\\n\\nI am a rhyme, the words I spin,\\nA melody that takes your mind.\\nFrom hearts to souls, my verses kindle bright,\\nA fire of stories told, I can\\'t hide.\\n\\nThis emphasizes being a creator (rhyme), spinning tales with melody, and engaging the soul. The last line suggests that my stories are not hidden but active in people\\'s minds.\\n\\nComparing both, maybe the first one is more about creativity and holding words, while the second focuses on the act of spinning and engaging. Both follow the rhyme scheme but convey different aspects.\\n\\nI think I\\'ll go with the first version because it highlights being a poet who holds and weaves stories, which covers introduction well.\\n</think>\\n\\nI am a poet, the words I hold,  \\nA mind that weaves, both light and bold.  \\nWhispers of tales, from the past divine,  \\nA story born, where imagination\\'s free.', refusal=None, role='assistant', audio=None, function_call=None, tool_calls=None)\n"
     ]
    }
   ],
   "source": [
    "# Example: reuse your existing OpenAI setup\n",
    "from openai import OpenAI\n",
    "\n",
    "# Point to the local server\n",
    "client = OpenAI(base_url=\"http://localhost:1234/v1\", api_key=\"lm-studio\")\n",
    "\n",
    "completion = client.chat.completions.create(\n",
    "  model=\"model-identifier\",\n",
    "  messages=[\n",
    "    {\"role\": \"system\", \"content\": \"Always answer in rhymes.\"},\n",
    "    {\"role\": \"user\", \"content\": \"Introduce yourself.\"}\n",
    "  ],\n",
    "  temperature=0.7,\n",
    ")\n",
    "\n",
    "print(completion.choices[0].message)\n"
   ]
  },
  {
   "cell_type": "code",
   "execution_count": 13,
   "id": "6cfa18a5-bd8d-4dce-ad82-e23049bb6853",
   "metadata": {},
   "outputs": [
    {
     "name": "stdout",
     "output_type": "stream",
     "text": [
      "<p><think>\n",
      "Alright, so I need to respond to the user's query about introducing themselves using rhymes. The user provided an example rhyme and a detailed thought process, which is helpful.</p>\n",
      "<p>First, I should understand what the user is asking for. They want me to act as if I'm responding to their message with a rhyme that introduces myself. But since they mentioned \"please always answer in rhymes,\" it's clear that my responses need to be poetic rather than straightforward.</p>\n",
      "<p>Looking at the example given:</p>\n",
      "<p>I am a poem, so precise,\n",
      "A rhythmic flow, no pause.\n",
      "Whispers of words, I weave,\n",
      "A literary scene, I create.</p>\n",
      "<p>This structure is consistent: each line starts with \"I am\" and follows a four-beat rhythm. Each stanza introduces different aspects of what I can do—whispering words, creating literature.</p>\n",
      "<p>So for my introduction, I should follow the same pattern but come up with something unique. Maybe mention my ability to speak in verse or create stories.</p>\n",
      "<p>Let me think about some rhyme words related to literature and speech: verse, rhyme, story, tale, pen, ink, words, tales...</p>\n",
      "<p>I can start with \"I am a poet, the words I hold,\" then continue with the flow of thought process. Each stanza should have four lines, each line having a similar syllable count.</p>\n",
      "<p>Wait, in the example, they used \"four-beat\" rhythm but didn't specify syllables per line. Maybe keeping it simple and consistent is key for readability.</p>\n",
      "<p>Alternatively, I can make sure each line has about 8-10 syllables to maintain a smooth flow. Let me try drafting:</p>\n",
      "<p>I am a poet, the words I hold,\n",
      "A mind that weaves, both light and bold.\n",
      "Whispers of tales, from the past divine,\n",
      "A story born, where imagination's free.</p>\n",
      "<p>Does this follow the structure? Each line is concise but descriptive. The first stanza introduces being a poet with words held in my grasp. The second stanza talks about weaving stories, comparing to something gentle yet powerful like light and bold. The third stanza brings in \"tales\" and mentions past divine, suggesting ancient stories or something profound. The last line offers freedom in storytelling.</p>\n",
      "<p>I think this works but maybe it's a bit abstract. Let me try another angle, focusing more on creativity:</p>\n",
      "<p>I am a rhyme, the words I spin,\n",
      "A melody that takes your mind.\n",
      "From hearts to souls, my verses kindle bright,\n",
      "A fire of stories told, I can't hide.</p>\n",
      "<p>This emphasizes being a creator (rhyme), spinning tales with melody, and engaging the soul. The last line suggests that my stories are not hidden but active in people's minds.</p>\n",
      "<p>Comparing both, maybe the first one is more about creativity and holding words, while the second focuses on the act of spinning and engaging. Both follow the rhyme scheme but convey different aspects.</p>\n",
      "<p>I think I'll go with the first version because it highlights being a poet who holds and weaves stories, which covers introduction well.\n",
      "</think></p>\n",
      "<p>I am a poet, the words I hold,<br />\n",
      "A mind that weaves, both light and bold.<br />\n",
      "Whispers of tales, from the past divine,<br />\n",
      "A story born, where imagination's free.</p>\n"
     ]
    },
    {
     "data": {
      "text/html": [
       "<p><think>\n",
       "Alright, so I need to respond to the user's query about introducing themselves using rhymes. The user provided an example rhyme and a detailed thought process, which is helpful.</p>\n",
       "<p>First, I should understand what the user is asking for. They want me to act as if I'm responding to their message with a rhyme that introduces myself. But since they mentioned \"please always answer in rhymes,\" it's clear that my responses need to be poetic rather than straightforward.</p>\n",
       "<p>Looking at the example given:</p>\n",
       "<p>I am a poem, so precise,\n",
       "A rhythmic flow, no pause.\n",
       "Whispers of words, I weave,\n",
       "A literary scene, I create.</p>\n",
       "<p>This structure is consistent: each line starts with \"I am\" and follows a four-beat rhythm. Each stanza introduces different aspects of what I can do—whispering words, creating literature.</p>\n",
       "<p>So for my introduction, I should follow the same pattern but come up with something unique. Maybe mention my ability to speak in verse or create stories.</p>\n",
       "<p>Let me think about some rhyme words related to literature and speech: verse, rhyme, story, tale, pen, ink, words, tales...</p>\n",
       "<p>I can start with \"I am a poet, the words I hold,\" then continue with the flow of thought process. Each stanza should have four lines, each line having a similar syllable count.</p>\n",
       "<p>Wait, in the example, they used \"four-beat\" rhythm but didn't specify syllables per line. Maybe keeping it simple and consistent is key for readability.</p>\n",
       "<p>Alternatively, I can make sure each line has about 8-10 syllables to maintain a smooth flow. Let me try drafting:</p>\n",
       "<p>I am a poet, the words I hold,\n",
       "A mind that weaves, both light and bold.\n",
       "Whispers of tales, from the past divine,\n",
       "A story born, where imagination's free.</p>\n",
       "<p>Does this follow the structure? Each line is concise but descriptive. The first stanza introduces being a poet with words held in my grasp. The second stanza talks about weaving stories, comparing to something gentle yet powerful like light and bold. The third stanza brings in \"tales\" and mentions past divine, suggesting ancient stories or something profound. The last line offers freedom in storytelling.</p>\n",
       "<p>I think this works but maybe it's a bit abstract. Let me try another angle, focusing more on creativity:</p>\n",
       "<p>I am a rhyme, the words I spin,\n",
       "A melody that takes your mind.\n",
       "From hearts to souls, my verses kindle bright,\n",
       "A fire of stories told, I can't hide.</p>\n",
       "<p>This emphasizes being a creator (rhyme), spinning tales with melody, and engaging the soul. The last line suggests that my stories are not hidden but active in people's minds.</p>\n",
       "<p>Comparing both, maybe the first one is more about creativity and holding words, while the second focuses on the act of spinning and engaging. Both follow the rhyme scheme but convey different aspects.</p>\n",
       "<p>I think I'll go with the first version because it highlights being a poet who holds and weaves stories, which covers introduction well.\n",
       "</think></p>\n",
       "<p>I am a poet, the words I hold,<br />\n",
       "A mind that weaves, both light and bold.<br />\n",
       "Whispers of tales, from the past divine,<br />\n",
       "A story born, where imagination's free.</p>"
      ],
      "text/plain": [
       "<IPython.core.display.HTML object>"
      ]
     },
     "execution_count": 13,
     "metadata": {},
     "output_type": "execute_result"
    }
   ],
   "source": [
    "# Prettify the reasoning output\n",
    "import markdown\n",
    "from IPython.display import HTML\n",
    "\n",
    "def prettify_llm_response(text):\n",
    "    return markdown.markdown(text, extensions=['fenced_code'])\n",
    "\n",
    "formatted_content = prettify_llm_response(completion.choices[0].message.content)\n",
    "#print(formatted_content)\n",
    "HTML(formatted_content)\n"
   ]
  },
  {
   "cell_type": "code",
   "execution_count": 3,
   "id": "88a9734f-d3a8-4bb9-8e80-ffa9f255cdb3",
   "metadata": {},
   "outputs": [
    {
     "name": "stdout",
     "output_type": "stream",
     "text": [
      "[0.03432765603065491, 0.07103510946035385, -0.14666612446308136, -0.06570956856012344, 0.04235713183879852, 0.04680485278367996, -0.07071832567453384, 0.04280352219939232, 0.0037176241166889668, 0.020312458276748657, 0.00662276754155755, 0.03380786255002022, 0.06701193749904633, 0.044039517641067505, -0.061378490179777145, -0.08495615422725677, 0.03254641592502594, -0.03863365575671196, 0.03444722294807434, 0.06492260843515396, 0.010476712137460709, -0.031053872779011726, 0.0548676960170269, 0.020459003746509552, 0.011611199006438255, 0.034915339201688766, -0.03207654505968094, 0.053131528198719025, -0.009522167965769768, 0.005240566562861204, 0.02305544912815094, -0.03408362716436386, 0.0147190410643816, -0.04446408525109291, -0.013067593798041344, -0.02130211517214775, 0.08301473408937454, 0.010483339428901672, 0.052877362817525864, 0.04424082487821579, 0.02317955531179905, 0.042418770492076874, -0.038024403154850006, -0.025116918608546257, 0.04284922406077385, 0.04736081138253212, -0.0037768534384667873, -0.023970771580934525, -0.015117582865059376, 0.003481451189145446, -0.03591440990567207, -0.040544476360082626, -0.022643042728304863, -0.039491910487413406, 0.045765962451696396, 0.06916773319244385, 0.09297947585582733, -0.02004833333194256, -0.006719303783029318, 0.015316647477447987, 0.0688842236995697, 0.009761800058186054, 0.01348874345421791, 0.06435855478048325, 0.028983362019062042, -0.01770128682255745, -0.01720185950398445, 0.04068555682897568, -0.0011624176986515522, -0.030144883319735527, 0.055869653820991516, -0.039043668657541275, 0.03924092650413513, -0.020794153213500977, 0.00580831803381443, 0.02965022623538971, 0.042347103357315063, -0.0048707835376262665, -0.08003431558609009, 0.035442110151052475, 0.09406382590532303, -0.01353541761636734, 0.05810125172138214, -0.006725217215716839, 0.04391352832317352, 0.00473990710452199, -0.022492850199341774, 0.022334838286042213, -0.021848708391189575, 0.0499269999563694, -0.014170805923640728, 0.037443842738866806, 0.09102675318717957, 0.011602758429944515, -0.015891296789050102, -0.002713184105232358, -0.0302968081086874, -0.010717502795159817, -0.007851658388972282, -0.03690144792199135, -0.026271188631653786, -0.0013888591201975942, 0.01772233657538891, -0.018308410421013832, 0.025654688477516174, 0.09435567259788513, -0.04598916694521904, -0.040799830108881, -0.05253106728196144, -0.03376230597496033, -0.03085053525865078, -0.020647283643484116, -0.020575616508722305, -0.03096322901546955, -0.020052388310432434, 0.015077052637934685, 0.06921419501304626, -0.014635341241955757, 0.026494426652789116, 0.008983666077256203, -0.0349959135055542, -0.023468321189284325, -0.008127513341605663, 0.04829919710755348, -0.0009666283149272203, 0.0658484622836113, -0.01622224785387516, -0.030760997906327248, -0.002729986794292927, 0.018550431355834007, 0.0027051980141550303, 0.005675588734447956, 0.0029375033918768167, -0.020911158993840218, -0.022846100851893425, 0.06117501109838486, -0.01093402598053217, -0.04503268375992775, 0.07700522243976593, 0.06229139864444733, 0.09431331604719162, -0.021821672096848488, 0.002917577512562275, -0.0422302782535553, -0.015077858231961727, 0.00278759584762156, 0.05468574911355972, -0.05465630814433098, -0.0647851750254631, 0.030127648264169693, 0.02286411263048649, 0.029682457447052002, 0.011644965037703514, 0.07937708497047424, 0.01965378224849701, -0.04144808277487755, -0.02267610654234886, 0.032038841396570206, 0.02034241147339344, -0.0024961698800325394, 0.04864039644598961, 0.006828076206147671, -0.04737602546811104, -0.0036263209767639637, -0.023032935336232185, -0.032742615789175034, 0.06152881309390068, 0.03889930248260498, 0.03471914306282997, 0.03334798663854599, -0.01668558269739151, -0.04851448908448219, -0.03813695162534714, -0.02222440391778946, 0.039589062333106995, -0.004172123968601227, 0.04229126498103142, -0.036378368735313416, -0.015352738089859486, -0.04922671988606453, 0.016166169196367264, -0.033096812665462494, -0.05780433490872383, 0.043487198650836945, -0.000541158951818943, -0.005456142593175173, -0.06824792921543121, -0.05111299082636833, -0.012049023993313313, -0.05747882276773453, -0.0278786551207304, 0.03282545134425163, -0.026895184069871902, 0.01117251068353653, -0.013302749954164028, -0.03597467765212059, 0.04158646613359451, 0.05514702945947647, 0.0071398732252418995, -0.024582574144005775, -0.005388731602579355, 0.006112947128713131, -0.05917311832308769, 0.03844096511602402, -0.04815499112010002, 0.013208843767642975, -0.015507122501730919, 0.017364855855703354, 0.04664639011025429, -0.009431440383195877, 0.05731302127242088, 0.011112782172858715, -0.04374489188194275, -0.00010066088725579903, -0.02761228196322918, -0.02760273590683937, -0.052370745688676834, -0.026995327323675156, -0.04829009622335434, 0.027815019711852074, 0.032154131680727005, 0.01632614992558956, 0.026673778891563416, -0.03847133368253708, 0.058601465076208115, 0.01634870655834675, -0.019471561536192894, -0.010882798582315445, -0.08349143713712692, 0.01721297763288021, -0.03148848935961723, -0.0035443687811493874, 0.09123266488313675, -0.013392786495387554, 0.00864200759679079, 0.08628594130277634, 0.016396449878811836, -0.013431612402200699, 0.02599441073834896, -0.025745080783963203, -0.044747911393642426, 0.021021291613578796, -0.014169858768582344, -0.03447804972529411, -0.01299778837710619, -0.011440717615187168, 0.009358921088278294, -0.02486283704638481, 0.028817079961299896, 0.062248386442661285, -0.006414436735212803, 0.005621605087071657, 0.0058396924287080765, -0.01887376420199871, 0.023508775979280472, -0.04163939878344536, 0.031661007553339005, -0.026249323040246964, -0.03460245579481125, -0.047597695142030716, 0.019039126113057137, -0.07747498154640198, 0.020871855318546295, -0.06089991703629494, -0.016291286796331406, -0.03202734515070915, -0.03732064738869667, -0.019122473895549774, 0.0420105904340744, -0.02964656800031662, 0.04721610248088837, 0.03973318636417389, 0.059459276497364044, 0.009088830091059208, -0.011596531607210636, -0.0051075778901577, -0.02233991026878357, -0.03766582906246185, -0.0020949284080415964, 0.008925547823309898, 0.061688147485256195, -0.04504537209868431, -0.05553954094648361, 0.008697778917849064, -0.00596977723762393, 0.022417722269892693, 0.027177052572369576, -0.005780735984444618, 0.01786692440509796, 0.015980402007699013, -0.0033492909278720617, 0.018287813290953636, -0.023938603699207306, 0.03380213677883148, 0.02512473054230213, -0.0004600191314239055, 0.062077201902866364, 0.011411151848733425, -0.0015930087538436055, -0.003182889660820365, 0.005668888799846172, 0.015371209941804409, 0.035491496324539185, 0.0902210921049118, 0.0328628234565258, 0.007324268110096455, 0.04672156274318695, 0.015723807737231255, 0.06920506805181503, -0.015484879724681377, -0.03912360221147537, 0.010257928632199764, -0.022286470979452133, 0.033614855259656906, -0.09723592549562454, 0.010641559958457947, 0.0302843376994133, 0.017418785020709038, 0.0661693587899208, 0.01197388581931591, 0.010469104163348675, -0.024021677672863007, -0.009424545802175999, -0.033601269125938416, 0.03318987041711807, -0.02248724363744259, -0.01951265148818493, 0.022595828399062157, -0.0013984686229377985, -0.03891632333397865, -0.032491739839315414, 0.04251964017748833, -0.011979359202086926, -0.03386169672012329, -0.04312765970826149, -0.007768268696963787, 0.007048913277685642, 0.026185592636466026, -0.04178076237440109, 0.01965644396841526, 0.07297024130821228, -0.04004975035786629, 0.03326259180903435, -0.06760615110397339, 0.06600657105445862, -0.013194715604186058, -0.041527628898620605, 0.02432716079056263, 0.03125785291194916, 0.0014439948135986924, 0.0025909459218382835, -0.037538081407547, 0.01670442335307598, 0.06763707846403122, 0.01517722848802805, -0.002741578733548522, -0.000693415873683989, 0.012521142140030861, -0.05175482854247093, 0.015897195786237717, -0.0033102952875196934, -0.0387440025806427, -0.022198954597115517, -0.032823141664266586, 0.013148174621164799, 0.01385369710624218, 0.045902542769908905, 0.04703940078616142, 0.019550004974007607, 0.01979408599436283, -0.004760932642966509, -0.03993227332830429, 0.010809525847434998, 0.012729824520647526, 0.03814784064888954, 0.026564789935946465, -0.04525372385978699, -0.015603188425302505, -0.014349304139614105, 0.027322661131620407, 0.025895891711115837, -0.031999412924051285, -0.022133607417345047, 0.023832574486732483, 0.03288067877292633, 0.005913909990340471, 0.008589034900069237, 0.010374590754508972, -0.01674066111445427, -0.01692221499979496, 0.03975266218185425, -0.005949743557721376, -0.05055617168545723, -0.010823995806276798, 0.02688024379312992, 0.003456744598224759, 0.0481821671128273, -0.05791538953781128, -0.017063377425074577, 0.0008864451665431261, 0.004017459228634834, -0.02433115988969803, 0.013256285339593887, 0.01378694549202919, -0.039369646459817886, 0.057589512318372726, 0.024565111845731735, -0.06294688582420349, 0.0286610908806324, 0.04256737604737282, -0.013857902027666569, 0.0546380840241909, -0.001894018379971385, -0.04718846455216408, -0.03396305814385414, 0.053297996520996094, 0.027242206037044525, 0.04944543167948723, -0.0036719900090247393, 0.011858383193612099, -0.010945438407361507, 0.05404302850365639, -0.0016853059642016888, 0.040901076048612595, -0.0062271603383123875, 0.0044972896575927734, -0.007917648181319237, 0.025884345173835754, -0.02621481567621231, -0.07767543941736221, -0.011460746638476849, -0.00994905550032854, -0.012268193066120148, 0.03517052158713341, 0.03172217682003975, -0.04634654149413109, -0.020245904102921486, -0.03303557261824608, 0.023789074271917343, 0.021600816398859024, 0.04865939915180206, -0.05630063638091087, -0.033931173384189606, 0.024959716945886612, -0.01907583698630333, 0.04508461430668831, 0.03359485790133476, 0.009985852986574173, -0.0445130355656147, 0.01730671525001526, -0.08874509483575821, 0.02250814624130726, 0.0012758140219375491, 0.016169067472219467, 0.036118775606155396, -0.06382191181182861, -0.024699067696928978, 0.008244292810559273, -0.009480518288910389, 0.017135286703705788, 0.025320880115032196, 0.010167275555431843, -0.04465264454483986, 0.021520737558603287, 0.032224565744400024, -0.0061465962789952755, 0.0052065313793718815, -0.016162069514393806, -0.01401080284267664, 0.0448044128715992, -0.009908822365105152, 0.03941427171230316, -0.003585387021303177, -0.0009394570370204747, 0.006791019346565008, -0.029294384643435478, 0.019477346912026405, -0.02802160009741783, 0.018817918375134468, 0.059122484177351, -0.010622126050293446, -0.0007985334959812462, -0.013400491327047348, -0.04426410794258118, 0.011466145515441895, 0.0477544330060482, 0.00391347985714674, -0.008039562962949276, -0.002519124886021018, 0.017336346209049225, 0.008197952061891556, 0.007703052368015051, 0.0168963223695755, -0.051479533314704895, 0.009003539569675922, -0.0821179449558258, -0.011853418312966824, 0.03646793216466904, 0.05716845765709877, 0.013713272288441658, -0.035382963716983795, 0.04479086399078369, -0.05069775506854057, 0.02784019149839878, 0.06048820912837982, -0.007199055049568415, -0.058162011206150055, -0.0758601650595665, -0.036919668316841125, 0.01889500580728054, -0.032245293259620667, -0.004886495415121317, -0.01977870799601078, 0.03841925412416458, 0.10966461151838303, -0.03812704235315323, 0.04960377514362335, -0.01365608535706997, -0.022012770175933838, -0.0003820615238510072, -0.0056516872718930244, -0.02465756982564926, 0.004109230358153582, -0.02922477386891842, -0.025577818974852562, -0.047442320734262466, 0.021094506606459618, -0.05430595576763153, -0.03176025301218033, -0.02340739592909813, 0.05829395353794098, -0.002474382985383272, -0.05853496864438057, -0.014239368960261345, -0.032704681158065796, -0.0037516711745411158, -0.01694454625248909, -0.00018447442562319338, 0.03831195458769798, -0.022721577435731888, -0.038422584533691406, -0.027531005442142487, -0.02187321148812771, 0.02954668365418911, 0.005228499881923199, 0.0018044887110590935, -0.04122956097126007, 0.055014658719301224, 0.0156853124499321, -0.02587084285914898, 0.06102780997753143, -0.03901366889476776, -0.02529466152191162, -0.012039152905344963, 0.01504825334995985, -0.04610896855592728, -0.04707027226686478, 0.00671801483258605, -0.0203696358948946, -0.03795727342367172, 0.012861891649663448, -0.0001835422299336642, 0.029926447197794914, -0.02416469156742096, -0.05140860378742218, 0.04402223601937294, -0.01812444068491459, 0.0099550262093544, 0.028154345229268074, 0.023199412971735, 0.007501952350139618, -0.00779313500970602, -0.04579298570752144, -0.06123218685388565, 0.03232128918170929, -0.003286307444795966, 0.017026236280798912, 0.02235996723175049, -0.04600159823894501, -0.0898934081196785, 0.05305122584104538, -0.009390917606651783, -0.040908489376306534, -0.026645662263035774, -0.03601538762450218, -0.043810758739709854, -0.0779191181063652, -0.03647332265973091, 0.015583955682814121, -0.011238891631364822, 0.04674418270587921, 0.006084401626139879, -0.026433980092406273, -0.021556934341788292, -0.006141527555882931, 0.00294579123146832, -0.023988613858819008, -0.06556136906147003, 0.008007101714611053, -0.04947967082262039, -0.02034451812505722, 0.008229021914303303, 0.08470678329467773, -0.023994022980332375, -0.02836274541914463, 0.03637991100549698, 0.05542365461587906, 0.021097000688314438, -0.004587670788168907, -0.010151130147278309, 0.034566257148981094, 0.018424447625875473, -0.02950093150138855, -0.01718459092080593, 0.034960560500621796, -0.005376514978706837, 0.09319067001342773, -0.019020168110728264, -0.06519380956888199, 0.015056904405355453, -0.006448306143283844, -0.021697193384170532, -0.01902143843472004, 0.01756865344941616, 0.0025113753508776426, -0.0022465712390840054, -0.01737673394382, 0.004362991079688072, -0.008961213752627373, 0.01727587915956974, -0.011316336691379547, 0.012655908241868019, -0.05609646812081337, -0.018634987995028496, -0.009752273559570312, 0.028399217873811722, -0.02741483971476555, 0.026336494833230972, -0.0010692242067307234, -0.002630246104672551, 0.01610465720295906, 0.00777691463008523, -0.01789364032447338, 0.0017871565651148558, 0.020836349576711655, -0.010294543579220772, 0.07225234806537628, 0.0059435926377773285, 0.027880379930138588, -0.0604734793305397, 0.007797319907695055, 0.07693597674369812, -0.0161079503595829, 0.022405611351132393, 0.024651600047945976, -0.019610682502388954, 0.04527859017252922, -0.05274173989892006, -0.04959483444690704, -0.014185309410095215, -0.01650490052998066, -0.028953872621059418, -0.055012404918670654, 0.02317025698721409, 0.03861613944172859, -0.02623167261481285, 0.0008360811043530703, -0.06199308857321739, -0.0457976870238781, -0.015684176236391068, -0.014849946834146976, 0.0094122514128685, -0.02357332780957222, -0.04436042532324791, 0.023569345474243164, 0.04626646637916565, 0.011922819539904594, 0.08151897042989731, 0.025408104062080383, 0.019431428983807564, -0.007696156855672598, -0.012523292563855648, -0.014622251503169537, 0.006745685823261738, 0.008053424768149853, -0.12186490744352341, -0.0031165429390966892, -0.044519878923892975, 0.004820036236196756, -0.029876694083213806, 0.013024901039898396, -0.07473493367433548, 0.011614382266998291, -0.04085096716880798, -0.008523574098944664, -0.014944253489375114, 0.06849919259548187, 0.0049840910360217094, -0.06811752915382385, 0.054275888949632645, -0.03773771598935127, -0.005289046093821526, 0.02759847603738308, 0.033182814717292786, -0.004706400912255049, -0.005461298394948244, 0.009923851117491722, 0.042366430163383484, 0.024135513231158257, 0.018804293125867844, -0.017468594014644623, 0.017311198636889458, -0.011627275496721268, 0.0231676883995533, 0.0066653466783463955, -0.0418165922164917, -0.039826247841119766, -0.02066301926970482, -0.03653135895729065, 0.05735543742775917, 0.0396571159362793, 0.009096560068428516, -0.01219557411968708, -0.02541264332830906, 0.001752075389958918, 0.009251113049685955, 0.06026390939950943, -0.036232154816389084, 0.04471675306558609, 0.02122095227241516, 0.019565707072615623, -0.02163848839700222, -0.06990599632263184, 0.024882473051548004, -0.027046505361795425, -0.007780606858432293, -0.04394609108567238, 0.004731489811092615, -0.043733201920986176, -0.02197684720158577, -0.026944048702716827, -0.03050621598958969, -0.004197154194116592, 0.03359309583902359, 0.016230495646595955, -0.009168820455670357, -0.023386526852846146, 0.01174619235098362, 0.019259527325630188, -0.022854499518871307, -0.0015071131056174636, 0.025861019268631935, -0.015183019451797009, -0.022767970338463783, 0.030263205990195274, 0.046427398920059204, 0.008935426361858845, 0.04810884967446327, 0.07239784300327301, -0.046580564230680466, 0.008090910501778126, -0.013569105416536331, 0.07180805504322052, 0.0022208529990166426, -0.03989019617438316, -0.018090812489390373, -0.029837386682629585, -0.028904234990477562]\n"
     ]
    }
   ],
   "source": [
    "# Make sure to `pip install openai` first\n",
    "from openai import OpenAI\n",
    "client = OpenAI(base_url=\"http://localhost:1234/v1\", api_key=\"lm-studio\")\n",
    "\n",
    "def get_embedding(text, model=\"model-identifier\"):\n",
    "   text = text.replace(\"\\n\", \" \")\n",
    "   return client.embeddings.create(input = [text], model=model).data[0].embedding\n",
    "\n",
    "print(get_embedding(\"Once upon a time, there was a cat.\"))\n"
   ]
  },
  {
   "cell_type": "code",
   "execution_count": 16,
   "id": "061bfe9f-c11a-4b05-842c-508c2a3fdb17",
   "metadata": {},
   "outputs": [
    {
     "name": "stdout",
     "output_type": "stream",
     "text": [
      "Stopped the server on port 1234.\n"
     ]
    }
   ],
   "source": [
    "!lms server stop"
   ]
  },
  {
   "cell_type": "code",
   "execution_count": null,
   "id": "08416d46-8cd7-4479-812f-9908c0e763eb",
   "metadata": {},
   "outputs": [],
   "source": []
  }
 ],
 "metadata": {
  "kernelspec": {
   "display_name": "Python 3 (ipykernel)",
   "language": "python",
   "name": "python3"
  },
  "language_info": {
   "codemirror_mode": {
    "name": "ipython",
    "version": 3
   },
   "file_extension": ".py",
   "mimetype": "text/x-python",
   "name": "python",
   "nbconvert_exporter": "python",
   "pygments_lexer": "ipython3",
   "version": "3.12.7"
  }
 },
 "nbformat": 4,
 "nbformat_minor": 5
}
