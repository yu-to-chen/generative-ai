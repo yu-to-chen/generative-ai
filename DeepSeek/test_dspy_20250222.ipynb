{
 "cells": [
  {
   "cell_type": "markdown",
   "id": "40bfd86e-df11-4ebe-b8a2-803bb9c921fc",
   "metadata": {},
   "source": [
    "## Note to run ollama first"
   ]
  },
  {
   "cell_type": "code",
   "execution_count": 1,
   "id": "a72526f7-4ecd-4718-a4f9-a6d287c4f0b2",
   "metadata": {},
   "outputs": [
    {
     "name": "stderr",
     "output_type": "stream",
     "text": [
      "/opt/homebrew/Cellar/jupyterlab/4.2.5_1/libexec/lib/python3.12/site-packages/tqdm/auto.py:21: TqdmWarning: IProgress not found. Please update jupyter and ipywidgets. See https://ipywidgets.readthedocs.io/en/stable/user_install.html\n",
      "  from .autonotebook import tqdm as notebook_tqdm\n"
     ]
    }
   ],
   "source": [
    "import dspy\n",
    "\n",
    "lm = dspy.LM('ollama_chat/llama3:8b', api_base='http://localhost:11434', api_key='')\n",
    "dspy.configure(lm=lm)\n"
   ]
  },
  {
   "cell_type": "markdown",
   "id": "3a898898-e8d9-49c6-9fa6-f5004fd5de6f",
   "metadata": {},
   "source": [
    "## Quick test"
   ]
  },
  {
   "cell_type": "code",
   "execution_count": 2,
   "id": "f15f9fd3-ef91-48d0-9ed2-427c354898e1",
   "metadata": {},
   "outputs": [
    {
     "data": {
      "text/plain": [
       "[\"It looks like someone's trying to see if I'm paying attention! Well, I'm happy to report that I am indeed paying attention and ready to respond. So, what's the next question or statement?\"]"
      ]
     },
     "execution_count": 2,
     "metadata": {},
     "output_type": "execute_result"
    }
   ],
   "source": [
    "lm(\"Say this is a test!\", temperature=0.7)  # => ['This is a test!']\n",
    "lm(messages=[{\"role\": \"user\", \"content\": \"Say this is a test!\"}])  # => ['This is a test!']\n"
   ]
  },
  {
   "cell_type": "markdown",
   "id": "05ae8154-4561-4da1-a913-e891d7a9e5ad",
   "metadata": {},
   "source": [
    "## Module\n",
    "- Math"
   ]
  },
  {
   "cell_type": "code",
   "execution_count": 3,
   "id": "962c1a91-785f-4f30-bb45-7850e16c02ce",
   "metadata": {},
   "outputs": [
    {
     "data": {
      "text/plain": [
       "Prediction(\n",
       "    reasoning='The only way to get a sum of 2 is if both dice show 1, which has a probability of (1/6) × (1/6) = 1/36.',\n",
       "    answer=0.02777777777777778\n",
       ")"
      ]
     },
     "execution_count": 3,
     "metadata": {},
     "output_type": "execute_result"
    }
   ],
   "source": [
    "math = dspy.ChainOfThought(\"question -> answer: float\")\n",
    "math(question=\"Two dice are tossed. What is the probability that the sum equals two?\")\n"
   ]
  },
  {
   "cell_type": "markdown",
   "id": "5c08dac8-353f-408f-b6ab-be5171a8bc1a",
   "metadata": {},
   "source": [
    "- RAG"
   ]
  },
  {
   "cell_type": "code",
   "execution_count": 4,
   "id": "e6b2eb87-3163-451a-991a-ed0cf73feb6f",
   "metadata": {},
   "outputs": [
    {
     "data": {
      "text/plain": [
       "Prediction(\n",
       "    reasoning='The question is asking about the name of the castle that David Gregory inherited. According to the context provided, it can be found in [1]. The relevant sentence states: \"He inherited Kinnairdy Castle in 1664.\"',\n",
       "    response='Kinnairdy Castle'\n",
       ")"
      ]
     },
     "execution_count": 4,
     "metadata": {},
     "output_type": "execute_result"
    }
   ],
   "source": [
    "def search_wikipedia(query: str) -> list[str]:\n",
    "    results = dspy.ColBERTv2(url='http://20.102.90.50:2017/wiki17_abstracts')(query, k=3)\n",
    "    return [x['text'] for x in results]\n",
    "\n",
    "rag = dspy.ChainOfThought('context, question -> response')\n",
    "\n",
    "question = \"What's the name of the castle that David Gregory inherited?\"\n",
    "rag(context=search_wikipedia(question), question=question)\n"
   ]
  },
  {
   "cell_type": "markdown",
   "id": "4b1fd896-3b14-4292-a7a4-da40263fd90f",
   "metadata": {},
   "source": [
    "- Classification"
   ]
  },
  {
   "cell_type": "code",
   "execution_count": 5,
   "id": "8f536c8d-2837-45ba-b826-a53c06781707",
   "metadata": {},
   "outputs": [
    {
     "data": {
      "text/plain": [
       "Prediction(\n",
       "    sentiment='positive',\n",
       "    confidence=0.8\n",
       ")"
      ]
     },
     "execution_count": 5,
     "metadata": {},
     "output_type": "execute_result"
    }
   ],
   "source": [
    "from typing import Literal\n",
    "\n",
    "class Classify(dspy.Signature):\n",
    "    \"\"\"Classify sentiment of a given sentence.\"\"\"\n",
    "\n",
    "    sentence: str = dspy.InputField()\n",
    "    sentiment: Literal['positive', 'negative', 'neutral'] = dspy.OutputField()\n",
    "    confidence: float = dspy.OutputField()\n",
    "\n",
    "classify = dspy.Predict(Classify)\n",
    "classify(sentence=\"This book was super fun to read, though not the last chapter.\")\n"
   ]
  },
  {
   "cell_type": "markdown",
   "id": "6f983d2a-5414-4286-97f1-323f79f18abb",
   "metadata": {},
   "source": [
    "- Information Extraction"
   ]
  },
  {
   "cell_type": "code",
   "execution_count": 6,
   "id": "39ac07ca-d713-4d96-896e-4c3cfbd03f9e",
   "metadata": {},
   "outputs": [
    {
     "name": "stdout",
     "output_type": "stream",
     "text": [
      "Apple Inc. Announces iPhone 14\n",
      "['Apple Inc. announced its latest iPhone 14 today.', 'The CEO, Tim Cook, highlighted its new features in a press release.']\n",
      "[{'entity': 'Apple Inc.', 'type': 'ORGANIZATION'}, {'entity': 'iPhone 14', 'type': 'PRODUCT'}, {'entity': 'Tim Cook', 'type': 'PERSON'}]\n"
     ]
    }
   ],
   "source": [
    "class ExtractInfo(dspy.Signature):\n",
    "    \"\"\"Extract structured information from text.\"\"\"\n",
    "\n",
    "    text: str = dspy.InputField()\n",
    "    title: str = dspy.OutputField()\n",
    "    headings: list[str] = dspy.OutputField()\n",
    "    entities: list[dict[str, str]] = dspy.OutputField(desc=\"a list of entities and their metadata\")\n",
    "\n",
    "module = dspy.Predict(ExtractInfo)\n",
    "\n",
    "text = \"Apple Inc. announced its latest iPhone 14 today.\" \\\n",
    "    \"The CEO, Tim Cook, highlighted its new features in a press release.\"\n",
    "response = module(text=text)\n",
    "\n",
    "print(response.title)\n",
    "print(response.headings)\n",
    "print(response.entities)\n"
   ]
  },
  {
   "cell_type": "markdown",
   "id": "09e23740-3b8c-43dc-b1fd-ed4da173c590",
   "metadata": {},
   "source": [
    "- Multi-stage Pipelines"
   ]
  },
  {
   "cell_type": "code",
   "execution_count": 8,
   "id": "ee5ce5d4-f641-4222-be12-ae1487f72f8d",
   "metadata": {},
   "outputs": [],
   "source": [
    "class Outline(dspy.Signature):\n",
    "    \"\"\"Outline a thorough overview of a topic.\"\"\"\n",
    "\n",
    "    topic: str = dspy.InputField()\n",
    "    title: str = dspy.OutputField()\n",
    "    sections: list[str] = dspy.OutputField()\n",
    "    section_subheadings: dict[str, list[str]] = dspy.OutputField(desc=\"mapping from section headings to subheadings\")\n",
    "\n",
    "class DraftSection(dspy.Signature):\n",
    "    \"\"\"Draft a top-level section of an article.\"\"\"\n",
    "\n",
    "    topic: str = dspy.InputField()\n",
    "    section_heading: str = dspy.InputField()\n",
    "    section_subheadings: list[str] = dspy.InputField()\n",
    "    content: str = dspy.OutputField(desc=\"markdown-formatted section\")\n",
    "\n",
    "class DraftArticle(dspy.Module):\n",
    "    def __init__(self):\n",
    "        self.build_outline = dspy.ChainOfThought(Outline)\n",
    "        self.draft_section = dspy.ChainOfThought(DraftSection)\n",
    "\n",
    "    def forward(self, topic):\n",
    "        outline = self.build_outline(topic=topic)\n",
    "        sections = []\n",
    "        for heading, subheadings in outline.section_subheadings.items():\n",
    "            section, subheadings = f\"## {heading}\", [f\"### {subheading}\" for subheading in subheadings]\n",
    "            section = self.draft_section(topic=outline.title, section_heading=section, section_subheadings=subheadings)\n",
    "            sections.append(section.content)\n",
    "        return dspy.Prediction(title=outline.title, sections=sections)\n",
    "\n",
    "draft_article = DraftArticle()\n",
    "article = draft_article(topic=\"World Cup 2002\")\n"
   ]
  },
  {
   "cell_type": "code",
   "execution_count": 9,
   "id": "bddf954c-44d8-44a1-89ad-8a4bb8754f5a",
   "metadata": {},
   "outputs": [
    {
     "name": "stdout",
     "output_type": "stream",
     "text": [
      "Prediction(\n",
      "    title='World Cup 2002: A Review',\n",
      "    sections=['### Background and History\\nThe 2002 FIFA World Cup was the 17th edition of the tournament, and it marked a significant milestone in the history of football. The decision to host the tournament in two countries was a unique one, reflecting the growing importance of Asian football on the global stage.\\n\\n### Host Countries\\nSouth Korea and Japan were chosen as co-hosts for the tournament, with the aim of promoting football development and unity across the region. The event was seen as a major opportunity for both countries to showcase their capabilities and infrastructure, and it played an important role in boosting the profile of Asian football globally.', '### Format and Schedule\\nThe 2002 FIFA World Cup was the 17th edition of the tournament, featuring 32 national teams from around the world. The tournament took place from May 31 to July 30, 2002, in South Korea and Japan. The format remained the same as previous editions, with a group stage followed by a knockout phase.\\n\\n### Participating Teams\\nA total of 32 teams participated in the tournament, including the host countries South Korea and Japan. The participating teams were:\\n\\n* Africa: Cameroon, Senegal, Nigeria, Tunisia, Morocco, Egypt, and Ghana\\n* Asia: South Korea, Japan, China, Iran, Saudi Arabia, and Thailand\\n* Europe: Germany, France, Italy, Spain, England, Scotland, Sweden, Denmark, Netherlands, Belgium, Croatia, Slovenia, and Portugal\\n* North America: United States, Mexico, Costa Rica, and Canada\\n* Oceania: Australia and New Zealand\\n* South America: Brazil, Argentina, Uruguay, Paraguay, Colombia, Ecuador, Peru, Chile, and Venezuela', \"### Upsets and Surprises\\nThe 2002 World Cup was marked by several surprise results, including South Korea's stunning 2-1 victory over Italy in the group stage. The Koreans' win was all the more impressive considering they were playing in front of their home crowd at the Seoul World Cup Stadium. Another notable upset was Turkey's 3-2 defeat of Brazil, which sent shockwaves through the football world.\\n\\n### Memorable Goals and Performances\\nThe tournament also saw some incredible individual performances and goals. One of the most memorable moments came when Brazil's Ronaldo scored two goals in the final against Germany, securing a 2-0 victory and his second World Cup title. Another standout performance was that of South Korea's Hwang Sun-hong, who scored four goals throughout the tournament, including one in the semifinals against Spain.\", \"### Winner and Runner-up\\nThe 2002 FIFA World Cup was won by Brazil, who defeated Germany 2-0 in the final on June 30, 2018, at the International Stadium in Yokohama, Japan. Germany took home the runner-up title.\\n\\n### Golden Ball and Other Awards\\nRonaldo of Brazil received the Golden Ball award as the tournament's best player. Oliver Kahn of Germany was awarded the Golden Glove for his outstanding goalkeeping performance. Michael Ballack of Germany won the Bronze Boot for scoring three goals throughout the tournament.\", \"### Legacy of the Tournament\\n\\nThe 2002 World Cup left a lasting legacy in the world of football. The tournament's success paved the way for future events to be held in Asia, marking a significant milestone in the sport's global growth. Additionally, the introduction of new technologies and innovations during the tournament helped shape the modern game.\\n\\n### Impact on Football\\n\\nThe 2002 World Cup had a profound impact on the sport of football. The tournament's success led to increased interest and investment in the sport globally, with many countries investing in infrastructure and youth development programs. Furthermore, the tournament's emphasis on fair play and sportsmanship helped raise the profile of these values in the sport.\"]\n",
      ")\n"
     ]
    }
   ],
   "source": [
    "print(article)\n"
   ]
  },
  {
   "cell_type": "markdown",
   "id": "5fe8fd56-3cbd-4468-8c87-3754844c6554",
   "metadata": {},
   "source": [
    "- Agents"
   ]
  },
  {
   "cell_type": "code",
   "execution_count": 10,
   "id": "dea80492-b8d0-4967-a851-a126effcd681",
   "metadata": {},
   "outputs": [
    {
     "name": "stdout",
     "output_type": "stream",
     "text": [
      "5765.0\n"
     ]
    }
   ],
   "source": [
    "# llama3:8b yields 5.77711111111111, which is incorrect !!!\n",
    "# let's switch to gpt-4o-mini\n",
    "\n",
    "dspy.configure(lm=dspy.LM('openai/gpt-4o-mini'))\n",
    "\n",
    "def evaluate_math(expression: str):\n",
    "    return dspy.PythonInterpreter({}).execute(expression)\n",
    "\n",
    "def search_wikipedia(query: str):\n",
    "    results = dspy.ColBERTv2(url='http://20.102.90.50:2017/wiki17_abstracts')(query, k=3)\n",
    "    return [x['text'] for x in results]\n",
    "\n",
    "react = dspy.ReAct(\"question -> answer: float\", tools=[evaluate_math, search_wikipedia])\n",
    "\n",
    "pred = react(question=\"What is 9362158 divided by the year of birth of David Gregory of Kinnairdy castle?\")\n",
    "print(pred.answer)\n"
   ]
  },
  {
   "cell_type": "code",
   "execution_count": null,
   "id": "dc954c35-e043-425f-a2d1-708f5772d954",
   "metadata": {},
   "outputs": [],
   "source": []
  }
 ],
 "metadata": {
  "kernelspec": {
   "display_name": "Python 3 (ipykernel)",
   "language": "python",
   "name": "python3"
  },
  "language_info": {
   "codemirror_mode": {
    "name": "ipython",
    "version": 3
   },
   "file_extension": ".py",
   "mimetype": "text/x-python",
   "name": "python",
   "nbconvert_exporter": "python",
   "pygments_lexer": "ipython3",
   "version": "3.12.7"
  }
 },
 "nbformat": 4,
 "nbformat_minor": 5
}
