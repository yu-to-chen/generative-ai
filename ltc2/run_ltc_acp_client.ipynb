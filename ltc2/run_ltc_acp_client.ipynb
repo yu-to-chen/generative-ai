{
 "cells": [
  {
   "cell_type": "code",
   "execution_count": 1,
   "id": "d8d694de-3e4c-4edc-8b22-b3d8c95e9e6f",
   "metadata": {},
   "outputs": [],
   "source": [
    "import nest_asyncio\n",
    "nest_asyncio.apply()"
   ]
  },
  {
   "cell_type": "code",
   "execution_count": 2,
   "id": "6e63cb21-cd02-4af0-a8cc-4693dd988a16",
   "metadata": {},
   "outputs": [],
   "source": [
    "from acp_sdk.client import Client\n",
    "import asyncio\n",
    "from colorama import Fore \n",
    "\n",
    "async def example() -> None:\n",
    "    async with Client(base_url=\"http://localhost:8002\") as client:\n",
    "        run = await client.run_sync(\n",
    "            agent=\"ltc_rag_agent\", \n",
    "            input=\"What are the requirements for long-term care facilities to receive quality improvement incentives?\"\n",
    "        )\n",
    "        print(Fore.YELLOW + run.output[0].parts[0].content + Fore.RESET)\n"
   ]
  },
  {
   "cell_type": "code",
   "execution_count": 3,
   "id": "058016ab-5500-4868-9c18-aaaa07b088bc",
   "metadata": {},
   "outputs": [
    {
     "name": "stdout",
     "output_type": "stream",
     "text": [
      "\u001b[33m申請資格的要求包括：最近一次評鑑合格或乙等以上且在效期內，並依床數規模分類，床數可分為以下五類：<49床、50-75床、76-99床、100-149床和>150床，對應的最高獎勵金額分別為101萬元、150萬元、200萬元、220萬元和240萬元。機構必須選擇緊急災害應變作為必選項，另外需要滿足六項包括個別化支持計畫執行、強化人員管理、加強專業知能、建構照顧資訊系統、智慧輔助照顧科技運用及維護服務對象權益的指標。\u001b[39m\n"
     ]
    }
   ],
   "source": [
    "asyncio.run(example())\n"
   ]
  },
  {
   "cell_type": "code",
   "execution_count": null,
   "id": "e25a0eee-908b-40d1-ba2a-961d46d45219",
   "metadata": {},
   "outputs": [],
   "source": []
  }
 ],
 "metadata": {
  "kernelspec": {
   "display_name": "Python (ltc2)",
   "language": "python",
   "name": "beeai"
  },
  "language_info": {
   "codemirror_mode": {
    "name": "ipython",
    "version": 3
   },
   "file_extension": ".py",
   "mimetype": "text/x-python",
   "name": "python",
   "nbconvert_exporter": "python",
   "pygments_lexer": "ipython3",
   "version": "3.11.13"
  }
 },
 "nbformat": 4,
 "nbformat_minor": 5
}
