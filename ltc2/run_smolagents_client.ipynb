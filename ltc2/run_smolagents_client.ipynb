{
 "cells": [
  {
   "cell_type": "markdown",
   "id": "8f5c8919-36c5-44e8-821c-cf85f962ff68",
   "metadata": {},
   "source": [
    "### For \"CodeAgent(tools=[DuckDuckGoSearchTool(), VisitWebpageTool()]\"\n",
    "- The key is to leverage its ability to search, read, and then act (code)."
   ]
  },
  {
   "cell_type": "code",
   "execution_count": 7,
   "id": "d8d694de-3e4c-4edc-8b22-b3d8c95e9e6f",
   "metadata": {},
   "outputs": [],
   "source": [
    "import nest_asyncio\n",
    "nest_asyncio.apply()"
   ]
  },
  {
   "cell_type": "code",
   "execution_count": 9,
   "id": "6e63cb21-cd02-4af0-a8cc-4693dd988a16",
   "metadata": {},
   "outputs": [],
   "source": [
    "from acp_sdk.client import Client\n",
    "import asyncio\n",
    "from colorama import Fore \n",
    "\n",
    "async def example() -> None:\n",
    "    async with Client(base_url=\"http://localhost:8000\") as client:\n",
    "        run = await client.run_sync(\n",
    "            agent=\"search_visit_agent\", \n",
    "            input=\"Research the top 3 benefits of using facilities for long-term care in Taiwan. Provide a brief summary for each benefit.\"\n",
    "        )\n",
    "        if run.output:\n",
    "            print(Fore.YELLOW + run.output[0].parts[0].content + Fore.RESET)\n",
    "        else:\n",
    "            print(Fore.RED + \"Agent did not return any output.\" + Fore.RESET)\n"
   ]
  },
  {
   "cell_type": "code",
   "execution_count": 10,
   "id": "058016ab-5500-4868-9c18-aaaa07b088bc",
   "metadata": {},
   "outputs": [
    {
     "name": "stdout",
     "output_type": "stream",
     "text": [
      "\u001b[33m{'Comprehensive Care': 'Long-term care facilities provide a wide range of services that meet different health needs, catering to individuals with disabilities, chronic illnesses, or other health concerns. This ensures that residents receive medical, emotional, and social support.', 'Socialization Opportunities': 'Being in a long-term care facility allows residents to interact with others in similar situations, fostering community and support networks, which helps reduce feelings of loneliness and isolation.', 'Professional Staffing': 'Facilities are staffed with trained healthcare professionals who can address medical needs effectively, ensuring high-quality, continuous care to promote rehabilitation and improve the quality of life.'}\u001b[39m\n"
     ]
    }
   ],
   "source": [
    "asyncio.run(example())\n"
   ]
  },
  {
   "cell_type": "code",
   "execution_count": null,
   "id": "e25a0eee-908b-40d1-ba2a-961d46d45219",
   "metadata": {},
   "outputs": [],
   "source": []
  }
 ],
 "metadata": {
  "kernelspec": {
   "display_name": "Python (ltc2)",
   "language": "python",
   "name": "beeai"
  },
  "language_info": {
   "codemirror_mode": {
    "name": "ipython",
    "version": 3
   },
   "file_extension": ".py",
   "mimetype": "text/x-python",
   "name": "python",
   "nbconvert_exporter": "python",
   "pygments_lexer": "ipython3",
   "version": "3.11.13"
  }
 },
 "nbformat": 4,
 "nbformat_minor": 5
}
